{
  "nbformat": 4,
  "nbformat_minor": 0,
  "metadata": {
    "colab": {
      "name": "Question7_A4.ipynb",
      "provenance": [],
      "collapsed_sections": []
    },
    "kernelspec": {
      "name": "python3",
      "display_name": "Python 3"
    },
    "language_info": {
      "name": "python"
    }
  },
  "cells": [
    {
      "cell_type": "code",
      "metadata": {
        "id": "67QUAxub4jcR"
      },
      "source": [
        "import numpy as np"
      ],
      "execution_count": 1,
      "outputs": []
    },
    {
      "cell_type": "markdown",
      "metadata": {
        "id": "ujevPboarqqb"
      },
      "source": [
        "# Input\n",
        "For this question, DH parameters are\n",
        "\n",
        "\n",
        "\n",
        "> \n",
        "\n",
        "\n",
        "![image.png](data:image/png;base64,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)"
      ]
    },
    {
      "cell_type": "code",
      "metadata": {
        "colab": {
          "base_uri": "https://localhost:8080/"
        },
        "id": "aZOGJroS4wMB",
        "outputId": "76471689-0534-4606-ba6f-3bec9a075dd7"
      },
      "source": [
        "matrix=[]\n",
        "\n",
        "n=int(input(\"No. of links: \"))\n",
        "sym=[\"a\",\"alpha\",\"d\",\"theta\"]\n",
        "for i in range(n):\n",
        "  a=[]\n",
        "  for j in range(4):\n",
        "    a.append(float(input(f\"Link-{i+1},{sym[j]} : \")))\n",
        "  matrix.append(a)\n",
        "  print(\"\\n\")\n",
        "matrix"
      ],
      "execution_count": null,
      "outputs": [
        {
          "output_type": "stream",
          "name": "stdout",
          "text": [
            "No. of links: 3\n",
            "Link-1,a : 0\n",
            "Link-1,alpha : 0\n",
            "Link-1,d : 1\n",
            "Link-1,theta : 0\n",
            "\n",
            "\n",
            "Link-2,a : 1\n",
            "Link-2,alpha : 0\n",
            "Link-2,d : 0\n",
            "Link-2,theta : 0\n",
            "\n",
            "\n",
            "Link-3,a : 1\n",
            "Link-3,alpha : 0\n",
            "Link-3,d : 0\n",
            "Link-3,theta : -1.570\n",
            "\n",
            "\n"
          ]
        },
        {
          "output_type": "execute_result",
          "data": {
            "text/plain": [
              "[[0.0, 0.0, 1.0, 0.0], [1.0, 0.0, 0.0, 0.0], [1.0, 0.0, 0.0, -1.57]]"
            ]
          },
          "metadata": {},
          "execution_count": 2
        }
      ]
    },
    {
      "cell_type": "markdown",
      "metadata": {
        "id": "oMgyah8Hrfkc"
      },
      "source": [
        "# D-H Transformation Matrix Function"
      ]
    },
    {
      "cell_type": "code",
      "metadata": {
        "id": "KkE4Dmrv89Dj"
      },
      "source": [
        "def dh(arr):\n",
        "  a=arr[0]\n",
        "  alpha=arr[1]\n",
        "  d=arr[2]\n",
        "  theta = arr[3]\n",
        "\n",
        "  mat = []\n",
        "  b=[np.cos(theta), -np.sin(theta)*np.cos(alpha), np.sin(theta)*np.sin(alpha), a*np.cos(theta)]\n",
        "  mat.append(b)\n",
        "\n",
        "  b=[np.sin(theta), np.cos(theta)*np.cos(alpha), -np.cos(theta)*np.sin(alpha), a*np.sin(theta)]\n",
        "  mat.append(b)\n",
        "\n",
        "  b=[0, np.sin(alpha), np.cos(alpha), d]\n",
        "  mat.append(b)\n",
        "\n",
        "  b=[0,0,0,1]\n",
        "  mat.append(b)\n",
        "\n",
        "  return np.matrix(mat)"
      ],
      "execution_count": null,
      "outputs": []
    },
    {
      "cell_type": "code",
      "metadata": {
        "colab": {
          "base_uri": "https://localhost:8080/"
        },
        "id": "kTkjnUFk9sHf",
        "outputId": "c235794f-1037-44b4-d0e9-442dd55ac707"
      },
      "source": [
        "dh(matrix[1])"
      ],
      "execution_count": null,
      "outputs": [
        {
          "output_type": "execute_result",
          "data": {
            "text/plain": [
              "matrix([[ 1., -0.,  0.,  1.],\n",
              "        [ 0.,  1., -0.,  0.],\n",
              "        [ 0.,  0.,  1.,  0.],\n",
              "        [ 0.,  0.,  0.,  1.]])"
            ]
          },
          "metadata": {},
          "execution_count": 4
        }
      ]
    },
    {
      "cell_type": "markdown",
      "metadata": {
        "id": "rgs32DmJrYPR"
      },
      "source": [
        "#Transformation Matrix"
      ]
    },
    {
      "cell_type": "code",
      "metadata": {
        "colab": {
          "base_uri": "https://localhost:8080/"
        },
        "id": "Yl7P0j8-BjH6",
        "outputId": "e6b53264-f81b-45b5-c2d6-f808b88dc0f1"
      },
      "source": [
        "T = np.identity(4)\n",
        "Tmat = []\n",
        "for i in range(n):\n",
        "  T=np.matmul(T,dh(matrix[i]))\n",
        "  Tmat.append(T)\n",
        "print(f\"Transformation Matrix (0-{n}) : \\n\\n{T}\")"
      ],
      "execution_count": null,
      "outputs": [
        {
          "output_type": "stream",
          "name": "stdout",
          "text": [
            "Transformation Matrix (0-3) : \n",
            "\n",
            "[[ 7.96326711e-04  9.99999683e-01  0.00000000e+00  1.00079633e+00]\n",
            " [-9.99999683e-01  7.96326711e-04  0.00000000e+00 -9.99999683e-01]\n",
            " [ 0.00000000e+00  0.00000000e+00  1.00000000e+00  1.00000000e+00]\n",
            " [ 0.00000000e+00  0.00000000e+00  0.00000000e+00  1.00000000e+00]]\n"
          ]
        }
      ]
    },
    {
      "cell_type": "markdown",
      "metadata": {
        "id": "SCorYqQSrR8O"
      },
      "source": [
        "#End effector Position"
      ]
    },
    {
      "cell_type": "code",
      "metadata": {
        "colab": {
          "base_uri": "https://localhost:8080/"
        },
        "id": "uYlABU57CtgQ",
        "outputId": "7de27d6e-7ded-497f-99fe-6014e09ff7a6"
      },
      "source": [
        "pos6=np.matrix([0,0,0,1])\n",
        "Pos = np.matmul(Tmat[-1],pos6.T)\n",
        "print(f\"Position (0): \\n\\n{Pos[:3]}\")\n"
      ],
      "execution_count": null,
      "outputs": [
        {
          "output_type": "stream",
          "name": "stdout",
          "text": [
            "Position (0): \n",
            "\n",
            "[[ 1.00079633]\n",
            " [-0.99999968]\n",
            " [ 1.        ]]\n"
          ]
        }
      ]
    },
    {
      "cell_type": "markdown",
      "metadata": {
        "id": "FA-uxS2dB4yc"
      },
      "source": [
        "# Determining Z-axes and origins for each Joint"
      ]
    },
    {
      "cell_type": "code",
      "metadata": {
        "colab": {
          "base_uri": "https://localhost:8080/"
        },
        "id": "tXc4Ezq4By6J",
        "outputId": "3db7a7f5-77ea-4ccd-dd3c-584bac411f80"
      },
      "source": [
        "z=[]\n",
        "z.append(np.matrix([0,0,1]).T)\n",
        "\n",
        "p=[]\n",
        "p.append(np.matrix([0,0,0]).T)\n",
        "\n",
        "for a in Tmat:\n",
        "  z.append(a[:3,2])\n",
        "  p.append(a[:3,3])\n",
        "p"
      ],
      "execution_count": null,
      "outputs": [
        {
          "output_type": "execute_result",
          "data": {
            "text/plain": [
              "[matrix([[0],\n",
              "         [0],\n",
              "         [0]]), matrix([[0.],\n",
              "         [0.],\n",
              "         [1.]]), matrix([[1.],\n",
              "         [0.],\n",
              "         [1.]]), matrix([[ 1.00079633],\n",
              "         [-0.99999968],\n",
              "         [ 1.        ]])]"
            ]
          },
          "metadata": {},
          "execution_count": 7
        }
      ]
    },
    {
      "cell_type": "markdown",
      "metadata": {
        "id": "yMTkapO1FM4X"
      },
      "source": [
        "# Jecobian Matrix\n",
        "Only for PPP configuration"
      ]
    },
    {
      "cell_type": "code",
      "metadata": {
        "colab": {
          "base_uri": "https://localhost:8080/"
        },
        "id": "sBtTLOovC2m8",
        "outputId": "cc6847b2-b332-4a20-9a74-cda8c39926a9"
      },
      "source": [
        "zero = np.matrix([0,0,0])\n",
        "J = np.concatenate((z[0],zero.T),axis=0)\n",
        "\n",
        "for i in range (1,len(z)-1):\n",
        "  x = np.concatenate((z[i],zero.T),axis=0)\n",
        "  J = np.concatenate((J,x),axis=1)\n",
        "print(f\"Jecobian Matrix :\\n\\n{J}\")"
      ],
      "execution_count": null,
      "outputs": [
        {
          "output_type": "stream",
          "name": "stdout",
          "text": [
            "Jecobian Matrix :\n",
            "\n",
            "[[0. 0. 0.]\n",
            " [0. 0. 0.]\n",
            " [1. 1. 1.]\n",
            " [0. 0. 0.]\n",
            " [0. 0. 0.]\n",
            " [0. 0. 0.]]\n"
          ]
        }
      ]
    },
    {
      "cell_type": "markdown",
      "metadata": {
        "id": "8IQALm0qL9BG"
      },
      "source": [
        "# Question 8\n",
        "The inverse kinematics of the PPP Manipulator is quite simple. The only joint parameters are extainsion of the prismatic joints. So, the co-ordinates of the end effector are equal to the extainsions in the prismatic joints. Hence it is also called as cartesian manipulator.\n",
        "\n",
        "![image.png](data:image/png;base64,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)"
      ]
    }
  ]
}