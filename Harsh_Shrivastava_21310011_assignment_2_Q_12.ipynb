{
  "nbformat": 4,
  "nbformat_minor": 0,
  "metadata": {
    "colab": {
      "name": "Harsh Shrivastava-21310011-assignment_2_Q_12.ipynb",
      "provenance": [],
      "collapsed_sections": []
    },
    "kernelspec": {
      "name": "python3",
      "display_name": "Python 3"
    },
    "language_info": {
      "name": "python"
    }
  },
  "cells": [
    {
      "cell_type": "markdown",
      "metadata": {
        "id": "U-7oKFiR2sxC"
      },
      "source": [
        "##Assignment 2"
      ]
    },
    {
      "cell_type": "code",
      "metadata": {
        "id": "It0vMg6q2gtF"
      },
      "source": [
        "Q. 12\n",
        "# finding jacobian\n",
        "l1 = 0.5\n",
        "l2 = 0.8\n",
        "l3 = 0.2\n",
        "theta_1= 60*(np.pi/180)\n",
        "theta_2=45*(np.pi/180)\n",
        "\n",
        "r01 = np.array([[np.cos(theta_1), 0, np.sin(theta_1)],\n",
        "                [np.sin(theta_1), 0, -1*np.cos(theta_1)],\n",
        "                [0, 1, 0]])\n",
        "r12 = np.array([[np.cos(theta_2), -1*np.sin(theta_2), 0],\n",
        "                [np.sin(theta_2), np.cos(theta_2), 0],\n",
        "                [0, 0, 1]])\n",
        "\n",
        "r02 = np.dot(r01, r12)\n",
        "\n",
        "d00 = np.zeros((1,3))\n",
        "d01 = np.array([0,0,l1])\n",
        "\n",
        "d03 = np.array([l3*np.cos(theta_1+theta_2)+l2*np.cos(theta_1),l3*np.sin(theta_1+theta_2)+l2*np.sin(theta_1),l1])\n",
        "m = np.array([0,0,1])\n",
        "\n",
        "print(np.dot(r01,m).dot(d03-d01))\n",
        "j = np.array([[m.dot(d03-d00), np.dot(r01,m).dot(d03-d01), np.dot(r02,m)],\n",
        "              [m, np.dot(r01,m), np.array([[0],[0],[0]])]])\n",
        "print(j)\n"
      ],
      "execution_count": null,
      "outputs": []
    }
  ]
}