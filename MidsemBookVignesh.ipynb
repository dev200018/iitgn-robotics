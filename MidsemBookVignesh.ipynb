{
  "nbformat": 4,
  "nbformat_minor": 0,
  "metadata": {
    "colab": {
      "name": "MidsemBookVignesh.ipynb",
      "provenance": [],
      "collapsed_sections": [],
      "mount_file_id": "1kSTCh34Q3XluhfkVTFm0_XKe6-LU_hhw",
      "authorship_tag": "ABX9TyOm32HQKewzIufjeGAkhLg/",
      "include_colab_link": true
    },
    "kernelspec": {
      "name": "python3",
      "display_name": "Python 3"
    },
    "language_info": {
      "name": "python"
    }
  },
  "cells": [
    {
      "cell_type": "markdown",
      "metadata": {
        "id": "view-in-github",
        "colab_type": "text"
      },
      "source": [
        "<a href=\"https://colab.research.google.com/github/IntrovertInDisguise/iitgn-robotics/blob/main/MidsemBookVignesh.ipynb\" target=\"_parent\"><img src=\"https://colab.research.google.com/assets/colab-badge.svg\" alt=\"Open In Colab\"/></a>"
      ]
    },
    {
      "cell_type": "code",
      "metadata": {
        "id": "3nKJ0oek-MtY"
      },
      "source": [
        "#Vignesh Ramakrishnan\n",
        "#21310037\n",
        "#Importing libraries\n",
        "%matplotlib inline\n",
        "import numpy as np\n",
        "import matplotlib.pyplot as plt\n",
        "import scipy.integrate as integrate \n",
        "import matplotlib.animation as animation\n",
        "from matplotlib.animation import FuncAnimation\n",
        "from matplotlib import rc\n",
        "from IPython.display import HTML\n",
        "from numpy import sin, cos,arctan,arccos\n",
        "from collections import deque"
      ],
      "execution_count": 2,
      "outputs": []
    },
    {
      "cell_type": "code",
      "metadata": {
        "id": "2s--HESbLLt0",
        "colab": {
          "base_uri": "https://localhost:8080/"
        },
        "outputId": "4b0b65be-754e-4bdf-c794-1ebae6a38970"
      },
      "source": [
        "\n",
        "#Rotational matrix along x\n",
        "def RotX(theta):\n",
        "  theta=np.radians(theta)\n",
        "  return np.array([[1,0,0,0],[0,np.cos(theta),-np.sin(theta),0],[0,np.sin(theta),np.cos(theta),0],[0,0,0,1]])\n",
        "\n",
        "\n",
        "#Rotational matrix along y\n",
        "def RotY(theta):\n",
        "  theta=np.radians(theta)\n",
        "  return np.array([[np.cos(theta),0,-np.sin(theta),0],[0,1,0,0],[np.sin(theta),0,np.cos(theta),0],[0,0,0,1]])\n",
        "\n",
        "\n",
        "#Rotational matrix along z\n",
        "def RotZ(theta):\n",
        "  theta=np.radians(theta)\n",
        "  return np.array([[np.cos(theta),-np.sin(theta),0,0],[np.sin(theta),np.cos(theta),0,0],[0,0,1,0],[0,0,0,1]])\n",
        "\n",
        "\n",
        "#Translational matrix along x\n",
        "def TransX(dist):\n",
        "  return np.array([[1,0,0,dist],[0,1,0,0],[0,0,1,0],[0,0,0,1]])\n",
        "\n",
        "#Translational matrix along y\n",
        "def TransY(dist):\n",
        "  return np.array([[1,0,0,0],[0,1,0,dist],[0,0,1,0],[0,0,0,1]])\n",
        "\n",
        "#Translational matrix along z\n",
        "def TransZ(dist):\n",
        "  return np.array([[1,0,0,0],[0,1,0,0],[0,0,1,dist],[0,0,0,1]])\n",
        " \n",
        "#[d,theta,a,alpha]\n",
        "def AFromDHVals(DH):\n",
        "  n=np.shape(DH)[0] #From repo, only this index\n",
        "  A=np.identity(4)\n",
        "  for i in range(n):\n",
        "    Anext=TransZ(DH[i][0]) @ RotZ(DH [i][1]) @ RotX(DH [i][3]) @ TransX(DH[i][2]) \n",
        "    A=np.matmul(A,Anext)\n",
        "  return A\n",
        "#DH=[[0,90,1,0],[0,45,1,0]]\n",
        "#print(AFromDHVals(DH))\n",
        "\n"
      ],
      "execution_count": 17,
      "outputs": [
        {
          "output_type": "stream",
          "name": "stdout",
          "text": [
            "[[-0.70710678 -0.70710678  0.         -0.70710678]\n",
            " [ 0.70710678 -0.70710678  0.          1.70710678]\n",
            " [ 0.          0.          1.          0.        ]\n",
            " [ 0.          0.          0.          1.        ]]\n"
          ]
        }
      ]
    },
    {
      "cell_type": "code",
      "metadata": {
        "id": "YU-H7OLfpw-s",
        "colab": {
          "base_uri": "https://localhost:8080/"
        },
        "outputId": "3a440923-7459-4e46-8a41-e6e3cd580fbd"
      },
      "source": [
        "#Repository Jacobian1\n",
        "\n",
        "import numpy as np\n",
        "import sys\n",
        "import sympy as sym\n",
        "\n",
        "class manipulator():\n",
        "\n",
        "  def __init__(self, no_of_links, type_of_joints, dh_params):\n",
        "    super().__init__()\n",
        "    self.no_of_links = no_of_links\n",
        "    self.type_of_joints = list(type_of_joints)\n",
        "    self.dh_params = dh_params\n",
        "    if len(self.dh_params) != self.no_of_links:\n",
        "      print(\"ERROR: Please make sure the number of rows in the DH parameters provided is equal to the number of links.\")\n",
        "      sys.exit()\n",
        "    self.dh_matrices = []\n",
        "    for i in range(0, self.no_of_links):    \n",
        "      temp = self.dh_params[i]\n",
        "      theta = temp[0]\n",
        "      d = temp[1]\n",
        "      a = temp[2]\n",
        "      alpha = temp[3]\n",
        "      A1 = np.array([[np.cos(theta), -np.sin(theta), 0, 0],[np.sin(theta), np.cos(theta), 0, 0],[0, 0, 1, 0],[0, 0, 0, 1]])\n",
        "      A2 = np.array([[1, 0, 0, 0],[0, 1, 0, 0],[0, 0, 1, d],[0, 0, 0, 1]])\n",
        "      A3 = np.array([[1, 0, 0, a],[0, 1, 0, 0],[0, 0, 1, 0],[0, 0, 0, 1]])\n",
        "      A4 = np.array([[1, 0, 0, 0],[0, np.cos(alpha), -np.sin(alpha), 0],[0, np.sin(alpha), np.cos(alpha), 0],[0, 0, 0, 1]])\n",
        "      A_final = A1@A2@A3@A4\n",
        "      self.dh_matrices.append(A_final)\n",
        "    self.dh_matrices = np.array(self.dh_matrices)\n",
        "\n",
        "    self.transform_matrices = []\n",
        "    self.rotation_matrices = []\n",
        "\n",
        "    for i in range(1, self.no_of_links+1):\n",
        "      temp = self.dh_matrices[0]\n",
        "      for j in range(1, i):\n",
        "        temp = temp@self.dh_matrices[j]\n",
        "      rot_temp = temp\n",
        "      rot_temp = np.delete(rot_temp, (3), axis = 0)\n",
        "      rot_temp = np.delete(rot_temp, (3), axis = 1)\n",
        "      self.transform_matrices.append(temp)\n",
        "      self.rotation_matrices.append(rot_temp)\n",
        "\n",
        "    self.transform_matrices = np.array(self.transform_matrices)\n",
        "    self.rotation_matrices = np.array(self.rotation_matrices)\n",
        "\n",
        "    self.end_effector_posn = np.delete(self.transform_matrices[len(self.transform_matrices)-1]@np.array([[0],[0],[0],[1]]), (3), axis = 0)\n",
        "\n",
        "    self.z = []\n",
        "    self.origins = []\n",
        "    self.z.append(np.array([[0],[0],[1]]))\n",
        "    self.origins.append(np.array([[0],[0],[0]]))\n",
        "\n",
        "    for i in range(0, self.no_of_links):\n",
        "      temp_z = self.rotation_matrices[i]@np.array([[0],[0],[1]])\n",
        "      self.z.append(temp_z)\n",
        "      temp_origin = self.transform_matrices[i]@np.array([[0],[0],[0],[1]])\n",
        "      temp_origin = np.delete(temp_origin, (3), axis = 0)\n",
        "      self.origins.append(temp_origin)\n",
        "    \n",
        "    self.z = np.array(self.z)\n",
        "    self.origins = np.array(self.origins)  \n",
        "    self.jacobian = []\n",
        "    for i in range(0,self.no_of_links):\n",
        "      if self.type_of_joints[i] == \"R\":\n",
        "        temp_1 = np.cross(self.z[i], self.end_effector_posn-self.origins[i], axis = 0)\n",
        "        temp_2 = self.z[i]\n",
        "      if self.type_of_joints[i] == \"P\":\n",
        "        temp_1 = self.z[i]\n",
        "        temp_2 = np.array([[0],[0],[0]])\n",
        "      temp_jacobian = np.vstack((temp_1, temp_2))\n",
        "      self.jacobian.append(temp_jacobian)\n",
        "    self.jacobian = np.array(self.jacobian)\n",
        "    self.jacobian = self.jacobian.reshape((self.no_of_links,6))\n",
        "    self.jacobian = np.transpose(self.jacobian)\n",
        "    self.Jv = np.delete(self.jacobian,(3,4,5), axis = 0)\n",
        "\n",
        "    print(\"End Effector Position:\")\n",
        "    print(self.end_effector_posn)\n",
        "    print(\"Manipulator Jacobian:\")\n",
        "    print(self.jacobian)\n",
        "    print(\"Velocity Jacobian (can be multiplied with qdot to obtain end-effector velocity):\")\n",
        "    print(self.Jv)\n",
        "\n",
        "my_robot = manipulator(3, \"RRR\", [[np.pi/3,0,1,0],[0,0,0,np.pi/2],[0,0,0,np.pi/2]])\n",
        "print(\"STANFORD MANIPULATOR:\")\n",
        "stanford_manipulator = manipulator(3, \"RRP\", [[0,0,0,-np.pi/2],[0,2,0,np.pi/2],[0,2,0,0]])\n",
        "print(\"SCARA MANIPULATOR:\")\n",
        "SCARA = manipulator(3, \"RRP\", [[0,0,2,0],[0,0,2,np.pi],[0,2,0,0]])\n",
        "print(\"PPP MANIPULATOR:\")\n",
        "PPP = manipulator(3, \"PPP\", [[0,1,0,-np.pi/2],[-np.pi/2,2,0,-np.pi/2],[0,3,0,0]])\n",
        "print(\"6R MANIPULATOR:\")\n",
        "R6 = manipulator(6, \"RRRRRR\", [[np.pi/2,1,0,-np.pi/2],[0,0,1,0],[0,0,1,np.pi/2],[0,0,0,np.pi/2],[0,0,0,-np.pi/2],[0,1,0,0]])"
      ],
      "execution_count": 129,
      "outputs": [
        {
          "output_type": "stream",
          "name": "stdout",
          "text": [
            "End Effector Position:\n",
            "[[0.5      ]\n",
            " [0.8660254]\n",
            " [0.       ]]\n",
            "Manipulator Jacobian:\n",
            "[[-8.66025404e-01  0.00000000e+00 -0.00000000e+00]\n",
            " [ 5.00000000e-01  0.00000000e+00  0.00000000e+00]\n",
            " [ 0.00000000e+00  0.00000000e+00  0.00000000e+00]\n",
            " [ 0.00000000e+00  0.00000000e+00  8.66025404e-01]\n",
            " [ 0.00000000e+00  0.00000000e+00 -5.00000000e-01]\n",
            " [ 1.00000000e+00  1.00000000e+00  6.12323400e-17]]\n",
            "Velocity Jacobian (can be multiplied with qdot to obtain end-effector velocity):\n",
            "[[-0.8660254  0.        -0.       ]\n",
            " [ 0.5        0.         0.       ]\n",
            " [ 0.         0.         0.       ]]\n",
            "STANFORD MANIPULATOR:\n",
            "End Effector Position:\n",
            "[[0.]\n",
            " [2.]\n",
            " [2.]]\n",
            "Manipulator Jacobian:\n",
            "[[-2.000000e+00  2.000000e+00  0.000000e+00]\n",
            " [ 0.000000e+00  0.000000e+00  0.000000e+00]\n",
            " [ 0.000000e+00  0.000000e+00  1.000000e+00]\n",
            " [ 0.000000e+00  0.000000e+00  0.000000e+00]\n",
            " [ 0.000000e+00  1.000000e+00  0.000000e+00]\n",
            " [ 1.000000e+00  6.123234e-17  0.000000e+00]]\n",
            "Velocity Jacobian (can be multiplied with qdot to obtain end-effector velocity):\n",
            "[[-2.  2.  0.]\n",
            " [ 0.  0.  0.]\n",
            " [ 0.  0.  1.]]\n",
            "SCARA MANIPULATOR:\n",
            "End Effector Position:\n",
            "[[ 4.0000000e+00]\n",
            " [-2.4492936e-16]\n",
            " [-2.0000000e+00]]\n",
            "Manipulator Jacobian:\n",
            "[[ 2.4492936e-16  2.4492936e-16  0.0000000e+00]\n",
            " [ 4.0000000e+00  2.0000000e+00 -1.2246468e-16]\n",
            " [-0.0000000e+00 -0.0000000e+00 -1.0000000e+00]\n",
            " [ 0.0000000e+00  0.0000000e+00  0.0000000e+00]\n",
            " [ 0.0000000e+00  0.0000000e+00  0.0000000e+00]\n",
            " [ 1.0000000e+00  1.0000000e+00  0.0000000e+00]]\n",
            "Velocity Jacobian (can be multiplied with qdot to obtain end-effector velocity):\n",
            "[[ 2.4492936e-16  2.4492936e-16  0.0000000e+00]\n",
            " [ 4.0000000e+00  2.0000000e+00 -1.2246468e-16]\n",
            " [-0.0000000e+00 -0.0000000e+00 -1.0000000e+00]]\n",
            "PPP MANIPULATOR:\n",
            "End Effector Position:\n",
            "[[3.]\n",
            " [2.]\n",
            " [1.]]\n",
            "Manipulator Jacobian:\n",
            "[[ 0.000000e+00  0.000000e+00  1.000000e+00]\n",
            " [ 0.000000e+00  1.000000e+00  6.123234e-17]\n",
            " [ 1.000000e+00  6.123234e-17 -6.123234e-17]\n",
            " [ 0.000000e+00  0.000000e+00  0.000000e+00]\n",
            " [ 0.000000e+00  0.000000e+00  0.000000e+00]\n",
            " [ 0.000000e+00  0.000000e+00  0.000000e+00]]\n",
            "Velocity Jacobian (can be multiplied with qdot to obtain end-effector velocity):\n",
            "[[ 0.000000e+00  0.000000e+00  1.000000e+00]\n",
            " [ 0.000000e+00  1.000000e+00  6.123234e-17]\n",
            " [ 1.000000e+00  6.123234e-17 -6.123234e-17]]\n",
            "6R MANIPULATOR:\n",
            "End Effector Position:\n",
            "[[1.2246468e-16]\n",
            " [2.0000000e+00]\n",
            " [2.0000000e+00]]\n",
            "Manipulator Jacobian:\n",
            "[[-2.00000000e+00 -6.12323400e-17  0.00000000e+00  1.50403894e-49\n",
            "  -6.12323400e-17 -1.50403894e-49]\n",
            " [ 1.22464680e-16  1.00000000e+00  1.00000000e+00  0.00000000e+00\n",
            "  -1.00000000e+00  0.00000000e+00]\n",
            " [ 0.00000000e+00 -2.00000000e+00 -1.00000000e+00  0.00000000e+00\n",
            "   0.00000000e+00  0.00000000e+00]\n",
            " [ 0.00000000e+00 -1.00000000e+00 -1.00000000e+00  0.00000000e+00\n",
            "   1.00000000e+00  0.00000000e+00]\n",
            " [ 0.00000000e+00  6.12323400e-17  6.12323400e-17  1.50403894e-49\n",
            "  -6.12323400e-17 -1.50403894e-49]\n",
            " [ 1.00000000e+00  6.12323400e-17  6.12323400e-17  1.00000000e+00\n",
            "   6.12323400e-17  1.00000000e+00]]\n",
            "Velocity Jacobian (can be multiplied with qdot to obtain end-effector velocity):\n",
            "[[-2.00000000e+00 -6.12323400e-17  0.00000000e+00  1.50403894e-49\n",
            "  -6.12323400e-17 -1.50403894e-49]\n",
            " [ 1.22464680e-16  1.00000000e+00  1.00000000e+00  0.00000000e+00\n",
            "  -1.00000000e+00  0.00000000e+00]\n",
            " [ 0.00000000e+00 -2.00000000e+00 -1.00000000e+00  0.00000000e+00\n",
            "   0.00000000e+00  0.00000000e+00]]\n"
          ]
        }
      ]
    },
    {
      "cell_type": "markdown",
      "metadata": {
        "id": "Qd2V7wFWyR6D"
      },
      "source": [
        "# Task 1: Milacron manifold block inspection"
      ]
    },
    {
      "cell_type": "code",
      "metadata": {
        "id": "3AQsiCLR26Il"
      },
      "source": [
        "Linklengths=[0.25,0.25,0.25]\n",
        "Linkmasses=[0.8,0.8,0.8]\n",
        "Amax=[0.45,0.075,0.1]\n",
        "Bmax=[0.45,-0.075,0.1]\n",
        "Cmax=[0.25,0.075,0.1]\n",
        "Dmax=[0.25,-0.075,0.1]"
      ],
      "execution_count": 87,
      "outputs": []
    },
    {
      "cell_type": "markdown",
      "metadata": {
        "id": "-UTsCzloyjOL"
      },
      "source": [
        "#### Robot 1: Stanford type(RRP)\n"
      ]
    },
    {
      "cell_type": "code",
      "metadata": {
        "id": "Of_R3LwFtOfP"
      },
      "source": [
        "#Forward Kinematics i.e. end effector positions from joint positions\n",
        "def For_Pos_Kin_Stanford(jointloc,lengthsoflinks):\n",
        "  theta1,theta2,dz3=jointloc[0],jointloc[1],jointloc[2]\n",
        "  d1,d2,d3=lengthsoflinks[0],lengthsoflinks[1],lengthsoflinks[2]\n",
        "  DH=[[d1,theta1,0,-90],[d2,theta2,0,90],[-dz3,0,0,0]]  \n",
        "  P0=np.array([0,0,dz3-d1,1])\n",
        "  A=AFromDHVals(DH)\n",
        "  return A @ P0\n"
      ],
      "execution_count": 142,
      "outputs": []
    },
    {
      "cell_type": "code",
      "metadata": {
        "id": "cG-ZvOWQYLOl"
      },
      "source": [
        "def For_Pos_Kin_Stanford_NoDH(jointloc,lengthsoflinks):\n",
        "  theta1,theta2,dy2=jointloc[0],jointloc[1],jointloc[2]\n",
        "  l1,l2,l3=lengthsoflinks[0],lengthsoflinks[1],lengthsoflinks[2]\n",
        "  P2mat = np.transpose(np.array([0,dy2,0,1]))\n",
        "  P1mat=((RotX(theta2) @ TransX(-l2)) @ P2mat)\n",
        "  P0mat=((RotZ(theta1) @ TransZ(l1)) @ P1mat)\n",
        "  return P0mat"
      ],
      "execution_count": 148,
      "outputs": []
    },
    {
      "cell_type": "code",
      "metadata": {
        "colab": {
          "base_uri": "https://localhost:8080/"
        },
        "id": "A_lI0Xw6Kq5r",
        "outputId": "5f2308a9-1bf7-4399-a7c8-be188b58e14a"
      },
      "source": [
        "\n",
        "#inverse kinematics i.e. joint positions from endeffector positions: My Code\n",
        "def Inv_Pos_Kin_Stanford(P0,lengthsoflinks):\n",
        "  P_x=P0[0]\n",
        "  P_y=P0[1]\n",
        "  P_z=P0[2]\n",
        "  l_1,l_2=lengthsoflinks[0],lengthsoflinks[1]\n",
        "  r= ((P_x**2) + (P_y**2))**0.5 #revolute link radius\n",
        "  phi= np.arctan2(P_y,P_x) # revolute link angle\n",
        " \n",
        "  theta_1=np.arctan2(P_x,P_y)- np.arctan2(l_2,((r**2)-(l_2**2))**0.5 ) # theta_1=np.arctan2(P_x,P_y)- np.arctan2(l_2,-((r**2)-(l_2**2))**0.5 ) # also valid\n",
        "\n",
        "  \n",
        "  theta_1_v2=np.arctan2(P_x,P_y)- np.arctan2(l_2,-((r**2)-(l_2**2))**0.5 )\n",
        "    \n",
        "\n",
        "  l_hor=((P_x*np.cos(theta_1))+(P_y*np.sin(theta_1))) #Horizontal position of joint 2\n",
        "  l_vert=l_1-P_z #Vertical position of joint 2\n",
        "\n",
        "\n",
        "\n",
        "  theta_2=np.arctan2(l_hor,l_vert) #  theta_2=np.arctan2(-l_hor,-l_vert) #also valid\n",
        "\n",
        "  #if theta_2 < 0 :\n",
        "  theta_2_v2=np.arctan2(-l_hor,-l_vert)\n",
        "  \n",
        "  d_3= (l_hor* np.sin(theta_2))+(l_vert* np.cos(theta_2))\n",
        "  return [[np.degrees(theta_1),np.degrees(theta_2),d_3],[np.degrees(theta_1_v2),np.degrees(theta_2_v2),d_3]]\n",
        "\n",
        "\n",
        "\n",
        "jointloc=Inv_Pos_Kin_Stanford(Amax,Linklengths)\n",
        "print(jointloc)\n",
        "print(For_Pos_Kin_Stanford(jointloc[1],Linklengths))\n"
      ],
      "execution_count": 117,
      "outputs": [
        {
          "output_type": "stream",
          "name": "stdout",
          "text": [
            "[[47.30799649413152, 67.3943310604584, 0.3902320599631367], [-66.23264091018274, -112.6056689395416, 0.3902320599631367]]\n",
            "[ 0.32181249 -0.11046336  0.34609667  1.        ]\n"
          ]
        }
      ]
    },
    {
      "cell_type": "code",
      "metadata": {
        "colab": {
          "base_uri": "https://localhost:8080/"
        },
        "id": "NyuZEnmOHrB5",
        "outputId": "3dbd6f70-f5f7-4ebb-d75a-0a6e37a16d74"
      },
      "source": [
        " #From Repository\n",
        "def invKinStanford_RepoCode(endeffector_position,lengthsoflinks):\n",
        "    theta1 = np.arctan(endeffector_position[1]/endeffector_position[0])\n",
        "    r = np.sqrt(endeffector_position[0]**2 + endeffector_position[1]**2)\n",
        "    s = endeffector_position[2] - lengthsoflinks[0]\n",
        "    theta2 = np.arctan(s/r)\n",
        "    d3 = np.sqrt(r**2 + s**2) - lengthsoflinks[1]\n",
        "    #print(\"First Solution: \\n\", \"Theta1 = \", theta1, \"\\n Theta2 =\", theta2,\"\\n Extension: \", d3, \"\\n\")\n",
        "    #print(\"Second Solution: \\n\", \"Theta1 = \", np.pi + theta1, \"\\n Theta2 =\", np.pi - theta2,\"\\n Extension:\", d3)\n",
        "    return [[theta1,theta2,d3],[np.pi + theta1,np.pi - theta2,d3]]\n",
        "          \n",
        "\n",
        "inverse_kinematics([30,30,30],[10,10])"
      ],
      "execution_count": 125,
      "outputs": [
        {
          "output_type": "execute_result",
          "data": {
            "text/plain": [
              "array([[ 45.        ,  25.23940182,  36.9041576 ],\n",
              "       [225.        , 154.76059818,  36.9041576 ]])"
            ]
          },
          "metadata": {},
          "execution_count": 125
        }
      ]
    },
    {
      "cell_type": "markdown",
      "metadata": {
        "id": "WlDjFV180ZZC"
      },
      "source": [
        "#### Robot 2: PUMA type(RRR)"
      ]
    },
    {
      "cell_type": "code",
      "metadata": {
        "id": "Gu3GGXSCnejW"
      },
      "source": [
        "#Forward Kinematics i.e. end effector positions from joint positions\n",
        "def For_Pos_Kin_PUMA(jointloc,lengthsoflinks):\n",
        "  theta1,theta2,theta3=jointloc[0],jointloc[1],jointloc[2]\n",
        "  d1,d2,d3=lengthsoflinks[0],lengthsoflinks[1],lengthsoflinks[2]\n",
        "  DH=[[d1,theta1,d2,0],[,theta2,0,90],[-dz3,0,0,0]]\n",
        "  P0=np.array([0,0,d1-dz3,1])\n",
        "  A=AFromDHVals(DH)\n",
        "  return A @ P0"
      ],
      "execution_count": null,
      "outputs": []
    },
    {
      "cell_type": "code",
      "metadata": {
        "colab": {
          "base_uri": "https://localhost:8080/"
        },
        "id": "OxvduHxznewZ",
        "outputId": "5f8e7917-7310-457f-e6cd-24b30783e034"
      },
      "source": [
        " def Inv_Pos_Kin_PUMA(P0,lengthsoflinks):\n",
        "   xc,yc,zc=P0[0],P0[1],P0[2]\n",
        "   l1,l2,l3=lengthsoflinks[0],lengthsoflinks[1],lengthsoflinks[2]\n",
        "   theta1 = np.rad2deg(np.arctan2(yc,xc))\n",
        "   D = (xc*xc+yc*yc+(l1-zc)*(l1-zc)-l2*l2-l3*l3)/(2*l2*l3)\n",
        "   if D>=1 or D<=-1:\n",
        "     print(\"singular configuration\")\n",
        "   if D>1 or D<-1:\n",
        "     print(\"outside workspace\")\n",
        "   theta3 = (np.arctan2((-np.sqrt(1-D*D)),D))\n",
        "   theta2 = np.rad2deg(np.arctan2(zc-l1,(np.sqrt(xc*xc+yc*yc)))-np.arctan2((l3*np.sin(theta3)),(l2+l3*np.cos(theta3))))\n",
        "   theta3 = np.rad2deg(theta3)\n",
        "   return [[theta1,theta2,theta3]]\n",
        "\n",
        "print(Inv_Pos_Kin_PUMA([0.05,0.3,0],Linklengths))\n",
        "jointloc=Inv_Pos_Kin_PUMA([0.5,0,0],Linklengths)\n",
        "print(For_Pos_Kin_SCARA(jointloc[0],Linklengths))"
      ],
      "execution_count": 140,
      "outputs": [
        {
          "output_type": "stream",
          "name": "stdout",
          "text": [
            "[[80.53767779197439, -1.3633017452217766, -76.11345963737101]]\n",
            "singular configuration\n",
            "outside workspace\n",
            "[nan nan nan nan]\n"
          ]
        },
        {
          "output_type": "stream",
          "name": "stderr",
          "text": [
            "/usr/local/lib/python3.7/dist-packages/ipykernel_launcher.py:10: RuntimeWarning: invalid value encountered in sqrt\n",
            "  # Remove the CWD from sys.path while we load stuff.\n"
          ]
        }
      ]
    },
    {
      "cell_type": "code",
      "metadata": {
        "id": "kuEiTmoSIdu4"
      },
      "source": [
        "def inverse_kinematics_PUMARepo(l1,l2,l3,xc,yc,zc):\n",
        "    theta1 = np.rad2deg(math.atan2(yc,xc))\n",
        "    D = (xc*xc+yc*yc+(l1-zc)*(l1-zc)-l2*l2-l3*l3)/(2*l2*l3)\n",
        "    if D>=1 or D<=-1:\n",
        "        print(\"singular configuration\")\n",
        "    if D>1 or D<-1:\n",
        "        print(\"outside workspace\")\n",
        "    theta3 = (math.atan2((-math.sqrt(1-D*D)),D))\n",
        "    theta2 = np.rad2deg(math.atan2(zc-l1,(math.sqrt(xc*xc+yc*yc)))-math.atan2((l3*math.sin(theta3)),(l2+l3*math.cos(theta3))))\n",
        "    theta3 = np.rad2deg(theta3)\n",
        "    return theta1,theta2,theta3"
      ],
      "execution_count": null,
      "outputs": []
    },
    {
      "cell_type": "markdown",
      "metadata": {
        "id": "5k711nc40Z91"
      },
      "source": [
        "#### Robot 3: SCARA type(RRP)"
      ]
    },
    {
      "cell_type": "code",
      "metadata": {
        "id": "Jy55qr8oZ4CO"
      },
      "source": [
        "def For_Pos_Kin_SCARA(jointloc,lengthsoflinks):\n",
        "  theta1,theta2,dz3=jointloc[0],jointloc[1],jointloc[2]\n",
        "  d1,d2,d3=lengthsoflinks[0],lengthsoflinks[1],lengthsoflinks[2]\n",
        "  DH=[[d1,theta1,d2,0],[0,theta2,d3,0],[-dz3,0,0,0]]\n",
        "  P0=np.array([0,0,d1-dz3,1])\n",
        "  A=AFromDHVals(DH)\n",
        "  return A @ P0\n",
        "\n"
      ],
      "execution_count": 81,
      "outputs": []
    },
    {
      "cell_type": "code",
      "metadata": {
        "colab": {
          "base_uri": "https://localhost:8080/"
        },
        "id": "8TrPrnoALyzZ",
        "outputId": "ca69868e-ae1e-4702-dbe6-eec8895ff1b8"
      },
      "source": [
        " #Inverse Kinematics of SCARA from my old code\n",
        " def Inv_Pos_Kin_SCARA(P0,lengthsoflinks):\n",
        "   l_1=lengthsoflinks[0]\n",
        "   l_2=lengthsoflinks[1]\n",
        "   h=lengthsoflinks[2]\n",
        "   P_x=P0[0]\n",
        "   P_y=P0[1]\n",
        "   P_z=P0[2]\n",
        "   theta_2=np.arccos(((P_x**2+P_y**2)-(l_1**2+l_2**2))/(2*l_1*l_2)) # + or -\n",
        "   theta_1=np.arctan2(((l_2*P_x*np.sin(theta_2))+P_y*(l_1+l_2*np.cos(theta_2))),(-(l_2*P_y*np.sin(theta_2))+P_x*(l_1+l_2*np.cos(theta_2))))\n",
        "   d_3=h-P_z\n",
        "   print()\n",
        "   return np.array([[np.degrees(theta_1),np.degrees(theta_2),d_3],[np.degrees(theta_1),np.degrees(-theta_2),d_3]])\n",
        "\n",
        "print(Inv_Pos_Kin_SCARA([0.5,0,0],Linklengths))\n",
        "jointloc=Inv_Pos_Kin_SCARA([0.5,0,0],Linklengths)\n",
        "print(For_Pos_Kin_SCARA(jointloc[0],Linklengths))"
      ],
      "execution_count": 82,
      "outputs": [
        {
          "output_type": "stream",
          "name": "stdout",
          "text": [
            "\n",
            "[[ 0.    0.    0.25]\n",
            " [ 0.   -0.    0.25]]\n",
            "\n",
            "[0.5 0.  0.  1. ]\n"
          ]
        }
      ]
    },
    {
      "cell_type": "markdown",
      "metadata": {
        "id": "pIMOyZlnbDwn"
      },
      "source": [
        "## Task 1a"
      ]
    },
    {
      "cell_type": "code",
      "metadata": {
        "colab": {
          "base_uri": "https://localhost:8080/"
        },
        "id": "-Sqo6wnVbnMD",
        "outputId": "feebe5f2-2827-4e61-9e0f-6d3407f57cf2"
      },
      "source": [
        "Linklengths=[0.25,0.25,0.25]\n",
        "Linkmasses=[0.8,0.8,0.8]\n",
        "Amax=[0.45,0.075,0.1]\n",
        "Bmax=[0.45,-0.075,0.1]\n",
        "Cmax=[0.25,0.075,0.1]\n",
        "Dmax=[0.25,-0.075,0.1]\n",
        "\n",
        "#Calculating required link lengths\n",
        "def StanfordLinkLengthReqd(Amax,Bmax,Cmax,Dmax):\n",
        "  l1new=max(0.25,abs(Amax[2]),abs(Bmax[2]),abs(Cmax[2]),abs(Dmax[2]))\n",
        "  l2new=max(0.25,abs(Amax[1]-Bmax[1]),abs(Cmax[1]-Dmax[1]))\n",
        "  l3new=( ((l1new-max(abs(Amax[2]),abs(Bmax[2]),abs(Cmax[2]),abs(Dmax[2])))**2+ (max(abs(Amax[1]-Bmax[1]),abs(Cmax[1]-Dmax[1]))))**2 + max(0.25,abs(Amax[0]),abs(Bmax[0]),abs(Cmax[0]),abs(Dmax[0]))**2)**0.5\n",
        "  return [l1new,l2new,l3new]\n",
        "print('Stanford Link lengths required:',StanfordLinkLengthReqd(Amax,Bmax,Cmax,Dmax))\n",
        "lstan=StanfordLinkLengthReqd(Amax,Bmax,Cmax,Dmax)\n",
        "\n",
        "\n",
        "\n",
        "def SCARALinkLengthReqd(Amax,Bmax,Cmax,Dmax):\n",
        "  l1new=max(0.25,abs(Amax[2]),abs(Bmax[2]),abs(Cmax[2]),abs(Dmax[2]))\n",
        "  l2new=(max(0.25,abs(Amax[1]-Bmax[1]),abs(Cmax[1]-Dmax[1])))\n",
        "  l3new=((max(abs(Amax[1]-Bmax[1]),abs(Cmax[1]-Dmax[1])))**2 + max(abs(Amax[0]),abs(Bmax[0]),abs(Cmax[0]),abs(Dmax[0]))**2-l2new**2)**0.5\n",
        "  return [l1new,l2new,l3new]\n",
        "print('SCARA Link lengths required:',SCARALinkLengthReqd(Amax,Bmax,Cmax,Dmax))\n",
        "lScara=SCARALinkLengthReqd(Amax,Bmax,Cmax,Dmax)\n",
        "\n",
        "\n",
        "\n",
        "\n",
        "def PUMALinkLengthReqd(Amax,Bmax,Cmax,Dmax):\n",
        "  l1new=max(0.25,abs(Amax[2]),abs(Bmax[2]),abs(Cmax[2]),abs(Dmax[2]))\n",
        "  l2new=(max(0.25,abs(Amax[1]-Bmax[1]),abs(Cmax[1]-Dmax[1])))\n",
        "  l3new=((max(abs(Amax[1]-Bmax[1]),abs(Cmax[1]-Dmax[1])))**2 + max(abs(Amax[0]),abs(Bmax[0]),abs(Cmax[0]),abs(Dmax[0]))**2+(l1new-max(abs(Amax[2]),abs(Bmax[2]),abs(Cmax[2]),abs(Dmax[2])))**2-l2new**2)**0.5\n",
        "  return [l1new,l2new,l3new]\n",
        "print('PUMA Link lengths required:',PUMALinkLengthReqd(Amax,Bmax,Cmax,Dmax))\n",
        "lPUMA=PUMALinkLengthReqd(Amax,Bmax,Cmax,Dmax)\n",
        "\n",
        "#Verification\n",
        "jointloc=invKinStanford_RepoCode(Amax,lstan)\n",
        "#print(jointloc)\n",
        "print(For_Pos_Kin_Stanford_NoDH(jointloc[0],lstan))\n",
        "\n"
      ],
      "execution_count": 152,
      "outputs": [
        {
          "output_type": "stream",
          "name": "stdout",
          "text": [
            "Stanford Link lengths required: [0.25, 0.25, 0.48192971479252034]\n",
            "SCARA Link lengths required: [0.25, 0.25, 0.4031128874149275]\n",
            "PUMA Link lengths required: [0.25, 0.25, 0.4301162633521313]\n",
            "[-0.25066258  0.22950923  0.24872353  1.        ]\n"
          ]
        }
      ]
    },
    {
      "cell_type": "markdown",
      "metadata": {
        "id": "egsyOFJGbHvK"
      },
      "source": [
        "## Task 1b"
      ]
    },
    {
      "cell_type": "markdown",
      "metadata": {
        "id": "iCNQBMdjbL2G"
      },
      "source": [
        "## Task 1c\n"
      ]
    },
    {
      "cell_type": "markdown",
      "metadata": {
        "id": "IPc-AjOhbT8b"
      },
      "source": [
        "## Task 1d"
      ]
    },
    {
      "cell_type": "markdown",
      "metadata": {
        "id": "TNlvZDDrbW7b"
      },
      "source": [
        "## Task 1e"
      ]
    },
    {
      "cell_type": "markdown",
      "metadata": {
        "id": "s2ZeG36-OBtC"
      },
      "source": [
        "##Task 3b"
      ]
    },
    {
      "cell_type": "code",
      "metadata": {
        "colab": {
          "base_uri": "https://localhost:8080/",
          "height": 295
        },
        "id": "9D9AIW_oOEIN",
        "outputId": "ad29b309-f1db-4fa1-abd3-f1440ffab05e"
      },
      "source": [
        "import xlrd\n",
        "loc = (\"/content/drive/MyDrive/Colab Notebooks/Gait_DATA.xlsx\")\n",
        " \n",
        "wb = xlrd.open_workbook(loc)\n",
        "sheet = wb.sheet_by_index(0)\n",
        "for i in range(sheet.nrows):\n",
        "  p=sheet.row_values(i)\n",
        "  plt.scatter(p[0],p[1])\n",
        "plt.xlabel('x')\n",
        "plt.ylabel('y')\n",
        "plt.title('Ankle trajectory')\n",
        "plt.grid()\n",
        "plt.show()"
      ],
      "execution_count": 178,
      "outputs": [
        {
          "output_type": "display_data",
          "data": {
            "image/png": "[encoded data removed]",
            "text/plain": [
              "<Figure size 432x288 with 1 Axes>"
            ]
          },
          "metadata": {
            "needs_background": "light"
          }
        }
      ]
    }
  ]
}