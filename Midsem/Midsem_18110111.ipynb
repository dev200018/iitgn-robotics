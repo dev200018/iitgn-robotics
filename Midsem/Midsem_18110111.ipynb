{
 "cells": [
  {
   "cell_type": "code",
   "execution_count": 9,
   "source": [
    "import numpy as np\n",
    "import math"
   ],
   "outputs": [],
   "metadata": {}
  },
  {
   "cell_type": "code",
   "execution_count": 60,
   "source": [
    "class sol_1():\n",
    "\n",
    "    def __init__(self) -> None:\n",
    "        self.L = 0.25 # same link lengths for all the links\n",
    "        self.J = []\n",
    "        pass\n",
    "\n",
    "    def stanford(self,corners):\n",
    "        J = [] #  list of joint variables for A,B,C,D\n",
    "        L = self.L\n",
    "        # Inverse Kinematics\n",
    "        for i in corners:\n",
    "            r = math.sqrt(i[0]**2 + i[1]**2)\n",
    "            s = i[2] - L\n",
    "            theta_1 = math.atan2(i[1],i[0])\n",
    "            theta_2 = math.atan2(s,r)\n",
    "            d_3 = math.sqrt(r**2+s**2)-L\n",
    "            j = [theta_1, theta_2, d_3]\n",
    "            J.append(j)\n",
    "        print(J) # Note that the angles are in radians \n",
    "\n",
    "        # Forward Kinematics\n",
    "        P = [] # list of end-effector positions for A,B,C,D\n",
    "        for i in J:\n",
    "            z = L + (L + i[2])*np.sin(i[1])\n",
    "            y = (L + i[2])*np.cos(i[1])*np.sin(i[0])\n",
    "            x = (L + i[2])*np.cos(i[1])*np.cos(i[0])\n",
    "            p = [x,y,z]\n",
    "            P.append(p)\n",
    "        print(P)\n",
    "        self.J = J\n",
    "        pass\n",
    "\n",
    "    def PUMA(self,corners):\n",
    "        L = self.L\n",
    "        J = [] \n",
    "        # Inverse Kinematics\n",
    "        d_1 = 0 # joint offset is assumed to be zero\n",
    "        for i in corners:\n",
    "            theta_1 = math.atan2(i[1],i[0])\n",
    "            D = (i[0]**2 + i[1]**2 + (i[2] - L)**2 - 2*L**2)/(2*L**2)\n",
    "            theta_3 = math.atan2(math.sqrt(1 - D**2),D)\n",
    "            r = math.sqrt(i[0]**2 + i[1]**2)\n",
    "            s = i[2] - L\n",
    "            theta_2 = math.atan2(s,r) - math.atan2(L*math.sin(theta_3),L*(1 + math.cos(theta_3)))\n",
    "            j = [theta_1, theta_2, theta_3] \n",
    "            J.append(j)\n",
    "        print(J)\n",
    "        # Forward Kinematics\n",
    "        P = [] # list of end-effector positions for A,B,C,D\n",
    "        for i in J:\n",
    "            z = L*math.sin(i[2]+i[1]) + L*math.sin(i[1]) + L\n",
    "            y = (L*math.cos(i[2]+i[1]) + L*math.cos(i[1]))*math.sin(i[0])\n",
    "            x = (L*math.cos(i[2]+i[1]) + L*math.cos(i[1]))*math.cos(i[0])\n",
    "            p = [x,y,z]\n",
    "            P.append(p)\n",
    "        print(P)\n",
    "        self.J = J\n",
    "        pass\n",
    "\n",
    "    def SCARA(self,corners):\n",
    "        L = self.L\n",
    "        J = [] \n",
    "\n",
    "        # Inverse Kinematics\n",
    "        for i in corners:\n",
    "            theta_2 = math.acos((i[0]**2 + i[1]**2 - 2*L**2)/2*L**2)\n",
    "            beta = math.atan2(i[1],i[0])\n",
    "            theta_1 = beta - math.atan2(L*math.sin(theta_2),L*(1 + math.cos(theta_2)))\n",
    "            d = i[2] - L\n",
    "            j = [theta_1, theta_2, d]\n",
    "            J.append(j)\n",
    "        print(J)\n",
    "        P = []\n",
    "        # Forward Kinematics\n",
    "        for i in J:\n",
    "            x = L*math.cos(i[0]+i[1]) + L*math.cos(i[0])\n",
    "            y = L*math.sin(i[0]+i[1]) + L*math.sin(i[0])\n",
    "            z = L + i[2]\n",
    "            p = [x,y,z]\n",
    "            P.append(p)\n",
    "        print(P)\n",
    "        self.J = J\n",
    "        pass\n",
    "\n",
    "    def callJ(self):\n",
    "        return self.J\n",
    "        "
   ],
   "outputs": [],
   "metadata": {}
  },
  {
   "cell_type": "code",
   "execution_count": 35,
   "source": [
    "# Given workspace corners\n",
    "A = [0.45, 0.075, 0.1]\n",
    "B = [0.45, -0.075, 0.1]\n",
    "C = [0.25, -0.075, 0.1]\n",
    "D = [0.25, 0.075, 0.1]\n",
    "\n",
    "corners = [A,B,C,D] \n",
    "solution = sol_1()\n",
    "\n",
    "# 1(a) - Stanford-type RRP Manipulator\n",
    "solution.stanford(corners)"
   ],
   "outputs": [
    {
     "output_type": "stream",
     "name": "stdout",
     "text": [
      "[[0.16514867741462683, -0.31766319298226053, 0.23023431780746362], [-0.16514867741462683, -0.31766319298226053, 0.23023431780746362], [-0.2914567944778671, -0.5216056136891403, 0.051039864469807406], [0.2914567944778671, -0.5216056136891403, 0.051039864469807406]]\n",
      "[[0.44999999999999996, 0.07499999999999998, 0.10000000000000003], [0.44999999999999996, -0.07499999999999998, 0.10000000000000003], [0.25, -0.07500000000000001, 0.1], [0.25, 0.07500000000000001, 0.1]]\n"
     ]
    }
   ],
   "metadata": {}
  },
  {
   "cell_type": "code",
   "execution_count": 20,
   "source": [
    "# 1(a) - PUMA-type RRR Manipulator\n",
    "solution.PUMA(corners)"
   ],
   "outputs": [
    {
     "output_type": "stream",
     "name": "stdout",
     "text": [
      "[[0.16514867741462683, -0.5997787728460515, 0.564231159727582], [-0.16514867741462683, -0.5997787728460515, 0.564231159727582], [-0.2914567944778671, -1.4462986282824137, 1.8493860291865472], [0.2914567944778671, -1.4462986282824137, 1.8493860291865472]]\n",
      "[[0.45000000000000007, 0.07500000000000001, 0.1], [0.45000000000000007, -0.07500000000000001, 0.1], [0.25, -0.07500000000000001, 0.10000000000000003], [0.25, 0.07500000000000001, 0.10000000000000003]]\n"
     ]
    }
   ],
   "metadata": {}
  },
  {
   "cell_type": "code",
   "execution_count": 24,
   "source": [
    "# 1(a) SCARA-type RRP Manipulator\n",
    "solution.SCARA(corners)"
   ],
   "outputs": [
    {
     "output_type": "stream",
     "name": "stdout",
     "text": [
      "[[-0.6189506563971078, 1.5681986676234692, -0.15], [-0.9492480112263614, 1.5681986676234692, -0.15], [-1.0777436302181944, 1.5725736714806549, -0.15], [-0.49483004126246033, 1.5725736714806549, -0.15]]\n",
      "[[0.349195579564178, 0.05819926326069633, 0.1], [0.349195579564178, -0.05819926326069633, 0.1], [0.33834165463038623, -0.10150249638911583, 0.1], [0.33834165463038623, 0.10150249638911585, 0.1]]\n"
     ]
    }
   ],
   "metadata": {}
  },
  {
   "cell_type": "code",
   "execution_count": 25,
   "source": [
    "# 1(b)\n",
    "A = [float(i) for i in input(\"Enter Coordinates for Corner A: \").split()]\n",
    "B = [float(i) for i in input(\"Enter Coordinates for Corner B: \").split()]\n",
    "C = [float(i) for i in input(\"Enter Coordinates for Corner C: \").split()]\n",
    "D = [float(i) for i in input(\"Enter Coordinates for Corner D: \").split()]\n",
    "corners = [A,B,C,D]\n",
    "count = 0\n",
    "# Checking if the given points are in the workspace\n",
    "for i in corners:\n",
    "    if i[0] > 0.45 or i[0] <0.25 or i[1] < -0.075 or i[1] > 0.075 or i[2] != 0.1: \n",
    "        print(\"Values NOT in workspace!\")\n",
    "        break\n",
    "    else:\n",
    "        count += 1\n",
    "if count == 4:\n",
    "    print(\"Stanford\")\n",
    "    solution.stanford(corners)\n",
    "    solution.PUMA(corners)\n",
    "    solution.SCARA(corners)"
   ],
   "outputs": [
    {
     "output_type": "stream",
     "name": "stdout",
     "text": [
      "[[0.14888994760949723, -0.3551283547555233, 0.18139309220245986], [-0.14888994760949723, -0.3551283547555233, 0.18139309220245986], [0.19739555984988075, -0.45584975089376795, 0.09073450074801642], [-0.19739555984988075, -0.45584975089376795, 0.09073450074801642]]\n",
      "[[0.4, 0.06, 0.1], [0.4, -0.06, 0.1], [0.3, 0.06, 0.1], [0.3, -0.06, 0.1]]\n",
      "[[0.14888994760949723, -0.8851696682987094, 1.0600826270863724], [-0.14888994760949723, -0.8851696682987094, 1.0600826270863724], [0.19739555984988075, -1.2768780617932423, 1.6420566217989487], [-0.19739555984988075, -1.2768780617932423, 1.6420566217989487]]\n",
      "[[0.4, 0.06, 0.10000000000000009], [0.4, -0.06, 0.10000000000000009], [0.3, 0.06, 0.10000000000000003], [0.3, -0.06, 0.10000000000000003]]\n",
      "[[-0.6359050906416892, 1.569590076502373, -0.15], [-0.9336849858606837, 1.569590076502373, -0.15], [-0.5884932286263007, 1.571777576952363, -0.15], [-0.9832843483260623, 1.571777576952363, -0.15]]\n",
      "[[0.34985261479405816, 0.0524778922191087, 0.1], [0.34985261479405816, -0.0524778922191087, 0.1], [0.3465174872793358, 0.06930349745586717, 0.1], [0.3465174872793358, -0.06930349745586717, 0.1]]\n"
     ]
    }
   ],
   "metadata": {}
  },
  {
   "cell_type": "code",
   "execution_count": 26,
   "source": [
    "# 1(c)\n",
    "A = [0.40,0.06,0.1]; B = [0.40,0.01,0.1]; C = [0.35,0.01,0.1]; D = [0.40,0.06,0.1]\n",
    "corners = [A,B,C,D]\n",
    "count = 0\n",
    "# Checking if the given points are in the workspace\n",
    "for i in corners:\n",
    "    if i[0] > 0.45 or i[0] <0.25 or i[1] < -0.075 or i[1] > 0.075 or i[2] != 0.1: \n",
    "        print(\"Values NOT in workspace!\")\n",
    "        break\n",
    "    else:\n",
    "        count += 1\n",
    "if count == 4:\n",
    "    print(\"Stanford\")\n",
    "    solution.stanford(corners)\n",
    "    print(\"PUMA\")\n",
    "    solution.PUMA(corners)\n",
    "    print(\"SCARA\")\n",
    "    solution.SCARA(corners)\n"
   ],
   "outputs": [
    {
     "output_type": "stream",
     "name": "stdout",
     "text": [
      "Stanford\n",
      "[[0.14888994760949723, -0.3551283547555233, 0.18139309220245986], [0.02499479361892016, -0.3586679747243447, 0.17731721238443], [0.028563657838759998, -0.40474408410386636, 0.13091993909481814], [0.14888994760949723, -0.3551283547555233, 0.18139309220245986]]\n",
      "[[0.4, 0.06, 0.1], [0.4000000000000001, 0.010000000000000002, 0.1], [0.35, 0.01, 0.1], [0.4, 0.06, 0.1]]\n",
      "PUMA\n",
      "[[0.14888994760949723, -0.8851696682987094, 1.0600826270863724], [0.02499479361892016, -0.9046179420290408, 1.0918999346093923], [0.028563657838759998, -1.1093916739127891, 1.4092951796178457], [0.14888994760949723, -0.8851696682987094, 1.0600826270863724]]\n",
      "[[0.4, 0.06, 0.10000000000000009], [0.4000000000000001, 0.010000000000000002, 0.10000000000000003], [0.35, 0.01, 0.10000000000000003], [0.4, 0.06, 0.10000000000000009]]\n",
      "SCARA\n",
      "[[-0.6359050906416892, 1.569590076502373, -0.15], [-0.7598549321685539, 1.5696994515749483, -0.15], [-0.7568720055587234, 1.5708713267949668, -0.15], [-0.6359050906416892, 1.569590076502373, -0.15]]\n",
      "[[0.34985261479405816, 0.0524778922191087, 0.1], [0.35363674516768195, 0.008840918629192035, 0.1], [0.3533959182859567, 0.010097026236741607, 0.1], [0.34985261479405816, 0.0524778922191087, 0.1]]\n"
     ]
    }
   ],
   "metadata": {}
  },
  {
   "cell_type": "code",
   "execution_count": 57,
   "source": [
    "# 1 (e) and 1(f) PUMA-type\n",
    "import math\n",
    "# Since the negative z-axis \n",
    "A = [0.40,0.06,0.1]; B = [0.40,0.01,0.1]; C = [0.35,0.01,0.1]; D = [0.40,0.06,0.1] # Coordinates of Task 1(c)\n",
    "corners = [A,B,C,D]\n",
    "\n",
    "J = solution.callJ()\n",
    "r_13 = 0 ; r_23 = 0 ; r_33 = -1 ; # Since the tool points in negative z direction\n",
    "r_12 = r_21 = 0 ; r_11 = 1 ; r_22 = -1 # The overall rotation of the matrix is assumed to be about x-axis by 180 degrees => R_0_6 = []\n",
    "J_new = []\n",
    "wrist_angles = []\n",
    "# From example 4.4.1 of Textbook (Articulated Manipulator with Spherical Wrist)\n",
    "\n",
    "for i in range(len(J)):\n",
    "    theta_4 = math.atan2(-math.cos(J[i][0])*math.sin(J[i][1]+J[i][2])*r_13 - math.sin(J[i][0])*math.sin(J[i][1]+J[i][2])*r_23 - math.cos(J[i][1])+J[i][2]*r_33,     math.cos(J[i][0])*math.cos(J[i][1]+J[i][2])*r_13 + math.sin(J[i][0])*math.cos(J[i][1]+J[i][2])*r_23 - math.sin(J[i][1])+J[i][2]*r_33)\n",
    "    theta_5 = math.atan2(math.sqrt(1-(math.sin(J[i][0])*r_13 - math.cos(J[i][0])*r_23)**2),math.sin(J[i][0])*r_13 - math.cos(J[i][0]*r_23))\n",
    "    theta_6 = math.atan2(math.sin(J[i][0])*r_12 + math.cos(J[i][0])*r_22 ,math.sin(J[i][0])*r_11 - math.cos(J[i][0])*r_21)\n",
    "    j_new = [J[i][0], J[i][1], J[i][2], theta_4, theta_5, theta_6]\n",
    "    J_new.append(j_new)\n",
    "    wrist = [theta_4,theta_5,theta_6]\n",
    "    wrist_angles.append(wrist)\n",
    "print('New Joint Variables',J_new)\n",
    "print('Wrist Angles', wrist_angles)\n"
   ],
   "outputs": [
    {
     "output_type": "stream",
     "name": "stdout",
     "text": [
      "[[0.14888994760949723, -0.8851696682987094, 1.0600826270863724, -1.7381584312424916, 2.356194490192345, -1.4219063791853994], [0.02499479361892016, -0.9046179420290408, 1.0918999346093923, -1.7477171751964238, 2.356194490192345, -1.5458015331759765], [0.028563657838759998, -1.1093916739127891, 1.4092951796178457, -1.8411062268912195, 2.356194490192345, -1.5422326689561365], [0.14888994760949723, -0.8851696682987094, 1.0600826270863724, -1.7381584312424916, 2.356194490192345, -1.4219063791853994]]\n",
      "0.7071067811865476\n"
     ]
    }
   ],
   "metadata": {}
  },
  {
   "cell_type": "code",
   "execution_count": 76,
   "source": [
    "# 1 (e) and 1(f) SCARA-type RRP Manipulator and Stanford Type Manipulator\n",
    "# R_3_6 = rotation matrix corresponding to the spherical wrist = (R_0_3)'R = U where\n",
    "# R_0_3 = rotation matrix corresponding to SCARA manipulator and R = rotation matrix from base frame to tool frame\n",
    "def Spherical_Wrist(U):\n",
    "    if U[0][2]!=0 or U[1][2]!=0 :\n",
    "        i = int(input(\"Enter 1 for sin_theta > 0 or 0 for sin_theta <0 :\"))\n",
    "        if i == 1:\n",
    "            theta = math.atan2(math.sqrt(1-U[2][2]**2),U[2][2])\n",
    "            phi = math.atan2(U[1][2],U[0][2])\n",
    "            psi = math.atan2(U[2][1],-U[2][0])\n",
    "        elif i == 0:\n",
    "            theta = math.atan2(-math.sqrt(1-U[2][2]**2),U[2][2])\n",
    "            phi = math.atan2(-U[1][2],-U[0][2])\n",
    "            psi = math.atan2(-U[2][1],U[2][0])\n",
    "        else:\n",
    "            print(\"error\")\n",
    "    else:\n",
    "        if U[2][2] == 1:\n",
    "            theta = 0 # from U[2][2] = 1 \n",
    "            phi_plus_psi = math.atan2(U[1][0],U[0][0]) # infinite solutions exist\n",
    "            phi = 0; # in order to get a unique solution\n",
    "            psi = phi_plus_psi - phi\n",
    "        elif U[2][2] == -1:\n",
    "            theta = math.pi # from U[2][2] = -1\n",
    "            phi_minus_psi = math.atan2(-U[0][1],-U[0][0]) # infinite solutions exist\n",
    "            phi = 0 # in order to get a unique solution\n",
    "            psi = phi - phi_minus_psi\n",
    "        else:\n",
    "            print(\"error\")\n",
    "    euler = [theta,phi,psi] # in degrees\n",
    "    print(\"Euler Angles:\",euler)\n",
    "    return euler\n",
    "# The above code was written for assignment 4 \n",
    "R = [[1,0,0],[0,-1,0],[0,0,-1]] # same as in previous code\n",
    "A = [0.40,0.06,0.1]; B = [0.40,0.01,0.1]; C = [0.35,0.01,0.1]; D = [0.40,0.06,0.1] # Coordinates of Task 1(c)\n",
    "corners = [A,B,C,D]\n",
    "solution.SCARA(corners)\n",
    "solution.callJ\n",
    "# The wrist angles are given as output\n",
    "for i in range(len(J)):\n",
    "    R_0_3_transpose = [[math.cos(J[i][0]+J[i][1]), math.sin(J[i][0]+J[i][1]), 0],[math.sin(J[i][0]+J[i][1]), -math.cos(J[i][0]+J[i][1]), 0],[0,0,-1]]\n",
    "    R_0_3_transpose = np.array(R_0_3_transpose)\n",
    "    R = np.array(R)\n",
    "    U = R_0_3_transpose@R\n",
    "    euler = Spherical_Wrist(U)\n",
    "\n",
    "# The Euler Angles with the previously determined joint variables make the fresh set of joint variables\n",
    "\n"
   ],
   "outputs": [
    {
     "output_type": "stream",
     "name": "stdout",
     "text": [
      "[[-0.6359050906416892, 1.569590076502373, -0.15], [-0.7598549321685539, 1.5696994515749483, -0.15], [-0.7568720055587234, 1.5708713267949668, -0.15], [-0.6359050906416892, 1.569590076502373, -0.15]]\n",
      "[[0.34985261479405816, 0.0524778922191087, 0.1], [0.35363674516768195, 0.008840918629192035, 0.1], [0.3533959182859567, 0.010097026236741607, 0.1], [0.34985261479405816, 0.0524778922191087, 0.1]]\n",
      "Euler Angles: [0, 0, -0.736279720689212]\n",
      "None\n",
      "Euler Angles: [0, 0, -0.8796231484101206]\n",
      "None\n",
      "Euler Angles: [0, 0, -1.0808280160740291]\n",
      "None\n",
      "Euler Angles: [0, 0, -0.736279720689212]\n",
      "None\n"
     ]
    }
   ],
   "metadata": {}
  },
  {
   "cell_type": "code",
   "execution_count": 80,
   "source": [
    "# 1(e) and 1(f) for Stanford-type RRP Manipulator\n",
    "R = [[1,0,0],[0,-1,0],[0,0,-1]] # same as in previous code\n",
    "A = [0.40,0.06,0.1]; B = [0.40,0.01,0.1]; C = [0.35,0.01,0.1]; D = [0.40,0.06,0.1] # Coordinates of Task 1(c)\n",
    "corners = [A,B,C,D]\n",
    "solution.stanford(corners)\n",
    "solution.callJ\n",
    "# NOTE: The code asks for inputs whether sin(theta)>1 or sin(theta)<1\n",
    "for i in range(len(J)):\n",
    "    R_0_3_transpose = [[math.sin(J[i][1]),-math.cos(J[i][1]), 0],[-math.cos(J[i][0])*math.sin(J[i][1]),-math.sin(J[i][0])*math.sin(J[i][1]), math.cos(J[i][1])],[math.cos(J[i][0])*math.cos(J[i][1]),math.sin(J[i][0])*math.cos(J[i][1]) ,math.sin(J[i][11])]]\n",
    "    R_0_3_transpose = np.array(R_0_3_transpose)\n",
    "    R = np.array(R)\n",
    "    U = R_0_3_transpose@R\n",
    "    euler = Spherical_Wrist(U)\n"
   ],
   "outputs": [
    {
     "output_type": "stream",
     "name": "stdout",
     "text": [
      "[[0.14888994760949723, -0.3551283547555233, 0.18139309220245986], [0.02499479361892016, -0.3586679747243447, 0.17731721238443], [0.028563657838759998, -0.40474408410386636, 0.13091993909481814], [0.14888994760949723, -0.3551283547555233, 0.18139309220245986]]\n",
      "[[0.4, 0.06, 0.1], [0.4000000000000001, 0.010000000000000002, 0.1], [0.35, 0.01, 0.1], [0.4, 0.06, 0.1]]\n",
      "Euler Angles: [0.6856266584961873, -1.5707963267948966, -2.992702705980296]\n",
      "Euler Angles: [0.6661783847658558, -1.5707963267948966, -3.1165978599708732]\n",
      "Euler Angles: [0.4614046528821075, -1.5707963267948966, -3.113028995751033]\n",
      "Euler Angles: [0.6856266584961873, -1.5707963267948966, -2.992702705980296]\n"
     ]
    }
   ],
   "metadata": {}
  },
  {
   "cell_type": "code",
   "execution_count": 28,
   "source": [
    "# 3(b) \n",
    "# Since the question mentioned CSV file, I have used a CSV file instead of an Excel file\n",
    "import matplotlib.pyplot as plt\n",
    "import csv\n",
    "import math\n",
    "import numpy as np\n",
    "x = []\n",
    "y = []\n",
    "  \n",
    "with open('/Users/srujanpandya/Downloads/Gait_DATA.csv','r') as csvfile:\n",
    "    plots = csv.DictReader(csvfile, delimiter = ',')\n",
    "    for row in plots:\n",
    "        x.append(float(row['X (cm)']))\n",
    "        y.append(float(row['Y (cm)']))   \n",
    "plt.plot(x,y)\n",
    "plt.xlabel('X-coordinate')\n",
    "plt.ylabel('Y-coordinate')\n",
    "plt.title('Gait Trajectory')\n",
    "plt.legend()\n",
    "plt.show()\n",
    "\n"
   ],
   "outputs": [
    {
     "output_type": "stream",
     "name": "stderr",
     "text": [
      "No handles with labels found to put in legend.\n"
     ]
    },
    {
     "output_type": "display_data",
     "data": {
      "image/png": "[encoded data removed]",
      "text/plain": [
       "<Figure size 432x288 with 1 Axes>"
      ]
     },
     "metadata": {
      "needs_background": "light"
     }
    }
   ],
   "metadata": {}
  },
  {
   "cell_type": "code",
   "execution_count": 27,
   "source": [
    "# 3(c) \n",
    "import csv\n",
    "import math\n",
    "import numpy as np\n",
    "x = []\n",
    "y = []\n",
    "  \n",
    "with open('/Users/srujanpandya/Downloads/Gait_DATA.csv','r') as csvfile:\n",
    "    plots = csv.DictReader(csvfile, delimiter = ',')\n",
    "    for row in plots:\n",
    "        x.append(float(row['X (cm)'])/100)\n",
    "        y.append(float(row['Y (cm)'])/100) \n",
    "# Inverse Kinematics\n",
    "l_1 = 0.405\n",
    "l_2 = 0.391\n",
    "J = []\n",
    "for i in range(len(x)):\n",
    "    theta_2 = math.acos((x[i]**2+y[i]**2-l_1**2-l_2**2)/2*l_1*l_2)\n",
    "    theta_1 = math.atan2(y[i],x[i]) - math.atan2(l_2*math.sin(theta_2),l_1+l_2*math.cos(theta_2))\n",
    "    j = [theta_1, theta_2]\n",
    "    J.append(j)\n",
    "print('Joint Variables')\n",
    "print(J)\n",
    "P = []\n",
    "# Verification through forward kinematics\n",
    "for i in J:\n",
    "    x_forward = l_2*math.cos(i[1]+i[0]) + l_1*math.cos(i[0])\n",
    "    y_forward = l_2*math.sin(i[1]+i[0]) + l_1*math.sin(i[0])\n",
    "    p = [x,y]\n",
    "    P.append(p)\n",
    "x_f = p[0]\n",
    "y_f = p[1]\n",
    "print('X_Forward:')\n",
    "print(x_f)\n",
    "print('Y_Forward')\n",
    "print(y_f)\n",
    "# Checking of the procedure through error analysis\n",
    "count = 0\n",
    "for i in range(len(x)):\n",
    "    if x_f[i]-x[i] > 0.000001 or y_f[i] - y[i] > 0.000001:\n",
    "        print(\"Error in some values is greater than 0.01 percent!\")\n",
    "    else:\n",
    "        count = count + 1\n",
    "if count == len(x):\n",
    "    print(\"All values have error less than 0.0001 %\")\n"
   ],
   "outputs": [
    {
     "output_type": "stream",
     "name": "stdout",
     "text": [
      "Joint Variables\n",
      "[[-0.500198477522066, 1.5777559340401572], [-0.4981217480582102, 1.5781094614854492], [-0.49639490741097647, 1.5784958991606441], [-0.4952296100025366, 1.5788947092708367], [-0.49459251826273165, 1.579312882216471], [-0.49444679627018057, 1.5797465186935575], [-0.4947254713633574, 1.5801974228426159], [-0.4954550439645683, 1.5806677837040353], [-0.4967674850231856, 1.581138435773056], [-0.49843586218948016, 1.5816249265135378], [-0.5005691728371471, 1.582117148928703], [-0.5030935037194484, 1.582619712411729], [-0.5059739570824147, 1.5831283869221002], [-0.5091915053448923, 1.5836454767871482], [-0.5128099535032302, 1.5841595802089983], [-0.516807775904404, 1.5846780327735364], [-0.5211015413835642, 1.5851957577109483], [-0.5256834007537479, 1.5857119466783944], [-0.5303771746369206, 1.5862265349955], [-0.5354805628845275, 1.5867319807843265], [-0.5407273104016983, 1.5872339250277703], [-0.5460928520369877, 1.5877296312365814], [-0.5515749744541104, 1.588215576366444], [-0.5570080186982157, 1.58869390462983], [-0.5624708898126889, 1.5891606883021474], [-0.5679666550121436, 1.5896147803501377], [-0.573397329147648, 1.5900533625203774], [-0.5786724786723267, 1.590481267052042], [-0.5838825705512317, 1.5908940926161432], [-0.5888159244434045, 1.5912884072524225], [-0.5933890038875006, 1.5916719970221955], [-0.5978235660034359, 1.592033650029683], [-0.6021663920274598, 1.5923767527784172], [-0.6055991407697099, 1.5927055106574408], [-0.6090745403737434, 1.5930160431421139], [-0.6114723318374263, 1.5933136314257665], [-0.613703418538077, 1.593588560179435], [-0.6148524476406216, 1.5938474864587104], [-0.6150729826770331, 1.5940905075070635], [-0.6142412899211812, 1.5943141858876055], [-0.6118228845757843, 1.5945237909599468], [-0.6083671587745014, 1.5947118160075904], [-0.602222356669131, 1.5948841585308373], [-0.5935925814542713, 1.5950395454259867], [-0.5825062903115984, 1.5951781093775486], [-0.5671132811072112, 1.5952997751175815], [-0.548428571944666, 1.5954070058693304], [-0.5238426616901332, 1.5954995107421834], [-0.49290135824660214, 1.5955781789413772], [-0.4549536569230681, 1.595644654883563], [-0.40713677363121703, 1.595699003286746], [-0.34582487138008594, 1.5957430760734546], [-0.2711726257032323, 1.5957782569131362], [-0.17757647009874034, 1.5958049624030013], [-0.0641065280729235, 1.5958248394327605], [0.06548330155736126, 1.595838718972801], [0.20981114527011924, 1.595848446061542], [0.3549507092596855, 1.5958544616250459], [0.490862319911078, 1.5958583820030443], [0.6072077205937587, 1.5958608477143923], [0.6996701127102739, 1.5958627370992848], [0.7624104909543904, 1.5958645757201673], [0.7908955480103108, 1.5958666397190184], [0.7832215751247112, 1.595868915215087], [0.7419588844189074, 1.5958711591102623], [0.66483368469582, 1.59587349699274], [0.5509589484625181, 1.5958753726645816], [0.40297211866034466, 1.595876626614213], [0.22965755539506505, 1.5958769327631397], [0.0413221364460572, 1.5958760164254349], [-0.13779151037399795, 1.595873720548406], [-0.2907960598140262, 1.5958699430081742], [-0.4073475210290067, 1.5958646998526842], [-0.4974723128880598, 1.5958586558863994], [-0.5602070246802895, 1.5958518441764271], [-0.6050903397637624, 1.595844529996198], [-0.6333624893734132, 1.5958375802496636], [-0.6496871506559199, 1.595831457203442], [-0.6620608846825176, 1.5958252223950737], [-0.6728362714268461, 1.5958179663846144], [-0.6878803939902667, 1.59580867205839], [-0.6983135491513509, 1.5957971768055932], [-0.7120120517403012, 1.5957825253985258], [-0.718096382177639, 1.5957652767698898], [-0.7273167865579163, 1.5957438245105386], [-0.7343863647927293, 1.595722696092373], [-0.7408906236752286, 1.5956990523159666], [-0.7442080007814257, 1.595676799059706], [-0.7484052961140254, 1.5956512076284834], [-0.7511285757356945, 1.5956236186050436], [-0.7519527330745215, 1.5955960876742776], [-0.7546989487583164, 1.5955661633495735], [-0.7561897660122774, 1.5955364223745707], [-0.7574378511603326, 1.5955047940328597], [-0.7579414337640437, 1.595472010028944], [-0.7593868747431202, 1.5954375637512028], [-0.7604453347067716, 1.5954007994892447], [-0.7618640866000835, 1.5953611039510627], [-0.7625688295214682, 1.5953193190316197], [-0.7634447303956087, 1.5952757948444398], [-0.7643229335999329, 1.595230881761936], [-0.7659026068122483, 1.5951819481618599], [-0.7650394189265839, 1.5951358898469856], [-0.7674417226165554, 1.595085658918594], [-0.7682249318209379, 1.5950350613924833], [-0.7690776370470345, 1.5949817250741272], [-0.7687193218489707, 1.5949287393768772], [-0.7698686972457353, 1.594871646503309], [-0.7707874675113343, 1.5948157647129408], [-0.7714264769219432, 1.5947555308098986], [-0.7722210981293749, 1.5946946188708226], [-0.7726086125491513, 1.5946329313252585], [-0.7728933810369883, 1.5945702153292405], [-0.773058920355279, 1.5945045444247796], [-0.7748272915489972, 1.5944361104735343], [-0.7747623461794881, 1.5943672358129573], [-0.7749898311602677, 1.594296449177099], [-0.7752654158694233, 1.5942253338207417], [-0.776125826221159, 1.5941507222779034], [-0.7762442741957205, 1.5940750366547982], [-0.7763927216989801, 1.5939974647576547], [-0.7765737498675821, 1.5939177082247404], [-0.7760292859706939, 1.5938385304007516], [-0.7761514800873153, 1.5937560475725923], [-0.7769222763802296, 1.593670338658932], [-0.7771950593981649, 1.593583325821967], [-0.7772628975466779, 1.5934954999883963], [-0.776794354694531, 1.5934067308746425], [-0.7767837429469648, 1.5933152261634609], [-0.7772357257579133, 1.5932207802021927], [-0.7774123088804112, 1.5931257779326664], [-0.7770086695473691, 1.5930302020810458], [-0.7770452485396618, 1.592931704915966], [-0.7768828834148819, 1.5928316167838734], [-0.7771922585216656, 1.5927281672738711], [-0.7774213635810261, 1.592623358521292], [-0.776703478384054, 1.592519387501781], [-0.7771354200688663, 1.592409503454091], [-0.7776615776474787, 1.5922993110486365], [-0.7775142066463627, 1.5921907154972954], [-0.7763876774718964, 1.592080081109861], [-0.7769804401207944, 1.5919622574269563], [-0.7768598054728385, 1.5918461456158526], [-0.7774345988033728, 1.591727122117577], [-0.7770801486067139, 1.591608347041008], [-0.77690564854847, 1.5914864552906047], [-0.7768298715650719, 1.5913622859346097], [-0.7768621521805533, 1.5912380713139511], [-0.7769486567795975, 1.591109282573907], [-0.777208619434522, 1.5909789582923348], [-0.7768259886407596, 1.5908483027059557], [-0.7770187202008259, 1.5907135059047535], [-0.777268878479934, 1.590576264048783], [-0.7767890479184136, 1.5904432758706086], [-0.7771677120921237, 1.5903041259878528], [-0.7768861238970031, 1.5901706179879138], [-0.7770848156496385, 1.5900246285359663], [-0.7768286088390104, 1.5898818446241691], [-0.7767042801226455, 1.5897389996495024], [-0.7767512455955364, 1.589595203072826], [-0.7767899820399915, 1.589447402058127], [-0.7765450096275303, 1.5893010274398307], [-0.7764678268992764, 1.5891492842416768], [-0.7764501745110861, 1.5889955221399636], [-0.7763158699402529, 1.5888441311471821], [-0.7761743232063725, 1.5886904994870623], [-0.7760094136397383, 1.588536327363543], [-0.7759617895726164, 1.588373845768999], [-0.7758265894245157, 1.5882131335292775], [-0.7755869973212479, 1.5880532745235214], [-0.7755649914465013, 1.5878888444183785], [-0.7753123835160634, 1.5877263291364145], [-0.7749121880429191, 1.5875621776571534], [-0.7747264732531647, 1.5873960386478716], [-0.7746209714737956, 1.587226165313308], [-0.7746150785264594, 1.5870545794248676], [-0.774287641448876, 1.5868836752350186], [-0.7739266257601437, 1.5867094135154427], [-0.7739170937136814, 1.5865331856747118], [-0.7736679033404156, 1.58635599719343], [-0.7732531924278986, 1.58618015621651], [-0.7727104498469202, 1.586006162858708], [-0.7729176446109101, 1.5858175657713023], [-0.772587892187628, 1.5856387752186052], [-0.7724049449010185, 1.5854513402554167], [-0.7717494726030287, 1.5852693940618094], [-0.7713687413740498, 1.5850858528974492], [-0.7710220953763772, 1.584898380401924], [-0.770670728677971, 1.5847145742737054], [-0.7703001066010353, 1.584522641636833], [-0.769859874783366, 1.5843292929089006], [-0.7693990063791852, 1.5841361388880406], [-0.7687514895661339, 1.5839475851647147], [-0.7682315410253759, 1.5837532018417144], [-0.7676286670750194, 1.583557426852567], [-0.7669805498578959, 1.5833584956941744], [-0.7661527176389727, 1.5831690395090598], [-0.7653522500804238, 1.582969478403589], [-0.7645751501317863, 1.5827661793346017], [-0.7635179430799217, 1.5825694067412708], [-0.7624909395211514, 1.5823739722573873], [-0.7614017216224618, 1.5821738545399675], [-0.7603847230647086, 1.5819642932030078], [-0.7591172881051407, 1.581763260453192], [-0.7577229122664737, 1.5815679270141458], [-0.7563782603282357, 1.5813610903816309], [-0.7550185142071678, 1.581154374842262], [-0.7535146629275201, 1.5809536269397975], [-0.7516946585203979, 1.5807587377121843], [-0.7500202840271901, 1.5805565289039967], [-0.7482972543567834, 1.5803493876000414], [-0.7463781618998212, 1.5801553818352772], [-0.7443279326883372, 1.5799567811585207], [-0.7423645134691419, 1.57975481995746], [-0.7401905426072896, 1.5795608086228705], [-0.7378404038488026, 1.5793667647424185], [-0.7353826864429878, 1.5791747473107387], [-0.7329165884516067, 1.5789872892778698], [-0.7301256755868302, 1.5788032054936534], [-0.7273905288721906, 1.578612924644805], [-0.7245445589606844, 1.5784331176377584], [-0.7214139009525534, 1.5782495100329543], [-0.7182779082116044, 1.57807662110169], [-0.7151420759032675, 1.5779032558677457], [-0.7118732653815439, 1.5777331603470608], [-0.7084688932608304, 1.5775718599347734], [-0.7050100358893178, 1.5774134036484986], [-0.7014850211086285, 1.5772612899825345], [-0.6977971594135477, 1.5771163239499515], [-0.6940710630040562, 1.576973749846053], [-0.6902697910844342, 1.5768387195988454], [-0.6863762616885482, 1.5767056650112563], [-0.6822279889775416, 1.576588312837536], [-0.6781182954900112, 1.5764693215307595], [-0.6738856774872907, 1.576361343758509], [-0.66954307643084, 1.5762522060008344], [-0.6651412274047778, 1.576147006517381], [-0.6605520219846522, 1.5760528961640476], [-0.6559073083353705, 1.5759669195562238], [-0.651304374718469, 1.5758904681528982], [-0.6466489226234897, 1.5758225102481462], [-0.6419689682543857, 1.575767076656302], [-0.6372286930786679, 1.575729556563781], [-0.6325693552208065, 1.575697798399997], [-0.6279041986320895, 1.5756736868020795], [-0.6231188689556627, 1.5756652844775272], [-0.6183763763842808, 1.5756615083182135], [-0.6135869392879054, 1.5756667188550941], [-0.6088344603039568, 1.5756840296127732], [-0.6040993609100708, 1.575710058133329], [-0.5993746631977717, 1.5757496667208482], [-0.5946069555001758, 1.5757813788377182], [-0.5899498024174511, 1.5758016499189313], [-0.585325169544959, 1.5757979752358058], [-0.5806907083941044, 1.5758149547024396], [-0.5760043765531925, 1.5758399414190387], [-0.5713699804286211, 1.5758735970321205], [-0.5667587140885344, 1.5759261794417645], [-0.5621650165850487, 1.5759914210640733], [-0.5577245267799171, 1.5760630468770884], [-0.500198477522066, 1.5777559340401572]]\n",
      "X_Forward:\n",
      "[0.46108625000000003, 0.456283125, 0.451054375, 0.445681875, 0.44005937500000003, 0.43422125, 0.42812125, 0.42171625, 0.415273125, 0.408533125, 0.40163625000000003, 0.394490625, 0.387136875, 0.379519375, 0.37180375, 0.36385625, 0.35573187500000003, 0.347426875, 0.33891, 0.330324375, 0.32153374999999995, 0.312570625, 0.303489375, 0.294225, 0.28485125, 0.275385, 0.26587812499999997, 0.25621187500000003, 0.24648625, 0.2367775, 0.226883125, 0.217110625, 0.20738499999999999, 0.197559375, 0.18779, 0.1778725, 0.16817625, 0.15846375000000001, 0.148744375, 0.139175625, 0.129539375, 0.120228125, 0.110971875, 0.10188499999999999, 0.0930231250000001, 0.0844399999999999, 0.076074375, 0.06799812499999999, 0.060257499999999894, 0.0528306250000001, 0.04583, 0.039181249999999904, 0.0329206249999999, 0.027125625, 0.02177375, 0.0170106250000001, 0.012691874999999998, 0.00904312499999992, 0.00597812499999998, 0.00355124999999998, 0.00171437500000013, 0.000518125000000055, 0.0, 0.000127500000000055, 0.000770000000000096, 0.00185750000000007, 0.0033149999999999404, 0.00505750000000012, 0.00703874999999994, 0.00930375000000004, 0.011755, 0.0143200000000001, 0.016903125, 0.0193431250000001, 0.021640625, 0.023798124999999903, 0.0256406250000001, 0.027137500000000002, 0.028571875000000004, 0.0301481249999999, 0.0320625000000001, 0.034264374999999896, 0.0368862500000001, 0.0397318749999999, 0.043016249999999895, 0.046020624999999996, 0.049164374999999996, 0.051945625, 0.054971875000000094, 0.058055625000000104, 0.060975, 0.06400062499999999, 0.0668706249999999, 0.069793125, 0.0726975, 0.075630625, 0.07864, 0.0817656250000001, 0.08493062500000009, 0.08810687500000011, 0.09126875, 0.094594375, 0.097618125, 0.10081687499999999, 0.1039375, 0.10712875000000001, 0.11020625, 0.11343062500000001, 0.1165, 0.11972, 0.122890625, 0.12602, 0.12912375, 0.132295625, 0.135523125, 0.138694375, 0.14188, 0.14501, 0.148223125, 0.1514125, 0.154613125, 0.15783625, 0.16097187500000001, 0.16417500000000002, 0.16743875, 0.170688125, 0.17390625, 0.17709937499999998, 0.180331875, 0.18360875, 0.186846875, 0.19004875, 0.193293125, 0.19653500000000002, 0.19983062499999998, 0.203115, 0.20632124999999998, 0.20965687500000002, 0.212949375, 0.216145, 0.2193525, 0.222718125, 0.225985625, 0.229286875, 0.23253437500000002, 0.235820625, 0.239121875, 0.242379375, 0.24571125, 0.2490375, 0.252328125, 0.25567875, 0.259045625, 0.262266875, 0.265595625, 0.26875062499999997, 0.27215875, 0.27545125, 0.27870625, 0.281945, 0.285235625, 0.2884575, 0.29175999999999996, 0.29506875, 0.298290625, 0.301525, 0.30473625, 0.308084375, 0.311360625, 0.314585625, 0.31786875, 0.321080625, 0.32429250000000004, 0.32751125000000003, 0.33077, 0.334029375, 0.337244375, 0.34049124999999997, 0.34374375, 0.346983125, 0.350168125, 0.35329125, 0.35664625, 0.35979750000000005, 0.363071875, 0.36622187500000003, 0.3693725, 0.372563125, 0.37566499999999997, 0.378876875, 0.382085, 0.38526312500000004, 0.38834, 0.391486875, 0.394630625, 0.397799375, 0.40079312500000003, 0.40392249999999996, 0.407085625, 0.4101225, 0.41311625, 0.41615875, 0.41932125, 0.422330625, 0.42523249999999996, 0.42828375, 0.431310625, 0.4342275, 0.43703625, 0.439931875, 0.44287687499999995, 0.4456125, 0.44839249999999997, 0.45120125, 0.45387687499999996, 0.45653187500000003, 0.45913875, 0.461665, 0.464121875, 0.46664625, 0.46900937499999995, 0.4714, 0.47363, 0.47585, 0.478006875, 0.48002812499999997, 0.481995, 0.483861875, 0.485615625, 0.4873225, 0.488915, 0.490464375, 0.491788125, 0.49312062500000003, 0.49429375, 0.49546250000000003, 0.496564375, 0.4975025, 0.49832125, 0.499009375, 0.49957500000000005, 0.49997, 0.500125625, 0.5002031250000001, 0.50017375, 0.49992937499999995, 0.499619375, 0.499183125, 0.49858874999999997, 0.497876875, 0.496986875, 0.49618, 0.49551375, 0.49513625, 0.494491875, 0.493733125, 0.49286187499999995, 0.49174875, 0.49047062500000005, 0.489119375, 0.46108625000000003]\n",
      "Y_Forward\n",
      "[0.12809129375, 0.12786216875, 0.12732816875, 0.12646510625, 0.12526860625, 0.12377329375, 0.12200616874999999, 0.11995166875, 0.11763191875000001, 0.11509023125000001, 0.11232579375, 0.10935735625, 0.10622104375, 0.10292066875, 0.09948416874999999, 0.09589779375000002, 0.09221960624999999, 0.08846185625, 0.08469073125, 0.08084179375, 0.07698691875, 0.07314860625, 0.06934554375, 0.06561998125, 0.061964981249999995, 0.058385543750000005, 0.05492148125, 0.05157204375, 0.04833048125, 0.04526160625, 0.04233910625, 0.039559043749999995, 0.03689254375, 0.034477675, 0.03212955625, 0.030020175, 0.02802085, 0.0262358125, 0.024610837499999996, 0.023161974999999998, 0.02189383125, 0.020758925, 0.0198732125, 0.019162675, 0.01857241875, 0.018219818750000002, 0.0179127, 0.0177894, 0.01777576875, 0.01779175625, 0.0179173875, 0.0181601625, 0.01835766875, 0.01864915625, 0.0189348625, 0.01918390625, 0.01932580625, 0.01941238125, 0.01932310625, 0.01911484375, 0.01874018125, 0.01818380625, 0.017460225, 0.01661665, 0.0157227625, 0.014657081249999999, 0.01355024375, 0.01237690625, 0.01119628125, 0.009995525, 0.008790774999999999, 0.007621687499999999, 0.0066057812500000005, 0.005613012499999999, 0.00483214375, 0.0042028, 0.00378409375, 0.0035533125, 0.003382, 0.00323946875, 0.00295785625, 0.0028006, 0.0025065125, 0.0024567875, 0.0022615, 0.00209285, 0.00191490625, 0.0018501124999999998, 0.001726225, 0.0016640437499999999, 0.0016966187499999998, 0.001604, 0.00157521875, 0.00155584375, 0.0015828125, 0.00153605, 0.00151250625, 0.0014550125, 0.0014497499999999999, 0.0014249249999999998, 0.0013939125, 0.0012930125, 0.00141645625, 0.0012181937499999998, 0.00117195, 0.00111381875, 0.00118249375, 0.00108358125, 0.00100271875, 0.00095045, 0.00087435625, 0.000844037500000001, 0.0008241500000000001, 0.0008183062499999991, 0.0005941375000000009, 0.0006124437500000019, 0.000589393749999998, 0.000557462500000001, 0.00043694999999999997, 0.00042289374999999996, 0.0004031, 0.00037686249999999995, 0.00046585, 0.00044853125000000096, 0.00032146875, 0.000273987499999998, 0.00025999375, 0.00034016874999999897, 0.00034033750000000203, 0.00025517499999999903, 0.00021812499999999998, 0.00028981875, 0.000278518749999999, 0.000305618749999998, 0.00023895625, 0.00018608750000000102, 0.00032680000000000003, 0.00023041875, 0.000110681249999999, 0.000132881250000001, 0.000370262499999999, 0.000231275, 0.00024928125, 0.000107975, 0.000178612499999999, 0.000208431249999999, 0.00021515624999999899, 0.000195750000000001, 0.00016193124999999898, 8.37374999999989e-05, 0.00016549999999999998, 0.00010180625000000099, 2.12062499999988e-05, 0.000130500000000001, 1.37687499999988e-05, 7.231249999999889e-05, 0.0, 5.1612500000001e-05, 6.76812500000015e-05, 3.56812500000006e-05, 4.72500000000053e-06, 5.50874999999991e-05, 5.6893749999999496e-05, 4.08750000000016e-05, 5.96125000000001e-05, 8.06062499999998e-05, 0.00010906875, 0.000100806250000002, 0.00011985000000000001, 0.00017221875, 0.000155812500000001, 0.000213337499999998, 0.00031958750000000096, 0.00035735000000000004, 0.000368712500000003, 0.00034668124999999894, 0.00043265625000000004, 0.000531137499999999, 0.00051028125, 0.000571912500000001, 0.0006926937499999999, 0.000860981249999999, 0.0007628312499999999, 0.000857200000000001, 0.0008986125000000011, 0.00111433125, 0.0012318625, 0.0013379750000000001, 0.00144781875, 0.00156555625, 0.0017113999999999999, 0.0018673124999999998, 0.0020983812499999997, 0.00228225, 0.0025012437500000003, 0.002741, 0.00305681875, 0.0033651625000000003, 0.003667975, 0.004090043749999999, 0.00450528125, 0.00495164375, 0.005373406250000001, 0.00590639375, 0.006499975, 0.007079925, 0.0076736, 0.00833668125, 0.009145243749999999, 0.009899875, 0.0106853875, 0.01156538125, 0.01251453125, 0.013435575, 0.01446039375, 0.015576293750000001, 0.01675250625, 0.0179430125, 0.01929465, 0.0206353875, 0.02203669375, 0.023586443749999998, 0.025147675, 0.02672228125, 0.028371787500000002, 0.03009455625, 0.03185494375, 0.03365613125, 0.035544, 0.03746126875, 0.039421675, 0.04143756875, 0.04357671875, 0.04570948750000001, 0.047903218750000004, 0.05016286875, 0.05245815625, 0.054844162499999995, 0.0572573875, 0.05964626875, 0.06205755625, 0.06447037500000001, 0.066892875, 0.0692692375, 0.071638925, 0.07404495, 0.07642124374999999, 0.07880435625, 0.081145225, 0.08345761875, 0.08573423125, 0.08804093125, 0.09031004375, 0.09260823125, 0.09486585625, 0.09712760625, 0.09933923124999999, 0.10148979375, 0.10359341875, 0.10559666875, 0.12809129375]\n",
      "All values have error less than 0.0001 %\n"
     ]
    }
   ],
   "metadata": {}
  }
 ],
 "metadata": {
  "orig_nbformat": 4,
  "language_info": {
   "name": "python",
   "version": "3.9.1",
   "mimetype": "text/x-python",
   "codemirror_mode": {
    "name": "ipython",
    "version": 3
   },
   "pygments_lexer": "ipython3",
   "nbconvert_exporter": "python",
   "file_extension": ".py"
  },
  "kernelspec": {
   "name": "python3",
   "display_name": "Python 3.9.1 64-bit"
  },
  "interpreter": {
   "hash": "aee8b7b246df8f9039afb4144a1f6fd8d2ca17a180786b69acc140d282b71a49"
  }
 },
 "nbformat": 4,
 "nbformat_minor": 2
}