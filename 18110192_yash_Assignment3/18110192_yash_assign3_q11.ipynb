{
  "nbformat": 4,
  "nbformat_minor": 0,
  "metadata": {
    "colab": {
      "name": "18110192_yash_assign3_q11.ipynb",
      "provenance": []
    },
    "kernelspec": {
      "name": "python3",
      "display_name": "Python 3"
    },
    "language_info": {
      "name": "python"
    }
  },
  "cells": [
    {
      "cell_type": "markdown",
      "metadata": {
        "id": "egHmcvYSKiBk"
      },
      "source": [
        "# Name: Yash Meshram\n",
        "\n",
        "# Assignment-3 : question-11"
      ]
    },
    {
      "cell_type": "code",
      "metadata": {
        "id": "A-0t1A2jKcfe"
      },
      "source": [
        "import math\n",
        "import numpy as np\n",
        "import sympy as sym\n",
        "\n",
        "def deg(theta):\n",
        "    rad = (math.pi/180)*theta\n",
        "    return rad\n",
        "\n",
        "def cos(q):\n",
        "    return math.cos(deg(q))\n",
        "\n",
        "def sin(q):\n",
        "    return math.sin(deg(q))"
      ],
      "execution_count": null,
      "outputs": []
    },
    {
      "cell_type": "code",
      "metadata": {
        "id": "t_AHC4gZKk1i",
        "colab": {
          "base_uri": "https://localhost:8080/",
          "height": 85
        },
        "outputId": "ca61ce90-16bd-4d9f-e33b-846b6b2fd137"
      },
      "source": [
        "# For 2-R elbow manipulator\n",
        "n = 2                                    \n",
        "s = 'RR'\n",
        "m1 = sym.Symbol('m1')\n",
        "m2 = sym.Symbol('m2')\n",
        "l1 = sym.Symbol('l1')\n",
        "l2 = sym.Symbol('l2')\n",
        "q1 = sym.Symbol('q1')\n",
        "q2 = sym.Symbol('q2')\n",
        "I1 = m1*l1**2/12\n",
        "I2 = m2*l2**2/12\n",
        "g = sym.Symbol('g')\n",
        "D = sym.Matrix([[m2*l1**2 + m1*l1**2/4 + I1,    m2*l1*l2/2 * sym.cos(q2 - q1)],\n",
        "                [m2*l1*l2/2 * sym.cos(q2 - q1),               m2*l2**2/4 + I2]])\n",
        "print('D = ')\n",
        "D"
      ],
      "execution_count": null,
      "outputs": [
        {
          "output_type": "stream",
          "name": "stdout",
          "text": [
            "D = \n"
          ]
        },
        {
          "output_type": "execute_result",
          "data": {
            "text/latex": "$\\displaystyle \\left[\\begin{matrix}\\frac{l_{1}^{2} m_{1}}{3} + l_{1}^{2} m_{2} & \\frac{l_{1} l_{2} m_{2} \\cos{\\left(q_{1} - q_{2} \\right)}}{2}\\\\\\frac{l_{1} l_{2} m_{2} \\cos{\\left(q_{1} - q_{2} \\right)}}{2} & \\frac{l_{2}^{2} m_{2}}{3}\\end{matrix}\\right]$",
            "text/plain": [
              "Matrix([\n",
              "[  l1**2*m1/3 + l1**2*m2, l1*l2*m2*cos(q1 - q2)/2],\n",
              "[l1*l2*m2*cos(q1 - q2)/2,              l2**2*m2/3]])"
            ]
          },
          "metadata": {},
          "execution_count": 2
        }
      ]
    },
    {
      "cell_type": "code",
      "metadata": {
        "colab": {
          "base_uri": "https://localhost:8080/",
          "height": 75
        },
        "id": "epRCLywjkPFC",
        "outputId": "0f1fd3c6-fd87-4571-ed7a-7c563430132b"
      },
      "source": [
        "V = m1*g*l1/2 * sym.sin(q1) + m2*g*(l1*sym.sin(q1) + l2/2 * sym.sin(q2))\n",
        "print('V = ')\n",
        "V"
      ],
      "execution_count": null,
      "outputs": [
        {
          "output_type": "stream",
          "name": "stdout",
          "text": [
            "V = \n"
          ]
        },
        {
          "output_type": "execute_result",
          "data": {
            "text/latex": "$\\displaystyle \\frac{g l_{1} m_{1} \\sin{\\left(q_{1} \\right)}}{2} + g m_{2} \\left(l_{1} \\sin{\\left(q_{1} \\right)} + \\frac{l_{2} \\sin{\\left(q_{2} \\right)}}{2}\\right)$",
            "text/plain": [
              "g*l1*m1*sin(q1)/2 + g*m2*(l1*sin(q1) + l2*sin(q2)/2)"
            ]
          },
          "metadata": {},
          "execution_count": 3
        }
      ]
    },
    {
      "cell_type": "code",
      "metadata": {
        "colab": {
          "base_uri": "https://localhost:8080/",
          "height": 70
        },
        "id": "93QJtDBWqgy_",
        "outputId": "6a038f99-5f93-42a8-a2c7-c7e1d91388bb"
      },
      "source": [
        "ph1 = sym.diff(V, q1)\n",
        "print('ph1 = ')\n",
        "ph1"
      ],
      "execution_count": null,
      "outputs": [
        {
          "output_type": "stream",
          "name": "stdout",
          "text": [
            "ph1 = \n"
          ]
        },
        {
          "output_type": "execute_result",
          "data": {
            "text/latex": "$\\displaystyle \\frac{g l_{1} m_{1} \\cos{\\left(q_{1} \\right)}}{2} + g l_{1} m_{2} \\cos{\\left(q_{1} \\right)}$",
            "text/plain": [
              "g*l1*m1*cos(q1)/2 + g*l1*m2*cos(q1)"
            ]
          },
          "metadata": {},
          "execution_count": 4
        }
      ]
    },
    {
      "cell_type": "code",
      "metadata": {
        "colab": {
          "base_uri": "https://localhost:8080/",
          "height": 70
        },
        "id": "hB0_TJVMqjWq",
        "outputId": "7c386eec-45a2-4c9b-a9f3-678df5da0222"
      },
      "source": [
        "ph2 = sym.diff(V, q2)\n",
        "print('ph2 = ')\n",
        "ph2"
      ],
      "execution_count": null,
      "outputs": [
        {
          "output_type": "stream",
          "name": "stdout",
          "text": [
            "ph2 = \n"
          ]
        },
        {
          "output_type": "execute_result",
          "data": {
            "text/latex": "$\\displaystyle \\frac{g l_{2} m_{2} \\cos{\\left(q_{2} \\right)}}{2}$",
            "text/plain": [
              "g*l2*m2*cos(q2)/2"
            ]
          },
          "metadata": {},
          "execution_count": 5
        }
      ]
    },
    {
      "cell_type": "code",
      "metadata": {
        "colab": {
          "base_uri": "https://localhost:8080/",
          "height": 55
        },
        "id": "tyLnjTYxtg8C",
        "outputId": "86e98081-21c3-4f13-bd35-e2c62cd7be25"
      },
      "source": [
        "C221 = sym.simplify(1/2 * (sym.diff(D[0,1], q2) + sym.diff(D[0,1], q2) - sym.diff(D[1,1], q1)))\n",
        "print('C221 = ')\n",
        "C221"
      ],
      "execution_count": null,
      "outputs": [
        {
          "output_type": "stream",
          "name": "stdout",
          "text": [
            "C221 = \n"
          ]
        },
        {
          "output_type": "execute_result",
          "data": {
            "text/latex": "$\\displaystyle 0.5 l_{1} l_{2} m_{2} \\sin{\\left(q_{1} - q_{2} \\right)}$",
            "text/plain": [
              "0.5*l1*l2*m2*sin(q1 - q2)"
            ]
          },
          "metadata": {},
          "execution_count": 6
        }
      ]
    },
    {
      "cell_type": "code",
      "metadata": {
        "colab": {
          "base_uri": "https://localhost:8080/",
          "height": 55
        },
        "id": "TgxHaymau9Q3",
        "outputId": "e79f99ab-b438-40b8-e716-d52d7144c22f"
      },
      "source": [
        "C112 = -sym.simplify(1/2 * (sym.diff(D[1,0], q1) + sym.diff(D[1,0], q1) - sym.diff(D[0,0], q2)))\n",
        "print('C112 = ')\n",
        "C112"
      ],
      "execution_count": null,
      "outputs": [
        {
          "output_type": "stream",
          "name": "stdout",
          "text": [
            "C112 = \n"
          ]
        },
        {
          "output_type": "execute_result",
          "data": {
            "text/latex": "$\\displaystyle 0.5 l_{1} l_{2} m_{2} \\sin{\\left(q_{1} - q_{2} \\right)}$",
            "text/plain": [
              "0.5*l1*l2*m2*sin(q1 - q2)"
            ]
          },
          "metadata": {},
          "execution_count": 7
        }
      ]
    },
    {
      "cell_type": "code",
      "metadata": {
        "id": "oCrtV_3awIeE"
      },
      "source": [
        "q1, q2 = sym.symbols('q1 q2', cls=sym.Function)"
      ],
      "execution_count": null,
      "outputs": []
    },
    {
      "cell_type": "code",
      "metadata": {
        "id": "D142ZubbyuGa"
      },
      "source": [
        "T1 = sym.Symbol('T1')\n",
        "T2 = sym.Symbol('T2')\n",
        "t = sym.Symbol('t')"
      ],
      "execution_count": null,
      "outputs": []
    },
    {
      "cell_type": "code",
      "metadata": {
        "colab": {
          "base_uri": "https://localhost:8080/",
          "height": 80
        },
        "id": "8WOEiGr1wjLQ",
        "outputId": "d67dd554-3613-43c4-958b-a741dd8597f8"
      },
      "source": [
        "T1 = D[0,0]*q1(t).diff(t,t) + D[0,1]*q2(t).diff(t,t) + C221*q2(t).diff(t)**2 + ph1\n",
        "print('T1 = ')\n",
        "T1"
      ],
      "execution_count": null,
      "outputs": [
        {
          "output_type": "stream",
          "name": "stdout",
          "text": [
            "T1 = \n"
          ]
        },
        {
          "output_type": "execute_result",
          "data": {
            "text/latex": "$\\displaystyle \\frac{g l_{1} m_{1} \\cos{\\left(q_{1} \\right)}}{2} + g l_{1} m_{2} \\cos{\\left(q_{1} \\right)} + 0.5 l_{1} l_{2} m_{2} \\sin{\\left(q_{1} - q_{2} \\right)} \\left(\\frac{d}{d t} \\operatorname{q_{2}}{\\left(t \\right)}\\right)^{2} + \\frac{l_{1} l_{2} m_{2} \\cos{\\left(q_{1} - q_{2} \\right)} \\frac{d^{2}}{d t^{2}} \\operatorname{q_{2}}{\\left(t \\right)}}{2} + \\left(\\frac{l_{1}^{2} m_{1}}{3} + l_{1}^{2} m_{2}\\right) \\frac{d^{2}}{d t^{2}} \\operatorname{q_{1}}{\\left(t \\right)}$",
            "text/plain": [
              "g*l1*m1*cos(q1)/2 + g*l1*m2*cos(q1) + 0.5*l1*l2*m2*sin(q1 - q2)*Derivative(q2(t), t)**2 + l1*l2*m2*cos(q1 - q2)*Derivative(q2(t), (t, 2))/2 + (l1**2*m1/3 + l1**2*m2)*Derivative(q1(t), (t, 2))"
            ]
          },
          "metadata": {},
          "execution_count": 10
        }
      ]
    },
    {
      "cell_type": "code",
      "metadata": {
        "colab": {
          "base_uri": "https://localhost:8080/",
          "height": 80
        },
        "id": "nNq2ed4ayz4r",
        "outputId": "af747748-9b15-49d6-eb2e-7f5a416b2cb9"
      },
      "source": [
        "T2 = D[1,0]*q1(t).diff(t,t) + D[1,1]*q2(t).diff(t,t) + C112*q1(t).diff(t)**2 + ph2\n",
        "print('T2 = ')\n",
        "T2"
      ],
      "execution_count": null,
      "outputs": [
        {
          "output_type": "stream",
          "name": "stdout",
          "text": [
            "T2 = \n"
          ]
        },
        {
          "output_type": "execute_result",
          "data": {
            "text/latex": "$\\displaystyle \\frac{g l_{2} m_{2} \\cos{\\left(q_{2} \\right)}}{2} + 0.5 l_{1} l_{2} m_{2} \\sin{\\left(q_{1} - q_{2} \\right)} \\left(\\frac{d}{d t} \\operatorname{q_{1}}{\\left(t \\right)}\\right)^{2} + \\frac{l_{1} l_{2} m_{2} \\cos{\\left(q_{1} - q_{2} \\right)} \\frac{d^{2}}{d t^{2}} \\operatorname{q_{1}}{\\left(t \\right)}}{2} + \\frac{l_{2}^{2} m_{2} \\frac{d^{2}}{d t^{2}} \\operatorname{q_{2}}{\\left(t \\right)}}{3}$",
            "text/plain": [
              "g*l2*m2*cos(q2)/2 + 0.5*l1*l2*m2*sin(q1 - q2)*Derivative(q1(t), t)**2 + l1*l2*m2*cos(q1 - q2)*Derivative(q1(t), (t, 2))/2 + l2**2*m2*Derivative(q2(t), (t, 2))/3"
            ]
          },
          "metadata": {},
          "execution_count": 13
        }
      ]
    },
    {
      "cell_type": "code",
      "metadata": {
        "id": "gqbsEhEezdMM"
      },
      "source": [
        ""
      ],
      "execution_count": null,
      "outputs": []
    }
  ]
}