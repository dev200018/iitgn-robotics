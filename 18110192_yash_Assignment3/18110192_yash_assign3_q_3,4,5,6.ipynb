{
  "nbformat": 4,
  "nbformat_minor": 0,
  "metadata": {
    "colab": {
      "name": "18110192_yash_assign3_q_3,4,5,6.ipynb",
      "provenance": []
    },
    "kernelspec": {
      "name": "python3",
      "display_name": "Python 3"
    },
    "language_info": {
      "name": "python"
    }
  },
  "cells": [
    {
      "cell_type": "markdown",
      "metadata": {
        "id": "Gg3Fqtz82w_l"
      },
      "source": [
        "# Name: Yash Meshram\n",
        "\n",
        "# Assignment-3 : question-3, 4, 5 and 6"
      ]
    },
    {
      "cell_type": "code",
      "metadata": {
        "id": "RabFtTz-EZr0"
      },
      "source": [
        ""
      ],
      "execution_count": null,
      "outputs": []
    },
    {
      "cell_type": "markdown",
      "metadata": {
        "id": "Fr-DoxFFEbJY"
      },
      "source": [
        "# question-3"
      ]
    },
    {
      "cell_type": "code",
      "metadata": {
        "id": "0xuoTGHM2frI"
      },
      "source": [
        "import math\n",
        "import numpy as np\n",
        "\n",
        "def deg(theta):\n",
        "    rad = (math.pi/180)*theta\n",
        "    return rad\n",
        "\n",
        "def cos(q):\n",
        "    return math.cos(deg(q))\n",
        "\n",
        "def sin(q):\n",
        "    return math.sin(deg(q))"
      ],
      "execution_count": null,
      "outputs": []
    },
    {
      "cell_type": "code",
      "metadata": {
        "id": "Uw4_cpvS_-Va"
      },
      "source": [
        "def R_(ap, teta):\n",
        "    R = np.array([[cos(teta), -sin(teta)*cos(ap),  sin(teta)*sin(ap)],\n",
        "                  [sin(teta),  cos(teta)*cos(ap), -cos(teta)*sin(ap)],\n",
        "                  [        0,            sin(ap),            cos(ap)]])\n",
        "    return R\n",
        "def P_(a, d, teta):\n",
        "    P = np.array([[a*cos(teta)],\n",
        "                  [a*sin(teta)],\n",
        "                  [d]])\n",
        "    return P\n",
        "\n",
        "def solve(n, s, DH):\n",
        "    To = np.identity(4, dtype = float)\n",
        "    extra_row = np.array([0, 0, 0, 1])\n",
        "\n",
        "    for i in range(n):\n",
        "        a_i = DH[i][0]\n",
        "        ap_i = DH[i][1]\n",
        "        d_i = DH[i][2]\n",
        "        teta_i = DH[i][3]\n",
        "\n",
        "        R_i = R_(ap_i, teta_i)\n",
        "        P_i = P_(a_i, d_i, teta_i)\n",
        "        A_i = np.vstack((np.concatenate((R_i, P_i), axis=1), extra_row))\n",
        "        To = np.dot(To, A_i)\n",
        "\n",
        "    Pn = np.array([[To[0][3]],\n",
        "                [To[1][3]],\n",
        "                [To[2][3]]])\n",
        "\n",
        "\n",
        "    T = np.identity(4, dtype = float)\n",
        "    z = np.array([[0],\n",
        "                [0],\n",
        "                [1]])\n",
        "    Pn = np.transpose(Pn)\n",
        "\n",
        "    J = np.zeros([6,1])\n",
        "    if s[0] == 'R':\n",
        "        J0 = np.concatenate((np.cross(np.transpose(z), Pn), np.transpose(z)), axis=1)\n",
        "    elif s[0] == 'P':\n",
        "        J0 = np.concatenate((np.transpose(z), np.zeros([1,3])), axis=1)\n",
        "    J = np.concatenate((J, np.transpose(J0)), axis=1)\n",
        "    J = np.delete(J, 0, axis=1)\n",
        "\n",
        "    for i in range(n-1):\n",
        "        a_i = DH[i][0]\n",
        "        ap_i = DH[i][1]\n",
        "        d_i = DH[i][2]\n",
        "        teta_i = DH[i][3]\n",
        "\n",
        "        R_i = R_(ap_i, teta_i)\n",
        "        P_i = P_(a_i, d_i, teta_i)\n",
        "        A_i = np.vstack((np.concatenate((R_i, P_i), axis=1), extra_row))\n",
        "        T = np.dot(T, A_i)\n",
        "        R = T[:3,:3]\n",
        "        P = np.transpose(T[:3,3])\n",
        "\n",
        "        Z_i = np.transpose(np.dot(R, z))\n",
        "        if s[i+1] == 'R':\n",
        "            r1 = np.cross(Z_i, (Pn - P))\n",
        "            r2 = Z_i\n",
        "        elif s[i+1] == 'P':\n",
        "            r1 = Z_i\n",
        "            r2 = np.zeros([1,3])\n",
        "        Ji = np.concatenate((r1, r2), axis = 1)\n",
        "        Ji = np.transpose(Ji)\n",
        "        J = np.concatenate((J, Ji), axis = 1)\n",
        "    Pn = np.transpose(Pn)\n",
        "\n",
        "    W = np.array([0])\n",
        "    for i in range(n):\n",
        "        if s[i] == 'R':\n",
        "            W = np.append(W, [5])\n",
        "        elif s[i] == 'P':\n",
        "            W = np.append(W, [0])\n",
        "    W = np.delete(W, [0])\n",
        "\n",
        "    print('(a) Complete manipulator Jacobian = \\n', J)\n",
        "    print('\\n')\n",
        "    print('(b) End-effector position = \\n', Pn)\n",
        "    print('\\n')\n",
        "    print('(c) End-effector velocity = \\n', np.dot(J, np.transpose(W)))\n",
        "    print('\\n')\n",
        "    print('T = \\n', To)"
      ],
      "execution_count": null,
      "outputs": []
    },
    {
      "cell_type": "code",
      "metadata": {
        "colab": {
          "base_uri": "https://localhost:8080/"
        },
        "id": "zbk9n4yQ27dp",
        "outputId": "d8e1429a-ed4c-4d3f-91a3-673bd189515a"
      },
      "source": [
        "# Inputs\n",
        "n = 3                                     # Number of links\n",
        "s = 'RRR'                                 # Type of joints\n",
        "DH = np.array([[10, 0, 0, 45],            # DH Parameters (EACH ROW IN ORDER [ai, alpha_i, di, theta_i])\n",
        "               [10, 0, 0, 90],           \n",
        "               [10, 0, 0, 45]])\n",
        "\n",
        "# Calculating\n",
        "solve(n, s, DH)"
      ],
      "execution_count": null,
      "outputs": [
        {
          "output_type": "stream",
          "name": "stdout",
          "text": [
            "(a) Complete manipulator Jacobian = \n",
            " [[-1.41421356e+01 -7.07106781e+00 -1.77635684e-15]\n",
            " [-1.00000000e+01 -1.70710678e+01 -1.00000000e+01]\n",
            " [ 0.00000000e+00  0.00000000e+00  0.00000000e+00]\n",
            " [ 0.00000000e+00  0.00000000e+00  0.00000000e+00]\n",
            " [ 0.00000000e+00  0.00000000e+00  0.00000000e+00]\n",
            " [ 1.00000000e+00  1.00000000e+00  1.00000000e+00]]\n",
            "\n",
            "\n",
            "(b) End-effector position = \n",
            " [[-10.        ]\n",
            " [ 14.14213562]\n",
            " [  0.        ]]\n",
            "\n",
            "\n",
            "(c) End-effector velocity = \n",
            " [-106.06601718 -185.35533906    0.            0.            0.\n",
            "   15.        ]\n",
            "\n",
            "\n",
            "T = \n",
            " [[-1.00000000e+00 -1.79380389e-16  0.00000000e+00 -1.00000000e+01]\n",
            " [ 1.99673462e-16 -1.00000000e+00  0.00000000e+00  1.41421356e+01]\n",
            " [ 0.00000000e+00  0.00000000e+00  1.00000000e+00  0.00000000e+00]\n",
            " [ 0.00000000e+00  0.00000000e+00  0.00000000e+00  1.00000000e+00]]\n"
          ]
        }
      ]
    },
    {
      "cell_type": "code",
      "metadata": {
        "id": "kNF2taLbEKYu"
      },
      "source": [
        ""
      ],
      "execution_count": null,
      "outputs": []
    },
    {
      "cell_type": "markdown",
      "metadata": {
        "id": "e3MNSSpJEj2p"
      },
      "source": [
        "# question-4:\n",
        "# RRP - SCARA"
      ]
    },
    {
      "cell_type": "code",
      "metadata": {
        "colab": {
          "base_uri": "https://localhost:8080/"
        },
        "id": "WW39AKUJElbh",
        "outputId": "bd7b3cea-05ba-4616-ed01-2be42303e7ba"
      },
      "source": [
        "# Inputs\n",
        "n = 3                                      # Number of links\n",
        "s = 'RRP'\n",
        "DH = np.array([[10,   0, 0, 30],           # DH Parameters (EACH ROW IN ORDER [ai, alpha_i, di, theta_i]) \n",
        "               [10, 180, 0, 45],           \n",
        "               [0,    0, 5, 0]])\n",
        "\n",
        "# Calculating\n",
        "solve(n, s, DH)"
      ],
      "execution_count": null,
      "outputs": [
        {
          "output_type": "stream",
          "name": "stdout",
          "text": [
            "(a) Complete manipulator Jacobian = \n",
            " [[-1.46592583e+01 -9.65925826e+00  1.18291797e-16]\n",
            " [ 1.12484445e+01  2.58819045e+00 -3.16961915e-17]\n",
            " [ 0.00000000e+00  0.00000000e+00 -1.00000000e+00]\n",
            " [ 0.00000000e+00  0.00000000e+00  0.00000000e+00]\n",
            " [ 0.00000000e+00  0.00000000e+00  0.00000000e+00]\n",
            " [ 1.00000000e+00  1.00000000e+00  0.00000000e+00]]\n",
            "\n",
            "\n",
            "(b) End-effector position = \n",
            " [[11.24844449]\n",
            " [14.65925826]\n",
            " [-5.        ]]\n",
            "\n",
            "\n",
            "(c) End-effector velocity = \n",
            " [-121.59258263   69.1831747     0.            0.            0.\n",
            "   10.        ]\n",
            "\n",
            "\n",
            "T = \n",
            " [[ 2.58819045e-01  9.65925826e-01  1.18291797e-16  1.12484445e+01]\n",
            " [ 9.65925826e-01 -2.58819045e-01 -3.16961915e-17  1.46592583e+01]\n",
            " [ 0.00000000e+00  1.22464680e-16 -1.00000000e+00 -5.00000000e+00]\n",
            " [ 0.00000000e+00  0.00000000e+00  0.00000000e+00  1.00000000e+00]]\n"
          ]
        }
      ]
    },
    {
      "cell_type": "code",
      "metadata": {
        "id": "fdWLS72BEkpm"
      },
      "source": [
        ""
      ],
      "execution_count": null,
      "outputs": []
    },
    {
      "cell_type": "markdown",
      "metadata": {
        "id": "e7IfI23B3am2"
      },
      "source": [
        "# question-4:\n",
        "# RRP - standford"
      ]
    },
    {
      "cell_type": "code",
      "metadata": {
        "colab": {
          "base_uri": "https://localhost:8080/"
        },
        "id": "g3ZDNjq-3Z0T",
        "outputId": "8fef7f75-f491-4f50-9965-a5bc61b88f22"
      },
      "source": [
        "# Inputs\n",
        "n = 3                                      # Number of links\n",
        "s = 'RRP'\n",
        "DH = np.array([[ 0, 90, 10, 30],           # DH Parameters (EACH ROW IN ORDER [ai, alpha_i, di, theta_i]) \n",
        "               [10,  0,  0, 45],           \n",
        "               [ 5,  0,  0, 0]])\n",
        "\n",
        "# Calculating\n",
        "solve(n, s, DH)"
      ],
      "execution_count": null,
      "outputs": [
        {
          "output_type": "stream",
          "name": "stdout",
          "text": [
            "(a) Complete manipulator Jacobian = \n",
            " [[-5.30330086e+00 -9.18558654e+00  5.00000000e-01]\n",
            " [ 9.18558654e+00 -5.30330086e+00 -8.66025404e-01]\n",
            " [ 0.00000000e+00  1.06066017e+01  6.12323400e-17]\n",
            " [ 0.00000000e+00  5.00000000e-01  0.00000000e+00]\n",
            " [ 0.00000000e+00 -8.66025404e-01  0.00000000e+00]\n",
            " [ 1.00000000e+00  6.12323400e-17  0.00000000e+00]]\n",
            "\n",
            "\n",
            "(b) End-effector position = \n",
            " [[ 9.18558654]\n",
            " [ 5.30330086]\n",
            " [20.60660172]]\n",
            "\n",
            "\n",
            "(c) End-effector velocity = \n",
            " [-72.44443697  19.41142838  53.03300859   2.5         -4.33012702\n",
            "   5.        ]\n",
            "\n",
            "\n",
            "T = \n",
            " [[ 6.12372436e-01 -6.12372436e-01  5.00000000e-01  9.18558654e+00]\n",
            " [ 3.53553391e-01 -3.53553391e-01 -8.66025404e-01  5.30330086e+00]\n",
            " [ 7.07106781e-01  7.07106781e-01  6.12323400e-17  2.06066017e+01]\n",
            " [ 0.00000000e+00  0.00000000e+00  0.00000000e+00  1.00000000e+00]]\n"
          ]
        }
      ]
    },
    {
      "cell_type": "code",
      "metadata": {
        "id": "yeuI6VV23ZoO"
      },
      "source": [
        ""
      ],
      "execution_count": null,
      "outputs": []
    },
    {
      "cell_type": "markdown",
      "metadata": {
        "id": "amgGL_UnDQpQ"
      },
      "source": [
        "# question-5: for PPP\n",
        "\n",
        "\n"
      ]
    },
    {
      "cell_type": "code",
      "metadata": {
        "colab": {
          "base_uri": "https://localhost:8080/"
        },
        "id": "sSXdsQ_U7rJh",
        "outputId": "37dc261f-0fef-4ccb-af9d-680aaddb5f1f"
      },
      "source": [
        "# Inputs\n",
        "n = 3                                       # Number of links\n",
        "s = 'PPP'                                   # Type of joints\n",
        "DH = np.array([[0, -90, 2,   0],            # DH Parameters (EACH ROW IN ORDER [ai, alpha_i, di, theta_i])\n",
        "               [0, -90, 3, -90],           \n",
        "               [0,   0, 5,   0]])\n",
        "\n",
        "# calculating\n",
        "solve(n, s, DH)"
      ],
      "execution_count": null,
      "outputs": [
        {
          "output_type": "stream",
          "name": "stdout",
          "text": [
            "(a) Complete manipulator Jacobian = \n",
            " [[ 0.000000e+00  0.000000e+00  1.000000e+00]\n",
            " [ 0.000000e+00  1.000000e+00  6.123234e-17]\n",
            " [ 1.000000e+00  6.123234e-17 -6.123234e-17]\n",
            " [ 0.000000e+00  0.000000e+00  0.000000e+00]\n",
            " [ 0.000000e+00  0.000000e+00  0.000000e+00]\n",
            " [ 0.000000e+00  0.000000e+00  0.000000e+00]]\n",
            "\n",
            "\n",
            "(b) End-effector position = \n",
            " [[5.]\n",
            " [3.]\n",
            " [2.]]\n",
            "\n",
            "\n",
            "(c) End-effector velocity = \n",
            " [0. 0. 0. 0. 0. 0.]\n",
            "\n",
            "\n",
            "T = \n",
            " [[ 6.123234e-17  6.123234e-17  1.000000e+00  5.000000e+00]\n",
            " [-6.123234e-17 -1.000000e+00  6.123234e-17  3.000000e+00]\n",
            " [ 1.000000e+00 -6.123234e-17 -6.123234e-17  2.000000e+00]\n",
            " [ 0.000000e+00  0.000000e+00  0.000000e+00  1.000000e+00]]\n"
          ]
        }
      ]
    },
    {
      "cell_type": "code",
      "metadata": {
        "id": "lwhk_PbOD3n3"
      },
      "source": [
        ""
      ],
      "execution_count": null,
      "outputs": []
    },
    {
      "cell_type": "markdown",
      "metadata": {
        "id": "V6q59kWrKCdK"
      },
      "source": [
        "# question-6"
      ]
    },
    {
      "cell_type": "code",
      "metadata": {
        "colab": {
          "base_uri": "https://localhost:8080/"
        },
        "id": "bW0KgAndKD5t",
        "outputId": "1e12717e-ef5f-4946-ebff-8bffa5d92fed"
      },
      "source": [
        "# Inputs\n",
        "n = 6                                       # Number of links\n",
        "s = 'RRRRRR'                                # Type of joints\n",
        "DH = np.array([[ 0, 90, 0,  0],            # DH Parameters (EACH ROW IN ORDER [ai, alpha_i, di, theta_i])\n",
        "               [ 1,  0, 0,  0],           \n",
        "               [ 1,  0, 0,  0],\n",
        "               [ 0,-90, 0,  0],\n",
        "               [ 0,-90, 0,-90],\n",
        "               [ 0,  0, 1,  0]])\n",
        "\n",
        "# calculating\n",
        "solve(n, s, DH)"
      ],
      "execution_count": null,
      "outputs": [
        {
          "output_type": "stream",
          "name": "stdout",
          "text": [
            "(a) Complete manipulator Jacobian = \n",
            " [[-6.1232340e-17 -6.1232340e-17 -6.1232340e-17 -6.1232340e-17\n",
            "  -6.1232340e-17  0.0000000e+00]\n",
            " [ 3.0000000e+00  1.8369702e-16  1.2246468e-16  6.1232340e-17\n",
            "   1.0000000e+00  0.0000000e+00]\n",
            " [ 0.0000000e+00  3.0000000e+00  2.0000000e+00  1.0000000e+00\n",
            "   0.0000000e+00  0.0000000e+00]\n",
            " [ 0.0000000e+00  0.0000000e+00  0.0000000e+00  0.0000000e+00\n",
            "   0.0000000e+00  1.0000000e+00]\n",
            " [ 0.0000000e+00 -1.0000000e+00 -1.0000000e+00 -1.0000000e+00\n",
            "   0.0000000e+00  6.1232340e-17]\n",
            " [ 1.0000000e+00  6.1232340e-17  6.1232340e-17  6.1232340e-17\n",
            "   1.0000000e+00  6.1232340e-17]]\n",
            "\n",
            "\n",
            "(b) End-effector position = \n",
            " [[3.000000e+00]\n",
            " [6.123234e-17]\n",
            " [6.123234e-17]]\n",
            "\n",
            "\n",
            "(c) End-effector velocity = \n",
            " [-1.5308085e-15  2.0000000e+01  3.0000000e+01  5.0000000e+00\n",
            " -1.5000000e+01  1.0000000e+01]\n",
            "\n",
            "\n",
            "T = \n",
            " [[ 6.12323400e-17  6.12323400e-17  1.00000000e+00  3.00000000e+00]\n",
            " [-1.00000000e+00  3.74939946e-33  6.12323400e-17  6.12323400e-17]\n",
            " [ 0.00000000e+00 -1.00000000e+00  6.12323400e-17  6.12323400e-17]\n",
            " [ 0.00000000e+00  0.00000000e+00  0.00000000e+00  1.00000000e+00]]\n"
          ]
        }
      ]
    },
    {
      "cell_type": "code",
      "metadata": {
        "id": "lW-jWYCZK_v4"
      },
      "source": [
        ""
      ],
      "execution_count": null,
      "outputs": []
    }
  ]
}