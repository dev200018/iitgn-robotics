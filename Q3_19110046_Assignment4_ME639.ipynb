{
  "nbformat": 4,
  "nbformat_minor": 0,
  "metadata": {
    "colab": {
      "name": "Q3_19110046_Assignment4_ME639.ipynb",
      "provenance": []
    },
    "kernelspec": {
      "name": "python3",
      "display_name": "Python 3"
    },
    "language_info": {
      "name": "python"
    }
  },
  "cells": [
    {
      "cell_type": "code",
      "metadata": {
        "id": "3IuwynKrI3w_"
      },
      "source": [
        "#First 6 cells of code is copied from Q3_Assignment3 submission by Dhvani Shah\n",
        "#Only extra part added is input of end effector velocity\n",
        "import numpy as np\n",
        "import math\n",
        "import matplotlib.pyplot as plt"
      ],
      "execution_count": 25,
      "outputs": []
    },
    {
      "cell_type": "code",
      "metadata": {
        "colab": {
          "base_uri": "https://localhost:8080/"
        },
        "id": "oAXxk5GgI9R5",
        "outputId": "214ff590-1261-4296-afc3-0056a57b594c"
      },
      "source": [
        "#degrees of freedom\n",
        "DOFs = int(input(\"Enter degrees of freedom\"))\n",
        "\n",
        "theta = np.zeros((DOFs))\n",
        "alpha = np.zeros((DOFs))\n",
        "a = np.zeros((DOFs))\n",
        "d = np.zeros((DOFs))\n",
        "\n",
        "for i in range(0, DOFs):\n",
        "  print(\"data for link\", i)\n",
        "  theta[i] = math.pi*float(input(\"Theta\"))/180\n",
        "  alpha[i] = math.pi*float(input(\"Alpha\"))/180\n",
        "  a[i] = float(input(\"a\"))\n",
        "  d[i] = float(input(\"d\"))\n",
        "\n",
        "velo = np.array(list(map(float, input(\"Enter end effector velocity in the form (vx vy vz wx wy wz)\").split()))).reshape((6,1))"
      ],
      "execution_count": 18,
      "outputs": [
        {
          "name": "stdout",
          "output_type": "stream",
          "text": [
            "Enter degrees of freedom3\n",
            "data for link 0\n",
            "Theta0\n",
            "Alpha-90\n",
            "a0\n",
            "d5\n",
            "data for link 1\n",
            "Theta-90\n",
            "Alpha-90\n",
            "a0\n",
            "d5\n",
            "data for link 2\n",
            "Theta90\n",
            "Alpha-90\n",
            "a0\n",
            "d5\n",
            "Enter end effector velocity in the form (vx vy vz wx wy wz)1 1 1 0 0 0\n"
          ]
        }
      ]
    },
    {
      "cell_type": "code",
      "metadata": {
        "colab": {
          "base_uri": "https://localhost:8080/"
        },
        "id": "AXOvueXBJEGm",
        "outputId": "bdf056c1-8bb8-482c-f8d7-5febdbf96f1e"
      },
      "source": [
        "joint = [0]*DOFs\n",
        "for i in range(0, DOFs):\n",
        "  print(\"Type of joint\", i+1)\n",
        "  val = input()\n",
        "  if val == \"p\":\n",
        "    joint[i] = \"p\"\n",
        "  else:\n",
        "    joint[i] = \"r\""
      ],
      "execution_count": 19,
      "outputs": [
        {
          "name": "stdout",
          "output_type": "stream",
          "text": [
            "Type of joint 1\n",
            "p\n",
            "Type of joint 2\n",
            "p\n",
            "Type of joint 3\n",
            "p\n"
          ]
        }
      ]
    },
    {
      "cell_type": "code",
      "metadata": {
        "colab": {
          "base_uri": "https://localhost:8080/"
        },
        "id": "TXwjljw8JFQz",
        "outputId": "2317e8bb-126d-492b-dd1d-49db7af9016f"
      },
      "source": [
        "#Transformation Matrix\n",
        "temp = np.identity((4))\n",
        "T = np.zeros((DOFs, 4, 4))\n",
        "\n",
        "for i in range(0, DOFs):\n",
        "  costheta = math.cos(theta[i])\n",
        "  sintheta = math.sin(theta[i])\n",
        "  cosalpha = math.cos(alpha[i])\n",
        "  sinalpha = math.sin(alpha[i])\n",
        "\n",
        "  T[i, :, :] = [[costheta, -sintheta*cosalpha, sintheta*sinalpha, a[i]*costheta], \n",
        "                [sintheta, costheta*cosalpha, -costheta*sinalpha, a[i]*sintheta], \n",
        "                [0, sinalpha, cosalpha, d[i]], \n",
        "                [0, 0, 0, 1]]\n",
        "\n",
        "print(T)"
      ],
      "execution_count": 20,
      "outputs": [
        {
          "output_type": "stream",
          "name": "stdout",
          "text": [
            "[[[ 1.00000000e+00 -0.00000000e+00 -0.00000000e+00  0.00000000e+00]\n",
            "  [ 0.00000000e+00  6.12323400e-17  1.00000000e+00  0.00000000e+00]\n",
            "  [ 0.00000000e+00 -1.00000000e+00  6.12323400e-17  5.00000000e+00]\n",
            "  [ 0.00000000e+00  0.00000000e+00  0.00000000e+00  1.00000000e+00]]\n",
            "\n",
            " [[ 6.12323400e-17  6.12323400e-17  1.00000000e+00  0.00000000e+00]\n",
            "  [-1.00000000e+00  3.74939946e-33  6.12323400e-17 -0.00000000e+00]\n",
            "  [ 0.00000000e+00 -1.00000000e+00  6.12323400e-17  5.00000000e+00]\n",
            "  [ 0.00000000e+00  0.00000000e+00  0.00000000e+00  1.00000000e+00]]\n",
            "\n",
            " [[ 6.12323400e-17 -6.12323400e-17 -1.00000000e+00  0.00000000e+00]\n",
            "  [ 1.00000000e+00  3.74939946e-33  6.12323400e-17  0.00000000e+00]\n",
            "  [ 0.00000000e+00 -1.00000000e+00  6.12323400e-17  5.00000000e+00]\n",
            "  [ 0.00000000e+00  0.00000000e+00  0.00000000e+00  1.00000000e+00]]]\n"
          ]
        }
      ]
    },
    {
      "cell_type": "code",
      "metadata": {
        "colab": {
          "base_uri": "https://localhost:8080/"
        },
        "id": "aO47cqrYJI3Y",
        "outputId": "04568ecc-b08b-4643-d4ed-10b161496973"
      },
      "source": [
        "temp = np.identity((4))\n",
        "Z = [0]*(DOFs + 1)\n",
        "Z[0] = np.array([[0], [0], [1]])\n",
        "O = [0]*(DOFs + 1)\n",
        "O[0] = np.array([0, 0, 0])\n",
        "\n",
        "for i in range(DOFs):\n",
        "  temp = np.matmul(temp,T[i])\n",
        "  Z[i+1] = np.matmul(temp[0:3, 0:3],Z[0])\n",
        "  O[i+1] = temp[0:3, 3].T\n",
        "\n",
        "print(temp)"
      ],
      "execution_count": 21,
      "outputs": [
        {
          "output_type": "stream",
          "name": "stdout",
          "text": [
            "[[ 6.12323400e-17 -1.00000000e+00  0.00000000e+00  5.00000000e+00]\n",
            " [-1.00000000e+00 -6.12323400e-17  3.74939946e-33  5.00000000e+00]\n",
            " [ 0.00000000e+00  0.00000000e+00 -1.00000000e+00  5.00000000e+00]\n",
            " [ 0.00000000e+00  0.00000000e+00  0.00000000e+00  1.00000000e+00]]\n"
          ]
        }
      ]
    },
    {
      "cell_type": "code",
      "metadata": {
        "colab": {
          "base_uri": "https://localhost:8080/"
        },
        "id": "VVFwL4rIJMDk",
        "outputId": "db1a05af-6bcc-4277-b8f3-55fe2dfcf3e8"
      },
      "source": [
        "J = [0]*DOFs\n",
        "for i in range(DOFs):\n",
        "  if joint[i] == 'p':\n",
        "    J[i] = np.concatenate((Z[i], np.array([[0,0,0]]).T), axis=0)\n",
        "\n",
        "  else:\n",
        "    mat = np.cross(Z[i].T, (O[DOFs]-O[i]).T)\n",
        "    J[i]=np.concatenate((mat.T,Z[i]),axis=0)\n",
        "\n",
        "jacobian = J[0]\n",
        "for i in range(1, DOFs):\n",
        "  jacobian = np.concatenate((jacobian,J[i]),axis=1)\n",
        "\n",
        "print(\"Jacobian matrix=\")\n",
        "print(jacobian)"
      ],
      "execution_count": 22,
      "outputs": [
        {
          "output_type": "stream",
          "name": "stdout",
          "text": [
            "Jacobian matrix=\n",
            "[[ 0.000000e+00  0.000000e+00  1.000000e+00]\n",
            " [ 0.000000e+00  1.000000e+00  6.123234e-17]\n",
            " [ 1.000000e+00  6.123234e-17 -6.123234e-17]\n",
            " [ 0.000000e+00  0.000000e+00  0.000000e+00]\n",
            " [ 0.000000e+00  0.000000e+00  0.000000e+00]\n",
            " [ 0.000000e+00  0.000000e+00  0.000000e+00]]\n"
          ]
        }
      ]
    },
    {
      "cell_type": "code",
      "metadata": {
        "colab": {
          "base_uri": "https://localhost:8080/"
        },
        "id": "pGbjML8uJQRL",
        "outputId": "e9a59a0a-c1d9-491c-ef66-46023ae08239"
      },
      "source": [
        "#Jacobian Inverse\n",
        "jacobian_inv = np.linalg.pinv(jacobian)\n",
        "\n",
        "print(jacobian_inv)\n",
        "#Joint velocities\n",
        "joint_velo = np.matmul(jacobian_inv, velo)\n",
        "print(joint_velo)"
      ],
      "execution_count": 23,
      "outputs": [
        {
          "output_type": "stream",
          "name": "stdout",
          "text": [
            "[[0.00000000e+00 0.00000000e+00 1.00000000e+00 0.00000000e+00\n",
            "  0.00000000e+00 0.00000000e+00]\n",
            " [2.33240805e-17 1.00000000e+00 0.00000000e+00 0.00000000e+00\n",
            "  0.00000000e+00 0.00000000e+00]\n",
            " [1.00000000e+00 3.55080835e-18 0.00000000e+00 0.00000000e+00\n",
            "  0.00000000e+00 0.00000000e+00]]\n",
            "[[1.]\n",
            " [1.]\n",
            " [1.]]\n"
          ]
        }
      ]
    },
    {
      "cell_type": "code",
      "metadata": {
        "id": "SNy4b52mKRaQ"
      },
      "source": [
        ""
      ],
      "execution_count": null,
      "outputs": []
    },
    {
      "cell_type": "code",
      "metadata": {
        "id": "ubuTWpoZUE97"
      },
      "source": [
        ""
      ],
      "execution_count": null,
      "outputs": []
    }
  ]
}