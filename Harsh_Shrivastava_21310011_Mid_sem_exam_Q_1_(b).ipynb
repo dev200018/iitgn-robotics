{
  "nbformat": 4,
  "nbformat_minor": 0,
  "metadata": {
    "colab": {
      "name": "Harsh Shrivastava-21310011-Mid sem exam - Q-1 (b)",
      "provenance": [],
      "collapsed_sections": []
    },
    "kernelspec": {
      "name": "python3",
      "display_name": "Python 3"
    },
    "language_info": {
      "name": "python"
    }
  },
  "cells": [
    {
      "cell_type": "code",
      "metadata": {
        "id": "aP60zc_LN9Dc"
      },
      "source": [
        "import numpy as np\n",
        "import math"
      ],
      "execution_count": null,
      "outputs": []
    },
    {
      "cell_type": "code",
      "metadata": {
        "id": "JE2qs14FO2EC"
      },
      "source": [
        "# scara\n",
        "def scara_invkin(x,y,z,d1,d2):\n",
        "    # using formulae from the textbook\n",
        "    r = abs((x**2+y**2-d1**2-d2**2)/(2*d1*d2))\n",
        "    theta2 = np.arctan(np.sqrt(abs(1-r**2))/r)\n",
        "    theta1 = np.arctan(y/x) - np.arctan((d2*np.sin(theta2))/(d1+d2*np.cos(theta2)))\n",
        "    d3 = -z\n",
        "    # converting from radians to degrees\n",
        "    theta1_deg = theta1*180/np.pi\n",
        "    theta2_deg = theta2*180/np.pi\n",
        "    print(\"\\nInverse kinematics solution:\")\n",
        "    print(f\"theta1 = {theta1_deg} deg\")\n",
        "    print(f\"theta2 = {theta2_deg} deg\")\n",
        "    return theta1, theta2\n",
        "\n",
        "# standford\n",
        "def stanford_inverse_kinematics(endeffector_position,lengthsoflinks):\n",
        "    theta1 = np.arctan(endeffector_position[1]/endeffector_position[0])\n",
        "    r = np.sqrt(endeffector_position[0]**2 + endeffector_position[1]**2)\n",
        "    s = endeffector_position[2] - lengthsoflinks[0]\n",
        "    theta2 = np.arctan(s/r)\n",
        "    d3 = np.sqrt(r**2 + s**2) - lengthsoflinks[1]\n",
        "    print(\"First Solution: \\n\", \"Theta1 = \", theta1, \"\\n Theta2 =\", theta2,\"\\n Extension: \", d3, \"\\n\")\n",
        "    print(\"Second Solution: \\n\", \"Theta1 = \", np.pi + theta1, \"\\n Theta2 =\", np.pi - theta2,\"\\n Extension:\", d3)\n",
        "    return theta1, theta2,d3\n",
        "\n",
        "# inverse kinematics for puma\n",
        "def puma_inverse_kinematics(l1,l2,l3,xc,yc,zc):\n",
        "    theta1 = math.atan2(yc,xc)\n",
        "    D = (xc*xc+yc*yc+(zc-l1)*(zc-l1)-l2*l2-l3*l3)/(2*l2*l3)\n",
        "    if D>=1 or D<=-1:\n",
        "        print(\"singular configuration\")\n",
        "    if D>1 or D<-1:\n",
        "        print(\"outside workspace\")   \n",
        "    theta3 = (math.atan2((-math.sqrt(1-D*D)),D))\n",
        "    theta2 = math.atan2(zc-l1,(math.sqrt(xc*xc+yc*yc)))-math.atan2((l3*math.sin(theta3)),(l2+l3*math.cos(theta3)))\n",
        "    print(\"Theta1 = \",np.rad2deg(theta1),\"\\nTheta2 = \", np.rad2deg(theta2), \"\\nTheta3 = \", np.rad2deg(theta3))\n",
        "\n",
        "    return theta1,theta2,theta3\n",
        "\n",
        "def atransformation(LinkParameters):\n",
        "  a = LinkParameters[0]\n",
        "  d = LinkParameters[2]\n",
        "  alpha = LinkParameters[1]\n",
        "  theta = LinkParameters[3]\n",
        "  A = np.array([[[np.cos(theta), -np.sin(theta) * np.cos(alpha), np.sin(theta) * np.sin(alpha), a * np.cos(theta)],\n",
        "                  [np.sin(theta), np.cos(theta) * np.cos(alpha), -np.cos(theta) * np.sin(alpha), a * np.sin(theta)],\n",
        "                  [0, np.sin(alpha), np.cos(alpha), d],\n",
        "                  [0, 0, 0, 1]]])\n",
        "  return (A)\n",
        "\n",
        "# Homogenous Matrices Forward Kinematics from DH\n",
        "def forward_kinematics_homogenous_matrix(DH):\n",
        "    A = np.identity(4)\n",
        "    n = np.shape(DH)[0]\n",
        "\n",
        "    for i in range(n):\n",
        "        Anext = atransformation(DH[i])\n",
        "        A = np.matmul(A,Anext)\n",
        "\n",
        "    return A\n",
        "\n",
        "class Robot():\n",
        "  def __init__(self,robot_type):\n",
        "    self.robot_type = robot_type\n",
        "  \n",
        "  def calc_invk_and_fk(self):\n",
        "    if self.robot_type == 'SCARA':\n",
        "      print(\"Enter the length of links d1 and d2:\")\n",
        "      d1 = float(input(\"d1 = \"))\n",
        "      d2 = float(input(\"d2 = \"))\n",
        "      n = int(input(\"Enter the no. of end effector points:\"))\n",
        "      for i in range(n):\n",
        "        print(f\"Enter x, y, z cordinate of point {i+1}:\")\n",
        "        x = float(input(\"x = \"))\n",
        "        y = float(input(\"y = \"))\n",
        "        z = float(input(\"z = \"))\n",
        "        theta1, theta2 = scara_invkin(x,y,z,d1,d2)\n",
        "        print(\"\\nForward kinematics solution:\")\n",
        "        link_parameters = [[d1, np.pi/2, 0, theta1],[d2, -np.pi/2, 0, theta2]]\n",
        "        T = forward_kinematics_homogenous_matrix(link_parameters)\n",
        "        print(\"Final transformation matrix: \")\n",
        "        print(T)\n",
        "    elif self.robot_type == \"STANFORD\":\n",
        "      print(\"Enter the length of links d1 and d2:\")\n",
        "      d1 = float(input(\"d1 = \"))\n",
        "      d2 = float(input(\"d2 = \"))\n",
        "      n = int(input(\"Enter the no. of end effector points:\"))\n",
        "      for i in range(n):\n",
        "        print(f\"Enter x, y, z cordinate of point {i+1}:\")\n",
        "        x = float(input(\"x = \"))\n",
        "        y = float(input(\"y = \"))\n",
        "        z = float(input(\"z = \"))\n",
        "        print(\"\\nInverse kinematics solution: \")\n",
        "        theta1, theta2, d3 = stanford_inverse_kinematics((x,y,z),(d1,d2))\n",
        "        print(\"\\nForward kinematics solution:\")\n",
        "        LinkParameters = [[0, -np.pi/2, 0, theta1],[0, -np.pi/2, 0, theta2]]\n",
        "        T = forward_kinematics_homogenous_matrix(LinkParameters)\n",
        "        print(\"Final transformation matrix: \")\n",
        "        print(T)\n",
        "    elif self.robot_type == \"PUMA\":\n",
        "      print(\"Enter the length of links l1, l2 and l3:\")\n",
        "      l1 = float(input(\"l1 = \"))\n",
        "      l2 = float(input(\"l2 = \"))\n",
        "      l3 = float(input(\"l3 = \"))\n",
        "      n = int(input(\"Enter the no. of end effector points:\"))\n",
        "      for i in range(n):\n",
        "        print(f\"Enter x, y, z cordinate of point {i+1}:\")\n",
        "        x = float(input(\"x = \"))\n",
        "        y = float(input(\"y = \"))\n",
        "        z = float(input(\"z = \"))\n",
        "        print(\"\\nInverse kinematics solution: \")\n",
        "        theta1, theta2, theta3 = puma_inverse_kinematics(l1, l2, l3, x, y, z)\n",
        "        print(\"\\nforward kinematics solution\")\n",
        "        #LinkParameters = [a, alpha, d, theta]\n",
        "        LinkParameters = [[l1, 0, 0, theta1], [l2, -np.pi/2, 0, theta2], [0, 0, 0, theta3]]\n",
        "        T = forward_kinematics_homogenous_matrix(LinkParameters)\n",
        "        print(\"Final transformation matrix: \")\n",
        "        print(T)"
      ],
      "execution_count": null,
      "outputs": []
    },
    {
      "cell_type": "code",
      "metadata": {
        "colab": {
          "base_uri": "https://localhost:8080/"
        },
        "id": "KFjgLG6BO12t",
        "outputId": "fa6c3d9b-a064-4047-ac67-e7075475a45f"
      },
      "source": [
        "scara = Robot(\"SCARA\")\n",
        "scara.calc_invk_and_fk()"
      ],
      "execution_count": null,
      "outputs": [
        {
          "output_type": "stream",
          "name": "stdout",
          "text": [
            "Enter the length of links d1 and d2:\n",
            "d1 = 0.25\n",
            "d2 = 0.25\n",
            "Enter the no. of end effector points:1\n",
            "Enter x, y, z cordinate of point 1:\n",
            "x = 0.45\n",
            "y = 0.075\n",
            "z = 0.1\n",
            "\n",
            "Inverse kinematics solution:\n",
            "theta1 = -14.696515095304628 deg\n",
            "theta2 = 48.31767460666049 deg\n",
            "\n",
            "Forward kinematics solution:\n",
            "Final transformation matrix: \n",
            "[[[ 6.43243318e-01  2.53699112e-01 -7.22409021e-01  4.02631626e-01]\n",
            "  [-1.68709909e-01  9.67283185e-01  1.89473496e-01 -1.05602255e-01]\n",
            "  [ 7.46843357e-01 -2.05128339e-17  6.65000000e-01  1.86710839e-01]\n",
            "  [ 0.00000000e+00  0.00000000e+00  0.00000000e+00  1.00000000e+00]]]\n"
          ]
        }
      ]
    },
    {
      "cell_type": "code",
      "metadata": {
        "colab": {
          "base_uri": "https://localhost:8080/"
        },
        "id": "RvNNk2LTU7EO",
        "outputId": "1a579d1b-a972-4029-bb8b-a4ff1096e17b"
      },
      "source": [
        "stanford = Robot(\"STANFORD\")\n",
        "stanford.calc_invk_and_fk()"
      ],
      "execution_count": null,
      "outputs": [
        {
          "output_type": "stream",
          "name": "stdout",
          "text": [
            "Enter the length of links d1 and d2:\n",
            "d1 = 0.25\n",
            "d2 = 0.25\n",
            "Enter the no. of end effector points:1\n",
            "Enter x, y, z cordinate of point 1:\n",
            "x = 0.45\n",
            "y = 0.075\n",
            "z = 0.1\n",
            "\n",
            "Inverse kinematics solution: \n",
            "First Solution: \n",
            " Theta1 =  0.16514867741462683 \n",
            " Theta2 = -0.3176631929822606 \n",
            " Extension:  0.23023431780746362 \n",
            "\n",
            "Second Solution: \n",
            " Theta1 =  3.30674133100442 \n",
            " Theta2 = 3.4592558465720535 \n",
            " Extension: 0.23023431780746362\n",
            "\n",
            "Forward kinematics solution:\n",
            "Final transformation matrix: \n",
            "[[[ 9.37042571e-01  1.64398987e-01  3.08097700e-01  0.00000000e+00]\n",
            "  [ 1.56173762e-01 -9.86393924e-01  5.13496166e-02  0.00000000e+00]\n",
            "  [ 3.12347524e-01 -1.19401098e-16 -9.49967907e-01  0.00000000e+00]\n",
            "  [ 0.00000000e+00  0.00000000e+00  0.00000000e+00  1.00000000e+00]]]\n"
          ]
        }
      ]
    },
    {
      "cell_type": "code",
      "metadata": {
        "colab": {
          "base_uri": "https://localhost:8080/"
        },
        "id": "BmmVGCT0U-kr",
        "outputId": "badb9f49-31a0-4308-8979-94f5129ceca0"
      },
      "source": [
        "puma = Robot(\"PUMA\")\n",
        "puma.calc_invk_and_fk()"
      ],
      "execution_count": null,
      "outputs": [
        {
          "output_type": "stream",
          "name": "stdout",
          "text": [
            "Enter the length of links l1, l2 and l3:\n",
            "l1 = 0.25\n",
            "l2 = 0.25\n",
            "l3 = 0.25\n",
            "Enter the no. of end effector points:1\n",
            "Enter x, y, z cordinate of point 1:\n",
            "x = 0.45\n",
            "y = 0.075\n",
            "z = 0.1\n",
            "\n",
            "Inverse kinematics solution: \n",
            "Theta1 =  9.462322208025617 \n",
            "Theta2 =  -2.0367282034521836 \n",
            "Theta3 =  -32.328064122162274\n",
            "\n",
            "forward kinematics solution\n",
            "Final transformation matrix: \n",
            "[[[ 8.37913433e-01  5.30281503e-01 -1.29238563e-01  4.94501864e-01]\n",
            "  [ 1.09206586e-01  6.91124286e-02  9.91613530e-01  7.34093875e-02]\n",
            "  [ 5.34766304e-01 -8.45000000e-01  6.12323400e-17  0.00000000e+00]\n",
            "  [ 0.00000000e+00  0.00000000e+00  0.00000000e+00  1.00000000e+00]]]\n"
          ]
        }
      ]
    },
    {
      "cell_type": "code",
      "metadata": {
        "id": "3e3zWCNPiB78"
      },
      "source": [
        ""
      ],
      "execution_count": null,
      "outputs": []
    }
  ]
}