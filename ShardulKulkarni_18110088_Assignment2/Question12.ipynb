{
  "nbformat": 4,
  "nbformat_minor": 0,
  "metadata": {
    "colab": {
      "name": "Question12.ipynb",
      "provenance": []
    },
    "kernelspec": {
      "name": "python3",
      "display_name": "Python 3"
    },
    "language_info": {
      "name": "python"
    }
  },
  "cells": [
    {
      "cell_type": "markdown",
      "metadata": {
        "id": "jziKB94QxSmW"
      },
      "source": [
        "RRP SCARA manipulator"
      ]
    },
    {
      "cell_type": "code",
      "metadata": {
        "id": "gVCRnmf_p0qB"
      },
      "source": [
        "import numpy as np"
      ],
      "execution_count": 1,
      "outputs": []
    },
    {
      "cell_type": "markdown",
      "metadata": {
        "id": "BdNBzfu-qQPk"
      },
      "source": [
        "Taking Input\n"
      ]
    },
    {
      "cell_type": "code",
      "metadata": {
        "colab": {
          "base_uri": "https://localhost:8080/"
        },
        "id": "pNqXHvdEqHuS",
        "outputId": "6787fab9-3c34-4aec-bddc-a7032514a444"
      },
      "source": [
        "q1=int(input(\"q1 :\"))\n",
        "q2=int(input(\"q2 :\"))\n",
        "d=int(input(\"d :\"))\n",
        "\n",
        "\n",
        "l1=int(input(\"l1 :\"))\n",
        "l2=int(input(\"l2 :\"))\n"
      ],
      "execution_count": 14,
      "outputs": [
        {
          "name": "stdout",
          "output_type": "stream",
          "text": [
            "q1 :1\n",
            "q2 :1\n",
            "d :1\n",
            "l1 :1\n",
            "l2 :1\n"
          ]
        }
      ]
    },
    {
      "cell_type": "markdown",
      "metadata": {
        "id": "xbytLzAZrVRw"
      },
      "source": [
        "Declearing origin Vectors,\n",
        "Z-axes vactors and Jecobian matrix"
      ]
    },
    {
      "cell_type": "code",
      "metadata": {
        "colab": {
          "base_uri": "https://localhost:8080/"
        },
        "id": "1usWsdcHqkW-",
        "outputId": "e3d586aa-0feb-48e3-effe-141a00bfc1e4"
      },
      "source": [
        "\n",
        "\n",
        "O0=np.matrix([[0],[0],[0]])\n",
        "O1=np.matrix([[l1*np.cos(q1)],[l1*np.sin(q1)],[0]])\n",
        "O2=np.matrix([[l1*np.cos(q1)+l2*np.cos(q2)],[l1*np.sin(q1)+l2*np.sin(q2)],[0]])\n",
        "O3=np.matrix([[l1*np.cos(q1)+l2*np.cos(q2)],[l1*np.sin(q1)+l2*np.sin(q2)],[-d]])\n",
        "\n",
        "z0=np.matrix([[0],[0],[1]])\n",
        "z1=np.matrix([[0],[0],[1]])\n",
        "z2=np.matrix([[0],[0],[-1]])\n",
        "\n",
        "j_v=np.concatenate((np.cross(z0.T,(O3-O0).T),np.cross(z1.T,(O3-O1).T)),axis=0).T\n",
        "\n",
        "j_v=np.concatenate((j_v,z2),axis=1)\n",
        "\n",
        "j_w=np.concatenate((z0,z1),axis=1)\n",
        "a=np.matrix([[0,0,0]])\n",
        "j_w=np.concatenate((j_w,a.T),axis=1)\n",
        "\n",
        "J=np.concatenate((j_v,j_w),axis=0)\n",
        "\n",
        "print(J)"
      ],
      "execution_count": 15,
      "outputs": [
        {
          "output_type": "stream",
          "name": "stdout",
          "text": [
            "[[-1.68294197 -0.84147098  0.        ]\n",
            " [ 1.08060461  0.54030231  0.        ]\n",
            " [ 0.          0.         -1.        ]\n",
            " [ 0.          0.          0.        ]\n",
            " [ 0.          0.          0.        ]\n",
            " [ 1.          1.          0.        ]]\n"
          ]
        }
      ]
    }
  ]
}