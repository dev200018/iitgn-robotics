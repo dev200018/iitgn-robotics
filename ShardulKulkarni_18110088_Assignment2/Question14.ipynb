{
  "nbformat": 4,
  "nbformat_minor": 0,
  "metadata": {
    "colab": {
      "name": "Question14.ipynb",
      "provenance": []
    },
    "kernelspec": {
      "name": "python3",
      "display_name": "Python 3"
    },
    "language_info": {
      "name": "python"
    }
  },
  "cells": [
    {
      "cell_type": "code",
      "metadata": {
        "id": "JQduaFtKxn2T"
      },
      "source": [
        "import numpy as np"
      ],
      "execution_count": 1,
      "outputs": []
    },
    {
      "cell_type": "code",
      "metadata": {
        "colab": {
          "base_uri": "https://localhost:8080/"
        },
        "id": "d5o28teGxz8E",
        "outputId": "24a2c6ce-86e6-4879-95e0-3484d87e12f2"
      },
      "source": [
        "q1=int(input(\"q1 :\"))\n",
        "q2=int(input(\"q2 :\"))\n",
        "q3=int(input(\"q3 :\"))\n",
        "\n",
        "\n",
        "l1=int(input(\"l1 :\"))\n",
        "l2=int(input(\"l2 :\"))\n",
        "l3=int(input(\"l3 :\"))\n"
      ],
      "execution_count": 8,
      "outputs": [
        {
          "name": "stdout",
          "output_type": "stream",
          "text": [
            "q1 :1\n",
            "q2 :1\n",
            "q3 :1\n",
            "l1 :1\n",
            "l2 :1\n",
            "l3 :1\n"
          ]
        }
      ]
    },
    {
      "cell_type": "code",
      "metadata": {
        "colab": {
          "base_uri": "https://localhost:8080/"
        },
        "id": "qFH_OjTix6dZ",
        "outputId": "b53ebe4b-9050-48a8-ba69-03f84a516ddd"
      },
      "source": [
        "\n",
        "O0=np.matrix([[0],[0],[0]])\n",
        "O1=np.matrix([[l1*np.cos(q1)],[l1*np.sin(q1)],[0]])\n",
        "O2=np.matrix([[l1*np.cos(q1)+l2*np.cos(q2)],[l1*np.sin(q1)+l2*np.sin(q2)],[0]])\n",
        "O3=np.matrix([[l1*np.cos(q1)+l2*np.cos(q2)+l3*np.cos(q3)],[l1*np.sin(q1)+l2*np.sin(q2)+l3*np.sin(q3)],[0]])\n",
        "\n",
        "z0=np.matrix([[0],[0],[1]])\n",
        "z1=np.matrix([[0],[0],[1]])\n",
        "z2=np.matrix([[0],[0],[1]])\n",
        "\n",
        "j_v=np.concatenate((np.cross(z0.T,(O3-O0).T),np.cross(z1.T,(O3-O1).T)),axis=0).T\n",
        "\n",
        "j_v=np.concatenate((j_v,np.cross(z2.T,(O3-O2).T).T),axis=1)\n",
        "\n",
        "j_w=np.concatenate((z0,z1),axis=1)\n",
        "j_w=np.concatenate((j_w,z2),axis=1)\n",
        "\n",
        "J=np.concatenate((j_v,j_w),axis=0)\n",
        "\n",
        "print(J)"
      ],
      "execution_count": 10,
      "outputs": [
        {
          "output_type": "stream",
          "name": "stdout",
          "text": [
            "[[-2.52441295 -1.68294197 -0.84147098]\n",
            " [ 1.62090692  1.08060461  0.54030231]\n",
            " [ 0.          0.          0.        ]\n",
            " [ 0.          0.          0.        ]\n",
            " [ 0.          0.          0.        ]\n",
            " [ 1.          1.          1.        ]]\n"
          ]
        }
      ]
    }
  ]
}