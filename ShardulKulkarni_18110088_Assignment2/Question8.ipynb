{
  "nbformat": 4,
  "nbformat_minor": 0,
  "metadata": {
    "colab": {
      "name": "Question8.ipynb",
      "provenance": []
    },
    "kernelspec": {
      "name": "python3",
      "display_name": "Python 3"
    },
    "language_info": {
      "name": "python"
    }
  },
  "cells": [
    {
      "cell_type": "code",
      "metadata": {
        "id": "B5zac7Zhm3Rm"
      },
      "source": [
        "import numpy as np"
      ],
      "execution_count": 1,
      "outputs": []
    },
    {
      "cell_type": "code",
      "metadata": {
        "colab": {
          "base_uri": "https://localhost:8080/"
        },
        "id": "mGxNgY7rm_IK",
        "outputId": "d68fe812-4051-402e-b883-3e4fa08cdbe1"
      },
      "source": [
        "q1=int(input(\"q1 :\"))\n",
        "q2=int(input(\"q2 :\"))\n",
        "d=int(input(\"d :\"))"
      ],
      "execution_count": 5,
      "outputs": [
        {
          "name": "stdout",
          "output_type": "stream",
          "text": [
            "q1 :1\n",
            "q2 :1\n",
            "d :1\n"
          ]
        }
      ]
    },
    {
      "cell_type": "code",
      "metadata": {
        "colab": {
          "base_uri": "https://localhost:8080/"
        },
        "id": "e9ahhHognFs1",
        "outputId": "c9c3d1ae-3fc1-4a50-a2ba-349c66a7642a"
      },
      "source": [
        "R01=np.matrix([[np.cos(q1),-np.sin(q1),0],[np.sin(q1),np.cos(q1),0],[0,0,1]])\n",
        "\n",
        "d01=np.matrix([0,0,0])\n",
        "\n",
        "H01 = np.concatenate((R01,d01.T),axis = 1)\n",
        "a=np.matrix([[0,0,0,1]])\n",
        "H01=np.concatenate((H01,a),axis=0)\n",
        "\n",
        "print(H01)\n",
        "\n",
        "R12=np.matrix([[np.cos(q2),-np.sin(q2),0],[0,0,-1],[np.sin(q2),np.cos(q2),0]])\n",
        "\n",
        "d12=np.matrix([0,0,1])\n",
        "\n",
        "H12 = np.concatenate((R12,d12.T),axis = 1)\n",
        "\n",
        "H12=np.concatenate((H12,a),axis=0)\n",
        "\n",
        "print(H12)\n",
        "\n",
        "R23=np.matrix([[1,0,0],[0,1,0],[0,0,1]])\n",
        "\n",
        "d23=np.matrix([1+d,0,0])\n",
        "\n",
        "H23 = np.concatenate((R23,d23.T),axis = 1)\n",
        "\n",
        "H23=np.concatenate((H23,a),axis=0)\n",
        "\n",
        "print(H23)"
      ],
      "execution_count": 8,
      "outputs": [
        {
          "output_type": "stream",
          "name": "stdout",
          "text": [
            "[[ 0.54030231 -0.84147098  0.          0.        ]\n",
            " [ 0.84147098  0.54030231  0.          0.        ]\n",
            " [ 0.          0.          1.          0.        ]\n",
            " [ 0.          0.          0.          1.        ]]\n",
            "[[ 0.54030231 -0.84147098  0.          0.        ]\n",
            " [ 0.          0.         -1.          0.        ]\n",
            " [ 0.84147098  0.54030231  0.          1.        ]\n",
            " [ 0.          0.          0.          1.        ]]\n",
            "[[1 0 0 2]\n",
            " [0 1 0 0]\n",
            " [0 0 1 0]\n",
            " [0 0 0 1]]\n"
          ]
        }
      ]
    },
    {
      "cell_type": "code",
      "metadata": {
        "colab": {
          "base_uri": "https://localhost:8080/"
        },
        "id": "mnlFh1z7oisf",
        "outputId": "910733db-f20f-4933-a902-0c343a2f861a"
      },
      "source": [
        "p3=np.matrix([[0],[0],[0],[1]])\n",
        "\n",
        "p0=np.matmul(H01,H12)\n",
        "p0=np.matmul(p0,H23)\n",
        "p0=np.matmul(p0,p3)\n",
        "\n",
        "print(\"Final position vector in frame 0:\")\n",
        "print(p0[:3])"
      ],
      "execution_count": 9,
      "outputs": [
        {
          "output_type": "stream",
          "name": "stdout",
          "text": [
            "Final position vector in frame 0:\n",
            "[[0.58385316]\n",
            " [0.90929743]\n",
            " [2.68294197]]\n"
          ]
        }
      ]
    }
  ]
}