{
  "nbformat": 4,
  "nbformat_minor": 0,
  "metadata": {
    "colab": {
      "name": "Rohan_18110142_A2_8.ipynb",
      "provenance": []
    },
    "kernelspec": {
      "name": "python3",
      "display_name": "Python 3"
    },
    "language_info": {
      "name": "python"
    }
  },
  "cells": [
    {
      "cell_type": "markdown",
      "metadata": {
        "id": "L8QGDRW45xOy"
      },
      "source": [
        "Importing Libraries"
      ]
    },
    {
      "cell_type": "code",
      "metadata": {
        "id": "MDjywHOP52b4"
      },
      "source": [
        "import numpy as np\n",
        "import matplotlib.pyplot as plt"
      ],
      "execution_count": 1,
      "outputs": []
    },
    {
      "cell_type": "markdown",
      "metadata": {
        "id": "l2dBxtSp54o7"
      },
      "source": [
        "Creating class for the Robot & creating functions for all types of homogenous transformations"
      ]
    },
    {
      "cell_type": "code",
      "metadata": {
        "id": "Sm7uvtMV57vu"
      },
      "source": [
        "class Robot():\n",
        "  def __init__(self, numberoflinks, q,l,d):\n",
        "    self.numberoflinks = numberoflinks\n",
        "    self.q = q #Angles q1,q2,q3...\n",
        "    self.l = l #Lengths of links\n",
        "    self.d = d #Extension of arms at prismatic joints\n",
        "    self.h = None\n",
        "  def rotate_x(self, q):\n",
        "    Rx = np.array([[1, 0, 0], [0, np.cos(q), -np.sin(q)], [0, np.sin(q), np.cos(q)]])\n",
        "    return (Rx)\n",
        "\n",
        "  def rotate_y(self,q):\n",
        "    Ry = np.array([[np.cos(q), 0, np.sin(q)], [0, 1, 0], [-np.sin(q), 0, np.cos(q)]])\n",
        "    return (Ry)\n",
        "  \n",
        "  def rotate_z(self,q):\n",
        "    Rz = np.array([[np.cos(q), -np.sin(q), 0], [np.sin(q), np.cos(q), 0], [0, 0, 1]])\n",
        "    return (Rz)\n",
        "  \n",
        "  def d_revolute(self,l):\n",
        "    d_revolute = np.array([[l],[0],[0]])\n",
        "    return d_revolute\n",
        "    \n",
        "  def d_prismatic(self,l,d):\n",
        "    d_prismatic = np.array([[l + d],[0],[0]])\n",
        "    return d_prismatic\n",
        "  \n",
        "  def make_H(self,R,d):\n",
        "    H_matrix = np.hstack((R,d))\n",
        "    H_matrix = np.vstack((H_matrix, np.array([0,0,0,1])))\n",
        "    return np.asmatrix(H_matrix)\n",
        "  \n",
        "  def Stanford_Robot(self):\n",
        "    R1, R2, R3 = self.rotate_z(self.q[0]), np.array([[np.cos(self.q[1]), -np.sin(self.q[1]), 0],[0,0,-1],[np.sin(self.q[1]), np.cos(self.q[1]), 0]]), self.rotate_y(self.q[2])\n",
        "    d1, d2, d3 = np.array([[0],[0],[0]]), np.array([[0],[0],[self.l[0]]]), np.array([[self.l[1]],[0],[0]])\n",
        "    H1, H2, H3 = self.make_H(R1, d1), self.make_H(R2, d2), self.make_H(R2, d3)\n",
        "    # self.h = np.array([H1, H2, H3])\n",
        "    H = H1 * H2 * H3\n",
        "    # print (\"H01 = \", H1)\n",
        "    # print (\"H12 = \", H2)\n",
        "    # print (\"H23 = \", H3)\n",
        "    # print (H)\n",
        "    p3 = np.array([[self.l[2] + self.d[2]],[0],[0],[1]])\n",
        "    p = H * np.asmatrix(p3)\n",
        "    print (\"[p0 1] = \", p)"
      ],
      "execution_count": 2,
      "outputs": []
    },
    {
      "cell_type": "markdown",
      "metadata": {
        "id": "g-7eJuAa6Ahf"
      },
      "source": [
        "Initialising the Robot and calculating the homogenous matrices"
      ]
    },
    {
      "cell_type": "code",
      "metadata": {
        "colab": {
          "base_uri": "https://localhost:8080/"
        },
        "id": "vLTYDVAC6Dst",
        "outputId": "1b2a8ee7-d887-4ddf-99ec-13687053c28b"
      },
      "source": [
        "robot = Robot(3,[np.pi/3,np.pi/3,0],[5,5,5],[0,0,3])\n",
        "robot.Stanford_Robot()"
      ],
      "execution_count": 3,
      "outputs": [
        {
          "output_type": "stream",
          "name": "stdout",
          "text": [
            "[p0 1] =  [[ 8.25      ]\n",
            " [ 0.4330127 ]\n",
            " [12.79422863]\n",
            " [ 1.        ]]\n"
          ]
        }
      ]
    }
  ]
}