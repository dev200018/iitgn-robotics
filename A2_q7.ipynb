{
 "cells": [
  {
   "cell_type": "code",
   "execution_count": 1,
   "metadata": {},
   "outputs": [],
   "source": [
    "import numpy as np"
   ]
  },
  {
   "cell_type": "markdown",
   "metadata": {},
   "source": [
    "Change the below joint variables to get the position vector of the end effector."
   ]
  },
  {
   "cell_type": "code",
   "execution_count": 4,
   "metadata": {},
   "outputs": [],
   "source": [
    "l1=1\n",
    "l2=1\n",
    "l3=1\n",
    "\n",
    "q1=0\n",
    "q2=0\n",
    "d=1"
   ]
  },
  {
   "cell_type": "markdown",
   "metadata": {},
   "source": [
    "The code below is doing all the calculations!"
   ]
  },
  {
   "cell_type": "code",
   "execution_count": 5,
   "metadata": {},
   "outputs": [
    {
     "name": "stdout",
     "output_type": "stream",
     "text": [
      "[[2.]\n",
      " [0.]\n",
      " [0.]]\n"
     ]
    }
   ],
   "source": [
    "p2=np.array([[l3],\n",
    "             [0],\n",
    "             [-d],\n",
    "             [1]])\n",
    "\n",
    "R01=np.array([[np.cos(q1), -np.sin(q1), 0],\n",
    "             [np.sin(q1), np.cos(q1), 0],\n",
    "             [0, 0, 1]])\n",
    "d01=np.array([[0],\n",
    "             [0],\n",
    "             [l1]])\n",
    "R12=np.array([[np.cos(q2), -np.sin(q2), 0],\n",
    "             [np.sin(q2), np.cos(q2), 0],\n",
    "             [0, 0, 1]])\n",
    "d12=np.array([[l2],\n",
    "             [0],\n",
    "             [0]])\n",
    "\n",
    "lastrow=np.array([[0,0,0,1]])\n",
    "\n",
    "temp=np.concatenate((R01,d01),axis=1)\n",
    "H01=np.concatenate((temp,lastrow),axis=0)\n",
    "\n",
    "temp=np.concatenate((R12,d12),axis=1)\n",
    "H12=np.concatenate((temp,lastrow),axis=0)\n",
    "\n",
    "\n",
    "# \"@\" is a new matrix_multiply symbol after python 3.5\n",
    "p0=(H01@H12@p2)[:-1]\n",
    "print(p0)"
   ]
  }
 ],
 "metadata": {
  "kernelspec": {
   "display_name": "Python 3",
   "language": "python",
   "name": "python3"
  },
  "language_info": {
   "codemirror_mode": {
    "name": "ipython",
    "version": 3
   },
   "file_extension": ".py",
   "mimetype": "text/x-python",
   "name": "python",
   "nbconvert_exporter": "python",
   "pygments_lexer": "ipython3",
   "version": "3.8.10"
  }
 },
 "nbformat": 4,
 "nbformat_minor": 4
}
