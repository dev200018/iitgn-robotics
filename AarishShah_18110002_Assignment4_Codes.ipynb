{
  "nbformat": 4,
  "nbformat_minor": 0,
  "metadata": {
    "colab": {
      "name": "Assignment4.ipynb",
      "provenance": []
    },
    "kernelspec": {
      "name": "python3",
      "display_name": "Python 3"
    },
    "language_info": {
      "name": "python"
    }
  },
  "cells": [
    {
      "cell_type": "markdown",
      "metadata": {
        "id": "9fcFJGjWcX8M"
      },
      "source": [
        "Task 1 and Task 2"
      ]
    },
    {
      "cell_type": "code",
      "metadata": {
        "colab": {
          "base_uri": "https://localhost:8080/"
        },
        "id": "tpUx2C26hC4d",
        "outputId": "0401e257-8168-41a0-99c2-7bba159811f8"
      },
      "source": [
        "# importing required libraries\n",
        "import numpy as np\n",
        "\n",
        "# defining a class for inverse kinematics\n",
        "class inv_kinematics():\n",
        "  #__init__ function of the class\n",
        "  # it requires 5 inputs: 3 cartesian coordinates\n",
        "  # and 2 link lengths, which are the characteristics\n",
        "  # of the manipulator \n",
        "  def __init__(self, x, y, z, d1, d2):\n",
        "    super().__init__()\n",
        "    self.x = x\n",
        "    self.y = y\n",
        "    self.z = z\n",
        "    self.d1 = d1\n",
        "    self.d2 = d2\n",
        "\n",
        "  # separate function for the stanford manipulator\n",
        "  def stanford(self):\n",
        "    # using formulae from the textbook\n",
        "    theta1 = np.arctan(self.y/self.x)\n",
        "    r = np.sqrt(self.x**2+self.y**2)\n",
        "    s = self.z - self.d1\n",
        "    theta2 = np.arctan(s/r)\n",
        "    d3 = np.sqrt(r**2+s**2) - self.d2\n",
        "    # converting from radians to degrees\n",
        "    theta1 = theta1*180/np.pi\n",
        "    theta2 = theta2*180/np.pi\n",
        "    print(theta1, theta2, d3)\n",
        "  # separate function for the SCARA manipulator\n",
        "  def scara(self):\n",
        "    # using formulae from the textbook\n",
        "    r = abs((self.x**2+self.y**2-self.d1**2-self.d2**2)/(2*self.d1*self.d2))\n",
        "    theta2 = np.arctan(np.sqrt(abs(1-r**2))/r)\n",
        "    theta1 = np.arctan(self.y/self.x) - np.arctan((self.d2*np.sin(theta2))/(self.d1+self.d2*np.cos(theta2)))\n",
        "    d3 = -self.z\n",
        "    # converting from radians to degrees\n",
        "    theta1 = theta1*180/np.pi\n",
        "    theta2 = theta2*180/np.pi\n",
        "    print(theta1, theta2, d3)\n",
        "\n",
        "#initialising the inv_kinematics class\n",
        "inverse = inv_kinematics(0.01,2,1,1,1)\n",
        "print(\"Joint parameters of Stanford Manipulator:\")\n",
        "# calling the stanford method\n",
        "inverse.stanford()\n",
        "print(\"Joint parameters of SCARA Manipulator:\")\n",
        "# reinitialising with different values\n",
        "inverse = inv_kinematics(0.01,2,-1,1,1)\n",
        "# calling the scara method\n",
        "inverse.scara()"
      ],
      "execution_count": 108,
      "outputs": [
        {
          "output_type": "stream",
          "name": "stdout",
          "text": [
            "Joint parameters of Stanford Manipulator:\n",
            "89.71352348972293 0.0 1.000024999843752\n",
            "Joint parameters of SCARA Manipulator:\n",
            "89.42706488225137 0.5729172149431336 1\n"
          ]
        }
      ]
    },
    {
      "cell_type": "markdown",
      "metadata": {
        "id": "tugCJR15dDSl"
      },
      "source": [
        "Task 3"
      ]
    },
    {
      "cell_type": "code",
      "metadata": {
        "colab": {
          "base_uri": "https://localhost:8080/"
        },
        "id": "INg178KFdIaI",
        "outputId": "46b727ea-0a69-494c-db94-2322da1e91a2"
      },
      "source": [
        "# importing the required libraries\n",
        "import numpy as np\n",
        "import sys\n",
        "import sympy as sym\n",
        "\n",
        "# using the DH parameters and Jacobian matrix\n",
        "# code from Assignment 3 \n",
        "class manipulator():\n",
        "\n",
        "  def __init__(self, no_of_links, type_of_joints, dh_params):\n",
        "    super().__init__()\n",
        "    self.no_of_links = no_of_links\n",
        "    self.type_of_joints = list(type_of_joints)\n",
        "    self.dh_params = dh_params\n",
        "    if len(self.dh_params) != self.no_of_links:\n",
        "      print(\"ERROR: Please make sure the number of rows in the DH parameters provided is equal to the number of links.\")\n",
        "      sys.exit()\n",
        "    self.dh_matrices = []\n",
        "    for i in range(0, self.no_of_links):    \n",
        "      temp = self.dh_params[i]\n",
        "      theta = temp[0]\n",
        "      d = temp[1]\n",
        "      a = temp[2]\n",
        "      alpha = temp[3]\n",
        "      A1 = np.array([[np.cos(theta), -np.sin(theta), 0, 0],[np.sin(theta), np.cos(theta), 0, 0],[0, 0, 1, 0],[0, 0, 0, 1]])\n",
        "      A2 = np.array([[1, 0, 0, 0],[0, 1, 0, 0],[0, 0, 1, d],[0, 0, 0, 1]])\n",
        "      A3 = np.array([[1, 0, 0, a],[0, 1, 0, 0],[0, 0, 1, 0],[0, 0, 0, 1]])\n",
        "      A4 = np.array([[1, 0, 0, 0],[0, np.cos(alpha), -np.sin(alpha), 0],[0, np.sin(alpha), np.cos(alpha), 0],[0, 0, 0, 1]])\n",
        "      A_final = A1@A2@A3@A4\n",
        "      self.dh_matrices.append(A_final)\n",
        "    self.dh_matrices = np.array(self.dh_matrices)\n",
        "\n",
        "    self.transform_matrices = []\n",
        "    self.rotation_matrices = []\n",
        "\n",
        "    for i in range(1, self.no_of_links+1):\n",
        "      temp = self.dh_matrices[0]\n",
        "      for j in range(1, i):\n",
        "        temp = temp@self.dh_matrices[j]\n",
        "      rot_temp = temp\n",
        "      rot_temp = np.delete(rot_temp, (3), axis = 0)\n",
        "      rot_temp = np.delete(rot_temp, (3), axis = 1)\n",
        "      self.transform_matrices.append(temp)\n",
        "      self.rotation_matrices.append(rot_temp)\n",
        "\n",
        "    self.transform_matrices = np.array(self.transform_matrices)\n",
        "    self.rotation_matrices = np.array(self.rotation_matrices)\n",
        "\n",
        "    self.end_effector_posn = np.delete(self.transform_matrices[len(self.transform_matrices)-1]@np.array([[0],[0],[0],[1]]), (3), axis = 0)\n",
        "\n",
        "  def getJv(self):\n",
        "    self.z = []\n",
        "    self.origins = []\n",
        "    self.z.append(np.array([[0],[0],[1]]))\n",
        "    self.origins.append(np.array([[0],[0],[0]]))\n",
        "\n",
        "    for i in range(0, self.no_of_links):\n",
        "      temp_z = self.rotation_matrices[i]@np.array([[0],[0],[1]])\n",
        "      self.z.append(temp_z)\n",
        "      temp_origin = self.transform_matrices[i]@np.array([[0],[0],[0],[1]])\n",
        "      temp_origin = np.delete(temp_origin, (3), axis = 0)\n",
        "      self.origins.append(temp_origin)\n",
        "    \n",
        "    self.z = np.array(self.z)\n",
        "    self.origins = np.array(self.origins)  \n",
        "    self.jacobian = []\n",
        "    for i in range(0,self.no_of_links):\n",
        "      if self.type_of_joints[i] == \"R\":\n",
        "        temp_1 = np.cross(self.z[i], self.end_effector_posn-self.origins[i], axis = 0)\n",
        "        temp_2 = self.z[i]\n",
        "      if self.type_of_joints[i] == \"P\":\n",
        "        temp_1 = self.z[i]\n",
        "        temp_2 = np.array([[0],[0],[0]])\n",
        "      temp_jacobian = np.vstack((temp_1, temp_2))\n",
        "      self.jacobian.append(temp_jacobian)\n",
        "    self.jacobian = np.array(self.jacobian)\n",
        "    self.jacobian = self.jacobian.reshape((self.no_of_links,6))\n",
        "    self.jacobian = np.transpose(self.jacobian)\n",
        "    self.Jv = np.delete(self.jacobian,(3,4,5), axis = 0)\n",
        "  # creating a new method to calculate the joint\n",
        "  # velocities, given the Jacobian matrix and \n",
        "  # the cartesian velocity.\n",
        "  # Velocity in x,y and z direction is required\n",
        "  # as input.\n",
        "  def joint_velocities(self, xdot, ydot, zdot):\n",
        "    Xdot =  np.array([[xdot],[ydot],[zdot]])\n",
        "    # First, it is required to check whether this \n",
        "    # velocity is possible in this configuration.\n",
        "    # This is done by comparing the rank of the\n",
        "    # Jacobian and the rank of the augmented matrix\n",
        "    # of the Jacobian and Xdot. If the two are equal,\n",
        "    # then the velocity is possible.\n",
        "    rank_J = np.linalg.matrix_rank(self.Jv)\n",
        "    rank_augmented = np.linalg.matrix_rank(np.hstack((self.Jv,Xdot)))\n",
        "    if rank_J != rank_augmented:\n",
        "      print(\"ERROR: Please make sure the velocities provided by you are possible in this configuration.\")\n",
        "      sys.exit()\n",
        "    # If the given cartesian velocity is possible,\n",
        "    # the joint velocities can be calculated by\n",
        "    # multiplying Xdot with the pseudo-inverse\n",
        "    # of the Jacobian matrix.\n",
        "    qdot = np.linalg.pinv(self.Jv)@Xdot\n",
        "\n",
        "    return qdot\n",
        "\n",
        "# initialising the manipulator method\n",
        "stanford = manipulator(3, \"RRP\", [[0,0,0,-np.pi/2],[0,2,0,np.pi/2],[0,2,0,0]])\n",
        "jacobian_velocity = stanford.getJv()\n",
        "qdot = stanford.joint_velocities(10,0,0)\n",
        "print(qdot)"
      ],
      "execution_count": 109,
      "outputs": [
        {
          "output_type": "stream",
          "name": "stdout",
          "text": [
            "[[-2.5]\n",
            " [ 2.5]\n",
            " [ 0. ]]\n"
          ]
        }
      ]
    },
    {
      "cell_type": "markdown",
      "metadata": {
        "id": "REPEVxkPsz9A"
      },
      "source": [
        "Task 6"
      ]
    },
    {
      "cell_type": "code",
      "metadata": {
        "colab": {
          "base_uri": "https://localhost:8080/"
        },
        "id": "GGv2yD7euxte",
        "outputId": "c30b3bfb-8122-4eaa-e71f-c021279a8ff3"
      },
      "source": [
        "# importing required libraries\n",
        "import numpy as np\n",
        "import math\n",
        "\n",
        "class inv_kinematics():\n",
        "  # taking a rotation matrix as input\n",
        "  def __init__(self, R):\n",
        "    super().__init__()\n",
        "    self.R  = R\n",
        "  \n",
        "  def wrist(self):\n",
        "    # using the formulae from the textbook\n",
        "    theta = math.atan2(np.sqrt(abs(1-self.R[2][2]**2)), self.R[2][2])\n",
        "    phi = math.atan2(self.R[1][2], self.R[0][2])\n",
        "    psi = math.atan2(-self.R[2][0], self.R[2][1])\n",
        "    # converting from radians to degrees\n",
        "    print(theta*180/np.pi, phi*180/np.pi, psi*180/np.pi )\n",
        "\n",
        "robot = inv_kinematics([[1,0,0],[0,1,0],[0,0,1]])\n",
        "robot.wrist()"
      ],
      "execution_count": 112,
      "outputs": [
        {
          "output_type": "stream",
          "name": "stdout",
          "text": [
            "0.0 0.0 0.0\n"
          ]
        }
      ]
    },
    {
      "cell_type": "markdown",
      "metadata": {
        "id": "2gD33Kk1FLox"
      },
      "source": [
        "Task 7"
      ]
    },
    {
      "cell_type": "code",
      "metadata": {
        "colab": {
          "base_uri": "https://localhost:8080/"
        },
        "id": "SmelQpPZDUbI",
        "outputId": "1ddca902-9edb-4768-df74-a21bd4bbe8ce"
      },
      "source": [
        "# importing required libraries\n",
        "import numpy as np\n",
        "import sys\n",
        "import sympy as sym\n",
        "\n",
        "# using the DH parameters and Jacobian code\n",
        "# from Assignment 3\n",
        "class manipulator():\n",
        "\n",
        "  def __init__(self, no_of_links, type_of_joints, dh_params):\n",
        "    super().__init__()\n",
        "    self.no_of_links = no_of_links\n",
        "    self.type_of_joints = list(type_of_joints)\n",
        "    self.dh_params = dh_params\n",
        "    if len(self.dh_params) != self.no_of_links:\n",
        "      print(\"ERROR: Please make sure the number of rows in the DH parameters provided is equal to the number of links.\")\n",
        "      sys.exit()\n",
        "    self.dh_matrices = []\n",
        "    for i in range(0, self.no_of_links):    \n",
        "      temp = self.dh_params[i]\n",
        "      theta = temp[0]\n",
        "      d = temp[1]\n",
        "      a = temp[2]\n",
        "      alpha = temp[3]\n",
        "      A1 = np.array([[np.cos(theta), -np.sin(theta), 0, 0],[np.sin(theta), np.cos(theta), 0, 0],[0, 0, 1, 0],[0, 0, 0, 1]])\n",
        "      A2 = np.array([[1, 0, 0, 0],[0, 1, 0, 0],[0, 0, 1, d],[0, 0, 0, 1]])\n",
        "      A3 = np.array([[1, 0, 0, a],[0, 1, 0, 0],[0, 0, 1, 0],[0, 0, 0, 1]])\n",
        "      A4 = np.array([[1, 0, 0, 0],[0, np.cos(alpha), -np.sin(alpha), 0],[0, np.sin(alpha), np.cos(alpha), 0],[0, 0, 0, 1]])\n",
        "      A_final = A1@A2@A3@A4\n",
        "      self.dh_matrices.append(A_final)\n",
        "    self.dh_matrices = np.array(self.dh_matrices)\n",
        "\n",
        "    self.transform_matrices = []\n",
        "    self.rotation_matrices = []\n",
        "\n",
        "    for i in range(1, self.no_of_links+1):\n",
        "      temp = self.dh_matrices[0]\n",
        "      for j in range(1, i):\n",
        "        temp = temp@self.dh_matrices[j]\n",
        "      rot_temp = temp\n",
        "      rot_temp = np.delete(rot_temp, (3), axis = 0)\n",
        "      rot_temp = np.delete(rot_temp, (3), axis = 1)\n",
        "      self.transform_matrices.append(temp)\n",
        "      self.rotation_matrices.append(rot_temp)\n",
        "\n",
        "    self.transform_matrices = np.array(self.transform_matrices)\n",
        "    self.rotation_matrices = np.array(self.rotation_matrices)\n",
        "\n",
        "    self.end_effector_posn = np.delete(self.transform_matrices[len(self.transform_matrices)-1]@np.array([[0],[0],[0],[1]]), (3), axis = 0)\n",
        "\n",
        "    self.z = []\n",
        "    self.origins = []\n",
        "    self.z.append(np.array([[0],[0],[1]]))\n",
        "    self.origins.append(np.array([[0],[0],[0]]))\n",
        "\n",
        "    for i in range(0, self.no_of_links):\n",
        "      temp_z = self.rotation_matrices[i]@np.array([[0],[0],[1]])\n",
        "      self.z.append(temp_z)\n",
        "      temp_origin = self.transform_matrices[i]@np.array([[0],[0],[0],[1]])\n",
        "      temp_origin = np.delete(temp_origin, (3), axis = 0)\n",
        "      self.origins.append(temp_origin)\n",
        "    \n",
        "    self.z = np.array(self.z)\n",
        "    self.origins = np.array(self.origins)  \n",
        "    self.jacobian = []\n",
        "    for i in range(0,self.no_of_links):\n",
        "      if self.type_of_joints[i] == \"R\":\n",
        "        temp_1 = np.cross(self.z[i], self.end_effector_posn-self.origins[i], axis = 0)\n",
        "        temp_2 = self.z[i]\n",
        "      if self.type_of_joints[i] == \"P\":\n",
        "        temp_1 = self.z[i]\n",
        "        temp_2 = np.array([[0],[0],[0]])\n",
        "      temp_jacobian = np.vstack((temp_1, temp_2))\n",
        "      self.jacobian.append(temp_jacobian)\n",
        "    self.jacobian = np.array(self.jacobian)\n",
        "    self.jacobian = self.jacobian.reshape((self.no_of_links,6))\n",
        "    self.jacobian = np.transpose(self.jacobian)\n",
        "    self.Jv = np.delete(self.jacobian,(3,4,5), axis = 0)\n",
        "\n",
        "    print(\"End Effector Position:\")\n",
        "    print(self.end_effector_posn)\n",
        "    print(\"Manipulator Jacobian:\")\n",
        "    print(self.jacobian)\n",
        "    print(\"Velocity Jacobian (can be multiplied with qdot to obtain end-effector velocity):\")\n",
        "    print(self.Jv)\n",
        "\n",
        "  # creating a new method to take the joint\n",
        "  # velocities as input and give the \n",
        "  # end-effector cartesian velocities \n",
        "  # as output.\n",
        "  def end_effector_vel(self, qdot):\n",
        "    qdot = np.array(qdot)\n",
        "    qdot = np.transpose(qdot)\n",
        "    end_effector_vel = self.Jv@qdot\n",
        "\n",
        "    print(end_effector_vel)\n",
        "\n",
        "print(\"3D Printer:\")\n",
        "PPP = manipulator(3, \"PPP\", [[0,1,0,-np.pi/2],[-np.pi/2,2,0,np.pi/2],[0,3,0,0]])\n",
        "print(\"End Effector Velocity:\")\n",
        "PPP.end_effector_vel([[1,2,3]])"
      ],
      "execution_count": 111,
      "outputs": [
        {
          "output_type": "stream",
          "name": "stdout",
          "text": [
            "3D Printer:\n",
            "End Effector Position:\n",
            "[[-3.]\n",
            " [ 2.]\n",
            " [ 1.]]\n",
            "Manipulator Jacobian:\n",
            "[[ 0.000000e+00  0.000000e+00 -1.000000e+00]\n",
            " [ 0.000000e+00  1.000000e+00  6.123234e-17]\n",
            " [ 1.000000e+00  6.123234e-17  6.123234e-17]\n",
            " [ 0.000000e+00  0.000000e+00  0.000000e+00]\n",
            " [ 0.000000e+00  0.000000e+00  0.000000e+00]\n",
            " [ 0.000000e+00  0.000000e+00  0.000000e+00]]\n",
            "Velocity Jacobian (can be multiplied with qdot to obtain end-effector velocity):\n",
            "[[ 0.000000e+00  0.000000e+00 -1.000000e+00]\n",
            " [ 0.000000e+00  1.000000e+00  6.123234e-17]\n",
            " [ 1.000000e+00  6.123234e-17  6.123234e-17]]\n",
            "End Effector Velocity:\n",
            "[[-3.]\n",
            " [ 2.]\n",
            " [ 1.]]\n"
          ]
        }
      ]
    }
  ]
}