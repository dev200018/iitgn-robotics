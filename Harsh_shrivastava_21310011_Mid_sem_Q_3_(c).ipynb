{
  "nbformat": 4,
  "nbformat_minor": 0,
  "metadata": {
    "colab": {
      "name": "Harsh shrivastava-21310011-Mid sem- Q-3 (c)",
      "provenance": []
    },
    "kernelspec": {
      "name": "python3",
      "display_name": "Python 3"
    },
    "language_info": {
      "name": "python"
    }
  },
  "cells": [
    {
      "cell_type": "code",
      "metadata": {
        "id": "14c7nVxG8F94"
      },
      "source": [
        "# Inverse Kinematics 2R Planar Fixed Axis \n",
        "import numpy as np\n",
        "import matplotlib.pyplot as plt\n",
        "import pandas as pd\n",
        "\n",
        "\n",
        "def inverse_kinematics(x, y, l1, l2, elbow):  # elbow parameter = 1 or -1 for elbow down and up configurations\n",
        "    D = (x ** 2 + y ** 2 - l1 ** 2 - l2 ** 2) / (2 * l1 * l2)\n",
        "    if elbow == 1:\n",
        "        q2 = elbow * np.arctan2(np.sqrt(1 - D ** 2), D)  # q2 as measured from frame of link 1\n",
        "        q1 = np.arctan2(y, x) - np.arctan2(l2 * np.sin(q2), l1 + l2 * np.cos(q2))\n",
        "        q2 = q2 + q1  # if q2 is not measured from inertial frame then remove this line\n",
        "    if elbow == -1:\n",
        "        q2 = elbow * np.arctan2(np.sqrt(1 - D ** 2), D)  # q2 as measured from frame of link 1\n",
        "        q1 = np.arctan2(y, x) - np.arctan2(l2 * np.sin(q2), l1 + l2 * np.cos(q2))\n",
        "        q2 = q2 + q1  # if q2 is not measured from inertial frame then remove this line\n",
        "    return q1, q2"
      ],
      "execution_count": null,
      "outputs": []
    },
    {
      "cell_type": "code",
      "metadata": {
        "colab": {
          "base_uri": "https://localhost:8080/",
          "height": 206
        },
        "id": "3xkPeCEfA5Ww",
        "outputId": "2257f8b7-c370-483f-ff4c-c853af95c3ac"
      },
      "source": [
        "df=pd.read_excel('/content/Gait_DATA.xlsx')\n",
        "\n",
        "df.head()"
      ],
      "execution_count": null,
      "outputs": [
        {
          "output_type": "execute_result",
          "data": {
            "text/html": [
              "<div>\n",
              "<style scoped>\n",
              "    .dataframe tbody tr th:only-of-type {\n",
              "        vertical-align: middle;\n",
              "    }\n",
              "\n",
              "    .dataframe tbody tr th {\n",
              "        vertical-align: top;\n",
              "    }\n",
              "\n",
              "    .dataframe thead th {\n",
              "        text-align: right;\n",
              "    }\n",
              "</style>\n",
              "<table border=\"1\" class=\"dataframe\">\n",
              "  <thead>\n",
              "    <tr style=\"text-align: right;\">\n",
              "      <th></th>\n",
              "      <th>X (cm)</th>\n",
              "      <th>Y (cm)</th>\n",
              "    </tr>\n",
              "  </thead>\n",
              "  <tbody>\n",
              "    <tr>\n",
              "      <th>0</th>\n",
              "      <td>46.108625</td>\n",
              "      <td>12.809129</td>\n",
              "    </tr>\n",
              "    <tr>\n",
              "      <th>1</th>\n",
              "      <td>45.628312</td>\n",
              "      <td>12.786217</td>\n",
              "    </tr>\n",
              "    <tr>\n",
              "      <th>2</th>\n",
              "      <td>45.105438</td>\n",
              "      <td>12.732817</td>\n",
              "    </tr>\n",
              "    <tr>\n",
              "      <th>3</th>\n",
              "      <td>44.568188</td>\n",
              "      <td>12.646511</td>\n",
              "    </tr>\n",
              "    <tr>\n",
              "      <th>4</th>\n",
              "      <td>44.005938</td>\n",
              "      <td>12.526861</td>\n",
              "    </tr>\n",
              "  </tbody>\n",
              "</table>\n",
              "</div>"
            ],
            "text/plain": [
              "      X (cm)     Y (cm)\n",
              "0  46.108625  12.809129\n",
              "1  45.628312  12.786217\n",
              "2  45.105438  12.732817\n",
              "3  44.568188  12.646511\n",
              "4  44.005938  12.526861"
            ]
          },
          "metadata": {},
          "execution_count": 22
        }
      ]
    },
    {
      "cell_type": "code",
      "metadata": {
        "id": "w749mU29Cfdd"
      },
      "source": [
        ""
      ],
      "execution_count": null,
      "outputs": []
    },
    {
      "cell_type": "code",
      "metadata": {
        "colab": {
          "base_uri": "https://localhost:8080/"
        },
        "id": "LD-PUwCuBfLT",
        "outputId": "d0cce151-12f9-42db-8787-be896c4440ad"
      },
      "source": [
        "q1=[]\n",
        "q2=[]\n",
        "l1= 0.6\n",
        "l2= 0.55\n",
        "elbow = 1\n",
        "for x,y in df.values:\n",
        "  # print(x,y)\n",
        "  t1,t2=inverse_kinematics(x*0.01,y*0.01,l1,l2,elbow)\n",
        "  q1.append(t1)\n",
        "  q2.append(t2)\n"
      ],
      "execution_count": null,
      "outputs": [
        {
          "output_type": "stream",
          "name": "stderr",
          "text": [
            "/usr/local/lib/python3.7/dist-packages/ipykernel_launcher.py:10: RuntimeWarning: invalid value encountered in sqrt\n",
            "  # Remove the CWD from sys.path while we load stuff.\n"
          ]
        }
      ]
    },
    {
      "cell_type": "code",
      "metadata": {
        "id": "FDyiek1eCcw6"
      },
      "source": [
        "# As some of the values are not defined in workspace, so adjusting values of link lengths l1, l2\n",
        "#Let us assume l1= 0.28, l2=0.28\n",
        "\n",
        "l1=0.28\n",
        "l2=0.28\n",
        "q1=[]\n",
        "q2=[]\n",
        "elbow = 1\n",
        "for x,y in df.values:\n",
        "  # print(x,y)\n",
        "  t1,t2=inverse_kinematics(x*0.01,y*0.01,l1,l2,elbow)\n",
        "  q1.append(t1)\n",
        "  q2.append(t2)\n",
        "\n"
      ],
      "execution_count": null,
      "outputs": []
    },
    {
      "cell_type": "code",
      "metadata": {
        "id": "sUOLnogUDUQj"
      },
      "source": [
        "# list q1 contains the angles theta1 for different points x,y of the ankle\n",
        "q1\n"
      ],
      "execution_count": null,
      "outputs": []
    },
    {
      "cell_type": "code",
      "metadata": {
        "id": "x_UhlGpaFnr2"
      },
      "source": [
        "# list q2 contains the angles theta1 for different points x,y of the ankle\n",
        "q2"
      ],
      "execution_count": null,
      "outputs": []
    },
    {
      "cell_type": "code",
      "metadata": {
        "id": "txjDz5nIHQ3I"
      },
      "source": [
        "# Forward Kinematics 2R Planar Fixed Axis\n",
        "def forward_kinematics(q1, q2, l1, l2):\n",
        "    x1 = l1 * np.cos(q1)\n",
        "    y1 = l1 * np.sin(q1)\n",
        "    x2 = l1 * np.cos(q1) + l2 * np.cos(q2)  # l2*np.cos(q2+q1) will be second term if q2 measured from link1\n",
        "    y2 = l1 * np.sin(q1) + l2 * np.sin(q2)  # l2*np.sin(q2+q1) will be second term if q2 measured from link1\n",
        "    return x1, y1, x2, y2"
      ],
      "execution_count": null,
      "outputs": []
    },
    {
      "cell_type": "code",
      "metadata": {
        "id": "6FuORx4EHdIH"
      },
      "source": [
        "X1 = []\n",
        "Y1 = []\n",
        "X2 = []\n",
        "Y2 = []\n",
        "for t1, t2 in zip(q1,q2):\n",
        "  x1,y1,x2,y2 = forward_kinematics(t1,t2,l1,l2)\n",
        "  X1.append(x1*100)\n",
        "  X2.append(x2*100)\n",
        "  Y1.append(y1*100)\n",
        "  Y2.append(y2*100)\n"
      ],
      "execution_count": null,
      "outputs": []
    },
    {
      "cell_type": "code",
      "metadata": {
        "id": "FmfK90ozIEUo"
      },
      "source": [
        "import matplotlib.pyplot as plt\n"
      ],
      "execution_count": null,
      "outputs": []
    },
    {
      "cell_type": "code",
      "metadata": {
        "id": "51RKW3_GIIaB",
        "colab": {
          "base_uri": "https://localhost:8080/",
          "height": 265
        },
        "outputId": "0b586953-5575-41c5-db2b-435336ff1857"
      },
      "source": [
        "plt.plot(df['X (cm)'],df['Y (cm)'])\n",
        "plt.plot(X2,Y2)\n",
        "plt.legend(['original data', 'forward kinematics'])\n",
        "plt.show()"
      ],
      "execution_count": null,
      "outputs": [
        {
          "output_type": "display_data",
          "data": {
            "image/png": "[encoded data removed]",
            "text/plain": [
              "<Figure size 432x288 with 1 Axes>"
            ]
          },
          "metadata": {
            "needs_background": "light"
          }
        }
      ]
    },
    {
      "cell_type": "code",
      "metadata": {
        "id": "ZJiXu8BGITiL"
      },
      "source": [
        ""
      ],
      "execution_count": null,
      "outputs": []
    },
    {
      "cell_type": "code",
      "metadata": {
        "id": "dIG4B8RHIZQv"
      },
      "source": [
        ""
      ],
      "execution_count": null,
      "outputs": []
    }
  ]
}