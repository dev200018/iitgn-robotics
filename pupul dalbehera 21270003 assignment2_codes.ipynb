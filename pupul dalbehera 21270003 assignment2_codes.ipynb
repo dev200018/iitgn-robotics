{
  "nbformat": 4,
  "nbformat_minor": 0,
  "metadata": {
    "colab": {
      "name": "assignment2 codes.ipynb",
      "provenance": [],
      "collapsed_sections": []
    },
    "kernelspec": {
      "name": "python3",
      "display_name": "Python 3"
    },
    "language_info": {
      "name": "python"
    }
  },
  "cells": [
    {
      "cell_type": "code",
      "metadata": {
        "colab": {
          "base_uri": "https://localhost:8080/"
        },
        "id": "0hu0DDjPFac3",
        "outputId": "3f725ff2-669f-47d1-cd4a-85e2ee2233c3"
      },
      "source": [
        "#SCARA RRP jacobian\n",
        "import numpy as np\n",
        "import scipy\n",
        "\n",
        "# define some constants\n",
        "\n",
        "l3 = 9\n",
        "l1= 7\n",
        "l2= 7\n",
        "t1=np.pi/6\n",
        "t2=np.pi/4\n",
        "d=3\n",
        "\n",
        "w, h = 3, 6;\n",
        "p = [[0 for x in range(w)] for y in range(h)] \n",
        "\n",
        "# define initial states\n",
        "\n",
        "p[0][0]=x1=-l2*np.sin(t1+t2)-np.sin(t1)*l1\n",
        "p[0][1]=y1=-l2*np.sin(t1+t2)-np.sin(t1)*l1\n",
        "p[0][2]=z1=0\n",
        "p[1][0]=x2=l2*np.cos(t1+t2)+np.cos(t1)*l1\n",
        "p[1][1]=y2=l2*np.cos(t1+t2)+np.cos(t1)*l1\n",
        "p[1][2]=z2=0\n",
        "p[2][0]=x3=0\n",
        "p[2][1]=y3=0\n",
        "p[2][2]=z3=1\n",
        "p[3][0]=x4=0\n",
        "p[3][1]=y4=0\n",
        "p[3][2]=z4=0\n",
        "p[4][0]=x5=0\n",
        "p[4][1]=y5=0\n",
        "p[4][2]=z5=0\n",
        "p[5][0]=x6=1\n",
        "p[5][1]=y6=1\n",
        "p[5][2]=z6=0\n",
        "\n",
        "print(p)\n"
      ],
      "execution_count": 1,
      "outputs": [
        {
          "output_type": "stream",
          "name": "stdout",
          "text": [
            "[[-10.261480784023478, -10.261480784023478, 0], [7.873911142208718, 7.873911142208718, 0], [0, 0, 1], [0, 0, 0], [0, 0, 0], [1, 1, 0]]\n"
          ]
        }
      ]
    },
    {
      "cell_type": "markdown",
      "metadata": {
        "id": "mNKBaGbKFmNN"
      },
      "source": [
        "here i have derived the 6x3 jacobian matrix for rrp scara configuration"
      ]
    },
    {
      "cell_type": "code",
      "metadata": {
        "id": "zRaTcoPcCLrX"
      },
      "source": [
        "# RRr jacobian\n",
        "import numpy as np\n",
        "import scipy\n",
        "\n",
        "# define some constants\n",
        "\n",
        "l3 = 9\n",
        "l1= 7\n",
        "l2= 7\n",
        "t1=np.pi/6\n",
        "t2=np.pi/4\n",
        "d=3\n",
        "\n",
        "w, h = 3, 6;\n",
        "p = [[0 for x in range(w)] for y in range(h)] \n",
        "# define initial states\n",
        "\n",
        "p[0][0]=x1=-l2*np.sin(t1+t2)-np.sin(t1)*l1\n",
        "p[0][1]=y1=-l2*np.sin(t1+t2)-np.sin(t1)*l1\n",
        "p[0][2]=z1=-l2*np.sin(t1+t2)\n",
        "p[1][0]=x2=l2*np.cos(t1+t2)+np.cos(t1)*l1\n",
        "p[1][1]=y2=l2*np.cos(t1+t2)+np.cos(t1)*l1\n",
        "p[1][2]=z2=l2*np.cos(t1+t2)\n",
        "p[2][0]=x3=0\n",
        "p[2][1]=y3=0\n",
        "p[2][2]=z3=0\n",
        "p[3][0]=x4=0\n",
        "p[3][1]=y4=0\n",
        "p[3][2]=z4=0\n",
        "p[4][0]=x5=0\n",
        "p[4][1]=y5=0\n",
        "p[4][2]=z5=0\n",
        "p[5][0]=x6=1\n",
        "p[5][1]=y6=1\n",
        "p[5][2]=z6=1\n",
        "\n",
        "print(p)"
      ],
      "execution_count": null,
      "outputs": []
    },
    {
      "cell_type": "markdown",
      "metadata": {
        "id": "URMPUlRMGIbw"
      },
      "source": [
        "here i calculated the jacobian matrix of 6x3 of rrr configuration"
      ]
    },
    {
      "cell_type": "code",
      "metadata": {
        "id": "HXVO6hraJQdW",
        "colab": {
          "base_uri": "https://localhost:8080/"
        },
        "outputId": "a3b9eeaf-872d-42d5-840f-2a4254ba1b68"
      },
      "source": [
        "#SCARA RRP\n",
        "import numpy as np\n",
        "import scipy\n",
        "\n",
        "# define some constants\n",
        "\n",
        "l3 = 9\n",
        "l1= 7\n",
        "l2= 7\n",
        "t1=np.pi/6\n",
        "t2=np.pi/4\n",
        "d=3\n",
        "\n",
        "# define initial states\n",
        "\n",
        "x=l3*np.cos(t1+t2)+np.cos(t1)*l2\n",
        "y=l3*np.sin(t1+t2)+np.sin(t1)*l2\n",
        "z=l1-d\n",
        "p=[x,y,z]\n",
        "print(p)\n"
      ],
      "execution_count": 2,
      "outputs": [
        {
          "output_type": "stream",
          "name": "stdout",
          "text": [
            "[8.391549232413759, 12.193332436601613, 4]\n"
          ]
        }
      ]
    },
    {
      "cell_type": "markdown",
      "metadata": {
        "id": "lvh1JVlWGeK9"
      },
      "source": [
        "here i calculated P0 of the endeffector position for scara rrp"
      ]
    },
    {
      "cell_type": "code",
      "metadata": {
        "id": "g-ShSsicGmQe"
      },
      "source": [
        "#STANDFORD RRP\n",
        "import numpy as np\n",
        "import scipy\n",
        "\n",
        "# define some constants\n",
        "\n",
        "l3 = 9\n",
        "l1= 7\n",
        "l2= 7\n",
        "t1=np.pi/6\n",
        "t2=np.pi/4\n",
        "d=3\n",
        "k=l2+l3+d\n",
        "# gettin initial states\n",
        "\n",
        "x=k*np.cos(t1)*np.cos(t2)\n",
        "y=k*np.sin(t1)*np.cos(t2)\n",
        "z=k*np.sin(t2)+l1\n",
        "p=[x,y,z]\n",
        "print(p)"
      ],
      "execution_count": null,
      "outputs": []
    },
    {
      "cell_type": "markdown",
      "metadata": {
        "id": "4gfOUTXBGy1Q"
      },
      "source": [
        "here i calculated the P0 of end effector position of RRP standford configuration"
      ]
    }
  ]
}