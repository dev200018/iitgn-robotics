{
  "nbformat": 4,
  "nbformat_minor": 0,
  "metadata": {
    "colab": {
      "name": "Harsh Shrivastava-21310011-assignment_2_Q_7.ipynb",
      "provenance": [],
      "collapsed_sections": []
    },
    "kernelspec": {
      "name": "python3",
      "display_name": "Python 3"
    },
    "language_info": {
      "name": "python"
    }
  },
  "cells": [
    {
      "cell_type": "markdown",
      "metadata": {
        "id": "Vzlh1KDd2GWp"
      },
      "source": [
        "##Assignment 2"
      ]
    },
    {
      "cell_type": "code",
      "metadata": {
        "id": "GRQJDVHPW2qK"
      },
      "source": [
        "# Q. 7 \n",
        "# import numpy library for mathematical computation\n",
        "import numpy as np"
      ],
      "execution_count": null,
      "outputs": []
    },
    {
      "cell_type": "code",
      "metadata": {
        "id": "-Nt3BMneW6M5"
      },
      "source": [
        "# l1, l2 and l3 are the length of the links (in metres)\n",
        "# theta_1 and theta_2 are the angles (in radians)\n",
        "l1 = 0\n",
        "l2 = 0.5\n",
        "l3 = 0.6\n",
        "theta_1 = 30*(np.pi / 180) #convert degree to radian\n",
        "theta_2 = 20*(np.pi / 180) \n",
        "d3 = 0.5\n"
      ],
      "execution_count": null,
      "outputs": []
    },
    {
      "cell_type": "code",
      "metadata": {
        "colab": {
          "base_uri": "https://localhost:8080/"
        },
        "id": "6nE5PEWcXV1Q",
        "outputId": "3b891f1c-1817-4f86-880d-bd87bff670ef"
      },
      "source": [
        "# resultant matrix obtained represents the position of end effector\n",
        "res = np.array([[l3*np.cos(theta_1+theta_2) + l2*np.cos(theta_1)],\n",
        "                [np.sin(theta_1+theta_2) + l2*np.sin(theta_1)],\n",
        "                [l1 - d3],\n",
        "                [1]])\n",
        "print(res)"
      ],
      "execution_count": null,
      "outputs": [
        {
          "output_type": "stream",
          "name": "stdout",
          "text": [
            "[[ 0.81868527]\n",
            " [ 1.01604444]\n",
            " [-0.5       ]\n",
            " [ 1.        ]]\n"
          ]
        }
      ]
    },
    {
      "cell_type": "code",
      "metadata": {
        "id": "OEZ_dkMQan3Q"
      },
      "source": [
        ""
      ],
      "execution_count": null,
      "outputs": []
    }
  ]
}