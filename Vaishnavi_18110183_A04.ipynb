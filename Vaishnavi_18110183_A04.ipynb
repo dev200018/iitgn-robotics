{
  "nbformat": 4,
  "nbformat_minor": 0,
  "metadata": {
    "colab": {
      "name": "Vaishnavi_18110183_A04.ipynb",
      "provenance": []
    },
    "kernelspec": {
      "name": "python3",
      "display_name": "Python 3"
    },
    "language_info": {
      "name": "python"
    }
  },
  "cells": [
    {
      "cell_type": "markdown",
      "metadata": {
        "id": "5lgX7aZwv5HQ"
      },
      "source": [
        "**Task 1**:\n",
        "\n",
        "Stanford Manipulator"
      ]
    },
    {
      "cell_type": "code",
      "metadata": {
        "id": "X3_vhg53vwUw",
        "colab": {
          "base_uri": "https://localhost:8080/"
        },
        "outputId": "bd27638c-66bf-46d6-ece0-7c69950bf1f5"
      },
      "source": [
        "import numpy as np\n",
        "\n",
        "def inverse_kinematics_stanford(H,d1,d2):\n",
        "  \n",
        "  R = [[H[0][0],H[0][1],H[0][2]],[H[1][0],H[1][1],H[1][2]],[H[2][0],H[2][1],H[2][2]]]\n",
        "  [x_c,y_c,z_c] = [H[0][3],H[1][3],H[2][3]]\n",
        "\n",
        "  theta_1 = np.arctan(y_c/x_c)\n",
        "\n",
        "  r = (x_c**2+y_c**2)**0.5\n",
        "  s = z_c - d1\n",
        "  theta_2 = np.arctan(s/r) + np.pi/2\n",
        "\n",
        "  d3 = (r**2 + s**2)**0.5\n",
        "\n",
        "  DH = [[0,-np.pi/2,d1,theta_1],[0,np.pi/2,5,theta_2],[0,0,d3,0]]\n",
        "\n",
        "  print('The DH parameters for the given configuration are:')\n",
        "  return DH\n",
        "\n",
        "H = [[0.6123,-0.5,0.6123,0.674],[0.353,0.866,0.353,7.317],[-0.5,0,0.707,4.243],[0,0,0,1]]\n",
        "d1 = 5\n",
        "d2 = 6\n",
        "DH = inverse_kinematics_stanford(H,d1,d2)\n",
        "print(DH)\n",
        "\n",
        "n = len(DH)\n",
        "def dhpara(n,DH,t=[0]*n):\n",
        "  \n",
        "  a = [0]*(n+1)\n",
        "  alpha = [0]*(n+1)\n",
        "  d = [0]*(n+1)\n",
        "  theta = [0]*(n+1)\n",
        "  for i in range(1,n+1):\n",
        "    a[i] = DH[i-1][0]\n",
        "    alpha[i] = DH[i-1][1]\n",
        "    d[i] = DH[i-1][2]\n",
        "    theta[i] = DH[i-1][3]\n",
        "  \n",
        "  A = [0]*(n+1)\n",
        "  for i in range(1,n+1):\n",
        "    A[i] = [[np.cos(theta[i]),-np.sin(theta[i])*np.cos(alpha[i]),np.sin(theta[i])*np.sin(alpha[i]),a[i]*np.cos(theta[i])],[np.sin(theta[i]),np.cos(theta[i])*np.cos(alpha[i]),-np.cos(theta[i])*np.sin(alpha[i]),a[i]*np.sin(theta[i])],[0,np.sin(alpha[i]),np.cos(alpha[i]),d[i]],[0,0,0,1]]\n",
        "\n",
        "  T = [0]*(n+1)#intermediate transformation matrices\n",
        "\n",
        "  #for the final transformation matrix, we multiply all the matrices\n",
        "  T[1] = A[1]\n",
        "  T_final = np.matmul(A[1],A[2])\n",
        "  T[2] = T_final\n",
        "  for i in range(3,n+1):\n",
        "    T_final = np.matmul(T_final,A[i]) \n",
        "    T[i] = T_final\n",
        "\n",
        "  #the final transformation matrix is stored in T_final\n",
        "  pn = [0,0,d[n],1]\n",
        "  po = np.matmul(T_final,pn)\n",
        "\n",
        "  #end effector position:\n",
        "  po = [po[0],po[1],po[2]]\n",
        "\n",
        "  #to find manipulator jacobian\n",
        "\n",
        "  J = [[0]*n]*6\n",
        "  \n",
        "  o = [0]*(n+1) #joint positions\n",
        "  o[0] = [0,0,0]\n",
        "  o[0] = np.array(o[0])\n",
        "  for i in range(1,n+1):\n",
        "    o[i] = [T[i][0][3],T[i][1][3],T[i][2][3]]\n",
        "    o[i] = np.array(o[i])\n",
        "  #print(o)\n",
        "  \n",
        "  z = [0]*(n+1) #coordinates of z axis\n",
        "  z[0] = [0,0,1]\n",
        "  z[0] = np.array(z[0])\n",
        "  for i in range(1,n+1):\n",
        "    z[i] = [T[i][0][2],T[i][1][2],T[i][2][2]]\n",
        "    z[i] = np.array(z[i])\n",
        "  #print(z)\n",
        "\n",
        "  for i in range(1,n+1):#i defines column number and joint number\n",
        "    if t[i-1]==0:#revolute joint\n",
        "      Jv = np.cross(z[i],(o[n]-o[i]))\n",
        "      J[0][i-1] = Jv[0]\n",
        "      J[1][i-1] = Jv[1]\n",
        "      J[2][i-1] = Jv[2]\n",
        "\n",
        "      J[3][i-1] = z[i-1][0]\n",
        "      J[4][i-1] = z[i-1][1]\n",
        "      J[5][i-1] = z[i-1][2]\n",
        "\n",
        "    if t[i-1]==1: #prismatic joint\n",
        "      J[0][i-1] = z[i-1][0]\n",
        "      J[1][i-1] = z[i-1][1]\n",
        "      J[2][i-1] = z[i-1][2]\n",
        "\n",
        "      J[3][i-1] = 0\n",
        "      J[4][i-1] = 0\n",
        "      J[5][i-1] = 0\n",
        "  \n",
        "  J = np.asmatrix(J)\n",
        "\n",
        "  print('The final transformation matrix, end effector position and manipulator Jacobian for the configuration are:')\n",
        "  return T_final, po, J\n",
        "\n",
        "dhpara(n,DH,[0,0,1])\n"
      ],
      "execution_count": 27,
      "outputs": [
        {
          "output_type": "stream",
          "name": "stdout",
          "text": [
            "The DH parameters for the given configuration are:\n",
            "[[0, -1.5707963267948966, 5, 1.4789412848546186], [0, 1.5707963267948966, 5, 1.4681369406336657], [0, 0, 7.386867671753705, 0]]\n",
            "The final transformation matrix, end effector position and manipulator Jacobian for the configuration are:\n"
          ]
        },
        {
          "output_type": "execute_result",
          "data": {
            "text/plain": [
              "(array([[ 9.39999608e-03, -9.95784291e-01,  9.12430045e-02,\n",
              "         -4.30492146e+00],\n",
              "        [ 1.02047138e-01,  9.17259276e-02,  9.90541638e-01,\n",
              "          7.77562964e+00],\n",
              "        [-9.94735151e-01,  5.49573011e-17,  1.02479161e-01,\n",
              "          5.75700000e+00],\n",
              "        [ 0.00000000e+00,  0.00000000e+00,  0.00000000e+00,\n",
              "          1.00000000e+00]]),\n",
              " [-3.630921455016021, 15.092629637922753, 6.513999999999999],\n",
              " matrix([[1.000000e+00, 6.123234e-17, 0.000000e+00],\n",
              "         [1.000000e+00, 6.123234e-17, 0.000000e+00],\n",
              "         [1.000000e+00, 6.123234e-17, 0.000000e+00],\n",
              "         [1.000000e+00, 6.123234e-17, 0.000000e+00],\n",
              "         [1.000000e+00, 6.123234e-17, 0.000000e+00],\n",
              "         [1.000000e+00, 6.123234e-17, 0.000000e+00]]))"
            ]
          },
          "metadata": {},
          "execution_count": 27
        }
      ]
    },
    {
      "cell_type": "markdown",
      "metadata": {
        "id": "ROXTBVic4vFw"
      },
      "source": [
        "**Task 2**:\n",
        "\n",
        "SCARA Manipulator"
      ]
    },
    {
      "cell_type": "code",
      "metadata": {
        "id": "qrXkfHYc40Hd",
        "colab": {
          "base_uri": "https://localhost:8080/"
        },
        "outputId": "8985e45c-df15-4924-b33d-e5f07b6ee9fb"
      },
      "source": [
        "def inverse_kin_scara(H,a1,a2):\n",
        "  R = [[H[0][0],H[0][1],H[0][2]],[H[1][0],H[1][1],H[1][2]],[H[2][0],H[2][1],H[2][2]]]\n",
        "  o = [H[0][3],H[1][3],H[2][3]]\n",
        "\n",
        "  alpha = np.arctan(R[0][1]/R[0][0])\n",
        "  c2 = (H[0][3]**2 + H[1][3]**2 - a1**2 - a2**2)/(2*a1*a2)\n",
        "\n",
        "  theta_2 = np.arctan((1-c2)/c2)\n",
        "  theta_1 = np.arctan(H[0][3]/H[1][3]) - np.arctan(a2*np.sin(theta_2)/(a1+a2*np.cos(theta_2)))\n",
        "  d3 = o[2]\n",
        "\n",
        "  DH = [[a1,0,0,theta_1],[a2,np.pi,0,theta_2],[0,0,d3,0]]\n",
        "  \n",
        "  print('The DH parameters for the given configuration are:')\n",
        "  return DH\n",
        "\n",
        "H = [[0.2588,0.9659,0,3.2849],[-0.9659,-0.2588,0,6.7955],[0,0,-1,-9],[0,0,0,1]]\n",
        "DH = inverse_kin_scara(H,2,6)\n",
        "print(DH)\n",
        "\n",
        "n = 3\n",
        "dhpara(n,DH,[0,0,1])\n"
      ],
      "execution_count": 28,
      "outputs": [
        {
          "output_type": "stream",
          "name": "stdout",
          "text": [
            "The DH parameters for the given configuration are:\n",
            "[[2, 0, 0, 0.15473130081953068], [6, 3.141592653589793, 0, 0.3927826253079376], [0, 0, -9, 0]]\n",
            "The final transformation matrix, end effector position and manipulator Jacobian for the configuration are:\n"
          ]
        },
        {
          "output_type": "execute_result",
          "data": {
            "text/plain": [
              "(array([[ 8.53821325e-01,  5.20566177e-01,  6.37509702e-17,\n",
              "          7.09903391e+00],\n",
              "        [ 5.20566177e-01, -8.53821325e-01, -1.04562955e-16,\n",
              "          3.43162629e+00],\n",
              "        [ 0.00000000e+00,  1.22464680e-16, -1.00000000e+00,\n",
              "          9.00000000e+00],\n",
              "        [ 0.00000000e+00,  0.00000000e+00,  0.00000000e+00,\n",
              "          1.00000000e+00]]),\n",
              " [7.099033905294806, 3.4316262932091712, 18.0],\n",
              " matrix([[1., 1., 0.],\n",
              "         [1., 1., 0.],\n",
              "         [1., 1., 0.],\n",
              "         [1., 1., 0.],\n",
              "         [1., 1., 0.],\n",
              "         [1., 1., 0.]]))"
            ]
          },
          "metadata": {},
          "execution_count": 28
        }
      ]
    },
    {
      "cell_type": "markdown",
      "metadata": {
        "id": "kYzYeh8X55R8"
      },
      "source": [
        "**Task 3**:\n",
        "\n",
        "Finding joint velocities when Cartesian end effector velocities are given"
      ]
    },
    {
      "cell_type": "code",
      "metadata": {
        "colab": {
          "base_uri": "https://localhost:8080/"
        },
        "id": "eA905E7C6Eu3",
        "outputId": "7aeec806-a006-46b0-be92-2474291457dd"
      },
      "source": [
        "import numpy as np\n",
        "\n",
        "def inv_velocity(X_dot,J):\n",
        "  #X_dot is cartesian velocity of end effector\n",
        "  #J is manipulator Jacobian\n",
        "\n",
        "  J_inv = np.linalg.pinv(J) #pseudo inverse of J\n",
        "  q_dot = np.matmul(J_inv,X_dot)\n",
        "\n",
        "  n = len(J[0])\n",
        "\n",
        "  for i in range(n):\n",
        "    print('The joint velocity q'+ str(i+1) +'_dot is '+ str(q_dot[i]))\n",
        "  \n",
        "  return q_dot\n",
        "\n",
        "X_dot = [[12],[10],[5],[1],[4],[3]]\n",
        "J = [[1,2,5],[2,3,6],[1,5,9],[1,5,2],[7,5,8],[1,0,2]]\n",
        "\n",
        "inv_velocity(X_dot,J)"
      ],
      "execution_count": 29,
      "outputs": [
        {
          "output_type": "stream",
          "name": "stdout",
          "text": [
            "The joint velocity q1_dot is [-0.48521122]\n",
            "The joint velocity q2_dot is [-0.69897343]\n",
            "The joint velocity q3_dot is [1.55468176]\n"
          ]
        },
        {
          "output_type": "execute_result",
          "data": {
            "text/plain": [
              "array([[-0.48521122],\n",
              "       [-0.69897343],\n",
              "       [ 1.55468176]])"
            ]
          },
          "metadata": {},
          "execution_count": 29
        }
      ]
    },
    {
      "cell_type": "markdown",
      "metadata": {
        "id": "1055h5RU0oPH"
      },
      "source": [
        "**Task 6**:\n",
        "\n",
        "Spherical Wrist"
      ]
    },
    {
      "cell_type": "code",
      "metadata": {
        "id": "qjlcwJWp0r_s",
        "colab": {
          "base_uri": "https://localhost:8080/"
        },
        "outputId": "cb70d944-806b-4af1-e4f2-fe7a5c3a2977"
      },
      "source": [
        "def spherical_wrist(H,d3):\n",
        "  R = [[H[0][0],H[0][1],H[0][2]],[H[1][0],H[1][1],H[1][2]],[H[2][0],H[2][1],H[2][2]]]\n",
        "  \n",
        "  theta_1 = np.arctan(R[1][2]/R[0][2]) #pitch angle\n",
        "  theta_2 = np.arctan(((1-R[2][2]**2)**0.5) / R[2][2]) #roll angle\n",
        "  theta_3 = np.arctan(-R[2][1]/R[2][0]) #yaw angle\n",
        "\n",
        "  DH = [[0,np.pi/2,0,theta_1],[0,np.pi/2,0,theta_2],[0,0,d3,theta_3]]\n",
        "\n",
        "  print('The DH parameters for the given configuration are:')\n",
        "  return DH\n",
        "\n",
        "H = [[0.7146,-0.6131,0.3368,3.368],[0.6131,0.771,0.0594,0.594],[-0.296,0.171,0.939,9.39],[0,0,0,1]]\n",
        "spherical_wrist(H,10)"
      ],
      "execution_count": 30,
      "outputs": [
        {
          "output_type": "stream",
          "name": "stdout",
          "text": [
            "The DH parameters for the given configuration are:\n"
          ]
        },
        {
          "output_type": "execute_result",
          "data": {
            "text/plain": [
              "[[0, 1.5707963267948966, 0, 0.17457056954959707],\n",
              " [0, 1.5707963267948966, 0, 0.3510853369209009],\n",
              " [0, 0, 10, 0.5238630603949287]]"
            ]
          },
          "metadata": {},
          "execution_count": 30
        }
      ]
    },
    {
      "cell_type": "markdown",
      "metadata": {
        "id": "JlGE3yk89WWf"
      },
      "source": [
        "**Task 7**:\n",
        "\n",
        "PPP Configuration"
      ]
    },
    {
      "cell_type": "code",
      "metadata": {
        "id": "ltth4iTU9eaE",
        "colab": {
          "base_uri": "https://localhost:8080/"
        },
        "outputId": "4f6b77f0-c66d-43a2-9bd0-ada3ef82e3bc"
      },
      "source": [
        "DH = [[0,-np.pi/2,5,0],[0,-np.pi/2,10,-np.pi/2],[0,0,8,0]]\n",
        "n=3\n",
        "t = [1,1,1]\n",
        "\n",
        "dhpara(n,DH,t)"
      ],
      "execution_count": 31,
      "outputs": [
        {
          "output_type": "stream",
          "name": "stdout",
          "text": [
            "The final transformation matrix, end effector position and manipulator Jacobian for the configuration are:\n"
          ]
        },
        {
          "output_type": "execute_result",
          "data": {
            "text/plain": [
              "(array([[ 6.123234e-17,  6.123234e-17,  1.000000e+00,  8.000000e+00],\n",
              "        [-6.123234e-17, -1.000000e+00,  6.123234e-17,  1.000000e+01],\n",
              "        [ 1.000000e+00, -6.123234e-17, -6.123234e-17,  5.000000e+00],\n",
              "        [ 0.000000e+00,  0.000000e+00,  0.000000e+00,  1.000000e+00]]),\n",
              " [16.0, 10.0, 4.999999999999999],\n",
              " matrix([[0, 0, 0],\n",
              "         [0, 0, 0],\n",
              "         [0, 0, 0],\n",
              "         [0, 0, 0],\n",
              "         [0, 0, 0],\n",
              "         [0, 0, 0]]))"
            ]
          },
          "metadata": {},
          "execution_count": 31
        }
      ]
    },
    {
      "cell_type": "markdown",
      "metadata": {
        "id": "Xc0IBpVlyL8c"
      },
      "source": [
        "**Task 8**:\n",
        "\n",
        "Inverse Kinematics for PPP Configuration"
      ]
    },
    {
      "cell_type": "code",
      "metadata": {
        "colab": {
          "base_uri": "https://localhost:8080/"
        },
        "id": "FGVqYN9KyLZz",
        "outputId": "d305ad76-7563-4c5e-b9ca-f21117686166"
      },
      "source": [
        "import numpy as np\n",
        "\n",
        "def inv_kin_ppp(H):\n",
        "  d1 = H[0][3]\n",
        "  d2 = H[1][3]\n",
        "  d3 = H[2][3]\n",
        "\n",
        "  DH = [[0,-np.pi/2,d1,0],[0,-np.pi/2,d2,-np.pi/2],[0,0,d3,0]]\n",
        "\n",
        "  print('The DH parameters for the given configuration are:')\n",
        "  return DH\n",
        "\n",
        "H = [[0,0,1,3],[0,1,0,8],[1,0,0,6],[0,0,0,1]]\n",
        "inv_kin_ppp(H)"
      ],
      "execution_count": 32,
      "outputs": [
        {
          "output_type": "stream",
          "name": "stdout",
          "text": [
            "The DH parameters for the given configuration are:\n"
          ]
        },
        {
          "output_type": "execute_result",
          "data": {
            "text/plain": [
              "[[0, -1.5707963267948966, 3, 0],\n",
              " [0, -1.5707963267948966, 8, -1.5707963267948966],\n",
              " [0, 0, 6, 0]]"
            ]
          },
          "metadata": {},
          "execution_count": 32
        }
      ]
    }
  ]
}