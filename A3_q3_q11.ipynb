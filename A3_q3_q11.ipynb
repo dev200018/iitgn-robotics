{
 "cells": [
  {
   "cell_type": "code",
   "execution_count": 99,
   "metadata": {},
   "outputs": [],
   "source": [
    "import numpy as np"
   ]
  },
  {
   "cell_type": "markdown",
   "metadata": {},
   "source": [
    "# Question 3 "
   ]
  },
  {
   "cell_type": "code",
   "execution_count": 100,
   "metadata": {},
   "outputs": [
    {
     "name": "stdout",
     "output_type": "stream",
     "text": [
      "Number of links: 3\n",
      "Link | theta_i | d_i | a_i | alpha_i\n",
      "1      0 1 1 0\n",
      "2      0 0 1 0\n",
      "3      0 -0.1 0 0\n",
      "type the joint numbers of prismatic joints (leave empty if none): 3\n"
     ]
    }
   ],
   "source": [
    "n=int(input(\"Number of links: \"))\n",
    "dh=[0]*n\n",
    "R_or_P=[0]*n\n",
    "# print(\"type 0 for Revolute joint and 1 for prismatic joint\")\n",
    "print(\"Link | theta_i | d_i | a_i | alpha_i\")\n",
    "for i in range(n):\n",
    "    dh[i]=[eval(j) for j in input(str(i+1)+\" \"*6).split()]\n",
    "lst=[int(i) for i in input(\"type the joint numbers of prismatic joints (leave empty if none): \").split()]\n",
    "for i in lst:\n",
    "    R_or_P[i-1]=1\n",
    "# print(dh)"
   ]
  },
  {
   "cell_type": "code",
   "execution_count": 101,
   "metadata": {},
   "outputs": [],
   "source": [
    "A=[0]*n\n",
    "for i in range(n):\n",
    "    theta, d, a, alpha = dh[i]\n",
    "    A[i]=np.array([[np.cos(theta), -np.sin(theta)*np.cos(alpha), np.sin(theta)*np.sin(alpha), a*np.cos(theta)],\n",
    "                   [np.sin(theta), np.cos(theta)*np.cos(alpha), -np.cos(theta)*np.sin(alpha), a*np.sin(theta)],\n",
    "                   [0, np.sin(alpha), np.cos(alpha), d],\n",
    "                   [0, 0, 0, 1]])"
   ]
  },
  {
   "cell_type": "code",
   "execution_count": 102,
   "metadata": {},
   "outputs": [
    {
     "name": "stdout",
     "output_type": "stream",
     "text": [
      "position of end effector: [2.  0.  0.9]\n",
      "orientation of end effector:\n",
      "[[1. 0. 0.]\n",
      " [0. 1. 0.]\n",
      " [0. 0. 1.]]\n"
     ]
    }
   ],
   "source": [
    "ans=np.identity(4)\n",
    "Z=[0]*(n+1)\n",
    "Z[0]=np.array([[0],\n",
    "               [0],\n",
    "               [1]])\n",
    "\n",
    "O=[0]*(n+1)\n",
    "O[0]=np.array([0, 0, 0])\n",
    "\n",
    "for i in range(n):\n",
    "    ans=ans@A[i]\n",
    "    Z[i+1]=ans[0:3, 0:3]@Z[0]\n",
    "    O[i+1]=ans[0:3,3].T\n",
    "#     O[i+1]=np.array([ans[0:3,3]]).T\n",
    "print(\"position of end effector:\", ans[0:3,3])\n",
    "print(\"orientation of end effector:\")\n",
    "print(ans[0:3,0:3])\n",
    "# print(np.around(ans,2))"
   ]
  },
  {
   "cell_type": "markdown",
   "metadata": {},
   "source": [
    "jakobian"
   ]
  },
  {
   "cell_type": "code",
   "execution_count": 103,
   "metadata": {
    "scrolled": true
   },
   "outputs": [
    {
     "name": "stdout",
     "output_type": "stream",
     "text": [
      "[[ 0. -0.  0.]\n",
      " [ 2.  1.  0.]\n",
      " [ 0.  0.  1.]\n",
      " [ 0.  0.  0.]\n",
      " [ 0.  0.  0.]\n",
      " [ 1.  1.  0.]]\n"
     ]
    }
   ],
   "source": [
    "J=[0]*n\n",
    "for i in range(n):\n",
    "    if R_or_P[i]==1:\n",
    "        J[i]=np.concatenate((Z[i],np.array([[0,0,0]]).T),axis=0)\n",
    "    else:\n",
    "        cross=np.cross(Z[i].T,(O[n]-O[i]).T)\n",
    "        J[i]=np.concatenate((cross.T,Z[i]),axis=0)\n",
    "\n",
    "final_J=J[0]\n",
    "for i in range(1,n):\n",
    "    final_J=np.concatenate((final_J,J[i]),axis=1)\n",
    "\n",
    "print(final_J)\n",
    "# print(np.around(final_J,2))\n",
    "        "
   ]
  },
  {
   "cell_type": "code",
   "execution_count": 109,
   "metadata": {},
   "outputs": [
    {
     "name": "stdout",
     "output_type": "stream",
     "text": [
      "endter q_dot for revolute joint and d_dot for prismatic joint: (3 values) 1 1 1\n",
      "\n",
      "End-effector velocity:\n",
      "[0. 3. 1.]\n"
     ]
    }
   ],
   "source": [
    "dots=input(\"endter q_dot for revolute joint and d_dot for prismatic joint: (\"+str(n)+\" values) \")\n",
    "print()\n",
    "q_dots=[int(i) for i in dots.split()]\n",
    "print(\"End-effector velocity:\")\n",
    "print((final_J@q_dots)[0:3])"
   ]
  },
  {
   "cell_type": "markdown",
   "metadata": {},
   "source": [
    "# Question 11"
   ]
  },
  {
   "cell_type": "code",
   "execution_count": 206,
   "metadata": {},
   "outputs": [],
   "source": [
    "import sympy as sym"
   ]
  },
  {
   "cell_type": "code",
   "execution_count": 207,
   "metadata": {},
   "outputs": [],
   "source": [
    "n=2\n",
    "q1 = sym.Symbol('q1')\n",
    "q1_dot = sym.Symbol('q1_dot')\n",
    "q1_dot_dot = sym.Symbol('q1_dot_dot')\n",
    "q2 = sym.Symbol('q2')\n",
    "q2_dot = sym.Symbol('q2_dot')\n",
    "q2_dot_dot = sym.Symbol('q2_dot_dot')\n",
    "l1=1\n",
    "l2=1\n",
    "m1=1\n",
    "m2=1\n",
    "g=9.81\n",
    "D=np.array([[m1*l2**2/3+m2*l2**2, m2*l1*l2/2*sym.cos(q2-q1)],\n",
    "             [m2*l1*l2/2*sym.cos(q2-q1), m2*l2**2/3]])\n",
    "V=m1*g*l1/2*sym.sin(q1)+m2*g*(l1*sym.sin(q1)+l2/2*sym.sin(q2))\n",
    "phi=np.array([[sym.diff(V, q1)],\n",
    "              [sym.diff(V, q2)]])\n",
    "q=np.array([[q1],\n",
    "            [q2]])\n",
    "q_dot=np.array([[q1_dot],\n",
    "                [q2_dot]])\n",
    "q_dot_dot=np.array([[q1_dot_dot],\n",
    "                    [q2_dot_dot]])"
   ]
  },
  {
   "cell_type": "code",
   "execution_count": 208,
   "metadata": {},
   "outputs": [],
   "source": [
    "c=[0]*n\n",
    "for k in range(n):\n",
    "    for i in range(n):\n",
    "        for j in range(n):\n",
    "            sum=sym.diff(D[k][j], \"q\"+str(i))+sym.diff(D[k][i], \"q\"+str(j))+sym.diff(D[i][j], \"q\"+str(k))\n",
    "            c[k]+=0.5*(sum)*sym.Symbol(\"q\"+str(i))*sym.Symbol(\"q\"+str(j))"
   ]
  },
  {
   "cell_type": "code",
   "execution_count": 209,
   "metadata": {},
   "outputs": [
    {
     "name": "stdout",
     "output_type": "stream",
     "text": [
      "[[-0.5*q1**2*sin(q1 - q2) + 1.33333333333333*q1_dot_dot + 0.5*q2_dot_dot*cos(q1 - q2) + 14.715*cos(q1)]\n",
      " [-1.0*q0*q1*sin(q1 - q2) + 0.5*q1_dot_dot*cos(q1 - q2) + 0.333333333333333*q2_dot_dot + 4.905*cos(q2)]]\n"
     ]
    }
   ],
   "source": [
    "final=D@q_dot_dot+phi+np.transpose([c])\n",
    "print(final)"
   ]
  },
  {
   "cell_type": "markdown",
   "metadata": {},
   "source": [
    "The above printed matrix is left side of the equation written in question 10. which equals to the torque matrix."
   ]
  },
  {
   "cell_type": "code",
   "execution_count": null,
   "metadata": {},
   "outputs": [],
   "source": []
  }
 ],
 "metadata": {
  "kernelspec": {
   "display_name": "Python 3",
   "language": "python",
   "name": "python3"
  },
  "language_info": {
   "codemirror_mode": {
    "name": "ipython",
    "version": 3
   },
   "file_extension": ".py",
   "mimetype": "text/x-python",
   "name": "python",
   "nbconvert_exporter": "python",
   "pygments_lexer": "ipython3",
   "version": "3.8.10"
  }
 },
 "nbformat": 4,
 "nbformat_minor": 4
}
