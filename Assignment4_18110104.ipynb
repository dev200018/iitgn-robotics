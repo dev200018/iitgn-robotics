{
  "nbformat": 4,
  "nbformat_minor": 0,
  "metadata": {
    "colab": {
      "name": "A4.ipynb",
      "provenance": [],
      "collapsed_sections": []
    },
    "kernelspec": {
      "name": "python3",
      "display_name": "Python 3"
    },
    "language_info": {
      "name": "python"
    }
  },
  "cells": [
    {
      "cell_type": "markdown",
      "metadata": {
        "id": "LmjvOvTKZwXK"
      },
      "source": [
        "Nikhil Murkute\n",
        "18110104\n",
        "\n",
        "Assignment 4\n",
        "\n",
        "\n",
        "\n",
        "\n"
      ]
    },
    {
      "cell_type": "code",
      "metadata": {
        "id": "aLMKGTdLqGNS"
      },
      "source": [
        "import numpy as np\n",
        "import scipy.integrate as integrate "
      ],
      "execution_count": 55,
      "outputs": []
    },
    {
      "cell_type": "markdown",
      "metadata": {
        "id": "KFPgrAPOpsaB"
      },
      "source": [
        "#Task 1\n",
        "Python subroutine to solve inverse position kinematics for \n",
        "stanford manipulator\n"
      ]
    },
    {
      "cell_type": "code",
      "metadata": {
        "id": "SlPv_R7Q0QJh"
      },
      "source": [
        "p=[2,3,1] #P=[px,py,pz]\n",
        "links=[1,2] #links=[d1,d2]"
      ],
      "execution_count": 58,
      "outputs": []
    },
    {
      "cell_type": "code",
      "metadata": {
        "colab": {
          "base_uri": "https://localhost:8080/"
        },
        "id": "UcqKxICMweq1",
        "outputId": "28f34a53-de9d-4e4b-c206-0061cf83f174"
      },
      "source": [
        "def Stanford(p, links):\n",
        "  if (p[0]==0 and p[1]==0):\n",
        "    print(\"Configuration is singular.\")\n",
        "    return[]\n",
        "  else:\n",
        "    theta1=np.arctan(p[1]/p[0])\n",
        "    r=(p[0]**2+p[1]**2)**0.5\n",
        "    s=p[2]-links[0]\n",
        "    theta2=np.arctan(s/r)+(np.pi/2)\n",
        "    d3=(r**2+s**2)**(0.5)-links[1]\n",
        "    return[theta1,theta2,d3]\n",
        "\n",
        "Stanford(p,links)"
      ],
      "execution_count": 59,
      "outputs": [
        {
          "output_type": "execute_result",
          "data": {
            "text/plain": [
              "[0.982793723247329, 1.5707963267948966, 1.6055512754639891]"
            ]
          },
          "metadata": {},
          "execution_count": 59
        }
      ]
    },
    {
      "cell_type": "markdown",
      "metadata": {
        "id": "NBi7htkuvtIx"
      },
      "source": [
        "#Task 2\n",
        "Python subroutine to solve inverse position kinematics for \n",
        "scara manipulator\n"
      ]
    },
    {
      "cell_type": "code",
      "metadata": {
        "id": "4GnJxmU81N4e"
      },
      "source": [
        "p=[1,2,1] #p=[px,py,pz]\n",
        "link=[3,2,3] #link=[a1,a2,d3]"
      ],
      "execution_count": 88,
      "outputs": []
    },
    {
      "cell_type": "code",
      "metadata": {
        "colab": {
          "base_uri": "https://localhost:8080/"
        },
        "id": "egDkqX8Pwfq3",
        "outputId": "ac880be0-c6c2-4b52-f4dd-20cab1fc301a"
      },
      "source": [
        "def Scara(p, link):\n",
        "    r=((p[0]**2+p[1]**2-link[0]**2-link[1]**2)/(2*link[0]*link[1]))**0.5\n",
        "    \n",
        "    theta2=np.arctan([((1-r**2)**0.5)/r,-((1-r**2)**0.5)/r])\n",
        "    theta1=np.arctan([p[0]/p[1]])-np.arctan([link[0]+link[1]*np.cos(theta2)/link[1]*np.sin(theta2)])\n",
        "    theta1=np.matrix(theta1)\n",
        "    theta2=np.matrix(theta2)\n",
        "\n",
        "    return [theta1,theta2,d4]\n",
        "\n",
        "Scara(p,link)"
      ],
      "execution_count": 89,
      "outputs": [
        {
          "output_type": "execute_result",
          "data": {
            "text/plain": [
              "[matrix([[-0.81597224-0.09603199j, -0.81597224+0.09603199j]]),\n",
              " matrix([[ 1.57079633-0.74549815j, -1.57079633+0.74549815j]]),\n",
              " 2]"
            ]
          },
          "metadata": {},
          "execution_count": 89
        }
      ]
    },
    {
      "cell_type": "markdown",
      "metadata": {
        "id": "wfu7LD9UvtpZ"
      },
      "source": [
        "#Task 3\n",
        "Python subroutine to solve joint velocities using end effector cartesian velocities \n",
        "\n"
      ]
    },
    {
      "cell_type": "code",
      "metadata": {
        "id": "ePsWZtTWK6Q-"
      },
      "source": [
        "jacob=np.array([[1,2,2,0],[1,1,1,0],[1,1,0.3,0],[0,0,0,1]])\n",
        "Xdot=np.array([1,2,3,1]).T"
      ],
      "execution_count": 49,
      "outputs": []
    },
    {
      "cell_type": "code",
      "metadata": {
        "colab": {
          "base_uri": "https://localhost:8080/"
        },
        "id": "hBTDLdNBwgSg",
        "outputId": "461ec138-5740-4420-83e6-3dd801c42b5f"
      },
      "source": [
        "def SPwrist(jacob,Xdot):\n",
        "  if (np.linalg.det(jacob)==0):\n",
        "    print(\"Configuration is singular.\")\n",
        "    return[]\n",
        "  else:\n",
        "    jacob_inv=np.linalg.inv(jacob)\n",
        "    qdot=np.dot(jacob_inv,Xdot)\n",
        "    qdot=np.array([qdot[1],qdot[2],qdot[3]])\n",
        "    return qdot\n",
        "  \n",
        "SPwrist(jacob,Xdot)"
      ],
      "execution_count": 54,
      "outputs": [
        {
          "output_type": "execute_result",
          "data": {
            "text/plain": [
              "array([ 0.42857143, -1.42857143,  1.        ])"
            ]
          },
          "metadata": {},
          "execution_count": 54
        }
      ]
    },
    {
      "cell_type": "markdown",
      "metadata": {
        "id": "Nvq49l1KvwLe"
      },
      "source": [
        "#Task 6\n",
        "Python subroutine for the inverse kinematics of the speherical wrist\n"
      ]
    },
    {
      "cell_type": "code",
      "metadata": {
        "id": "QQlV2B6MEg8r"
      },
      "source": [
        "R36=[[1,2,2],[1,1,1],[1,1,0.3]]"
      ],
      "execution_count": 25,
      "outputs": []
    },
    {
      "cell_type": "code",
      "metadata": {
        "colab": {
          "base_uri": "https://localhost:8080/"
        },
        "id": "8-TP8aWGwhoz",
        "outputId": "1ad7e950-0243-49c5-9540-6e22754904a1"
      },
      "source": [
        "def SPwrist(R36):\n",
        "  if (R36[2][2]==1):\n",
        "    print(\"Configuration is singular.\")\n",
        "    return[]\n",
        "  else:\n",
        "    theta4=np.arctan(R36[0][2]/R36[1][2])\n",
        "    theta6=np.arctan(-R36[2][1]/R36[2][0])\n",
        "    theta5=np.arctan(R36[2][2]/(1-R36[2][2]**2)**0.5)\n",
        "    return[theta4, theta5, theta6]\n",
        "\n",
        "SPwrist(R36)"
      ],
      "execution_count": 30,
      "outputs": [
        {
          "output_type": "execute_result",
          "data": {
            "text/plain": [
              "[1.1071487177940904, 0.3046926540153975, -0.7853981633974483]"
            ]
          },
          "metadata": {},
          "execution_count": 30
        }
      ]
    }
  ]
}