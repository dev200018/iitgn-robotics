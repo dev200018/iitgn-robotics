{
  "nbformat": 4,
  "nbformat_minor": 0,
  "metadata": {
    "colab": {
      "name": "Q3_19110046_Assignment3_ME639.ipynb",
      "provenance": []
    },
    "kernelspec": {
      "name": "python3",
      "display_name": "Python 3"
    },
    "language_info": {
      "name": "python"
    }
  },
  "cells": [
    {
      "cell_type": "code",
      "metadata": {
        "id": "M1LbwMFDpQTX"
      },
      "source": [
        "import numpy as np\n",
        "import math\n",
        "import matplotlib.pyplot as plt"
      ],
      "execution_count": 143,
      "outputs": []
    },
    {
      "cell_type": "code",
      "metadata": {
        "colab": {
          "base_uri": "https://localhost:8080/"
        },
        "id": "sGljyRCPpYTm",
        "outputId": "05c96320-f780-47f4-ebe5-f7338e1fa5f9"
      },
      "source": [
        "#degrees of freedom\n",
        "DOFs = int(input(\"Enter degrees of freedom\"))\n",
        "\n",
        "theta = np.zeros((DOFs))\n",
        "alpha = np.zeros((DOFs))\n",
        "a = np.zeros((DOFs))\n",
        "d = np.zeros((DOFs))\n",
        "\n",
        "for i in range(0, DOFs):\n",
        "  print(\"data for link\", i)\n",
        "  theta[i] = float(input(\"Theta\"))\n",
        "  alpha[i] = float(input(\"Alpha\"))\n",
        "  a[i] = float(input(\"a\"))\n",
        "  d[i] = float(input(\"d\"))"
      ],
      "execution_count": 147,
      "outputs": [
        {
          "name": "stdout",
          "output_type": "stream",
          "text": [
            "Enter degrees of freedom3\n",
            "data for link 0\n",
            "Theta0\n",
            "Alpha-1.05\n",
            "a0\n",
            "d5\n",
            "data for link 1\n",
            "Theta-1.05\n",
            "Alpha-1.05\n",
            "a0\n",
            "d6\n",
            "data for link 2\n",
            "Theta1.05\n",
            "Alpha1.05\n",
            "a0\n",
            "d4\n"
          ]
        }
      ]
    },
    {
      "cell_type": "code",
      "metadata": {
        "colab": {
          "base_uri": "https://localhost:8080/"
        },
        "id": "C7skl0CAq0X_",
        "outputId": "c6f604c6-3b33-42e2-964c-4b2e27e70a2a"
      },
      "source": [
        "DH_mat = np.hstack((np.hstack((a.T, alpha.T)), np.hstack((d.T,theta.T))))\n",
        "print(DH_mat)"
      ],
      "execution_count": 150,
      "outputs": [
        {
          "output_type": "stream",
          "name": "stdout",
          "text": [
            "[ 0.    0.    0.   -1.05 -1.05  1.05  5.    6.    4.    0.   -1.05  1.05]\n"
          ]
        }
      ]
    },
    {
      "cell_type": "code",
      "metadata": {
        "colab": {
          "base_uri": "https://localhost:8080/"
        },
        "id": "MRH3ajaStipC",
        "outputId": "15c17286-bfbc-4838-82cc-dd179d546fb0"
      },
      "source": [
        "joint = [0]*DOFs\n",
        "for i in range(0, DOFs):\n",
        "  print(\"Type of joint\", i+1)\n",
        "  val = input()\n",
        "  if val == \"p\":\n",
        "    joint[i] = \"p\"\n",
        "  else:\n",
        "    joint[i] = \"r\""
      ],
      "execution_count": 151,
      "outputs": [
        {
          "name": "stdout",
          "output_type": "stream",
          "text": [
            "Type of joint 1\n",
            "p\n",
            "Type of joint 2\n",
            "p\n",
            "Type of joint 3\n",
            "p\n"
          ]
        }
      ]
    },
    {
      "cell_type": "code",
      "metadata": {
        "colab": {
          "base_uri": "https://localhost:8080/"
        },
        "id": "czdzB-2XwKli",
        "outputId": "8ee5f221-87e0-4869-cbc6-c9b31b489e79"
      },
      "source": [
        "#Transformation Matrix\n",
        "temp = np.identity((4))\n",
        "T = np.zeros((DOFs, 4, 4))\n",
        "\n",
        "for i in range(0, DOFs):\n",
        "  costheta = math.cos(theta[i])\n",
        "  sintheta = math.sin(theta[i])\n",
        "  cosalpha = math.cos(alpha[i])\n",
        "  sinalpha = math.sin(alpha[i])\n",
        "\n",
        "  T[i, :, :] = [[costheta, -sintheta*cosalpha, sintheta*sinalpha, a[i]*costheta], [sintheta, costheta*cosalpha, -costheta*sinalpha, a[i]*sintheta], [0, sinalpha, cosalpha, d[i]], [0, 0, 0, 1]]\n",
        "\n",
        "print(T)"
      ],
      "execution_count": 153,
      "outputs": [
        {
          "output_type": "stream",
          "name": "stdout",
          "text": [
            "[[[ 1.         -0.         -0.          0.        ]\n",
            "  [ 0.          0.49757105  0.86742323  0.        ]\n",
            "  [ 0.         -0.86742323  0.49757105  5.        ]\n",
            "  [ 0.          0.          0.          1.        ]]\n",
            "\n",
            " [[ 0.49757105  0.43160468  0.75242305  0.        ]\n",
            "  [-0.86742323  0.24757695  0.43160468 -0.        ]\n",
            "  [ 0.         -0.86742323  0.49757105  6.        ]\n",
            "  [ 0.          0.          0.          1.        ]]\n",
            "\n",
            " [[ 0.49757105 -0.43160468  0.75242305  0.        ]\n",
            "  [ 0.86742323  0.24757695 -0.43160468  0.        ]\n",
            "  [ 0.          0.86742323  0.49757105  4.        ]\n",
            "  [ 0.          0.          0.          1.        ]]]\n"
          ]
        }
      ]
    },
    {
      "cell_type": "code",
      "metadata": {
        "colab": {
          "base_uri": "https://localhost:8080/"
        },
        "id": "y3cmGCTV13Xk",
        "outputId": "34441a14-6333-4df4-b0b8-6cc618cd721f"
      },
      "source": [
        "temp = np.identity((4))\n",
        "Z = [0]*(DOFs + 1)\n",
        "Z[0] = np.array([[0], [0], [1]])\n",
        "O = [0]*(DOFs + 1)\n",
        "O[0] = np.array([0, 0, 0])\n",
        "\n",
        "for i in range(DOFs):\n",
        "  temp = np.matmul(temp,T[i])\n",
        "  Z[i+1] = np.matmul(temp[0:3, 0:3],Z[0])\n",
        "  O[i+1] = temp[0:3, 3].T\n",
        "\n",
        "print(temp)"
      ],
      "execution_count": 154,
      "outputs": [
        {
          "output_type": "stream",
          "name": "stdout",
          "text": [
            "[[ 0.62196087  0.54477061  0.56248525  3.00969221]\n",
            " [-0.76056786  0.59116482  0.26844123  7.78997407]\n",
            " [-0.1862826  -0.59476814  0.7820164   7.47819837]\n",
            " [ 0.          0.          0.          1.        ]]\n"
          ]
        }
      ]
    },
    {
      "cell_type": "code",
      "metadata": {
        "colab": {
          "base_uri": "https://localhost:8080/"
        },
        "id": "uPBrZzd32CPi",
        "outputId": "d69f098f-2635-400a-8c4f-14f45a61de60"
      },
      "source": [
        "J = [0]*DOFs\n",
        "for i in range(DOFs):\n",
        "  if joint[i] == 'p':\n",
        "    J[i] = np.concatenate((Z[i], np.array([[0,0,0]]).T), axis=0)\n",
        "\n",
        "  else:\n",
        "    mat = np.cross(Z[i].T, (O[DOFs]-O[i]).T)\n",
        "    J[i]=np.concatenate((mat.T,Z[i]),axis=0)\n",
        "\n",
        "jacobian = J[0]\n",
        "for i in range(1, DOFs):\n",
        "  jacobian = np.concatenate((jacobian,J[i]),axis=1)\n",
        "\n",
        "print(\"Jacobian matrix=\")\n",
        "print(jacobian)"
      ],
      "execution_count": 155,
      "outputs": [
        {
          "output_type": "stream",
          "name": "stdout",
          "text": [
            "Jacobian matrix=\n",
            "[[ 0.          0.          0.75242305]\n",
            " [ 0.          0.86742323  0.64635868]\n",
            " [ 1.          0.49757105 -0.12680698]\n",
            " [ 0.          0.          0.        ]\n",
            " [ 0.          0.          0.        ]\n",
            " [ 0.          0.          0.        ]]\n"
          ]
        }
      ]
    },
    {
      "cell_type": "code",
      "metadata": {
        "colab": {
          "base_uri": "https://localhost:8080/"
        },
        "id": "aecm3YZSWejN",
        "outputId": "d5b9d89d-ef4a-4e42-b25a-079b110a8e97"
      },
      "source": [
        "#Finding end effector coordinates\n",
        "final_T = T[0]\n",
        "for i in range(1, DOFs):\n",
        "  final_T = np.matmul(final_T, T[i])\n",
        "\n",
        "end_effector = final_T[0:3, -1]\n",
        "print(end_effector)"
      ],
      "execution_count": 136,
      "outputs": [
        {
          "output_type": "stream",
          "name": "stdout",
          "text": [
            "[-0.67464112 -0.25174844 -7.99998985]\n"
          ]
        }
      ]
    },
    {
      "cell_type": "code",
      "metadata": {
        "colab": {
          "base_uri": "https://localhost:8080/"
        },
        "id": "GjsaqV11XDYJ",
        "outputId": "94c66a7b-0f1b-439c-a2d1-2430b4f9bede"
      },
      "source": [
        "#Finding end effector velocity\n",
        "q_dot = np.zeros((3, 1))\n",
        "print(\"Insert vector of joint angular velocity, each component after pressing enter (x,y,z)\")\n",
        "for i in range(0,3):\n",
        "  q_dot[i] = float(input())"
      ],
      "execution_count": 141,
      "outputs": [
        {
          "name": "stdout",
          "output_type": "stream",
          "text": [
            "Insert vector of joint angular velocity, each component after pressing enter (x,y,z)\n",
            "3\n",
            "2\n",
            "3\n"
          ]
        }
      ]
    },
    {
      "cell_type": "code",
      "metadata": {
        "colab": {
          "base_uri": "https://localhost:8080/"
        },
        "id": "YBsObeVpZKtm",
        "outputId": "0aa14d77-b19c-408b-80fb-b93c8d7f8f46"
      },
      "source": [
        "velocity = np.matmul(jacobian[0:3, :].T, q_dot)\n",
        "omega = np.matmul(jacobian[3:6, :].T, q_dot)\n",
        "print(velocity)\n",
        "print(omega)"
      ],
      "execution_count": 142,
      "outputs": [
        {
          "output_type": "stream",
          "name": "stdout",
          "text": [
            "[[-5.94036920e-01]\n",
            " [ 1.72068928e+01]\n",
            " [-3.00548145e+00]\n",
            " [-2.86635949e-17]]\n",
            "[[ 3.        ]\n",
            " [ 3.        ]\n",
            " [ 0.        ]\n",
            " [-3.00548145]]\n"
          ]
        }
      ]
    },
    {
      "cell_type": "code",
      "metadata": {
        "id": "1zK8cAjV9NHt"
      },
      "source": [
        ""
      ],
      "execution_count": null,
      "outputs": []
    }
  ]
}