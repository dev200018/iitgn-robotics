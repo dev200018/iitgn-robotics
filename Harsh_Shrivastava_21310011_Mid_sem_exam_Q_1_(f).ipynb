{
  "nbformat": 4,
  "nbformat_minor": 0,
  "metadata": {
    "colab": {
      "name": "Harsh Shrivastava-21310011-Mid sem exam- Q-1 (f)",
      "provenance": [],
      "collapsed_sections": []
    },
    "kernelspec": {
      "name": "python3",
      "display_name": "Python 3"
    },
    "language_info": {
      "name": "python"
    }
  },
  "cells": [
    {
      "cell_type": "code",
      "metadata": {
        "colab": {
          "base_uri": "https://localhost:8080/",
          "height": 130
        },
        "id": "7_9HoWAOyFIq",
        "outputId": "a64a8347-3630-4d1c-fc77-98837ddcabcf"
      },
      "source": [
        "# scara\n",
        "d6 = 0.05 (# wrist is added)\n",
        "def scara_invkin(x,y,z,d1,d2):\n",
        "    # using formulae from the textbook\n",
        "    r = abs((x**2+y**2-d1**2-d2**2)/(2*d1*d2))\n",
        "    theta2 = np.arctan(np.sqrt(abs(1-r**2))/r)\n",
        "    theta1 = np.arctan(y/x) - np.arctan((d2*np.sin(theta2))/(d1+d2*np.cos(theta2)))\n",
        "    d3 = -z - d6\n",
        "    # converting from radians to degrees\n",
        "    theta1_deg = theta1*180/np.pi\n",
        "    theta2_deg = theta2*180/np.pi\n",
        "    print(\"\\nInverse kinematics solution:\")\n",
        "    print(f\"theta1 = {theta1_deg} deg\")\n",
        "    print(f\"theta2 = {theta2_deg} deg\")\n",
        "    return theta1, theta2\n",
        "\n",
        "# standford\n",
        "def stanford_inverse_kinematics(endeffector_position,lengthsoflinks):\n",
        "    theta1 = np.arctan(endeffector_position[1]/endeffector_position[0])\n",
        "    r = np.sqrt(endeffector_position[0]**2 + endeffector_position[1]**2)\n",
        "    s = endeffector_position[2] - lengthsoflinks[0]\n",
        "    theta2 = np.arctan(s/r)\n",
        "    d3 = np.sqrt(r**2 + s**2) - lengthsoflinks[1]\n",
        "    print(\"First Solution: \\n\", \"Theta1 = \", theta1, \"\\n Theta2 =\", theta2,\"\\n Extension: \", d3, \"\\n\")\n",
        "    print(\"Second Solution: \\n\", \"Theta1 = \", np.pi + theta1, \"\\n Theta2 =\", np.pi - theta2,\"\\n Extension:\", d3)\n",
        "    return theta1, theta2,d3\n",
        "\n",
        "# inverse kinematics for puma\n",
        "def puma_inverse_kinematics(l1,l2,l3,xc,yc,zc):\n",
        "    theta1 = math.atan2(yc,xc)\n",
        "    D = (xc*xc+yc*yc+(zc-l1)*(zc-l1)-l2*l2-l3*l3)/(2*l2*l3)\n",
        "    if D>=1 or D<=-1:\n",
        "        print(\"singular configuration\")\n",
        "    if D>1 or D<-1:\n",
        "        print(\"outside workspace\")   \n",
        "    theta3 = (math.atan2((-math.sqrt(1-D*D)),D))\n",
        "    theta2 = math.atan2(l1-zc,(math.sqrt(xc*xc+yc*yc)))-math.atan2((l3*math.sin(theta3)),(l2+l3*math.cos(theta3)))\n",
        "    print(\"Theta1 = \",np.rad2deg(theta1),\"\\nTheta2 = \", np.rad2deg(theta2), \"\\nTheta3 = \", np.rad2deg(theta3))\n",
        "\n",
        "    return theta1,theta2,theta3\n",
        "\n",
        "def atransformation(LinkParameters):\n",
        "  a = LinkParameters[0]\n",
        "  d = LinkParameters[2]\n",
        "  alpha = LinkParameters[1]\n",
        "  theta = LinkParameters[3]\n",
        "  A = np.array([[[np.cos(theta), -np.sin(theta) * np.cos(alpha), np.sin(theta) * np.sin(alpha), a * np.cos(theta)],\n",
        "                  [np.sin(theta), np.cos(theta) * np.cos(alpha), -np.cos(theta) * np.sin(alpha), a * np.sin(theta)],\n",
        "                  [0, np.sin(alpha), np.cos(alpha), d],\n",
        "                  [0, 0, 0, 1]]])\n",
        "  return (A)\n",
        "\n"
      ],
      "execution_count": null,
      "outputs": [
        {
          "output_type": "error",
          "ename": "SyntaxError",
          "evalue": "ignored",
          "traceback": [
            "\u001b[0;36m  File \u001b[0;32m\"<ipython-input-2-b9c80115f09a>\"\u001b[0;36m, line \u001b[0;32m3\u001b[0m\n\u001b[0;31m    def scara_invkin(x,y,z,d1,d2):\u001b[0m\n\u001b[0m      ^\u001b[0m\n\u001b[0;31mSyntaxError\u001b[0m\u001b[0;31m:\u001b[0m invalid syntax\n"
          ]
        }
      ]
    }
  ]
}