{
  "nbformat": 4,
  "nbformat_minor": 0,
  "metadata": {
    "colab": {
      "name": "Q1_19110046_Assignment4_ME639.ipynb",
      "provenance": []
    },
    "kernelspec": {
      "name": "python3",
      "display_name": "Python 3"
    },
    "language_info": {
      "name": "python"
    }
  },
  "cells": [
    {
      "cell_type": "code",
      "metadata": {
        "id": "PmhUhGWlfsbH"
      },
      "source": [
        "import math\n",
        "import numpy as np\n",
        "from numpy.lib.function_base import extract\n",
        "import scipy"
      ],
      "execution_count": 7,
      "outputs": []
    },
    {
      "cell_type": "code",
      "metadata": {
        "colab": {
          "base_uri": "https://localhost:8080/"
        },
        "id": "N2ciyBnrgeWF",
        "outputId": "7e7625c5-b852-45d0-b864-2b370add0620"
      },
      "source": [
        "#Input rotation matrix and end effector position with respect to base frame\n",
        "R = np.array(list(map(float, input(\"Enter row-wise elements seperated with space\").split()))).reshape((3,3))\n",
        "d = np.array(list(map(float, input(\"Enter end effector position in the form (x,y,z)\").split()))).reshape((3,1))\n",
        "d6 = float(input(\"Distance of end effector from wrist center(O4)\"))\n",
        "#distance between base and link 1\n",
        "d1 = float(input(\"Distance between base and link 1\"))\n",
        "d2 = float(input(\"Distance between link 1 and link 2\"))"
      ],
      "execution_count": 9,
      "outputs": [
        {
          "name": "stdout",
          "output_type": "stream",
          "text": [
            "Enter row-wise elements seperated with space0.2 0.3 0.4 0.6 0.7 0.8 0.1 0.5 0.9\n",
            "Enter end effector position in the form (x,y,z)1 2 3\n",
            "Distance of end effector from wrist center(O4)2\n",
            "Distance between base and link 15\n",
            "Distance between link 1 and link 24\n"
          ]
        }
      ]
    },
    {
      "cell_type": "code",
      "metadata": {
        "colab": {
          "base_uri": "https://localhost:8080/"
        },
        "id": "493eu_L-hfvf",
        "outputId": "1ffc1c96-b392-4c51-d7a1-50cac132000d"
      },
      "source": [
        "#p is the position of wrist center O\n",
        "p = d - d6*np.array(R[0:3, 2]).reshape((3,1))\n",
        "print(p)"
      ],
      "execution_count": 18,
      "outputs": [
        {
          "output_type": "stream",
          "name": "stdout",
          "text": [
            "[[0.2]\n",
            " [0.4]\n",
            " [1.2]]\n"
          ]
        }
      ]
    },
    {
      "cell_type": "code",
      "metadata": {
        "colab": {
          "base_uri": "https://localhost:8080/"
        },
        "id": "2KB290kvgRHb",
        "outputId": "4af6f652-a197-4aab-ab2a-ca5488c692f1"
      },
      "source": [
        "theta1 = math.atan(p[0]/p[1])\n",
        "theta2 = math.atan((p[2]-d6)/math.sqrt((p[0]**2) + (p[1]**2)))\n",
        "theta3 = 0\n",
        "d3 = math.sqrt(p[0]**2 + p[1]**2 + (p[2] - d6)**2) - d2 \n",
        "\n",
        "print(\"Theta1 = \", theta1*180/math.pi, \"Theta2 = \", theta2*180/math.pi, \"d3 = \", d3)\n",
        "\n",
        "alpha_123 = [-math.pi/2, math.pi/2, 0, -math.pi/2, math.pi/2, 0]\n",
        "R01 = [[math.cos(theta1), -math.sin(theta1)*math.cos(alpha_123[0]), math.sin(theta1)*math.sin(alpha_123[0])], \n",
        "       [math.sin(theta1), math.cos(theta1)*math.cos(alpha_123[0]), -math.cos(theta1)*math.sin(alpha_123[0])],\n",
        "       [0, math.sin(alpha_123[0]), math.cos(alpha_123[0])]]\n",
        "\n",
        "R12 = [[math.cos(theta2), -math.sin(theta2)*math.cos(alpha_123[1]), math.sin(theta2)*math.sin(alpha_123[1])], \n",
        "       [math.sin(theta2), math.cos(theta2)*math.cos(alpha_123[1]), -math.cos(theta2)*math.sin(alpha_123[1])],\n",
        "       [0, math.sin(alpha_123[1]), math.cos(alpha_123[1])]]\n",
        "\n",
        "R23 = [[math.cos(theta3), -math.sin(theta3)*math.cos(alpha_123[2]), math.sin(theta3)*math.sin(alpha_123[2])], \n",
        "       [math.sin(theta3), math.cos(theta3)*math.cos(alpha_123[2]), -math.cos(theta3)*math.sin(alpha_123[2])],\n",
        "       [0, math.sin(alpha_123[2]), math.cos(alpha_123[2])]]\n",
        "\n",
        "R03 = np.matmul(np.matmul(R01,R12),R23)\n",
        "R36 = np.matmul((np.linalg.inv(R03)),R)\n",
        "\n",
        "theta4 = math.atan2(R36[2,2], math.sqrt(1 - (R36[2,2])**2))\n",
        "theta5 = math.atan2(R36[0,2], R36[1,2])\n",
        "theta6 = math.atan2(-R36[2,0], R36[2,1])\n",
        "\n",
        "print(\"Theta4 = \", theta4*180/math.pi, \"Theta5 = \", theta5*180/math.pi, \"Theta6 = \", theta6*180/math.pi)"
      ],
      "execution_count": 19,
      "outputs": [
        {
          "output_type": "stream",
          "name": "stdout",
          "text": [
            "Theta1 =  26.56505117707799 Theta2 =  -60.79406775260059 d3 =  -3.0834848610088317\n",
            "Theta4 =  -10.685679406210053 Theta5 =  64.6888384986107 Theta6 =  127.64762064010766\n"
          ]
        }
      ]
    },
    {
      "cell_type": "code",
      "metadata": {
        "id": "cOwC3TvhhH6b"
      },
      "source": [
        ""
      ],
      "execution_count": null,
      "outputs": []
    }
  ]
}