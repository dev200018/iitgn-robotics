{
  "nbformat": 4,
  "nbformat_minor": 0,
  "metadata": {
    "colab": {
      "name": "Rohan_18110142_A2_12.ipynb",
      "provenance": []
    },
    "kernelspec": {
      "name": "python3",
      "display_name": "Python 3"
    },
    "language_info": {
      "name": "python"
    }
  },
  "cells": [
    {
      "cell_type": "markdown",
      "metadata": {
        "id": "rPp9l_Zh1SDj"
      },
      "source": [
        "Importing Libraries"
      ]
    },
    {
      "cell_type": "code",
      "metadata": {
        "id": "5C9Ne8Al1Fr4"
      },
      "source": [
        "import numpy as np\n",
        "import matplotlib.pyplot as plt"
      ],
      "execution_count": 1,
      "outputs": []
    },
    {
      "cell_type": "markdown",
      "metadata": {
        "id": "b8wcgdxM1dE6"
      },
      "source": [
        "Initializing the Robot\n"
      ]
    },
    {
      "cell_type": "code",
      "metadata": {
        "id": "1UZ-qL6IAlIV"
      },
      "source": [
        "L1 = 5\n",
        "L2 = 5\n",
        "L3 = 5\n",
        "q1 = np.pi/6\n",
        "q2 = np.pi/3\n",
        "d = 1"
      ],
      "execution_count": 2,
      "outputs": []
    },
    {
      "cell_type": "markdown",
      "metadata": {
        "id": "U-eI5UiwCmMC"
      },
      "source": [
        "Creating Roation Matrices R and d matrices"
      ]
    },
    {
      "cell_type": "code",
      "metadata": {
        "id": "5oQKBrf3CP7k"
      },
      "source": [
        "R01 = np.array([[np.cos(q1), -np.sin(q1), 0],[np.sin(q1), np.cos(q1), 0],[0, 0, 1]])\n",
        "d01 = np.array([[L2*np.cos(q1)],[L2*np.sin(q1)],[L1]])\n",
        "R12 = np.array([[np.cos(q2), np.sin(q2), 0],[np.sin(q1), -np.cos(q1), 0],[0, 0, -1]])\n",
        "d12 = np.array([[L3*np.cos(q2)],[L3*np.sin(q2)],[0]])\n",
        "R23 = np.array([[1, 0, 0],[0, 1, 0],[0, 0, 1]])\n",
        "d23 = np.array([[0],[0],[d]])"
      ],
      "execution_count": 3,
      "outputs": []
    },
    {
      "cell_type": "markdown",
      "metadata": {
        "id": "8VC2Z09zCs2n"
      },
      "source": [
        "Creating homogenous matrices form R and d"
      ]
    },
    {
      "cell_type": "code",
      "metadata": {
        "id": "m8BeUW7kCTGQ"
      },
      "source": [
        "H01 = np.hstack((R01,d01))\n",
        "H01 = np.vstack((H01, np.array([0, 0, 0, 1])))\n",
        "H12 = np.hstack((R12,d12))\n",
        "H12 = np.vstack((H12, np.array([0, 0, 0, 1])))\n",
        "H23 = np.hstack((R23,d23))\n",
        "H23 = np.vstack((H23, np.array([0, 0, 0, 1])))\n",
        "H02 = np.matmul(H01, H12)\n",
        "H03 = np.matmul(H02, H23)"
      ],
      "execution_count": 4,
      "outputs": []
    },
    {
      "cell_type": "markdown",
      "metadata": {
        "id": "K2OG3v7UCw4S"
      },
      "source": [
        "Defining z terms for Jw"
      ]
    },
    {
      "cell_type": "code",
      "metadata": {
        "id": "pliKjFaTCV2L"
      },
      "source": [
        "Rho_1 = 1\n",
        "Rho_2 = 1\n",
        "Rho_3 = 0\n",
        "\n",
        "z0 = np.array([[0,0,1]])\n",
        "z1 = z0\n",
        "z2 = -z0"
      ],
      "execution_count": 5,
      "outputs": []
    },
    {
      "cell_type": "markdown",
      "metadata": {
        "id": "X2V4ia4rC4jJ"
      },
      "source": [
        "Defining O terms for Jv"
      ]
    },
    {
      "cell_type": "code",
      "metadata": {
        "id": "Je3MCB1oCZZR"
      },
      "source": [
        "O_0 = np.array([[0,0,0]])\n",
        "O_matrix = np.array([[0],[0],[0],[1]])\n",
        "O_1 = np.matmul(H01, O_matrix)[0:3]\n",
        "O_2 = np.matmul(H02, O_matrix)[0:3]\n",
        "O_3 = np.matmul(H03, O_matrix)[0:3]\n",
        "O_1 = np.reshape(O_1, (1,3))\n",
        "O_2 = np.reshape(O_2, (1,3))\n",
        "O_3 = np.reshape(O_3, (1,3))"
      ],
      "execution_count": 6,
      "outputs": []
    },
    {
      "cell_type": "markdown",
      "metadata": {
        "id": "f7XXc5WtC9lo"
      },
      "source": [
        "Compiling Jw and Jv matrices"
      ]
    },
    {
      "cell_type": "code",
      "metadata": {
        "id": "-ijI6mlmCc8w"
      },
      "source": [
        "Jw1 = Rho_1*z0\n",
        "Jw2 = Rho_2*z1\n",
        "Jw3 = Rho_3*z2\n",
        "\n",
        "Jv1 = np.cross(z0, (O_3-O_0))\n",
        "Jv2 = np.cross(z1, (O_3-O_1))\n",
        "Jv3 = np.cross(z2, (O_3-O_2))\n",
        "\n",
        "Jw1 = np.reshape(Jw1, (3,1))\n",
        "Jw2 = np.reshape(Jw2, (3,1))\n",
        "Jw3 = np.reshape(Jw3, (3,1))\n",
        "\n",
        "Jv1 = np.reshape(Jv1, (3,1))\n",
        "Jv2 = np.reshape(Jv2, (3,1))\n",
        "Jv3 = np.reshape(Jv3, (3,1))"
      ],
      "execution_count": 7,
      "outputs": []
    },
    {
      "cell_type": "markdown",
      "metadata": {
        "id": "zgLTKwQxDBpG"
      },
      "source": [
        "Printing final Jacobian Matrix"
      ]
    },
    {
      "cell_type": "code",
      "metadata": {
        "colab": {
          "base_uri": "https://localhost:8080/"
        },
        "id": "205zQJSbChnI",
        "outputId": "db04cc9a-eeba-49a2-d471-05da31d0b105"
      },
      "source": [
        "J1 = np.vstack((Jv1, Jw1))\n",
        "J2 = np.vstack((Jv2, Jw2))\n",
        "J3 = np.vstack((Jv3, Jw3))\n",
        "\n",
        "temp = np.hstack((J1, J2))\n",
        "J = np.hstack((temp, J3))\n",
        "\n",
        "print(J)"
      ],
      "execution_count": 8,
      "outputs": [
        {
          "output_type": "stream",
          "name": "stdout",
          "text": [
            "[[-7.50000000e+00 -5.00000000e+00  0.00000000e+00]\n",
            " [ 4.33012702e+00  8.88178420e-16  0.00000000e+00]\n",
            " [ 0.00000000e+00  0.00000000e+00  0.00000000e+00]\n",
            " [ 0.00000000e+00  0.00000000e+00  0.00000000e+00]\n",
            " [ 0.00000000e+00  0.00000000e+00  0.00000000e+00]\n",
            " [ 1.00000000e+00  1.00000000e+00  0.00000000e+00]]\n"
          ]
        }
      ]
    }
  ]
}