{
 "cells": [
  {
   "cell_type": "code",
   "execution_count": 1,
   "source": [
    "import numpy as np\r\n",
    "import sympy"
   ],
   "outputs": [],
   "metadata": {}
  },
  {
   "cell_type": "markdown",
   "source": [
    "# Question 3\r\n",
    "class manipulator is a manipulator class which has the option to change the configurations according to the users requirement. More details of the same are explained in the code comments"
   ],
   "metadata": {}
  },
  {
   "cell_type": "code",
   "execution_count": 2,
   "source": [
    "class manipulator():\r\n",
    "    def __init__(self,dh_params, config=['R','R']):\r\n",
    "        # configuration of the manipulator. User has 2 choices \"R\"->revolute. \"P\"->prismatic.\r\n",
    "        # Default configuration is a 2R manipulator with all the angles at 0 degrees and lengths being 1 unit.\r\n",
    "        self.config = config \r\n",
    "        # User must input the dh parameters in matrix form i.e. \"R\"->revolute\r\n",
    "        # [[a1 , alpha1 , d1, theta1]\r\n",
    "        #  [a2 , alpha2 , d2, theta2]\r\n",
    "        #  .\r\n",
    "        #  .\r\n",
    "        #  .\r\n",
    "        #  [an , alphan , dn, thetan]]\r\n",
    "        # n being the nth link of the manipulator.\r\n",
    "        self.dh=dh_params\r\n",
    "    \r\n",
    "    def calc_tranfMatrix(self, dh_params,i):\r\n",
    "        # Calculating Trnasformation matrix\r\n",
    "        a, alpha,d,theta = dh_params\r\n",
    "        A = np.array([[np.cos(theta), -np.sin(theta)*np.cos(alpha),  np.sin(theta)*np.sin(alpha), a*np.cos(theta)],\r\n",
    "                      [np.sin(theta),  np.cos(theta)*np.cos(alpha), -np.cos(theta)*np.sin(alpha), a*np.sin(theta)],\r\n",
    "                      [            0,                np.sin(alpha),                np.cos(alpha),               d],\r\n",
    "                      [            0,                            0,                            0,               1]])\r\n",
    "        return A \r\n",
    "\r\n",
    "    def forward_kinematics(self,):\r\n",
    "        tr=self.calc_tranfMatrix(self.dh[0],0)\r\n",
    "        Trs = [tr]\r\n",
    "        # Calculating the individual transformation matrices. And appending to the T matrix in the following form.\r\n",
    "        # A1\r\n",
    "        # A1A2\r\n",
    "        # A1A2A3 ... \r\n",
    "        for i in range(len(self.dh)-1):\r\n",
    "            tr = np.matmul(tr,self.calc_tranfMatrix(self.dh[i+1],i+1))\r\n",
    "            Trs.append(tr)\r\n",
    "\r\n",
    "        # Calculating the jacobian matrix\r\n",
    "        h = []\r\n",
    "        for i in range(len(self.config)):\r\n",
    "            temp2 = np.array([0,0,0])\r\n",
    "            if self.config[i]=='R':\r\n",
    "                temp2 = np.array([0,0,1])\r\n",
    "            if  i ==0:\r\n",
    "                temp = np.array(Trs[-1])\r\n",
    "\r\n",
    "            else:\r\n",
    "                temp = np.array(Trs[-1]) - np.array(Trs[i-1])\r\n",
    "            \r\n",
    "            h.append(np.cross(temp2,temp[:3,3:].transpose()).transpose())\r\n",
    "        \r\n",
    "        # Velocity jacobian\r\n",
    "        J_v = h[0]\r\n",
    "        for i in range(len(self.config)-1):\r\n",
    "            J_v = np.hstack((J_v,h[i+1]))\r\n",
    "        \r\n",
    "        \r\n",
    "        # Angular velocity jacobian\r\n",
    "        J_omega = np.array([[0],[0],[1]])\r\n",
    "        if self.config[0]=='P':\r\n",
    "            J_omega = np.array([[0],[0],[0]])\r\n",
    "\r\n",
    "        for i in range(len(self.config)-1):\r\n",
    "            temp = np.array([[0],[0],[1]])\r\n",
    "\r\n",
    "            if self.config[i+1]=='P':\r\n",
    "                temp = np.array([[0],[0],[0]])\r\n",
    "            J_omega = np.hstack((J_omega,temp))\r\n",
    "        \r\n",
    "        # Overall Transformation matrix T06.\r\n",
    "        transformation_matrix = np.array(Trs[-1])\r\n",
    "        # Manipulator jacobian\r\n",
    "        J = np.vstack((J_v,J_omega))\r\n",
    "\r\n",
    "        return {'transformation_matrix':transformation_matrix,'jacobian':J}\r\n",
    "        \r\n",
    "        "
   ],
   "outputs": [],
   "metadata": {}
  },
  {
   "cell_type": "code",
   "execution_count": 3,
   "source": [
    "'''\r\n",
    "Example of 3R revokute manipulator\r\n",
    "'''\r\n",
    "manipulator_config = ['R','R','R']\r\n",
    "dh_params = [[1,0,0,np.pi/3],\r\n",
    "             [1,0,0,0],\r\n",
    "             [1,0,0,0]]\r\n",
    "\r\n",
    "mani = manipulator(dh_params,manipulator_config)\r\n",
    "a = mani.forward_kinematics()\r\n",
    "\r\n",
    "print(np.round(a['transformation_matrix'].astype('float'),3))\r\n",
    "print(np.round(a['jacobian'].astype('float'),3))\r\n",
    "\r\n",
    "# Velocity of end effector\r\n",
    "#  Use the following code by giving an input qdots.\r\n",
    "'''\r\n",
    "qdots = [0]*len(manipulator_config)\r\n",
    "vels = np.matmul((a['jacobian'],qdots.T))\r\n",
    "'''\r\n"
   ],
   "outputs": [
    {
     "output_type": "stream",
     "name": "stdout",
     "text": [
      "[[ 0.5   -0.866  0.     1.5  ]\n",
      " [ 0.866  0.5    0.     2.598]\n",
      " [ 0.     0.     1.     0.   ]\n",
      " [ 0.     0.     0.     1.   ]]\n",
      "[[-2.598 -1.732 -0.866]\n",
      " [ 1.5    1.     0.5  ]\n",
      " [ 0.     0.     0.   ]\n",
      " [ 0.     0.     0.   ]\n",
      " [ 0.     0.     0.   ]\n",
      " [ 1.     1.     1.   ]]\n"
     ]
    },
    {
     "output_type": "execute_result",
     "data": {
      "text/plain": [
       "\"\\nqdots = [0]*len(manipulator_config)\\nvels = np.matmul((a['jacobian'],qdots.T))\\n\""
      ]
     },
     "metadata": {},
     "execution_count": 3
    }
   ],
   "metadata": {}
  },
  {
   "cell_type": "markdown",
   "source": [
    "# Question 4\r\n",
    "Verifying the above code for Stanford and Scara manipulators. The dh parameters are taken from Spong and Vidyasagr book."
   ],
   "metadata": {}
  },
  {
   "cell_type": "code",
   "execution_count": 4,
   "source": [
    "# Stanford Configuration\r\n",
    "manipulator_config = ['R','R','P']\r\n",
    "# a,alpha,d,theta\r\n",
    "dh_params = [[0,-np.pi/2,0,0],\r\n",
    "             [0,np.pi/2,1,0],\r\n",
    "             [0,0,1,0]]\r\n",
    "\r\n",
    "mani = manipulator(dh_params,manipulator_config)\r\n",
    "a = mani.forward_kinematics()\r\n",
    "\r\n",
    "print(np.round(a['transformation_matrix'].astype('float'),3))\r\n",
    "print(np.round(a['jacobian'].astype('float'),3))"
   ],
   "outputs": [
    {
     "output_type": "stream",
     "name": "stdout",
     "text": [
      "[[1. 0. 0. 0.]\n",
      " [0. 1. 0. 1.]\n",
      " [0. 0. 1. 1.]\n",
      " [0. 0. 0. 1.]]\n",
      "[[-1. -1.  0.]\n",
      " [ 0.  0.  0.]\n",
      " [ 0.  0.  0.]\n",
      " [ 0.  0.  0.]\n",
      " [ 0.  0.  0.]\n",
      " [ 1.  1.  0.]]\n"
     ]
    }
   ],
   "metadata": {}
  },
  {
   "cell_type": "code",
   "execution_count": 5,
   "source": [
    "#  Scara Manipulator\r\n",
    "manipulator_config = ['R','R','P']\r\n",
    "dh_params = [[1,0,0,0],\r\n",
    "             [1,np.pi,0,0],\r\n",
    "             [0,0,1,0]]\r\n",
    "\r\n",
    "mani = manipulator(dh_params,manipulator_config)\r\n",
    "a = mani.forward_kinematics()\r\n",
    "\r\n",
    "print(np.round(a['transformation_matrix'].astype('float'),3))\r\n",
    "print(np.round(a['jacobian'].astype('float'),3))"
   ],
   "outputs": [
    {
     "output_type": "stream",
     "name": "stdout",
     "text": [
      "[[ 1.  0.  0.  2.]\n",
      " [ 0. -1. -0. -0.]\n",
      " [ 0.  0. -1. -1.]\n",
      " [ 0.  0.  0.  1.]]\n",
      "[[ 0.  0.  0.]\n",
      " [ 2.  1.  0.]\n",
      " [-0. -0. -0.]\n",
      " [ 0.  0.  0.]\n",
      " [ 0.  0.  0.]\n",
      " [ 1.  1.  0.]]\n"
     ]
    }
   ],
   "metadata": {}
  },
  {
   "cell_type": "markdown",
   "source": [
    "# Question 5\r\n"
   ],
   "metadata": {}
  },
  {
   "cell_type": "code",
   "execution_count": 58,
   "source": [
    "manipulator_config = ['P','P','P']\r\n",
    "dh_params = [[0,-np.pi/2,1,0],\r\n",
    "             [0,np.pi/2,1,np.pi/2],\r\n",
    "             [0,0,1,-np.pi/2]]\r\n",
    "\r\n",
    "mani = manipulator(dh_params,manipulator_config)\r\n",
    "a = mani.forward_kinematics()\r\n",
    "\r\n",
    "print(np.round(a['transformation_matrix'].astype('float'),3))\r\n",
    "print(np.round(a['jacobian'].astype('float'),3))"
   ],
   "outputs": [
    {
     "output_type": "stream",
     "name": "stdout",
     "text": [
      "[[ 0.  0.  1.  1.]\n",
      " [-1.  0.  0.  1.]\n",
      " [-0. -1.  0.  1.]\n",
      " [ 0.  0.  0.  1.]]\n",
      "[[0. 0. 0.]\n",
      " [0. 0. 0.]\n",
      " [0. 0. 0.]\n",
      " [0. 0. 0.]\n",
      " [0. 0. 0.]\n",
      " [0. 0. 0.]]\n"
     ]
    }
   ],
   "metadata": {}
  },
  {
   "cell_type": "markdown",
   "source": [
    "# Question 6"
   ],
   "metadata": {}
  },
  {
   "cell_type": "code",
   "execution_count": 6,
   "source": [
    "manipulator_config = ['R','R','R','R','R','R']\r\n",
    "dh_params = [[0,np.pi/2,0,0],\r\n",
    "             [1,0,0,0],\r\n",
    "             [1,0,0,0],\r\n",
    "             [0,-np.pi/2,0,0],\r\n",
    "             [0,0,0,0],\r\n",
    "             [0,0,1,0]]\r\n",
    "\r\n",
    "mani = manipulator(dh_params,manipulator_config)\r\n",
    "a = mani.forward_kinematics()\r\n",
    "print(\"######################\")\r\n",
    "print(np.round(a['transformation_matrix'].astype('float'),3))\r\n",
    "print(np.round(a['jacobian'].astype('float'),3))"
   ],
   "outputs": [
    {
     "output_type": "stream",
     "name": "stdout",
     "text": [
      "######################\n",
      "[[1. 0. 0. 2.]\n",
      " [0. 1. 0. 0.]\n",
      " [0. 0. 1. 1.]\n",
      " [0. 0. 0. 1.]]\n",
      "[[0. 0. 0. 0. 0. 0.]\n",
      " [2. 2. 1. 0. 0. 0.]\n",
      " [0. 0. 0. 0. 0. 0.]\n",
      " [0. 0. 0. 0. 0. 0.]\n",
      " [0. 0. 0. 0. 0. 0.]\n",
      " [1. 1. 1. 1. 1. 1.]]\n"
     ]
    }
   ],
   "metadata": {}
  },
  {
   "cell_type": "markdown",
   "source": [
    "# Question 11\r\n"
   ],
   "metadata": {}
  },
  {
   "cell_type": "code",
   "execution_count": null,
   "source": [
    "# qs is list of elements of the type sympy.physics.dynamicsymbols('q1 q2 ....') where q1,q2 are generalised coordinates\r\n",
    "# qdpt_matrix is a matrix of derivatves of the generalised coordinates\r\n",
    "def calcEqns(D,V,q_matrix,qdot_matrix,qs):\r\n",
    "    K = 1/2*qdot_matrix.T*D*qdot_matrix\r\n",
    "    L = K - V\r\n",
    "    LM = sympy.physics.mechanics.LagrangesMethod(L,qs)\r\n",
    "    # LM Matrix gives the lagrangian equation in matrix form\r\n",
    "\r\n"
   ],
   "outputs": [],
   "metadata": {}
  }
 ],
 "metadata": {
  "orig_nbformat": 4,
  "language_info": {
   "name": "python",
   "version": "3.8.3",
   "mimetype": "text/x-python",
   "codemirror_mode": {
    "name": "ipython",
    "version": 3
   },
   "pygments_lexer": "ipython3",
   "nbconvert_exporter": "python",
   "file_extension": ".py"
  },
  "kernelspec": {
   "name": "python3",
   "display_name": "Python 3.8.3 64-bit ('Rwik1234': conda)"
  },
  "interpreter": {
   "hash": "18c1725772877ae71f911b07fa0a0bde2e626f5cb374d4a340e10f9cff87f69b"
  }
 },
 "nbformat": 4,
 "nbformat_minor": 2
}