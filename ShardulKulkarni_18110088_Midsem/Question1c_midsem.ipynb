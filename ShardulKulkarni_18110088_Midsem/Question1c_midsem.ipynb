{
  "nbformat": 4,
  "nbformat_minor": 0,
  "metadata": {
    "colab": {
      "name": "Question1c_midsem.ipynb",
      "provenance": [],
      "collapsed_sections": []
    },
    "kernelspec": {
      "name": "python3",
      "display_name": "Python 3"
    },
    "language_info": {
      "name": "python"
    }
  },
  "cells": [
    {
      "cell_type": "code",
      "metadata": {
        "id": "RL9p-Kev8XZs"
      },
      "source": [
        "import numpy as np\n",
        "import math"
      ],
      "execution_count": 44,
      "outputs": []
    },
    {
      "cell_type": "markdown",
      "metadata": {
        "id": "PELn-A8m-GMa"
      },
      "source": [
        "# Puma Configuration\n",
        "Implementation of Inverse and Forward Kinematics"
      ]
    },
    {
      "cell_type": "code",
      "metadata": {
        "id": "9GiwAJFr8h3S"
      },
      "source": [
        "class puma():\n",
        "  def __init__(self):\n",
        "    self.x=0\n",
        "    self.y=0\n",
        "    self.z=0\n",
        "\n",
        "    self.a1=0.25\n",
        "    self.a2=0.25\n",
        "    self.a3=0.25\n",
        "\n",
        "    self.theta1=0\n",
        "    self.theta2=0\n",
        "    self.theta3=0\n",
        "\n",
        "  def setpos(self,arr):\n",
        "    self.x=arr[0]\n",
        "    self.y=arr[1]\n",
        "    self.z=arr[2]\n",
        "    self.invkine()\n",
        "    \n",
        "# Inverse Kinematics\n",
        "  def invkine(self):\n",
        "    self.theta1=np.arctan2(self.y,self.x)\n",
        "\n",
        "    r=math.pow(math.pow(self.x,2)+math.pow(self.y,2),0.5)\n",
        "    s=self.z-self.a1\n",
        "\n",
        "    D= (math.pow(r,2)+math.pow(s,2)-math.pow(self.a2,2)-math.pow(self.a3,2)) / (2*self.a2*self.a3)\n",
        "    if D>1 or D<-1 :\n",
        "      print(\"out of the workspace\")\n",
        "\n",
        "    self.theta3 = np.arctan2((-math.pow(1-math.pow(D,2),0.5)),D)\n",
        "    \n",
        "    self.theta2 = np.arctan2(s,r)-np.arctan2(self.a3*np.sin(self.theta3),(self.a2+self.a3*np.cos(self.theta3)))\n",
        "\n",
        "  def dhpara(self):\n",
        "    mat = []\n",
        "    mat.append([0,0,self.a1,self.theta1])\n",
        "    mat.append([self.a2,np.pi/2,0,self.theta2])\n",
        "    mat.append([self.a3,0,0,self.theta3])\n",
        "\n",
        "    return mat\n",
        "\n",
        "  def dh(self,arr):\n",
        "    a=arr[0]\n",
        "    alpha=arr[1]\n",
        "    d=arr[2]\n",
        "    theta = arr[3]\n",
        "\n",
        "    mat = []\n",
        "    b=[np.cos(theta), -np.sin(theta)*np.cos(alpha), np.sin(theta)*np.sin(alpha), a*np.cos(theta)]\n",
        "    mat.append(b)\n",
        "\n",
        "    b=[np.sin(theta), np.cos(theta)*np.cos(alpha), -np.cos(theta)*np.sin(alpha), a*np.sin(theta)]\n",
        "    mat.append(b)\n",
        "\n",
        "    b=[0, np.sin(alpha), np.cos(alpha), d]\n",
        "    mat.append(b)\n",
        "\n",
        "    b=[0,0,0,1]\n",
        "    mat.append(b)\n",
        "\n",
        "    return np.matrix(mat)\n",
        "\n",
        "# Forward Kinematics\n",
        "  # def forward(self):\n",
        "  #   matrix=self.dhpara()\n",
        "  #   T = np.identity(4)\n",
        "  #   for i in range(len(matrix)):\n",
        "  #     T=np.matmul(T,self.dh(matrix[i]))\n",
        "  #   return T[:3,3].T\n",
        "\n",
        "  def forward(self):\n",
        "    z1=self.a2*np.sin(self.theta2)+self.a3*np.sin(self.theta2+self.theta3)+self.a1\n",
        "\n",
        "    r=self.a2*np.cos(self.theta2)+self.a3*np.cos(self.theta2+self.theta3)\n",
        "    x1=r*np.cos(self.theta1)\n",
        "    y1=r*np.sin(self.theta1)\n",
        "\n",
        "    return [x1,y1,z1]\n",
        "\n",
        "  def verify(self,arr):\n",
        "    self.setpos(arr)\n",
        "    print(f\"Original Co-ordinates:- {[self.x,self.y,self.z]}\\n\")\n",
        "    print(f\"Verified from code :- {self.forward()}\\n\")\n",
        "    print(f\"Joint parameters: \\n theta1: {self.theta1} rad \\n theta2: {self.theta2} rad \\n theta3: {self.theta3} rad \\n\\n\")"
      ],
      "execution_count": 45,
      "outputs": []
    },
    {
      "cell_type": "markdown",
      "metadata": {
        "id": "WbnNRwpK-M0_"
      },
      "source": [
        "# Stanford Configuration\n",
        "Implementation of Inverse and Forward Kinematics"
      ]
    },
    {
      "cell_type": "code",
      "metadata": {
        "id": "3rcOLbrmc0Jk"
      },
      "source": [
        "class stanford():\n",
        "  def __init__(self):\n",
        "    self.x=0\n",
        "    self.y=0\n",
        "    self.z=0\n",
        "\n",
        "    self.theta1=0\n",
        "    self.theta2=0\n",
        "    self.d3=0\n",
        "\n",
        "    self.a1=0.25\n",
        "    self.a2=0.25\n",
        "\n",
        "  def setpos(self,arr):\n",
        "    self.x=arr[0]\n",
        "    self.y=arr[1]\n",
        "    self.z=arr[2]\n",
        "    self.invkine()\n",
        "    \n",
        "# Inverse Kinematics\n",
        "  def invkine(self):\n",
        "    if (self.x==0 and self.y==0) :\n",
        "      print(\"Singularity !!!!!!!\")\n",
        "      return\n",
        "    else:\n",
        "      self.theta1 = np.arctan2(self.y,self.x)\n",
        "\n",
        "    r= (self.x**2+self.y**2)**(0.5)\n",
        "    s=self.z-self.a1\n",
        "\n",
        "    self.theta2 = np.arctan2(s,r)+(np.pi/2)\n",
        "\n",
        "    self.d3=(r**2+s**2)**(0.5) - self.a2\n",
        "# Forward Kinematics\n",
        "  def forward(self):\n",
        "    x1=(self.a2+self.d3)*np.cos(self.theta1)\n",
        "    y1=(self.a2+self.d3)*np.sin(self.theta1)\n",
        "    z1=self.a1+(self.a2+self.d3)*np.sin(self.theta2)\n",
        "\n",
        "    return [x1,y1,z1]\n",
        "\n",
        "  def verify(self,arr):\n",
        "    self.setpos(arr)\n",
        "    print(f\"Original Co-ordinates:- {[self.x,self.y,self.z]}\\n\")\n",
        "    print(f\"Verified from code :- {self.forward()}\\n\")\n",
        "    print(f\"Joint parameters: \\n theta1: {self.theta1} rad \\n theta2: {self.theta2} rad \\n d3: {self.d3} m \\n\\n\")\n"
      ],
      "execution_count": 46,
      "outputs": []
    },
    {
      "cell_type": "markdown",
      "metadata": {
        "id": "no2UvRa1-UJE"
      },
      "source": [
        "# SCARA Configuration\n",
        "Implementation of Inverse and Forward Kinematics"
      ]
    },
    {
      "cell_type": "code",
      "metadata": {
        "id": "GQ4yL7SonQEr"
      },
      "source": [
        "class scara():\n",
        "  def __init__(self):\n",
        "    self.x=0\n",
        "    self.y=0\n",
        "    self.z=0\n",
        "\n",
        "    self.theta1=0\n",
        "    self.theta2=0\n",
        "    self.d3=0\n",
        "\n",
        "    self.a1=0.25\n",
        "    self.a2=0.25\n",
        "    self.h=0.25\n",
        "  \n",
        "  def setpos(self,arr):\n",
        "    self.x=arr[0]\n",
        "    self.y=arr[1]\n",
        "    self.z=arr[2]\n",
        "    self.invkine()\n",
        "    \n",
        "# Inverse Kinematics\n",
        "  def invkine(self):\n",
        "    r= ((self.x**2+self.y**2-self.a1**2-self.a2**2)/(2*self.a1*self.a2))\n",
        "    self.theta2 = np.arctan2(((1-r**2)**0.5),r)\n",
        "    self.theta1 = np.arctan2(self.y,self.x)-np.arctan2(self.a2*np.sin(self.theta2),(self.a1+self.a2*np.cos(self.theta2)))\n",
        "\n",
        "    self.d3=self.h-self.z\n",
        "# Forward Kinematics\n",
        "  def forward(self):\n",
        "    x1=self.a1*np.cos(self.theta1)+self.a2*np.cos(self.theta1+self.theta2)\n",
        "    y1=self.a1*np.sin(self.theta1)+self.a2*np.sin(self.theta1+self.theta2)\n",
        "    z1=self.h-self.d3;\n",
        "\n",
        "    return [x1,y1,z1]\n",
        "\n",
        "  def verify(self,arr):\n",
        "    self.setpos(arr)\n",
        "    print(f\"Original Co-ordinates:- {[self.x,self.y,self.z]}\\n\")\n",
        "    print(f\"Verified from code :- {self.forward()}\\n\")\n",
        "    print(f\"Joint parameters: \\n theta1: {self.theta1} rad \\n theta2: {self.theta2} rad \\n d3: {self.d3} m \\n\\n\")"
      ],
      "execution_count": 47,
      "outputs": []
    },
    {
      "cell_type": "markdown",
      "metadata": {
        "id": "oFLHlEv6_-EA"
      },
      "source": [
        "# Inputs"
      ]
    },
    {
      "cell_type": "code",
      "metadata": {
        "id": "ICeaR8yo_u9K"
      },
      "source": [
        "lett = [\"A\",\"B\",\"C\",\"D\"]\n",
        "cord = [[0.4,0.06,0.1],[0.4,0.01,0.1],[0.35,0.01,0.1],[0.35,0.06,0.1]]"
      ],
      "execution_count": 48,
      "outputs": []
    },
    {
      "cell_type": "markdown",
      "metadata": {
        "id": "YTWtqU4dD46n"
      },
      "source": [
        "# Verification"
      ]
    },
    {
      "cell_type": "markdown",
      "metadata": {
        "id": "M9yfGQrFD8xT"
      },
      "source": [
        "**Puma**"
      ]
    },
    {
      "cell_type": "code",
      "metadata": {
        "colab": {
          "base_uri": "https://localhost:8080/"
        },
        "id": "Tje1qxmYDjCN",
        "outputId": "2cd3e0e4-f1a2-4af4-9320-58e727de7bae"
      },
      "source": [
        "puma1 = puma()\n",
        "for i in range(len(cord)):\n",
        "  print(lett[i])\n",
        "  puma1.verify(cord[i])"
      ],
      "execution_count": 49,
      "outputs": [
        {
          "output_type": "stream",
          "name": "stdout",
          "text": [
            "A\n",
            "Original Co-ordinates:- [0.4, 0.06, 0.1]\n",
            "\n",
            "Verified from code :- [0.39999999999999997, 0.05999999999999999, 0.10000000000000003]\n",
            "\n",
            "Joint parameters: \n",
            " theta1: 0.14888994760949723 rad \n",
            " theta2: 0.1749129587876629 rad \n",
            " theta3: -1.0600826270863724 rad \n",
            "\n",
            "\n",
            "B\n",
            "Original Co-ordinates:- [0.4, 0.01, 0.1]\n",
            "\n",
            "Verified from code :- [0.40000000000000013, 0.010000000000000004, 0.09999999999999998]\n",
            "\n",
            "Joint parameters: \n",
            " theta1: 0.02499479361892016 rad \n",
            " theta2: 0.18728199258035133 rad \n",
            " theta3: -1.091899934609392 rad \n",
            "\n",
            "\n",
            "C\n",
            "Original Co-ordinates:- [0.35, 0.01, 0.1]\n",
            "\n",
            "Verified from code :- [0.35, 0.01, 0.10000000000000003]\n",
            "\n",
            "Joint parameters: \n",
            " theta1: 0.028563657838759998 rad \n",
            " theta2: 0.29990350570505653 rad \n",
            " theta3: -1.4092951796178457 rad \n",
            "\n",
            "\n",
            "D\n",
            "Original Co-ordinates:- [0.35, 0.06, 0.1]\n",
            "\n",
            "Verified from code :- [0.35, 0.05999999999999999, 0.09999999999999998]\n",
            "\n",
            "Joint parameters: \n",
            " theta1: 0.16977827396833844 rad \n",
            " theta2: 0.29075369217343694 rad \n",
            " theta3: -1.3808563007082255 rad \n",
            "\n",
            "\n"
          ]
        }
      ]
    },
    {
      "cell_type": "markdown",
      "metadata": {
        "id": "LZjSfz9SEAOc"
      },
      "source": [
        "**Stanford**"
      ]
    },
    {
      "cell_type": "code",
      "metadata": {
        "colab": {
          "base_uri": "https://localhost:8080/"
        },
        "id": "I_6eFOxQDq4C",
        "outputId": "9510c955-6c4b-4768-af00-0dc39cd5cd77"
      },
      "source": [
        "stf=stanford()\n",
        "for i in range(len(cord)):\n",
        "  print(lett[i])\n",
        "  stf.verify(cord[i])"
      ],
      "execution_count": 50,
      "outputs": [
        {
          "output_type": "stream",
          "name": "stdout",
          "text": [
            "A\n",
            "Original Co-ordinates:- [0.4, 0.06, 0.1]\n",
            "\n",
            "Verified from code :- [0.42662031125527783, 0.06399304668829167, 0.6544749683231337]\n",
            "\n",
            "Joint parameters: \n",
            " theta1: 0.14888994760949723 rad \n",
            " theta2: 1.2156679720393733 rad \n",
            " d3: 0.18139309220245986 m \n",
            "\n",
            "\n",
            "B\n",
            "Original Co-ordinates:- [0.4, 0.01, 0.1]\n",
            "\n",
            "Verified from code :- [0.4271837383182708, 0.010679593457956769, 0.6501249804748512]\n",
            "\n",
            "Joint parameters: \n",
            " theta1: 0.02499479361892016 rad \n",
            " theta2: 1.212128352070552 rad \n",
            " d3: 0.17731721238443 m \n",
            "\n",
            "\n",
            "C\n",
            "Original Co-ordinates:- [0.35, 0.01, 0.1]\n",
            "\n",
            "Verified from code :- [0.38076455669427, 0.010878987334122002, 0.6001428280002319]\n",
            "\n",
            "Joint parameters: \n",
            " theta1: 0.028563657838759998 rad \n",
            " theta2: 1.1660522426910302 rad \n",
            " d3: 0.13091993909481814 m \n",
            "\n",
            "\n",
            "D\n",
            "Original Co-ordinates:- [0.35, 0.06, 0.1]\n",
            "\n",
            "Verified from code :- [0.3799442757255618, 0.06513330441009631, 0.605105618091294]\n",
            "\n",
            "Joint parameters: \n",
            " theta1: 0.16977827396833844 rad \n",
            " theta2: 1.1711218686142209 rad \n",
            " d3: 0.13548670534792762 m \n",
            "\n",
            "\n"
          ]
        }
      ]
    },
    {
      "cell_type": "markdown",
      "metadata": {
        "id": "7MsjnHjjED3_"
      },
      "source": [
        "**SCARA**"
      ]
    },
    {
      "cell_type": "code",
      "metadata": {
        "colab": {
          "base_uri": "https://localhost:8080/"
        },
        "id": "nPNOXq8oDxZ7",
        "outputId": "63992389-d117-4402-f347-dc6106ae990f"
      },
      "source": [
        "scr=scara()\n",
        "for i in range(len(cord)):\n",
        "  print(lett[i])\n",
        "  scr.verify(cord[i])"
      ],
      "execution_count": 51,
      "outputs": [
        {
          "output_type": "stream",
          "name": "stdout",
          "text": [
            "A\n",
            "Original Co-ordinates:- [0.4, 0.06, 0.1]\n",
            "\n",
            "Verified from code :- [0.4, 0.06, 0.1]\n",
            "\n",
            "Joint parameters: \n",
            " theta1: -0.4795426595751926 rad \n",
            " theta2: 1.2568652143693797 rad \n",
            " d3: 0.15 m \n",
            "\n",
            "\n",
            "B\n",
            "Original Co-ordinates:- [0.4, 0.01, 0.1]\n",
            "\n",
            "Verified from code :- [0.4, 0.010000000000000009, 0.1]\n",
            "\n",
            "Joint parameters: \n",
            " theta1: -0.6180895978105604 rad \n",
            " theta2: 1.2861687828589612 rad \n",
            " d3: 0.15 m \n",
            "\n",
            "\n",
            "C\n",
            "Original Co-ordinates:- [0.35, 0.01, 0.1]\n",
            "\n",
            "Verified from code :- [0.35, 0.010000000000000009, 0.1]\n",
            "\n",
            "Joint parameters: \n",
            " theta1: -0.7664350954805546 rad \n",
            " theta2: 1.5899975066386292 rad \n",
            " d3: 0.15 m \n",
            "\n",
            "\n",
            "D\n",
            "Original Co-ordinates:- [0.35, 0.06, 0.1]\n",
            "\n",
            "Verified from code :- [0.35, 0.06, 0.1]\n",
            "\n",
            "Joint parameters: \n",
            " theta1: -0.6112198326377974 rad \n",
            " theta2: 1.5619962132122718 rad \n",
            " d3: 0.15 m \n",
            "\n",
            "\n"
          ]
        }
      ]
    }
  ]
}