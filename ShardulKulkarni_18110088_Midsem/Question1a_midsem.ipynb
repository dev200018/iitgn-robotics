{
  "nbformat": 4,
  "nbformat_minor": 0,
  "metadata": {
    "colab": {
      "name": "Question1a_midsem.ipynb",
      "provenance": []
    },
    "kernelspec": {
      "name": "python3",
      "display_name": "Python 3"
    },
    "language_info": {
      "name": "python"
    }
  },
  "cells": [
    {
      "cell_type": "code",
      "metadata": {
        "id": "RL9p-Kev8XZs"
      },
      "source": [
        "import numpy as np\n",
        "import math"
      ],
      "execution_count": 37,
      "outputs": []
    },
    {
      "cell_type": "markdown",
      "metadata": {
        "id": "PELn-A8m-GMa"
      },
      "source": [
        "# Puma Configuration\n",
        "Implementation of Inverse and Forward Kinematics"
      ]
    },
    {
      "cell_type": "code",
      "metadata": {
        "id": "9GiwAJFr8h3S"
      },
      "source": [
        "class puma():\n",
        "  def __init__(self):\n",
        "    self.x=0\n",
        "    self.y=0\n",
        "    self.z=0\n",
        "\n",
        "    self.a1=0.25\n",
        "    self.a2=0.25\n",
        "    self.a3=0.25\n",
        "\n",
        "    self.theta1=0\n",
        "    self.theta2=0\n",
        "    self.theta3=0\n",
        "\n",
        "  def setpos(self,arr):\n",
        "    self.x=arr[0]\n",
        "    self.y=arr[1]\n",
        "    self.z=arr[2]\n",
        "    self.invkine()\n",
        "\n",
        "# Inverse Kinematics\n",
        "  def invkine(self):\n",
        "    self.theta1=np.arctan2(self.y,self.x)\n",
        "\n",
        "    r=math.pow(math.pow(self.x,2)+math.pow(self.y,2),0.5)\n",
        "    s=self.z-self.a1\n",
        "\n",
        "    D= (math.pow(r,2)+math.pow(s,2)-math.pow(self.a2,2)-math.pow(self.a3,2)) / (2*self.a2*self.a3)\n",
        "    if D>1 or D<-1 :\n",
        "      print(\"out of the workspace\")\n",
        "\n",
        "    self.theta3 = np.arctan2((-math.pow(1-math.pow(D,2),0.5)),D)\n",
        "    \n",
        "    self.theta2 = np.arctan2(s,r)-np.arctan2(self.a3*np.sin(self.theta3),(self.a2+self.a3*np.cos(self.theta3)))\n",
        "\n",
        "  def dhpara(self):\n",
        "    mat = []\n",
        "    mat.append([0,0,self.a1,self.theta1])\n",
        "    mat.append([self.a2,np.pi/2,0,self.theta2])\n",
        "    mat.append([self.a3,0,0,self.theta3])\n",
        "\n",
        "    return mat\n",
        "\n",
        "  def dh(self,arr):\n",
        "    a=arr[0]\n",
        "    alpha=arr[1]\n",
        "    d=arr[2]\n",
        "    theta = arr[3]\n",
        "\n",
        "    mat = []\n",
        "    b=[np.cos(theta), -np.sin(theta)*np.cos(alpha), np.sin(theta)*np.sin(alpha), a*np.cos(theta)]\n",
        "    mat.append(b)\n",
        "\n",
        "    b=[np.sin(theta), np.cos(theta)*np.cos(alpha), -np.cos(theta)*np.sin(alpha), a*np.sin(theta)]\n",
        "    mat.append(b)\n",
        "\n",
        "    b=[0, np.sin(alpha), np.cos(alpha), d]\n",
        "    mat.append(b)\n",
        "\n",
        "    b=[0,0,0,1]\n",
        "    mat.append(b)\n",
        "\n",
        "    return np.matrix(mat)\n",
        "\n",
        "# Forward Kinematics\n",
        "  # def forward(self):\n",
        "  #   matrix=self.dhpara()\n",
        "  #   T = np.identity(4)\n",
        "  #   for i in range(len(matrix)):\n",
        "  #     T=np.matmul(T,self.dh(matrix[i]))\n",
        "  #   return T[:3,3].T\n",
        "\n",
        "  def forward(self):\n",
        "    z1=self.a2*np.sin(self.theta2)+self.a3*np.sin(self.theta2+self.theta3)+self.a1\n",
        "\n",
        "    r=self.a2*np.cos(self.theta2)+self.a3*np.cos(self.theta2+self.theta3)\n",
        "    x1=r*np.cos(self.theta1)\n",
        "    y1=r*np.sin(self.theta1)\n",
        "\n",
        "    return [x1,y1,z1]\n",
        "\n",
        "  def verify(self,arr):\n",
        "    self.setpos(arr)\n",
        "    print(f\"Original Co-ordinates:- {[self.x,self.y,self.z]}\\n\")\n",
        "    print(f\"Verified from code :- {self.forward()}\\n\")\n",
        "    print(f\"Joint parameters: \\n theta1: {self.theta1} rad \\n theta2: {self.theta2} rad \\n theta3: {self.theta3} rad \\n\\n\")"
      ],
      "execution_count": 38,
      "outputs": []
    },
    {
      "cell_type": "code",
      "metadata": {
        "colab": {
          "base_uri": "https://localhost:8080/"
        },
        "id": "UbCmVsulHoxX",
        "outputId": "f4eda805-dc24-484e-fc82-f9c40300edcb"
      },
      "source": [
        "puma1 = puma()\n",
        "cord = [[0.45,0.075,0.1],[0.45,-0.075,0.1],[0.25,-0.075,0.1],[0.25,0.075,0.1]]\n",
        "lett = [\"A\",\"B\",\"C\",\"D\"]\n",
        "\n",
        "for i in range(len(cord)):\n",
        "  print(lett[i])\n",
        "  puma1.verify(cord[i])\n"
      ],
      "execution_count": 39,
      "outputs": [
        {
          "output_type": "stream",
          "name": "stdout",
          "text": [
            "A\n",
            "Original Co-ordinates:- [0.45, 0.075, 0.1]\n",
            "\n",
            "Verified from code :- [0.44999999999999996, 0.07499999999999998, 0.10000000000000003]\n",
            "\n",
            "Joint parameters: \n",
            " theta1: 0.16514867741462683 rad \n",
            " theta2: -0.03554761311846932 rad \n",
            " theta3: -0.5642311597275824 rad \n",
            "\n",
            "\n",
            "B\n",
            "Original Co-ordinates:- [0.45, -0.075, 0.1]\n",
            "\n",
            "Verified from code :- [0.44999999999999996, -0.07499999999999998, 0.10000000000000003]\n",
            "\n",
            "Joint parameters: \n",
            " theta1: -0.16514867741462683 rad \n",
            " theta2: -0.03554761311846932 rad \n",
            " theta3: -0.5642311597275824 rad \n",
            "\n",
            "\n",
            "C\n",
            "Original Co-ordinates:- [0.25, -0.075, 0.1]\n",
            "\n",
            "Verified from code :- [0.25, -0.07500000000000001, 0.1]\n",
            "\n",
            "Joint parameters: \n",
            " theta1: -0.2914567944778671 rad \n",
            " theta2: 0.4030874009041333 rad \n",
            " theta3: -1.8493860291865472 rad \n",
            "\n",
            "\n",
            "D\n",
            "Original Co-ordinates:- [0.25, 0.075, 0.1]\n",
            "\n",
            "Verified from code :- [0.25, 0.07500000000000001, 0.1]\n",
            "\n",
            "Joint parameters: \n",
            " theta1: 0.2914567944778671 rad \n",
            " theta2: 0.4030874009041333 rad \n",
            " theta3: -1.8493860291865472 rad \n",
            "\n",
            "\n"
          ]
        }
      ]
    },
    {
      "cell_type": "markdown",
      "metadata": {
        "id": "WbnNRwpK-M0_"
      },
      "source": [
        "# Stanford Configuration\n",
        "Implementation of Inverse and Forward Kinematics"
      ]
    },
    {
      "cell_type": "code",
      "metadata": {
        "id": "3rcOLbrmc0Jk"
      },
      "source": [
        "class stanford():\n",
        "  def __init__(self):\n",
        "    self.x=0\n",
        "    self.y=0\n",
        "    self.z=0\n",
        "\n",
        "    self.theta1=0\n",
        "    self.theta2=0\n",
        "    self.d3=0\n",
        "\n",
        "    self.a1=0.25\n",
        "    self.a2=0.25\n",
        "\n",
        "  def setpos(self,arr):\n",
        "    self.x=arr[0]\n",
        "    self.y=arr[1]\n",
        "    self.z=arr[2]\n",
        "    self.invkine()\n",
        "\n",
        "# Inverse Kinematics\n",
        "  def invkine(self):\n",
        "    if (self.x==0 and self.y==0) :\n",
        "      print(\"Singularity !!!!!!!\")\n",
        "      return\n",
        "    else:\n",
        "      self.theta1 = np.arctan2(self.y,self.x)\n",
        "\n",
        "    r= (self.x**2+self.y**2)**(0.5)\n",
        "    s=self.z-self.a1\n",
        "\n",
        "    self.theta2 = np.arctan2(s,r)+(np.pi/2)\n",
        "\n",
        "    self.d3=(r**2+s**2)**(0.5) - self.a2\n",
        "\n",
        "# Forward Kinematics\n",
        "  def forward(self):\n",
        "    x1=(self.a2+self.d3)*np.cos(self.theta1)\n",
        "    y1=(self.a2+self.d3)*np.sin(self.theta1)\n",
        "    z1=self.a1+(self.a2+self.d3)*np.sin(self.theta2)\n",
        "\n",
        "    return [x1,y1,z1]\n",
        "\n",
        "  def verify(self,arr):\n",
        "    self.setpos(arr)\n",
        "    print(f\"Original Co-ordinates:- {[self.x,self.y,self.z]}\\n\")\n",
        "    print(f\"Verified from code :- {self.forward()}\\n\")\n",
        "    print(f\"Joint parameters: \\n theta1: {self.theta1} rad \\n theta2: {self.theta2} rad \\n d3: {self.d3} m \\n\\n\")\n"
      ],
      "execution_count": 40,
      "outputs": []
    },
    {
      "cell_type": "code",
      "metadata": {
        "colab": {
          "base_uri": "https://localhost:8080/"
        },
        "id": "1u805XN8g2Fl",
        "outputId": "f6826f48-fec7-4d43-826f-caca610cb00b"
      },
      "source": [
        "stf=stanford()\n",
        "cord = [[0.45,0.075,0.1],[0.45,-0.075,0.1],[0.25,-0.075,0.1],[0.25,0.075,0.1]]\n",
        "lett = [\"A\",\"B\",\"C\",\"D\"]\n",
        "\n",
        "for i in range(len(cord)):\n",
        "  print(lett[i])\n",
        "  stf.verify(cord[i])\n"
      ],
      "execution_count": 41,
      "outputs": [
        {
          "output_type": "stream",
          "name": "stdout",
          "text": [
            "A\n",
            "Original Co-ordinates:- [0.45, 0.075, 0.1]\n",
            "\n",
            "Verified from code :- [0.4737002131009568, 0.07895003551682611, 0.7062071897723665]\n",
            "\n",
            "Joint parameters: \n",
            " theta1: 0.16514867741462683 rad \n",
            " theta2: 1.2531331338126361 rad \n",
            " d3: 0.23023431780746362 m \n",
            "\n",
            "\n",
            "B\n",
            "Original Co-ordinates:- [0.45, -0.075, 0.1]\n",
            "\n",
            "Verified from code :- [0.4737002131009568, -0.07895003551682611, 0.7062071897723665]\n",
            "\n",
            "Joint parameters: \n",
            " theta1: -0.16514867741462683 rad \n",
            " theta2: 1.2531331338126361 rad \n",
            " d3: 0.23023431780746362 m \n",
            "\n",
            "\n",
            "C\n",
            "Original Co-ordinates:- [0.25, -0.075, 0.1]\n",
            "\n",
            "Verified from code :- [0.28834389508859454, -0.08650316852657836, 0.5110076627227638]\n",
            "\n",
            "Joint parameters: \n",
            " theta1: -0.2914567944778671 rad \n",
            " theta2: 1.0491907131057563 rad \n",
            " d3: 0.051039864469807406 m \n",
            "\n",
            "\n",
            "D\n",
            "Original Co-ordinates:- [0.25, 0.075, 0.1]\n",
            "\n",
            "Verified from code :- [0.28834389508859454, 0.08650316852657836, 0.5110076627227638]\n",
            "\n",
            "Joint parameters: \n",
            " theta1: 0.2914567944778671 rad \n",
            " theta2: 1.0491907131057563 rad \n",
            " d3: 0.051039864469807406 m \n",
            "\n",
            "\n"
          ]
        }
      ]
    },
    {
      "cell_type": "markdown",
      "metadata": {
        "id": "no2UvRa1-UJE"
      },
      "source": [
        "# SCARA COnfiguration\n",
        "Implementation of Inverse and Forward Kinematics"
      ]
    },
    {
      "cell_type": "code",
      "metadata": {
        "id": "GQ4yL7SonQEr"
      },
      "source": [
        "class scara():\n",
        "  def __init__(self):\n",
        "    self.x=0\n",
        "    self.y=0\n",
        "    self.z=0\n",
        "\n",
        "    self.theta1=0\n",
        "    self.theta2=0\n",
        "    self.d3=0\n",
        "\n",
        "    self.a1=0.25\n",
        "    self.a2=0.25\n",
        "    self.h=0.25\n",
        "  \n",
        "  def setpos(self,arr):\n",
        "    self.x=arr[0]\n",
        "    self.y=arr[1]\n",
        "    self.z=arr[2]\n",
        "    self.invkine()\n",
        "\n",
        "# Inverse Kinematics\n",
        "  def invkine(self):\n",
        "    r= ((self.x**2+self.y**2-self.a1**2-self.a2**2)/(2*self.a1*self.a2))\n",
        "    self.theta2 = np.arctan2(((1-r**2)**0.5),r)\n",
        "    self.theta1 = np.arctan2(self.y,self.x)-np.arctan2(self.a2*np.sin(self.theta2),(self.a1+self.a2*np.cos(self.theta2)))\n",
        "\n",
        "    self.d3=self.h-self.z\n",
        "\n",
        "# Forward Kinematics\n",
        "  def forward(self):\n",
        "    x1=self.a1*np.cos(self.theta1)+self.a2*np.cos(self.theta1+self.theta2)\n",
        "    y1=self.a1*np.sin(self.theta1)+self.a2*np.sin(self.theta1+self.theta2)\n",
        "    z1=self.h-self.d3;\n",
        "\n",
        "    return [x1,y1,z1]\n",
        "\n",
        "  def verify(self,arr):\n",
        "    self.setpos(arr)\n",
        "    print(f\"Original Co-ordinates:- {[self.x,self.y,self.z]}\\n\")\n",
        "    print(f\"Verified from code :- {self.forward()}\\n\")\n",
        "    print(f\"Joint parameters: \\n theta1: {self.theta1} rad \\n theta2: {self.theta2} rad \\n d3: {self.d3} m \\n\\n\")"
      ],
      "execution_count": 42,
      "outputs": []
    },
    {
      "cell_type": "code",
      "metadata": {
        "colab": {
          "base_uri": "https://localhost:8080/"
        },
        "id": "2YNlHw51posU",
        "outputId": "578946b0-689e-4e09-dc06-259975453238"
      },
      "source": [
        "scr=scara()\n",
        "cord = [[0.45,0.075,0.1],[0.45,-0.075,0.1],[0.25,-0.075,0.1],[0.25,0.075,0.1]]\n",
        "lett = [\"A\",\"B\",\"C\",\"D\"]\n",
        "\n",
        "for i in range(len(cord)):\n",
        "  print(lett[i])\n",
        "  scr.verify(cord[i])"
      ],
      "execution_count": 43,
      "outputs": [
        {
          "output_type": "stream",
          "name": "stdout",
          "text": [
            "A\n",
            "Original Co-ordinates:- [0.45, 0.075, 0.1]\n",
            "\n",
            "Verified from code :- [0.45, 0.075, 0.1]\n",
            "\n",
            "Joint parameters: \n",
            " theta1: -0.256502576982114 rad \n",
            " theta2: 0.8433025087934816 rad \n",
            " d3: 0.15 m \n",
            "\n",
            "\n",
            "B\n",
            "Original Co-ordinates:- [0.45, -0.075, 0.1]\n",
            "\n",
            "Verified from code :- [0.45, -0.075, 0.1]\n",
            "\n",
            "Joint parameters: \n",
            " theta1: -0.5867999318113676 rad \n",
            " theta2: 0.8433025087934816 rad \n",
            " d3: 0.15 m \n",
            "\n",
            "\n",
            "C\n",
            "Original Co-ordinates:- [0.25, -0.075, 0.1]\n",
            "\n",
            "Verified from code :- [0.24999999999999994, -0.07500000000000004, 0.1]\n",
            "\n",
            "Joint parameters: \n",
            " theta1: -1.313041064939743 rad \n",
            " theta2: 2.0431685409237517 rad \n",
            " d3: 0.15 m \n",
            "\n",
            "\n",
            "D\n",
            "Original Co-ordinates:- [0.25, 0.075, 0.1]\n",
            "\n",
            "Verified from code :- [0.24999999999999994, 0.07500000000000001, 0.1]\n",
            "\n",
            "Joint parameters: \n",
            " theta1: -0.7301274759840087 rad \n",
            " theta2: 2.0431685409237517 rad \n",
            " d3: 0.15 m \n",
            "\n",
            "\n"
          ]
        }
      ]
    }
  ]
}