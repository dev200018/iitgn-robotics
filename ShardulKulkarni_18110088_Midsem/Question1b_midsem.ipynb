{
  "nbformat": 4,
  "nbformat_minor": 0,
  "metadata": {
    "colab": {
      "name": "Question1b_midsem.ipynb",
      "provenance": [],
      "collapsed_sections": []
    },
    "kernelspec": {
      "name": "python3",
      "display_name": "Python 3"
    },
    "language_info": {
      "name": "python"
    }
  },
  "cells": [
    {
      "cell_type": "code",
      "metadata": {
        "id": "RL9p-Kev8XZs"
      },
      "source": [
        "import numpy as np\n",
        "import math"
      ],
      "execution_count": 27,
      "outputs": []
    },
    {
      "cell_type": "markdown",
      "metadata": {
        "id": "PELn-A8m-GMa"
      },
      "source": [
        "# Puma Configuration\n",
        "Implementation of Inverse and Forward Kinematics"
      ]
    },
    {
      "cell_type": "code",
      "metadata": {
        "id": "9GiwAJFr8h3S"
      },
      "source": [
        "class puma():\n",
        "  def __init__(self):\n",
        "    self.x=0\n",
        "    self.y=0\n",
        "    self.z=0\n",
        "\n",
        "    self.a1=0.25\n",
        "    self.a2=0.25\n",
        "    self.a3=0.25\n",
        "\n",
        "    self.theta1=0\n",
        "    self.theta2=0\n",
        "    self.theta3=0\n",
        "\n",
        "  def setpos(self,arr):\n",
        "    self.x=arr[0]\n",
        "    self.y=arr[1]\n",
        "    self.z=arr[2]\n",
        "    self.invkine()\n",
        "\n",
        "# Inverse Kinematics\n",
        "  def invkine(self):\n",
        "    self.theta1=np.arctan2(self.y,self.x)\n",
        "\n",
        "    r=math.pow(math.pow(self.x,2)+math.pow(self.y,2),0.5)\n",
        "    s=self.z-self.a1\n",
        "\n",
        "    D= (math.pow(r,2)+math.pow(s,2)-math.pow(self.a2,2)-math.pow(self.a3,2)) / (2*self.a2*self.a3)\n",
        "    if D>1 or D<-1 :\n",
        "      print(\"out of the workspace\")\n",
        "\n",
        "    self.theta3 = np.arctan2((-math.pow(1-math.pow(D,2),0.5)),D)\n",
        "    \n",
        "    self.theta2 = np.arctan2(s,r)-np.arctan2(self.a3*np.sin(self.theta3),(self.a2+self.a3*np.cos(self.theta3)))\n",
        "\n",
        "  def dhpara(self):\n",
        "    mat = []\n",
        "    mat.append([0,0,self.a1,self.theta1])\n",
        "    mat.append([self.a2,np.pi/2,0,self.theta2])\n",
        "    mat.append([self.a3,0,0,self.theta3])\n",
        "\n",
        "    return mat\n",
        "\n",
        "  def dh(self,arr):\n",
        "    a=arr[0]\n",
        "    alpha=arr[1]\n",
        "    d=arr[2]\n",
        "    theta = arr[3]\n",
        "\n",
        "    mat = []\n",
        "    b=[np.cos(theta), -np.sin(theta)*np.cos(alpha), np.sin(theta)*np.sin(alpha), a*np.cos(theta)]\n",
        "    mat.append(b)\n",
        "\n",
        "    b=[np.sin(theta), np.cos(theta)*np.cos(alpha), -np.cos(theta)*np.sin(alpha), a*np.sin(theta)]\n",
        "    mat.append(b)\n",
        "\n",
        "    b=[0, np.sin(alpha), np.cos(alpha), d]\n",
        "    mat.append(b)\n",
        "\n",
        "    b=[0,0,0,1]\n",
        "    mat.append(b)\n",
        "\n",
        "    return np.matrix(mat)\n",
        "\n",
        "# Forward Kinematics\n",
        "  # def forward(self):\n",
        "  #   matrix=self.dhpara()\n",
        "  #   T = np.identity(4)\n",
        "  #   for i in range(len(matrix)):\n",
        "  #     T=np.matmul(T,self.dh(matrix[i]))\n",
        "  #   return T[:3,3].T\n",
        "\n",
        "  def forward(self):\n",
        "    z1=self.a2*np.sin(self.theta2)+self.a3*np.sin(self.theta2+self.theta3)+self.a1\n",
        "\n",
        "    r=self.a2*np.cos(self.theta2)+self.a3*np.cos(self.theta2+self.theta3)\n",
        "    x1=r*np.cos(self.theta1)\n",
        "    y1=r*np.sin(self.theta1)\n",
        "\n",
        "    return [x1,y1,z1]\n",
        "\n",
        "  def verify(self,arr):\n",
        "    self.setpos(arr)\n",
        "    print(f\"Original Co-ordinates:- {[self.x,self.y,self.z]}\\n\")\n",
        "    print(f\"Verified from code :- {self.forward()}\\n\")\n",
        "    print(f\"Joint parameters: \\n theta1: {self.theta1} rad \\n theta2: {self.theta2} rad \\n theta3: {self.theta3} rad \\n\\n\")"
      ],
      "execution_count": 28,
      "outputs": []
    },
    {
      "cell_type": "markdown",
      "metadata": {
        "id": "WbnNRwpK-M0_"
      },
      "source": [
        "# Stanford Configuration\n",
        "Implementation of Inverse and Forward Kinematics"
      ]
    },
    {
      "cell_type": "code",
      "metadata": {
        "id": "3rcOLbrmc0Jk"
      },
      "source": [
        "class stanford():\n",
        "  def __init__(self):\n",
        "    self.x=0\n",
        "    self.y=0\n",
        "    self.z=0\n",
        "\n",
        "    self.theta1=0\n",
        "    self.theta2=0\n",
        "    self.d3=0\n",
        "\n",
        "    self.a1=0.25\n",
        "    self.a2=0.25\n",
        "\n",
        "  def setpos(self,arr):\n",
        "    self.x=arr[0]\n",
        "    self.y=arr[1]\n",
        "    self.z=arr[2]\n",
        "    self.invkine()\n",
        "    \n",
        "# Inverse Kinematics\n",
        "  def invkine(self):\n",
        "    if (self.x==0 and self.y==0) :\n",
        "      print(\"Singularity !!!!!!!\")\n",
        "      return\n",
        "    else:\n",
        "      self.theta1 = np.arctan2(self.y,self.x)\n",
        "\n",
        "    r= (self.x**2+self.y**2)**(0.5)\n",
        "    s=self.z-self.a1\n",
        "\n",
        "    self.theta2 = np.arctan2(s,r)+(np.pi/2)\n",
        "\n",
        "    self.d3=(r**2+s**2)**(0.5) - self.a2\n",
        "# Forward Kinematics\n",
        "  def forward(self):\n",
        "    x1=(self.a2+self.d3)*np.cos(self.theta1)\n",
        "    y1=(self.a2+self.d3)*np.sin(self.theta1)\n",
        "    z1=self.a1+(self.a2+self.d3)*np.sin(self.theta2)\n",
        "\n",
        "    return [x1,y1,z1]\n",
        "\n",
        "  def verify(self,arr):\n",
        "    self.setpos(arr)\n",
        "    print(f\"Original Co-ordinates:- {[self.x,self.y,self.z]}\\n\")\n",
        "    print(f\"Verified from code :- {self.forward()}\\n\")\n",
        "    print(f\"Joint parameters: \\n theta1: {self.theta1} rad \\n theta2: {self.theta2} rad \\n d3: {self.d3} m \\n\\n\")\n"
      ],
      "execution_count": 29,
      "outputs": []
    },
    {
      "cell_type": "markdown",
      "metadata": {
        "id": "no2UvRa1-UJE"
      },
      "source": [
        "# SCARA Configuration\n",
        "Implementation of Inverse and Forward Kinematics"
      ]
    },
    {
      "cell_type": "code",
      "metadata": {
        "id": "GQ4yL7SonQEr"
      },
      "source": [
        "class scara():\n",
        "  def __init__(self):\n",
        "    self.x=0\n",
        "    self.y=0\n",
        "    self.z=0\n",
        "\n",
        "    self.theta1=0\n",
        "    self.theta2=0\n",
        "    self.d3=0\n",
        "\n",
        "    self.a1=0.25\n",
        "    self.a2=0.25\n",
        "    self.h=0.25\n",
        "  \n",
        "  def setpos(self,arr):\n",
        "    self.x=arr[0]\n",
        "    self.y=arr[1]\n",
        "    self.z=arr[2]\n",
        "    self.invkine()\n",
        "    \n",
        "# Inverse Kinematics\n",
        "  def invkine(self):\n",
        "    r= ((self.x**2+self.y**2-self.a1**2-self.a2**2)/(2*self.a1*self.a2))\n",
        "    self.theta2 = np.arctan2(((1-r**2)**0.5),r)\n",
        "    self.theta1 = np.arctan2(self.y,self.x)-np.arctan2(self.a2*np.sin(self.theta2),(self.a1+self.a2*np.cos(self.theta2)))\n",
        "\n",
        "    self.d3=self.h-self.z\n",
        "# Forward Kinematics\n",
        "  def forward(self):\n",
        "    x1=self.a1*np.cos(self.theta1)+self.a2*np.cos(self.theta1+self.theta2)\n",
        "    y1=self.a1*np.sin(self.theta1)+self.a2*np.sin(self.theta1+self.theta2)\n",
        "    z1=self.h-self.d3;\n",
        "\n",
        "    return [x1,y1,z1]\n",
        "\n",
        "  def verify(self,arr):\n",
        "    self.setpos(arr)\n",
        "    print(f\"Original Co-ordinates:- {[self.x,self.y,self.z]}\\n\")\n",
        "    print(f\"Verified from code :- {self.forward()}\\n\")\n",
        "    print(f\"Joint parameters: \\n theta1: {self.theta1} rad \\n theta2: {self.theta2} rad \\n d3: {self.d3} m \\n\\n\")"
      ],
      "execution_count": 30,
      "outputs": []
    },
    {
      "cell_type": "markdown",
      "metadata": {
        "id": "oFLHlEv6_-EA"
      },
      "source": [
        "# Inputs"
      ]
    },
    {
      "cell_type": "code",
      "metadata": {
        "colab": {
          "base_uri": "https://localhost:8080/"
        },
        "id": "ICeaR8yo_u9K",
        "outputId": "3aa1e20b-659f-4fbd-db6c-6ca014772ce2"
      },
      "source": [
        "lett = [\"A\",\"B\",\"C\",\"D\"]\n",
        "c=[\"X\",\"Y\",\"Z\"]\n",
        "cord=[]\n",
        "for i in range(len(lett)):\n",
        "  print(\"\\n\")\n",
        "  a=[]\n",
        "  for j in range(3):\n",
        "    b=float(input(f\"{lett[i]} : {c[j]} \"))\n",
        "    a.append(b)\n",
        "  cord.append(a)\n",
        "\n",
        "cord"
      ],
      "execution_count": 31,
      "outputs": [
        {
          "name": "stdout",
          "output_type": "stream",
          "text": [
            "\n",
            "\n",
            "A : X 0.3\n",
            "A : Y 0.02\n",
            "A : Z 0.1\n",
            "\n",
            "\n",
            "B : X 0.3\n",
            "B : Y -0.02\n",
            "B : Z 0.1\n",
            "\n",
            "\n",
            "C : X 0.2\n",
            "C : Y -0.02\n",
            "C : Z 0.1\n",
            "\n",
            "\n",
            "D : X 0.2\n",
            "D : Y 0.02\n",
            "D : Z 0.1\n"
          ]
        },
        {
          "output_type": "execute_result",
          "data": {
            "text/plain": [
              "[[0.3, 0.02, 0.1], [0.3, -0.02, 0.1], [0.2, -0.02, 0.1], [0.2, 0.02, 0.1]]"
            ]
          },
          "metadata": {},
          "execution_count": 31
        }
      ]
    },
    {
      "cell_type": "markdown",
      "metadata": {
        "id": "YTWtqU4dD46n"
      },
      "source": [
        "# Verification"
      ]
    },
    {
      "cell_type": "markdown",
      "metadata": {
        "id": "M9yfGQrFD8xT"
      },
      "source": [
        "**Puma**"
      ]
    },
    {
      "cell_type": "code",
      "metadata": {
        "colab": {
          "base_uri": "https://localhost:8080/"
        },
        "id": "Tje1qxmYDjCN",
        "outputId": "c2434c57-270b-4f64-d29e-61844bd5c3cb"
      },
      "source": [
        "puma1 = puma()\n",
        "for i in range(len(cord)):\n",
        "  print(lett[i])\n",
        "  puma1.verify(cord[i])"
      ],
      "execution_count": 32,
      "outputs": [
        {
          "output_type": "stream",
          "name": "stdout",
          "text": [
            "A\n",
            "Original Co-ordinates:- [0.3, 0.02, 0.1]\n",
            "\n",
            "Verified from code :- [0.3, 0.019999999999999997, 0.09999999999999998]\n",
            "\n",
            "Joint parameters: \n",
            " theta1: 0.06656816377582381 rad \n",
            " theta2: 0.3711127907486969 rad \n",
            " theta3: -1.6677481410165333 rad \n",
            "\n",
            "\n",
            "B\n",
            "Original Co-ordinates:- [0.3, -0.02, 0.1]\n",
            "\n",
            "Verified from code :- [0.3, -0.019999999999999997, 0.09999999999999998]\n",
            "\n",
            "Joint parameters: \n",
            " theta1: -0.06656816377582381 rad \n",
            " theta2: 0.3711127907486969 rad \n",
            " theta3: -1.6677481410165333 rad \n",
            "\n",
            "\n",
            "C\n",
            "Original Co-ordinates:- [0.2, -0.02, 0.1]\n",
            "\n",
            "Verified from code :- [0.20000000000000007, -0.020000000000000007, 0.09999999999999998]\n",
            "\n",
            "Joint parameters: \n",
            " theta1: -0.09966865249116202 rad \n",
            " theta2: 0.40423729161454336 rad \n",
            " theta3: -2.0907039852941662 rad \n",
            "\n",
            "\n",
            "D\n",
            "Original Co-ordinates:- [0.2, 0.02, 0.1]\n",
            "\n",
            "Verified from code :- [0.20000000000000007, 0.020000000000000007, 0.09999999999999998]\n",
            "\n",
            "Joint parameters: \n",
            " theta1: 0.09966865249116202 rad \n",
            " theta2: 0.40423729161454336 rad \n",
            " theta3: -2.0907039852941662 rad \n",
            "\n",
            "\n"
          ]
        }
      ]
    },
    {
      "cell_type": "markdown",
      "metadata": {
        "id": "LZjSfz9SEAOc"
      },
      "source": [
        "**Stanford**"
      ]
    },
    {
      "cell_type": "code",
      "metadata": {
        "colab": {
          "base_uri": "https://localhost:8080/"
        },
        "id": "I_6eFOxQDq4C",
        "outputId": "db93da0c-dbc1-4ce4-cdc5-7e7dde958afb"
      },
      "source": [
        "stf=stanford()\n",
        "for i in range(len(cord)):\n",
        "  print(lett[i])\n",
        "  stf.verify(cord[i])"
      ],
      "execution_count": 33,
      "outputs": [
        {
          "output_type": "stream",
          "name": "stdout",
          "text": [
            "A\n",
            "Original Co-ordinates:- [0.3, 0.02, 0.1]\n",
            "\n",
            "Verified from code :- [0.33526175218458204, 0.022350783478972135, 0.5506659275674581]\n",
            "\n",
            "Joint parameters: \n",
            " theta1: 0.06656816377582381 rad \n",
            " theta2: 1.1080350470353268 rad \n",
            " d3: 0.08600595232822883 m \n",
            "\n",
            "\n",
            "B\n",
            "Original Co-ordinates:- [0.3, -0.02, 0.1]\n",
            "\n",
            "Verified from code :- [0.33526175218458204, -0.022350783478972135, 0.5506659275674581]\n",
            "\n",
            "Joint parameters: \n",
            " theta1: -0.06656816377582381 rad \n",
            " theta2: 1.1080350470353268 rad \n",
            " d3: 0.08600595232822883 m \n",
            "\n",
            "\n",
            "C\n",
            "Original Co-ordinates:- [0.2, -0.02, 0.1]\n",
            "\n",
            "Verified from code :- [0.24955405771650416, -0.024955405771650414, 0.4509975124224178]\n",
            "\n",
            "Joint parameters: \n",
            " theta1: -0.09966865249116202 rad \n",
            " theta2: 0.9296816257623568 rad \n",
            " d3: 0.0007987240796890616 m \n",
            "\n",
            "\n",
            "D\n",
            "Original Co-ordinates:- [0.2, 0.02, 0.1]\n",
            "\n",
            "Verified from code :- [0.24955405771650416, 0.024955405771650414, 0.4509975124224178]\n",
            "\n",
            "Joint parameters: \n",
            " theta1: 0.09966865249116202 rad \n",
            " theta2: 0.9296816257623568 rad \n",
            " d3: 0.0007987240796890616 m \n",
            "\n",
            "\n"
          ]
        }
      ]
    },
    {
      "cell_type": "markdown",
      "metadata": {
        "id": "7MsjnHjjED3_"
      },
      "source": [
        "**SCARA**"
      ]
    },
    {
      "cell_type": "code",
      "metadata": {
        "colab": {
          "base_uri": "https://localhost:8080/"
        },
        "id": "nPNOXq8oDxZ7",
        "outputId": "690baf18-1e9d-4d16-f8b7-78aaf38237cc"
      },
      "source": [
        "scr=scara()\n",
        "for i in range(len(cord)):\n",
        "  print(lett[i])\n",
        "  scr.verify(cord[i])"
      ],
      "execution_count": 34,
      "outputs": [
        {
          "output_type": "stream",
          "name": "stdout",
          "text": [
            "A\n",
            "Original Co-ordinates:- [0.3, 0.02, 0.1]\n",
            "\n",
            "Verified from code :- [0.3, 0.01999999999999999, 0.1]\n",
            "\n",
            "Joint parameters: \n",
            " theta1: -0.8590611938778863 rad \n",
            " theta2: 1.85125871530742 rad \n",
            " d3: 0.15 m \n",
            "\n",
            "\n",
            "B\n",
            "Original Co-ordinates:- [0.3, -0.02, 0.1]\n",
            "\n",
            "Verified from code :- [0.3, -0.020000000000000046, 0.1]\n",
            "\n",
            "Joint parameters: \n",
            " theta1: -0.992197521429534 rad \n",
            " theta2: 1.85125871530742 rad \n",
            " d3: 0.15 m \n",
            "\n",
            "\n",
            "C\n",
            "Original Co-ordinates:- [0.2, -0.02, 0.1]\n",
            "\n",
            "Verified from code :- [0.20000000000000007, -0.020000000000000018, 0.1]\n",
            "\n",
            "Joint parameters: \n",
            " theta1: -1.2567703459800028 rad \n",
            " theta2: 2.3142033869776815 rad \n",
            " d3: 0.15 m \n",
            "\n",
            "\n",
            "D\n",
            "Original Co-ordinates:- [0.2, 0.02, 0.1]\n",
            "\n",
            "Verified from code :- [0.20000000000000007, 0.020000000000000018, 0.1]\n",
            "\n",
            "Joint parameters: \n",
            " theta1: -1.0574330409976787 rad \n",
            " theta2: 2.3142033869776815 rad \n",
            " d3: 0.15 m \n",
            "\n",
            "\n"
          ]
        }
      ]
    }
  ]
}