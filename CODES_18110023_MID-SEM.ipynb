{
 "cells": [
  {
   "cell_type": "markdown",
   "source": [
    "# MID-SEM CODE SUBMISSION\r\n",
    "## NAME: ANUSHEEL KAULA                ROLL NO: 18110023\r\n",
    "### PS: Please run the code blocks sequentially"
   ],
   "metadata": {}
  },
  {
   "cell_type": "markdown",
   "source": [
    "## STANDARD CODE BLOCKS:"
   ],
   "metadata": {}
  },
  {
   "cell_type": "code",
   "execution_count": 5,
   "source": [
    "import numpy as np\r\n",
    "from scipy.optimize import fsolve\r\n",
    "from scipy.spatial.transform import Rotation"
   ],
   "outputs": [],
   "metadata": {}
  },
  {
   "cell_type": "code",
   "execution_count": 7,
   "source": [
    "def wrapping(angle):\r\n",
    "    if abs(angle%(2*np.pi) - 2*np.pi)<10^(-5):\r\n",
    "        return 0\r\n",
    "    return angle%(2*np.pi)"
   ],
   "outputs": [],
   "metadata": {}
  },
  {
   "cell_type": "code",
   "execution_count": 8,
   "source": [
    "## CODE TAKEN FROM REPO\r\n",
    "def atransformation(LinkParameters):\r\n",
    "    a = LinkParameters[0]\r\n",
    "    d = LinkParameters[2]\r\n",
    "    alpha = LinkParameters[1]\r\n",
    "    theta = LinkParameters[3]\r\n",
    "    A = np.array([[[np.cos(theta), -np.sin(theta) * np.cos(alpha), np.sin(theta) * np.sin(alpha), a * np.cos(theta)],\r\n",
    "                   [np.sin(theta), np.cos(theta) * np.cos(alpha), -np.cos(theta) * np.sin(alpha), a * np.sin(theta)],\r\n",
    "                   [0, np.sin(alpha), np.cos(alpha), d],\r\n",
    "                   [0, 0, 0, 1]]])\r\n",
    "    return (A)\r\n",
    "\r\n",
    "def forward_kinematics_homogenous_matrix(DH):\r\n",
    "    A = np.identity(4)\r\n",
    "    n = np.shape(DH)[0]\r\n",
    "\r\n",
    "    for i in range(n):\r\n",
    "        Anext = atransformation(DH[i])\r\n",
    "        A = np.matmul(A,Anext)\r\n",
    "\r\n",
    "    return A"
   ],
   "outputs": [],
   "metadata": {}
  },
  {
   "cell_type": "code",
   "execution_count": 9,
   "source": [
    "# https://stackoverflow.com/questions/45142959/calculate-rotation-matrix-to-align-two-vectors-in-3d-space\r\n",
    "def rotation_matrix_from_vectors(vec1, vec2):\r\n",
    "    \"\"\" Find the rotation matrix that aligns vec1 to vec2\r\n",
    "    :param vec1: A 3d \"source\" vector\r\n",
    "    :param vec2: A 3d \"destination\" vector\r\n",
    "    :return mat: A transform matrix (3x3) which when applied to vec1, aligns it with vec2.\r\n",
    "    \"\"\"\r\n",
    "    a, b = (vec1 / np.linalg.norm(vec1)).reshape(3), (vec2 / np.linalg.norm(vec2)).reshape(3)\r\n",
    "    v = np.cross(a, b)\r\n",
    "    c = np.dot(a, b)\r\n",
    "    s = np.linalg.norm(v)\r\n",
    "    kmat = np.array([[0, -v[2], v[1]], [v[2], 0, -v[0]], [-v[1], v[0], 0]])\r\n",
    "    rotation_matrix = np.eye(3) + kmat + kmat.dot(kmat) * ((1 - c) / (s ** 2))\r\n",
    "    return rotation_matrix"
   ],
   "outputs": [],
   "metadata": {}
  },
  {
   "cell_type": "markdown",
   "source": [
    "## Q1) \r\n",
    "## a,b & c) \r\n",
    "### Verifying Workspace points through forward & inverse kinematics\r\n",
    "STANFORD MANIPULATOR:"
   ],
   "metadata": {}
  },
  {
   "cell_type": "code",
   "execution_count": 10,
   "source": [
    "\r\n",
    "link_lengths = [0.25, 0.25] # d1 = 0.25,a2 = 0.25 the lengths of the links as per question\r\n",
    "\r\n",
    "############################### Inver Kine_ block\r\n",
    "xc, yc, zc =0.25,0,0.35 #these are the points for which we have to check. These can be changed as required.\r\n",
    "\r\n",
    "\r\n",
    "def Stan_Inv_Kin(xc,yc,zc,link_lengths):\r\n",
    "    def stan_func(x):\r\n",
    "        return [\r\n",
    "                link_lengths[1]*np.cos(x[0]) + x[2]*np.sin(x[1])*np.sin(x[0]) - xc,\r\n",
    "                link_lengths[1]*np.sin(x[0]) + x[2]*np.sin(x[1])*np.cos(x[0]) - yc,\r\n",
    "                link_lengths[0] + x[2]*np.cos(x[1]) - zc\r\n",
    "                ]\r\n",
    "    root = fsolve(stan_func,[1,1,1])\r\n",
    "\r\n",
    "    q1,q2,d = root\r\n",
    "\r\n",
    "    return q1,q2,d\r\n",
    "\r\n",
    "xyz = Stan_Inv_Kin(xc,yc,zc,link_lengths)\r\n",
    "print(xyz)\r\n",
    "\r\n",
    "#####################################\r\n",
    "def stan_forwardkinematics(q1,q2,d,link_lengths):\r\n",
    "    xc = link_lengths[1]*np.cos(q1) + d*np.sin(q2)*np.sin(q1)\r\n",
    "    yc = link_lengths[1]*np.sin(q1) + d*np.sin(q2)*np.cos(q1)\r\n",
    "    zc = link_lengths[0] + d*np.cos(q2)\r\n",
    "\r\n",
    "    return xc,yc,zc"
   ],
   "outputs": [
    {
     "output_type": "stream",
     "name": "stdout",
     "text": [
      "(6.018298436503189e-09, -1.5045746091265623e-08, 0.09999999999999998)\n"
     ]
    }
   ],
   "metadata": {}
  },
  {
   "cell_type": "code",
   "execution_count": 11,
   "source": [
    "Stan_Inv_Kin(0.25, 0.0, 0.35,[0.25,0.25]) "
   ],
   "outputs": [
    {
     "output_type": "execute_result",
     "data": {
      "text/plain": [
       "(6.018298436503189e-09, -1.5045746091265623e-08, 0.09999999999999998)"
      ]
     },
     "metadata": {},
     "execution_count": 11
    }
   ],
   "metadata": {}
  },
  {
   "cell_type": "markdown",
   "source": [
    "PUMA:"
   ],
   "metadata": {}
  },
  {
   "cell_type": "code",
   "execution_count": 12,
   "source": [
    "\r\n",
    "link_lengths = [0.25, 0.25, 0.25] # order : d1, a1, a2 replace d1 with link_lengths[0], a3 with link_lengths[1].\r\n",
    "                                  # a3 with link_lengths[2]\r\n",
    "\r\n",
    "def puma_inverse(xc,yc,zc,link_lengths):\r\n",
    "    solutions = []\r\n",
    "    theta1 = np.arctan2(yc,xc)\r\n",
    "    D = (xc**2 + yc**2 + (zc-link_lengths[0])**2 -link_lengths[1]**2 - link_lengths[2]**2)/(2*link_lengths[1]*link_lengths[2])\r\n",
    "    if abs(D)<=1:\r\n",
    "        theta3 = np.arctan2(np.sqrt(1-D**2),D)\r\n",
    "        theta2 = np.arctan2(zc-link_lengths[0],np.sqrt(xc**2 + yc**2)) - np.arctan2(link_lengths[2]*np.sin(theta3),link_lengths[1] + link_lengths[2]*np.cos(theta3))\r\n",
    "\r\n",
    "        solutions.append([theta1,theta2,theta3])\r\n",
    "\r\n",
    "        theta3 = np.arctan2(-np.sqrt(1-D**2),D)\r\n",
    "        theta2 = np.arctan2(zc-link_lengths[0],np.sqrt(xc**2 + yc**2)) - np.arctan2(link_lengths[2]*np.sin(theta3),link_lengths[1] + link_lengths[2]*np.cos(theta3))\r\n",
    "\r\n",
    "        solutions.append([theta1,theta2,theta3])\r\n",
    "    else:\r\n",
    "        print(\"Error. The given inputs are out of bounds of workspace\")\r\n",
    "    \r\n",
    "    return solutions\r\n",
    "\r\n",
    "def puma_forward(q1,q2,q3):\r\n",
    "    xc = link_lengths[1]*np.cos(q2)*np.cos(q1) + link_lengths[2]*np.cos(q2+q3)*np.cos(q1)\r\n",
    "    yc = link_lengths[1]*np.cos(q2)*np.sin(q1) + link_lengths[2]*np.cos(q2+q3)*np.sin(q1)\r\n",
    "    zc = link_lengths[0] + link_lengths[1]*np.sin(q2) + link_lengths[2]*np.sin(q2+q3)\r\n",
    "\r\n",
    "    return xc,yc,zc\r\n",
    "\r\n",
    "\r\n"
   ],
   "outputs": [],
   "metadata": {}
  },
  {
   "cell_type": "code",
   "execution_count": 13,
   "source": [
    "temp = puma_inverse(0.5,0.0,0.25,[0.25,0.25,0.25]) # the first three arguements are xc, yc & zc respectively\r\n",
    "puma_forward(temp[0][0],temp[0][1],temp[0][2])"
   ],
   "outputs": [
    {
     "output_type": "execute_result",
     "data": {
      "text/plain": [
       "(0.5, 0.0, 0.25)"
      ]
     },
     "metadata": {},
     "execution_count": 13
    }
   ],
   "metadata": {}
  },
  {
   "cell_type": "markdown",
   "source": [
    "SCARA:"
   ],
   "metadata": {}
  },
  {
   "cell_type": "code",
   "execution_count": 14,
   "source": [
    "link_lengths = [0.25, 0.25, 0.25] # d1 , a1, a2 these are the link lengths\r\n",
    "xc,yc,zc = 0,0,0 # these are the points in space for which we have to perform the check \r\n",
    "                # chenge these values as required. default 0 value is assigned.\r\n",
    "def inv_func(x):\r\n",
    "    return [\r\n",
    "            - xc + link_lengths[1]*np.cos(x[0]) + link_lengths[2]*np.cos(x[0]+x[1]),\r\n",
    "            - yc + link_lengths[1]*np.sin(x[0]) + link_lengths[2]*np.sin(x[0]+x[1]),\r\n",
    "            - zc + link_lengths[0] - x[2]\r\n",
    "            ]\r\n",
    "root = fsolve(inv_func,[1,1,1])\r\n",
    "\r\n",
    "q1,q2,d = root\r\n",
    "def scara_inverse(xc,yc,zc):\r\n",
    "    if np.sqrt(xc**2+yc**2)>link_lengths[2] + link_lengths[1]:\r\n",
    "        print(\"No Solution can be Found!\")\r\n",
    "        return []\r\n",
    "    else: \r\n",
    "        def inv_func(x):\r\n",
    "            return [\r\n",
    "                    - xc + link_lengths[1]*np.cos(x[0]) + link_lengths[2]*np.cos(x[0]+x[1]),\r\n",
    "                    - yc + link_lengths[1]*np.sin(x[0]) + link_lengths[2]*np.sin(x[0]+x[1]),\r\n",
    "                    - zc + link_lengths[0] - x[2]\r\n",
    "                    ]\r\n",
    "        root = fsolve(inv_func,[1,1,1])\r\n",
    "\r\n",
    "        q1,q2,d = root\r\n",
    "\r\n",
    "        return [wrapping(q1),wrapping(q2),d]\r\n",
    "\r\n",
    "def scara_forward(q1,q2,d):\r\n",
    "\r\n",
    "    xc = link_lengths[1]*np.cos(q1) + link_lengths[2]*np.cos(q1+q2)\r\n",
    "    yc = link_lengths[1]*np.sin(q1) + link_lengths[2]*np.sin(q1+q2)\r\n",
    "    zc = link_lengths[0] - d\r\n",
    "\r\n",
    "    return xc,yc,zc"
   ],
   "outputs": [],
   "metadata": {}
  },
  {
   "cell_type": "code",
   "execution_count": 16,
   "source": [
    "t1,t2,t3 = scara_forward(np.pi/2,0,2)\r\n",
    "k = scara_inverse(t1,t2,t3)"
   ],
   "outputs": [],
   "metadata": {}
  },
  {
   "cell_type": "markdown",
   "source": [
    "## Q1) \r\n",
    "## e & f) \r\n",
    "### Attaching wrist\r\n",
    "PUMA:"
   ],
   "metadata": {}
  },
  {
   "cell_type": "code",
   "execution_count": 3,
   "source": [
    "links = [1,1,1] # link lengths are as d1 {height}, a1 {link 1}, a2 {link 2} \r\n",
    "def puma_wrist_inv(xt,yt,zt):\r\n",
    "    xc=xt ; \r\n",
    "    yc=yt ; \r\n",
    "    zc=zt+0.05 ; #since the fixed distance of 5 cm has to be mainted, thus the term is added.\r\n",
    "    \r\n",
    "    if abs((xc**2 + yc**2 + (zc-links[0])**2 - links[1]**2 - links[2]**2)/(2*links[1]*links[2])) <= 1:\r\n",
    "        def inv_func(x):\r\n",
    "                return [\r\n",
    "                        -xc + links[1]*np.cos(x[1])*np.cos(x[0]) + links[2]*np.cos(x[1]+x[2])*np.cos(x[0]),\r\n",
    "                        -yc + links[1]*np.cos(x[1])*np.sin(x[0]) + links[2]*np.cos(x[1]+x[2])*np.sin(x[0]),\r\n",
    "                        -zc + links[0] + links[1]*np.sin(x[1]) + links[2]*np.sin(x[1]+x[2]),\r\n",
    "                        ]\r\n",
    "        root = fsolve(inv_func,[1,1,1])\r\n",
    "        q1,q2,q3 = root\r\n",
    "        q1,q2,q3 = wrapping(q1),wrapping(q2),wrapping(q3)\r\n",
    "        dh_param = [[0,np.pi/2,links[0],q1],\r\n",
    "                    [links[1],0,0,q2],\r\n",
    "                    [links[2],0,0,q3]]\r\n",
    "        homo_mat = forward_kinematics_homogenous_matrix(dh_param)\r\n",
    "        jc = []\r\n",
    "        for mat in homo_mat:\r\n",
    "            jc.append(mat[:3,-1])\r\n",
    "        \r\n",
    "        vec1 = jc[-1] - jc[-2]\r\n",
    "        vec2 = [xc-xt,yc-yt,zc -zt]\r\n",
    "\r\n",
    "        rot_mat = rotation_matrix_from_vectors(vec2,vec1) #since we know the direction of two vetors; one at the link & other at the surface\r\n",
    "                                                    # we can obtain a rotation matrix from the two.\r\n",
    "        r = Rotation.from_matrix(rot_mat)\r\n",
    "        euler_ang = r.as_euler('zyx',degrees = False)\r\n",
    "        \r\n",
    "        joint_params = [q1,q2,q3,euler_ang[0],euler_ang[1],euler_ang[2]]\r\n",
    "\r\n",
    "        return joint_params\r\n",
    "    else:\r\n",
    "        print(\"No solution!!\")\r\n",
    "\r\n",
    "def puma_forward_kin(q1,q2,q3,q4,q5,q6):\r\n",
    "    dh_param_p = [[0,np.pi/2,links[0],q1],\r\n",
    "                    [links[1],0,0,q2],\r\n",
    "                    [links[2],0,0,q3],\r\n",
    "                    [0,-np.pi/2,0,q4],\r\n",
    "                    [0,np.pi/2,0,q5],\r\n",
    "                    [0.05,0,0,q6]]\r\n",
    "    homo_mat = forward_kinematics_homogenous_matrix(dh_param_p)\r\n",
    "    "
   ],
   "outputs": [],
   "metadata": {}
  },
  {
   "cell_type": "code",
   "execution_count": 30,
   "source": [
    "#FUNCTION CALLING\r\n",
    "puma_wrist_inv(0.45,0.075,0.25)"
   ],
   "outputs": [
    {
     "output_type": "error",
     "ename": "IndexError",
     "evalue": "list index out of range",
     "traceback": [
      "\u001b[1;31m---------------------------------------------------------------------------\u001b[0m",
      "\u001b[1;31mIndexError\u001b[0m                                Traceback (most recent call last)",
      "\u001b[1;32m~\\AppData\\Local\\Temp/ipykernel_9052/4087651740.py\u001b[0m in \u001b[0;36m<module>\u001b[1;34m\u001b[0m\n\u001b[0;32m      1\u001b[0m \u001b[1;31m#FUNCTION CALLING\u001b[0m\u001b[1;33m\u001b[0m\u001b[1;33m\u001b[0m\u001b[0m\n\u001b[1;32m----> 2\u001b[1;33m \u001b[0mpuma_wrist_inv\u001b[0m\u001b[1;33m(\u001b[0m\u001b[1;36m0.45\u001b[0m\u001b[1;33m,\u001b[0m\u001b[1;36m0.075\u001b[0m\u001b[1;33m,\u001b[0m\u001b[1;36m0.25\u001b[0m\u001b[1;33m)\u001b[0m\u001b[1;33m\u001b[0m\u001b[1;33m\u001b[0m\u001b[0m\n\u001b[0m",
      "\u001b[1;32m~\\AppData\\Local\\Temp/ipykernel_9052/1334934571.py\u001b[0m in \u001b[0;36mpuma_wrist_inv\u001b[1;34m(xt, yt, zt)\u001b[0m\n\u001b[0;32m     23\u001b[0m             \u001b[0mjc\u001b[0m\u001b[1;33m.\u001b[0m\u001b[0mappend\u001b[0m\u001b[1;33m(\u001b[0m\u001b[0mmat\u001b[0m\u001b[1;33m[\u001b[0m\u001b[1;33m:\u001b[0m\u001b[1;36m3\u001b[0m\u001b[1;33m,\u001b[0m\u001b[1;33m-\u001b[0m\u001b[1;36m1\u001b[0m\u001b[1;33m]\u001b[0m\u001b[1;33m)\u001b[0m\u001b[1;33m\u001b[0m\u001b[1;33m\u001b[0m\u001b[0m\n\u001b[0;32m     24\u001b[0m \u001b[1;33m\u001b[0m\u001b[0m\n\u001b[1;32m---> 25\u001b[1;33m         \u001b[0mvec1\u001b[0m \u001b[1;33m=\u001b[0m \u001b[0mjc\u001b[0m\u001b[1;33m[\u001b[0m\u001b[1;33m-\u001b[0m\u001b[1;36m1\u001b[0m\u001b[1;33m]\u001b[0m \u001b[1;33m-\u001b[0m \u001b[0mjc\u001b[0m\u001b[1;33m[\u001b[0m\u001b[1;33m-\u001b[0m\u001b[1;36m2\u001b[0m\u001b[1;33m]\u001b[0m\u001b[1;33m\u001b[0m\u001b[1;33m\u001b[0m\u001b[0m\n\u001b[0m\u001b[0;32m     26\u001b[0m         \u001b[0mvec2\u001b[0m \u001b[1;33m=\u001b[0m \u001b[1;33m[\u001b[0m\u001b[0mxc\u001b[0m\u001b[1;33m-\u001b[0m\u001b[0mxt\u001b[0m\u001b[1;33m,\u001b[0m\u001b[0myc\u001b[0m\u001b[1;33m-\u001b[0m\u001b[0myt\u001b[0m\u001b[1;33m,\u001b[0m\u001b[0mzc\u001b[0m \u001b[1;33m-\u001b[0m\u001b[0mzt\u001b[0m\u001b[1;33m]\u001b[0m\u001b[1;33m\u001b[0m\u001b[1;33m\u001b[0m\u001b[0m\n\u001b[0;32m     27\u001b[0m \u001b[1;33m\u001b[0m\u001b[0m\n",
      "\u001b[1;31mIndexError\u001b[0m: list index out of range"
     ]
    }
   ],
   "metadata": {}
  },
  {
   "cell_type": "markdown",
   "source": [
    "STANFORD:"
   ],
   "metadata": {}
  },
  {
   "cell_type": "code",
   "execution_count": 24,
   "source": [
    "links = [1,1,0.5] # link lengths d1 = 1, a1 = 1 & maximum travel of prismatic joint = 0.5\r\n",
    "def stan_wrist_inv(xt,yt,zt):\r\n",
    "    xc = xt ; \r\n",
    "    yc = yt ; \r\n",
    "    zc = zt+0.05 ; #since the fixed distance of 5 cm has to be mainted, thus the term is added.\r\n",
    "    check = xc**2 + yc**2 + (zc**2 - links[0]**2) - (links[1]**2 + links[2]**2) <= 0 and abs(zc - links[0])<=links[2] and xc**2 + yc**2>=links[1]**2\r\n",
    "    print(check)\r\n",
    "    if check:\r\n",
    "        def inv_func(x):\r\n",
    "                return [\r\n",
    "                        links[1]*np.cos(x[0]) + x[2]*np.sin(x[1])*np.sin(x[0]) - xc,\r\n",
    "                        links[1]*np.sin(x[0]) + x[2]*np.sin(x[1])*np.cos(x[0]) - yc,\r\n",
    "                        links[0] + x[2]*np.cos(x[1]) - zc\r\n",
    "                        ]\r\n",
    "        root = fsolve(inv_func,[1,1,1])\r\n",
    "        q1,q2,d = root\r\n",
    "        q1,q2 = wrapping(q1),wrapping(q2)\r\n",
    "        dh_param_s = [[0,-np.pi/2,links[0],q1],\r\n",
    "                        [0,np.pi/2,links[1],q2],links[0]\r\n",
    "                        [0,0,d,0]]\r\n",
    "        homo_mat_s = forward_kinematics_homogenous_matrix(dh_param_s)\r\n",
    "        jc_s = []\r\n",
    "        for mat in homo_mat_s:\r\n",
    "            jc_s.append(mat[:3,-1])\r\n",
    "        \r\n",
    "        vec1 = jc_s[-1] - jc_s[-2]\r\n",
    "        vec2 = [xc-xt,yc-yt,zc -zt]\r\n",
    "\r\n",
    "        rot_mat = rotation_matrix_from_vectors(vec2,vec1) #since we know the direction of two vetors; one at the link & other at the surface\r\n",
    "                                                    # we can obtain a rotation matrix from the two.\r\n",
    "        r = Rotation.from_matrix(rot_mat)\r\n",
    "        euler_ang = r.as_euler('zyx',degrees = False)\r\n",
    "        \r\n",
    "        joint_params = [q1,q2,q3,euler_ang[0],euler_ang[1],euler_ang[2]]\r\n",
    "\r\n",
    "        return joint_params\r\n",
    "    else:\r\n",
    "        print(\"No solution!!\")\r\n",
    "def stan_forw_wr(q1,q2,d):\r\n",
    "        xc = links[1]*np.cos(q1) + d*np.sin(q2)*np.sin(q1)\r\n",
    "        yc = links[1]*np.sin(q1) + d*np.sin(q2)*np.cos(q1)\r\n",
    "        zc = links[0] + d*np.cos(q2)\r\n",
    "\r\n",
    "        return xc,yc,zc"
   ],
   "outputs": [],
   "metadata": {}
  },
  {
   "cell_type": "markdown",
   "source": [
    "SCARA:"
   ],
   "metadata": {}
  },
  {
   "cell_type": "code",
   "execution_count": 29,
   "source": [
    "links = [1,1,1] #links d1, a1, a2\r\n",
    "def scara_inv(x,y,z):\r\n",
    "    xc = x ; \r\n",
    "    yc = yc ; \r\n",
    "    zc = z + 0.05 ; #since the fixed distance of 5 cm has to be mainted, thus the term is added.\r\n",
    "    if np.sqrt(xc**2+yc**2)>links[2] + links[1]:\r\n",
    "            print(\"No Solution !!\")\r\n",
    "            return []\r\n",
    "else:\r\n",
    "        def inv_func(x):\r\n",
    "                return [\r\n",
    "                        - xc + links[1]*np.cos(x[0]) + links[2]*np.cos(x[0]+x[1]),\r\n",
    "                        - yc + links[1]*np.sin(x[0]) + links[2]*np.sin(x[0]+x[1]),\r\n",
    "                        - zc + links[0] - x[2]\r\n",
    "                        ]\r\n",
    "        root = fsolve(inv_func,[1,1,1])\r\n",
    "\r\n",
    "            q1,q2,d = root\r\n",
    "            q1,q2 = wrapping(q1),wrapping(q2)\r\n",
    "            joint_para = [q1,q2,0,0,0,0]\r\n",
    "            return joint_para\r\n",
    "\r\n",
    "def scara_forw(q1,q2,d):\r\n",
    "\r\n",
    "        xc = links[1]*np.cos(q1) + links[2]*np.cos(q1+q2)\r\n",
    "        yc = links[1]*np.sin(q1) + links[2]*np.sin(q1+q2)\r\n",
    "        zc = links[0] - d\r\n",
    "\r\n",
    "        return xc,yc,zc\r\n"
   ],
   "outputs": [
    {
     "output_type": "error",
     "ename": "SyntaxError",
     "evalue": "invalid syntax (Temp/ipykernel_9052/1115957504.py, line 9)",
     "traceback": [
      "\u001b[1;36m  File \u001b[1;32m\"C:\\Users\\asus\\AppData\\Local\\Temp/ipykernel_9052/1115957504.py\"\u001b[1;36m, line \u001b[1;32m9\u001b[0m\n\u001b[1;33m    else:\u001b[0m\n\u001b[1;37m    ^\u001b[0m\n\u001b[1;31mSyntaxError\u001b[0m\u001b[1;31m:\u001b[0m invalid syntax\n"
     ]
    }
   ],
   "metadata": {}
  },
  {
   "cell_type": "code",
   "execution_count": null,
   "source": [
    "print(scara_inv(0.45,0.075,0.25))"
   ],
   "outputs": [],
   "metadata": {}
  }
 ],
 "metadata": {
  "orig_nbformat": 4,
  "language_info": {
   "name": "python",
   "version": "3.9.7",
   "mimetype": "text/x-python",
   "codemirror_mode": {
    "name": "ipython",
    "version": 3
   },
   "pygments_lexer": "ipython3",
   "nbconvert_exporter": "python",
   "file_extension": ".py"
  },
  "kernelspec": {
   "name": "python3",
   "display_name": "Python 3.9.7 64-bit"
  },
  "interpreter": {
   "hash": "fe44fef87f92f48a3a32707d0df204585f471652bc0ce87358a3ce712bc24db0"
  }
 },
 "nbformat": 4,
 "nbformat_minor": 2
}