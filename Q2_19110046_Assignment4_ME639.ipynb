{
  "nbformat": 4,
  "nbformat_minor": 0,
  "metadata": {
    "colab": {
      "name": "Q2_19110046_Assignment4_ME639.ipynb",
      "provenance": []
    },
    "kernelspec": {
      "name": "python3",
      "display_name": "Python 3"
    },
    "language_info": {
      "name": "python"
    }
  },
  "cells": [
    {
      "cell_type": "code",
      "metadata": {
        "id": "-Aw4nG3Hy5QP"
      },
      "source": [
        "import numpy as np\n",
        "import math\n",
        "from numpy.lib.function_base import extract\n",
        "import scipy"
      ],
      "execution_count": 1,
      "outputs": []
    },
    {
      "cell_type": "code",
      "metadata": {
        "colab": {
          "base_uri": "https://localhost:8080/"
        },
        "id": "O7iqMLkI0I9C",
        "outputId": "fb664cac-6683-4503-a5fd-aa0d49fd63d8"
      },
      "source": [
        "#Input rotation matrix and end effector position with respect to base frame\n",
        "R = np.array(list(map(float, input(\"Enter row-wise elements seperated with space\").split()))).reshape((3,3))\n",
        "d = np.array(list(map(float, input(\"Enter end effector position in the form (x,y,z)\").split()))).reshape((3,1))\n",
        "a1 = float(input(\"Enter a1\"))\n",
        "#distance between base and link 1\n",
        "a2 = float(input(\"Enter a2\"))\n",
        "d4 = float(input(\"Enter distance between O3 and O4(d4)\"))"
      ],
      "execution_count": 21,
      "outputs": [
        {
          "name": "stdout",
          "output_type": "stream",
          "text": [
            "Enter row-wise elements seperated with space0.2 0.3 0.4 0.6 0.7 0.8 0.1 0.5 0.9\n",
            "Enter end effector position in the form (x,y,z)1 2 3\n",
            "Enter a11\n",
            "Enter a21.5\n",
            "Enter distance between O3 and O4(d4)1.5\n"
          ]
        }
      ]
    },
    {
      "cell_type": "code",
      "metadata": {
        "colab": {
          "base_uri": "https://localhost:8080/"
        },
        "id": "QAayjDrHoaaO",
        "outputId": "dac6f4f7-d42a-418d-cb55-fd73d01c294f"
      },
      "source": [
        "print(d[0,0])\n",
        "print(d[1,0])"
      ],
      "execution_count": 19,
      "outputs": [
        {
          "output_type": "stream",
          "name": "stdout",
          "text": [
            "1.0\n",
            "2.0\n",
            "1.224744871391589\n"
          ]
        }
      ]
    },
    {
      "cell_type": "code",
      "metadata": {
        "colab": {
          "base_uri": "https://localhost:8080/"
        },
        "id": "hCMb4IvQ01H5",
        "outputId": "2209028b-b05e-4e93-df85-b109326ca5b0"
      },
      "source": [
        "r = math.sqrt(((d[0,0]**2) + (d[1,0]**2) - (a1**2) - (a2**2))/(2*a1*a2))\n",
        "alpha = math.atan2(R[0,1], R[0,0])\n",
        "theta2 = math.atan(math.sqrt(1 - r**2)/r)\n",
        "theta1 = math.atan2(d[0], d[1]) - math.atan2(a1 + a2*math.cos(theta2), a2*math.sin(theta2))\n",
        "theta3 = 0\n",
        "theta4 = theta1 + theta2 - alpha\n",
        "d3 = d[2] + d4\n",
        "\n",
        "print(\"Theta1 = \", theta1, \"Theta2 = \", theta2, \"Theta3 = \", theta3, \"Theta4 = \", theta4)\n",
        "print(\"d3 = \", d3)"
      ],
      "execution_count": 24,
      "outputs": [
        {
          "output_type": "stream",
          "name": "stdout",
          "text": [
            "Theta1 =  -0.6832464777525331 Theta2 =  0.7016741237876036 Theta3 =  0 Theta4 =  -0.9643660772122585\n",
            "d3 =  [4.5]\n"
          ]
        }
      ]
    },
    {
      "cell_type": "code",
      "metadata": {
        "id": "8g6hjVDrnDin"
      },
      "source": [
        ""
      ],
      "execution_count": null,
      "outputs": []
    }
  ]
}