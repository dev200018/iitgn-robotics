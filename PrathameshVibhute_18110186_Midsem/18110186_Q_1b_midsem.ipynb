{
  "nbformat": 4,
  "nbformat_minor": 0,
  "metadata": {
    "colab": {
      "name": "18110186_Q.1b_midsem.ipynb",
      "provenance": []
    },
    "kernelspec": {
      "name": "python3",
      "display_name": "Python 3"
    },
    "language_info": {
      "name": "python"
    }
  },
  "cells": [
    {
      "cell_type": "markdown",
      "metadata": {
        "id": "ReqNPtsysQJL"
      },
      "source": [
        "#**Q.1B**\n",
        "\n",
        "The inverse kinematics code is referred from given repository.\n",
        "\n",
        "The coordinates (inmetres) of points A, B, C and D are taken as input.\n"
      ]
    },
    {
      "cell_type": "markdown",
      "metadata": {
        "id": "9cpM6cQGH8lp"
      },
      "source": [
        "#**INVERSE KINEMATICS**"
      ]
    },
    {
      "cell_type": "markdown",
      "metadata": {
        "id": "FSD8XP1KsBrc"
      },
      "source": [
        "SCARA (RRP)\n"
      ]
    },
    {
      "cell_type": "code",
      "metadata": {
        "id": "hnTMgC9LwX4W"
      },
      "source": [
        "import numpy as np\n",
        "import math "
      ],
      "execution_count": 3,
      "outputs": []
    },
    {
      "cell_type": "code",
      "metadata": {
        "colab": {
          "base_uri": "https://localhost:8080/"
        },
        "id": "otL6xZkoq6zD",
        "outputId": "8a6a37e9-b9fb-4b5e-a32a-bde8b768f335"
      },
      "source": [
        "ABCD=[]\n",
        "for i in range(4):\n",
        "  xyz=[]\n",
        "  for j in range(3):\n",
        "    xyz.append(float(input(\"Enter coordinate\")))\n",
        "  ABCD.append(xyz)\n",
        "\n"
      ],
      "execution_count": 2,
      "outputs": [
        {
          "name": "stdout",
          "output_type": "stream",
          "text": [
            "Enter coordinate0.45\n",
            "Enter coordinate0.075\n",
            "Enter coordinate0.1\n",
            "Enter coordinate0.45\n",
            "Enter coordinate-0.075\n",
            "Enter coordinate0.1\n",
            "Enter coordinate0.25\n",
            "Enter coordinate-0.075\n",
            "Enter coordinate0.1\n",
            "Enter coordinate0.25\n",
            "Enter coordinate0.075\n",
            "Enter coordinate0.1\n"
          ]
        }
      ]
    },
    {
      "cell_type": "code",
      "metadata": {
        "colab": {
          "base_uri": "https://localhost:8080/"
        },
        "id": "0ICO2ZuQsE0G",
        "outputId": "c01498bc-fe0e-4790-e6b6-9ba9bb9eced7"
      },
      "source": [
        "\n",
        "def scara_invkin(x,y,z,d1,d2):\n",
        "    # using formulae from the textbook\n",
        "    r = (x**2+y**2-d1**2-d2**2)/(2*d1*d2)\n",
        "    theta2 = np.arctan2((1-r**2)**(0.5),r)\n",
        "    theta1 = np.arctan2(y,x) - np.arctan2((d2*np.sin(theta2)),(d1+d2*np.cos(theta2)))\n",
        "    d3 = 0.25-z\n",
        "    # converting from radians to degrees\n",
        "    return theta1,theta2,d3\n",
        "\n",
        "print(\"For point A\") \n",
        "print(scara_invkin(ABCD[0][0],ABCD[0][1],ABCD[0][2],0.25,0.25)) \n",
        "print('\\n')\n",
        "print(\"For point B\") \n",
        "print(scara_invkin(ABCD[1][0],ABCD[1][1],ABCD[1][2],0.25,0.25))\n",
        "print('\\n')\n",
        "print(\"For point C\") \n",
        "print(scara_invkin(ABCD[2][0],ABCD[2][1],ABCD[2][2],0.25,0.25)) \n",
        "print('\\n')\n",
        "print(\"For point D\") \n",
        "print(scara_invkin(ABCD[3][0],ABCD[3][1],ABCD[3][2],0.25,0.25)) \n"
      ],
      "execution_count": 4,
      "outputs": [
        {
          "output_type": "stream",
          "name": "stdout",
          "text": [
            "For point A\n",
            "(-0.256502576982114, 0.8433025087934816, 0.15)\n",
            "\n",
            "\n",
            "For point B\n",
            "(-0.5867999318113676, 0.8433025087934816, 0.15)\n",
            "\n",
            "\n",
            "For point C\n",
            "(-1.313041064939743, 2.0431685409237517, 0.15)\n",
            "\n",
            "\n",
            "For point D\n",
            "(-0.7301274759840087, 2.0431685409237517, 0.15)\n"
          ]
        }
      ]
    },
    {
      "cell_type": "markdown",
      "metadata": {
        "id": "-jMDxh9lsFE6"
      },
      "source": [
        "PUMA (RRR)"
      ]
    },
    {
      "cell_type": "code",
      "metadata": {
        "id": "gBD_TtrKsHdU"
      },
      "source": [
        "def inverse_kinematics(l1,l2,l3,xc,yc,zc):\n",
        "    theta1 = math.atan2(yc,xc)\n",
        "    D = (xc*xc+yc*yc+(zc-l1)*(zc-l1)-l2*l2-l3*l3)/(2*l2*l3)\n",
        "    if D>=1 or D<=-1:\n",
        "        print(\"singular configuration\")\n",
        "    if D>1 or D<-1:\n",
        "        print(\"outside workspace\")\n",
        "    theta3 = (math.atan2((-math.sqrt(1-D*D)),D))\n",
        "    theta2 = math.atan2(zc-l1,(math.sqrt(xc*xc+yc*yc)))-math.atan2((l3*math.sin(theta3)),(l2+l3*math.cos(theta3)))\n",
        "    return theta1,theta2,theta3\n",
        "\n"
      ],
      "execution_count": 7,
      "outputs": []
    },
    {
      "cell_type": "code",
      "metadata": {
        "colab": {
          "base_uri": "https://localhost:8080/"
        },
        "id": "1GKxJOx_GNF1",
        "outputId": "b6e2711d-f633-4f4d-af0b-54de707ed91f"
      },
      "source": [
        "print(\"For point A\") \n",
        "print(inverse_kinematics(0.25,0.25,0.25,ABCD[0][0],ABCD[0][1],ABCD[0][2])) \n",
        "print('\\n')\n",
        "print(\"For point B\") \n",
        "print(inverse_kinematics(0.25,0.25,0.25,ABCD[1][0],ABCD[1][1],ABCD[1][2]))\n",
        "print('\\n')\n",
        "print(\"For point C\") \n",
        "print(inverse_kinematics(0.25,0.25,0.25,ABCD[2][0],ABCD[2][1],ABCD[2][2])) \n",
        "print('\\n')\n",
        "print(\"For point D\") \n",
        "print(inverse_kinematics(0.25,0.25,0.25,ABCD[3][0],ABCD[3][1],ABCD[3][2])) "
      ],
      "execution_count": 8,
      "outputs": [
        {
          "output_type": "stream",
          "name": "stdout",
          "text": [
            "For point A\n",
            "(0.16514867741462683, -0.035547613118469545, -0.564231159727582)\n",
            "\n",
            "\n",
            "For point B\n",
            "(-0.16514867741462683, -0.035547613118469545, -0.564231159727582)\n",
            "\n",
            "\n",
            "For point C\n",
            "(-0.2914567944778671, 0.4030874009041333, -1.8493860291865472)\n",
            "\n",
            "\n",
            "For point D\n",
            "(0.2914567944778671, 0.4030874009041333, -1.8493860291865472)\n"
          ]
        }
      ]
    },
    {
      "cell_type": "markdown",
      "metadata": {
        "id": "nK0ykbOLsIoe"
      },
      "source": [
        "STANFORD (RRP)"
      ]
    },
    {
      "cell_type": "code",
      "metadata": {
        "colab": {
          "base_uri": "https://localhost:8080/"
        },
        "id": "1BQpMWjisN8K",
        "outputId": "0c409fa0-add7-4af4-ef3b-caed76d2de3c"
      },
      "source": [
        "def inverse_stanford(endeffector_position,lengthsoflinks):\n",
        "    theta1 = np.arctan(endeffector_position[1]/endeffector_position[0])\n",
        "    r = np.sqrt(endeffector_position[0]**2 + endeffector_position[1]**2)\n",
        "    s = endeffector_position[2] - lengthsoflinks[0]\n",
        "    theta2 = np.arctan(s/r)\n",
        "    d3 = np.sqrt(r**2 + s**2) - lengthsoflinks[1]\n",
        "    #print(\"First Solution: \\n\", \"Theta1 = \", theta1, \"\\n Theta2 =\", theta2,\"\\n Extension: \", d3, \"\\n\")\n",
        "    #print(\"Second Solution: \\n\", \"Theta1 = \", np.pi + theta1, \"\\n Theta2 =\", np.pi - theta2,\"\\n Extension:\", d3)\n",
        "    return theta1,theta2,d3\n",
        "\n",
        "linklengths=[0.25,0.25]\n",
        "endeffectorA=ABCD[0]\n",
        "endeffectorB=ABCD[1]\n",
        "endeffectorC=ABCD[2]\n",
        "endeffectorD=ABCD[3]\n",
        "\n",
        "print(\"For point A\") \n",
        "print(inverse_stanford(endeffectorA,linklengths)) \n",
        "print('\\n')\n",
        "print(\"For point B\") \n",
        "print(inverse_stanford(endeffectorB,linklengths)) \n",
        "print('\\n')\n",
        "print(\"For point C\") \n",
        "print(inverse_stanford(endeffectorC,linklengths)) \n",
        "print('\\n')\n",
        "print(\"For point D\") \n",
        "print(inverse_stanford(endeffectorD,linklengths))\n",
        "\n"
      ],
      "execution_count": 10,
      "outputs": [
        {
          "output_type": "stream",
          "name": "stdout",
          "text": [
            "For point A\n",
            "(0.16514867741462683, -0.3176631929822606, 0.23023431780746362)\n",
            "\n",
            "\n",
            "For point B\n",
            "(-0.16514867741462683, -0.3176631929822606, 0.23023431780746362)\n",
            "\n",
            "\n",
            "For point C\n",
            "(-0.2914567944778671, -0.5216056136891403, 0.051039864469807406)\n",
            "\n",
            "\n",
            "For point D\n",
            "(0.2914567944778671, -0.5216056136891403, 0.051039864469807406)\n"
          ]
        }
      ]
    },
    {
      "cell_type": "markdown",
      "metadata": {
        "id": "T_u7VELYH03u"
      },
      "source": [
        "#**Forward Kinematics**"
      ]
    },
    {
      "cell_type": "markdown",
      "metadata": {
        "id": "zfSRDNK1MVb6"
      },
      "source": [
        "SCARA (RRP)"
      ]
    },
    {
      "cell_type": "code",
      "metadata": {
        "colab": {
          "base_uri": "https://localhost:8080/"
        },
        "id": "cb4uTgyRMaTU",
        "outputId": "a3deeb54-928b-44f3-963a-8a0a17b546a6"
      },
      "source": [
        "def forward_scara(angles,l):\n",
        "  x=l*np.cos(angles[0])+l*np.cos(angles[0]+angles[1])\n",
        "  y=l*np.sin(angles[0])+l*np.sin(angles[0]+angles[1])\n",
        "  z=l-angles[2] #here angles[2] is d3 from inverse\n",
        "\n",
        "  return x,y,z\n",
        "\n",
        "print(\"xyz for point A\") \n",
        "print(forward_scara(scara_invkin(ABCD[0][0],ABCD[0][1],ABCD[0][2],0.25,0.25),0.25)) \n",
        "print('\\n')\n",
        "print(\"xyz for point B\") \n",
        "print(forward_scara(scara_invkin(ABCD[1][0],ABCD[1][1],ABCD[1][2],0.25,0.25),0.25))\n",
        "print('\\n')\n",
        "print(\"xyz for point C\") \n",
        "print(forward_scara(scara_invkin(ABCD[2][0],ABCD[2][1],ABCD[2][2],0.25,0.25),0.25)) \n",
        "print('\\n')\n",
        "print(\"xyz for point D\") \n",
        "print(forward_scara(scara_invkin(ABCD[3][0],ABCD[3][1],ABCD[3][2],0.25,0.25),0.25)) "
      ],
      "execution_count": 5,
      "outputs": [
        {
          "output_type": "stream",
          "name": "stdout",
          "text": [
            "xyz for point A\n",
            "(0.45, 0.075, 0.1)\n",
            "\n",
            "\n",
            "xyz for point B\n",
            "(0.45, -0.075, 0.1)\n",
            "\n",
            "\n",
            "xyz for point C\n",
            "(0.24999999999999994, -0.07500000000000004, 0.1)\n",
            "\n",
            "\n",
            "xyz for point D\n",
            "(0.24999999999999994, 0.07500000000000001, 0.1)\n"
          ]
        }
      ]
    },
    {
      "cell_type": "markdown",
      "metadata": {
        "id": "lo2VQOo8MaBO"
      },
      "source": [
        "PUMA (RRR)"
      ]
    },
    {
      "cell_type": "code",
      "metadata": {
        "colab": {
          "base_uri": "https://localhost:8080/"
        },
        "id": "cW3mh-TiH0Q1",
        "outputId": "730b9b9a-389d-4d84-bb8a-91ab9c367368"
      },
      "source": [
        "def forward_puma(angles,l):\n",
        " z=l*np.sin(angles[1])+l*np.sin(angles[1]+angles[2])+l\n",
        " r=l*np.cos(angles[1])+l*np.cos(angles[1]+angles[2])\n",
        " x=r*np.cos(angles[0])\n",
        " y=r*np.sin(angles[0])\n",
        " return x,y,z\n",
        "\n",
        "print(\"xyz for point A\") \n",
        "print(forward_puma(inverse_kinematics(0.25,0.25,0.25,ABCD[0][0],ABCD[0][1],ABCD[0][2]),0.25))\n",
        "print('\\n')\n",
        "print(\"xyz for point B\") \n",
        "print(forward_puma(inverse_kinematics(0.25,0.25,0.25,ABCD[1][0],ABCD[1][1],ABCD[1][2]),0.25))\n",
        "print('\\n')\n",
        "print(\"xyz for point C\") \n",
        "print(forward_puma(inverse_kinematics(0.25,0.25,0.25,ABCD[2][0],ABCD[2][1],ABCD[2][2]),0.25)) \n",
        "print('\\n')\n",
        "print(\"xyz for point D\") \n",
        "print(forward_puma(inverse_kinematics(0.25,0.25,0.25,ABCD[3][0],ABCD[3][1],ABCD[3][2]),0.25)) "
      ],
      "execution_count": 9,
      "outputs": [
        {
          "output_type": "stream",
          "name": "stdout",
          "text": [
            "xyz for point A\n",
            "(0.45000000000000007, 0.075, 0.1)\n",
            "\n",
            "\n",
            "xyz for point B\n",
            "(0.45000000000000007, -0.075, 0.1)\n",
            "\n",
            "\n",
            "xyz for point C\n",
            "(0.25, -0.07500000000000001, 0.1)\n",
            "\n",
            "\n",
            "xyz for point D\n",
            "(0.25, 0.07500000000000001, 0.1)\n"
          ]
        }
      ]
    },
    {
      "cell_type": "markdown",
      "metadata": {
        "id": "KBAYIwt9Mf6z"
      },
      "source": [
        "STANFORD (RRP)"
      ]
    },
    {
      "cell_type": "code",
      "metadata": {
        "colab": {
          "base_uri": "https://localhost:8080/"
        },
        "id": "2SKf8MDvMkTs",
        "outputId": "40623d81-81eb-419e-ef7b-70045fc7e169"
      },
      "source": [
        "def forward_stanford(angles,l):\n",
        "  x=(l+angles[2])*np.cos(angles[1])*np.cos(angles[0]) #here angles[2] is d3\n",
        "  y=(l+angles[2])*np.cos(angles[1])*np.sin(angles[0])\n",
        "  z=l+(l+angles[2])*np.sin(angles[1])\n",
        "  return x,y,z\n",
        "\n",
        "print(\"xyz for point A\") \n",
        "print(forward_stanford(inverse_stanford(endeffectorA,linklengths),0.25))\n",
        "print('\\n')\n",
        "print(\"xyz for point B\") \n",
        "print(forward_stanford(inverse_stanford(endeffectorB,linklengths),0.25))\n",
        "print('\\n')\n",
        "print(\"xyz for point C\") \n",
        "print(forward_stanford(inverse_stanford(endeffectorC,linklengths),0.25)) \n",
        "print('\\n')\n",
        "print(\"xyz for point D\") \n",
        "print(forward_stanford(inverse_stanford(endeffectorD,linklengths),0.25)) "
      ],
      "execution_count": 12,
      "outputs": [
        {
          "output_type": "stream",
          "name": "stdout",
          "text": [
            "xyz for point A\n",
            "(0.44999999999999996, 0.07499999999999998, 0.1)\n",
            "\n",
            "\n",
            "xyz for point B\n",
            "(0.44999999999999996, -0.07499999999999998, 0.1)\n",
            "\n",
            "\n",
            "xyz for point C\n",
            "(0.25, -0.07500000000000001, 0.1)\n",
            "\n",
            "\n",
            "xyz for point D\n",
            "(0.25, 0.07500000000000001, 0.1)\n"
          ]
        }
      ]
    }
  ]
}