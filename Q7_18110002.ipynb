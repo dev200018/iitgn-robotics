{
  "nbformat": 4,
  "nbformat_minor": 0,
  "metadata": {
    "colab": {
      "name": "Q7.ipynb",
      "provenance": []
    },
    "kernelspec": {
      "name": "python3",
      "display_name": "Python 3"
    },
    "language_info": {
      "name": "python"
    }
  },
  "cells": [
    {
      "cell_type": "code",
      "metadata": {
        "colab": {
          "base_uri": "https://localhost:8080/"
        },
        "id": "mgnfZ44BW7Td",
        "outputId": "f2c9f449-d3d5-4e85-f233-7237215fd754"
      },
      "source": [
        "import numpy as np\n",
        "l1 = 1\n",
        "l2 = 1\n",
        "l3 = 1\n",
        "theta1 = 0\n",
        "theta2 = 0\n",
        "d = 5\n",
        "R01 = np.array([[np.cos(theta1), -np.sin(theta1), 0],[np.sin(theta1), np.cos(theta1), 0],[0, 0, 1]])\n",
        "d01 = np.array([[l2*np.cos(theta1)],[l2*np.sin(theta1)],[l1]])\n",
        "R12 = np.array([[np.cos(theta2), np.sin(theta2), 0],[np.sin(theta1), -np.cos(theta1), 0],[0, 0, -1]])\n",
        "d12 = np.array([[l3*np.cos(theta2)],[l3*np.sin(theta2)],[0]])\n",
        "R23 = np.array([[1, 0, 0],[0, 1, 0],[0, 0, 1]])\n",
        "d23 = np.array([[0],[0],[d]])\n",
        "\n",
        "temp = np.hstack((R01,d01))\n",
        "H01 = np.vstack((temp, np.array([0, 0, 0, 1])))\n",
        "H12 = np.hstack((R12,d12))\n",
        "H12 = np.vstack((H12, np.array([0, 0, 0, 1])))\n",
        "\n",
        "H23 = np.hstack((R23,d23))\n",
        "H23 = np.vstack((H23, np.array([0, 0, 0, 1])))\n",
        "\n",
        "H02 = np.matmul(H01, H12)\n",
        "H03 = np.matmul(H02, H23)\n",
        "\n",
        "p3 = np.array([[0],[0],[0],[1]])\n",
        "p0 = np.matmul(H03,p3)[0:3]\n",
        "\n",
        "print(p0)"
      ],
      "execution_count": 2,
      "outputs": [
        {
          "output_type": "stream",
          "name": "stdout",
          "text": [
            "[[ 2.]\n",
            " [ 0.]\n",
            " [-4.]]\n"
          ]
        }
      ]
    }
  ]
}