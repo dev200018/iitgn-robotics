{
  "nbformat": 4,
  "nbformat_minor": 0,
  "metadata": {
    "colab": {
      "name": "18110104_Midsem.ipynb",
      "provenance": [],
      "collapsed_sections": [
        "EZrGR4_C3Ob3",
        "jM3fL-64ELEu",
        "gwjHNx5qKMeB"
      ]
    },
    "kernelspec": {
      "name": "python3",
      "display_name": "Python 3"
    },
    "language_info": {
      "name": "python"
    }
  },
  "cells": [
    {
      "cell_type": "code",
      "metadata": {
        "id": "7M1JE19eHA0d"
      },
      "source": [
        "import numpy as np\n",
        "import math"
      ],
      "execution_count": 1,
      "outputs": []
    },
    {
      "cell_type": "markdown",
      "metadata": {
        "id": "jppV_hstEYie"
      },
      "source": [
        "#1a\n"
      ]
    },
    {
      "cell_type": "code",
      "metadata": {
        "colab": {
          "base_uri": "https://localhost:8080/"
        },
        "id": "qprCNh8pFwBC",
        "outputId": "a16f16fd-b854-41c3-f80a-b0aabf8c73d2"
      },
      "source": [
        "#inverse codes used from repository\n",
        "def stanford(endeffector_position,lengthsoflinks):\n",
        "    #innverse kinematics\n",
        "    theta1 = np.arctan(endeffector_position[1]/endeffector_position[0])\n",
        "    r = np.sqrt(endeffector_position[0]**2 + endeffector_position[1]**2)\n",
        "    s = endeffector_position[2] - lengthsoflinks[0]\n",
        "    theta2 = np.arctan(s/r)\n",
        "    d3 = np.sqrt(r**2 + s**2) - lengthsoflinks[1]\n",
        "    print(\"Stanford inverse: \\n\", \"Theta1 = \", theta1, \"rad\\n Theta2 =\", theta2,\"rad\\n Extension= \", d3, \"m\\n\")\n",
        "    #return [theta1,theta2,extension]\n",
        "    #forward kinematics\n",
        "    x=(lengthsoflinks[1]+d3)*math.cos(theta1)*math.cos(theta2)\n",
        "    y=(lengthsoflinks[1]+d3)*math.sin(theta1)*math.cos(theta2)\n",
        "    z=lengthsoflinks[0]+(lengthsoflinks[1]+d3)*math.sin(theta2)\n",
        "    print(\"Stanford forward: \\n\", \"X = \", x, \"m\\n Y =\", y,\"m\\n Z= \", z, \"m\\n\")\n",
        "\n",
        "def scara(endeffector_position,lengthsoflinks):\n",
        "    #inverse Kinematics\n",
        "    r = abs((endeffector_position[0]**2+endeffector_position[1]**2-lengthsoflinks[0]**2-lengthsoflinks[1]**2)/(2*lengthsoflinks[0]*lengthsoflinks[1]))\n",
        "    theta2 = np.arctan(np.sqrt(abs(1-r**2))/r)\n",
        "    theta1 = np.arctan(endeffector_position[1]/endeffector_position[0]) - np.arctan((lengthsoflinks[1]*np.sin(theta2))/(lengthsoflinks[0]+lengthsoflinks[1]*np.cos(theta2)))\n",
        "    d3 = lengthsoflinks[0]-endeffector_position[2]\n",
        "    # converting from radians to degrees\n",
        "    print(\"Scara Inverse: \\n\", \"Theta1 = \", theta1, \"rad\\n Theta2 =\", theta2,\"rad\\n Extension: \", d3, \"m\\n\")\n",
        "    #return [theta1,theta2,Extension]\n",
        "    #forward kinematics\n",
        "    x=lengthsoflinks[0]*math.cos(theta1)+lengthsoflinks[1]*math.cos(theta1+theta2)\n",
        "    y=lengthsoflinks[0]*math.sin(theta1)+lengthsoflinks[1]*math.sin(theta1+theta2)\n",
        "    z=lengthsoflinks[2]-d3\n",
        "    print(\"Scara forward: \\n\", \"X = \", x, \"m\\n Y =\", y,\"m\\n Z= \", z, \"m\\n\")\n",
        "    \n",
        "def puma(endeffector_position,lengthsoflinks):\n",
        "    #Inverse kinematics\n",
        "    theta1 = math.atan2(endeffector_position[1],endeffector_position[0])\n",
        "    D = (endeffector_position[0]**2+endeffector_position[1]**2+(endeffector_position[2]-lengthsoflinks[0])**2-lengthsoflinks[1]**2-lengthsoflinks[2]**2)/(2*lengthsoflinks[1]*lengthsoflinks[2])\n",
        "    if D>=1 or D<=-1:\n",
        "      print(\"singular configuration\")\n",
        "      if D>1 or D<-1:\n",
        "          print(\"outside workspace\")\n",
        "    else:\n",
        "      theta3 = math.atan2((-math.sqrt(1-D*D)),D)\n",
        "      theta2 = math.atan2(endeffector_position[2]-lengthsoflinks[0],(math.sqrt(endeffector_position[0]**2+endeffector_position[1]**2)))-math.atan2((lengthsoflinks[2]*math.sin(theta3)),(lengthsoflinks[1]+lengthsoflinks[2]*math.cos(theta3)))\n",
        "      print(\"puma Inverse: \\n\", \"Theta1 = \", theta1, \"rad\\n Theta2 =\", theta2,\"rad\\n Theta3: \", theta3, \"rad\\n\")\n",
        "      #return [theta1,theta2,theta3]\n",
        "\n",
        "      #forward kinematics\n",
        "      x=(lengthsoflinks[1]*math.cos(theta2)+lengthsoflinks[2]*math.cos(theta2+theta3))*math.cos(theta1)\n",
        "      y=(lengthsoflinks[1]*math.cos(theta2)+lengthsoflinks[2]*math.cos(theta2+theta3))*math.sin(theta1)\n",
        "      z=lengthsoflinks[0]+lengthsoflinks[1]*math.sin(theta2)+lengthsoflinks[2]*math.sin(theta2+theta3)\n",
        "      print(\"puma forward: \\n\", \"X = \", x, \"m\\n Y =\", y,\"m\\n Z= \", z, \"m\\n\")\n",
        "\n",
        "#inputs\n",
        "stanford([0.45, 0.075, 0.1],[0.25,0.25])\n",
        "scara([0.45, 0.075, 0.1],[0.25,0.25,0.25])\n",
        "puma([0.45, 0.075, 0.1],[0.25,0.25,0.25])"
      ],
      "execution_count": 2,
      "outputs": [
        {
          "output_type": "stream",
          "name": "stdout",
          "text": [
            "Stanford inverse: \n",
            " Theta1 =  0.16514867741462683 rad\n",
            " Theta2 = -0.3176631929822606 rad\n",
            " Extension=  0.23023431780746362 m\n",
            "\n",
            "Stanford forward: \n",
            " X =  0.44999999999999996 m\n",
            " Y = 0.07499999999999997 m\n",
            " Z=  0.1 m\n",
            "\n",
            "Scara Inverse: \n",
            " Theta1 =  -0.256502576982114 rad\n",
            " Theta2 = 0.8433025087934816 rad\n",
            " Extension:  0.15 m\n",
            "\n",
            "Scara forward: \n",
            " X =  0.45 m\n",
            " Y = 0.075 m\n",
            " Z=  0.1 m\n",
            "\n",
            "puma Inverse: \n",
            " Theta1 =  0.16514867741462683 rad\n",
            " Theta2 = -0.035547613118469545 rad\n",
            " Theta3:  -0.564231159727582 rad\n",
            "\n",
            "puma forward: \n",
            " X =  0.45000000000000007 m\n",
            " Y = 0.075 m\n",
            " Z=  0.1 m\n",
            "\n"
          ]
        }
      ]
    },
    {
      "cell_type": "markdown",
      "metadata": {
        "id": "gU8sm-8YGFIm"
      },
      "source": [
        "#1b"
      ]
    },
    {
      "cell_type": "code",
      "metadata": {
        "id": "slUxiv98GIAZ",
        "colab": {
          "base_uri": "https://localhost:8080/"
        },
        "outputId": "d79c5123-76f8-4994-ebdb-9c8a1210f7dd"
      },
      "source": [
        "#inverse codes used from repository\n",
        "def inverse_Kinematics(A,B,C,D,type):\n",
        "  lengthsoflinks=[0.25,0.25,0.25]\n",
        "  endeffector_position=[A,B,C,D]\n",
        "\n",
        "  if(type=='scara'):\n",
        "    for i in range(0,4):\n",
        "      #inverse Kinematics\n",
        "      r = abs((endeffector_position[i][0]**2+endeffector_position[i][1]**2-lengthsoflinks[0]**2-lengthsoflinks[1]**2)/(2*lengthsoflinks[0]*lengthsoflinks[1]))\n",
        "      theta2 = np.arctan(np.sqrt(abs(1-r**2))/r)\n",
        "      theta1 = np.arctan(endeffector_position[i][1]/endeffector_position[i][0]) - np.arctan((lengthsoflinks[1]*np.sin(theta2))/(lengthsoflinks[0]+lengthsoflinks[1]*np.cos(theta2)))\n",
        "      d3 = lengthsoflinks[0]-endeffector_position[i][2]\n",
        "      # converting from radians to degrees\n",
        "      print(\"Scara Inverse: \\n\", \"Theta1 = \", theta1, \"rad\\n Theta2 =\", theta2,\"rad\\n Extension: \", d3, \"m\\n\")\n",
        "      #return [theta1,theta2,Extension]\n",
        "      #forward kinematics\n",
        "      x=lengthsoflinks[0]*math.cos(theta1)+lengthsoflinks[1]*math.cos(theta1+theta2)\n",
        "      y=lengthsoflinks[0]*math.sin(theta1)+lengthsoflinks[1]*math.sin(theta1+theta2)\n",
        "      z=lengthsoflinks[2]-d3\n",
        "      print(\"Scara forward: \\n\", \"X = \", x, \"m\\n Y =\", y,\"m\\n Z= \", z, \"m\\n\")\n",
        "\n",
        "\n",
        "  if(type=='puma'):\n",
        "    for i in range(0,4):\n",
        "      #Inverse kinematics\n",
        "      theta1 = math.atan2(endeffector_position[i][1],endeffector_position[i][0])\n",
        "      D = (endeffector_position[i][0]**2+endeffector_position[i][1]**2+(endeffector_position[i][2]-lengthsoflinks[0])**2-lengthsoflinks[1]**2-lengthsoflinks[2]**2)/(2*lengthsoflinks[1]*lengthsoflinks[2])\n",
        "      if D>=1 or D<=-1:\n",
        "        print(\"singular configuration\")\n",
        "        if D>1 or D<-1:\n",
        "          print(\"outside workspace\")\n",
        "      else:\n",
        "        theta3 = math.atan2((-math.sqrt(1-D*D)),D)\n",
        "        theta2 = math.atan2(endeffector_position[i][2]-lengthsoflinks[0],(math.sqrt(endeffector_position[i][0]**2+endeffector_position[i][1]**2)))-math.atan2((lengthsoflinks[2]*math.sin(theta3)),(lengthsoflinks[1]+lengthsoflinks[2]*math.cos(theta3)))\n",
        "        print(\"puma Inverse: \\n\", \"Theta1 = \", theta1, \"rad\\n Theta2 =\", theta2,\"rad\\n Theta3: \", theta3, \"rad\\n\")\n",
        "        #return [theta1,theta2,theta3]\n",
        "\n",
        "        #forward kinematics\n",
        "        x=(lengthsoflinks[1]*math.cos(theta2)+lengthsoflinks[2]*math.cos(theta2+theta3))*math.cos(theta1)\n",
        "        y=(lengthsoflinks[1]*math.cos(theta2)+lengthsoflinks[2]*math.cos(theta2+theta3))*math.sin(theta1)\n",
        "        z=lengthsoflinks[0]+lengthsoflinks[1]*math.sin(theta2)+lengthsoflinks[2]*math.sin(theta2+theta3)\n",
        "        print(\"puma forward: \\n\", \"X = \", x, \"m\\n Y =\", y,\"m\\n Z= \", z, \"m\\n\")\n",
        "\n",
        "  if(type=='stanford'):\n",
        "    for i in range(0,4):\n",
        "      #innverse kinematics\n",
        "      theta1 = np.arctan(endeffector_position[i][1]/endeffector_position[i][0])\n",
        "      r = np.sqrt(endeffector_position[i][0]**2 + endeffector_position[i][1]**2)\n",
        "      s = endeffector_position[i][2] - lengthsoflinks[0]\n",
        "      theta2 = np.arctan(s/r)\n",
        "      d3 = np.sqrt(r**2 + s**2) - lengthsoflinks[1]\n",
        "      print(\"Stanford inverse: \\n\", \"Theta1 = \", theta1, \"rad\\n Theta2 =\", theta2,\"rad\\n Extension= \", d3, \"m\\n\")\n",
        "      #return [theta1,theta2,extension]\n",
        "      #forward kinematics\n",
        "      x=(lengthsoflinks[1]+d3)*math.cos(theta1)*math.cos(theta2)\n",
        "      y=(lengthsoflinks[1]+d3)*math.sin(theta1)*math.cos(theta2)\n",
        "      z=lengthsoflinks[0]+(lengthsoflinks[1]+d3)*math.sin(theta2)\n",
        "      print(\"Stanford forward: \\n\", \"X = \", x,2, \"m\\n Y =\", y,3,\"m\\n Z= \", z, \"m\\n\")\n",
        "\n",
        "\n",
        "inverse_Kinematics([0.45, 0.075, 0.1],[0.45, -0.075, 0.1],[0.25, -0.075, 0.1],[0.25, 0.075, 0.1],'stanford') #mention type as scara or puma or stanford\n",
        "inverse_Kinematics([0.45, 0.075, 0.1],[0.45, -0.075, 0.1],[0.25, -0.075, 0.1],[0.25, 0.075, 0.1],'scara')\n",
        "inverse_Kinematics([0.45, 0.075, 0.1],[0.45, -0.075, 0.1],[0.25, -0.075, 0.1],[0.25, 0.075, 0.1],'puma')"
      ],
      "execution_count": 3,
      "outputs": [
        {
          "output_type": "stream",
          "name": "stdout",
          "text": [
            "Stanford inverse: \n",
            " Theta1 =  0.16514867741462683 rad\n",
            " Theta2 = -0.3176631929822606 rad\n",
            " Extension=  0.23023431780746362 m\n",
            "\n",
            "Stanford forward: \n",
            " X =  0.44999999999999996 2 m\n",
            " Y = 0.07499999999999997 3 m\n",
            " Z=  0.1 m\n",
            "\n",
            "Stanford inverse: \n",
            " Theta1 =  -0.16514867741462683 rad\n",
            " Theta2 = -0.3176631929822606 rad\n",
            " Extension=  0.23023431780746362 m\n",
            "\n",
            "Stanford forward: \n",
            " X =  0.44999999999999996 2 m\n",
            " Y = -0.07499999999999997 3 m\n",
            " Z=  0.1 m\n",
            "\n",
            "Stanford inverse: \n",
            " Theta1 =  -0.2914567944778671 rad\n",
            " Theta2 = -0.5216056136891403 rad\n",
            " Extension=  0.051039864469807406 m\n",
            "\n",
            "Stanford forward: \n",
            " X =  0.25000000000000006 2 m\n",
            " Y = -0.07500000000000001 3 m\n",
            " Z=  0.1 m\n",
            "\n",
            "Stanford inverse: \n",
            " Theta1 =  0.2914567944778671 rad\n",
            " Theta2 = -0.5216056136891403 rad\n",
            " Extension=  0.051039864469807406 m\n",
            "\n",
            "Stanford forward: \n",
            " X =  0.25000000000000006 2 m\n",
            " Y = 0.07500000000000001 3 m\n",
            " Z=  0.1 m\n",
            "\n",
            "Scara Inverse: \n",
            " Theta1 =  -0.256502576982114 rad\n",
            " Theta2 = 0.8433025087934816 rad\n",
            " Extension:  0.15 m\n",
            "\n",
            "Scara forward: \n",
            " X =  0.45 m\n",
            " Y = 0.075 m\n",
            " Z=  0.1 m\n",
            "\n",
            "Scara Inverse: \n",
            " Theta1 =  -0.5867999318113676 rad\n",
            " Theta2 = 0.8433025087934816 rad\n",
            " Extension:  0.15 m\n",
            "\n",
            "Scara forward: \n",
            " X =  0.45 m\n",
            " Y = -0.075 m\n",
            " Z=  0.1 m\n",
            "\n",
            "Scara Inverse: \n",
            " Theta1 =  -0.8406688508108879 rad\n",
            " Theta2 = 1.0984241126660417 rad\n",
            " Extension:  0.15 m\n",
            "\n",
            "Scara forward: \n",
            " X =  0.40848231071263985 m\n",
            " Y = -0.12254469321379194 m\n",
            " Z=  0.1 m\n",
            "\n",
            "Scara Inverse: \n",
            " Theta1 =  -0.25775526185515374 rad\n",
            " Theta2 = 1.0984241126660417 rad\n",
            " Extension:  0.15 m\n",
            "\n",
            "Scara forward: \n",
            " X =  0.40848231071263985 m\n",
            " Y = 0.12254469321379194 m\n",
            " Z=  0.1 m\n",
            "\n",
            "puma Inverse: \n",
            " Theta1 =  0.16514867741462683 rad\n",
            " Theta2 = -0.035547613118469545 rad\n",
            " Theta3:  -0.564231159727582 rad\n",
            "\n",
            "puma forward: \n",
            " X =  0.45000000000000007 m\n",
            " Y = 0.075 m\n",
            " Z=  0.1 m\n",
            "\n",
            "puma Inverse: \n",
            " Theta1 =  -0.16514867741462683 rad\n",
            " Theta2 = -0.035547613118469545 rad\n",
            " Theta3:  -0.564231159727582 rad\n",
            "\n",
            "puma forward: \n",
            " X =  0.45000000000000007 m\n",
            " Y = -0.075 m\n",
            " Z=  0.1 m\n",
            "\n",
            "puma Inverse: \n",
            " Theta1 =  -0.2914567944778671 rad\n",
            " Theta2 = 0.4030874009041333 rad\n",
            " Theta3:  -1.8493860291865472 rad\n",
            "\n",
            "puma forward: \n",
            " X =  0.25 m\n",
            " Y = -0.07500000000000001 m\n",
            " Z=  0.1 m\n",
            "\n",
            "puma Inverse: \n",
            " Theta1 =  0.2914567944778671 rad\n",
            " Theta2 = 0.4030874009041333 rad\n",
            " Theta3:  -1.8493860291865472 rad\n",
            "\n",
            "puma forward: \n",
            " X =  0.25 m\n",
            " Y = 0.07500000000000001 m\n",
            " Z=  0.1 m\n",
            "\n"
          ]
        }
      ]
    },
    {
      "cell_type": "markdown",
      "metadata": {
        "id": "kLGiVfzBiw_l"
      },
      "source": [
        "#1c\n",
        "5cm X 5cm square"
      ]
    },
    {
      "cell_type": "code",
      "metadata": {
        "colab": {
          "base_uri": "https://localhost:8080/"
        },
        "id": "MqJRhMaNiwnh",
        "outputId": "66f84470-e184-4151-eca6-175c06251840"
      },
      "source": [
        "#mention type as scara or puma or stanford\n",
        "\n",
        "inverse_Kinematics([0.40, 0.06, 0.1],[0.40, 0.01, 0.1],[0.35, 0.01, 0.1],[0.35, 0.06, 0.1],'scara') \n",
        "inverse_Kinematics([0.40, 0.06, 0.1],[0.40, 0.01, 0.1],[0.35, 0.01, 0.1],[0.35, 0.06, 0.1],'puma')\n",
        "inverse_Kinematics([0.40, 0.06, 0.1],[0.40, 0.01, 0.1],[0.35, 0.01, 0.1],[0.35, 0.06, 0.1],'stanford')"
      ],
      "execution_count": 4,
      "outputs": [
        {
          "output_type": "stream",
          "name": "stdout",
          "text": [
            "Scara Inverse: \n",
            " Theta1 =  -0.4795426595751926 rad\n",
            " Theta2 = 1.2568652143693797 rad\n",
            " Extension:  0.15 m\n",
            "\n",
            "Scara forward: \n",
            " X =  0.4 m\n",
            " Y = 0.06 m\n",
            " Z=  0.1 m\n",
            "\n",
            "Scara Inverse: \n",
            " Theta1 =  -0.6180895978105604 rad\n",
            " Theta2 = 1.2861687828589612 rad\n",
            " Extension:  0.15 m\n",
            "\n",
            "Scara forward: \n",
            " X =  0.4 m\n",
            " Y = 0.010000000000000009 m\n",
            " Z=  0.1 m\n",
            "\n",
            "Scara Inverse: \n",
            " Theta1 =  -0.7472339156368221 rad\n",
            " Theta2 = 1.5515951469511642 rad\n",
            " Extension:  0.15 m\n",
            "\n",
            "Scara forward: \n",
            " X =  0.3567857688147206 m\n",
            " Y = 0.010193879108992027 m\n",
            " Z=  0.1 m\n",
            "\n",
            "Scara Inverse: \n",
            " Theta1 =  -0.6112198326377974 rad\n",
            " Theta2 = 1.5619962132122718 rad\n",
            " Extension:  0.15 m\n",
            "\n",
            "Scara forward: \n",
            " X =  0.35 m\n",
            " Y = 0.06 m\n",
            " Z=  0.1 m\n",
            "\n",
            "puma Inverse: \n",
            " Theta1 =  0.14888994760949723 rad\n",
            " Theta2 = 0.1749129587876629 rad\n",
            " Theta3:  -1.0600826270863724 rad\n",
            "\n",
            "puma forward: \n",
            " X =  0.39999999999999997 m\n",
            " Y = 0.05999999999999999 m\n",
            " Z=  0.10000000000000003 m\n",
            "\n",
            "puma Inverse: \n",
            " Theta1 =  0.02499479361892016 rad\n",
            " Theta2 = 0.18728199258035144 rad\n",
            " Theta3:  -1.0918999346093923 rad\n",
            "\n",
            "puma forward: \n",
            " X =  0.4000000000000001 m\n",
            " Y = 0.010000000000000002 m\n",
            " Z=  0.10000000000000003 m\n",
            "\n",
            "puma Inverse: \n",
            " Theta1 =  0.028563657838759998 rad\n",
            " Theta2 = 0.29990350570505653 rad\n",
            " Theta3:  -1.4092951796178457 rad\n",
            "\n",
            "puma forward: \n",
            " X =  0.35 m\n",
            " Y = 0.01 m\n",
            " Z=  0.10000000000000003 m\n",
            "\n",
            "puma Inverse: \n",
            " Theta1 =  0.16977827396833844 rad\n",
            " Theta2 = 0.29075369217343694 rad\n",
            " Theta3:  -1.3808563007082255 rad\n",
            "\n",
            "puma forward: \n",
            " X =  0.35 m\n",
            " Y = 0.05999999999999999 m\n",
            " Z=  0.09999999999999998 m\n",
            "\n",
            "Stanford inverse: \n",
            " Theta1 =  0.14888994760949725 rad\n",
            " Theta2 = -0.3551283547555233 rad\n",
            " Extension=  0.18139309220245986 m\n",
            "\n",
            "Stanford forward: \n",
            " X =  0.4 2 m\n",
            " Y = 0.06000000000000001 3 m\n",
            " Z=  0.1 m\n",
            "\n",
            "Stanford inverse: \n",
            " Theta1 =  0.024994793618920156 rad\n",
            " Theta2 = -0.3586679747243447 rad\n",
            " Extension=  0.17731721238443 m\n",
            "\n",
            "Stanford forward: \n",
            " X =  0.4000000000000001 2 m\n",
            " Y = 0.01 3 m\n",
            " Z=  0.1 m\n",
            "\n",
            "Stanford inverse: \n",
            " Theta1 =  0.028563657838759998 rad\n",
            " Theta2 = -0.4047440841038663 rad\n",
            " Extension=  0.13091993909481814 m\n",
            "\n",
            "Stanford forward: \n",
            " X =  0.3499999999999999 2 m\n",
            " Y = 0.01 3 m\n",
            " Z=  0.10000000000000003 m\n",
            "\n",
            "Stanford inverse: \n",
            " Theta1 =  0.16977827396833844 rad\n",
            " Theta2 = -0.3996744581806758 rad\n",
            " Extension=  0.13548670534792762 m\n",
            "\n",
            "Stanford forward: \n",
            " X =  0.35 2 m\n",
            " Y = 0.06 3 m\n",
            " Z=  0.1 m\n",
            "\n"
          ]
        }
      ]
    },
    {
      "cell_type": "markdown",
      "metadata": {
        "id": "EZrGR4_C3Ob3"
      },
      "source": [
        "#3b\n",
        "\n"
      ]
    },
    {
      "cell_type": "code",
      "metadata": {
        "id": "EV6NLreO1ZLE",
        "colab": {
          "resources": {
            "http://localhost:8080/nbextensions/google.colab/files.js": {
              "data": "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",
              "ok": true,
              "headers": [
                [
                  "content-type",
                  "application/javascript"
                ]
              ],
              "status": 200,
              "status_text": ""
            }
          },
          "base_uri": "https://localhost:8080/",
          "height": 109
        },
        "outputId": "066a07f1-c815-4640-c639-5fbaaf49572d"
      },
      "source": [
        "import pandas as pd\n",
        "import io\n",
        "import csv\n",
        "from google.colab import files\n",
        "print(\"choose Gait_DATA.xlsx file\\n\")\n",
        "uploaded = files.upload()\n",
        "#upload the excel file by clicking the Choose file button"
      ],
      "execution_count": 5,
      "outputs": [
        {
          "output_type": "stream",
          "name": "stdout",
          "text": [
            "choose Gait_DATA.xlsx file\n",
            "\n"
          ]
        },
        {
          "output_type": "display_data",
          "data": {
            "text/html": [
              "\n",
              "     <input type=\"file\" id=\"files-d8971341-72e0-409c-9cbf-06ad8adbfa36\" name=\"files[]\" multiple disabled\n",
              "        style=\"border:none\" />\n",
              "     <output id=\"result-d8971341-72e0-409c-9cbf-06ad8adbfa36\">\n",
              "      Upload widget is only available when the cell has been executed in the\n",
              "      current browser session. Please rerun this cell to enable.\n",
              "      </output>\n",
              "      <script src=\"/nbextensions/google.colab/files.js\"></script> "
            ],
            "text/plain": [
              "<IPython.core.display.HTML object>"
            ]
          },
          "metadata": {}
        },
        {
          "output_type": "stream",
          "name": "stdout",
          "text": [
            "Saving Gait_DATA.xlsx to Gait_DATA.xlsx\n"
          ]
        }
      ]
    },
    {
      "cell_type": "code",
      "metadata": {
        "colab": {
          "base_uri": "https://localhost:8080/",
          "height": 621
        },
        "id": "1ODJRk9384bn",
        "outputId": "abd83415-1132-44ba-867b-176850256108"
      },
      "source": [
        "from pandas import read_excel\n",
        "import pandas as pd\n",
        "import matplotlib.pyplot as plt\n",
        "my_sheet = 'Sheet1' # change it to your sheet name\n",
        "file_name = 'Gait_DATA.xlsx' # name of excel file\n",
        "df = read_excel(file_name, sheet_name = my_sheet)\n",
        "\n",
        "x = list(df['X (cm)'])\n",
        "y = list(df['Y (cm)'])\n",
        "\n",
        "plt.figure(figsize=(10,10))\n",
        "plt.scatter(x,y,marker=\"o\",s=10,c=\"red\")\n",
        "plt.xlabel(\"X (cm)\")\n",
        "plt.ylabel(\"Y (cm)\")\n",
        "plt.title(\"Ankel Co-ordinates\")\n",
        "plt.show()"
      ],
      "execution_count": 6,
      "outputs": [
        {
          "output_type": "display_data",
          "data": {
            "image/png": "[encoded data removed]",
            "text/plain": [
              "<Figure size 720x720 with 1 Axes>"
            ]
          },
          "metadata": {
            "needs_background": "light"
          }
        }
      ]
    },
    {
      "cell_type": "markdown",
      "metadata": {
        "id": "jM3fL-64ELEu"
      },
      "source": [
        "#3C"
      ]
    },
    {
      "cell_type": "code",
      "metadata": {
        "id": "PhUuhuUeENSa"
      },
      "source": [
        ""
      ],
      "execution_count": 6,
      "outputs": []
    },
    {
      "cell_type": "markdown",
      "metadata": {
        "id": "gwjHNx5qKMeB"
      },
      "source": [
        "#4b"
      ]
    },
    {
      "cell_type": "code",
      "metadata": {
        "id": "JY4K_hGuKO6f"
      },
      "source": [
        ""
      ],
      "execution_count": 6,
      "outputs": []
    }
  ]
}