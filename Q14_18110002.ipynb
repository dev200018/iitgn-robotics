{
  "nbformat": 4,
  "nbformat_minor": 0,
  "metadata": {
    "colab": {
      "name": "Q14.ipynb",
      "provenance": []
    },
    "kernelspec": {
      "name": "python3",
      "display_name": "Python 3"
    },
    "language_info": {
      "name": "python"
    }
  },
  "cells": [
    {
      "cell_type": "code",
      "metadata": {
        "colab": {
          "base_uri": "https://localhost:8080/"
        },
        "id": "thlpfq8bsDn9",
        "outputId": "785a3387-2921-47cb-b431-3a2c8a8e1cff"
      },
      "source": [
        "import numpy as np\n",
        "\n",
        "theta1 = 0\n",
        "theta2 = np.pi/2\n",
        "theta3 = np.pi/4\n",
        "\n",
        "l1 = 1\n",
        "l2 = 1\n",
        "l3 = 1\n",
        "\n",
        "p1 = 1\n",
        "p2 = 1\n",
        "p3 = 1\n",
        "\n",
        "z0 = np.array([[0,0,1]])\n",
        "z1 = z0\n",
        "z2 = z0\n",
        "o0 = np.array([[0,0,0]])\n",
        "o1 = np.array([[l1*np.cos(theta1),l1*np.sin(theta1),0]])\n",
        "o2 = np.array([[l1*np.cos(theta1)+l2*np.cos(theta2),l1*np.sin(theta1)+l2*np.sin(theta2),0]])\n",
        "o3 = np.array([[l1*np.cos(theta1)+l2*np.cos(theta2)+l3*np.cos(theta3),l1*np.sin(theta1)+l2*np.sin(theta2)+l3*np.sin(theta3),0]])\n",
        "\n",
        "Jw1 = p1*z0\n",
        "Jw2 = p2*z1\n",
        "Jw3 = p3*z2\n",
        "Jv1 = np.cross(z0, (o3-o0))\n",
        "Jv2 = np.cross(z1, (o3-o1))\n",
        "Jv3 = np.cross(z2, (o3-o2))\n",
        "\n",
        "Jw1 = np.reshape(Jw1, (3,1))\n",
        "Jw2 = np.reshape(Jw2, (3,1))\n",
        "Jw3 = np.reshape(Jw3, (3,1))\n",
        "Jv1 = np.reshape(Jv1, (3,1))\n",
        "Jv2 = np.reshape(Jv2, (3,1))\n",
        "Jv3 = np.reshape(Jv3, (3,1))\n",
        "\n",
        "J1 = np.vstack((Jv1, Jw1))\n",
        "J2 = np.vstack((Jv2, Jw2))\n",
        "J3 = np.vstack((Jv3, Jw3))\n",
        "\n",
        "temp = np.hstack((J1, J2))\n",
        "J = np.hstack((temp, J3))\n",
        "\n",
        "print(J)"
      ],
      "execution_count": 6,
      "outputs": [
        {
          "output_type": "stream",
          "name": "stdout",
          "text": [
            "[[-1.70710678 -1.70710678 -0.70710678]\n",
            " [ 1.70710678  0.70710678  0.70710678]\n",
            " [ 0.          0.          0.        ]\n",
            " [ 0.          0.          0.        ]\n",
            " [ 0.          0.          0.        ]\n",
            " [ 1.          1.          1.        ]]\n"
          ]
        }
      ]
    }
  ]
}