{
  "nbformat": 4,
  "nbformat_minor": 0,
  "metadata": {
    "colab": {
      "name": "Chaman_Modi_20310015_Assignment2.ipynb",
      "provenance": [],
      "collapsed_sections": []
    },
    "kernelspec": {
      "name": "python3",
      "display_name": "Python 3"
    },
    "language_info": {
      "name": "python"
    }
  },
  "cells": [
    {
      "cell_type": "markdown",
      "metadata": {
        "id": "weSvIESqSRuO"
      },
      "source": [
        "### ME 639: Introduction to Robotics | Assignment - 2\n",
        "##### Chaman Modi | 20310015\n",
        "Importing libraries and creating basic rotation functions"
      ]
    },
    {
      "cell_type": "code",
      "metadata": {
        "id": "PNOXA4YMK8bq"
      },
      "source": [
        "import numpy as np\n",
        "import scipy as sci\n",
        "import sympy as sp\n",
        "import matplotlib.pyplot as plt\n",
        "import math\n",
        "\n",
        "# Creating symbolic variables\n",
        "Rx,Ry,Rz,theta = sp.symbols('Rx,Ry,Rz,theta')\n",
        "\n",
        "# Basic rotation matrix about x axis\n",
        "Rx = sp.Matrix([\n",
        "                [1,0,0],\n",
        "                [0,sp.cos(theta),-sp.sin(theta)],\n",
        "                [0,sp.sin(theta),sp.cos(theta)]\n",
        "                ])\n",
        "\n",
        "# Basic rotation matrix about y axis\n",
        "Ry = sp.Matrix([\n",
        "                [sp.cos(theta),0,sp.sin(theta)],\n",
        "                [0,1,0],\n",
        "                [-sp.sin(theta),0,sp.cos(theta)]\n",
        "                ])\n",
        "\n",
        "# Basic rotation matrix about z axis\n",
        "Rz = sp.Matrix([\n",
        "                [sp.cos(theta),-sp.sin(theta),0],\n",
        "                [sp.sin(theta),sp.cos(theta),0],\n",
        "                [0,0,1]\n",
        "                ])\n",
        "\n",
        "# Rotation matrix for rotation about an arbitrary axis k = [kx ky kz]' by angle theta\n",
        "kx,ky,kz,theta = sp.symbols('kx,ky,kz,theta')\n",
        "ct = sp.cos(theta)\n",
        "st = sp.sin(theta)\n",
        "vt = 1-sp.cos(theta)\n",
        "Rk = sp.Matrix([\n",
        "                [kx**2*vt*ct, kx*ky*vt-kz*st, kz*kz*vt+ky*st],\n",
        "                [kx*ky*vt+kz*st, ky**2*vt+ct, ky*kz*vt-kx*st],\n",
        "                [kx*kz*vt-ky*st, ky*kz*vt+kx*st, kz**2*vt+ct]\n",
        "                ])\n",
        "\n",
        "# Axis angle representation\n",
        "def axis_angle(R):\n",
        "  theta = np.arccos((R.trace()-1)/2)\n",
        "  k = (1/(2*np.sin(theta)))*np.array([\n",
        "                                      [R[2][1]-R[1][2]],\n",
        "                                      [R[0][2]-R[2][0]],\n",
        "                                      [R[1][0]-R[0][1]]\n",
        "                                    ])\n",
        "  return [k, theta]"
      ],
      "execution_count": 36,
      "outputs": []
    },
    {
      "cell_type": "markdown",
      "metadata": {
        "id": "5RBK42sFXv7Y"
      },
      "source": [
        "## **Solution 7**\n",
        "Python code for RRP SCARA configuration.\n",
        "\n",
        "Following are the variables used in formulation of homogenous transformation.\n",
        "#####As shown in the derivation of problem 6, we use the same variables for subsequent developement\n",
        "###### $a_1$ = length of $1^{st}$ link \n",
        "###### $a_2$ = length of $2^{nd}$ link\n",
        "###### $a_3$ = length of $3^{rd}$ link\n",
        "###### $a_4$ = length of $4^{th}$ link\n",
        "###### $q_2$ = angle of rotation of link 2\n",
        "###### $q_3$ = angle of rotation of link 3\n",
        "###### $d$ = extension in the link 4 along the $a_4$\n",
        "*(Please refer schematics drawn in PDF file for abrivations used)*"
      ]
    },
    {
      "cell_type": "code",
      "metadata": {
        "colab": {
          "base_uri": "https://localhost:8080/",
          "height": 135
        },
        "id": "uvVSnrLeY2di",
        "outputId": "1b21e247-12be-4a6e-dd5a-63cc544399e0"
      },
      "source": [
        "# Creating above mentioned symbolic variables\n",
        "a1,a2,a3,a4,d,q2,q3 = sp.symbols('a1,a2,a3,a4,d,q2,q3')\n",
        "\n",
        "# Linear transformations\n",
        "d01 = np.array([[0],[0],[a1]])\n",
        "d12 = np.array([[0],[0],[0]])\n",
        "d23 = np.array([[a2],[0],[0]])\n",
        "\n",
        "# Rotational transformations\n",
        "R01 = Rz.subs(theta,0)\n",
        "R12 = Rz.subs(theta,q2)\n",
        "R23 = Rz.subs(theta,q3)\n",
        "\n",
        "# Homogenous transformatin matrices\n",
        "H01 = np.concatenate((np.concatenate((R01,d01),1),np.array([np.append(np.zeros(3),1)])))\n",
        "H12 = np.concatenate((np.concatenate((R12,d12),1),np.array([np.append(np.zeros(3),1)])))\n",
        "H23 = np.concatenate((np.concatenate((R23,d23),1),np.array([np.append(np.zeros(3),1)])))\n",
        "\n",
        "# Position vector of end effector with respect to last refrence frame\n",
        "p3 = np.array([[a3],[0],[-a4-d],[1]])\n",
        "\n",
        "# Position vector p0 with respect to base frame\n",
        "p0 = H01@H12@H23@p3\n",
        "\n",
        "# Let's save variable p0, since it will be used in problem no. 11\n",
        "p0_11 = p0\n",
        "\n",
        "# Finally end effector position vector\n",
        "print('Position vector of end effector with respect to base frame i.e. p0\\n')\n",
        "sp.simplify(p0)\n",
        "\n",
        "\n",
        "\n"
      ],
      "execution_count": 37,
      "outputs": [
        {
          "output_type": "stream",
          "name": "stdout",
          "text": [
            "Position vector of end effector with respect to base frame i.e. p0\n",
            "\n"
          ]
        },
        {
          "output_type": "execute_result",
          "data": {
            "text/latex": "$\\displaystyle \\left[\\begin{matrix}a_{2} \\cos{\\left(q_{2} \\right)} + a_{3} \\cos{\\left(q_{2} + q_{3} \\right)}\\\\a_{2} \\sin{\\left(q_{2} \\right)} + a_{3} \\sin{\\left(q_{2} + q_{3} \\right)}\\\\1.0 a_{1} - a_{4} - d\\\\1.0\\end{matrix}\\right]$",
            "text/plain": [
              "[[a2*cos(q2) + a3*cos(q2 + q3)], [a2*sin(q2) + a3*sin(q2 + q3)], [1.0*a1 - a4 - d], [1.0]]"
            ]
          },
          "metadata": {},
          "execution_count": 37
        }
      ]
    },
    {
      "cell_type": "markdown",
      "metadata": {
        "id": "dorY1TnDIRFK"
      },
      "source": [
        "## **Solution 8**\n",
        "Python code for RRP Stanford type configuration.\n",
        "\n",
        "Following are the variables used in formulation of homogenous transformation.\n",
        "#####As shown in the derivation of problem 8, we use the same variables for subsequent developement\n",
        "###### $a_1$ = length of $1^{st}$ link \n",
        "###### $a_2$ = length of $2^{nd}$ link \n",
        "###### $d_3$ = extension in the link 2 along the $a_2$\n",
        "###### $q_1$ = angle of rotation of link 1\n",
        "###### $q_2$ = angle of rotation of link 2\n",
        "*(Please refer schematics drawn in PDF file for abrivations used)*"
      ]
    },
    {
      "cell_type": "code",
      "metadata": {
        "colab": {
          "base_uri": "https://localhost:8080/",
          "height": 135
        },
        "id": "WEQr68-qK9di",
        "outputId": "c9a4a3f4-4a67-4dd0-e632-a8b6fa60022a"
      },
      "source": [
        "# Creating above mentioned symbolic variables\n",
        "a1,a2,d3,q1,q2 = sp.symbols('a1,a2,d3,q1,q2')\n",
        "\n",
        "# Linear transformations\n",
        "d01 = np.array([[0],[0],[0]])\n",
        "d12 = np.array([[0],[0],[a1]])\n",
        "d23 = np.array([[a2],[0],[0]])\n",
        "\n",
        "# Rotational transformations\n",
        "R01 = Rz.subs(theta,q1)\n",
        "R12 = Rx.subs(theta,np.pi/2)@Rz.subs(theta,q2)\n",
        "R23 = Rz.subs(theta,0)\n",
        "\n",
        "# Homogenous transformatin matrices\n",
        "H01 = np.concatenate((np.concatenate((R01,d01),1),np.array([np.append(np.zeros(3),1)])))\n",
        "H12 = np.concatenate((np.concatenate((R12,d12),1),np.array([np.append(np.zeros(3),1)])))\n",
        "H23 = np.concatenate((np.concatenate((R23,d23),1),np.array([np.append(np.zeros(3),1)])))\n",
        "\n",
        "# Position vector of end effector with respect to last refrence frame\n",
        "p3 = np.array([[d3],[0],[0],[1]])\n",
        "\n",
        "# Position vector p0 with respect to base frame\n",
        "p0 = H01@H12@H23@p3\n",
        "print('Position vector of end effector with respect to base frame i.e. p0\\n')\n",
        "sp.simplify(p0)"
      ],
      "execution_count": 38,
      "outputs": [
        {
          "output_type": "stream",
          "name": "stdout",
          "text": [
            "Position vector of end effector with respect to base frame i.e. p0\n",
            "\n"
          ]
        },
        {
          "output_type": "execute_result",
          "data": {
            "text/latex": "$\\displaystyle \\left[\\begin{matrix}- \\left(a_{2} + d_{3}\\right) \\left(6.12323399573677 \\cdot 10^{-17} \\sin{\\left(q_{1} \\right)} \\sin{\\left(q_{2} \\right)} - \\cos{\\left(q_{1} \\right)} \\cos{\\left(q_{2} \\right)}\\right)\\\\\\left(a_{2} + d_{3}\\right) \\left(\\sin{\\left(q_{1} \\right)} \\cos{\\left(q_{2} \\right)} + 6.12323399573677 \\cdot 10^{-17} \\sin{\\left(q_{2} \\right)} \\cos{\\left(q_{1} \\right)}\\right)\\\\1.0 a_{1} + 1.0 a_{2} \\sin{\\left(q_{2} \\right)} + 1.0 d_{3} \\sin{\\left(q_{2} \\right)}\\\\1.0\\end{matrix}\\right]$",
            "text/plain": [
              "[[-(a2 + d3)*(6.12323399573677e-17*sin(q1)*sin(q2) - cos(q1)*cos(q2))], [(a2 + d3)*(sin(q1)*cos(q2) + 6.12323399573677e-17*sin(q2)*cos(q1))], [1.0*a1 + 1.0*a2*sin(q2) + 1.0*d3*sin(q2)], [1.0]]"
            ]
          },
          "metadata": {},
          "execution_count": 38
        }
      ]
    },
    {
      "cell_type": "markdown",
      "metadata": {
        "id": "MASpnMy_PVw6"
      },
      "source": [
        "## **Solution 9**\n",
        "Python code for drone problem.\n",
        "\n",
        "#####Based on the given translation and rotation values we apply homogenous transformation to obtain posistion of obstacle.\n",
        "\n",
        "*(Please refer schematics drawn in PDF file for details)*"
      ]
    },
    {
      "cell_type": "code",
      "metadata": {
        "colab": {
          "base_uri": "https://localhost:8080/",
          "height": 132
        },
        "id": "4XVohYhYPXF1",
        "outputId": "e9a464fa-cf91-47c9-e579-ae2d2cbea090"
      },
      "source": [
        "# Linear transformations\n",
        "d01 = np.array([[0],[0],[10]])\n",
        "d12 = np.array([[0],[0],[0]])\n",
        "d23 = np.array([[0],[0],[3]])\n",
        "\n",
        "# Rotational transformations\n",
        "R01 = Rz.subs(theta,0)\n",
        "R12 = Rx.subs(theta,np.pi/6)@Rz.subs(theta,np.pi/3)\n",
        "\n",
        "# Homogenous transformatin matrices\n",
        "H01 = np.concatenate((np.concatenate((R01,d01),1),np.array([np.append(np.zeros(3),1)])))\n",
        "H12 = np.concatenate((np.concatenate((R12,d12),1),np.array([np.append(np.zeros(3),1)])))\n",
        "\n",
        "# Position vector of end effector with respect to last refrence frame\n",
        "p3 = np.array([[0],[0],[3],[1]])\n",
        "\n",
        "# Position vector p0 with respect to base frame\n",
        "p0 = H01@H12@p3\n",
        "print('Position vector of obstacle with respect to base frame i.e. p0\\n')\n",
        "sp.simplify(p0)"
      ],
      "execution_count": 39,
      "outputs": [
        {
          "output_type": "stream",
          "name": "stdout",
          "text": [
            "Position vector of obstacle with respect to base frame i.e. p0\n",
            "\n"
          ]
        },
        {
          "output_type": "execute_result",
          "data": {
            "text/latex": "$\\displaystyle \\left[\\begin{matrix}0\\\\-1.5\\\\12.5980762113533\\\\1.0\\end{matrix}\\right]$",
            "text/plain": [
              "[[0], [-1.5], [12.5980762113533], [1.0]]"
            ]
          },
          "metadata": {},
          "execution_count": 39
        }
      ]
    },
    {
      "cell_type": "markdown",
      "metadata": {
        "id": "cM-lFCFq9RCT"
      },
      "source": [
        "## **Solution 12**\n",
        "\n",
        "#####Jacobian matrix for RRP SCARA configuration."
      ]
    },
    {
      "cell_type": "code",
      "metadata": {
        "colab": {
          "base_uri": "https://localhost:8080/",
          "height": 230
        },
        "id": "CcyOXcp59501",
        "outputId": "028677bc-8419-4e4e-8090-77a0e9cd8f45"
      },
      "source": [
        "# Creating above mentioned symbolic variables\n",
        "a1,a2,a3,a4,d,q2,q3 = sp.symbols('a1,a2,a3,a4,d,q2,q3')\n",
        "\n",
        "# Linear transformations\n",
        "d01 = np.array([[0],[0],[a1]])\n",
        "d12 = np.array([[0],[0],[0]])\n",
        "d23 = np.array([[a2],[0],[0]])\n",
        "\n",
        "# Rotational transformations\n",
        "R01 = Rz.subs(theta,0)\n",
        "R12 = Rz.subs(theta,q2)\n",
        "R23 = Rz.subs(theta,q3)\n",
        "\n",
        "# Homogenous transformatin matrices\n",
        "H01 = np.concatenate((np.concatenate((R01,d01),1),np.array([np.append(np.zeros(3),1)])))\n",
        "H12 = np.concatenate((np.concatenate((R12,d12),1),np.array([np.append(np.zeros(3),1)])))\n",
        "H23 = np.concatenate((np.concatenate((R23,d23),1),np.array([np.append(np.zeros(3),1)])))\n",
        "\n",
        "# Position vector of end effector with respect to last refrence frame\n",
        "p3 = np.array([[a3],[0],[-a4-d],[1]])\n",
        "\n",
        "# Position vector p0 with respect to base frame\n",
        "p0 = H01@H12@H23@p3\n",
        " \n",
        "# Finally end effector position vector\n",
        "print('Position vector of end effector with respect to base frame i.e. p0\\n')\n",
        "print(p0,'\\n')\n",
        "\n",
        "print('Jacobian matrix\\n')\n",
        "Jv = sp.Matrix([\n",
        "                [sp.diff(p0[0][0],q2), sp.diff(p0[0][0],q3), sp.diff(p0[0][0],d)],\n",
        "                [sp.diff(p0[1][0],q2), sp.diff(p0[1][0],q3), sp.diff(p0[1][0],d)],\n",
        "                [sp.diff(p0[2][0],q2), sp.diff(p0[2][0],q3), sp.diff(p0[2][0],d)]\n",
        "                ])\n",
        "\n",
        "sp.simplify(Jv)"
      ],
      "execution_count": 67,
      "outputs": [
        {
          "output_type": "stream",
          "name": "stdout",
          "text": [
            "Position vector of end effector with respect to base frame i.e. p0\n",
            "\n",
            "[[a2*cos(q2) + a3*(-sin(q2)*sin(q3) + cos(q2)*cos(q3))]\n",
            " [a2*sin(q2) + a3*(sin(q2)*cos(q3) + sin(q3)*cos(q2))]\n",
            " [1.0*a1 - a4 - d]\n",
            " [1.00000000000000]] \n",
            "\n",
            "Jacobian matrix\n",
            "\n"
          ]
        },
        {
          "output_type": "execute_result",
          "data": {
            "text/latex": "$\\displaystyle \\left[\\begin{matrix}- a_{2} \\sin{\\left(q_{2} \\right)} - a_{3} \\sin{\\left(q_{2} + q_{3} \\right)} & - a_{3} \\sin{\\left(q_{2} + q_{3} \\right)} & 0\\\\a_{2} \\cos{\\left(q_{2} \\right)} + a_{3} \\cos{\\left(q_{2} + q_{3} \\right)} & a_{3} \\cos{\\left(q_{2} + q_{3} \\right)} & 0\\\\0 & 0 & -1\\end{matrix}\\right]$",
            "text/plain": [
              "Matrix([\n",
              "[-a2*sin(q2) - a3*sin(q2 + q3), -a3*sin(q2 + q3),  0],\n",
              "[ a2*cos(q2) + a3*cos(q2 + q3),  a3*cos(q2 + q3),  0],\n",
              "[                            0,                0, -1]])"
            ]
          },
          "metadata": {},
          "execution_count": 67
        }
      ]
    },
    {
      "cell_type": "markdown",
      "metadata": {
        "id": "Bes09yOY3SV5"
      },
      "source": [
        "## **Solution 14**\n",
        "\n",
        "#####Jacobian matrix for RRR (planer elbow configuration) manipulator."
      ]
    },
    {
      "cell_type": "code",
      "metadata": {
        "id": "VnkGXgVD3TEq"
      },
      "source": [
        ""
      ],
      "execution_count": null,
      "outputs": []
    }
  ]
}