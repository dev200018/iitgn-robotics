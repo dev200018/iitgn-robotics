{
  "nbformat": 4,
  "nbformat_minor": 0,
  "metadata": {
    "colab": {
      "name": "Robotics_A4Q7.ipynb",
      "provenance": []
    },
    "kernelspec": {
      "name": "python3",
      "display_name": "Python 3"
    },
    "language_info": {
      "name": "python"
    }
  },
  "cells": [
    {
      "cell_type": "code",
      "metadata": {
        "id": "s9ydGOuIplMs"
      },
      "source": [
        "import numpy as np"
      ],
      "execution_count": 2,
      "outputs": []
    },
    {
      "cell_type": "markdown",
      "metadata": {
        "id": "uvb7wqZsoSdM"
      },
      "source": [
        "DH parameters for 3D-printer (PPP Configuration) are as follows \n",
        "\n",
        "![image.png](data:image/png;base64,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)\n",
        "\n",
        "These are the input for the code.\n",
        "The forward kinematics code is borrowed from Shardul with consent.\n",
        "\n",
        "Assumed d1=d2=d3=1"
      ]
    },
    {
      "cell_type": "code",
      "metadata": {
        "colab": {
          "base_uri": "https://localhost:8080/"
        },
        "id": "NEwtEpEZoREs",
        "outputId": "23820f54-a1ae-4d5a-de97-55837763c4e4"
      },
      "source": [
        "matrix=[]\n",
        "\n",
        "n=int(input(\"No. of links: \"))\n",
        "sym=[\"a\",\"alpha\",\"d\",\"theta\"]\n",
        "for i in range(n):\n",
        "  a=[]\n",
        "  for j in range(4):\n",
        "    a.append(float(input(f\"Link-{i+1},{sym[j]} : \")))\n",
        "  matrix.append(a)\n",
        "  print(\"\\n\")\n",
        "\n",
        "matrix"
      ],
      "execution_count": 5,
      "outputs": [
        {
          "output_type": "stream",
          "name": "stdout",
          "text": [
            "No. of links: 3\n",
            "Link-1,a : 0\n",
            "Link-1,alpha : 0\n",
            "Link-1,d : 1\n",
            "Link-1,theta : 0\n",
            "\n",
            "\n",
            "Link-2,a : 1\n",
            "Link-2,alpha : 0\n",
            "Link-2,d : 0\n",
            "Link-2,theta : 0\n",
            "\n",
            "\n",
            "Link-3,a : 1\n",
            "Link-3,alpha : 0\n",
            "Link-3,d : 0\n",
            "Link-3,theta : -1.5707\n",
            "\n",
            "\n"
          ]
        },
        {
          "output_type": "execute_result",
          "data": {
            "text/plain": [
              "[[0.0, 0.0, 1.0, 0.0], [1.0, 0.0, 0.0, 0.0], [1.0, 0.0, 0.0, -1.5707]]"
            ]
          },
          "metadata": {},
          "execution_count": 5
        }
      ]
    },
    {
      "cell_type": "markdown",
      "metadata": {
        "id": "492yq09VsbYK"
      },
      "source": [
        "#**DH Transformation Matrix**"
      ]
    },
    {
      "cell_type": "code",
      "metadata": {
        "id": "q-qAIGYFslEL"
      },
      "source": [
        "\n",
        "def dh(arr):\n",
        "  a=arr[0]\n",
        "  alpha=arr[1]\n",
        "  d=arr[2]\n",
        "  theta = arr[3]\n",
        "\n",
        "  mat = []\n",
        "  b=[np.cos(theta), -np.sin(theta)*np.cos(alpha), np.sin(theta)*np.sin(alpha), a*np.cos(theta)]\n",
        "  mat.append(b)\n",
        "\n",
        "  b=[np.sin(theta), np.cos(theta)*np.cos(alpha), -np.cos(theta)*np.sin(alpha), a*np.sin(theta)]\n",
        "  mat.append(b)\n",
        "\n",
        "  b=[0, np.sin(alpha), np.cos(alpha), d]\n",
        "  mat.append(b)\n",
        "\n",
        "  b=[0,0,0,1]\n",
        "  mat.append(b)\n",
        "\n",
        "  return np.matrix(mat)"
      ],
      "execution_count": 6,
      "outputs": []
    },
    {
      "cell_type": "code",
      "metadata": {
        "colab": {
          "base_uri": "https://localhost:8080/"
        },
        "id": "LcpCLYyss7TB",
        "outputId": "c8a0dc95-2c3d-4faa-cbbb-c364251b7958"
      },
      "source": [
        "dh(matrix[1])"
      ],
      "execution_count": 7,
      "outputs": [
        {
          "output_type": "execute_result",
          "data": {
            "text/plain": [
              "matrix([[ 1., -0.,  0.,  1.],\n",
              "        [ 0.,  1., -0.,  0.],\n",
              "        [ 0.,  0.,  1.,  0.],\n",
              "        [ 0.,  0.,  0.,  1.]])"
            ]
          },
          "metadata": {},
          "execution_count": 7
        }
      ]
    },
    {
      "cell_type": "markdown",
      "metadata": {
        "id": "pCroIi52tElM"
      },
      "source": [
        "#**Transformation Matrix**"
      ]
    },
    {
      "cell_type": "code",
      "metadata": {
        "colab": {
          "base_uri": "https://localhost:8080/"
        },
        "id": "ZGe6TblatHlP",
        "outputId": "739228e8-7741-449f-9211-98ef5d642b8a"
      },
      "source": [
        "T = np.identity(4)\n",
        "Tmat = []\n",
        "for i in range(n):\n",
        "  T=np.matmul(T,dh(matrix[i]))\n",
        "  Tmat.append(T)\n",
        "print(f\"Transformation Matrix (0-{n}) : \\n\\n{T}\")"
      ],
      "execution_count": 8,
      "outputs": [
        {
          "output_type": "stream",
          "name": "stdout",
          "text": [
            "Transformation Matrix (0-3) : \n",
            "\n",
            "[[ 9.63267947e-05  9.99999995e-01  0.00000000e+00  1.00009633e+00]\n",
            " [-9.99999995e-01  9.63267947e-05  0.00000000e+00 -9.99999995e-01]\n",
            " [ 0.00000000e+00  0.00000000e+00  1.00000000e+00  1.00000000e+00]\n",
            " [ 0.00000000e+00  0.00000000e+00  0.00000000e+00  1.00000000e+00]]\n"
          ]
        }
      ]
    },
    {
      "cell_type": "markdown",
      "metadata": {
        "id": "8gDk46wytKW1"
      },
      "source": [
        "**End Effector Position wrt 0o**"
      ]
    },
    {
      "cell_type": "code",
      "metadata": {
        "colab": {
          "base_uri": "https://localhost:8080/"
        },
        "id": "pBxg2Zj7tNWx",
        "outputId": "2e0c9b64-107b-45ea-8d7a-94ddd1b5d069"
      },
      "source": [
        "pos6=np.matrix([0,0,0,1])\n",
        "Pos = np.matmul(Tmat[-1],pos6.T)\n",
        "print(f\"Position (0): \\n\\n{Pos[:3]}\")"
      ],
      "execution_count": 9,
      "outputs": [
        {
          "output_type": "stream",
          "name": "stdout",
          "text": [
            "Position (0): \n",
            "\n",
            "[[ 1.00009633]\n",
            " [-1.        ]\n",
            " [ 1.        ]]\n"
          ]
        }
      ]
    },
    {
      "cell_type": "markdown",
      "metadata": {
        "id": "P-rokAVErVkb"
      },
      "source": [
        "#Jacobian Calculation"
      ]
    },
    {
      "cell_type": "code",
      "metadata": {
        "id": "0_u7a8BCrTxM"
      },
      "source": [
        "z=[]\n",
        "z.append(np.matrix([0,0,1]).T)\n",
        "\n",
        "p=[]\n",
        "p.append(np.matrix([0,0,0]).T)\n",
        "\n",
        "for a in Tmat:\n",
        "  z.append(a[:3,2])\n",
        "  p.append(a[:3,3])\n"
      ],
      "execution_count": 10,
      "outputs": []
    },
    {
      "cell_type": "markdown",
      "metadata": {
        "id": "eZzmjd5ere9F"
      },
      "source": [
        "Valid for PPP configurtion"
      ]
    },
    {
      "cell_type": "code",
      "metadata": {
        "colab": {
          "base_uri": "https://localhost:8080/"
        },
        "id": "N6J6c5knrbcd",
        "outputId": "34753896-7cd1-44d6-d1d4-5c2f07ec221a"
      },
      "source": [
        "\n",
        "zero = np.matrix([0,0,0])\n",
        "J = np.concatenate((z[0],zero.T),axis=0)\n",
        "\n",
        "for i in range (1,len(z)-1):\n",
        "  x = np.concatenate((z[i],zero.T),axis=0)\n",
        "  J = np.concatenate((J,x),axis=1)\n",
        "print(f\"Jecobian Matrix :\\n\\n{J}\")"
      ],
      "execution_count": 11,
      "outputs": [
        {
          "output_type": "stream",
          "name": "stdout",
          "text": [
            "Jecobian Matrix :\n",
            "\n",
            "[[0. 0. 0.]\n",
            " [0. 0. 0.]\n",
            " [1. 1. 1.]\n",
            " [0. 0. 0.]\n",
            " [0. 0. 0.]\n",
            " [0. 0. 0.]]\n"
          ]
        }
      ]
    }
  ]
}