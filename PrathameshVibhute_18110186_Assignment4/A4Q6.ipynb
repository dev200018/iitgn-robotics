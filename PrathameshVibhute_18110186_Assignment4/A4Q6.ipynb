{
  "nbformat": 4,
  "nbformat_minor": 0,
  "metadata": {
    "colab": {
      "name": "Robotics_A4Q6.ipynb",
      "provenance": []
    },
    "kernelspec": {
      "name": "python3",
      "display_name": "Python 3"
    },
    "language_info": {
      "name": "python"
    }
  },
  "cells": [
    {
      "cell_type": "markdown",
      "metadata": {
        "id": "0PrfvWa9zirM"
      },
      "source": [
        "#Inverse kinematics of Spherical wrist"
      ]
    },
    {
      "cell_type": "code",
      "metadata": {
        "id": "vbZFzdTG0sxX"
      },
      "source": [
        "import numpy as np"
      ],
      "execution_count": 11,
      "outputs": []
    },
    {
      "cell_type": "code",
      "metadata": {
        "colab": {
          "base_uri": "https://localhost:8080/"
        },
        "id": "kx9BKs_lzCEV",
        "outputId": "cdb40f3b-eb57-40fd-e89f-e02585274adb"
      },
      "source": [
        "A=[]\n",
        "\n",
        "for i in range (3):\n",
        "  B=[]\n",
        "  for j in range (3):\n",
        "    B.append(float(input(\"Enter value1= \")))\n",
        "  A.append(B)\n",
        "  print('\\n')\n"
      ],
      "execution_count": 7,
      "outputs": [
        {
          "output_type": "stream",
          "name": "stdout",
          "text": [
            "Enter value1= 1\n",
            "Enter value1= 1\n",
            "Enter value1= 1\n",
            "\n",
            "\n",
            "Enter value1= 1\n",
            "Enter value1= 1\n",
            "Enter value1= 1\n",
            "\n",
            "\n",
            "Enter value1= 1\n",
            "Enter value1= 1\n",
            "Enter value1= 10\n",
            "\n",
            "\n"
          ]
        }
      ]
    },
    {
      "cell_type": "markdown",
      "metadata": {
        "id": "ULSKywof1Gpr"
      },
      "source": [
        "Inverse Kinematics"
      ]
    },
    {
      "cell_type": "code",
      "metadata": {
        "id": "nZRTJ6Pk1JcF"
      },
      "source": [
        "def Inverse(u):\n",
        "  if ((u[2][2]==1 or u[2][2]==-1) and (u[0][2]!=0 or u[1][2]!=0)):\n",
        "    print(\"Invalid Matrix\")\n",
        "    return\n",
        "\n",
        "  if (u[0][2]==0 and u[1][2]==0):\n",
        "    print(\"Infinite Solutions !!\")\n",
        "    return\n",
        "\n",
        "  theta=np.arctan(((1-u[2][2]**2)**(0.5))/u[2][2])\n",
        "  phi = np.arctan(u[1][2]/u[0][2])\n",
        "  psi = np.arctan(u[2][1]/-u[2][0])\n",
        "\n",
        "  return [theta,phi,psi]"
      ],
      "execution_count": 8,
      "outputs": []
    },
    {
      "cell_type": "code",
      "metadata": {
        "colab": {
          "base_uri": "https://localhost:8080/"
        },
        "id": "OypEQtDT2FXK",
        "outputId": "afd9b42c-272c-4d40-cd0b-f836ea1c9542"
      },
      "source": [
        "Inverse(A)"
      ],
      "execution_count": 12,
      "outputs": [
        {
          "output_type": "execute_result",
          "data": {
            "text/plain": [
              "[(6.0925409002222655e-15+2.993222846126382j),\n",
              " 0.7853981633974483,\n",
              " -0.7853981633974483]"
            ]
          },
          "metadata": {},
          "execution_count": 12
        }
      ]
    }
  ]
}