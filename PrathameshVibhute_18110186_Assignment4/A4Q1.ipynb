{
  "nbformat": 4,
  "nbformat_minor": 0,
  "metadata": {
    "colab": {
      "name": "Robotics_A4Q1.ipynb",
      "provenance": []
    },
    "kernelspec": {
      "name": "python3",
      "display_name": "Python 3"
    },
    "language_info": {
      "name": "python"
    }
  },
  "cells": [
    {
      "cell_type": "code",
      "metadata": {
        "id": "pWDEDPlaSY5_"
      },
      "source": [
        "import numpy as np"
      ],
      "execution_count": null,
      "outputs": []
    },
    {
      "cell_type": "markdown",
      "metadata": {
        "id": "bSpw2pi_SciH"
      },
      "source": [
        "STANFORD MANIPULAOTOR\n",
        "\n",
        "Taking coordinates of the end effector and length of the links as the input. \n",
        "\n",
        "Assumed x=y=z=1 and length of links d1=d2=1"
      ]
    },
    {
      "cell_type": "code",
      "metadata": {
        "colab": {
          "base_uri": "https://localhost:8080/"
        },
        "id": "C88SZDDwSkfC",
        "outputId": "2b5997b0-ddcd-4d72-84e5-8c16e1ada066"
      },
      "source": [
        "x=float(input('x='))\n",
        "y=float(input('y='))\n",
        "z=float(input('z='))\n",
        "position=[x,y,z]\n",
        "d1=float(input('d1='))\n",
        "d2=float(input('d2='))\n",
        "linklengths=[d1,d2]\n"
      ],
      "execution_count": null,
      "outputs": [
        {
          "name": "stdout",
          "output_type": "stream",
          "text": [
            "x=1\n",
            "y=1\n",
            "z=1\n",
            "d1=1\n",
            "d2=1\n"
          ]
        }
      ]
    },
    {
      "cell_type": "markdown",
      "metadata": {
        "id": "lADp71WDTsxM"
      },
      "source": [
        "Defining function inverse to calculate inverse position kinematics"
      ]
    },
    {
      "cell_type": "code",
      "metadata": {
        "id": "kULnU-gHzSNB"
      },
      "source": [
        "def inverse(linklen,position):\n",
        "    if (position[0]==0 and position[1]==0):\n",
        "      print(\"It is a Singularity Configuration\")\n",
        "      return []\n",
        "    else:\n",
        "      theta1=np.arctan(position[1]/position[0])\n",
        "      r=(position[0]**2+position[1]**2)**(1/2)\n",
        "      s=position[2]-linklen[0]\n",
        "      theta2=np.arctan(s/r)+np.pi/2\n",
        "      d3=(r**2+s**2)**(1/2)\n",
        "\n",
        "      return [theta1,theta2,d3]\n"
      ],
      "execution_count": null,
      "outputs": []
    },
    {
      "cell_type": "code",
      "metadata": {
        "colab": {
          "base_uri": "https://localhost:8080/"
        },
        "id": "MwOuosQbUAof",
        "outputId": "2bf3da12-0937-41e7-ed43-e45784374524"
      },
      "source": [
        "inverse(linklengths,position)"
      ],
      "execution_count": null,
      "outputs": [
        {
          "output_type": "execute_result",
          "data": {
            "text/plain": [
              "[0.7853981633974483, 1.5707963267948966, 1.4142135623730951]"
            ]
          },
          "metadata": {},
          "execution_count": 6
        }
      ]
    }
  ]
}