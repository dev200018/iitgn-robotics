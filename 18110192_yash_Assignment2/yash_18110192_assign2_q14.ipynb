{
  "nbformat": 4,
  "nbformat_minor": 0,
  "metadata": {
    "colab": {
      "name": "yash_18110192_assign2_q14.ipynb",
      "provenance": [],
      "collapsed_sections": []
    },
    "kernelspec": {
      "name": "python3",
      "display_name": "Python 3"
    },
    "language_info": {
      "name": "python"
    }
  },
  "cells": [
    {
      "cell_type": "code",
      "metadata": {
        "id": "ed66UWSR0ZWF"
      },
      "source": [
        "import math\n",
        "import numpy as np\n",
        "\n",
        "def deg(theta):\n",
        "    rad = (math.pi/180)*theta\n",
        "    return rad\n",
        "\n",
        "def cos(q):\n",
        "    return math.cos(deg(q))\n",
        "\n",
        "def sin(q):\n",
        "    return math.sin(deg(q))"
      ],
      "execution_count": null,
      "outputs": []
    },
    {
      "cell_type": "code",
      "metadata": {
        "id": "0ZvXlMfV5WP7"
      },
      "source": [
        "# Parameters\n",
        "l1 = 10     # cm\n",
        "l2 = 10     # cm\n",
        "l3 = 10     # cm\n",
        "\n",
        "q1 = 15     # deg.\n",
        "q2 = 30     # deg.\n",
        "q3 = 60     # deg."
      ],
      "execution_count": null,
      "outputs": []
    },
    {
      "cell_type": "code",
      "metadata": {
        "id": "Twg1tSi9Fz4A"
      },
      "source": [
        "z0 = np.array([[0], [0], [1]])\n",
        "z1 = z0\n",
        "z2 = z0\n",
        "z3 = z0\n",
        "\n",
        "O0 =np.array([[0], [0], [0]])\n",
        "O1 =np.array([[l1*cos(q1)], [l2*sin(q1)], [0]])\n",
        "O2 =np.array([[l1*cos(q1) + l2*cos(q2)], [l2*sin(q1) + l2*sin(q2)], [0]])\n",
        "O3 =np.array([[l1*cos(q1) + l2*cos(q2) + l3*cos(q3)], [l2*sin(q1) + l2*sin(q2) + l3*sin(q3)], [0]])\n",
        "\n",
        "# A = z0 x (O3 - O0)\n",
        "# B = z1 x (O3 - O1)\n",
        "# C = z2 x (O3 - O2)\n",
        "\n",
        "A = np.array([[-l1*sin(q1) - l2*sin(q2) - l3*sin(q3)],\n",
        "              [l1*cos(q1) + l2*cos(q2) + l3*cos(q3)],\n",
        "              [0]])\n",
        "\n",
        "B = np.array([[-l2*sin(q2) - l3*sin(q3)],\n",
        "              [l2*cos(q2) + l3*cos(q3)],\n",
        "              [0]])\n",
        "\n",
        "C = np.array([[-l3*sin(q3)],\n",
        "              [l3*cos(q3)],\n",
        "              [0]])"
      ],
      "execution_count": null,
      "outputs": []
    },
    {
      "cell_type": "code",
      "metadata": {
        "colab": {
          "base_uri": "https://localhost:8080/"
        },
        "id": "tRbfwuVsF4RQ",
        "outputId": "8b28782b-49e6-4101-ca6a-8cc838942361"
      },
      "source": [
        "# Output\n",
        "Jv = np.concatenate((A, B, C), axis=1)\n",
        "print('Jv = \\n', Jv, '\\n')\n",
        "\n",
        "Jw = np.concatenate((z0, z1, z2), axis=1)\n",
        "print('Jw = \\n', Jw, '\\n')\n",
        "\n",
        "J = np.concatenate((Jv, Jw))\n",
        "print('J = \\n', J)"
      ],
      "execution_count": null,
      "outputs": [
        {
          "output_type": "stream",
          "name": "stdout",
          "text": [
            "Jv = \n",
            " [[-16.24844449 -13.66025404  -8.66025404]\n",
            " [ 23.3195123   13.66025404   5.        ]\n",
            " [  0.           0.           0.        ]] \n",
            "\n",
            "Jw = \n",
            " [[0 0 0]\n",
            " [0 0 0]\n",
            " [1 1 1]] \n",
            "\n",
            "J = \n",
            " [[-16.24844449 -13.66025404  -8.66025404]\n",
            " [ 23.3195123   13.66025404   5.        ]\n",
            " [  0.           0.           0.        ]\n",
            " [  0.           0.           0.        ]\n",
            " [  0.           0.           0.        ]\n",
            " [  1.           1.           1.        ]]\n"
          ]
        }
      ]
    },
    {
      "cell_type": "code",
      "metadata": {
        "id": "G5Vz8Z5AGYrl"
      },
      "source": [
        ""
      ],
      "execution_count": null,
      "outputs": []
    }
  ]
}