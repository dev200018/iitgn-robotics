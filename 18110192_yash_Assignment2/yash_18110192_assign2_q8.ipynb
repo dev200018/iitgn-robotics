{
  "nbformat": 4,
  "nbformat_minor": 0,
  "metadata": {
    "colab": {
      "name": "yash_18110192_assign2_q8.ipynb",
      "provenance": []
    },
    "kernelspec": {
      "name": "python3",
      "display_name": "Python 3"
    },
    "language_info": {
      "name": "python"
    }
  },
  "cells": [
    {
      "cell_type": "code",
      "metadata": {
        "id": "sV3ibXCQpqEe"
      },
      "source": [
        "import math\n",
        "import numpy as np\n",
        "\n",
        "def deg(theta):\n",
        "    rad = (math.pi/180)*theta\n",
        "    return rad\n",
        "\n",
        "def cos(q):\n",
        "    return math.cos(deg(q))\n",
        "\n",
        "def sin(q):\n",
        "    return math.sin(deg(q))"
      ],
      "execution_count": null,
      "outputs": []
    },
    {
      "cell_type": "code",
      "metadata": {
        "id": "6_hftxSc_p7L"
      },
      "source": [
        "# parameters\n",
        "l1 = 10     # cm\n",
        "l2 = 10     # cm\n",
        "d = 5       # cm\n",
        "\n",
        "q1 = 30     # deg.\n",
        "q2 = 30     # deg."
      ],
      "execution_count": null,
      "outputs": []
    },
    {
      "cell_type": "code",
      "metadata": {
        "colab": {
          "base_uri": "https://localhost:8080/"
        },
        "id": "1ndmiKu-E9fw",
        "outputId": "24dc199a-6b3a-4391-9e53-75243e58fb48"
      },
      "source": [
        "extra_row = np.array([0, 0, 0, 1])\n",
        "\n",
        "R_01 = np.array([[cos(q1), -sin(q1), 0],\n",
        "                 [sin(q1), cos(q1), 0],\n",
        "                 [0, 0, 1]])\n",
        "\n",
        "d_01 = np.array([[0],[0],[0]])\n",
        "\n",
        "h_01 = np.concatenate((R_01, d_01), axis=1)\n",
        "H_01 = np.vstack((h_01, extra_row))\n",
        "\n",
        "print(\"R_01 = \\n\", R_01, \"\\n\")\n",
        "print(\"d_01 = \\n\", d_01, \"\\n\")\n",
        "print(\"H_01 = \\n\", H_01, \"\\n\")"
      ],
      "execution_count": null,
      "outputs": [
        {
          "output_type": "stream",
          "name": "stdout",
          "text": [
            "R_01 = \n",
            " [[ 0.8660254 -0.5        0.       ]\n",
            " [ 0.5        0.8660254  0.       ]\n",
            " [ 0.         0.         1.       ]] \n",
            "\n",
            "d_01 = \n",
            " [[0]\n",
            " [0]\n",
            " [0]] \n",
            "\n",
            "H_01 = \n",
            " [[ 0.8660254 -0.5        0.         0.       ]\n",
            " [ 0.5        0.8660254  0.         0.       ]\n",
            " [ 0.         0.         1.         0.       ]\n",
            " [ 0.         0.         0.         1.       ]] \n",
            "\n"
          ]
        }
      ]
    },
    {
      "cell_type": "code",
      "metadata": {
        "colab": {
          "base_uri": "https://localhost:8080/"
        },
        "id": "A-UVzyzlE_8y",
        "outputId": "af5dfeea-d50f-4c14-e962-38ca1a5ebd27"
      },
      "source": [
        "R_12 = np.array([[cos(q2), -sin(q2), 0],\n",
        "                 [0, 0, -1],\n",
        "                 [sin(q2), cos(q2), 0]])\n",
        "\n",
        "d_12 = np.array([[0],[0],[l1]])\n",
        "\n",
        "h_12 = np.concatenate((R_12, d_12), axis=1)\n",
        "H_12 = np.vstack((h_12, extra_row))\n",
        "\n",
        "print(\"R_12 = \\n\", R_12, \"\\n\")\n",
        "print(\"d_12 = \\n\", d_12, \"\\n\")\n",
        "print(\"H_12 = \\n\", H_12, \"\\n\")"
      ],
      "execution_count": null,
      "outputs": [
        {
          "output_type": "stream",
          "name": "stdout",
          "text": [
            "R_12 = \n",
            " [[ 0.8660254 -0.5        0.       ]\n",
            " [ 0.         0.        -1.       ]\n",
            " [ 0.5        0.8660254  0.       ]] \n",
            "\n",
            "d_12 = \n",
            " [[ 0]\n",
            " [ 0]\n",
            " [10]] \n",
            "\n",
            "H_12 = \n",
            " [[ 0.8660254 -0.5        0.         0.       ]\n",
            " [ 0.         0.        -1.         0.       ]\n",
            " [ 0.5        0.8660254  0.        10.       ]\n",
            " [ 0.         0.         0.         1.       ]] \n",
            "\n"
          ]
        }
      ]
    },
    {
      "cell_type": "code",
      "metadata": {
        "colab": {
          "base_uri": "https://localhost:8080/"
        },
        "id": "GDxaI-NVFB9O",
        "outputId": "e280f3b9-d4f2-451b-8bd5-612459416b42"
      },
      "source": [
        "R_23 = np.array([[1, 0, 0],\n",
        "                 [0, 1, 0],\n",
        "                 [0, 0, 1]])\n",
        "\n",
        "d_23 = np.array([[l2],[0],[0]])\n",
        "\n",
        "h_23 = np.concatenate((R_23, d_23), axis=1)\n",
        "H_23 = np.vstack((h_23, extra_row))\n",
        "\n",
        "print(\"R_23 = \\n\", R_23, \"\\n\")\n",
        "print(\"d_23 = \\n\", d_23)\n",
        "print(\"H_23 = \\n\", H_23)"
      ],
      "execution_count": null,
      "outputs": [
        {
          "output_type": "stream",
          "name": "stdout",
          "text": [
            "R_23 = \n",
            " [[1 0 0]\n",
            " [0 1 0]\n",
            " [0 0 1]] \n",
            "\n",
            "d_23 = \n",
            " [[10]\n",
            " [ 0]\n",
            " [ 0]]\n",
            "H_23 = \n",
            " [[ 1  0  0 10]\n",
            " [ 0  1  0  0]\n",
            " [ 0  0  1  0]\n",
            " [ 0  0  0  1]]\n"
          ]
        }
      ]
    },
    {
      "cell_type": "code",
      "metadata": {
        "colab": {
          "base_uri": "https://localhost:8080/"
        },
        "id": "RqOtIKu9FEbM",
        "outputId": "5bcc0336-6824-4495-a7a2-f4a6b2ee6524"
      },
      "source": [
        "P_3 = np.array([[d], [0], [0]])\n",
        "p_3 = np.append(P_3, [[1]], axis=0)\n",
        "\n",
        "print(\"P_3 = \\n\", P_3)"
      ],
      "execution_count": null,
      "outputs": [
        {
          "output_type": "stream",
          "name": "stdout",
          "text": [
            "P_3 = \n",
            " [[5]\n",
            " [0]\n",
            " [0]]\n"
          ]
        }
      ]
    },
    {
      "cell_type": "code",
      "metadata": {
        "colab": {
          "base_uri": "https://localhost:8080/"
        },
        "id": "vaRos-0YFGmK",
        "outputId": "16d5d961-7002-475f-aeb2-bc482d5924bb"
      },
      "source": [
        "# Final Output\n",
        "H_23__p_3 = np.dot(H_23, p_3)\n",
        "H_12__H_23_p_3 = np.dot(H_12, H_23__p_3)\n",
        "H_01__H_12__H_23_p_3 = np.dot(H_01, H_12__H_23_p_3)\n",
        "p_0 = H_01__H_12__H_23_p_3\n",
        "P_0 = np.array([[p_0[0][0]],\n",
        "                [p_0[1][0]],\n",
        "                [p_0[2][0]]])\n",
        "\n",
        "print(\"P_0 = \\n\",P_0)"
      ],
      "execution_count": null,
      "outputs": [
        {
          "output_type": "stream",
          "name": "stdout",
          "text": [
            "P_0 = \n",
            " [[11.25      ]\n",
            " [ 6.49519053]\n",
            " [17.5       ]]\n"
          ]
        }
      ]
    }
  ]
}