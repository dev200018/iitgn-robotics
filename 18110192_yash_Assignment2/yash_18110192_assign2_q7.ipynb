{
  "nbformat": 4,
  "nbformat_minor": 0,
  "metadata": {
    "colab": {
      "name": "yash_18110192_assign2_q7.ipynb",
      "provenance": [],
      "collapsed_sections": []
    },
    "kernelspec": {
      "name": "python3",
      "display_name": "Python 3"
    },
    "language_info": {
      "name": "python"
    }
  },
  "cells": [
    {
      "cell_type": "code",
      "metadata": {
        "id": "pbhlMkP3lRtq"
      },
      "source": [
        "import math\n",
        "import numpy as np\n",
        "\n",
        "def deg(theta):\n",
        "    rad = (math.pi/180)*theta\n",
        "    return rad\n",
        "\n",
        "def cos(q):\n",
        "    return math.cos(deg(q))\n",
        "\n",
        "def sin(q):\n",
        "    return math.sin(deg(q))"
      ],
      "execution_count": null,
      "outputs": []
    },
    {
      "cell_type": "code",
      "metadata": {
        "id": "_-Z2qpo_nnIJ"
      },
      "source": [
        "# parameters\n",
        "l1 = 10     # cm\n",
        "l2 = 10     # cm\n",
        "l3 = 10     # cm\n",
        "d = 5       # cm\n",
        "\n",
        "q1 = 30     # deg.\n",
        "q2 = 30     # deg."
      ],
      "execution_count": null,
      "outputs": []
    },
    {
      "cell_type": "code",
      "metadata": {
        "colab": {
          "base_uri": "https://localhost:8080/"
        },
        "id": "3YpqsOUZEOm8",
        "outputId": "8080d1bc-7efc-4f56-ef76-b04e61ba6711"
      },
      "source": [
        "extra_row = np.array([0, 0, 0, 1])\n",
        "\n",
        "R_01 = np.array([[cos(q1), -sin(q1), 0],\n",
        "                 [sin(q1), cos(q1), 0],\n",
        "                 [0, 0, 1]])\n",
        "\n",
        "d_01 = np.array([[0],[0],[l1]])\n",
        "\n",
        "h_01 = np.concatenate((R_01, d_01), axis=1)\n",
        "H_01 = np.vstack((h_01, extra_row))\n",
        "\n",
        "print(\"R_01 = \\n\", R_01, \"\\n\")\n",
        "print(\"d_01 = \\n\", d_01, \"\\n\")\n",
        "print(\"H_01 = \\n\", H_01, \"\\n\")"
      ],
      "execution_count": null,
      "outputs": [
        {
          "output_type": "stream",
          "name": "stdout",
          "text": [
            "R_01 = \n",
            " [[ 0.8660254 -0.5        0.       ]\n",
            " [ 0.5        0.8660254  0.       ]\n",
            " [ 0.         0.         1.       ]] \n",
            "\n",
            "d_01 = \n",
            " [[ 0]\n",
            " [ 0]\n",
            " [10]] \n",
            "\n",
            "H_01 = \n",
            " [[ 0.8660254 -0.5        0.         0.       ]\n",
            " [ 0.5        0.8660254  0.         0.       ]\n",
            " [ 0.         0.         1.        10.       ]\n",
            " [ 0.         0.         0.         1.       ]] \n",
            "\n"
          ]
        }
      ]
    },
    {
      "cell_type": "code",
      "metadata": {
        "colab": {
          "base_uri": "https://localhost:8080/"
        },
        "id": "h0hVpq31ETQs",
        "outputId": "dc378ccc-9257-48a0-ce9b-a42417f7e7a0"
      },
      "source": [
        "R_12 = np.array([[cos(q2), -sin(q2), 0],\n",
        "                 [sin(q2), cos(q2), 0],\n",
        "                 [0, 0, 1]])\n",
        "\n",
        "d_12 = np.array([[l2],[0],[0]])\n",
        "\n",
        "h_12 = np.concatenate((R_12, d_12), axis=1)\n",
        "H_12 = np.vstack((h_12, extra_row))\n",
        "\n",
        "print(\"R_12 = \\n\", R_12, \"\\n\")\n",
        "print(\"d_12 = \\n\", d_12, \"\\n\")\n",
        "print(\"H_12 = \\n\", H_12, \"\\n\")"
      ],
      "execution_count": null,
      "outputs": [
        {
          "output_type": "stream",
          "name": "stdout",
          "text": [
            "R_12 = \n",
            " [[ 0.8660254 -0.5        0.       ]\n",
            " [ 0.5        0.8660254  0.       ]\n",
            " [ 0.         0.         1.       ]] \n",
            "\n",
            "d_12 = \n",
            " [[10]\n",
            " [ 0]\n",
            " [ 0]] \n",
            "\n",
            "H_12 = \n",
            " [[ 0.8660254 -0.5        0.        10.       ]\n",
            " [ 0.5        0.8660254  0.         0.       ]\n",
            " [ 0.         0.         1.         0.       ]\n",
            " [ 0.         0.         0.         1.       ]] \n",
            "\n"
          ]
        }
      ]
    },
    {
      "cell_type": "code",
      "metadata": {
        "colab": {
          "base_uri": "https://localhost:8080/"
        },
        "id": "_H5tP6qdEZme",
        "outputId": "88b4cc2e-2e73-4517-b1db-1f2129bd10ff"
      },
      "source": [
        "R_23 = np.array([[0, 0, 1],\n",
        "                 [0, 1, 0],\n",
        "                 [-1, 0, 0]])\n",
        "\n",
        "d_23 = np.array([[l3],[0],[0]])\n",
        "\n",
        "h_23 = np.concatenate((R_23, d_23), axis=1)\n",
        "H_23 = np.vstack((h_23, extra_row))\n",
        "\n",
        "print(\"R_23 = \\n\", R_23, \"\\n\")\n",
        "print(\"d_23 = \\n\", d_23)\n",
        "print(\"H_23 = \\n\", H_23)"
      ],
      "execution_count": null,
      "outputs": [
        {
          "output_type": "stream",
          "name": "stdout",
          "text": [
            "R_23 = \n",
            " [[ 0  0  1]\n",
            " [ 0  1  0]\n",
            " [-1  0  0]] \n",
            "\n",
            "d_23 = \n",
            " [[10]\n",
            " [ 0]\n",
            " [ 0]]\n",
            "H_23 = \n",
            " [[ 0  0  1 10]\n",
            " [ 0  1  0  0]\n",
            " [-1  0  0  0]\n",
            " [ 0  0  0  1]]\n"
          ]
        }
      ]
    },
    {
      "cell_type": "code",
      "metadata": {
        "colab": {
          "base_uri": "https://localhost:8080/"
        },
        "id": "SryyGcb3Ecot",
        "outputId": "a43b3bf3-3c62-4d95-8cad-f01a9f1c89f2"
      },
      "source": [
        "P_3 = np.array([[d], [0], [0]])\n",
        "p_3 = np.append(P_3, [[1]], axis=0)\n",
        "\n",
        "print(\"P_3 = \\n\", P_3)"
      ],
      "execution_count": null,
      "outputs": [
        {
          "output_type": "stream",
          "name": "stdout",
          "text": [
            "P_3 = \n",
            " [[5]\n",
            " [0]\n",
            " [0]]\n"
          ]
        }
      ]
    },
    {
      "cell_type": "code",
      "metadata": {
        "colab": {
          "base_uri": "https://localhost:8080/"
        },
        "id": "mILpQsg9Ee6d",
        "outputId": "aa684086-149a-482c-9007-8c97bb595037"
      },
      "source": [
        "# Final Output\n",
        "H_23__p_3 = np.dot(H_23, p_3)\n",
        "H_12__H_23_p_3 = np.dot(H_12, H_23__p_3)\n",
        "H_01__H_12__H_23_p_3 = np.dot(H_01, H_12__H_23_p_3)\n",
        "p_0 = H_01__H_12__H_23_p_3\n",
        "P_0 = np.array([[p_0[0][0]],\n",
        "                [p_0[1][0]],\n",
        "                [p_0[2][0]]])\n",
        "\n",
        "print(\"P_0 = \\n\",P_0)"
      ],
      "execution_count": null,
      "outputs": [
        {
          "output_type": "stream",
          "name": "stdout",
          "text": [
            "P_0 = \n",
            " [[13.66025404]\n",
            " [13.66025404]\n",
            " [ 5.        ]]\n"
          ]
        }
      ]
    },
    {
      "cell_type": "code",
      "metadata": {
        "id": "JkhJVM-zE2O-"
      },
      "source": [
        ""
      ],
      "execution_count": null,
      "outputs": []
    }
  ]
}