{
  "nbformat": 4,
  "nbformat_minor": 0,
  "metadata": {
    "colab": {
      "name": "yash_18110192_assign2_q12.ipynb",
      "provenance": []
    },
    "kernelspec": {
      "name": "python3",
      "display_name": "Python 3"
    },
    "language_info": {
      "name": "python"
    }
  },
  "cells": [
    {
      "cell_type": "code",
      "metadata": {
        "id": "ed66UWSR0ZWF"
      },
      "source": [
        "import math\n",
        "import numpy as np\n",
        "\n",
        "def deg(theta):\n",
        "    rad = (math.pi/180)*theta\n",
        "    return rad\n",
        "\n",
        "def cos(q):\n",
        "    return math.cos(deg(q))\n",
        "\n",
        "def sin(q):\n",
        "    return math.sin(deg(q))"
      ],
      "execution_count": null,
      "outputs": []
    },
    {
      "cell_type": "code",
      "metadata": {
        "id": "0ZvXlMfV5WP7"
      },
      "source": [
        "# Parameters\n",
        "l1 = 10     # cm\n",
        "l2 = 10     # cm\n",
        "d = 5       # cm\n",
        "h = 0      # cm\n",
        "\n",
        "q1 = 30     # deg.\n",
        "q2 = 30     # deg."
      ],
      "execution_count": null,
      "outputs": []
    },
    {
      "cell_type": "code",
      "metadata": {
        "id": "Twg1tSi9Fz4A"
      },
      "source": [
        "z0 = np.array([[0], [0], [1]])\n",
        "z1 = np.array([[0], [0], [1]])\n",
        "z2 = np.array([[0], [0], [-1]])\n",
        "\n",
        "O0 =np.array([[0], [0], [0]])\n",
        "O1 =np.array([[l1*cos(q1)], [l2*sin(q1)], [h]])\n",
        "O2 =np.array([[l1*cos(q1) + l2*cos(q1+q2)], [l2*sin(q1) + l2*sin(q1+q2)], [h]])\n",
        "O3 =np.array([[l1*cos(q1) + l2*cos(q1+q2)], [l2*sin(q1) + l2*sin(q1+q2)], [h-d]])\n",
        "\n",
        "zero = np.zeros((3,1), dtype=int)\n",
        "\n",
        "# A = z0 x (O3 - O0)\n",
        "# B = z1 x (O3 - O1)\n",
        "\n",
        "A = np.array([[-l1*sin(q1) - l2*sin(q1+q2)],\n",
        "              [l1*cos(q1) + l2*cos(q1+q2)],\n",
        "              [0]])\n",
        "\n",
        "B = np.array([[-l2*sin(q1+q2)],\n",
        "              [l2*cos(q1+q2)],\n",
        "              [0]])"
      ],
      "execution_count": null,
      "outputs": []
    },
    {
      "cell_type": "code",
      "metadata": {
        "colab": {
          "base_uri": "https://localhost:8080/"
        },
        "id": "tRbfwuVsF4RQ",
        "outputId": "9982e9db-9cf1-4281-837a-9a35efda9ab9"
      },
      "source": [
        "# Output\n",
        "Jv = np.concatenate((A, B, z2), axis=1)\n",
        "print('Jv = \\n', Jv, '\\n')\n",
        "\n",
        "Jw = np.concatenate((z0, z1, zero), axis=1)\n",
        "print('Jw = \\n', Jw, '\\n')\n",
        "\n",
        "J = np.concatenate((Jv, Jw))\n",
        "print('J = \\n', J)"
      ],
      "execution_count": null,
      "outputs": [
        {
          "output_type": "stream",
          "name": "stdout",
          "text": [
            "Jv = \n",
            " [[-13.66025404  -8.66025404   0.        ]\n",
            " [ 13.66025404   5.           0.        ]\n",
            " [  0.           0.          -1.        ]] \n",
            "\n",
            "Jw = \n",
            " [[0 0 0]\n",
            " [0 0 0]\n",
            " [1 1 0]] \n",
            "\n",
            "J = \n",
            " [[-13.66025404  -8.66025404   0.        ]\n",
            " [ 13.66025404   5.           0.        ]\n",
            " [  0.           0.          -1.        ]\n",
            " [  0.           0.           0.        ]\n",
            " [  0.           0.           0.        ]\n",
            " [  1.           1.           0.        ]]\n"
          ]
        }
      ]
    },
    {
      "cell_type": "code",
      "metadata": {
        "id": "G5Vz8Z5AGYrl"
      },
      "source": [
        ""
      ],
      "execution_count": null,
      "outputs": []
    }
  ]
}