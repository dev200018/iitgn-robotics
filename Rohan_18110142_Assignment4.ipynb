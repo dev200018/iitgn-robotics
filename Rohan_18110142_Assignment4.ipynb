{
  "nbformat": 4,
  "nbformat_minor": 0,
  "metadata": {
    "colab": {
      "name": "Rohan_18110142_Assignment4.ipynb",
      "provenance": [],
      "collapsed_sections": []
    },
    "kernelspec": {
      "name": "python3",
      "display_name": "Python 3"
    },
    "language_info": {
      "name": "python"
    }
  },
  "cells": [
    {
      "cell_type": "markdown",
      "metadata": {
        "id": "SNRsKlIHOsrW"
      },
      "source": [
        "Question 1: Inverse kinematics of a Stanford manipulator"
      ]
    },
    {
      "cell_type": "code",
      "metadata": {
        "id": "tsqyLgvfOwSA",
        "colab": {
          "base_uri": "https://localhost:8080/"
        },
        "outputId": "68c103de-1a92-443e-816c-d2abee779907"
      },
      "source": [
        "# Importing Libraries\n",
        "import numpy as np\n",
        "\n",
        "# Creating Class Robot and defining functions\n",
        "class Robot():\n",
        "  def __init__(self, endeffector_position, lengthsoflinks):\n",
        "    self.endeffector_position = endeffector_position\n",
        "    self.lengthsoflinks = lengthsoflinks\n",
        "  \n",
        "  def inverse_kinematics(self):\n",
        "    theta1 = np.arctan(self.endeffector_position[1]/self.endeffector_position[0])\n",
        "    r = np.sqrt(self.endeffector_position[0]**2 + self.endeffector_position[1]**2)\n",
        "    s = self.endeffector_position[2] - self.lengthsoflinks[0]\n",
        "    theta2 = np.arctan(s/r)\n",
        "    d3 = np.sqrt(r**2 + s**2) - self.lengthsoflinks[1]\n",
        "    print(\"First Solution: \\n\", \"Theta1 = \", theta1, \"\\n Theta2 =\", theta2,\"\\n Extension: \", d3, \"\\n\")\n",
        "    print(\"Second Solution: \\n\", \"Theta1 = \", np.pi + theta1, \"\\n Theta2 =\", np.pi - theta2,\"\\n Extension:\", d3)\n",
        "\n",
        "\n",
        "# Enter the coordinates of the end effector in the second input array. (x & y coordinates should be non zero to avoid singular configuration)\n",
        "# Enter the values of d1 and a2 in the second input array.\n",
        "Stanford = Robot([30,30,30],[10,10])\n",
        "Stanford.inverse_kinematics()"
      ],
      "execution_count": 9,
      "outputs": [
        {
          "output_type": "stream",
          "name": "stdout",
          "text": [
            "First Solution: \n",
            " Theta1 =  0.7853981633974483 \n",
            " Theta2 = 0.4405106630046985 \n",
            " Extension:  36.9041575982343 \n",
            "\n",
            "Second Solution: \n",
            " Theta1 =  3.9269908169872414 \n",
            " Theta2 = 2.7010819905850947 \n",
            " Extension: 36.9041575982343\n"
          ]
        }
      ]
    },
    {
      "cell_type": "markdown",
      "metadata": {
        "id": "L75iWu-bOwjE"
      },
      "source": [
        "Question 2: Inverse Kinematics of a SCARA Manipulator"
      ]
    },
    {
      "cell_type": "code",
      "metadata": {
        "id": "nMseAQ-bOyVl",
        "colab": {
          "base_uri": "https://localhost:8080/"
        },
        "outputId": "a5b49e36-3ad9-4326-a55c-1a2f0959a412"
      },
      "source": [
        "# Importing Libraries\n",
        "import numpy as np\n",
        "\n",
        "# Creating Class Robot and defining functions\n",
        "class Robot():\n",
        "  def __init__(self, endeffector_position, lengthsoflinks):\n",
        "    self.endeffector_position = endeffector_position\n",
        "    self.lengthsoflinks = lengthsoflinks\n",
        "  \n",
        "  def inverse_kinematics(self):\n",
        "    r = (self.endeffector_position[0]**2 + self.endeffector_position[1]**2 - self.lengthsoflinks[0]**2 - self.lengthsoflinks[1]**2)/(2 * self.lengthsoflinks[0] * self.lengthsoflinks[1])\n",
        "    theta2 = np.arctan(np.sqrt(abs(1 - r**2)/(abs(r))))\n",
        "    theta1 = np.arctan(self.endeffector_position[1]/self.endeffector_position[0]) - np.arctan((self.lengthsoflinks[1] * np.sin(theta2))/(self.lengthsoflinks[0] + self.lengthsoflinks[1] * np.cos(theta2)))\n",
        "    d3 = self.endeffector_position[2]\n",
        "    print(\"Solution: \\n\", \"Theta1 = \", theta1, \"\\n Theta2 =\", theta2,\"\\n Extension: \", d3, \"\\n\")\n",
        "\n",
        "# Enter the coordinates of the end effector in the second input array. (x & y coordinates should be non zero to avoid singular configuration)\n",
        "# Enter the valus of a1, a2 in the second input array.\n",
        "SCARA = Robot([68.3,68.3,-50],[50,50])\n",
        "SCARA.inverse_kinematics()"
      ],
      "execution_count": 13,
      "outputs": [
        {
          "output_type": "stream",
          "name": "stdout",
          "text": [
            "Solution: \n",
            " Theta1 =  0.5388252963736686 \n",
            " Theta2 = 0.49314573404755935 \n",
            " Extension:  -50 \n",
            "\n"
          ]
        }
      ]
    },
    {
      "cell_type": "markdown",
      "metadata": {
        "id": "RSXboB4tOyuG"
      },
      "source": [
        "Question 3: Calculate Joint velocities using end effector velocities"
      ]
    },
    {
      "cell_type": "code",
      "metadata": {
        "id": "D7MBQ5auO0I5",
        "colab": {
          "base_uri": "https://localhost:8080/"
        },
        "outputId": "90a36a92-b228-4bf0-fe4a-ea0a42194e64"
      },
      "source": [
        "# Importing Libraries\n",
        "import numpy as np\n",
        "import matplotlib.pyplot as plt\n",
        "\n",
        "\n",
        "# Creating Class Robot and defining functions\n",
        "class Robot():\n",
        "  def __init__(self, numberoflinks, DH_matrix,joint_types=-1):\n",
        "    self.numberoflinks = numberoflinks\n",
        "    self.DH_matrix = DH_matrix\n",
        "    if(joint_types == -1):\n",
        "      self.joint_types = [1]*numberoflinks\n",
        "    else:\n",
        "      self.joint_types = joint_types\n",
        "\n",
        "  def transform_matrix(self):\n",
        "    self.A = []\n",
        "    self.R = []\n",
        "    for i in range(self.numberoflinks):\n",
        "      self.A.append(np.array([[np.cos(self.DH_matrix[i][0]), -np.sin(self.DH_matrix[i][0]) * np.cos(self.DH_matrix[i][3]), np.sin(self.DH_matrix[i][0]) * np.sin(self.DH_matrix[i][3]), self.DH_matrix[i][2] * np.cos(self.DH_matrix[i][0])],[np.sin(self.DH_matrix[i][0]), np.cos(self.DH_matrix[i][0]) * np.cos(self.DH_matrix[i][3]), -np.cos(self.DH_matrix[i][0]) * np.sin(self.DH_matrix[i][3]), self.DH_matrix[i][2] * np.sin(self.DH_matrix[i][0])],[0, np.sin(self.DH_matrix[i][3]), np.cos(self.DH_matrix[i][3]), self.DH_matrix[i][1]],[0, 0, 0, 1]])) \n",
        "      self.R.append(np.array([[np.cos(self.DH_matrix[i][0]), -np.sin(self.DH_matrix[i][0]) * np.cos(self.DH_matrix[i][3]), np.sin(self.DH_matrix[i][0]) * np.sin(self.DH_matrix[i][3])],[np.sin(self.DH_matrix[i][0]), np.cos(self.DH_matrix[i][0]) * np.cos(self.DH_matrix[i][3]), -np.cos(self.DH_matrix[i][0]) * np.sin(self.DH_matrix[i][3])],[0, np.sin(self.DH_matrix[i][3]), np.cos(self.DH_matrix[i][3])]]))\n",
        "    self.A = np.array(self.A) # Array of Homogenous Transformation Matrices\n",
        "    self.R = np.array(self.R) # Array of Rotation matrices\n",
        "    \n",
        "    # Creating array of R_0_n matrices (R01, R02, R03, R04 ...)\n",
        "    self.R_0_n = []\n",
        "    A = np.identity(3)\n",
        "    for i in range(self.numberoflinks):\n",
        "      self.R_0_n.append(A)\n",
        "      A = np.matmul(A, self.R[i])\n",
        "    self.R_0_n.append(A)\n",
        "    self.R_0_n = np.array(self.R_0_n)\n",
        "\n",
        "    # Creating array of H_0_n matrices (H01, H02, H03, H04 ...)\n",
        "    self.H_0_n = []\n",
        "    B = np.identity(4)\n",
        "    for i in range(self.numberoflinks):\n",
        "      self.H_0_n.append(B)\n",
        "      B = np.matmul(B, self.A[i])\n",
        "    self.H_0_n.append(B)\n",
        "    self.H_0_n = np.array(self.H_0_n)\n",
        "    \n",
        "    # Calculating Final Transfornation Matrix\n",
        "    T = np.asmatrix(np.identity(4))\n",
        "    for j in range(self.numberoflinks):\n",
        "        T = T * np.asmatrix(self.A[j]) #,dtype = 'int' for integer output\n",
        "    self.T = T\n",
        "    # print (\"A Matrices are: \\n\", self.A)\n",
        "    # print (\"Final Transformation Matrix: \\n\",T)\n",
        "    # print (\"Rotation Matrices are: \\n\", self.R)\n",
        "    # print (\"Rotation Matrices w.r.t base frame are: \\n\", self.R_0_n)\n",
        "  \n",
        "  def manipulator_jacobian(self):\n",
        "    # Creating z terms\n",
        "    self.z = []\n",
        "    k = np.array([[0],[0],[1]])\n",
        "    for i in range(self.numberoflinks+1):\n",
        "      self.z.append(np.matmul(self.R_0_n[i],k))\n",
        "    self.z = np.array(self.z)\n",
        "\n",
        "    # Creating O terms\n",
        "    d = np.array([[0],[0],[0],[1]])\n",
        "    self.O = np.matmul(self.H_0_n,d)[:self.numberoflinks+1]\n",
        "    self.On = np.delete(self.O,(3),axis=1)\n",
        "\n",
        "    # Creating Jacobian Manipulator (Here J1 will be 0th element of array J and so on)\n",
        "    self.J = []\n",
        "    for i in range(self.numberoflinks):\n",
        "      if self.joint_types[i] == 1:\n",
        "        X = self.On[-1] - self.On[i]\n",
        "        J_v = np.cross(self.z[i], X,axis = 0)\n",
        "        J_v = np.vstack((J_v, self.z[i]))\n",
        "        self.J.append(J_v)\n",
        "      else:\n",
        "        J_v = np.vstack((self.z[i], np.array([[0],[0],[0]])))\n",
        "        self.J.append(J_v)\n",
        "    self.J = np.array(self.J)\n",
        "    self.J_v = np.delete(self.J, (3,4,5), axis = 1)\n",
        "    # print (\"Manipulator Jacobian: \\n\", self.J)\n",
        "    # print (\"End effector position: \\n\", self.On[-1])\n",
        "    # print (\"End effector velocity: \\n\", \"v = \", self.J_v, \" x q_dot\")\n",
        "\n",
        "  def joint_velocities(self, xdot, ydot, zdot):\n",
        "    X_dot  =np.array([[xdot],[ydot],[zdot]])\n",
        "    J_v = self.J_v.reshape((3,3))\n",
        "    Jacobian_Rank = np.linalg.matrix_rank(J_v)\n",
        "    Augmentedmatrix_Rank = np.linalg.matrix_rank(np.hstack((J_v, X_dot)))\n",
        "    if Jacobian_Rank != Augmentedmatrix_Rank:\n",
        "      print(\"ERROR: Velocities provided are not possible for the given configuration\")\n",
        "      sys.exit()\n",
        "    else:\n",
        "      q_dot = np.linalg.pinv(J_v) @ X_dot\n",
        "      print(\"Joint Velocities are given by: \\n\", q_dot)\n",
        "\n",
        "# Initializing object \"robot\" and calculating result\n",
        "# Mention the number of links in the first input\n",
        "# Enter the DH table row wise in the order: [THETA, D, A, ALPHA]\n",
        "# Enter Rho values for each link: 1 for Revolute and 0 for Prismatic\n",
        "robot = Robot(3,[[np.pi/3, 0, 100, 0],[np.pi/6, 0, 100, 0],[np.pi/3, 0, 100, 0]],joint_types = [1,0,1])\n",
        "robot.transform_matrix()\n",
        "robot.manipulator_jacobian()\n",
        "robot.joint_velocities(10,10,10)"
      ],
      "execution_count": 26,
      "outputs": [
        {
          "output_type": "stream",
          "name": "stdout",
          "text": [
            "Joint Velocities are given by: \n",
            " [[-0.02679492]\n",
            " [-0.1       ]\n",
            " [10.        ]]\n"
          ]
        }
      ]
    },
    {
      "cell_type": "markdown",
      "metadata": {
        "id": "uizHjzJiO0XF"
      },
      "source": [
        "Question 6: Inverse Kinematics of a Spherical Wrist"
      ]
    },
    {
      "cell_type": "code",
      "metadata": {
        "id": "Z1ZgtlOEO2_N",
        "colab": {
          "base_uri": "https://localhost:8080/"
        },
        "outputId": "04174d63-5e02-4e74-d1be-2ffec28a0083"
      },
      "source": [
        "# Importing Libraries\n",
        "import numpy as np\n",
        "\n",
        "# Creating Class Robot and defining functions\n",
        "class Robot():\n",
        "  def __init__(self, rotation_matrix):\n",
        "    self.rotation_matrix = rotation_matrix\n",
        "  \n",
        "  def inverse_kinematics(self):\n",
        "    self.rotation_matrix = np.reshape(self.rotation_matrix, (3,3))\n",
        "    theta1 = np.arctan2(np.sqrt(abs(1 - self.rotation_matrix[2,2]**2)), self.rotation_matrix[2,2])\n",
        "    theta2 = np.arctan2(-np.sqrt(abs(1 - self.rotation_matrix[2,2]**2)), self.rotation_matrix[2,2])\n",
        "    phi1 = np.arctan2(self.rotation_matrix[1,2], self.rotation_matrix[0,2])\n",
        "    phi2 = np.arctan2(-self.rotation_matrix[1,2], -self.rotation_matrix[0,2])\n",
        "    psi1 = np.arctan2(-self.rotation_matrix[2,0], self.rotation_matrix[2,1])\n",
        "    psi2 = np.arctan2(self.rotation_matrix[2,0], -self.rotation_matrix[2,1])\n",
        "    print(\"First Solution: \\n\", \"theta = \", theta1, \"\\n phi = \", phi1, \"\\n psi = \", psi1)\n",
        "    print(\"Second Solution: \\n\", \"theta = \", theta2, \"\\n phi = \", phi2, \"\\n psi = \", psi2)\n",
        "\n",
        "\n",
        "# Enter the coordinates of the end effector in the second input array. (x & y coordinates should be non zero to avoid singular configuration)\n",
        "# Enter the valus of a1, a2 in the second input array.\n",
        "Spherical_Wrist = Robot([[2,0,0],[0,2,0],[0,0,2]])\n",
        "Spherical_Wrist.inverse_kinematics()"
      ],
      "execution_count": 30,
      "outputs": [
        {
          "output_type": "stream",
          "name": "stdout",
          "text": [
            "First Solution: \n",
            " theta =  0.7137243789447656 \n",
            " phi =  0.0 \n",
            " psi =  0.0\n",
            "Second Solution: \n",
            " theta =  -0.7137243789447656 \n",
            " phi =  0.0 \n",
            " psi =  0.0\n"
          ]
        }
      ]
    },
    {
      "cell_type": "markdown",
      "metadata": {
        "id": "dsVPx7gn_2Mc"
      },
      "source": [
        "Question 7: 3D Printer DH Parameters to calcualte Jacobian Matrix, Forward kinematics, End Effectors position and velocity."
      ]
    },
    {
      "cell_type": "code",
      "metadata": {
        "colab": {
          "base_uri": "https://localhost:8080/"
        },
        "id": "dFP7KAV8AUoi",
        "outputId": "6fc3608f-2436-4a75-b894-aa5dfcb9e769"
      },
      "source": [
        "# Importing Libraries\n",
        "import numpy as np\n",
        "\n",
        "# Creating Class Robot and defining functions\n",
        "class Robot():\n",
        "  def __init__(self, numberoflinks, DH_matrix,joint_types=-1):\n",
        "    self.numberoflinks = numberoflinks\n",
        "    self.DH_matrix = DH_matrix\n",
        "    if(joint_types == -1):\n",
        "      self.joint_types = [1]*numberoflinks\n",
        "    else:\n",
        "      self.joint_types = joint_types\n",
        "\n",
        "  def forward_kinematics(self):\n",
        "    self.A = []\n",
        "    self.R = []\n",
        "    for i in range(self.numberoflinks):\n",
        "      self.A.append(np.array([[np.cos(self.DH_matrix[i][0]), -np.sin(self.DH_matrix[i][0]) * np.cos(self.DH_matrix[i][3]), np.sin(self.DH_matrix[i][0]) * np.sin(self.DH_matrix[i][3]), self.DH_matrix[i][2] * np.cos(self.DH_matrix[i][0])],[np.sin(self.DH_matrix[i][0]), np.cos(self.DH_matrix[i][0]) * np.cos(self.DH_matrix[i][3]), -np.cos(self.DH_matrix[i][0]) * np.sin(self.DH_matrix[i][3]), self.DH_matrix[i][2] * np.sin(self.DH_matrix[i][0])],[0, np.sin(self.DH_matrix[i][3]), np.cos(self.DH_matrix[i][3]), self.DH_matrix[i][1]],[0, 0, 0, 1]])) \n",
        "      self.R.append(np.array([[np.cos(self.DH_matrix[i][0]), -np.sin(self.DH_matrix[i][0]) * np.cos(self.DH_matrix[i][3]), np.sin(self.DH_matrix[i][0]) * np.sin(self.DH_matrix[i][3])],[np.sin(self.DH_matrix[i][0]), np.cos(self.DH_matrix[i][0]) * np.cos(self.DH_matrix[i][3]), -np.cos(self.DH_matrix[i][0]) * np.sin(self.DH_matrix[i][3])],[0, np.sin(self.DH_matrix[i][3]), np.cos(self.DH_matrix[i][3])]]))\n",
        "    self.A = np.array(self.A) # Array of Homogenous Transformation Matrices\n",
        "    self.R = np.array(self.R) # Array of Rotation matrices\n",
        "    \n",
        "    # Creating array of R_0_n matrices (R01, R02, R03, R04 ...)\n",
        "    self.R_0_n = []\n",
        "    A = np.identity(3)\n",
        "    for i in range(self.numberoflinks):\n",
        "      self.R_0_n.append(A)\n",
        "      A = np.matmul(A, self.R[i])\n",
        "    self.R_0_n.append(A)\n",
        "    self.R_0_n = np.array(self.R_0_n)\n",
        "\n",
        "    # Creating array of H_0_n matrices (H01, H02, H03, H04 ...)\n",
        "    self.H_0_n = []\n",
        "    B = np.identity(4)\n",
        "    for i in range(self.numberoflinks):\n",
        "      self.H_0_n.append(B)\n",
        "      B = np.matmul(B, self.A[i])\n",
        "    self.H_0_n.append(B)\n",
        "    self.H_0_n = np.array(self.H_0_n)\n",
        "    \n",
        "    # Calculating Final Transfornation Matrix\n",
        "    T = np.asmatrix(np.identity(4))\n",
        "    for j in range(self.numberoflinks):\n",
        "        T = T * np.asmatrix(self.A[j]) #,dtype = 'int' for integer output\n",
        "    self.T = T\n",
        "    # print (\"A Matrices are: \\n\", self.A)\n",
        "    print (\"The forward kinematics equations in matrix form are: \\n\", \"[p0 \\n 1] = \", T ,\"[p3 \\n 1]\")\n",
        "    # print (\"Rotation Matrices are: \\n\", self.R)\n",
        "    # print (\"Rotation Matrices w.r.t base frame are: \\n\", self.R_0_n)\n",
        "  \n",
        "  def manipulator_jacobian(self):\n",
        "    # Creating z terms\n",
        "    self.z = []\n",
        "    k = np.array([[0],[0],[1]])\n",
        "    for i in range(self.numberoflinks+1):\n",
        "      self.z.append(np.matmul(self.R_0_n[i],k))\n",
        "    self.z = np.array(self.z)\n",
        "\n",
        "    # Creating O terms\n",
        "    d = np.array([[0],[0],[0],[1]])\n",
        "    self.O = np.matmul(self.H_0_n,d)[:self.numberoflinks+1]\n",
        "    self.On = np.delete(self.O,(3),axis=1)\n",
        "\n",
        "    # Creating Jacobian Manipulator (Here J1 will be 0th element of array J and so on)\n",
        "    self.J = []\n",
        "    for i in range(self.numberoflinks):\n",
        "      if self.joint_types[i] == 1:\n",
        "        X = self.On[-1] - self.On[i]\n",
        "        J_v = np.cross(self.z[i], X,axis = 0)\n",
        "        J_v = np.vstack((J_v, self.z[i]))\n",
        "        self.J.append(J_v)\n",
        "      else:\n",
        "        J_v = np.vstack((self.z[i], np.array([[0],[0],[0]])))\n",
        "        self.J.append(J_v)\n",
        "    self.J = np.array(self.J)\n",
        "    self.J_v = np.delete(self.J, (3,4,5), axis = 1)\n",
        "    print (\"Manipulator Jacobian: \\n\", self.J)\n",
        "    print (\"End effector position: \\n\", self.On[-1])\n",
        "    print (\"End effector velocity: \\n\", \"v = \", self.J_v, \" x q_dot\")\n",
        "\n",
        "# Initializing object \"robot\" and calculating result\n",
        "# Mention the number of links in the first input\n",
        "# Enter the DH table row wise in the order: [THETA, D, A, ALPHA]\n",
        "# Enter Rho values for each link: 1 for Revolute and 0 for Prismatic\n",
        "DPrinter = Robot(3,[[0, 50 + 10, 0, -np.pi/2],[-np.pi/2, 50 + 10, 0, -np.pi/2],[0, 50 + 10, 0, 0]],joint_types = [0,0,0])\n",
        "DPrinter.forward_kinematics()\n",
        "DPrinter.manipulator_jacobian()"
      ],
      "execution_count": 4,
      "outputs": [
        {
          "output_type": "stream",
          "name": "stdout",
          "text": [
            "The forward kinematics equations in matrix form are: \n",
            " [p0 \n",
            " 1] =  [[ 6.123234e-17  6.123234e-17  1.000000e+00  6.000000e+01]\n",
            " [-6.123234e-17 -1.000000e+00  6.123234e-17  6.000000e+01]\n",
            " [ 1.000000e+00 -6.123234e-17 -6.123234e-17  6.000000e+01]\n",
            " [ 0.000000e+00  0.000000e+00  0.000000e+00  1.000000e+00]] [p3 \n",
            " 1]\n",
            "Manipulator Jacobian: \n",
            " [[[ 0.000000e+00]\n",
            "  [ 0.000000e+00]\n",
            "  [ 1.000000e+00]\n",
            "  [ 0.000000e+00]\n",
            "  [ 0.000000e+00]\n",
            "  [ 0.000000e+00]]\n",
            "\n",
            " [[ 0.000000e+00]\n",
            "  [ 1.000000e+00]\n",
            "  [ 6.123234e-17]\n",
            "  [ 0.000000e+00]\n",
            "  [ 0.000000e+00]\n",
            "  [ 0.000000e+00]]\n",
            "\n",
            " [[ 1.000000e+00]\n",
            "  [ 6.123234e-17]\n",
            "  [-6.123234e-17]\n",
            "  [ 0.000000e+00]\n",
            "  [ 0.000000e+00]\n",
            "  [ 0.000000e+00]]]\n",
            "End effector position: \n",
            " [[60.]\n",
            " [60.]\n",
            " [60.]]\n",
            "End effector velocity: \n",
            " v =  [[[ 0.000000e+00]\n",
            "  [ 0.000000e+00]\n",
            "  [ 1.000000e+00]]\n",
            "\n",
            " [[ 0.000000e+00]\n",
            "  [ 1.000000e+00]\n",
            "  [ 6.123234e-17]]\n",
            "\n",
            " [[ 1.000000e+00]\n",
            "  [ 6.123234e-17]\n",
            "  [-6.123234e-17]]]  x q_dot\n"
          ]
        }
      ]
    }
  ]
}