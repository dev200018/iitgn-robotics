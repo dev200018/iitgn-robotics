{
  "nbformat": 4,
  "nbformat_minor": 0,
  "metadata": {
    "colab": {
      "name": "20310034_T1_Midsem",
      "provenance": []
    },
    "kernelspec": {
      "name": "python3",
      "display_name": "Python 3"
    },
    "language_info": {
      "name": "python"
    }
  },
  "cells": [
    {
      "cell_type": "code",
      "metadata": {
        "id": "bIOoO9hfGyMz"
      },
      "source": [
        "import scipy as sci\n",
        "import matplotlib.pyplot as plt\n",
        "import numpy as np\n",
        "from scipy.integrate import odeint\n",
        "import math as m\n",
        "import sympy as sp\n",
        "from sympy import symbols\n",
        "from sympy import sympify\n",
        "from sympy import *\n",
        "import random\n",
        "import pandas as pd "
      ],
      "execution_count": 4,
      "outputs": []
    },
    {
      "cell_type": "code",
      "metadata": {
        "id": "42xWZsWS1Mai"
      },
      "source": [
        "# Co-ordinates of corners of default rectangle\n",
        "A = np.array([0.45,0.075,0.1])\n",
        "B = np.array([0.45,-0.075,0.1])\n",
        "C = np.array([0.25,-0.075,0.1])\n",
        "D = np.array([0.25,0.075,0.1])"
      ],
      "execution_count": 23,
      "outputs": []
    },
    {
      "cell_type": "code",
      "metadata": {
        "colab": {
          "base_uri": "https://localhost:8080/"
        },
        "id": "GoNClSfhKl97",
        "outputId": "dd86c325-a101-484a-fb17-dc9fd66e76ee"
      },
      "source": [
        "# User input co-ordinates of [A,B,C,D]\n",
        "A1=np.zeros((3,1))\n",
        "B1=np.zeros((3,1))\n",
        "C1=np.zeros((3,1))\n",
        "D1=np.zeros((3,1))\n",
        "\n",
        "#Input co-ordinates of A\n",
        "for j in range(3):\n",
        "  A1[j]= input('Co-ordinates of A: ')\n",
        "\n",
        "for j in range(3):\n",
        "  B1[j]= (input('Co-ordinates of B: ')) \n",
        "\n",
        "for j in range(3):\n",
        "  C1[j]= (input('Co-ordinates of C: ')) \n",
        "\n",
        "for j in range(3):\n",
        "  D1[j]= (input('Co-ordinates of D: ')) \n",
        "  \n",
        "print(A,B,C,D)  "
      ],
      "execution_count": 139,
      "outputs": [
        {
          "name": "stdout",
          "output_type": "stream",
          "text": [
            "Co-ordinates of A: 0.4\n",
            "Co-ordinates of A: 0.08\n",
            "Co-ordinates of A: 0.1\n",
            "Co-ordinates of B: 0.43\n",
            "Co-ordinates of B: 0.085\n",
            "Co-ordinates of B: 0.1\n",
            "Co-ordinates of C: 0.35\n",
            "Co-ordinates of C: 0.07\n",
            "Co-ordinates of C: 0.12\n",
            "Co-ordinates of D: 0.41\n",
            "Co-ordinates of D: 0.075\n",
            "Co-ordinates of D: 0.1\n"
          ]
        }
      ]
    },
    {
      "cell_type": "markdown",
      "metadata": {
        "id": "X0QPLM-lSJ7r"
      },
      "source": [
        "Co-ordinates for Task 1-c"
      ]
    },
    {
      "cell_type": "code",
      "metadata": {
        "id": "l9RVTHZ1N5lW"
      },
      "source": [
        "A2 = np.array([0.4,0.06,0.1])\n",
        "B2 = np.array([0.4,0.01,0.1])\n",
        "C2 = np.array([0.35,0.01,0.1])\n",
        "D2 = np.array([0.35,0.06,0.1])"
      ],
      "execution_count": 144,
      "outputs": []
    },
    {
      "cell_type": "markdown",
      "metadata": {
        "id": "5UcM2LyqmXXT"
      },
      "source": [
        "Co-ordinates for Task 1-e"
      ]
    },
    {
      "cell_type": "code",
      "metadata": {
        "id": "obN4c0cWmWHI"
      },
      "source": [
        "A3 = np.array([0.4,0.06,0.15])\n",
        "B3 = np.array([0.4,0.01,0.15])\n",
        "C3 = np.array([0.35,0.01,0.15])\n",
        "D3 = np.array([0.35,0.06,0.15])"
      ],
      "execution_count": 148,
      "outputs": []
    },
    {
      "cell_type": "markdown",
      "metadata": {
        "id": "w25mku54r0ki"
      },
      "source": [
        "Variable computing related to Task 1d: Compute joint variables at each junction for given velocity.\n",
        "\n",
        "-> Constant End-effector velocity: 0.01 m/s in linear direction. Thus first we need to compute all junction points in the trajectory of A-B-C-D-A. In all junction points Z co-ordinate is fixed (0.1m)."
      ]
    },
    {
      "cell_type": "code",
      "metadata": {
        "id": "LzrrTTexry-9"
      },
      "source": [
        "# Path A-B \n",
        "i=0\n",
        "x=0.45\n",
        "y=0.075\n",
        "z=0.1\n",
        "n1=(0.075+(0.075)/0.01)\n",
        "X=[]\n",
        "Y=[]\n",
        "Z=[]\n",
        "\n",
        "# Path A-B\n",
        "while y> 0.01:\n",
        "  X.append(0.4)\n",
        "  Y.append(0.06-(i*0.01))\n",
        "  Z.append(0.1)\n",
        "  y=0.06-(i*0.01)\n",
        "  i=i+1 \n",
        "\n",
        "# Path B-C\n",
        "j=0\n",
        "while x>= 0.35:\n",
        "  X.append(0.4-(j*0.01))\n",
        "  Y.append(0.01)\n",
        "  Z.append(0.1)\n",
        "  x=0.4-(j*0.01)\n",
        "  j=j+1  \n",
        "\n",
        "#Path C-D\n",
        "k=0\n",
        "while y< 0.06:\n",
        "  X.append(0.35)\n",
        "  Y.append(0.01+(k*0.01))\n",
        "  Z.append(0.1)\n",
        "  y=0.01+(k*0.01)\n",
        "  k=k+1 \n",
        "\n",
        "#Path D-A\n",
        "l=0\n",
        "while x< 0.4:\n",
        "  X.append(0.35+(l*0.01))\n",
        "  Y.append(0.06)\n",
        "  Z.append(0.1)\n",
        "  x=0.35+(l*0.01)\n",
        "  l=l+1  \n",
        "\n",
        "XX=np.array(X)\n",
        "YY=np.array(Y)\n",
        "ZZ=np.array(Z)"
      ],
      "execution_count": 179,
      "outputs": []
    },
    {
      "cell_type": "markdown",
      "metadata": {
        "id": "kz8W-Gs5FM4N"
      },
      "source": [
        "**SCARA Robot**"
      ]
    },
    {
      "cell_type": "markdown",
      "metadata": {
        "id": "EmX_vVbwHz6S"
      },
      "source": [
        "Defining function for forward and inverse kinematics."
      ]
    },
    {
      "cell_type": "code",
      "metadata": {
        "id": "ZMoXD2R5FNbn"
      },
      "source": [
        "def scara_invkin(X,l0,l1,l2):\n",
        "    x= X[0]\n",
        "    y= X[1]\n",
        "    z= X[2]\n",
        "    # using formulae from the textbook\n",
        "    #r = ((x**2+y**2-l1**2-l2**2)/(2*l1*l2))\n",
        "    #theta2 = np.arctan2(np.sqrt(1-r**2),r)\n",
        "    #theta1 = np.arctan2(y,x) - np.arctan2((l2*np.sin(theta2)),(l1+l2*np.cos(theta2)))\n",
        "    #d3 = l0-z\n",
        "    r = (x**2 + y**2 - l1**2 - l2**2)/(2*l1*l2)\n",
        "    if r>1 or r<-1:\n",
        "        print(\"outside workspace\")\n",
        "    theta2 = np.arctan2(np.sqrt(1-r**2),r)\n",
        "    theta1 = np.arctan2(y,x) - np.arctan2((l2*np.sin(theta2)),(l1+l2*np.cos(theta2)))\n",
        "    d3 = l0-z\n",
        "    \n",
        "    # converting from radians to degrees\n",
        "    theta1 = theta1*180/np.pi\n",
        "    theta2 = theta2*180/np.pi\n",
        "    return theta1,theta2,d3\n",
        "    \n",
        "def scara_fwkin(X,l0,l1,l2):\n",
        "    theta1= X[0]\n",
        "    theta2= X[1]\n",
        "    d3 = X[2]\n",
        "    theta1= theta1*np.pi/180\n",
        "    theta2=theta2*np.pi/180\n",
        "    p0= np.array([[l1*np.cos(theta1)+ l2*np.cos(theta1+theta2)],\n",
        "                  [l2*np.sin(theta1)+ l2*np.sin(theta1+theta2)],\n",
        "                  [l0-d3]])\n",
        "    return p0"
      ],
      "execution_count": 87,
      "outputs": []
    },
    {
      "cell_type": "markdown",
      "metadata": {
        "id": "IUnz8qLTHw76"
      },
      "source": [
        "Task 1a : Compute joint variables for 4 corners of rectangle & verify it by inverse kinematics approach."
      ]
    },
    {
      "cell_type": "code",
      "metadata": {
        "colab": {
          "base_uri": "https://localhost:8080/"
        },
        "id": "KKn5JKUq_12b",
        "outputId": "dd47fc53-2adf-4c3b-fcdd-098fa1304756"
      },
      "source": [
        "[a1,b1,c1]= scara_invkin(A,0.25,0.25,0.25)\n",
        "print('Joint variables for A=', [a1,b1,c1])\n",
        "AA= np.array([a1,b1,c1])\n",
        "\n",
        "[a2,b2,c2]= scara_invkin(B,0.25,0.25,0.25)\n",
        "print('Joint variables for B=', [a2,b2,c2])\n",
        "BB= np.array([a2,b2,c2])\n",
        "\n",
        "[a3,b3,c3]= scara_invkin(C,0.25,0.25,0.25)\n",
        "print('Joint variables for C=', [a3,b3,c3])\n",
        "CC= np.array([a3,b3,c3])\n",
        "\n",
        "[a4,b4,c4]= scara_invkin(D,0.25,0.25,0.25)\n",
        "print('Joint variables for B=', [a4,b4,c4])\n",
        "DD= np.array([a4,b4,c4])\n"
      ],
      "execution_count": 90,
      "outputs": [
        {
          "output_type": "stream",
          "name": "stdout",
          "text": [
            "Joint variables for A= [-14.696515095304628, 48.31767460666049, 0.15]\n",
            "Joint variables for B= [-33.62115951135586, 48.31767460666049, 0.15]\n",
            "Joint variables for C= [-75.23171134841033, 117.06493422883338, 0.15]\n",
            "Joint variables for B= [-41.83322288042307, 117.06493422883338, 0.15]\n"
          ]
        }
      ]
    },
    {
      "cell_type": "code",
      "metadata": {
        "colab": {
          "base_uri": "https://localhost:8080/"
        },
        "id": "czRTtNIRDgIP",
        "outputId": "7e6b0a7f-6297-4cd8-aaee-202fa3dec84b"
      },
      "source": [
        "pA= scara_fwkin(AA,0.25,0.25,0.25)\n",
        "print(pA)\n",
        "\n",
        "pB= scara_fwkin(BB,0.25,0.25,0.25)\n",
        "print(pB)\n",
        "\n",
        "pC= scara_fwkin(CC,0.25,0.25,0.25)\n",
        "print(pC)\n",
        "\n",
        "pD= scara_fwkin(DD,0.25,0.25,0.25)\n",
        "print(pD)"
      ],
      "execution_count": 91,
      "outputs": [
        {
          "output_type": "stream",
          "name": "stdout",
          "text": [
            "[[0.45 ]\n",
            " [0.075]\n",
            " [0.1  ]]\n",
            "[[ 0.45 ]\n",
            " [-0.075]\n",
            " [ 0.1  ]]\n",
            "[[ 0.25 ]\n",
            " [-0.075]\n",
            " [ 0.1  ]]\n",
            "[[0.25 ]\n",
            " [0.075]\n",
            " [0.1  ]]\n"
          ]
        }
      ]
    },
    {
      "cell_type": "markdown",
      "metadata": {
        "id": "1EXIsyGHJB_r"
      },
      "source": [
        "Task 1b: User input co-ordinates for points [A,B,C,D]"
      ]
    },
    {
      "cell_type": "code",
      "metadata": {
        "colab": {
          "base_uri": "https://localhost:8080/"
        },
        "id": "r8ufRAe_JBDx",
        "outputId": "4eb7e689-ebb0-4f9d-e90a-df607e05e418"
      },
      "source": [
        "[a1,b1,c1]= scara_invkin(A1,0.25,0.25,0.25)\n",
        "print('Joint variables for A=', [a1,b1,c1])\n",
        "AA1= np.array([a1,b1,c1])\n",
        "\n",
        "[a2,b2,c2]= scara_invkin(B1,0.25,0.25,0.25)\n",
        "print('Joint variables for B=', [a2,b2,c2])\n",
        "BB1= np.array([a2,b2,c2])\n",
        "\n",
        "[a3,b3,c3]= scara_invkin(C1,0.25,0.25,0.25)\n",
        "print('Joint variables for C=', [a3,b3,c3])\n",
        "CC1= np.array([a3,b3,c3])\n",
        "\n",
        "[a4,b4,c4]= scara_invkin(D1,0.25,0.25,0.25)\n",
        "print('Joint variables for B=', [a4,b4,c4])\n",
        "DD1= np.array([a4,b4,c4])\n",
        "\n",
        "pA= scara_fwkin(AA1,0.25,0.25,0.25)\n",
        "print('Co-ordinate of A= ',pA)\n",
        "\n",
        "pB= scara_fwkin(BB1,0.25,0.25,0.25)\n",
        "print('Co-ordinate of B= ',pB)\n",
        "\n",
        "pC= scara_fwkin(CC1,0.25,0.25,0.25)\n",
        "print('Co-ordinate of C= ',pC)\n",
        "\n",
        "pD= scara_fwkin(DD1,0.25,0.25,0.25)\n",
        "print('Co-ordinate of D= ',pD)"
      ],
      "execution_count": 141,
      "outputs": [
        {
          "output_type": "stream",
          "name": "stdout",
          "text": [
            "Joint variables for A= [array([-24.01925413]), array([70.65837321]), array([0.15])]\n",
            "Joint variables for B= [array([-17.57842158]), array([57.52035158]), array([0.15])]\n",
            "Joint variables for C= [array([-33.13999424]), array([88.89985343]), array([0.13])]\n",
            "Joint variables for B= [array([-23.1626497]), array([67.05794461]), array([0.15])]\n",
            "Co-ordinate of A=  [[[0.4 ]]\n",
            "\n",
            " [[0.08]]\n",
            "\n",
            " [[0.1 ]]]\n",
            "Co-ordinate of B=  [[[0.43 ]]\n",
            "\n",
            " [[0.085]]\n",
            "\n",
            " [[0.1  ]]]\n",
            "Co-ordinate of C=  [[[0.35]]\n",
            "\n",
            " [[0.07]]\n",
            "\n",
            " [[0.12]]]\n",
            "Co-ordinate of D=  [[[0.41 ]]\n",
            "\n",
            " [[0.075]]\n",
            "\n",
            " [[0.1  ]]]\n"
          ]
        }
      ]
    },
    {
      "cell_type": "markdown",
      "metadata": {
        "id": "qYeCwoNDSyGO"
      },
      "source": [
        "Task 1 C: Find joint variables for given co-ordinates"
      ]
    },
    {
      "cell_type": "code",
      "metadata": {
        "colab": {
          "base_uri": "https://localhost:8080/"
        },
        "id": "mJQXlYZdSy33",
        "outputId": "9d590cf1-9118-42d7-cb3e-829d5b660027"
      },
      "source": [
        "[a1,b1,c1]= scara_invkin(A2,0.25,0.25,0.25)\n",
        "print('Joint variables for A=', [a1,b1,c1])\n",
        "AA2= np.array([a1,b1,c1])\n",
        "\n",
        "[a2,b2,c2]= scara_invkin(B2,0.25,0.25,0.25)\n",
        "print('Joint variables for B=', [a2,b2,c2])\n",
        "BB2= np.array([a2,b2,c2])\n",
        "\n",
        "[a3,b3,c3]= scara_invkin(C2,0.25,0.25,0.25)\n",
        "print('Joint variables for C=', [a3,b3,c3])\n",
        "CC2= np.array([a3,b3,c3])\n",
        "\n",
        "[a4,b4,c4]= scara_invkin(D2,0.25,0.25,0.25)\n",
        "print('Joint variables for B=', [a4,b4,c4])\n",
        "DD2= np.array([a4,b4,c4])\n",
        "\n",
        "pA= scara_fwkin(AA2,0.25,0.25,0.25)\n",
        "print('Co-ordinate of A= ',pA)\n",
        "\n",
        "pB= scara_fwkin(BB2,0.25,0.25,0.25)\n",
        "print('Co-ordinate of B= ',pB)\n",
        "\n",
        "pC= scara_fwkin(CC2,0.25,0.25,0.25)\n",
        "print('Co-ordinate of C= ',pC)\n",
        "\n",
        "pD= scara_fwkin(DD2,0.25,0.25,0.25)\n",
        "print('Co-ordinate of D= ',pD)"
      ],
      "execution_count": 147,
      "outputs": [
        {
          "output_type": "stream",
          "name": "stdout",
          "text": [
            "Joint variables for A= [-27.475770490137332, 72.01307220017092, 0.15]\n",
            "Joint variables for B= [-35.4139253154836, 73.6920429992965, 0.15]\n",
            "Joint variables for C= [-43.91349624174205, 91.10014656671754, 0.15]\n",
            "Joint variables for B= [-35.02031676483832, 89.49579063247985, 0.15]\n",
            "Co-ordinate of A=  [[0.4 ]\n",
            " [0.06]\n",
            " [0.1 ]]\n",
            "Co-ordinate of B=  [[0.4 ]\n",
            " [0.01]\n",
            " [0.1 ]]\n",
            "Co-ordinate of C=  [[0.35]\n",
            " [0.01]\n",
            " [0.1 ]]\n",
            "Co-ordinate of D=  [[0.35]\n",
            " [0.06]\n",
            " [0.1 ]]\n"
          ]
        }
      ]
    },
    {
      "cell_type": "markdown",
      "metadata": {
        "id": "qsHQyzS_3ZC2"
      },
      "source": [
        "Task 1D: Generate Joint Variable"
      ]
    },
    {
      "cell_type": "code",
      "metadata": {
        "id": "5gvG_JC13X5S"
      },
      "source": [
        "# Inverse Kinematics\n",
        "q11= np.zeros(len(X))\n",
        "q22= np.zeros(len(X))\n",
        "d33= np.zeros(len(X))\n",
        "for i in range(len(X)): \n",
        "  AAA= np.array([[X[i]],[Y[i]],[Z[i]]])\n",
        "  [q11[i],q22[i],d33[i]]= scara_invkin(AAA,0.25,0.25,0.25)"
      ],
      "execution_count": 194,
      "outputs": []
    },
    {
      "cell_type": "code",
      "metadata": {
        "colab": {
          "base_uri": "https://localhost:8080/",
          "height": 282
        },
        "id": "VxVxj7I55389",
        "outputId": "cebaed81-36ed-447a-a7a0-234ea59b6f9d"
      },
      "source": [
        "# Forward Kinematics\n",
        "XX = np.zeros(len(X))\n",
        "YY = np.zeros(len(X))\n",
        "ZZ = np.zeros(len(X))\n",
        "\n",
        "for i in range(len(X)):\n",
        "  Q = np.array([[q11[i]],[q22[i]],[d33[i]]])\n",
        "  [XX[i],YY[i],ZZ[i]]=  scara_fwkin(Q,0.25,0.25,0.25)\n",
        "  "
      ],
      "execution_count": 197,
      "outputs": [
        {
          "output_type": "execute_result",
          "data": {
            "text/plain": [
              "[<matplotlib.lines.Line2D at 0x7fcef1734510>]"
            ]
          },
          "metadata": {},
          "execution_count": 197
        },
        {
          "output_type": "display_data",
          "data": {
            "image/png": "[encoded data removed]",
            "text/plain": [
              "<Figure size 432x288 with 1 Axes>"
            ]
          },
          "metadata": {
            "needs_background": "light"
          }
        }
      ]
    },
    {
      "cell_type": "markdown",
      "metadata": {
        "id": "Ph880O8qjMZA"
      },
      "source": [
        "**Task 1(e & f)** : SCARA Robot doesn't require wrist for the given application. The reason for this is last link extension of SCARA is always perpendicular to the surface and it matches the requirement of the question. \n",
        "\n",
        "So now new end effector co-ordinate of the rectangle are are as follows:\n",
        "A: (0.4,0.06,0.15)\n",
        "B: (0.4,0.01,0.15)\n",
        "C: (0.35,0.01,0.15)\n",
        "     D: (0.35,0.06,0.15)"
      ]
    },
    {
      "cell_type": "code",
      "metadata": {
        "colab": {
          "base_uri": "https://localhost:8080/"
        },
        "id": "_h636_vEmLg8",
        "outputId": "3dd47ba2-377c-4ce0-e7d8-81b0e40d5671"
      },
      "source": [
        "[a1,b1,c1]= scara_invkin(A3,0.25,0.25,0.25)\n",
        "print('Joint variables for A=', [a1,b1,c1])\n",
        "AA3= np.array([a1,b1,c1])\n",
        "\n",
        "[a2,b2,c2]= scara_invkin(B3,0.25,0.25,0.25)\n",
        "print('Joint variables for B=', [a2,b2,c2])\n",
        "BB3= np.array([a2,b2,c2])\n",
        "\n",
        "[a3,b3,c3]= scara_invkin(C3,0.25,0.25,0.25)\n",
        "print('Joint variables for C=', [a3,b3,c3])\n",
        "CC3= np.array([a3,b3,c3])\n",
        "\n",
        "[a4,b4,c4]= scara_invkin(D3,0.25,0.25,0.25)\n",
        "print('Joint variables for B=', [a4,b4,c4])\n",
        "DD3= np.array([a4,b4,c4])\n",
        "\n",
        "pA= scara_fwkin(AA3,0.25,0.25,0.25)\n",
        "print('Co-ordinate of A= ',pA)\n",
        "\n",
        "pB= scara_fwkin(BB3,0.25,0.25,0.25)\n",
        "print('Co-ordinate of B= ',pB)\n",
        "\n",
        "pC= scara_fwkin(CC3,0.25,0.25,0.25)\n",
        "print('Co-ordinate of C= ',pC)\n",
        "\n",
        "pD= scara_fwkin(DD3,0.25,0.25,0.25)\n",
        "print('Co-ordinate of D= ',pD)"
      ],
      "execution_count": 149,
      "outputs": [
        {
          "output_type": "stream",
          "name": "stdout",
          "text": [
            "Joint variables for A= [-27.475770490137332, 72.01307220017092, 0.1]\n",
            "Joint variables for B= [-35.4139253154836, 73.6920429992965, 0.1]\n",
            "Joint variables for C= [-43.91349624174205, 91.10014656671754, 0.1]\n",
            "Joint variables for B= [-35.02031676483832, 89.49579063247985, 0.1]\n",
            "Co-ordinate of A=  [[0.4 ]\n",
            " [0.06]\n",
            " [0.15]]\n",
            "Co-ordinate of B=  [[0.4 ]\n",
            " [0.01]\n",
            " [0.15]]\n",
            "Co-ordinate of C=  [[0.35]\n",
            " [0.01]\n",
            " [0.15]]\n",
            "Co-ordinate of D=  [[0.35]\n",
            " [0.06]\n",
            " [0.15]]\n"
          ]
        }
      ]
    },
    {
      "cell_type": "markdown",
      "metadata": {
        "id": "gu___yb7EBx3"
      },
      "source": [
        "**Standford Robot**"
      ]
    },
    {
      "cell_type": "markdown",
      "metadata": {
        "id": "tVEkxynSH6pR"
      },
      "source": [
        "Defining function for forward and inverse kinematics."
      ]
    },
    {
      "cell_type": "code",
      "metadata": {
        "id": "7RCsPlYIEAV1"
      },
      "source": [
        "def stanford_invkin(P,l1,l2):    \n",
        "    x=P[0]\n",
        "    y=P[1]\n",
        "    z=P[2] \n",
        "    r = (x**2 + y**2)**0.5\n",
        "    t = (r**2 - l2**2)**0.5\n",
        "    s=z-l1\n",
        "    theta1 = np.arctan2(y,x) - np.arctan2(l2,t)\n",
        "    theta2 = np.arctan2(np.cos(theta1)*x+np.sin(theta1)*y,z - l1)\n",
        "    d3 = np.sin(theta2)*(np.cos(theta1)*x + np.sin(theta1)*y) + np.cos(theta2)*s\n",
        "    return theta1,theta2,d3\n",
        "\n",
        "def stanford_fwkin(X,l1,l2):\n",
        "    theta1= X[0]\n",
        "    theta2= X[1]\n",
        "    d3 = X[2]\n",
        "    #theta1=theta1*np.pi/180\n",
        "    #theta2=theta2*np.pi/180\n",
        "    p0=np.array([[d3*np.cos(theta1)*np.sin(theta2)- l2*np.sin(theta1)],\n",
        "                 [d3*np.sin(theta1)*np.sin(theta2)+ l2*np.cos(theta1)],\n",
        "                 [d3*np.cos(theta2)+l1]])\n",
        "    print(p0)\n",
        "    "
      ],
      "execution_count": 75,
      "outputs": []
    },
    {
      "cell_type": "markdown",
      "metadata": {
        "id": "oJdh1rLnHu43"
      },
      "source": [
        "Task 1a : Compute joint variables for 4 corners of rectangle & verify it by inverse kinematics approach."
      ]
    },
    {
      "cell_type": "code",
      "metadata": {
        "colab": {
          "base_uri": "https://localhost:8080/"
        },
        "id": "Xw8yEAhBImwQ",
        "outputId": "d7001f09-b174-4b6a-f3b3-732064458f45"
      },
      "source": [
        "[a1,b1,c1]= stanford_invkin(A,0.25,0.25)\n",
        "print('Joint variables for A=', [a1,b1,c1])\n",
        "AA= np.array([a1,b1,c1])\n",
        "\n",
        "[a2,b2,c2]= stanford_invkin(B,0.25,0.25)\n",
        "print('Joint variables for B=', [a2,b2,c2])\n",
        "BB= np.array([a2,b2,c2])\n",
        "\n",
        "[a3,b3,c3]= stanford_invkin(C,0.25,0.25)\n",
        "print('Joint variables for C=', [a3,b3,c3])\n",
        "CC= np.array([a3,b3,c3])\n",
        "\n",
        "[a4,b4,c4]= stanford_invkin(D,0.25,0.25)\n",
        "print('Joint variables for B=', [a4,b4,c4])\n",
        "DD= np.array([a4,b4,c4])"
      ],
      "execution_count": 76,
      "outputs": [
        {
          "output_type": "stream",
          "name": "stdout",
          "text": [
            "Joint variables for A= [-0.41481867062111377, 1.9453169857298875, 0.4100304866714181]\n",
            "Joint variables for B= [-0.7451160254503674, 1.9453169857298875, 0.4100304866714181]\n",
            "Joint variables for C= [-1.5707963267948966, 2.677945044588987, 0.16770509831248423]\n",
            "Joint variables for B= [-0.9878827378391623, 2.677945044588987, 0.16770509831248426]\n"
          ]
        }
      ]
    },
    {
      "cell_type": "code",
      "metadata": {
        "colab": {
          "base_uri": "https://localhost:8080/"
        },
        "id": "ortTu8YMLpc0",
        "outputId": "467fe35d-aeb2-4d3f-96ef-798d422ae6ad"
      },
      "source": [
        "pA= stanford_fwkin(AA,0.25,0.25)\n",
        "print(pA)\n",
        "\n",
        "pB= stanford_fwkin(BB,0.25,0.25)\n",
        "print(pB)\n",
        "\n",
        "pC= stanford_fwkin(CC,0.25,0.25)\n",
        "print(pC)\n",
        "\n",
        "pD= stanford_fwkin(DD,0.25,0.25)\n",
        "print(pD)"
      ],
      "execution_count": 104,
      "outputs": [
        {
          "output_type": "stream",
          "name": "stdout",
          "text": [
            "[[-28.85226219]\n",
            " [ -1.33392202]\n",
            " [ 14.77356184]]\n",
            "None\n",
            "[[-28.8710299 ]\n",
            " [  0.83427437]\n",
            " [ 14.77356184]]\n",
            "None\n",
            "[[-52.02944646]\n",
            " [ 79.04134549]\n",
            " [ 47.93032457]]\n",
            "None\n",
            "[[-51.61108238]\n",
            " [-79.31515473]\n",
            " [ 47.93032457]]\n",
            "None\n"
          ]
        }
      ]
    },
    {
      "cell_type": "markdown",
      "metadata": {
        "id": "7R3HDTnAJkFY"
      },
      "source": [
        "Task 1b: User input co-ordinates for points [A,B,C,D]"
      ]
    },
    {
      "cell_type": "code",
      "metadata": {
        "colab": {
          "base_uri": "https://localhost:8080/"
        },
        "id": "l65B3h3gJlFs",
        "outputId": "aec2f6bf-19a9-487b-e3b4-e87da1d33465"
      },
      "source": [
        "[a1,b1,c1]= stanford_invkin(A1,0.25,0.25)\n",
        "print('Joint variables for A=', [a1,b1,c1])\n",
        "AA1= np.array([a1,b1,c1])\n",
        "\n",
        "[a2,b2,c2]= stanford_invkin(B1,0.25,0.25)\n",
        "print('Joint variables for B=', [a2,b2,c2])\n",
        "BB1= np.array([a2,b2,c2])\n",
        "\n",
        "[a3,b3,c3]= stanford_invkin(C1,0.25,0.25)\n",
        "print('Joint variables for C=', [a3,b3,c3])\n",
        "CC1= np.array([a3,b3,c3])\n",
        "\n",
        "[a4,b4,c4]= stanford_invkin(D1,0.25,0.25)\n",
        "print('Joint variables for B=', [a4,b4,c4])\n",
        "DD1= np.array([a4,b4,c4])\n",
        "\n",
        "pA= stanford_fwkin(AA1,0.25,0.25)\n",
        "print('Co-ordinate of A= ',pA)\n",
        "\n",
        "pB= stanford_fwkin(BB1,0.25,0.25)\n",
        "print('Co-ordinate of B= ',pB)\n",
        "\n",
        "pC= stanford_fwkin(CC1,0.25,0.25)\n",
        "print('Co-ordinate of C= ',pC)\n",
        "\n",
        "pD= stanford_fwkin(DD1,0.25,0.25)\n",
        "print('Co-ordinate of D= ',pD)"
      ],
      "execution_count": 142,
      "outputs": [
        {
          "output_type": "stream",
          "name": "stdout",
          "text": [
            "Joint variables for A= [array([-0.46228305]), array([2.00634505]), array([0.35552778])]\n",
            "Joint variables for B= [array([-0.41178405]), array([1.96555321]), array([0.39003205])]\n",
            "Joint variables for C= [array([-0.57858289]), array([2.04264569]), array([0.28600699])]\n",
            "Joint variables for B= [array([-0.46232879]), array([1.9934586]), array([0.36568429])]\n",
            "[[[0.4 ]]\n",
            "\n",
            " [[0.08]]\n",
            "\n",
            " [[0.1 ]]]\n",
            "Co-ordinate of A=  None\n",
            "[[[0.43 ]]\n",
            "\n",
            " [[0.085]]\n",
            "\n",
            " [[0.1  ]]]\n",
            "Co-ordinate of B=  None\n",
            "[[[0.35]]\n",
            "\n",
            " [[0.07]]\n",
            "\n",
            " [[0.12]]]\n",
            "Co-ordinate of C=  None\n",
            "[[[0.41 ]]\n",
            "\n",
            " [[0.075]]\n",
            "\n",
            " [[0.1  ]]]\n",
            "Co-ordinate of D=  None\n"
          ]
        }
      ]
    },
    {
      "cell_type": "markdown",
      "metadata": {
        "id": "iq_1tHAjSk5O"
      },
      "source": [
        "Task 1 C: Find joint variables for given co-ordinates"
      ]
    },
    {
      "cell_type": "code",
      "metadata": {
        "colab": {
          "base_uri": "https://localhost:8080/"
        },
        "id": "__DLnmqySsN4",
        "outputId": "b6bd82c1-05f2-45b7-89b9-3464fa8e544d"
      },
      "source": [
        "[a1,b1,c1]= stanford_invkin(A2,0.25,0.25)\n",
        "print('Joint variables for A=', [a1,b1,c1])\n",
        "AA2= np.array([a1,b1,c1])\n",
        "\n",
        "[a2,b2,c2]= stanford_invkin(B2,0.25,0.25)\n",
        "print('Joint variables for B=', [a2,b2,c2])\n",
        "BB2= np.array([a2,b2,c2])\n",
        "\n",
        "[a3,b3,c3]= stanford_invkin(C2,0.25,0.25)\n",
        "print('Joint variables for C=', [a3,b3,c3])\n",
        "CC2= np.array([a3,b3,c3])\n",
        "\n",
        "[a4,b4,c4]= stanford_invkin(D2,0.25,0.25)\n",
        "print('Joint variables for B=', [a4,b4,c4])\n",
        "DD2= np.array([a4,b4,c4])\n",
        "\n",
        "pA= stanford_fwkin(AA2,0.25,0.25)\n",
        "print('Co-ordinate of A= ',pA)\n",
        "\n",
        "pB= stanford_fwkin(BB2,0.25,0.25)\n",
        "print('Co-ordinate of B= ',pB)\n",
        "\n",
        "pC= stanford_fwkin(CC2,0.25,0.25)\n",
        "print('Co-ordinate of C= ',pC)\n",
        "\n",
        "pD= stanford_fwkin(DD2,0.25,0.25)\n",
        "print('Co-ordinate of D= ',pD)"
      ],
      "execution_count": 146,
      "outputs": [
        {
          "output_type": "stream",
          "name": "stdout",
          "text": [
            "Joint variables for A= [-0.5174146543995926, 2.0115929687793694, 0.35156791662493897]\n",
            "Joint variables for B= [-0.6498866813271296, 2.018428698153693, 0.34655446902326925]\n",
            "Joint variables for C= [-0.7666230590338181, 2.1198928158776433, 0.2874021572639983]\n",
            "Joint variables for B= [-0.6112582163474365, 2.1073751697101497, 0.2934280150224242]\n",
            "[[0.4 ]\n",
            " [0.06]\n",
            " [0.1 ]]\n",
            "Co-ordinate of A=  None\n",
            "[[0.4 ]\n",
            " [0.01]\n",
            " [0.1 ]]\n",
            "Co-ordinate of B=  None\n",
            "[[0.35]\n",
            " [0.01]\n",
            " [0.1 ]]\n",
            "Co-ordinate of C=  None\n",
            "[[0.35]\n",
            " [0.06]\n",
            " [0.1 ]]\n",
            "Co-ordinate of D=  None\n"
          ]
        }
      ]
    },
    {
      "cell_type": "markdown",
      "metadata": {
        "id": "uFkSRyJr9jED"
      },
      "source": [
        "Task:1 e: In this task we need to compute that joint variables of this stanford manipulator for the given extra 5cm height in Z-Axis. \n"
      ]
    },
    {
      "cell_type": "code",
      "metadata": {
        "colab": {
          "base_uri": "https://localhost:8080/"
        },
        "id": "NdNQNEd59hfN",
        "outputId": "e0ec3eb0-8fc8-4583-9df4-99d271d7eb9b"
      },
      "source": [
        "[a1,b1,c1]= stanford_invkin(A3,0.25,0.25)\n",
        "print('Joint variables for A=', [a1,b1,c1])\n",
        "AA3= np.array([a1,b1,c1])\n",
        "\n",
        "[a2,b2,c2]= stanford_invkin(B3,0.25,0.25)\n",
        "print('Joint variables for B=', [a2,b2,c2])\n",
        "BB3= np.array([a2,b2,c2])\n",
        "\n",
        "[a3,b3,c3]= stanford_invkin(C3,0.25,0.25)\n",
        "print('Joint variables for C=', [a3,b3,c3])\n",
        "CC3= np.array([a3,b3,c3])\n",
        "\n",
        "[a4,b4,c4]= stanford_invkin(D3,0.25,0.25)\n",
        "print('Joint variables for B=', [a4,b4,c4])\n",
        "DD3= np.array([a4,b4,c4])\n",
        "\n",
        "pA= stanford_fwkin(AA3,0.25,0.25)\n",
        "print('Co-ordinate of A= ',pA)\n",
        "\n",
        "pB= stanford_fwkin(BB3,0.25,0.25)\n",
        "print('Co-ordinate of B= ',pB)\n",
        "\n",
        "pC= stanford_fwkin(CC3,0.25,0.25)\n",
        "print('Co-ordinate of C= ',pC)\n",
        "\n",
        "pD= stanford_fwkin(DD3,0.25,0.25)\n",
        "print('Co-ordinate of D= ',pD)"
      ],
      "execution_count": 198,
      "outputs": [
        {
          "output_type": "stream",
          "name": "stdout",
          "text": [
            "Joint variables for A= [-0.5174146543995926, 1.875504706301149, 0.3333166662499792]\n",
            "Joint variables for B= [-0.6498866813271296, 1.8805829046505895, 0.32802438933713457]\n",
            "Joint variables for C= [-0.7666230590338181, 1.9581017369059386, 0.26476404589747454]\n",
            "Joint variables for B= [-0.6112582163474365, 1.948304114410265, 0.27129319932501067]\n",
            "[[0.4 ]\n",
            " [0.06]\n",
            " [0.15]]\n",
            "Co-ordinate of A=  None\n",
            "[[0.4 ]\n",
            " [0.01]\n",
            " [0.15]]\n",
            "Co-ordinate of B=  None\n",
            "[[0.35]\n",
            " [0.01]\n",
            " [0.15]]\n",
            "Co-ordinate of C=  None\n",
            "[[0.35]\n",
            " [0.06]\n",
            " [0.15]]\n",
            "Co-ordinate of D=  None\n"
          ]
        }
      ]
    },
    {
      "cell_type": "markdown",
      "metadata": {
        "id": "24TXcgyKAEZb"
      },
      "source": [
        "Taks 1f: Stanford with spherical wrist: In this section we need to find angles of the spherical wrist, with wrist center situated at predefined co-ordinates[A,B,C,D]. \n",
        "\n",
        "Didn't get time to compute for all corners. This is only for A point. "
      ]
    },
    {
      "cell_type": "code",
      "metadata": {
        "colab": {
          "base_uri": "https://localhost:8080/"
        },
        "id": "wb4aRpIDACmB",
        "outputId": "e7a58de3-06a6-45e1-95a5-6b4b91232b53"
      },
      "source": [
        "#Manipulator parameters\n",
        "d1=0.05       #Length of link 1 (part a)\n",
        "Px= 0.4    #X co-ordinate of end effector\n",
        "Py= 0.01   #Y-co-ordinate of end effector\n",
        "Pz= 0.4    #Z-co-ordinate of end effector\n",
        "\n",
        "r=(Px**2 +Py**2)**0.5\n",
        "theta1= m.atan2(Py,Px)\n",
        "a = Pz-d1\n",
        "d3=(r**2 + a**2)**0.5\n",
        "theta2= np.pi*0.5+ m.atan2(r,a)\n",
        "\n",
        "print(\"Theta1\",theta1*180/m.pi)\n",
        "print(\"Theta2\",theta2*180/m.pi)\n",
        "print(\"Extension d3\",d3)"
      ],
      "execution_count": 201,
      "outputs": [
        {
          "output_type": "stream",
          "name": "stdout",
          "text": [
            "Theta1 1.4320961841646465\n",
            "Theta2 138.82294511868224\n",
            "Extension d3 0.5316013544000806\n"
          ]
        }
      ]
    },
    {
      "cell_type": "markdown",
      "metadata": {
        "id": "Ffcvy9suOntJ"
      },
      "source": [
        "**PUMA Robot** (With no joint offset: Elbow Manipulator)"
      ]
    },
    {
      "cell_type": "markdown",
      "metadata": {
        "id": "F0TTxh36H8ye"
      },
      "source": [
        "Defining function for forward and inverse kinematics."
      ]
    },
    {
      "cell_type": "code",
      "metadata": {
        "id": "CEOyhxzyOm_0"
      },
      "source": [
        "#repository\n",
        "def puma_invkin(P,l1,l2,l3):\n",
        "    xc= P[0]\n",
        "    yc= P[1]\n",
        "    zc= P[2]\n",
        "    theta1 = np.rad2deg(m.atan2(yc,xc))\n",
        "    D = (xc*xc+yc*yc+(zc-l1)*(zc-l1)-l2*l2-l3*l3)/(2*l2*l3)\n",
        "    if D>=1 or D<=-1:\n",
        "        print(\"singular configuration\")\n",
        "    if D>1 or D<-1:\n",
        "        print(\"outside workspace\")\n",
        "    theta3 = (m.atan2((-m.sqrt(1-D*D)),D))\n",
        "    theta2 = np.rad2deg(m.atan2(zc-l1,(m.sqrt(xc*xc+yc*yc)))-m.atan2((l3*m.sin(theta3)),(l2+l3*m.cos(theta3))))\n",
        "    theta3 = np.rad2deg(theta3)    \n",
        "    return theta1,theta2,theta3\n",
        "\n",
        "# Articulated Arm with wrist\n",
        "def puma1_invkin(P,l1,l2,l3):\n",
        "    xc= P[0]\n",
        "    yc= P[1]\n",
        "    zc= P[2]\n",
        "    theta1 = np.rad2deg(m.atan2(yc,xc))\n",
        "    D = (xc*xc+yc*yc+(zc-l1)*(zc-l1)-l2*l2-l3*l3)/(2*l2*l3)\n",
        "    if D>=1 or D<=-1:\n",
        "        print(\"singular configuration\")\n",
        "    if D>1 or D<-1:\n",
        "        print(\"outside workspace\")\n",
        "    theta3 = (m.atan2((-m.sqrt(1-D*D)),D))\n",
        "    theta2 = np.rad2deg(m.atan2(zc-l1,(m.sqrt(xc*xc+yc*yc)))-m.atan2((l3*m.sin(theta3)),(l2+l3*m.cos(theta3))))\n",
        "    theta3 = np.rad2deg(theta3)   \n",
        "    u= (1-())\n",
        "    theta5 = m.atan2()\n",
        "    return theta1,theta2,theta3\n",
        "\n",
        "\n",
        "def puma_fwkin(X,l1,l2,l3):\n",
        "    theta1 = X[0]\n",
        "    theta2 = X[1]\n",
        "    theta3 = X[2]\n",
        "    theta1 = theta1*np.pi/180\n",
        "    theta2 = theta2*np.pi/180\n",
        "    theta3 = theta3*np.pi/180\n",
        "    \n",
        "    x= np.cos(theta1)* (l3*np.cos(theta2+theta3)+ l2*np.cos(theta2))\n",
        "    y= np.sin(theta1) * (l3*np.cos(theta2+theta3)+ l2*np.cos(theta2))\n",
        "    z= l1+ l3*np.sin(theta2+theta3) +l2*np.sin(theta2)\n",
        "    p0= np.array([[x],[y],[z]])\n",
        "    return p0"
      ],
      "execution_count": 99,
      "outputs": []
    },
    {
      "cell_type": "markdown",
      "metadata": {
        "id": "HEdAx2oyHdYj"
      },
      "source": [
        "Task 1a : Compute joint variables for 4 corners of rectangle & verify it by inverse kinematics approach."
      ]
    },
    {
      "cell_type": "code",
      "metadata": {
        "colab": {
          "base_uri": "https://localhost:8080/"
        },
        "id": "Yuv3F5Dpaksm",
        "outputId": "5dbde216-6a93-4df3-b751-492c55022bec"
      },
      "source": [
        "[a1,b1,c1]= puma_invkin(A,0.25,0.25,0.25)\n",
        "print('Joint variables for A=', [a1,b1,c1])\n",
        "AA= np.array([a1,b1,c1])\n",
        "\n",
        "[a2,b2,c2]= puma_invkin(B,0.25,0.25,0.25)\n",
        "print('Joint variables for B=', [a2,b2,c2])\n",
        "BB= np.array([a2,b2,c2])\n",
        "\n",
        "[a3,b3,c3]= puma_invkin(C,0.25,0.25,0.25)\n",
        "print('Joint variables for C=', [a3,b3,c3])\n",
        "CC= np.array([a3,b3,c3])\n",
        "\n",
        "[a4,b4,c4]= puma_invkin(D,0.25,0.25,0.25)\n",
        "print('Joint variables for B=', [a4,b4,c4])\n",
        "DD= np.array([a4,b4,c4])"
      ],
      "execution_count": 100,
      "outputs": [
        {
          "output_type": "stream",
          "name": "stdout",
          "text": [
            "Joint variables for A= [9.462322208025617, -2.0367282034521836, -32.328064122162274]\n",
            "Joint variables for B= [-9.462322208025617, -2.0367282034521836, -32.328064122162274]\n",
            "Joint variables for C= [-16.69924423399362, 23.09520684670464, -105.96201416284724]\n",
            "Joint variables for B= [16.69924423399362, 23.09520684670464, -105.96201416284724]\n"
          ]
        }
      ]
    },
    {
      "cell_type": "code",
      "metadata": {
        "colab": {
          "base_uri": "https://localhost:8080/"
        },
        "id": "QgkA0oRFcWs4",
        "outputId": "857ffeb6-4bcd-40a3-8a19-19e755106070"
      },
      "source": [
        "pA= puma_fwkin(AA,0.25,0.25,0.25)\n",
        "print(pA)\n",
        "\n",
        "pB= puma_fwkin(BB,0.25,0.25,0.25)\n",
        "print(pB)\n",
        "\n",
        "pC= puma_fwkin(CC,0.25,0.25,0.25)\n",
        "print(pC)\n",
        "\n",
        "pD= puma_fwkin(DD,0.25,0.25,0.25)\n",
        "print(pD)"
      ],
      "execution_count": 101,
      "outputs": [
        {
          "output_type": "stream",
          "name": "stdout",
          "text": [
            "[[0.45 ]\n",
            " [0.075]\n",
            " [0.1  ]]\n",
            "[[ 0.45 ]\n",
            " [-0.075]\n",
            " [ 0.1  ]]\n",
            "[[ 0.25 ]\n",
            " [-0.075]\n",
            " [ 0.1  ]]\n",
            "[[0.25 ]\n",
            " [0.075]\n",
            " [0.1  ]]\n"
          ]
        }
      ]
    },
    {
      "cell_type": "markdown",
      "metadata": {
        "id": "wJNAu2kXJnZ_"
      },
      "source": [
        "Task 1b: User input co-ordinates for points [A,B,C,D]"
      ]
    },
    {
      "cell_type": "code",
      "metadata": {
        "colab": {
          "base_uri": "https://localhost:8080/"
        },
        "id": "ME8gJQ8nz3g7",
        "outputId": "5b9a1847-30fd-4ae2-cf4f-3ed0167701f3"
      },
      "source": [
        "[a1,b1,c1]= puma_invkin(A1,0.25,0.25,0.25)\n",
        "print('Joint variables for A=', [a1,b1,c1])\n",
        "AA1= np.array([a1,b1,c1])\n",
        "\n",
        "[a2,b2,c2]= puma_invkin(B1,0.25,0.25,0.25)\n",
        "print('Joint variables for B=', [a2,b2,c2])\n",
        "BB1= np.array([a2,b2,c2])\n",
        "\n",
        "[a3,b3,c3]= puma_invkin(C1,0.25,0.25,0.25)\n",
        "print('Joint variables for C=', [a3,b3,c3])\n",
        "CC1= np.array([a3,b3,c3])\n",
        "\n",
        "[a4,b4,c4]= puma_invkin(D1,0.25,0.25,0.25)\n",
        "print('Joint variables for B=', [a4,b4,c4])\n",
        "DD1= np.array([a4,b4,c4])\n",
        "\n",
        "pA= puma_fwkin(AA1,0.25,0.25,0.25)\n",
        "print('Co-ordinate of A= ',pA)\n",
        "\n",
        "pB= puma_fwkin(BB1,0.25,0.25,0.25)\n",
        "print('Co-ordinate of B= ',pB)\n",
        "\n",
        "pC= puma_fwkin(CC1,0.25,0.25,0.25)\n",
        "print('Co-ordinate of C= ',pC)\n",
        "\n",
        "pD= puma_fwkin(DD1,0.25,0.25,0.25)\n",
        "print('Co-ordinate of D= ',pD)"
      ],
      "execution_count": 143,
      "outputs": [
        {
          "output_type": "stream",
          "name": "stdout",
          "text": [
            "Joint variables for A= [11.309932474020213, 9.438731745120306, -59.25620575719759]\n",
            "Joint variables for B= [11.18175421019668, 3.204599370933455, -44.19265289950476]\n",
            "Joint variables for C= [11.309932474020215, 20.546583113045838, -81.11800011159174]\n",
            "Joint variables for B= [10.366322603450492, 7.838970039282026, -55.263719676466394]\n",
            "Co-ordinate of A=  [[0.4 ]\n",
            " [0.08]\n",
            " [0.1 ]]\n",
            "Co-ordinate of B=  [[0.43 ]\n",
            " [0.085]\n",
            " [0.1  ]]\n",
            "Co-ordinate of C=  [[0.35]\n",
            " [0.07]\n",
            " [0.12]]\n",
            "Co-ordinate of D=  [[0.41 ]\n",
            " [0.075]\n",
            " [0.1  ]]\n"
          ]
        }
      ]
    },
    {
      "cell_type": "markdown",
      "metadata": {
        "id": "12vfVBXZS0c7"
      },
      "source": [
        "Task 1 C: Find joint variables for given co-ordinates"
      ]
    },
    {
      "cell_type": "code",
      "metadata": {
        "colab": {
          "base_uri": "https://localhost:8080/"
        },
        "id": "i7VZqoTOS1QV",
        "outputId": "477fc6d1-83ef-417b-b9fe-2c161196abb7"
      },
      "source": [
        "[a1,b1,c1]= puma_invkin(A2,0.25,0.25,0.25)\n",
        "print('Joint variables for A=', [a1,b1,c1])\n",
        "AA2= np.array([a1,b1,c1])\n",
        "\n",
        "[a2,b2,c2]= puma_invkin(B2,0.25,0.25,0.25)\n",
        "print('Joint variables for B=', [a2,b2,c2])\n",
        "BB2= np.array([a2,b2,c2])\n",
        "\n",
        "[a3,b3,c3]= puma_invkin(C2,0.25,0.25,0.25)\n",
        "print('Joint variables for C=', [a3,b3,c3])\n",
        "CC2= np.array([a3,b3,c3])\n",
        "\n",
        "[a4,b4,c4]= puma_invkin(D2,0.25,0.25,0.25)\n",
        "print('Joint variables for B=', [a4,b4,c4])\n",
        "DD2= np.array([a4,b4,c4])\n",
        "\n",
        "pA= puma_fwkin(AA2,0.25,0.25,0.25)\n",
        "print('Co-ordinate of A= ',pA)\n",
        "\n",
        "pB= puma_fwkin(BB2,0.25,0.25,0.25)\n",
        "print('Co-ordinate of B= ',pB)\n",
        "\n",
        "pC= puma_fwkin(CC2,0.25,0.25,0.25)\n",
        "print('Co-ordinate of C= ',pC)\n",
        "\n",
        "pD= puma_fwkin(DD2,0.25,0.25,0.25)\n",
        "print('Co-ordinate of D= ',pD)"
      ],
      "execution_count": 145,
      "outputs": [
        {
          "output_type": "stream",
          "name": "stdout",
          "text": [
            "Joint variables for A= [8.530765609948132, 10.021774320678787, -60.73826046718986]\n",
            "Joint variables for B= [1.4320961841646465, 10.730467753654535, -62.561257903728745]\n",
            "Joint variables for C= [1.6365770416167185, 17.183205138077344, -80.74666588023383]\n",
            "Joint variables for B= [9.727578551401603, 16.658959439383853, -79.11723814462898]\n",
            "Co-ordinate of A=  [[0.4 ]\n",
            " [0.06]\n",
            " [0.1 ]]\n",
            "Co-ordinate of B=  [[0.4 ]\n",
            " [0.01]\n",
            " [0.1 ]]\n",
            "Co-ordinate of C=  [[0.35]\n",
            " [0.01]\n",
            " [0.1 ]]\n",
            "Co-ordinate of D=  [[0.35]\n",
            " [0.06]\n",
            " [0.1 ]]\n"
          ]
        }
      ]
    },
    {
      "cell_type": "markdown",
      "metadata": {
        "id": "liJxZSFc-RO2"
      },
      "source": [
        "Task 1e : In this task we need to compute that joint variables of this stanford manipulator for the given extra 5cm height in Z-Axis. "
      ]
    },
    {
      "cell_type": "code",
      "metadata": {
        "colab": {
          "base_uri": "https://localhost:8080/"
        },
        "id": "TK272NSb-NP6",
        "outputId": "8fd79e26-ef81-44c9-bfd5-b4a2f2a7cbb0"
      },
      "source": [
        "[a1,b1,c1]= puma_invkin(A3,0.25,0.25,0.25)\n",
        "print('Joint variables for A=', [a1,b1,c1])\n",
        "AA3= np.array([a1,b1,c1])\n",
        "\n",
        "[a2,b2,c2]= puma_invkin(B3,0.25,0.25,0.25)\n",
        "print('Joint variables for B=', [a2,b2,c2])\n",
        "BB3= np.array([a2,b2,c2])\n",
        "\n",
        "[a3,b3,c3]= puma_invkin(C3,0.25,0.25,0.25)\n",
        "print('Joint variables for C=', [a3,b3,c3])\n",
        "CC3= np.array([a3,b3,c3])\n",
        "\n",
        "[a4,b4,c4]= puma_invkin(D3,0.25,0.25,0.25)\n",
        "print('Joint variables for B=', [a4,b4,c4])\n",
        "DD3= np.array([a4,b4,c4])\n",
        "\n",
        "pA= puma_fwkin(AA3,0.25,0.25,0.25)\n",
        "print('Co-ordinate of A= ',pA)\n",
        "\n",
        "pB= puma_fwkin(BB3,0.25,0.25,0.25)\n",
        "print('Co-ordinate of B= ',pB)\n",
        "\n",
        "pC= puma_fwkin(CC3,0.25,0.25,0.25)\n",
        "print('Co-ordinate of C= ',pC)\n",
        "\n",
        "pD= puma_fwkin(DD3,0.25,0.25,0.25)\n",
        "print('Co-ordinate of D= ',pD)"
      ],
      "execution_count": 199,
      "outputs": [
        {
          "output_type": "stream",
          "name": "stdout",
          "text": [
            "Joint variables for A= [8.530765609948132, 19.673080093571844, -67.12014751608854]\n",
            "Joint variables for B= [1.4320961841646465, 20.393300117292018, -68.85066511334026]\n",
            "Joint variables for C= [1.6365770416167185, 27.317911336369306, -86.51426676849962]\n",
            "Joint variables for B= [9.727578551401603, 26.725154914061303, -84.9054242639581]\n",
            "Co-ordinate of A=  [[0.4 ]\n",
            " [0.06]\n",
            " [0.15]]\n",
            "Co-ordinate of B=  [[0.4 ]\n",
            " [0.01]\n",
            " [0.15]]\n",
            "Co-ordinate of C=  [[0.35]\n",
            " [0.01]\n",
            " [0.15]]\n",
            "Co-ordinate of D=  [[0.35]\n",
            " [0.06]\n",
            " [0.15]]\n"
          ]
        }
      ]
    },
    {
      "cell_type": "markdown",
      "metadata": {
        "id": "zfJhAaEh-q7a"
      },
      "source": [
        "Taks 1f: PUMA with spherical wrist: In this section we need to find angles of the spherical wrist, with wrist center situated at predefined co-ordinates. \n",
        "\n",
        "Didn't get time to compute for all corners. This is only for A point. "
      ]
    },
    {
      "cell_type": "code",
      "metadata": {
        "colab": {
          "base_uri": "https://localhost:8080/"
        },
        "id": "IMwBM9HH_UVj",
        "outputId": "1e9ddd53-1029-4506-c7e9-063f82537241"
      },
      "source": [
        "#Manipulator parameters\n",
        "d1=0.05       #Length of link 1 (part a)\n",
        "Px= 0.4    #X co-ordinate of end effector\n",
        "Py= 0.01   #Y-co-ordinate of end effector\n",
        "Pz= 0.4    #Z-co-ordinate of end effector\n",
        "\n",
        "r=(Px**2 +Py**2)**0.5\n",
        "theta1= m.atan2(Py,Px)\n",
        "a = Pz-d1\n",
        "d3=(r**2 + a**2)**0.5\n",
        "theta2= np.pi*0.5+ m.atan2(r,a)\n",
        "\n",
        "print(\"Theta1\",theta1*180/m.pi)\n",
        "print(\"Theta2\",theta2*180/m.pi)\n",
        "print(\"Extension d3\",d3)"
      ],
      "execution_count": 200,
      "outputs": [
        {
          "output_type": "stream",
          "name": "stdout",
          "text": [
            "Theta1 1.4320961841646465\n",
            "Theta2 138.82294511868224\n",
            "Extension d3 0.5316013544000806\n"
          ]
        }
      ]
    }
  ]
}