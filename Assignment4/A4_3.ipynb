{
 "cells": [
  {
   "cell_type": "code",
   "execution_count": 2,
   "metadata": {},
   "outputs": [],
   "source": [
    "import numpy as np"
   ]
  },
  {
   "cell_type": "code",
   "execution_count": 38,
   "metadata": {},
   "outputs": [
    {
     "name": "stdout",
     "output_type": "stream",
     "text": [
      "Number of links: 3\n",
      "Link | theta_i | d_i | a_i | alpha_i\n",
      "1      0 1 0 -np.pi/2\n",
      "2      np.pi/2 2 0 -np.pi/2\n",
      "3      0 3 0 0\n",
      "type the joint numbers of prismatic joints (leave empty if none): 1 2 3\n"
     ]
    }
   ],
   "source": [
    "n=int(input(\"Number of links: \"))\n",
    "dh=[0]*n\n",
    "R_or_P=[0]*n\n",
    "\n",
    "print(\"Link | theta_i | d_i | a_i | alpha_i\")\n",
    "for i in range(n):\n",
    "    dh[i]=[eval(j) for j in input(str(i+1)+\" \"*6).split()]\n",
    "    \n",
    "lst=[int(i) for i in input(\"type the joint numbers of prismatic joints (leave empty if none): \").split()]\n",
    "for i in lst:\n",
    "    R_or_P[i-1]=1"
   ]
  },
  {
   "cell_type": "code",
   "execution_count": 39,
   "metadata": {},
   "outputs": [],
   "source": [
    "A=[0]*n\n",
    "for i in range(n):\n",
    "    theta, d, a, alpha = dh[i]\n",
    "    A[i]=np.array([[np.cos(theta), -np.sin(theta)*np.cos(alpha), np.sin(theta)*np.sin(alpha), a*np.cos(theta)],\n",
    "                   [np.sin(theta), np.cos(theta)*np.cos(alpha), -np.cos(theta)*np.sin(alpha), a*np.sin(theta)],\n",
    "                   [0, np.sin(alpha), np.cos(alpha), d],\n",
    "                   [0, 0, 0, 1]])"
   ]
  },
  {
   "cell_type": "code",
   "execution_count": 40,
   "metadata": {},
   "outputs": [],
   "source": [
    "ans=np.identity(4)\n",
    "Z=[0]*(n+1)\n",
    "Z[0]=np.array([[0],\n",
    "               [0],\n",
    "               [1]])\n",
    "\n",
    "O=[0]*(n+1)\n",
    "O[0]=np.array([0, 0, 0])\n",
    "\n",
    "for i in range(n):\n",
    "    ans=ans@A[i]\n",
    "    Z[i+1]=ans[0:3, 0:3]@Z[0]\n",
    "    O[i+1]=ans[0:3,3].T"
   ]
  },
  {
   "cell_type": "code",
   "execution_count": 41,
   "metadata": {},
   "outputs": [
    {
     "name": "stdout",
     "output_type": "stream",
     "text": [
      "[[ 0.  0. -1.]\n",
      " [ 0.  1.  0.]\n",
      " [ 1.  0. -0.]\n",
      " [ 0.  0.  0.]\n",
      " [ 0.  0.  0.]\n",
      " [ 0.  0.  0.]]\n"
     ]
    }
   ],
   "source": [
    "J=[0]*n\n",
    "for i in range(n):\n",
    "    if R_or_P[i]==1:\n",
    "        J[i]=np.concatenate((Z[i],np.array([[0,0,0]]).T),axis=0)\n",
    "    else:\n",
    "        cross=np.cross(Z[i].T,(O[n]-O[i]).T)\n",
    "        J[i]=np.concatenate((cross.T,Z[i]),axis=0)\n",
    "\n",
    "final_J=J[0]\n",
    "for i in range(1,n):\n",
    "    final_J=np.concatenate((final_J,J[i]),axis=1)\n",
    "\n",
    "# print(final_J)\n",
    "print(np.around(final_J,2))\n",
    "Jv=final_J[0:3]"
   ]
  },
  {
   "cell_type": "code",
   "execution_count": 43,
   "metadata": {},
   "outputs": [
    {
     "name": "stdout",
     "output_type": "stream",
     "text": [
      "[[ 3.]\n",
      " [ 2.]\n",
      " [-1.]]\n"
     ]
    }
   ],
   "source": [
    "#end-effector cartesian velocities\n",
    "v=np.array([[1],\n",
    "            [2],\n",
    "            [3]])\n",
    "join_params=np.linalg.pinv(Jv)@v\n",
    "print(join_params)"
   ]
  },
  {
   "cell_type": "code",
   "execution_count": null,
   "metadata": {},
   "outputs": [],
   "source": []
  }
 ],
 "metadata": {
  "kernelspec": {
   "display_name": "Python 3",
   "language": "python",
   "name": "python3"
  },
  "language_info": {
   "codemirror_mode": {
    "name": "ipython",
    "version": 3
   },
   "file_extension": ".py",
   "mimetype": "text/x-python",
   "name": "python",
   "nbconvert_exporter": "python",
   "pygments_lexer": "ipython3",
   "version": "3.8.10"
  }
 },
 "nbformat": 4,
 "nbformat_minor": 4
}
