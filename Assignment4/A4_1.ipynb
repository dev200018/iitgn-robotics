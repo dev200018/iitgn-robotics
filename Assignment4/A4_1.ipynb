{
 "cells": [
  {
   "cell_type": "code",
   "execution_count": 23,
   "metadata": {},
   "outputs": [],
   "source": [
    "import numpy as np\n",
    "def Atan(y,x):\n",
    "    if x==0 and y==0:\n",
    "        print(\"angle is not defined\")\n",
    "        return None\n",
    "    elif x==0:\n",
    "        return np.sign(y)*np.pi/2\n",
    "    else:\n",
    "        angle=np.arctan(y/x)\n",
    "        if x<0 and y>0:\n",
    "            return np.pi+angle\n",
    "        elif x<0 and y<0:\n",
    "            return -np.pi+angle\n",
    "        else:\n",
    "            return angle"
   ]
  },
  {
   "cell_type": "code",
   "execution_count": 28,
   "metadata": {},
   "outputs": [],
   "source": [
    "d1=1\n",
    "d2=1\n",
    "R=np.array([[1, 0, 0],\n",
    "            [0, 0, -1],\n",
    "            [0, 1, 0]])\n",
    "O=np.array([1.1, 0, 1])"
   ]
  },
  {
   "cell_type": "code",
   "execution_count": 33,
   "metadata": {},
   "outputs": [
    {
     "name": "stdout",
     "output_type": "stream",
     "text": [
      "q1 = 0.0\n",
      "q2 = 0.0\n",
      "d3 = 0.10000000000000009\n"
     ]
    }
   ],
   "source": [
    "ox,oy,oz=O\n",
    "q1=Atan(oy,ox)\n",
    "r=np.sqrt(ox**2+oy**2)\n",
    "s=oz-d1\n",
    "q2=Atan(s,r)\n",
    "d3=np.sqrt(s**2+r**2)-d2\n",
    "\n",
    "print(\"q1 =\",q1)\n",
    "print(\"q2 =\",q2)\n",
    "print(\"d3 =\",d3)"
   ]
  },
  {
   "cell_type": "code",
   "execution_count": 36,
   "metadata": {},
   "outputs": [
    {
     "name": "stdout",
     "output_type": "stream",
     "text": [
      "position of end effector: [1.1 0.  1. ]\n",
      "orientation of end effector:\n",
      "[[ 1.  0.  0.]\n",
      " [ 0.  0. -1.]\n",
      " [ 0.  1.  0.]]\n"
     ]
    }
   ],
   "source": [
    "n=3\n",
    "dh=np.array([[q1, d1, 0, np.pi/2],\n",
    "             [q2, 0, d2, 0],\n",
    "             [0, 0, d3, 0]])\n",
    "\n",
    "A=[0]*n\n",
    "for i in range(n):\n",
    "    theta, d, a, alpha = dh[i]\n",
    "    A[i]=np.array([[np.cos(theta), -np.sin(theta)*np.cos(alpha), np.sin(theta)*np.sin(alpha), a*np.cos(theta)],\n",
    "                   [np.sin(theta), np.cos(theta)*np.cos(alpha), -np.cos(theta)*np.sin(alpha), a*np.sin(theta)],\n",
    "                   [0, np.sin(alpha), np.cos(alpha), d],\n",
    "                   [0, 0, 0, 1]])\n",
    "ans=np.identity(4)\n",
    "\n",
    "for i in range(n):\n",
    "    ans=ans@A[i]\n",
    "print(\"position of end effector:\", np.around(ans[0:3,3],5))\n",
    "print(\"orientation of end effector:\")\n",
    "print(np.around(ans[0:3,0:3],5))"
   ]
  },
  {
   "cell_type": "code",
   "execution_count": null,
   "metadata": {},
   "outputs": [],
   "source": []
  }
 ],
 "metadata": {
  "kernelspec": {
   "display_name": "Python 3",
   "language": "python",
   "name": "python3"
  },
  "language_info": {
   "codemirror_mode": {
    "name": "ipython",
    "version": 3
   },
   "file_extension": ".py",
   "mimetype": "text/x-python",
   "name": "python",
   "nbconvert_exporter": "python",
   "pygments_lexer": "ipython3",
   "version": "3.8.10"
  }
 },
 "nbformat": 4,
 "nbformat_minor": 4
}
