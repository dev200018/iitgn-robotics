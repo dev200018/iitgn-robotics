{
 "cells": [
  {
   "cell_type": "code",
   "execution_count": 207,
   "metadata": {},
   "outputs": [],
   "source": [
    "import numpy as np"
   ]
  },
  {
   "cell_type": "code",
   "execution_count": 208,
   "metadata": {},
   "outputs": [],
   "source": [
    "def Atan(y,x):\n",
    "    if x==0 and y==0:\n",
    "        print(\"angle is not defined\")\n",
    "        return None\n",
    "    elif x==0:\n",
    "        return np.sign(y)*np.pi/2\n",
    "    else:\n",
    "        angle=np.arctan(y/x)\n",
    "        if x<0 and y>0:\n",
    "            return np.pi+angle\n",
    "        elif x<0 and y<0:\n",
    "            return -np.pi+angle\n",
    "        else:\n",
    "            return angle\n",
    "            "
   ]
  },
  {
   "cell_type": "code",
   "execution_count": 210,
   "metadata": {},
   "outputs": [],
   "source": [
    "d1=1\n",
    "d2=1\n",
    "d6=0.1\n",
    "R=np.array([[1, 0, 0],\n",
    "            [0, 1, 0],\n",
    "            [0, 0, 1]])\n",
    "O=np.array([2, 0, 1.1])\n",
    "\n",
    "Pc=np.array([O[0]-d6*R[0][2], O[1]-d6*R[1][2], O[2]-d6*R[2][2]])\n",
    "# print(Pc)"
   ]
  },
  {
   "cell_type": "code",
   "execution_count": 211,
   "metadata": {},
   "outputs": [],
   "source": [
    "xc,yc,zc=Pc\n",
    "if xc==0:\n",
    "    q1=np.pi/2\n",
    "else:\n",
    "    q1=Atan(yc,xc)\n",
    "\n",
    "r=np.sqrt(xc**2+yc**2)\n",
    "d=np.sqrt((zc-d1)**2+r**2)-d2\n",
    "\n",
    "if r==0:\n",
    "    q2=np.pi/2\n",
    "else:\n",
    "    q2=Atan(zc-d1,r)"
   ]
  },
  {
   "cell_type": "code",
   "execution_count": 212,
   "metadata": {},
   "outputs": [],
   "source": [
    "R01=np.array([[np.cos(q1), -np.sin(q1), 0],\n",
    "              [np.sin(q1), np.cos(q1), 0],\n",
    "              [0, 0, 1]])\n",
    "# R12=np.array([[np.cos(q2), -np.sin(q2), 0],\n",
    "#               [np.sin(q2), np.cos(q2), 0],\n",
    "#               [0, 0, 1]])\n",
    "R12=np.array([[np.cos(-q2), 0, np.sin(-q2)],\n",
    "              [0, 1, 0],\n",
    "              [-np.sin(-q2), 0, np.cos(-q2)]])\n",
    "R23=np.array([[np.cos(np.pi/2), 0, np.sin(np.pi/2)],\n",
    "              [0, 1, 0],\n",
    "              [-np.sin(np.pi/2), 0, np.cos(np.pi/2)]])\n",
    "R03=R01@R12@R23\n",
    "# q2=-q2\n",
    "# n=3\n",
    "# dh=np.array([[q1, d1, 0, np.pi/2],\n",
    "#              [q2, d2, 0, np.pi/2],\n",
    "#              [0, d, 0, 0]])\n",
    "# A=[0]*n\n",
    "# for i in range(n):\n",
    "#     theta, d, a, alpha = dh[i]\n",
    "#     A[i]=np.array([[np.cos(theta), -np.sin(theta)*np.cos(alpha), np.sin(theta)*np.sin(alpha), a*np.cos(theta)],\n",
    "#                    [np.sin(theta), np.cos(theta)*np.cos(alpha), -np.cos(theta)*np.sin(alpha), a*np.sin(theta)],\n",
    "#                    [0, np.sin(alpha), np.cos(alpha), d],\n",
    "#                    [0, 0, 0, 1]])\n",
    "# ans=np.identity(4)\n",
    "\n",
    "# for i in range(n):\n",
    "#     ans=ans@A[i]\n",
    "# R03=ans[0:3,0:3]   \n",
    "# print(ans)\n",
    "R36=R03.T@R\n",
    "\n",
    "if R36[0][2]==0 and R36[1][2]==0:\n",
    "    q4=0\n",
    "else:\n",
    "    q4=Atan(np.sqrt(1-R36[2][2]**2), R36[2][2])\n",
    "    \n",
    "if q4==0:\n",
    "    q5=0\n",
    "else:\n",
    "    q5=Atan(R36[2][1]/np.sin(q4), -R36[2][0]/np.sin(q4))\n",
    "\n",
    "A=np.cos(q4)*np.cos(q5)\n",
    "B=np.sin(q5)\n",
    "sine=(-B*R36[0][0]+A*R36[1][0])/(A**2+B**2)\n",
    "cosine=(A*R36[0][0]+B*R36[1][0])/(A**2+B**2)\n",
    "q3=Atan(sine,cosine)"
   ]
  },
  {
   "cell_type": "code",
   "execution_count": 213,
   "metadata": {},
   "outputs": [
    {
     "data": {
      "text/plain": [
       "(0.0, 0.0, 1.0, 0.0, 1.5707963267948966, -0.0)"
      ]
     },
     "execution_count": 213,
     "metadata": {},
     "output_type": "execute_result"
    }
   ],
   "source": [
    "q1,q2,d,q3,q4,q5"
   ]
  },
  {
   "cell_type": "markdown",
   "metadata": {},
   "source": [
    "Testing the joint parameters using forwards kinematics."
   ]
  },
  {
   "cell_type": "code",
   "execution_count": 206,
   "metadata": {},
   "outputs": [
    {
     "name": "stdout",
     "output_type": "stream",
     "text": [
      "position of end effector: [1.2246468e-16 1.2246468e-16 3.0000000e+00]\n",
      "orientation of end effector:\n",
      "[[ 0.  0.  1.]\n",
      " [ 0.  1.  0.]\n",
      " [-1.  0.  0.]]\n",
      "[[ 0. -0. -1.]\n",
      " [ 0.  1. -0.]\n",
      " [ 1. -0.  0.]]\n"
     ]
    }
   ],
   "source": [
    "n=3\n",
    "# dh=np.array([[q1, d1, 0, -np.pi/2],\n",
    "#              [q2, d2, 0, np.pi/2],\n",
    "#              [0, d, 0, 0],\n",
    "#              [q3, 0, 0, -np.pi/2],\n",
    "#              [q4, 0, 0, np.pi/2],\n",
    "#              [q5, d6, 0, 0]])\n",
    "\n",
    "dh=np.array([[q1, d1, 0, np.pi/2],\n",
    "             [np.pi/2-q2, 0, 0, -np.pi/2],\n",
    "             [0, 0, d+d2, 0]])\n",
    "A=[0]*n\n",
    "for i in range(n):\n",
    "    theta, d_dh, a, alpha = dh[i]\n",
    "    A[i]=np.array([[np.cos(theta), -np.sin(theta)*np.cos(alpha), np.sin(theta)*np.sin(alpha), a*np.cos(theta)],\n",
    "                   [np.sin(theta), np.cos(theta)*np.cos(alpha), -np.cos(theta)*np.sin(alpha), a*np.sin(theta)],\n",
    "                   [0, np.sin(alpha), np.cos(alpha), d_dh],\n",
    "                   [0, 0, 0, 1]])\n",
    "ans=np.identity(4)\n",
    "\n",
    "for i in range(n):\n",
    "    ans=ans@A[i]\n",
    "print(\"position of end effector:\", ans[0:3,3])\n",
    "print(\"orientation of end effector:\")\n",
    "print(np.around(R03))\n",
    "print(np.around(ans[0:3,0:3]))\n",
    "\n",
    "# np.array([ans[0:3,3]]).T\n",
    "# print(ans[0:3,0:3])\n",
    "# print(R03)"
   ]
  },
  {
   "cell_type": "code",
   "execution_count": 13,
   "metadata": {},
   "outputs": [
    {
     "data": {
      "text/plain": [
       "array([[ 0.99875234, -0.04993762,  0.        ],\n",
       "       [ 0.04993762,  0.99875234,  0.        ],\n",
       "       [ 0.        ,  0.        ,  1.        ]])"
      ]
     },
     "execution_count": 13,
     "metadata": {},
     "output_type": "execute_result"
    }
   ],
   "source": [
    "r1=np.array([[np.cos(q3), -np.sin(q3), 0],\n",
    "             [np.sin(q3), np.cos(q3), 0],\n",
    "             [0, 0, 1]])\n",
    "r2=np.array([[np.cos(q4), 0, np.sin(q4)],\n",
    "             [0, 1, 0],\n",
    "             [-np.sin(q4), 0, np.cos(q4)]])\n",
    "r3=np.array([[np.cos(q5), -np.sin(q5), 0],\n",
    "             [np.sin(q5), np.cos(q5), 0],\n",
    "             [0, 0, 1]])\n",
    "(r1@r2@r3)"
   ]
  },
  {
   "cell_type": "code",
   "execution_count": 16,
   "metadata": {},
   "outputs": [
    {
     "data": {
      "text/plain": [
       "(array([[1., 0., 0.],\n",
       "        [0., 1., 1.],\n",
       "        [0., 0., 1.]]),\n",
       " 1.0,\n",
       " 0.0)"
      ]
     },
     "execution_count": 16,
     "metadata": {},
     "output_type": "execute_result"
    }
   ],
   "source": [
    "np.around(R03@R36),A,B"
   ]
  },
  {
   "cell_type": "code",
   "execution_count": 25,
   "metadata": {},
   "outputs": [
    {
     "name": "stdout",
     "output_type": "stream",
     "text": [
      "angle is not defined\n"
     ]
    }
   ],
   "source": [
    "a=Atan2(0,0)"
   ]
  },
  {
   "cell_type": "code",
   "execution_count": 63,
   "metadata": {},
   "outputs": [
    {
     "data": {
      "text/plain": [
       "26.565051177077986"
      ]
     },
     "execution_count": 63,
     "metadata": {},
     "output_type": "execute_result"
    }
   ],
   "source": [
    "np.arctan(1/2)/np.pi*180"
   ]
  },
  {
   "cell_type": "code",
   "execution_count": 69,
   "metadata": {},
   "outputs": [
    {
     "data": {
      "text/plain": [
       "26.565051177077986"
      ]
     },
     "execution_count": 69,
     "metadata": {},
     "output_type": "execute_result"
    }
   ],
   "source": [
    "Atan2(1,2)/np.pi*180"
   ]
  },
  {
   "cell_type": "code",
   "execution_count": 38,
   "metadata": {},
   "outputs": [
    {
     "data": {
      "text/plain": [
       "array([1., 0., 1.])"
      ]
     },
     "execution_count": 38,
     "metadata": {},
     "output_type": "execute_result"
    }
   ],
   "source": [
    "np.array(ans[0:3,3]).T"
   ]
  }
 ],
 "metadata": {
  "kernelspec": {
   "display_name": "Python 3",
   "language": "python",
   "name": "python3"
  },
  "language_info": {
   "codemirror_mode": {
    "name": "ipython",
    "version": 3
   },
   "file_extension": ".py",
   "mimetype": "text/x-python",
   "name": "python",
   "nbconvert_exporter": "python",
   "pygments_lexer": "ipython3",
   "version": "3.8.10"
  }
 },
 "nbformat": 4,
 "nbformat_minor": 4
}
