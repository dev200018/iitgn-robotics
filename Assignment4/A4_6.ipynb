{
 "cells": [
  {
   "cell_type": "code",
   "execution_count": 55,
   "metadata": {},
   "outputs": [],
   "source": [
    "import numpy as np\n",
    "def Atan(y,x):\n",
    "    if x==0 and y==0:\n",
    "        print(\"angle is not defined. Returning 0\")\n",
    "        return 0\n",
    "    elif x==0:\n",
    "        return np.sign(y)*np.pi/2\n",
    "    else:\n",
    "        angle=np.arctan(y/x)\n",
    "        if x<0 and y>0:\n",
    "            return np.pi+angle\n",
    "        elif x<0 and y<0:\n",
    "            return -np.pi+angle\n",
    "        else:\n",
    "            return angle"
   ]
  },
  {
   "cell_type": "code",
   "execution_count": 112,
   "metadata": {},
   "outputs": [],
   "source": [
    "R=np.array([[0.9715616, 0.1747563, 0.1597761],\n",
    "            [-0.0439394, -0.5299892, 0.8468653],\n",
    "            [0.2326747, -0.8298022, -0.5072384 ]])"
   ]
  },
  {
   "cell_type": "code",
   "execution_count": 113,
   "metadata": {},
   "outputs": [
    {
     "name": "stdout",
     "output_type": "stream",
     "text": [
      "q1 = 1.3843206058907156\n",
      "q2 = 2.1027736496906577\n",
      "q3 = -1.8441738589485037\n"
     ]
    }
   ],
   "source": [
    "if not(R[0][2]==0 and R[1][2]==0):\n",
    "    q2=Atan(np.sqrt(1-R[2][2]**2), R[2][2])\n",
    "    q3=Atan(R[2][1], -R[2][0])\n",
    "    q1=Atan(R[1][2], R[0][2])\n",
    "elif R[2][2]==1:\n",
    "    q2=0\n",
    "    q1=0\n",
    "    q3=Atan(R[1][0], R[0][0])\n",
    "elif R[2][2]==-1:\n",
    "    q2=np.pi\n",
    "    q1=0\n",
    "    q3=Atan(R[1][0], -R[0][0])\n",
    "else:\n",
    "    print(\"something is wrong\")\n",
    "\n",
    "print(\"q1 =\",q1)\n",
    "print(\"q2 =\",q2)\n",
    "print(\"q3 =\",q3)"
   ]
  },
  {
   "cell_type": "markdown",
   "metadata": {},
   "source": [
    "checking if Euler angles are correct or not."
   ]
  },
  {
   "cell_type": "code",
   "execution_count": 114,
   "metadata": {},
   "outputs": [
    {
     "data": {
      "text/plain": [
       "array([[ 0.97156153,  0.17475637,  0.1597761 ],\n",
       "       [-0.04393942, -0.52998917,  0.84686528],\n",
       "       [ 0.2326747 , -0.8298022 , -0.5072384 ]])"
      ]
     },
     "execution_count": 114,
     "metadata": {},
     "output_type": "execute_result"
    }
   ],
   "source": [
    "r1=np.array([[np.cos(q1), -np.sin(q1), 0],\n",
    "             [np.sin(q1), np.cos(q1), 0],\n",
    "             [0, 0, 1]])\n",
    "r2=np.array([[np.cos(q2), 0, np.sin(q2)],\n",
    "             [0, 1, 0],\n",
    "             [-np.sin(q2), 0, np.cos(q2)]])\n",
    "r3=np.array([[np.cos(q3), -np.sin(q3), 0],\n",
    "             [np.sin(q3), np.cos(q3), 0],\n",
    "             [0, 0, 1]])\n",
    "r1@r2@r3"
   ]
  },
  {
   "cell_type": "code",
   "execution_count": null,
   "metadata": {},
   "outputs": [],
   "source": []
  }
 ],
 "metadata": {
  "kernelspec": {
   "display_name": "Python 3",
   "language": "python",
   "name": "python3"
  },
  "language_info": {
   "codemirror_mode": {
    "name": "ipython",
    "version": 3
   },
   "file_extension": ".py",
   "mimetype": "text/x-python",
   "name": "python",
   "nbconvert_exporter": "python",
   "pygments_lexer": "ipython3",
   "version": "3.8.10"
  }
 },
 "nbformat": 4,
 "nbformat_minor": 4
}
