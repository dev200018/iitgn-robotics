{
 "cells": [
  {
   "cell_type": "code",
   "execution_count": 52,
   "metadata": {},
   "outputs": [],
   "source": [
    "import numpy as np\n",
    "def Atan(y,x):\n",
    "    if x==0 and y==0:\n",
    "        print(\"angle is not defined. Returning 0\")\n",
    "        return 0\n",
    "    elif x==0:\n",
    "        return np.sign(y)*np.pi/2\n",
    "    else:\n",
    "        angle=np.arctan(y/x)\n",
    "        if x<0 and y>0:\n",
    "            return np.pi+angle\n",
    "        elif x<0 and y<0:\n",
    "            return -np.pi+angle\n",
    "        else:\n",
    "            return angle"
   ]
  },
  {
   "cell_type": "code",
   "execution_count": 87,
   "metadata": {},
   "outputs": [],
   "source": [
    "d1=1\n",
    "d2=1\n",
    "d4=1\n",
    "R=np.array([[1, 0, 0],\n",
    "            [0, -1, 0],\n",
    "            [0, 0, -1]])\n",
    "O=np.array([0.2, 0.5, 1.51])"
   ]
  },
  {
   "cell_type": "code",
   "execution_count": 88,
   "metadata": {},
   "outputs": [
    {
     "name": "stdout",
     "output_type": "stream",
     "text": [
      "q1 = 0.653129120721679\n",
      "q2 = 2.5963471663711646\n",
      "d3 = -2.51\n",
      "q4 = 3.2494762870928433\n"
     ]
    }
   ],
   "source": [
    "ox,oy,oz=O\n",
    "c2=(ox**2+oy**2-d1**2-d2**2)/(2*d1*d2)\n",
    "s2=np.sqrt(1-c2**2)\n",
    "q2=Atan(s2,c2)\n",
    "\n",
    "q1=Atan(ox,oy)+Atan(d1+d2*c2, d2*s2)\n",
    "\n",
    "q4=q1+q2-Atan(R[1][0],R[0][0])\n",
    "d3=-oz-d4\n",
    "\n",
    "print(\"q1 =\",q1)\n",
    "print(\"q2 =\",q2)\n",
    "print(\"d3 =\",d3)\n",
    "print(\"q4 =\",q4)"
   ]
  },
  {
   "cell_type": "markdown",
   "metadata": {},
   "source": [
    "Testing the joint parameters using forwards kinematics."
   ]
  },
  {
   "cell_type": "code",
   "execution_count": 89,
   "metadata": {},
   "outputs": [
    {
     "name": "stdout",
     "output_type": "stream",
     "text": [
      "position of end effector: [-0.2   0.5   1.51]\n",
      "orientation of end effector:\n",
      "[[ 1.00000000e+00  2.05498075e-16 -1.31863209e-17]\n",
      " [ 1.97671051e-16 -1.00000000e+00  1.21752695e-16]\n",
      " [-1.31863209e-17 -1.21752695e-16 -1.00000000e+00]]\n"
     ]
    }
   ],
   "source": [
    "n=4\n",
    "dh=np.array([[q1, 0, d1, 0],\n",
    "             [q2, 0, d2, np.pi],\n",
    "             [0, d3, 0, 0],\n",
    "             [q4, d4, 0, 0]])\n",
    "\n",
    "A=[0]*n\n",
    "for i in range(n):\n",
    "    theta, d, a, alpha = dh[i]\n",
    "    A[i]=np.array([[np.cos(theta), -np.sin(theta)*np.cos(alpha), np.sin(theta)*np.sin(alpha), a*np.cos(theta)],\n",
    "                   [np.sin(theta), np.cos(theta)*np.cos(alpha), -np.cos(theta)*np.sin(alpha), a*np.sin(theta)],\n",
    "                   [0, np.sin(alpha), np.cos(alpha), d],\n",
    "                   [0, 0, 0, 1]])\n",
    "ans=np.identity(4)\n",
    "\n",
    "for i in range(n):\n",
    "    ans=ans@A[i]\n",
    "print(\"position of end effector:\", ans[0:3,3])\n",
    "print(\"orientation of end effector:\")\n",
    "print(ans[0:3,0:3])"
   ]
  },
  {
   "cell_type": "code",
   "execution_count": null,
   "metadata": {},
   "outputs": [],
   "source": []
  }
 ],
 "metadata": {
  "kernelspec": {
   "display_name": "Python 3",
   "language": "python",
   "name": "python3"
  },
  "language_info": {
   "codemirror_mode": {
    "name": "ipython",
    "version": 3
   },
   "file_extension": ".py",
   "mimetype": "text/x-python",
   "name": "python",
   "nbconvert_exporter": "python",
   "pygments_lexer": "ipython3",
   "version": "3.8.10"
  }
 },
 "nbformat": 4,
 "nbformat_minor": 4
}
