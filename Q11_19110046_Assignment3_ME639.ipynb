{
  "nbformat": 4,
  "nbformat_minor": 0,
  "metadata": {
    "colab": {
      "name": "Q11_19110046_Assignment3_ME639.ipynb",
      "provenance": [],
      "collapsed_sections": []
    },
    "kernelspec": {
      "name": "python3",
      "display_name": "Python 3"
    },
    "language_info": {
      "name": "python"
    }
  },
  "cells": [
    {
      "cell_type": "code",
      "metadata": {
        "id": "xzoMNUSGorzu"
      },
      "source": [
        "import sympy as sym\n",
        "import numpy as np"
      ],
      "execution_count": 17,
      "outputs": []
    },
    {
      "cell_type": "code",
      "metadata": {
        "id": "Qp0k_bucpAZg"
      },
      "source": [
        "m1 = sym.Symbol('m1')\n",
        "m2 = sym.Symbol('m2')\n",
        "l1 = sym.Symbol('l1')\n",
        "l2 = sym.Symbol('l2')\n",
        "q1 = sym.Symbol('q1')\n",
        "q2 = sym.Symbol('q2')\n",
        "g = sym.Symbol('g')\n",
        "I1 = sym.Symbol('I1')\n",
        "I2 = sym.Symbol('I2')\n",
        "g = sym.Symbol('g')\n",
        "\n",
        "q1_dot = sym.Symbol('q1_dot')\n",
        "q1_double_dot = sym.Symbol('q1_double_dot')\n",
        "\n",
        "q2_dot = sym.Symbol('q2_dot')\n",
        "q2_double_dot = sym.Symbol('q2_double_dot')\n",
        "\n",
        "#phi1 = sym.Symbol('phi1')\n",
        "#phi2 = sym.Symbol('phi2')\n",
        "#C221 = sym.Symbol('C221')\n",
        "#C112 = sym.Symbol('C112')"
      ],
      "execution_count": 18,
      "outputs": []
    },
    {
      "cell_type": "code",
      "metadata": {
        "id": "w-zlDucpqscT"
      },
      "source": [
        "d11 = m1*(l1**2)/4 + m2*(l1**2) + I1\n",
        "d12 = m2*l1*l2*sym.cos(q1 - q1)/2\n",
        "d21 = d12\n",
        "d22 = m2*(l2**2)/4 + I2\n",
        "D = np.array([[d11, d12], [d21, d22]])"
      ],
      "execution_count": 19,
      "outputs": []
    },
    {
      "cell_type": "code",
      "metadata": {
        "id": "IXk18Ck4twJ1"
      },
      "source": [
        "V = (m1*g*l1*sym.sin(q1)/2) + (m2*g*(l1*sym.sin(q1) + l2*sym.sin(q2)/2)\n",
        "phi1 = sym.diff(V, q1)\n",
        "phi2 = sym.diff(V, q2)\n",
        "phi = sym.Matrix([[sym.diff(V, q1)], [sym.diff(V, q2)]])\n",
        "\n",
        "q_dot = sym.Matrix([[q1_dot], [q2_dot]])\n",
        "q_double_dot = sym.Matrix([[q1_double_dot], [q2_double_dot]])\n",
        "\n",
        "C221 = (sym.diff(d12, q2) + sym.diff(d12, q2) - sym.diff(d22, q1))/2\n",
        "C112 = (sym.diff(d21, q1) + sym.diff(d21, q1) - sym.diff(d11, q2))/2\n",
        "C = sym.Matrix([[C221], [C112]])"
      ],
      "execution_count": null,
      "outputs": []
    },
    {
      "cell_type": "code",
      "metadata": {
        "id": "sNnyHXotwca_"
      },
      "source": [
        "tau = D*q_double_dot + C*q_dot**2 + phi"
      ],
      "execution_count": null,
      "outputs": []
    }
  ]
}