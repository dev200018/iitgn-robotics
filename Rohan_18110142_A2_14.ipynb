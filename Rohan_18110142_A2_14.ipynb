{
  "nbformat": 4,
  "nbformat_minor": 0,
  "metadata": {
    "colab": {
      "name": "Rohan_18110142_A2_14.ipynb",
      "provenance": []
    },
    "kernelspec": {
      "name": "python3",
      "display_name": "Python 3"
    },
    "language_info": {
      "name": "python"
    }
  },
  "cells": [
    {
      "cell_type": "markdown",
      "metadata": {
        "id": "Pxl71jjYEXPZ"
      },
      "source": [
        "Importing Libraries"
      ]
    },
    {
      "cell_type": "code",
      "metadata": {
        "id": "vIeOTXWVEbD7"
      },
      "source": [
        "import numpy as np\n",
        "import matplotlib.pyplot as plt"
      ],
      "execution_count": null,
      "outputs": []
    },
    {
      "cell_type": "markdown",
      "metadata": {
        "id": "cQsyQMxvEe1f"
      },
      "source": [
        "Initializing Robot Parameters"
      ]
    },
    {
      "cell_type": "code",
      "metadata": {
        "id": "H71M2vh-Eko-"
      },
      "source": [
        "L1 = 5\n",
        "L2 = 5\n",
        "L3 = 5\n",
        "q1 = np.pi/6\n",
        "q2 = np.pi/3\n",
        "q3 = np.pi/6"
      ],
      "execution_count": null,
      "outputs": []
    },
    {
      "cell_type": "markdown",
      "metadata": {
        "id": "we2ag-8gErqs"
      },
      "source": [
        "Defining z terms for Jv"
      ]
    },
    {
      "cell_type": "code",
      "metadata": {
        "id": "n1PS6qucEyZo"
      },
      "source": [
        "Rho_1 = 1\n",
        "Rho_2 = 1\n",
        "Rho_3 = 1\n",
        "\n",
        "z0 = np.array([[0,0,1]])\n",
        "z1 = z0\n",
        "z2 = z0"
      ],
      "execution_count": null,
      "outputs": []
    },
    {
      "cell_type": "markdown",
      "metadata": {
        "id": "gevmMhpFFO8S"
      },
      "source": [
        "Defining O terms for Jv"
      ]
    },
    {
      "cell_type": "code",
      "metadata": {
        "id": "ZJZTd1OoFTEP"
      },
      "source": [
        "O_0 = np.array([[0,0,0]])\n",
        "O_1 = np.array([[L1 * np.cos(q1)],[L1 * np.sin(q1)],[0]])\n",
        "O_2 = np.array([[L1 * np.cos(q1) + L2 * np.cos(q2)],[L1 * np.sin(q1) + L2 * np.sin(q2)],[0]])\n",
        "O_3 = np.array([[L1 * np.cos(q1) + L2 * np.cos(q2) + L3 * np.cos(q3)],[L1 * np.sin(q1) + L2 * np.sin(q2) + L3 * np.sin(q3)],[0]])\n",
        "\n",
        "# Transposing for multiplication with z terms\n",
        "O_1 = np.reshape(O_1, (1,3))\n",
        "O_2 = np.reshape(O_2, (1,3))\n",
        "O_3 = np.reshape(O_3, (1,3))"
      ],
      "execution_count": 11,
      "outputs": []
    },
    {
      "cell_type": "markdown",
      "metadata": {
        "id": "jIkaErWvGiZn"
      },
      "source": [
        "Compiling Jv and Jw"
      ]
    },
    {
      "cell_type": "code",
      "metadata": {
        "colab": {
          "base_uri": "https://localhost:8080/"
        },
        "id": "HN6LKmxsGlam",
        "outputId": "4acd5978-ac39-438f-e036-145505f8d0a5"
      },
      "source": [
        "Jw1 = Rho_1 * z0\n",
        "Jw2 = Rho_2 * z1\n",
        "Jw3 = Rho_3 * z2\n",
        "\n",
        "Jv1 = np.cross(z0, (O_3 - O_0))\n",
        "Jv2 = np.cross(z1, (O_3 - O_1))\n",
        "Jv3 = np.cross(z2, (O_3 - O_2))\n",
        "print (Jv1)\n",
        "\n",
        "Jw1 = np.reshape(Jw1, (3,1))\n",
        "Jw2 = np.reshape(Jw2, (3,1))\n",
        "Jw3 = np.reshape(Jw3, (3,1))\n",
        "\n",
        "Jv1 = np.reshape(Jv1, (3,1))\n",
        "Jv2 = np.reshape(Jv2, (3,1))\n",
        "Jv3 = np.reshape(Jv3, (3,1))"
      ],
      "execution_count": 13,
      "outputs": [
        {
          "output_type": "stream",
          "name": "stdout",
          "text": [
            "[[-9.33012702 11.16025404  0.        ]]\n"
          ]
        }
      ]
    },
    {
      "cell_type": "markdown",
      "metadata": {
        "id": "Wol2C3oIGs9T"
      },
      "source": [
        "Printing Final Jacobian"
      ]
    },
    {
      "cell_type": "code",
      "metadata": {
        "id": "ZX8u7_KoGwQK",
        "colab": {
          "base_uri": "https://localhost:8080/"
        },
        "outputId": "bab00a43-5bb6-42c5-dbcd-58a9e4b48e84"
      },
      "source": [
        "J1 = np.vstack((Jv1, Jw1))\n",
        "J2 = np.vstack((Jv2, Jw2))\n",
        "J3 = np.vstack((Jv3, Jw3))\n",
        "\n",
        "temp = np.hstack((J1, J2))\n",
        "J = np.hstack((temp, J3))\n",
        "\n",
        "print(J)"
      ],
      "execution_count": 14,
      "outputs": [
        {
          "output_type": "stream",
          "name": "stdout",
          "text": [
            "[[-9.33012702 -6.83012702 -2.5       ]\n",
            " [11.16025404  6.83012702  4.33012702]\n",
            " [ 0.          0.          0.        ]\n",
            " [ 0.          0.          0.        ]\n",
            " [ 0.          0.          0.        ]\n",
            " [ 1.          1.          1.        ]]\n"
          ]
        }
      ]
    }
  ]
}