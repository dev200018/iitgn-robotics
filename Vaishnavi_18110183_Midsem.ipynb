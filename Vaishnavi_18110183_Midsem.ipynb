{
  "nbformat": 4,
  "nbformat_minor": 0,
  "metadata": {
    "colab": {
      "name": "Vaishnavi_18110183_Midsem.ipynb",
      "provenance": []
    },
    "kernelspec": {
      "name": "python3",
      "display_name": "Python 3"
    },
    "language_info": {
      "name": "python"
    }
  },
  "cells": [
    {
      "cell_type": "code",
      "metadata": {
        "id": "_bE3BNbBANlm"
      },
      "source": [
        "import numpy as np"
      ],
      "execution_count": 2,
      "outputs": []
    },
    {
      "cell_type": "markdown",
      "metadata": {
        "id": "ZYitSxiH9mr1"
      },
      "source": [
        "# Task 1: a)\n",
        "\n",
        "Robot 1: Stanford"
      ]
    },
    {
      "cell_type": "code",
      "metadata": {
        "colab": {
          "base_uri": "https://localhost:8080/"
        },
        "id": "lHn_UUiz9Wnt",
        "outputId": "ccc4a9a6-eb94-479f-8a04-12b933ea9613"
      },
      "source": [
        "n = 3\n",
        "\n",
        "def inverse_kinematics_stanford(endeffector_position,lengthsoflinks): #from repository\n",
        "    theta1 = np.arctan(endeffector_position[1]/endeffector_position[0])\n",
        "    r = np.sqrt(endeffector_position[0]**2 + endeffector_position[1]**2)\n",
        "    s = endeffector_position[2] - lengthsoflinks[0]\n",
        "    theta2 = np.arctan(s/r)\n",
        "    d3 = np.sqrt(r**2 + s**2) - lengthsoflinks[1]\n",
        "    \n",
        "    DH1 = [[0,-np.pi/2,0,theta1],[lengthsoflinks[1],np.pi/2,0,theta2],[d3,0,0,0]]\n",
        "    DH2 = [[0,-np.pi/2,0,theta1+np.pi],[lengthsoflinks[1],np.pi/2,0,np.pi-theta2],[d3,0,0,0]]\n",
        "\n",
        "    return DH1,DH2\n",
        "\n",
        "def dhpara(n,DH,t=[0]*n):\n",
        "  \n",
        "  a = [0]*(n+1)\n",
        "  alpha = [0]*(n+1)\n",
        "  d = [0]*(n+1)\n",
        "  theta = [0]*(n+1)\n",
        "  for i in range(1,n+1):\n",
        "    a[i] = DH[i-1][0]\n",
        "    alpha[i] = DH[i-1][1]\n",
        "    d[i] = DH[i-1][2]\n",
        "    theta[i] = DH[i-1][3]\n",
        "  \n",
        "  A = [0]*(n+1)\n",
        "  for i in range(1,n+1):\n",
        "    A[i] = [[np.cos(theta[i]),-np.sin(theta[i])*np.cos(alpha[i]),np.sin(theta[i])*np.sin(alpha[i]),a[i]*np.cos(theta[i])],[np.sin(theta[i]),np.cos(theta[i])*np.cos(alpha[i]),-np.cos(theta[i])*np.sin(alpha[i]),a[i]*np.sin(theta[i])],[0,np.sin(alpha[i]),np.cos(alpha[i]),d[i]],[0,0,0,1]]\n",
        "\n",
        "  T = [0]*(n+1)#intermediate transformation matrices\n",
        "\n",
        "  #for the final transformation matrix, we multiply all the matrices\n",
        "  T[1] = A[1]\n",
        "  T_final = np.matmul(A[1],A[2])\n",
        "  T[2] = T_final\n",
        "  for i in range(3,n+1):\n",
        "    T_final = np.matmul(T_final,A[i]) \n",
        "    T[i] = T_final\n",
        "\n",
        "  #the final transformation matrix is stored in T_final\n",
        "  pn = [0,0,d[n],1]\n",
        "  po = np.matmul(T_final,pn)\n",
        "\n",
        "  #end effector position:\n",
        "  po = [po[0],po[1],po[2]]\n",
        "  return po\n",
        "\n",
        "#point A\n",
        "print('Point A')\n",
        "#inverse kinematics\n",
        "[DH1,DH2] = inverse_kinematics_stanford([0.45,0.0075,0.1],[0.25,0.25])\n",
        "#forward kinematics\n",
        "print(dhpara(3,DH1,[0,0,1]))\n",
        "print(dhpara(3,DH2,[0,0,1]))\n",
        "\n",
        "#point B\n",
        "print('\\nPoint B')\n",
        "[DH1,DH2] = inverse_kinematics_stanford([0.45,-0.0075,0.1],[0.25,0.25])\n",
        "print(dhpara(3,DH1,[0,0,1]))\n",
        "print(dhpara(3,DH2,[0,0,1]))\n",
        "\n",
        "#point C\n",
        "print('\\nPoint C')\n",
        "[DH1,DH2] = inverse_kinematics_stanford([0.25,-0.0075,0.1],[0.25,0.25])\n",
        "print(dhpara(3,DH1,[0,0,1]))\n",
        "print(dhpara(3,DH2,[0,0,1]))\n",
        "\n",
        "#point D\n",
        "print('\\nPoint D')\n",
        "[DH1,DH2] = inverse_kinematics_stanford([0.25,0.0075,0.1],[0.25,0.25])\n",
        "print(dhpara(3,DH1,[0,0,1]))\n",
        "print(dhpara(3,DH2,[0,0,1]))"
      ],
      "execution_count": 19,
      "outputs": [
        {
          "output_type": "stream",
          "name": "stdout",
          "text": [
            "Point A\n",
            "[0.45000000000000007, 0.00749999999999999, 0.14999999999999997]\n",
            "[0.45000000000000007, 0.007499999999999878, 0.1499999999999999]\n",
            "\n",
            "Point B\n",
            "[0.45000000000000007, -0.00750000000000001, 0.14999999999999997]\n",
            "[0.45000000000000007, -0.0074999999999999685, 0.1499999999999999]\n",
            "\n",
            "Point C\n",
            "[0.24999999999999997, -0.007500000000000008, 0.15]\n",
            "[0.24999999999999997, -0.007500000000000019, 0.15]\n",
            "\n",
            "Point D\n",
            "[0.24999999999999997, 0.00749999999999999, 0.15]\n",
            "[0.24999999999999997, 0.0074999999999999754, 0.15]\n"
          ]
        }
      ]
    },
    {
      "cell_type": "markdown",
      "metadata": {
        "id": "gXSpNHTuJqFk"
      },
      "source": [
        "Robot 2: PUMA"
      ]
    },
    {
      "cell_type": "code",
      "metadata": {
        "colab": {
          "base_uri": "https://localhost:8080/"
        },
        "id": "UijkEvFYJs4g",
        "outputId": "d56454f0-17a1-44e0-f057-823d95b883c0"
      },
      "source": [
        "def inv_kin_puma(x,y,z,d1,a2,a3):\n",
        "  theta1 = np.arctan(y/x)\n",
        "\n",
        "  R = (x**2+y**2+z**2)**0.5\n",
        "  r = (x**2+y**2)**0.5\n",
        "\n",
        "  sin_alpha = -z/R\n",
        "  cos_alpha = -r/R\n",
        "  cos_beta = (a2**2+R**2-a3**2)/(2*a2*R)\n",
        "  sin_beta = (1-cos_beta**2)**0.5\n",
        "\n",
        "  sin_theta2 = sin_alpha*cos_beta + sin_beta*cos_alpha\n",
        "  cos_theta2 = cos_alpha*cos_beta - sin_beta*sin_alpha\n",
        "\n",
        "  theta2 = np.arctan(cos_theta2/sin_theta2)\n",
        "\n",
        "  cos_theta3 = (a2**2+a3**2-R**2)/(2*a2*a3)\n",
        "  sin_theta3 = (1-cos_theta3**2)**0.5\n",
        "\n",
        "  theta3 = np.arctan(cos_theta3/sin_theta3)\n",
        "\n",
        "  DH = [[0,-np.pi/2,d1,theta1],[a2,0,0,theta2],[a3,0,0,theta3]]\n",
        "\n",
        "  return DH\n",
        "\n",
        "#point A\n",
        "print('Point A')\n",
        "DH = inv_kin_puma(0.45,0.0075,0.1,0.25,0.25,0.25)\n",
        "print(dhpara(3,DH,[0,0,0]))\n",
        "\n",
        "#point B\n",
        "print('\\nPoint B')\n",
        "DH = inv_kin_puma(0.45,-0.0075,0.1,0.25,0.25,0.25)\n",
        "print(dhpara(3,DH,[0,0,0]))\n",
        "\n",
        "#point C\n",
        "print('\\nPoint C')\n",
        "DH = inv_kin_puma(0.25,-0.0075,0.1,0.25,0.25,0.25)\n",
        "print(dhpara(3,DH,[0,0,0]))\n",
        "\n",
        "#point D\n",
        "print('\\nPoint D')\n",
        "DH = inv_kin_puma(0.25,0.0075,0.1,0.25,0.25,0.25)\n",
        "print(dhpara(3,DH,[0,0,0]))"
      ],
      "execution_count": 20,
      "outputs": [
        {
          "output_type": "stream",
          "name": "stdout",
          "text": [
            "Point A\n",
            "[0.390411299701462, 0.00650685499502438, 0.0015058100057764173]\n",
            "\n",
            "Point B\n",
            "[0.390411299701462, -0.00650685499502435, 0.0015058100057764173]\n",
            "\n",
            "Point C\n",
            "[0.4486147443545856, -0.013458442330637557, 0.05756764835272568]\n",
            "\n",
            "Point D\n",
            "[0.4486147443545856, 0.013458442330637579, 0.05756764835272568]\n"
          ]
        }
      ]
    },
    {
      "cell_type": "code",
      "metadata": {
        "colab": {
          "base_uri": "https://localhost:8080/"
        },
        "id": "K_AXgE_QpO6E",
        "outputId": "dceb8f0d-fab7-4e52-9662-095fae5bdf08"
      },
      "source": [
        "#Test point for different link lengths\n",
        "print('Test Point')\n",
        "DH = inv_kin_puma(0.25,0.0075,0.1,0.4,0.4,0.4)\n",
        "print(dhpara(3,DH,[0,0,0]))"
      ],
      "execution_count": 5,
      "outputs": [
        {
          "output_type": "stream",
          "name": "stdout",
          "text": [
            "Test Point\n",
            "[0.6643124690140456, 0.019929374070421384, 0.11504456273523939]\n"
          ]
        }
      ]
    },
    {
      "cell_type": "code",
      "metadata": {
        "colab": {
          "base_uri": "https://localhost:8080/"
        },
        "id": "waHn9_EmxAEx",
        "outputId": "a60bd00a-5722-41c0-c28c-4a3b130d6757"
      },
      "source": [
        "def inverse_kinematics(l1,l2,l3,xc,yc,zc): #from repository\n",
        "  theta1 = np.arctan(yc/xc)\n",
        "  D = (xc*xc+yc*yc+(zc-l1)*(zc-l1)-l2*l2-l3*l3)/(2*l2*l3)\n",
        "  if D>=1 or D<=-1:\n",
        "      print(\"singular configuration\")\n",
        "  if D>1 or D<-1:\n",
        "      print(\"outside workspace\")\n",
        "  theta3 = np.arctan((-(1-D*D)**0.5)/D)\n",
        "  theta2 = np.arctan((l1-zc)/((xc*xc+yc*yc)**0.5))-np.arctan((l3*np.sin(theta3))/(l2+l3*np.cos(theta3)))\n",
        "\n",
        "  DH = [[0,-np.pi/2,l1,theta1],[l2,0,0,theta2],[l3,0,0,theta3]]\n",
        "\n",
        "  return DH\n",
        "\n",
        "#point A\n",
        "print('Point A')\n",
        "DH = inverse_kinematics(0.45,0.0075,0.1,0.25,0.25,0.25)\n",
        "print(dhpara(3,DH,[0,0,0]))\n",
        "\n",
        "#point B\n",
        "print('\\nPoint B')\n",
        "DH = inverse_kinematics(0.45,-0.0075,0.1,0.25,0.25,0.25)\n",
        "print(dhpara(3,DH,[0,0,0]))\n",
        "\n",
        "#point C\n",
        "print('\\nPoint C')\n",
        "DH = inverse_kinematics(0.25,-0.0075,0.1,0.25,0.25,0.25)\n",
        "print(dhpara(3,DH,[0,0,0]))\n",
        "\n",
        "#point D\n",
        "print('\\nPoint D')\n",
        "DH = inverse_kinematics(0.25,0.0075,0.1,0.25,0.25,0.25)\n",
        "print(dhpara(3,DH,[0,0,0]))"
      ],
      "execution_count": 6,
      "outputs": [
        {
          "output_type": "stream",
          "name": "stdout",
          "text": [
            "Point A\n",
            "singular configuration\n",
            "outside workspace\n",
            "[(0.2500000000000284-7.105427357601002e-14j), (0.25-8.526512829121202e-14j), (0.25+8.526512829121202e-14j)]\n",
            "\n",
            "Point B\n",
            "singular configuration\n",
            "outside workspace\n",
            "[(-8.526512829121202e-14-0.2342682837856387j), (-9.947598300641403e-14-0.2342682837856671j), (0.4500000000000455+0.18741462702851663j)]\n",
            "\n",
            "Point C\n",
            "singular configuration\n",
            "outside workspace\n",
            "[(-4.5110079911870815e-14-0.22900600428805262j), (-4.511007991188051e-14-0.22900600428808104j), (0.24999999999997158-3.190255011607686e-17j)]\n",
            "\n",
            "Point D\n",
            "singular configuration\n",
            "outside workspace\n",
            "[(0.25-4.1321916614925434e-14j), (0.2499999999999858-4.1321916614925434e-14j), (0.25+0j)]\n"
          ]
        }
      ]
    },
    {
      "cell_type": "code",
      "metadata": {
        "colab": {
          "base_uri": "https://localhost:8080/"
        },
        "id": "Wu9rcXmkLfcf",
        "outputId": "c5acde01-07aa-4305-a05f-f49ed993cf6e"
      },
      "source": [
        "#Test point for different link lengths\n",
        "print('Test Point')\n",
        "DH = inverse_kinematics(0.45,0.0075,0.1,0.55,0.55,0.55)\n",
        "print(dhpara(3,DH,[0,0,0]))"
      ],
      "execution_count": 7,
      "outputs": [
        {
          "output_type": "stream",
          "name": "stdout",
          "text": [
            "Test Point\n",
            "singular configuration\n",
            "outside workspace\n",
            "[(0.5499999999967713-2.7284841053187847e-12j), (0.5499999999965439-2.7000623958883807e-12j), (0.5499999999994429-4.547473508864641e-13j)]\n"
          ]
        }
      ]
    },
    {
      "cell_type": "markdown",
      "metadata": {
        "id": "Fdulu5uGF03f"
      },
      "source": [
        "Robot 3: SCARA "
      ]
    },
    {
      "cell_type": "code",
      "metadata": {
        "colab": {
          "base_uri": "https://localhost:8080/"
        },
        "id": "YuWIgGivF0QC",
        "outputId": "0d3ba32b-1721-41ef-bafb-ebdbb413657f"
      },
      "source": [
        "def scara_invkin(x,y,z,d1,d2): #from repository\n",
        "  # using formulae from the textbook\n",
        "  r = abs((x**2+y**2-d1**2-d2**2)/(2*d1*d2))\n",
        "  theta2 = np.arctan(np.sqrt(abs(1-r**2))/r)\n",
        "  theta1 = np.arctan(y/x) - np.arctan((d2*np.sin(theta2))/(d1+d2*np.cos(theta2)))\n",
        "  d3 = -z\n",
        "  \n",
        "  DH = [[d1,0,0,theta1],[d2,np.pi,0,theta2],[0,0,d3,0]]\n",
        "  return DH\n",
        "\n",
        "#point A\n",
        "print('Point A')\n",
        "DH = scara_invkin(0.45,0.0075,0.1,0.25,0.25)\n",
        "print(dhpara(3,DH,[0,0,1]))\n",
        "\n",
        "#point B\n",
        "print('\\nPoint B')\n",
        "DH = scara_invkin(0.45,-0.0075,0.1,0.25,0.25)\n",
        "print(dhpara(3,DH,[0,0,1]))\n",
        "\n",
        "#point C\n",
        "print('\\nPoint C')\n",
        "DH = scara_invkin(0.25,-0.0075,0.1,0.25,0.25)\n",
        "print(dhpara(3,DH,[0,0,1]))\n",
        "\n",
        "#point D\n",
        "print('\\nPoint D')\n",
        "DH = scara_invkin(0.25,0.0075,0.1,0.25,0.25)\n",
        "print(dhpara(3,DH,[0,0,1]))"
      ],
      "execution_count": 8,
      "outputs": [
        {
          "output_type": "stream",
          "name": "stdout",
          "text": [
            "Point A\n",
            "[0.45, 0.007499999999999988, 0.2]\n",
            "\n",
            "Point B\n",
            "[0.45000000000000007, -0.00749999999999997, 0.2]\n",
            "\n",
            "Point C\n",
            "[0.43275305003883435, -0.01298259150116502, 0.2]\n",
            "\n",
            "Point D\n",
            "[0.43275305003883435, 0.01298259150116502, 0.2]\n"
          ]
        }
      ]
    },
    {
      "cell_type": "code",
      "metadata": {
        "colab": {
          "base_uri": "https://localhost:8080/"
        },
        "id": "DJwvRuj6S9xr",
        "outputId": "a7766e5e-d0e1-4f8a-ac31-43cdccbfb688"
      },
      "source": [
        "#Test point for different link lengths\n",
        "print('Test Point')\n",
        "DH = scara_invkin(0.25,0.0075,0.1,0.55,0.55)\n",
        "print(dhpara(3,DH,[0,0,1]))"
      ],
      "execution_count": 9,
      "outputs": [
        {
          "output_type": "stream",
          "name": "stdout",
          "text": [
            "Test Point\n",
            "[1.0707062992336898, 0.03212118897701072, 0.2]\n"
          ]
        }
      ]
    },
    {
      "cell_type": "markdown",
      "metadata": {
        "id": "HiUejQIkqYd2"
      },
      "source": [
        "# Task 1: b)"
      ]
    },
    {
      "cell_type": "code",
      "metadata": {
        "colab": {
          "base_uri": "https://localhost:8080/"
        },
        "id": "-d2HrfsOqYE7",
        "outputId": "f69dc049-3aaf-4186-b3ae-309891579dd2"
      },
      "source": [
        "#for the r value, enter 1 for Stanford manipulator, 2 for PUMA manipulator and 3 for SCARA manipulator\n",
        "def manifold(r,x,y,z):\n",
        "  if r==1:\n",
        "    [DH,DH2] = inverse_kinematics_stanford([x,y,z],[0.25,0.25])\n",
        "    print(DH)\n",
        "    print(DH2)\n",
        "    t = [0,0,1]\n",
        "\n",
        "  if r==2:\n",
        "    DH = inv_kin_puma(x,y,z,0.25,0.25,0.25)\n",
        "    print(DH)\n",
        "    t = [0,0,0]\n",
        "    \n",
        "  if r==3:\n",
        "    DH = scara_invkin(x,y,z,0.25,0.25)\n",
        "    print(DH)\n",
        "    t = [0,0,1]\n",
        "\n",
        "  return DH,t\n",
        "\n",
        "print('Stanford Manipulator')\n",
        "[DH,t] = manifold(1,0.4,0.0075,0.1)\n",
        "print(dhpara(3,DH,t))\n",
        "\n",
        "print('\\nPUMA Manipulator')\n",
        "[DH,t] = manifold(2,0.4,0.0075,0.1)\n",
        "print(dhpara(3,DH,t))\n",
        "\n",
        "print('\\nSCARA Manipulator')\n",
        "[DH,t] = manifold(3,0.4,0.0075,0.1)\n",
        "print(dhpara(3,DH,t))"
      ],
      "execution_count": 10,
      "outputs": [
        {
          "output_type": "stream",
          "name": "stdout",
          "text": [
            "Stanford Manipulator\n",
            "[[0, -1.5707963267948966, 0, 0.01874780319774436], [0.25, 1.5707963267948966, 0, -0.3587128931563738], [0.17726601783900392, 0, 0, 0]]\n",
            "[[0, -1.5707963267948966, 0, 3.1603404567875373], [0.25, 1.5707963267948966, 0, 3.500305546746167], [0.17726601783900392, 0, 0, 0]]\n",
            "[0.4, 0.007499999999999991, 0.14999999999999997]\n",
            "\n",
            "PUMA Manipulator\n",
            "[[0, -1.5707963267948966, 0.25, 0.01874780319774436], [0.25, 0, 0, 0.724835989150413], [0.25, 0, 0, -0.36875027812127925]]\n",
            "[0.4213951148672273, 0.007901158403760527, -0.0029052112561576277]\n",
            "\n",
            "SCARA Manipulator\n",
            "[[0.25, 0, 0, -0.6245189145630348], [0.25, 3.141592653589793, 0, 1.2865334355215583], [0, 0, -0.1, 0]]\n",
            "[0.4, 0.007499999999999998, 0.2]\n"
          ]
        }
      ]
    },
    {
      "cell_type": "markdown",
      "metadata": {
        "id": "2cbisx2YbnFZ"
      },
      "source": [
        "# Task 1: c)\n",
        "\n",
        "Robot 1: Stanford"
      ]
    },
    {
      "cell_type": "code",
      "metadata": {
        "colab": {
          "base_uri": "https://localhost:8080/"
        },
        "id": "4M--4nDBbpAL",
        "outputId": "03053e89-4324-4a31-b97b-b1b7ecf37c26"
      },
      "source": [
        "#point A\n",
        "print('Point A')\n",
        "[DH1,DH2] = inverse_kinematics_stanford([0.40,0.006,0.1],[0.25,0.25])\n",
        "print(dhpara(3,DH1,[0,0,1]))\n",
        "print(dhpara(3,DH2,[0,0,1]))\n",
        "\n",
        "#point B\n",
        "print('\\nPoint B')\n",
        "[DH1,DH2] = inverse_kinematics_stanford([0.40,0.001,0.1],[0.25,0.25])\n",
        "print(dhpara(3,DH1,[0,0,1]))\n",
        "print(dhpara(3,DH2,[0,0,1]))\n",
        "\n",
        "#point C\n",
        "print('\\nPoint C')\n",
        "[DH1,DH2] = inverse_kinematics_stanford([0.35,0.001,0.1],[0.25,0.25])\n",
        "print(dhpara(3,DH1,[0,0,1]))\n",
        "print(dhpara(3,DH2,[0,0,1]))\n",
        "\n",
        "#point D\n",
        "print('\\nPoint D')\n",
        "[DH1,DH2] = inverse_kinematics_stanford([0.35,0.006,0.1],[0.25,0.25])\n",
        "print(dhpara(3,DH1,[0,0,1]))\n",
        "print(dhpara(3,DH2,[0,0,1]))"
      ],
      "execution_count": 12,
      "outputs": [
        {
          "output_type": "stream",
          "name": "stdout",
          "text": [
            "Point A\n",
            "[0.4000000000000001, 0.0059999999999999915, 0.15000000000000002]\n",
            "[0.4000000000000001, 0.005999999999999878, 0.1499999999999999]\n",
            "\n",
            "Point B\n",
            "[0.4, 0.0009999999999999907, 0.14999999999999997]\n",
            "[0.4, 0.000999999999999948, 0.14999999999999997]\n",
            "\n",
            "Point C\n",
            "[0.35, 0.000999999999999991, 0.14999999999999997]\n",
            "[0.35000000000000003, 0.0009999999999999545, 0.14999999999999986]\n",
            "\n",
            "Point D\n",
            "[0.35, 0.0059999999999999915, 0.15]\n",
            "[0.35000000000000003, 0.006000000000000028, 0.1499999999999999]\n"
          ]
        }
      ]
    },
    {
      "cell_type": "markdown",
      "metadata": {
        "id": "OADjADWgcM_2"
      },
      "source": [
        "Robot 2: PUMA"
      ]
    },
    {
      "cell_type": "code",
      "metadata": {
        "colab": {
          "base_uri": "https://localhost:8080/"
        },
        "id": "5vYGLiNHcO9g",
        "outputId": "2890788f-d0d9-4ef4-924d-9694a4afd8ba"
      },
      "source": [
        "#point A\n",
        "print('Point A')\n",
        "DH = inv_kin_puma(0.40,0.006,0.1,0.25,0.25,0.25)\n",
        "print(dhpara(3,DH,[0,0,0]))\n",
        "\n",
        "#point B\n",
        "print('\\nPoint B')\n",
        "DH = inv_kin_puma(0.40,0.001,0.1,0.25,0.25,0.25)\n",
        "print(dhpara(3,DH,[0,0,0]))\n",
        "\n",
        "#point C\n",
        "print('\\nPoint C')\n",
        "DH = inv_kin_puma(0.35,0.001,0.1,0.25,0.25,0.25)\n",
        "print(dhpara(3,DH,[0,0,0]))\n",
        "\n",
        "#point D\n",
        "print('\\nPoint D')\n",
        "DH = inv_kin_puma(0.35,0.006,0.1,0.25,0.25,0.25)\n",
        "print(dhpara(3,DH,[0,0,0]))"
      ],
      "execution_count": 13,
      "outputs": [
        {
          "output_type": "stream",
          "name": "stdout",
          "text": [
            "Point A\n",
            "[0.42143236107254306, 0.00632148541608816, -0.0029030327809374534]\n",
            "\n",
            "Point B\n",
            "[0.42149674543638094, 0.0010537418635909678, -0.002899259063341611]\n",
            "\n",
            "Point C\n",
            "[0.43687963355069637, 0.001248227524430576, 0.007287485409136499]\n",
            "\n",
            "Point D\n",
            "[0.43680623597523616, 0.007488106902432635, 0.007272027792217514]\n"
          ]
        }
      ]
    },
    {
      "cell_type": "markdown",
      "metadata": {
        "id": "Eza-0mqscu2r"
      },
      "source": [
        "Robot 3: SCARA"
      ]
    },
    {
      "cell_type": "code",
      "metadata": {
        "colab": {
          "base_uri": "https://localhost:8080/"
        },
        "id": "24x8RQCudMtn",
        "outputId": "8765fb57-dee2-49a3-f3bc-cdc882bb293d"
      },
      "source": [
        "#point A\n",
        "print('Point A')\n",
        "DH = scara_invkin(0.40,0.006,0.1,0.25,0.25)\n",
        "print(dhpara(3,DH,[0,0,1]))\n",
        "\n",
        "#point B\n",
        "print('\\nPoint B')\n",
        "DH = scara_invkin(0.40,0.001,0.1,0.25,0.25)\n",
        "print(dhpara(3,DH,[0,0,1]))\n",
        "\n",
        "#point C\n",
        "print('\\nPoint C')\n",
        "DH = scara_invkin(0.35,0.001,0.1,0.25,0.25)\n",
        "print(dhpara(3,DH,[0,0,1]))\n",
        "\n",
        "#point D\n",
        "print('\\nPoint D')\n",
        "DH = scara_invkin(0.35,0.006,0.1,0.25,0.25)\n",
        "print(dhpara(3,DH,[0,0,1]))"
      ],
      "execution_count": 14,
      "outputs": [
        {
          "output_type": "stream",
          "name": "stdout",
          "text": [
            "Point A\n",
            "[0.4, 0.005999999999999997, 0.2]\n",
            "\n",
            "Point B\n",
            "[0.4, 0.000999999999999965, 0.2]\n",
            "\n",
            "Point C\n",
            "[0.35706856372457807, 0.001020195896355925, 0.2]\n",
            "\n",
            "Point D\n",
            "[0.35696855911537284, 0.006119461013406397, 0.2]\n"
          ]
        }
      ]
    },
    {
      "cell_type": "markdown",
      "metadata": {
        "id": "ZX3iVujsDK_2"
      },
      "source": [
        "# Task 4: b)"
      ]
    },
    {
      "cell_type": "code",
      "metadata": {
        "colab": {
          "base_uri": "https://localhost:8080/"
        },
        "id": "HxBXY8IpDKpx",
        "outputId": "0845c66b-c6f7-40f9-dc3f-3b6f496b5ac6"
      },
      "source": [
        "def inverse_dynamics(kx,ky,m,l,q,qdot,qddot):\n",
        "\n",
        "  g = 9.8 #acceleration due to gravity in m/s^2\n",
        "  [xo,yo] = [2.5,4.33] #mean position\n",
        "\n",
        "  tau = (m*l**2*qddot + m*g*l) + ky*(l*np.sin(q)-yo)*l*np.cos(q) - kx*(l*np.cos(q)-xo)*l*np.sin(q)\n",
        "\n",
        "  return tau\n",
        "\n",
        "print('The tau value for the given parameters is')\n",
        "inverse_dynamics(10,5,5,5,np.pi/4,np.pi/8,np.pi/4)"
      ],
      "execution_count": 18,
      "outputs": [
        {
          "output_type": "stream",
          "name": "stdout",
          "text": [
            "The tau value for the given parameters is\n"
          ]
        },
        {
          "output_type": "execute_result",
          "data": {
            "text/plain": [
              "292.51880900955564"
            ]
          },
          "metadata": {},
          "execution_count": 18
        }
      ]
    },
    {
      "cell_type": "markdown",
      "metadata": {
        "id": "LrzXnNADYKwF"
      },
      "source": [
        "# Task 3: b)"
      ]
    },
    {
      "cell_type": "code",
      "metadata": {
        "colab": {
          "base_uri": "https://localhost:8080/",
          "height": 300
        },
        "id": "n0rJWouicMhB",
        "outputId": "0eea0878-08f2-40da-a1b6-39290c112be9"
      },
      "source": [
        "import xlrd\n",
        "import matplotlib.pyplot as plt\n",
        "\n",
        "loc = (\"Gait_DATA.xlsx\")\n",
        " \n",
        "wb = xlrd.open_workbook(loc)\n",
        "sheet = wb.sheet_by_index(0)\n",
        "\n",
        "X = []\n",
        "Y = []\n",
        "for i in range(1,sheet.nrows):\n",
        "  X.append(sheet.cell_value(i,0))\n",
        "  Y.append(sheet.cell_value(i,1))\n",
        "\n",
        "plt.scatter(X, Y, color = 'g',s = 10)\n",
        "plt.title('Gait Cycle', fontsize = 20)\n",
        "plt.xlabel(\"X\")\n",
        "plt.ylabel(\"Y\")\n",
        "plt.show()"
      ],
      "execution_count": 17,
      "outputs": [
        {
          "output_type": "display_data",
          "data": {
            "image/png": "[encoded data removed]",
            "text/plain": [
              "<Figure size 432x288 with 1 Axes>"
            ]
          },
          "metadata": {
            "needs_background": "light"
          }
        }
      ]
    }
  ]
}