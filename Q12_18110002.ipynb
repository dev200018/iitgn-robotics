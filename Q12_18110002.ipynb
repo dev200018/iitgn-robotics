{
  "nbformat": 4,
  "nbformat_minor": 0,
  "metadata": {
    "colab": {
      "name": "Q12.ipynb",
      "provenance": [],
      "collapsed_sections": []
    },
    "kernelspec": {
      "name": "python3",
      "display_name": "Python 3"
    },
    "language_info": {
      "name": "python"
    }
  },
  "cells": [
    {
      "cell_type": "code",
      "metadata": {
        "colab": {
          "base_uri": "https://localhost:8080/"
        },
        "id": "Xhn0hIeBjxfy",
        "outputId": "971dd965-272f-401e-b70a-5a3d479ffe20"
      },
      "source": [
        "import numpy as np\n",
        "\n",
        "l1 = 1\n",
        "l2 = 1\n",
        "l3 = 1\n",
        "theta1 = np.pi/4\n",
        "theta2 = np.pi/2\n",
        "d = 1\n",
        "\n",
        "R01 = np.array([[np.cos(theta1), -np.sin(theta1), 0],[np.sin(theta1), np.cos(theta1), 0],[0, 0, 1]])\n",
        "d01 = np.array([[l2*np.cos(theta1)],[l2*np.sin(theta1)],[l1]])\n",
        "R12 = np.array([[np.cos(theta2), np.sin(theta2), 0],[np.sin(theta1), -np.cos(theta1), 0],[0, 0, -1]])\n",
        "d12 = np.array([[l3*np.cos(theta2)],[l3*np.sin(theta2)],[0]])\n",
        "R23 = np.array([[1, 0, 0],[0, 1, 0],[0, 0, 1]])\n",
        "d23 = np.array([[0],[0],[d]])\n",
        "\n",
        "H01 = np.hstack((R01,d01))\n",
        "H01 = np.vstack((H01, np.array([0, 0, 0, 1])))\n",
        "H12 = np.hstack((R12,d12))\n",
        "H12 = np.vstack((H12, np.array([0, 0, 0, 1])))\n",
        "H23 = np.hstack((R23,d23))\n",
        "H23 = np.vstack((H23, np.array([0, 0, 0, 1])))\n",
        "H02 = np.matmul(H01, H12)\n",
        "H03 = np.matmul(H02, H23)\n",
        "\n",
        "p1 = 1\n",
        "p2 = 1\n",
        "p3 = 0\n",
        "\n",
        "z0 = np.array([[0,0,1]])\n",
        "z1 = z0\n",
        "z2 = -z0\n",
        "\n",
        "o0 = np.array([[0,0,0]])\n",
        "o = np.array([[0],[0],[0],[1]])\n",
        "o1 = np.matmul(H01, o)[0:3]\n",
        "o2 = np.matmul(H02, o)[0:3]\n",
        "o3 = np.matmul(H03, o)[0:3]\n",
        "o1 = np.reshape(o1, (1,3))\n",
        "o2 = np.reshape(o2, (1,3))\n",
        "o3 = np.reshape(o3, (1,3))\n",
        "\n",
        "Jw1 = p1*z0\n",
        "Jw2 = p2*z1\n",
        "Jw3 = p3*z2\n",
        "Jv1 = np.cross(z0, (o3-o0))\n",
        "Jv2 = np.cross(z1, (o3-o1))\n",
        "Jv3 = np.cross(z2, (o3-o2))\n",
        "Jw1 = np.reshape(Jw1, (3,1))\n",
        "Jw2 = np.reshape(Jw2, (3,1))\n",
        "Jw3 = np.reshape(Jw3, (3,1))\n",
        "Jv1 = np.reshape(Jv1, (3,1))\n",
        "Jv2 = np.reshape(Jv2, (3,1))\n",
        "Jv3 = np.reshape(Jv3, (3,1))\n",
        "\n",
        "J1 = np.vstack((Jv1, Jw1))\n",
        "J2 = np.vstack((Jv2, Jw2))\n",
        "J3 = np.vstack((Jv3, Jw3))\n",
        "\n",
        "temp = np.hstack((J1, J2))\n",
        "J = np.hstack((temp, J3))\n",
        "\n",
        "print(J)"
      ],
      "execution_count": 27,
      "outputs": [
        {
          "output_type": "stream",
          "name": "stdout",
          "text": [
            "[[-1.41421356e+00 -7.07106781e-01  0.00000000e+00]\n",
            " [ 1.11022302e-16 -7.07106781e-01  0.00000000e+00]\n",
            " [ 0.00000000e+00  0.00000000e+00  0.00000000e+00]\n",
            " [ 0.00000000e+00  0.00000000e+00  0.00000000e+00]\n",
            " [ 0.00000000e+00  0.00000000e+00  0.00000000e+00]\n",
            " [ 1.00000000e+00  1.00000000e+00  0.00000000e+00]]\n"
          ]
        }
      ]
    }
  ]
}