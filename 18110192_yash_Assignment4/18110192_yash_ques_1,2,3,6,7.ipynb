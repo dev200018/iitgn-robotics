{
  "nbformat": 4,
  "nbformat_minor": 0,
  "metadata": {
    "colab": {
      "name": "18110192_yash_ques_1,2,3,6,7.ipynb",
      "provenance": [],
      "collapsed_sections": []
    },
    "kernelspec": {
      "name": "python3",
      "display_name": "Python 3"
    },
    "language_info": {
      "name": "python"
    }
  },
  "cells": [
    {
      "cell_type": "markdown",
      "metadata": {
        "id": "0DMaf8_yXMnD"
      },
      "source": [
        "# Name: Yash Meshram\n",
        "\n",
        "# Assignment-4"
      ]
    },
    {
      "cell_type": "code",
      "metadata": {
        "id": "wrgOzTWJbNyQ"
      },
      "source": [
        ""
      ],
      "execution_count": null,
      "outputs": []
    },
    {
      "cell_type": "markdown",
      "metadata": {
        "id": "Kij247JsbOM_"
      },
      "source": [
        "# question 1"
      ]
    },
    {
      "cell_type": "code",
      "metadata": {
        "id": "dJrBepSRW6TQ"
      },
      "source": [
        "import math\n",
        "import numpy as np\n",
        "\n",
        "def deg(theta):\n",
        "    rad = (math.pi/180)*theta\n",
        "    return rad\n",
        "\n",
        "def cos(q):\n",
        "    return math.cos(deg(q))\n",
        "\n",
        "def sin(q):\n",
        "    return math.sin(deg(q))\n",
        "\n",
        "def atan(q1, q2):\n",
        "    return (180/math.pi)*math.atan(q1/q2)"
      ],
      "execution_count": null,
      "outputs": []
    },
    {
      "cell_type": "code",
      "metadata": {
        "id": "KWLqu6sgXZsb"
      },
      "source": [
        "# Input\n",
        "P = [10, 15, 12]       # P = [px, py, pz]\n",
        "l1 = 5               # link 1 length\n",
        "l2 = 10              # link 2 length"
      ],
      "execution_count": null,
      "outputs": []
    },
    {
      "cell_type": "code",
      "metadata": {
        "colab": {
          "base_uri": "https://localhost:8080/"
        },
        "id": "wo7WTiPJbs0S",
        "outputId": "39d3cc5b-5d09-403b-84cc-9b9b813776d7"
      },
      "source": [
        "def question1(P, l1, l2):\n",
        "    (px, py, pz) = (P[0], P[1], P[2])\n",
        "\n",
        "    theta1 = atan(py, px)\n",
        "    r = math.sqrt(px**2 + py**2)\n",
        "    s = pz - l1\n",
        "    theta2 = atan(s, r)\n",
        "    d3 = math.sqrt(r**2 + s**2) - l2\n",
        "\n",
        "    print('\\u03B81 = {}\\u00B0'.format(round(theta1, 2)))\n",
        "    print('\\u03B82 = {}\\u00B0'.format(round(theta2, 2)))\n",
        "    print('d3 = {}'.format(round(d3, 2)))\n",
        "\n",
        "question1(P, l1, l2)"
      ],
      "execution_count": null,
      "outputs": [
        {
          "output_type": "stream",
          "name": "stdout",
          "text": [
            "θ1 = 56.31°\n",
            "θ2 = 21.22°\n",
            "d3 = 9.34\n"
          ]
        }
      ]
    },
    {
      "cell_type": "code",
      "metadata": {
        "id": "lsrBbuMQhTDN"
      },
      "source": [
        ""
      ],
      "execution_count": null,
      "outputs": []
    },
    {
      "cell_type": "markdown",
      "metadata": {
        "id": "FMosqvUNxt_Y"
      },
      "source": [
        "# question 2"
      ]
    },
    {
      "cell_type": "code",
      "metadata": {
        "id": "975xbGvrhS2g"
      },
      "source": [
        "# Input\n",
        "a = 60                                              # consider theta4=0 then a = theta1 + theta2\n",
        "T = np.array([[cos(a),  sin(a),      0,      3],\n",
        "              [sin(a), -cos(a),      0,      5],\n",
        "              [     0,       0,      1,      7],\n",
        "              [     0,       0,      0,      1]])\n",
        "a1 = 3\n",
        "a2 = 3\n",
        "d4 = 6"
      ],
      "execution_count": null,
      "outputs": []
    },
    {
      "cell_type": "code",
      "metadata": {
        "colab": {
          "base_uri": "https://localhost:8080/"
        },
        "id": "2OpCHxfz2OKD",
        "outputId": "55be6ef5-6359-4f3e-d43c-b70545282187"
      },
      "source": [
        "def question2(T, a1, a2, d4):\n",
        "    R = T[:3,:3]\n",
        "    d = T[:3,3]\n",
        "    (r11, r12) = (R[0,0], R[0,1])\n",
        "    (dx, dy, dz) = (d[0], d[1], d[2])\n",
        "\n",
        "    a = atan(r12, r11)\n",
        "    r = (dx**2 + dy**2 - a1**2 - a2**2)/(2*a1*a2)\n",
        "    theta2 = atan(np.sqrt(1 - r**2), r)\n",
        "    # theta1 = atan(dx, dy) - atan(a1 + a2*cos(theta2), a2*sin(theta2))\n",
        "    # theta4 = theta1 + theta2 - a\n",
        "    d3 = dz - d4\n",
        "    theta1 = atan(dy, dx) - atan(a2*sin(theta2),(a1 + a2*cos(theta2)))\n",
        "\n",
        "    print('\\u03B81 = {}\\u00B0'.format(round(theta1, 2)))\n",
        "    print('\\u03B82 = {}\\u00B0'.format(round(theta2, 2)))\n",
        "    print('d3 = {}'.format(round(d3, 2)))\n",
        "\n",
        "question2(T, a1, a2, d4)"
      ],
      "execution_count": null,
      "outputs": [
        {
          "output_type": "stream",
          "name": "stdout",
          "text": [
            "θ1 = 45.4°\n",
            "θ2 = 27.27°\n",
            "d3 = 1.0\n"
          ]
        }
      ]
    },
    {
      "cell_type": "code",
      "metadata": {
        "id": "pKBAelvA-IQS"
      },
      "source": [
        ""
      ],
      "execution_count": null,
      "outputs": []
    },
    {
      "cell_type": "markdown",
      "metadata": {
        "id": "9IDaBMYy_Rem"
      },
      "source": [
        "# question 3"
      ]
    },
    {
      "cell_type": "code",
      "metadata": {
        "id": "NZZDiMYV_TZi"
      },
      "source": [
        "# Inputs\n",
        "n = 3                                     # Number of links\n",
        "s = 'RRR'                                 # Type of joints\n",
        "DH = np.array([[10, 0, 0, 45],            # DH Parameters (EACH ROW IN ORDER [ai, alpha_i, di, theta_i])\n",
        "               [10, 0, 0, 90],           \n",
        "               [10, 0, 0, 45]])\n",
        "X_dot = np.array([[4], [5], [9], [1], [2], [3]])"
      ],
      "execution_count": null,
      "outputs": []
    },
    {
      "cell_type": "code",
      "metadata": {
        "colab": {
          "base_uri": "https://localhost:8080/"
        },
        "id": "wpMURM-WLkbu",
        "outputId": "9955af0b-b521-483e-8553-d87530b53a86"
      },
      "source": [
        "def R_(ap, teta):\n",
        "    R = np.array([[cos(teta), -sin(teta)*cos(ap),  sin(teta)*sin(ap)],\n",
        "                  [sin(teta),  cos(teta)*cos(ap), -cos(teta)*sin(ap)],\n",
        "                  [        0,            sin(ap),            cos(ap)]])\n",
        "    return R\n",
        "def P_(a, d, teta):\n",
        "    P = np.array([[a*cos(teta)],\n",
        "                  [a*sin(teta)],\n",
        "                  [d]])\n",
        "    return P\n",
        "\n",
        "def question3(n, s, DH, X_dot):\n",
        "    To = np.identity(4, dtype = float)\n",
        "    extra_row = np.array([0, 0, 0, 1])\n",
        "\n",
        "    for i in range(n):\n",
        "        a_i = DH[i][0]\n",
        "        ap_i = DH[i][1]\n",
        "        d_i = DH[i][2]\n",
        "        teta_i = DH[i][3]\n",
        "\n",
        "        R_i = R_(ap_i, teta_i)\n",
        "        P_i = P_(a_i, d_i, teta_i)\n",
        "        A_i = np.vstack((np.concatenate((R_i, P_i), axis=1), extra_row))\n",
        "        To = np.dot(To, A_i)\n",
        "\n",
        "    Pn = np.array([[To[0][3]],\n",
        "                [To[1][3]],\n",
        "                [To[2][3]]])\n",
        "\n",
        "\n",
        "    T = np.identity(4, dtype = float)\n",
        "    z = np.array([[0],\n",
        "                [0],\n",
        "                [1]])\n",
        "    Pn = np.transpose(Pn)\n",
        "\n",
        "    J = np.zeros([6,1])\n",
        "    if s[0] == 'R':\n",
        "        J0 = np.concatenate((np.cross(np.transpose(z), Pn), np.transpose(z)), axis=1)\n",
        "    elif s[0] == 'P':\n",
        "        J0 = np.concatenate((np.transpose(z), np.zeros([1,3])), axis=1)\n",
        "    J = np.concatenate((J, np.transpose(J0)), axis=1)\n",
        "    J = np.delete(J, 0, axis=1)\n",
        "\n",
        "    for i in range(n-1):\n",
        "        a_i = DH[i][0]\n",
        "        ap_i = DH[i][1]\n",
        "        d_i = DH[i][2]\n",
        "        teta_i = DH[i][3]\n",
        "\n",
        "        R_i = R_(ap_i, teta_i)\n",
        "        P_i = P_(a_i, d_i, teta_i)\n",
        "        A_i = np.vstack((np.concatenate((R_i, P_i), axis=1), extra_row))\n",
        "        T = np.dot(T, A_i)\n",
        "        R = T[:3,:3]\n",
        "        P = np.transpose(T[:3,3])\n",
        "\n",
        "        Z_i = np.transpose(np.dot(R, z))\n",
        "        if s[i+1] == 'R':\n",
        "            r1 = np.cross(Z_i, (Pn - P))\n",
        "            r2 = Z_i\n",
        "        elif s[i+1] == 'P':\n",
        "            r1 = Z_i\n",
        "            r2 = np.zeros([1,3])\n",
        "        Ji = np.concatenate((r1, r2), axis = 1)\n",
        "        Ji = np.transpose(Ji)\n",
        "        J = np.concatenate((J, Ji), axis = 1)\n",
        "\n",
        "    J_inv = np.linalg.pinv(J)\n",
        "    q_dot = np.dot(J_inv, X_dot)\n",
        "    print('q\\u0307 =')\n",
        "    print(q_dot)\n",
        "\n",
        "question3(n, s, DH, X_dot)"
      ],
      "execution_count": null,
      "outputs": [
        {
          "output_type": "stream",
          "name": "stdout",
          "text": [
            "q̇ =\n",
            "[[ 2.19203102]\n",
            " [-4.94974747]\n",
            " [ 5.75771645]]\n"
          ]
        }
      ]
    },
    {
      "cell_type": "code",
      "metadata": {
        "id": "vxoJeVvBR43X"
      },
      "source": [
        ""
      ],
      "execution_count": null,
      "outputs": []
    },
    {
      "cell_type": "markdown",
      "metadata": {
        "id": "He7BsuCSvcIm"
      },
      "source": [
        "# question 6"
      ]
    },
    {
      "cell_type": "code",
      "metadata": {
        "id": "ernAnN6fSBhW"
      },
      "source": [
        "# Input\n",
        "R = np.array([[.1, .2, .3],\n",
        "              [.4, .5, .6],\n",
        "              [.7, .8, .9]])"
      ],
      "execution_count": null,
      "outputs": []
    },
    {
      "cell_type": "code",
      "metadata": {
        "colab": {
          "base_uri": "https://localhost:8080/"
        },
        "id": "v7y2fPwyv-LP",
        "outputId": "e9bac11b-55f8-4185-ff59-614404a4f403"
      },
      "source": [
        "(u13, u23, u33, u31, u32) = (R[0,2], R[1,2], R[2,2], R[2,0], R[2,1])\n",
        "\n",
        "theta = atan(np.sqrt(1-u33**2), u33)\n",
        "phi = atan(u23, u13)\n",
        "psi = atan(u32, -u31)\n",
        "\n",
        "print('\\u03B8 = {}\\u00B0'.format(theta))\n",
        "print('\\u03A6 = {}\\u00B0'.format(phi))\n",
        "print('\\u03A8 = {}\\u00B0'.format(psi))"
      ],
      "execution_count": null,
      "outputs": [
        {
          "output_type": "stream",
          "name": "stdout",
          "text": [
            "θ = 25.841932763167126°\n",
            "Φ = 63.43494882292201°\n",
            "Ψ = -48.81407483429036°\n"
          ]
        }
      ]
    },
    {
      "cell_type": "code",
      "metadata": {
        "id": "nqj3UjFswO3C"
      },
      "source": [
        ""
      ],
      "execution_count": null,
      "outputs": []
    },
    {
      "cell_type": "markdown",
      "metadata": {
        "id": "T07ABLb_0-78"
      },
      "source": [
        "# question 7"
      ]
    },
    {
      "cell_type": "code",
      "metadata": {
        "id": "YmG5zeFRwQL7"
      },
      "source": [
        "def R_(ap, teta):\n",
        "    R = np.array([[cos(teta), -sin(teta)*cos(ap),  sin(teta)*sin(ap)],\n",
        "                  [sin(teta),  cos(teta)*cos(ap), -cos(teta)*sin(ap)],\n",
        "                  [        0,            sin(ap),            cos(ap)]])\n",
        "    return R\n",
        "def P_(a, d, teta):\n",
        "    P = np.array([[a*cos(teta)],\n",
        "                  [a*sin(teta)],\n",
        "                  [d]])\n",
        "    return P\n",
        "\n",
        "def question7(n, s, DH):\n",
        "    To = np.identity(4, dtype = float)\n",
        "    extra_row = np.array([0, 0, 0, 1])\n",
        "\n",
        "    for i in range(n):\n",
        "        a_i = DH[i][0]\n",
        "        ap_i = DH[i][1]\n",
        "        d_i = DH[i][2]\n",
        "        teta_i = DH[i][3]\n",
        "\n",
        "        R_i = R_(ap_i, teta_i)\n",
        "        P_i = P_(a_i, d_i, teta_i)\n",
        "        A_i = np.vstack((np.concatenate((R_i, P_i), axis=1), extra_row))\n",
        "        To = np.dot(To, A_i)\n",
        "\n",
        "    Pn = np.array([[To[0][3]],\n",
        "                [To[1][3]],\n",
        "                [To[2][3]]])\n",
        "\n",
        "\n",
        "    T = np.identity(4, dtype = float)\n",
        "    z = np.array([[0],\n",
        "                [0],\n",
        "                [1]])\n",
        "    Pn = np.transpose(Pn)\n",
        "\n",
        "    J = np.zeros([6,1])\n",
        "    if s[0] == 'R':\n",
        "        J0 = np.concatenate((np.cross(np.transpose(z), Pn), np.transpose(z)), axis=1)\n",
        "    elif s[0] == 'P':\n",
        "        J0 = np.concatenate((np.transpose(z), np.zeros([1,3])), axis=1)\n",
        "    J = np.concatenate((J, np.transpose(J0)), axis=1)\n",
        "    J = np.delete(J, 0, axis=1)\n",
        "\n",
        "    for i in range(n-1):\n",
        "        a_i = DH[i][0]\n",
        "        ap_i = DH[i][1]\n",
        "        d_i = DH[i][2]\n",
        "        teta_i = DH[i][3]\n",
        "\n",
        "        R_i = R_(ap_i, teta_i)\n",
        "        P_i = P_(a_i, d_i, teta_i)\n",
        "        A_i = np.vstack((np.concatenate((R_i, P_i), axis=1), extra_row))\n",
        "        T = np.dot(T, A_i)\n",
        "        R = T[:3,:3]\n",
        "        P = np.transpose(T[:3,3])\n",
        "\n",
        "        Z_i = np.transpose(np.dot(R, z))\n",
        "        if s[i+1] == 'R':\n",
        "            r1 = np.cross(Z_i, (Pn - P))\n",
        "            r2 = Z_i\n",
        "        elif s[i+1] == 'P':\n",
        "            r1 = Z_i\n",
        "            r2 = np.zeros([1,3])\n",
        "        Ji = np.concatenate((r1, r2), axis = 1)\n",
        "        Ji = np.transpose(Ji)\n",
        "        J = np.concatenate((J, Ji), axis = 1)\n",
        "    Pn = np.transpose(Pn)\n",
        "\n",
        "    W = np.array([0])\n",
        "    for i in range(n):\n",
        "        if s[i] == 'R':\n",
        "            W = np.append(W, [5])\n",
        "        elif s[i] == 'P':\n",
        "            W = np.append(W, [1])\n",
        "    W = np.delete(W, [0])\n",
        "\n",
        "    print('End-effector position = \\n', Pn)\n",
        "    print('\\n')\n",
        "    print('End-effector velocity = \\n', np.dot(J, np.transpose(W)))"
      ],
      "execution_count": null,
      "outputs": []
    },
    {
      "cell_type": "code",
      "metadata": {
        "colab": {
          "base_uri": "https://localhost:8080/"
        },
        "id": "UlyGUVRl1M4j",
        "outputId": "ccfa2fb6-165e-4219-afe0-c76564990bcd"
      },
      "source": [
        "# Inputs\n",
        "n = 3                                       # Number of links\n",
        "s = 'PPP'                                   # Type of joints\n",
        "DH = np.array([[0, -90, 2,   0],            # DH Parameters (EACH ROW IN ORDER [ai, alpha_i, di, theta_i])\n",
        "               [0, -90, 3, -90],           \n",
        "               [0,   0, 5,   0]])\n",
        "\n",
        "# calculating\n",
        "question7(n, s, DH)"
      ],
      "execution_count": null,
      "outputs": [
        {
          "output_type": "stream",
          "name": "stdout",
          "text": [
            "End-effector position = \n",
            " [[5.]\n",
            " [3.]\n",
            " [2.]]\n",
            "\n",
            "\n",
            "End-effector velocity = \n",
            " [1. 1. 1. 0. 0. 0.]\n"
          ]
        }
      ]
    },
    {
      "cell_type": "code",
      "metadata": {
        "id": "wI_LVKhv1TaY"
      },
      "source": [
        ""
      ],
      "execution_count": null,
      "outputs": []
    }
  ]
}