{
  "nbformat": 4,
  "nbformat_minor": 0,
  "metadata": {
    "colab": {
      "name": "Q6_19110046_Assignment4_ME639.ipynb",
      "provenance": []
    },
    "kernelspec": {
      "name": "python3",
      "display_name": "Python 3"
    },
    "language_info": {
      "name": "python"
    }
  },
  "cells": [
    {
      "cell_type": "code",
      "metadata": {
        "id": "8C5Mg01SQNSK"
      },
      "source": [
        "#Euler angles for spherical configuration \n",
        "\n",
        "import numpy as np\n",
        "import math\n",
        "import scipy"
      ],
      "execution_count": null,
      "outputs": []
    },
    {
      "cell_type": "code",
      "metadata": {
        "id": "BsQUsNmFQOQp"
      },
      "source": [
        "R36 = np.array(list(map(float, input(\"Enter rotation matrix R36 of spherical wrist\").split()))).reshape((3, 3))\n",
        "\n",
        "theta4 = math.atan2(R36[2,2], math.sqrt(1 - (R36[2,2])**2))\n",
        "theta5 = math.atan2(R36[0,2], R36[1,2])\n",
        "theta6 = math.atan2(-R36[2,0], R36[2,1])\n",
        "\n",
        "print(\"Outputs of the three theta angles\")\n",
        "print(\"Theta4 = \", theta4*180/math.pi, \"Theta5 = \", theta5*180/math.pi, \"Theta6 = \", theta6*180/math.pi)"
      ],
      "execution_count": null,
      "outputs": []
    }
  ]
}