{
 "cells": [
  {
   "cell_type": "code",
   "execution_count": 16,
   "source": [
    "import math\n",
    "import numpy as np\n",
    "from scipy.optimize import fsolve\n",
    "import sys"
   ],
   "outputs": [],
   "metadata": {}
  },
  {
   "cell_type": "markdown",
   "source": [
    "Level 1: No End Sem"
   ],
   "metadata": {}
  },
  {
   "cell_type": "markdown",
   "source": [
    "1.a"
   ],
   "metadata": {}
  },
  {
   "cell_type": "code",
   "execution_count": 17,
   "source": [
    "class answer1a():\n",
    "    def __init__(self) -> None:\n",
    "        self.l = 0.25\n",
    "        self.m = 0.8\n",
    "        self.I = 0.005\n",
    "        self.pts = []\n",
    "        self.check = True\n",
    "        pass\n",
    "\n",
    "    def makePts(self,A,B,C,D):\n",
    "        self.pts = [A,B,C,D]\n",
    "        for i in range(len(self.pts)):\n",
    "            if self.pts[i][0]>0.45 or self.pts[i][0]<0.25 or self.pts[i][1]<-0.075 or self.pts[i][1]>0.075 or self.pts[i][2]!=0.1:\n",
    "                print(\"Enter values within the box\")\n",
    "                sys.exit()\n",
    "        pass\n",
    "\n",
    "    def Stanford_type(self,):\n",
    "        l1 = self.l\n",
    "        l2 = self.l\n",
    "        t1=[]\n",
    "        t2=[]\n",
    "        for i in range(len(self.pts)):\n",
    "            # Inverse kinematics\n",
    "            x_e = self.pts[i][0]\n",
    "            y_e = self.pts[i][1]\n",
    "            z_e = self.pts[i][2]\n",
    "            d = math.sqrt((x_e**2 + y_e**2 +(z_e-l1)**2)) - l2\n",
    "            theta1 = math.atan((y_e/x_e))\n",
    "            r = math.sqrt((x_e**2 + y_e**2))\n",
    "            s = z_e - l1\n",
    "            theta2 = math.atan((s/r))\n",
    "            # Verification\n",
    "            x = (d + l2)*math.cos(theta1)*math.cos(theta2)\n",
    "            y = (d + l2)*math.sin(theta1)*math.cos(theta2)\n",
    "            z = (d + l2)*math.sin(theta2) + l1\n",
    "            t1.append(theta1)\n",
    "            t2.append(theta2)\n",
    "            if self.check:\n",
    "                print(\"\\n Corner: \"+str(i+1)+\"\\n d: \"+str(d)+\", theta_1: \"+str(theta1)+\", theta_2: \"+str(theta2)+\n",
    "                    \"\\n x: \"+str(x)+\", y: \"+str(y)+\", z: \"+str(z)+\"\\n Required x: \"+str(x_e)+\", y: \"+str(y_e)+\", z: \"+str(z_e))\n",
    "        if self.check:\n",
    "            pass\n",
    "        else:\n",
    "            return t1,t2\n",
    "\n",
    "\n",
    "    def PUMA_type(self,):\n",
    "        l1 = self.l\n",
    "        l2 = self.l\n",
    "        l3 = self.l\n",
    "        t1 = []\n",
    "        t2 = []\n",
    "        t3 = []\n",
    "        for i in range(len(self.pts)):\n",
    "            # Inverse kinematics\n",
    "            x_e = self.pts[i][0]\n",
    "            y_e = self.pts[i][1]\n",
    "            z_e = self.pts[i][2]\n",
    "            theta1 = math.atan2(y_e,x_e)\n",
    "            D = (x_e**2 + y_e**2 + (z_e-l1)**2 - l2**2 - l3**2)/(2*l2*l3)\n",
    "            theta3 = math.atan2(math.sqrt(1 - D**2),D)\n",
    "            theta2 = math.atan2((z_e - l1),(math.sqrt(x_e**2 + y_e**2))) - math.atan2((l3*math.sin(theta3)),(l2 + l3*math.cos(theta3)))\n",
    "            # Verification\n",
    "            x = (l3*math.cos(theta3+theta2) + l2*math.cos(theta2))*math.cos(theta1)\n",
    "            y = (l3*math.cos(theta3+theta2) + l2*math.cos(theta2))*math.sin(theta1)\n",
    "            z = l3*math.sin(theta3+theta2) + l2*math.sin(theta2) + l1\n",
    "            t1.append(theta1)\n",
    "            t2.append(theta2)\n",
    "            t3.append(theta3)\n",
    "            if self.check:\n",
    "                print(\"\\n Corner: \"+str(i+1)+\"\\n theta_1: \"+str(theta1)+\", theta_2: \"+str(theta2)+\", theta_3: \"+str(theta3)+\n",
    "                    \"\\n x: \"+str(x)+\", y: \"+str(y)+\", z: \"+str(z)+\"\\n Required x: \"+str(x_e)+\", y: \"+str(y_e)+\", z: \"+str(z_e))\n",
    "        if self.check:\n",
    "            pass\n",
    "        else:\n",
    "            return t1, t2, t3\n",
    "\n",
    "    def SCARA_type(self,):\n",
    "        l0 = self.l\n",
    "        l1 = self.l\n",
    "        l2 = self.l\n",
    "        t1 = []\n",
    "        t2 = []\n",
    "        for i in range(len(self.pts)):\n",
    "            # Inverse kinematics\n",
    "            x_e = self.pts[i][0]\n",
    "            y_e = self.pts[i][1]\n",
    "            z_e = self.pts[i][2]\n",
    "            def inverseKinematics(args):\n",
    "                return [-x_e + l2*math.cos(args[0]+args[1]) + l1*math.cos(args[0]),\n",
    "                        -y_e + l2*math.sin(args[0]+args[1]) + l1*math.sin(args[0]), \n",
    "                        -z_e + l0 - args[2]]\n",
    "            [theta1,theta2,d] = fsolve(inverseKinematics,[0,0,0])\n",
    "            # Verification\n",
    "            x = l2*math.cos(theta1+theta2) + l1*math.cos(theta1)\n",
    "            y = l2*math.sin(theta1+theta2) + l1*math.sin(theta1)\n",
    "            z = l0 - d\n",
    "            t1.append(theta1)\n",
    "            t2.append(theta2)\n",
    "            if self.check:\n",
    "                print(\"\\n Corner: \"+str(i+1)+\"\\n d: \"+str(d)+\", theta_1: \"+str(theta1)+\", theta_2: \"+str(theta2)+\n",
    "                    \"\\n x: \"+str(x)+\", y: \"+str(y)+\", z: \"+str(z)+\"\\n Required x: \"+str(x_e)+\", y: \"+str(y_e)+\", z: \"+str(z_e))\n",
    "        if self.check:\n",
    "            pass\n",
    "        else:\n",
    "            return t1,t2"
   ],
   "outputs": [],
   "metadata": {}
  },
  {
   "cell_type": "code",
   "execution_count": 197,
   "source": [
    "A = [0.45, 0.075, 0.1]\n",
    "B = [0.45, -0.075, 0.1]\n",
    "C = [0.25, -0.075, 0.1]\n",
    "D = [0.25, 0.075, 0.1]\n",
    "a1 = answer1a()\n",
    "a1.makePts(A,B,C,D)\n",
    "print(\"For Stanford type:\")\n",
    "a1.Stanford_type()"
   ],
   "outputs": [
    {
     "output_type": "stream",
     "name": "stdout",
     "text": [
      "For Stanford type:\n",
      "\n",
      " Corner: 1\n",
      " d: 0.23023431780746367, theta_1: 0.16514867741462683, theta_2: -0.3176631929822606\n",
      " x: 0.45, y: 0.07499999999999998, z: 0.09999999999999998\n",
      " Required x: 0.45, y: 0.075, z: 0.1\n",
      "\n",
      " Corner: 2\n",
      " d: 0.23023431780746367, theta_1: -0.16514867741462683, theta_2: -0.3176631929822606\n",
      " x: 0.45, y: -0.07499999999999998, z: 0.09999999999999998\n",
      " Required x: 0.45, y: -0.075, z: 0.1\n",
      "\n",
      " Corner: 3\n",
      " d: 0.051039864469807406, theta_1: -0.2914567944778671, theta_2: -0.5216056136891403\n",
      " x: 0.25000000000000006, y: -0.07500000000000001, z: 0.1\n",
      " Required x: 0.25, y: -0.075, z: 0.1\n",
      "\n",
      " Corner: 4\n",
      " d: 0.051039864469807406, theta_1: 0.2914567944778671, theta_2: -0.5216056136891403\n",
      " x: 0.25000000000000006, y: 0.07500000000000001, z: 0.1\n",
      " Required x: 0.25, y: 0.075, z: 0.1\n"
     ]
    }
   ],
   "metadata": {}
  },
  {
   "cell_type": "code",
   "execution_count": 198,
   "source": [
    "print(\"For PUMA type:\")\n",
    "a1.PUMA_type()"
   ],
   "outputs": [
    {
     "output_type": "stream",
     "name": "stdout",
     "text": [
      "For PUMA type:\n",
      "\n",
      " Corner: 1\n",
      " theta_1: 0.16514867741462683, theta_2: -0.5997787728460515, theta_3: 0.564231159727582\n",
      " x: 0.45000000000000007, y: 0.075, z: 0.1\n",
      " Required x: 0.45, y: 0.075, z: 0.1\n",
      "\n",
      " Corner: 2\n",
      " theta_1: -0.16514867741462683, theta_2: -0.5997787728460515, theta_3: 0.564231159727582\n",
      " x: 0.45000000000000007, y: -0.075, z: 0.1\n",
      " Required x: 0.45, y: -0.075, z: 0.1\n",
      "\n",
      " Corner: 3\n",
      " theta_1: -0.2914567944778671, theta_2: -1.4462986282824137, theta_3: 1.8493860291865472\n",
      " x: 0.25, y: -0.07500000000000001, z: 0.10000000000000003\n",
      " Required x: 0.25, y: -0.075, z: 0.1\n",
      "\n",
      " Corner: 4\n",
      " theta_1: 0.2914567944778671, theta_2: -1.4462986282824137, theta_3: 1.8493860291865472\n",
      " x: 0.25, y: 0.07500000000000001, z: 0.10000000000000003\n",
      " Required x: 0.25, y: 0.075, z: 0.1\n"
     ]
    }
   ],
   "metadata": {}
  },
  {
   "cell_type": "code",
   "execution_count": 199,
   "source": [
    "print(\"For SCARA type:\")\n",
    "a1.SCARA_type()"
   ],
   "outputs": [
    {
     "output_type": "stream",
     "name": "stdout",
     "text": [
      "For SCARA type:\n",
      "\n",
      " Corner: 1\n",
      " d: 0.15, theta_1: 6.869985238543735, theta_2: -13.409673122613764\n",
      " x: 0.45000000006772045, y: 0.07499999992906618, z: 0.1\n",
      " Required x: 0.45, y: 0.075, z: 0.1\n",
      "\n",
      " Corner: 2\n",
      " d: 0.15, theta_1: 0.25650257698014334, theta_2: -0.8433025087898509\n",
      " x: 0.4500000000003548, y: -0.07500000000013095, z: 0.1\n",
      " Required x: 0.45, y: -0.075, z: 0.1\n",
      "\n",
      " Corner: 3\n",
      " d: 0.15, theta_1: 23.81970016388106, theta_2: -48.222313916554164\n",
      " x: 0.25000000001455785, y: -0.07499999998206483, z: 0.1\n",
      " Required x: 0.25, y: -0.075, z: 0.1\n",
      "\n",
      " Corner: 4\n",
      " d: 0.15, theta_1: 51.57852352249553, theta_2: -102.57413345585483\n",
      " x: 0.24999999998144698, y: 0.07500000001902604, z: 0.1\n",
      " Required x: 0.25, y: 0.075, z: 0.1\n"
     ]
    }
   ],
   "metadata": {}
  },
  {
   "cell_type": "markdown",
   "source": [
    "1.b"
   ],
   "metadata": {}
  },
  {
   "cell_type": "code",
   "execution_count": 189,
   "source": [
    "A = [eval(j) for j in input(\"Enter the coordinates of pt. A: \").split()]\n",
    "B = [eval(j) for j in input(\"Enter the coordinates of pt. B: \").split()]\n",
    "C = [eval(j) for j in input(\"Enter the coordinates of pt. C: \").split()]\n",
    "D = [eval(j) for j in input(\"Enter the coordinates of pt. D: \").split()]\n",
    "\n",
    "print(\"A:\")\n",
    "print(A)\n",
    "print(\"B:\")\n",
    "print(B)\n",
    "print(\"C\")\n",
    "print(C)\n",
    "print(\"D:\")\n",
    "print(D)\n",
    "\n",
    "a1 = answer1a()\n",
    "a1.makePts(A,B,C,D)\n"
   ],
   "outputs": [
    {
     "output_type": "stream",
     "name": "stdout",
     "text": [
      "A:\n",
      "[0.42, 0.06, 0.1]\n",
      "B:\n",
      "[0.42, -0.06, 0.1]\n",
      "C\n",
      "[0.32, -0.06, 0.1]\n",
      "D:\n",
      "[0.32, 0.06, 0.1]\n"
     ]
    }
   ],
   "metadata": {}
  },
  {
   "cell_type": "code",
   "execution_count": 190,
   "source": [
    "print(\"For Stanford type:\")\n",
    "a1.Stanford_type()"
   ],
   "outputs": [
    {
     "output_type": "stream",
     "name": "stdout",
     "text": [
      "For Stanford type:\n",
      "\n",
      " Corner: 1\n",
      " d: 0.19999999999999996, theta_1: 0.1418970546041639, theta_2: -0.339836909454122\n",
      " x: 0.42, y: 0.06, z: 0.1\n",
      " Required x: 0.42, y: 0.06, z: 0.1\n",
      "\n",
      " Corner: 2\n",
      " d: 0.19999999999999996, theta_1: -0.1418970546041639, theta_2: -0.339836909454122\n",
      " x: 0.42, y: -0.06, z: 0.1\n",
      " Required x: 0.42, y: -0.06, z: 0.1\n",
      "\n",
      " Corner: 3\n",
      " d: 0.10846896657869842, theta_1: -0.18534794999569476, theta_2: -0.4317339371903759\n",
      " x: 0.32, y: -0.06, z: 0.1\n",
      " Required x: 0.32, y: -0.06, z: 0.1\n",
      "\n",
      " Corner: 4\n",
      " d: 0.10846896657869842, theta_1: 0.18534794999569476, theta_2: -0.4317339371903759\n",
      " x: 0.32, y: 0.06, z: 0.1\n",
      " Required x: 0.32, y: 0.06, z: 0.1\n"
     ]
    }
   ],
   "metadata": {}
  },
  {
   "cell_type": "code",
   "execution_count": 191,
   "source": [
    "print(\"For PUMA type:\")\n",
    "a1.PUMA_type()"
   ],
   "outputs": [
    {
     "output_type": "stream",
     "name": "stdout",
     "text": [
      "For PUMA type:\n",
      "\n",
      " Corner: 1\n",
      " theta_1: 0.14189705460416394, theta_2: -0.7908637212503846, theta_3: 0.9020536235925253\n",
      " x: 0.42, y: 0.060000000000000005, z: 0.09999999999999998\n",
      " Required x: 0.42, y: 0.06, z: 0.1\n",
      "\n",
      " Corner: 2\n",
      " theta_1: -0.14189705460416394, theta_2: -0.7908637212503846, theta_3: 0.9020536235925253\n",
      " x: 0.42, y: -0.060000000000000005, z: 0.09999999999999998\n",
      " Required x: 0.42, y: -0.06, z: 0.1\n",
      "\n",
      " Corner: 3\n",
      " theta_1: -0.18534794999569476, theta_2: -1.2031302706088007, theta_3: 1.5427926668368497\n",
      " x: 0.31999999999999995, y: -0.06, z: 0.09999999999999998\n",
      " Required x: 0.32, y: -0.06, z: 0.1\n",
      "\n",
      " Corner: 4\n",
      " theta_1: 0.18534794999569476, theta_2: -1.2031302706088007, theta_3: 1.5427926668368497\n",
      " x: 0.31999999999999995, y: 0.06, z: 0.09999999999999998\n",
      " Required x: 0.32, y: 0.06, z: 0.1\n"
     ]
    }
   ],
   "metadata": {}
  },
  {
   "cell_type": "code",
   "execution_count": 192,
   "source": [
    "print(\"For SCARA type:\")\n",
    "a1.SCARA_type()"
   ],
   "outputs": [
    {
     "output_type": "stream",
     "name": "stdout",
     "text": [
      "For SCARA type:\n",
      "\n",
      " Corner: 1\n",
      " d: 0.15, theta_1: 0.6994958813036846, theta_2: -1.1151976533990582\n",
      " x: 0.4200000000000025, y: 0.059999999999996736, z: 0.1\n",
      " Required x: 0.42, y: 0.06, z: 0.1\n",
      "\n",
      " Corner: 2\n",
      " d: 0.15, theta_1: 18.150060040237424, theta_2: -36.58391418968121\n",
      " x: 0.4200000000004209, y: -0.05999999999963879, z: 0.1\n",
      " Required x: 0.42, y: -0.06, z: 0.1\n",
      "\n",
      " Corner: 3\n",
      " d: 0.15, theta_1: 25.80908717750156, theta_2: -51.9888702556333\n",
      " x: 0.3200000000214901, y: -0.06000000010982934, z: 0.1\n",
      " Required x: 0.32, y: -0.06, z: 0.1\n",
      "\n",
      " Corner: 4\n",
      " d: 0.15, theta_1: 32.46296838510793, theta_2: -64.55524087021384\n",
      " x: 0.3199999999990539, y: 0.06000000000158312, z: 0.1\n",
      " Required x: 0.32, y: 0.06, z: 0.1\n"
     ]
    }
   ],
   "metadata": {}
  },
  {
   "cell_type": "markdown",
   "source": [
    "1.c"
   ],
   "metadata": {}
  },
  {
   "cell_type": "code",
   "execution_count": 200,
   "source": [
    "A = [0.4, 0.06, 0.1]\n",
    "B = [0.4, 0.01, 0.1]\n",
    "C = [0.35, 0.01, 0.1]\n",
    "D = [0.35, 0.06, 0.1]\n",
    "a1 = answer1a()\n",
    "a1.makePts(A,B,C,D)\n",
    "print(\"For Stanford type:\")\n",
    "a1.Stanford_type()"
   ],
   "outputs": [
    {
     "output_type": "stream",
     "name": "stdout",
     "text": [
      "For Stanford type:\n",
      "\n",
      " Corner: 1\n",
      " d: 0.18139309220245986, theta_1: 0.14888994760949725, theta_2: -0.3551283547555233\n",
      " x: 0.4, y: 0.06000000000000001, z: 0.1\n",
      " Required x: 0.4, y: 0.06, z: 0.1\n",
      "\n",
      " Corner: 2\n",
      " d: 0.17731721238442993, theta_1: 0.024994793618920156, theta_2: -0.3586679747243447\n",
      " x: 0.4, y: 0.009999999999999998, z: 0.10000000000000003\n",
      " Required x: 0.4, y: 0.01, z: 0.1\n",
      "\n",
      " Corner: 3\n",
      " d: 0.13091993909481814, theta_1: 0.028563657838759998, theta_2: -0.4047440841038663\n",
      " x: 0.3499999999999999, y: 0.01, z: 0.10000000000000003\n",
      " Required x: 0.35, y: 0.01, z: 0.1\n",
      "\n",
      " Corner: 4\n",
      " d: 0.13548670534792762, theta_1: 0.16977827396833844, theta_2: -0.3996744581806758\n",
      " x: 0.35, y: 0.06, z: 0.1\n",
      " Required x: 0.35, y: 0.06, z: 0.1\n"
     ]
    }
   ],
   "metadata": {}
  },
  {
   "cell_type": "code",
   "execution_count": 201,
   "source": [
    "print(\"For PUMA type\")\n",
    "a1.PUMA_type()"
   ],
   "outputs": [
    {
     "output_type": "stream",
     "name": "stdout",
     "text": [
      "For PUMA type\n",
      "\n",
      " Corner: 1\n",
      " theta_1: 0.14888994760949723, theta_2: -0.8851696682987095, theta_3: 1.0600826270863724\n",
      " x: 0.39999999999999997, y: 0.05999999999999999, z: 0.10000000000000003\n",
      " Required x: 0.4, y: 0.06, z: 0.1\n",
      "\n",
      " Corner: 2\n",
      " theta_1: 0.02499479361892016, theta_2: -0.9046179420290408, theta_3: 1.0918999346093923\n",
      " x: 0.4000000000000001, y: 0.010000000000000002, z: 0.10000000000000003\n",
      " Required x: 0.4, y: 0.01, z: 0.1\n",
      "\n",
      " Corner: 3\n",
      " theta_1: 0.028563657838759998, theta_2: -1.1093916739127891, theta_3: 1.4092951796178457\n",
      " x: 0.35, y: 0.01, z: 0.10000000000000003\n",
      " Required x: 0.35, y: 0.01, z: 0.1\n",
      "\n",
      " Corner: 4\n",
      " theta_1: 0.16977827396833844, theta_2: -1.0901026085347887, theta_3: 1.3808563007082255\n",
      " x: 0.35, y: 0.05999999999999999, z: 0.09999999999999998\n",
      " Required x: 0.35, y: 0.06, z: 0.1\n"
     ]
    }
   ],
   "metadata": {}
  },
  {
   "cell_type": "code",
   "execution_count": 202,
   "source": [
    "print(\"For SCARA type\")\n",
    "a1.SCARA_type()"
   ],
   "outputs": [
    {
     "output_type": "stream",
     "name": "stdout",
     "text": [
      "For SCARA type\n",
      "\n",
      " Corner: 1\n",
      " d: 0.15, theta_1: 0.7773225547941858, theta_2: -1.2568652143693786\n",
      " x: 0.40000000000000024, y: 0.05999999999999972, z: 0.1\n",
      " Required x: 0.4, y: 0.06, z: 0.1\n",
      "\n",
      " Corner: 2\n",
      " d: 0.15, theta_1: 0.6680791850484026, theta_2: -1.2861687828589634\n",
      " x: 0.3999999999999997, y: 0.010000000000000286, z: 0.1\n",
      " Required x: 0.4, y: 0.01, z: 0.1\n",
      "\n",
      " Corner: 3\n",
      " d: 0.15, theta_1: 0.8235624111580776, theta_2: -1.5899975066386323\n",
      " x: 0.3499999999999994, y: 0.01000000000000048, z: 0.1\n",
      " Required x: 0.35, y: 0.01, z: 0.1\n",
      "\n",
      " Corner: 4\n",
      " d: 0.15, theta_1: 0.9507763805742564, theta_2: -1.5619962132121068\n",
      " x: 0.3500000000000367, y: 0.059999999999957504, z: 0.1\n",
      " Required x: 0.35, y: 0.06, z: 0.1\n"
     ]
    }
   ],
   "metadata": {}
  },
  {
   "cell_type": "markdown",
   "source": [
    "Level 2 - No Quiz 2:"
   ],
   "metadata": {}
  },
  {
   "cell_type": "markdown",
   "source": [
    "1.e"
   ],
   "metadata": {}
  },
  {
   "cell_type": "code",
   "execution_count": 18,
   "source": [
    "# This code was written for Assignment 4\n",
    "class EulerAngles:\n",
    "\n",
    "    def __init__(self) -> None:\n",
    "        self.U = []\n",
    "        self.theta = 0\n",
    "        self.phi = 0\n",
    "        self.psi = 0\n",
    "        pass\n",
    "\n",
    "    def takeInputs(self):\n",
    "        U = np.zeros((3,3))\n",
    "        for i in range(3):\n",
    "            U[i,:] = [eval(j) for j in input(\"Enter row\" + str(i+1) + \" of U as c1 c2 c3: \").split()]\n",
    "        self.U = U\n",
    "        self.inverseKinematics()\n",
    "        pass\n",
    "\n",
    "    def inverseKinematics(self):\n",
    "        theta = 0\n",
    "        phi = 0\n",
    "        psi = 0\n",
    "\n",
    "        if self.U[0][2]!=0 or self.U[1][2]!=0 :\n",
    "            m = int(input(\"Enter 1 for sin(theta) > 0 or 0 for sin(theta) <0 :\"))\n",
    "            if m == 1:\n",
    "                theta = math.atan((math.sqrt(1 - self.U[2][2]*self.U[2][2]))/(self.U[2][2]))\n",
    "                phi = math.atan((self.U[1][2])/(self.U[0][2]))\n",
    "                psi = math.atan((self.U[2][1])/(-self.U[2][0]))\n",
    "            elif m == 0:\n",
    "                theta = math.atan((-math.sqrt(1 - self.U[2][2]*self.U[2][2]))/(self.U[2][2]))\n",
    "                phi = math.atan((-self.U[1][2])/(-self.U[0][2]))\n",
    "                psi = math.atan((-self.U[2][1])/(self.U[2][0]))\n",
    "            else:\n",
    "                print(\"Enter only 0s and 1s for the value of sin(theta)\")\n",
    "\n",
    "        else:\n",
    "            if self.U[2][2] == 1:\n",
    "                theta = 0\n",
    "                temp = math.atan((self.U[1][0])/(self.U[0][0]))\n",
    "                # By convention the value of phi is given as below\n",
    "                phi = 0\n",
    "                psi = temp - phi\n",
    "            elif self.U[2][2] == -1:\n",
    "                theta = math.pi\n",
    "                temp = math.atan((-self.U[0][1])/(-self.U[0][0]))\n",
    "                # By convention the value of phi is given as below\n",
    "                phi = 0\n",
    "                psi = phi - temp\n",
    "            else:\n",
    "                print(\"Enter valid input matrix\")\n",
    "    \n",
    "        self.theta = theta\n",
    "        self.phi = phi\n",
    "        self.psi = psi\n",
    "        pass\n",
    "\n",
    "    def callback(self):\n",
    "        self.takeInputs()\n",
    "        return [self.theta, self.phi, self.psi]"
   ],
   "outputs": [],
   "metadata": {}
  },
  {
   "cell_type": "code",
   "execution_count": 19,
   "source": [
    "class answer1e(answer1a,EulerAngles):\n",
    "    \n",
    "    def __init__(self) -> None:\n",
    "        super().__init__()\n",
    "        self.R = [[1,0,0],\n",
    "                  [0,-1,0],\n",
    "                  [0,0,-1]]\n",
    "        self.check = False\n",
    "        self.d6 = 0.05\n",
    "        pass\n",
    "\n",
    "    def calcEulerAngles(self,R03T):\n",
    "        R03T = np.array(R03T)\n",
    "        U = R03T@self.R\n",
    "        self.U = U\n",
    "        self.inverseKinematics()\n",
    "        psi = self.psi\n",
    "        theta = self.theta\n",
    "        phi = self.phi\n",
    "        print(str(theta)+\", \"+str(phi)+\", \"+str(psi))\n",
    "        pass\n",
    "\n",
    "    def Stanford_withWrist(self):\n",
    "        for i in range(len(self.pts)):\n",
    "            self.pts[i][2] = self.pts[i][2] + self.d6\n",
    "        t1, t2 = self.Stanford_type()\n",
    "        print(\"The Euler angles in the form theta,phi,psi: \")\n",
    "        for i in range(len(t1)):\n",
    "            theta1 = t1[i]\n",
    "            theta2 = t2[i]\n",
    "            R03T = [ [math.sin(theta1)                  ,   -math.cos(theta1)                 , 0               ],\n",
    "                    [-math.cos(theta1)*math.sin(theta2),   -math.sin(theta1)*math.sin(theta2), math.cos(theta2)],\n",
    "                    [math.cos(theta1)*math.cos(theta2) ,   math.sin(theta1)*math.cos(theta2) , math.sin(theta2)]]\n",
    "            self.calcEulerAngles(R03T)\n",
    "        pass\n",
    "\n",
    "    def PUMA_withWrist(self):\n",
    "        for i in range(len(self.pts)):\n",
    "            self.pts[i][2] = self.pts[i][2] + self.d6\n",
    "        t1, t2, t3 = self.PUMA_type()\n",
    "        print(\"The Euler angles in the form theta,phi,psi: \")\n",
    "        for i in range(len(t1)):\n",
    "            theta1 = t1[i]\n",
    "            theta2 = t2[i]\n",
    "            theta3 = t3[i]\n",
    "            R03T = [ [math.cos(theta1)*math.cos(theta2+theta3)  ,   math.sin(theta1)*math.cos(theta2+theta3)   ,   -math.sin(theta2+theta3)],\n",
    "                    [-math.cos(theta1)*math.sin(theta2+theta3) ,   -math.sin(theta1)*math.sin(theta2+theta3)  ,   -math.cos(theta2+theta3)],\n",
    "                    [-math.sin(theta1)                         ,   math.cos(theta1)                           ,   0                       ]]\n",
    "            self.calcEulerAngles(R03T)\n",
    "        pass\n",
    "\n",
    "    def SCARA_withWrist(self):\n",
    "        for i in range(len(self.pts)):\n",
    "            self.pts[i][2] = self.pts[i][2] + self.d6\n",
    "        t1, t2 = self.SCARA_type()\n",
    "        print(\"The Euler angles in the form theta,phi,psi: \")\n",
    "        for i in range(len(t1)):\n",
    "            theta1 = t1[i]\n",
    "            theta2 = t2[i]\n",
    "            R03T = [ [math.cos(theta1+theta2)   ,   math.sin(theta1+theta2)    ,    0],\n",
    "                    [math.sin(theta1+theta2)   ,   -math.cos(theta1+theta2)   ,    0],\n",
    "                    [0                         ,   0                          ,    -1]]\n",
    "            self.calcEulerAngles(R03T)\n",
    "        pass"
   ],
   "outputs": [],
   "metadata": {}
  },
  {
   "cell_type": "code",
   "execution_count": 20,
   "source": [
    "A = [0.45, 0.075, 0.1]\n",
    "B = [0.45, -0.075, 0.1]\n",
    "C = [0.25, -0.075, 0.1]\n",
    "D = [0.25, 0.075, 0.1]\n",
    "e1 = answer1e()\n",
    "e1.makePts(A,B,C,D)\n",
    "print(\"For Stanford type:\")\n",
    "e1.Stanford_withWrist()\n",
    "print(\"For PUMA type:\")\n",
    "e1.PUMA_withWrist()\n",
    "print(\"For SCARA type:\")\n",
    "e1.SCARA_withWrist()"
   ],
   "outputs": [
    {
     "output_type": "stream",
     "name": "stdout",
     "text": [
      "For Stanford type:\n",
      "The Euler angles in the form theta,phi,psi: \n"
     ]
    },
    {
     "output_type": "stream",
     "name": "stderr",
     "text": [
      "/tmp/ipykernel_59293/3542737568.py:28: RuntimeWarning: divide by zero encountered in double_scalars\n",
      "  phi = math.atan((self.U[1][2])/(self.U[0][2]))\n"
     ]
    },
    {
     "output_type": "stream",
     "name": "stdout",
     "text": [
      "1.3550105056796105, -1.5707963267948966, 0.16514867741462683\n",
      "1.3550105056796105, -1.5707963267948966, -0.16514867741462683\n",
      "1.2049166573440797, -1.5707963267948966, -0.2914567944778671\n",
      "1.2049166573440797, -1.5707963267948966, 0.2914567944778671\n",
      "For PUMA type:\n",
      "The Euler angles in the form theta,phi,psi: \n"
     ]
    },
    {
     "output_type": "stream",
     "name": "stderr",
     "text": [
      "/tmp/ipykernel_59293/3542737568.py:27: RuntimeWarning: divide by zero encountered in double_scalars\n",
      "  theta = math.atan((math.sqrt(1 - self.U[2][2]*self.U[2][2]))/(self.U[2][2]))\n"
     ]
    },
    {
     "output_type": "stream",
     "name": "stdout",
     "text": [
      "1.5707963267948966, 1.271863637453656, -1.4056476493802699\n",
      "1.5707963267948966, 1.271863637453656, 1.4056476493802699\n",
      "1.5707963267948966, 0.7496512569198857, 1.2793395323170296\n",
      "1.5707963267948966, 0.7496512569198857, -1.2793395323170296\n",
      "For SCARA type:\n",
      "The Euler angles in the form theta,phi,psi: \n",
      "0, 0, -0.2565025769821119\n",
      "0, 0, -0.5867999318114194\n",
      "0, 0, -1.3130410649365376\n",
      "0, 0, 1.3130410649388395\n"
     ]
    }
   ],
   "metadata": {}
  },
  {
   "cell_type": "markdown",
   "source": [
    "1.f"
   ],
   "metadata": {}
  },
  {
   "cell_type": "code",
   "execution_count": 21,
   "source": [
    "A = [0.4, 0.06, 0.1]\n",
    "B = [0.4, 0.01, 0.1]\n",
    "C = [0.35, 0.01, 0.1]\n",
    "D = [0.35, 0.06, 0.1]\n",
    "e1 = answer1e()\n",
    "e1.makePts(A,B,C,D)\n",
    "print(\"For Stanford type:\")\n",
    "e1.Stanford_withWrist()\n",
    "print(\"For PUMA type:\")\n",
    "e1.PUMA_withWrist()\n",
    "print(\"For SCARA type:\")\n",
    "e1.SCARA_withWrist()"
   ],
   "outputs": [
    {
     "output_type": "stream",
     "name": "stdout",
     "text": [
      "For Stanford type:\n",
      "The Euler angles in the form theta,phi,psi: \n"
     ]
    },
    {
     "output_type": "stream",
     "name": "stderr",
     "text": [
      "/tmp/ipykernel_59293/3542737568.py:28: RuntimeWarning: divide by zero encountered in double_scalars\n",
      "  phi = math.atan((self.U[1][2])/(self.U[0][2]))\n"
     ]
    },
    {
     "output_type": "stream",
     "name": "stdout",
     "text": [
      "1.3284225641462601, -1.5707963267948966, 0.14888994760949728\n",
      "1.325891159981097, -1.5707963267948966, 0.024994793618920156\n",
      "1.2926044218529087, -1.5707963267948966, 0.028563657838759998\n",
      "1.2962986700464327, -1.5707963267948966, 0.16977827396833842\n",
      "For PUMA type:\n",
      "The Euler angles in the form theta,phi,psi: \n"
     ]
    },
    {
     "output_type": "stream",
     "name": "stderr",
     "text": [
      "/tmp/ipykernel_59293/3542737568.py:27: RuntimeWarning: divide by zero encountered in double_scalars\n",
      "  theta = math.atan((math.sqrt(1 - self.U[2][2]*self.U[2][2]))/(self.U[2][2]))\n"
     ]
    },
    {
     "output_type": "stream",
     "name": "stdout",
     "text": [
      "1.5707963267948966, 1.0759075698425176, -1.4219063791853994\n",
      "1.5707963267948966, 1.0624804105407897, -1.5458015331759765\n",
      "1.5707963267948966, 0.9276381096829328, -1.5422326689561365\n",
      "1.5707963267948966, 0.9396837488144741, -1.4010180528265581\n",
      "For SCARA type:\n",
      "The Euler angles in the form theta,phi,psi: \n",
      "0, 0, -0.47954265957521014\n",
      "0, 0, -0.6180895978105088\n",
      "0, 0, -0.7664350954805543\n",
      "0, 0, -0.6112198326378206\n"
     ]
    }
   ],
   "metadata": {}
  },
  {
   "cell_type": "markdown",
   "source": [
    "Level 3: "
   ],
   "metadata": {}
  },
  {
   "cell_type": "markdown",
   "source": [
    "3.b"
   ],
   "metadata": {}
  },
  {
   "cell_type": "code",
   "execution_count": 5,
   "source": [
    "import xlrd\n",
    "import matplotlib.pyplot as plt\n",
    "\n",
    "loc = (\"Gait_DATA.xls\")\n",
    "wb = xlrd.open_workbook(loc)\n",
    "sheet = wb.sheet_by_index(0)\n",
    "\n",
    "rows = sheet.nrows\n",
    "x=[]\n",
    "y=[]\n",
    "for i in range(rows):\n",
    "    if i!=0:\n",
    "        x.append(sheet.cell_value(i,0))\n",
    "        y.append(sheet.cell_value(i,1))\n",
    "\n",
    "plt.plot(x,y)\n",
    "plt.show()"
   ],
   "outputs": [
    {
     "output_type": "display_data",
     "data": {
      "image/png": "[encoded data removed]",
      "text/plain": [
       "<Figure size 432x288 with 1 Axes>"
      ]
     },
     "metadata": {
      "needs_background": "light"
     }
    }
   ],
   "metadata": {}
  }
 ],
 "metadata": {
  "orig_nbformat": 4,
  "language_info": {
   "name": "python",
   "version": "3.8.10",
   "mimetype": "text/x-python",
   "codemirror_mode": {
    "name": "ipython",
    "version": 3
   },
   "pygments_lexer": "ipython3",
   "nbconvert_exporter": "python",
   "file_extension": ".py"
  },
  "kernelspec": {
   "name": "python3",
   "display_name": "Python 3.8.10 64-bit"
  },
  "interpreter": {
   "hash": "916dbcbb3f70747c44a77c7bcd40155683ae19c65e1c03b4aa3499c5328201f1"
  }
 },
 "nbformat": 4,
 "nbformat_minor": 2
}