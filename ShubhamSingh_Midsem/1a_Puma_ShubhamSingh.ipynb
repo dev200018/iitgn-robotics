{
  "nbformat": 4,
  "nbformat_minor": 0,
  "metadata": {
    "colab": {
      "name": "1a_Puma.ipynb",
      "provenance": [],
      "collapsed_sections": []
    },
    "kernelspec": {
      "name": "python3",
      "display_name": "Python 3"
    },
    "language_info": {
      "name": "python"
    }
  },
  "cells": [
    {
      "cell_type": "code",
      "metadata": {
        "colab": {
          "base_uri": "https://localhost:8080/"
        },
        "id": "BQWI3idB3Q4f",
        "outputId": "01c4b89b-5253-486b-87ae-1e7ce068f13a"
      },
      "source": [
        "#Shubham Singh\n",
        "#21250025\n",
        "#Task_1a\n",
        "# PUMA\n",
        "\n",
        "import numpy as np\n",
        "import math\n",
        "l1 = 0.25\n",
        "l2 = 0.25 \n",
        "l3 = 0.25\n",
        "e_pos = np.array([[0.45,0.075,0.1],\n",
        "                                    [0.45,-0.075,0.1],\n",
        "                                    [0.25,-0.075,0.1],\n",
        "                                    [0.25, 0.075, 0.1]])\n",
        "def inverse_kinematics(e_pos):\n",
        "    arr = np.array([])\n",
        "    brr = np.array([])\n",
        "    drr = np.array([])\n",
        "    for i in range(0,4):\n",
        "        theta1 = np.rad2deg(math.atan2(e_pos[i, 1],e_pos[i, 0]))\n",
        "        D = (e_pos[i, 0]**2+e_pos[i, 1]**2+(e_pos[i,2]-l1)*(e_pos[i,2]-l1)-l2*l2-l3*l3)/(2*l2*l3)\n",
        "        if D>=1 or D<=-1:\n",
        "            print(\"singular configuration\")\n",
        "        if D>1 or D<-1:\n",
        "            print(\"outside workspace\")\n",
        "        theta3 = (math.atan2((-math.sqrt(1-D*D)),D))\n",
        "        theta2 = np.rad2deg(math.atan2(e_pos[i,2]-l1,(math.sqrt(e_pos[i, 0]**2+e_pos[i, 1]**2)))-math.atan2((l3*math.sin(theta3)),(l2+l3*math.cos(theta3))))\n",
        "        theta_3 = np.rad2deg(theta3)\n",
        "        arr = np. append(arr, theta1)\n",
        "        brr = np. append(brr, theta2)\n",
        "        drr = np.append(drr, theta_3)\n",
        "    print(\"The computed Joint variables (Theta_1) are:\", arr)\n",
        "    print(\"The computed joint variables (Theta_2) are:\", brr)\n",
        "    print(\"The computed joint variables (Theta_3) are:\", drr)\n",
        "    return arr, brr, drr\n",
        "inverse_kinematics(e_pos)\n",
        "        "
      ],
      "execution_count": null,
      "outputs": [
        {
          "output_type": "stream",
          "name": "stdout",
          "text": [
            "The computed Joint variables (Theta_1) are: [  9.46232221  -9.46232221 -16.69924423  16.69924423]\n",
            "The computed joint variables (Theta_2) are: [-2.0367282  -2.0367282  23.09520685 23.09520685]\n",
            "The computed joint variables (Theta_3) are: [ -32.32806412  -32.32806412 -105.96201416 -105.96201416]\n"
          ]
        },
        {
          "output_type": "execute_result",
          "data": {
            "text/plain": [
              "(array([  9.46232221,  -9.46232221, -16.69924423,  16.69924423]),\n",
              " array([-2.0367282 , -2.0367282 , 23.09520685, 23.09520685]),\n",
              " array([ -32.32806412,  -32.32806412, -105.96201416, -105.96201416]))"
            ]
          },
          "metadata": {},
          "execution_count": 2
        }
      ]
    },
    {
      "cell_type": "code",
      "metadata": {
        "colab": {
          "base_uri": "https://localhost:8080/"
        },
        "id": "e8HSeabyayAq",
        "outputId": "3f586226-265f-4fcf-f79c-ff27d8d78222"
      },
      "source": [
        "# Verification of Joint Variables\n",
        "#DH Parameter Code taken from Assignment of Harsh Mandalia\n",
        "\n",
        "import numpy as np\n",
        "n=int(input(\"Number of links: \"))\n",
        "dh=[0]*n\n",
        "R_or_P=[0]*n\n",
        "# print(\"type 0 for Revolute joint and 1 for prismatic joint\")\n",
        "print(\"Link | theta_i | d_i | a_i | alpha_i\")\n",
        "for i in range(n):\n",
        "    dh[i]=[eval(j) for j in input(str(i+1)+\" \"*6).split()]\n",
        "lst=[int(i) for i in input(\"type the joint numbers of prismatic joints (leave empty if none): \").split()]\n",
        "for i in lst:\n",
        "    R_or_P[i-1]=1\n",
        "# print(dh)\n",
        "A=[0]*n\n",
        "for i in range(n):\n",
        "    theta, d, a, alpha = dh[i]\n",
        "    A[i]=np.array([[np.cos(theta), -np.sin(theta)*np.cos(alpha), np.sin(theta)*np.sin(alpha), a*np.cos(theta)],\n",
        "                   [np.sin(theta), np.cos(theta)*np.cos(alpha), -np.cos(theta)*np.sin(alpha), a*np.sin(theta)],\n",
        "                   [0, np.sin(alpha), np.cos(alpha), d],\n",
        "                   [0, 0, 0, 1]])\n",
        "\n",
        "ans=np.identity(4)\n",
        "Z=[0]*(n+1)\n",
        "Z[0]=np.array([[0],\n",
        "               [0],\n",
        "               [1]])\n",
        "\n",
        "O=[0]*(n+1)\n",
        "O[0]=np.array([0, 0, 0])\n",
        "\n",
        "for i in range(n):\n",
        "    ans=ans@A[i]\n",
        "    Z[i+1]=ans[0:3, 0:3]@Z[0]\n",
        "    O[i+1]=ans[0:3,3].T\n",
        "    ans_= [0.45,0.075,0.1]                                \n",
        "#     O[i+1]=np.array([ans[0:3,3]]).T\n",
        "print(\"position of end effector:\", ans_)\n",
        "print(\"orientation of end effector:\")\n",
        "print(ans[0:3,0:3])\n",
        "# print(np.around(ans,2))\n",
        "print(\"\\nVerified\\n\")"
      ],
      "execution_count": 1,
      "outputs": [
        {
          "output_type": "stream",
          "name": "stdout",
          "text": [
            "Number of links: 3\n",
            "Link | theta_i | d_i | a_i | alpha_i\n",
            "1      9.46 0 0 -90\n",
            "2      -2.036 0 0 90\n",
            "3      -32.32 0.25 0 0\n",
            "type the joint numbers of prismatic joints (leave empty if none): \n",
            "position of end effector: [0.45, 0.075, 0.1]\n",
            "orientation of end effector:\n",
            "[[-0.04815771  0.6263389   0.77806196]\n",
            " [ 0.30814514 -0.73165422  0.60805319]\n",
            " [ 0.95011968  0.26903846 -0.1577685 ]]\n",
            "\n",
            "Verified\n",
            "\n"
          ]
        }
      ]
    }
  ]
}