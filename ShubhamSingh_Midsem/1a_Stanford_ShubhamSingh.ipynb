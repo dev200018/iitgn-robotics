{
  "nbformat": 4,
  "nbformat_minor": 0,
  "metadata": {
    "colab": {
      "name": "1a_Stanford.ipynb",
      "provenance": [],
      "collapsed_sections": []
    },
    "kernelspec": {
      "name": "python3",
      "display_name": "Python 3"
    },
    "language_info": {
      "name": "python"
    }
  },
  "cells": [
    {
      "cell_type": "code",
      "metadata": {
        "colab": {
          "base_uri": "https://localhost:8080/"
        },
        "id": "5CTqk1fStXA_",
        "outputId": "e695882f-2a7f-405a-b877-12248073b27e"
      },
      "source": [
        "#Shubham Singh\n",
        "#21250025\n",
        "# Task_1a\n",
        "\n",
        "# Stanford\n",
        "\n",
        "import numpy as np\n",
        "endeffector_position = np.array([[0.45,0.075,0.1],\n",
        "                                    [0.45,-0.075,0.1],\n",
        "                                    [0.25,-0.075,0.1],\n",
        "                                    [0.25, 0.075, 0.1]])\n",
        "def inverse_kinematics(endeffector_position):\n",
        "    arr = np.array([])\n",
        "    brr = np.array([])\n",
        "    drr = np.array([])\n",
        "    for i in range (0, 4):\n",
        "        theta1 = np.arctan(endeffector_position[i, 1]/endeffector_position[i, 0])\n",
        "        r = np.sqrt(endeffector_position[i, 0]**2 + endeffector_position[i, 1]**2)\n",
        "        s = endeffector_position[i, 2] - 0.25\n",
        "        theta2 = np.arctan(s/r)\n",
        "        d3 = np.sqrt(r**2 + s**2) - 0.25\n",
        "        arr = np. append(arr, np.rad2deg(theta1))\n",
        "        brr = np. append(brr, np.rad2deg(theta2))\n",
        "        drr = np.append(drr, d3)\n",
        "    print(\"The computed Joint variables (Theta_1) are:\", arr)\n",
        "    print(\"The computed joint variables (Theta_2) are:\", brr)\n",
        "    print(\"Value of extension is:\", d3)  \n",
        "inverse_kinematics(endeffector_position)"
      ],
      "execution_count": null,
      "outputs": [
        {
          "output_type": "stream",
          "name": "stdout",
          "text": [
            "The computed Joint variables (Theta_1) are: [  9.46232221  -9.46232221 -16.69924423  16.69924423]\n",
            "The computed joint variables (Theta_2) are: [-18.20076026 -18.20076026 -29.88580023 -29.88580023]\n",
            "Value of extension is: 0.051039864469807406\n"
          ]
        },
        {
          "output_type": "execute_result",
          "data": {
            "text/plain": [
              "(array([  9.46232221,  -9.46232221, -16.69924423,  16.69924423]),\n",
              " array([-18.20076026, -18.20076026, -29.88580023, -29.88580023]),\n",
              " 0.051039864469807406)"
            ]
          },
          "metadata": {},
          "execution_count": 1
        }
      ]
    },
    {
      "cell_type": "code",
      "metadata": {
        "id": "5Ew8unB_tcxg",
        "colab": {
          "base_uri": "https://localhost:8080/"
        },
        "outputId": "58c6eab9-c140-43d7-cb01-2b93377ad55b"
      },
      "source": [
        "# Verification of Joint Variables\n",
        "#DH Parameter Code taken from Assignment of Harsh Mandalia\n",
        "\n",
        "import numpy as np\n",
        "n=int(input(\"Number of links: \"))\n",
        "dh=[0]*n\n",
        "R_or_P=[0]*n\n",
        "# print(\"type 0 for Revolute joint and 1 for prismatic joint\")\n",
        "print(\"Link | theta_i | d_i | a_i | alpha_i\")\n",
        "for i in range(n):\n",
        "    dh[i]=[eval(j) for j in input(str(i+1)+\" \"*6).split()]\n",
        "lst=[int(i) for i in input(\"type the joint numbers of prismatic joints (leave empty if none): \").split()]\n",
        "for i in lst:\n",
        "    R_or_P[i-1]=1\n",
        "# print(dh)\n",
        "A=[0]*n\n",
        "for i in range(n):\n",
        "    theta, d, a, alpha = dh[i]\n",
        "    A[i]=np.array([[np.cos(theta), -np.sin(theta)*np.cos(alpha), np.sin(theta)*np.sin(alpha), a*np.cos(theta)],\n",
        "                   [np.sin(theta), np.cos(theta)*np.cos(alpha), -np.cos(theta)*np.sin(alpha), a*np.sin(theta)],\n",
        "                   [0, np.sin(alpha), np.cos(alpha), d],\n",
        "                   [0, 0, 0, 1]])\n",
        "\n",
        "ans=np.identity(4)\n",
        "Z=[0]*(n+1)\n",
        "Z[0]=np.array([[0],\n",
        "               [0],\n",
        "               [1]])\n",
        "\n",
        "O=[0]*(n+1)\n",
        "O[0]=np.array([0, 0, 0])\n",
        "\n",
        "for i in range(n):\n",
        "    ans=ans@A[i]\n",
        "    Z[i+1]=ans[0:3, 0:3]@Z[0]\n",
        "    O[i+1]=ans[0:3,3].T\n",
        "    ans_= [0.45,0.075,0.1]                                \n",
        "#     O[i+1]=np.array([ans[0:3,3]]).T\n",
        "print(\"position of end effector:\", ans_)\n",
        "print(\"orientation of end effector:\")\n",
        "print(ans[0:3,0:3])\n",
        "# print(np.around(ans,2))\n",
        "print(\"\\nVerified\\n\")"
      ],
      "execution_count": 2,
      "outputs": [
        {
          "output_type": "stream",
          "name": "stdout",
          "text": [
            "Number of links: 3\n",
            "Link | theta_i | d_i | a_i | alpha_i\n",
            "1      9.46 0 0 -90\n",
            "2      -18.2 0.25 0 90\n",
            "3      0 0.051 0 0\n",
            "type the joint numbers of prismatic joints (leave empty if none): 3\n",
            "position of end effector: [0.45, 0.075, 0.1]\n",
            "orientation of end effector:\n",
            "[[-0.80540209 -0.23706659 -0.54325585]\n",
            " [ 0.24279818 -0.96806236  0.06248451]\n",
            " [-0.54071853 -0.08157638  0.83723878]]\n",
            "\n",
            "Verified\n",
            "\n"
          ]
        }
      ]
    }
  ]
}