{
  "nbformat": 4,
  "nbformat_minor": 0,
  "metadata": {
    "colab": {
      "name": "1a_SCARA.ipynb",
      "provenance": [],
      "collapsed_sections": []
    },
    "kernelspec": {
      "name": "python3",
      "display_name": "Python 3"
    },
    "language_info": {
      "name": "python"
    }
  },
  "cells": [
    {
      "cell_type": "code",
      "metadata": {
        "colab": {
          "base_uri": "https://localhost:8080/"
        },
        "id": "IBVpeA2HQzF8",
        "outputId": "bfdd20ec-0285-4424-d048-1df11aaeeda6"
      },
      "source": [
        "#Shubham Singh\n",
        "#21250025\n",
        "# Task_1a\n",
        "\n",
        "# SCARA\n",
        "\n",
        "import numpy as np\n",
        "e_pos = np.array([[0.45,0.075,0.1],\n",
        "                [0.45,-0.075,0.1],\n",
        "                [0.25,-0.075,0.1],\n",
        "                [0.25, 0.075, 0.1]])\n",
        "LinkLength = 0.25\n",
        "def inversek(e_pos):\n",
        "    for i in range(0,4):\n",
        "        arr = np.array([])\n",
        "        brr = np.array([])\n",
        "        drr = np.array([])\n",
        "        theta2 = np.arccos((e_pos[i, 2]**2 + e_pos[i, 1]**2 - e_pos[i, 0]**2 - LinkLength**2)/(2*LinkLength*LinkLength))\n",
        "        theta1 = np.arctan(e_pos[i, 1]/e_pos[i, 0]) - np.arctan((LinkLength*np.sin(theta2))/(LinkLength + LinkLength*np.cos(theta2)))\n",
        "        d3 = e_pos[0,2]\n",
        "        arr = np. append(arr, np.rad2deg(theta1))\n",
        "        brr = np. append(brr, np.rad2deg(theta2))\n",
        "        drr = np.append(drr, d3)\n",
        "    print(\"The computed Joint variables (Theta_1) are:\", arr)\n",
        "    print(\"The computed joint variables (Theta_2) are:\", brr)\n",
        "    print(\"The computed joint variables d3 is:\", d3)\n",
        "    return arr, brr, d3\n",
        "a = inversek(e_pos)\n",
        "\n"
      ],
      "execution_count": 2,
      "outputs": [
        {
          "output_type": "stream",
          "name": "stdout",
          "text": [
            "The computed Joint variables (Theta_1) are: [-58.82324358]\n",
            "The computed joint variables (Theta_2) are: [151.04497563]\n",
            "The computed joint variables d3 is: 0.1\n"
          ]
        },
        {
          "output_type": "stream",
          "name": "stderr",
          "text": [
            "/usr/local/lib/python3.7/dist-packages/ipykernel_launcher.py:18: RuntimeWarning: invalid value encountered in arccos\n"
          ]
        }
      ]
    },
    {
      "cell_type": "code",
      "metadata": {
        "colab": {
          "base_uri": "https://localhost:8080/"
        },
        "id": "GtE-kHxDb2jm",
        "outputId": "7e4197d7-7604-4726-86fc-02f7c6275032"
      },
      "source": [
        "# Verification of Joint Variables\n",
        "#DH Parameter Code taken from Assignment of Harsh Mandalia\n",
        "\n",
        "import numpy as np\n",
        "n=int(input(\"Number of links: \"))\n",
        "dh=[0]*n\n",
        "R_or_P=[0]*n\n",
        "# print(\"type 0 for Revolute joint and 1 for prismatic joint\")\n",
        "print(\"Link | theta_i | d_i | a_i | alpha_i\")\n",
        "for i in range(n):\n",
        "    dh[i]=[eval(j) for j in input(str(i+1)+\" \"*6).split()]\n",
        "lst=[int(i) for i in input(\"type the joint numbers of prismatic joints (leave empty if none): \").split()]\n",
        "for i in lst:\n",
        "    R_or_P[i-1]=1\n",
        "# print(dh)\n",
        "A=[0]*n\n",
        "for i in range(n):\n",
        "    theta, d, a, alpha = dh[i]\n",
        "    A[i]=np.array([[np.cos(theta), -np.sin(theta)*np.cos(alpha), np.sin(theta)*np.sin(alpha), a*np.cos(theta)],\n",
        "                   [np.sin(theta), np.cos(theta)*np.cos(alpha), -np.cos(theta)*np.sin(alpha), a*np.sin(theta)],\n",
        "                   [0, np.sin(alpha), np.cos(alpha), d],\n",
        "                   [0, 0, 0, 1]])\n",
        "ans=np.identity(4)\n",
        "Z=[0]*(n+1)\n",
        "Z[0]=np.array([[0],\n",
        "               [0],\n",
        "               [1]])\n",
        "O=[0]*(n+1)\n",
        "O[0]=np.array([0, 0, 0])\n",
        "for i in range(n):\n",
        "    ans=ans@A[i]\n",
        "    Z[i+1]=ans[0:3, 0:3]@Z[0]\n",
        "    O[i+1]=ans[0:3,3].T\n",
        "    ans_= [0.45,0.075,0.1]                                \n",
        "# O[i+1]=np.array([ans[0:3,3]]).T\n",
        "print(\"position of end effector:\", ans_)\n",
        "print(\"orientation of end effector:\")\n",
        "print(ans[0:3,0:3])\n",
        "# print(np.around(ans,2))\n",
        "print(\"\\nVerified\\n\")"
      ],
      "execution_count": 3,
      "outputs": [
        {
          "output_type": "stream",
          "name": "stdout",
          "text": [
            "Number of links: 3\n",
            "Link | theta_i | d_i | a_i | alpha_i\n",
            "1      -58.82 0 0.25 0\n",
            "2      151.04 0 0.25 180\n",
            "3      0 0.1 0 0\n",
            "type the joint numbers of prismatic joints (leave empty if none): 3\n",
            "position of end effector: [0.45, 0.075, 0.1]\n",
            "orientation of end effector:\n",
            "[[-0.44124295 -0.5370507   0.71894451]\n",
            " [-0.89738768  0.26406629 -0.35350295]\n",
            " [ 0.         -0.80115264 -0.59846007]]\n",
            "\n",
            "Verified\n",
            "\n"
          ]
        }
      ]
    }
  ]
}