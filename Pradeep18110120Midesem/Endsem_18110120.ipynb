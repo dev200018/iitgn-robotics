{
  "nbformat": 4,
  "nbformat_minor": 0,
  "metadata": {
    "colab": {
      "name": "Endsem_18110120.ipynb",
      "provenance": []
    },
    "kernelspec": {
      "name": "python3",
      "display_name": "Python 3"
    },
    "language_info": {
      "name": "python"
    }
  },
  "cells": [
    {
      "cell_type": "markdown",
      "metadata": {
        "id": "6_hrCOoiCfGB"
      },
      "source": [
        "Forward and inverse kinematics code has been taken from the repository."
      ]
    },
    {
      "cell_type": "code",
      "metadata": {
        "id": "qoju1Nh2ZtyL"
      },
      "source": [
        "import numpy as np\n",
        "import math"
      ],
      "execution_count": 3,
      "outputs": []
    },
    {
      "cell_type": "markdown",
      "metadata": {
        "id": "9r_ThkzoXE2G"
      },
      "source": [
        "Generalized forward kinematics"
      ]
    },
    {
      "cell_type": "code",
      "metadata": {
        "id": "BMsfr1O_XKDu"
      },
      "source": [
        "# Link Parameters:    [a, alpha, d, theta]\n",
        "# For Multiple Links: [[a, alpha, d, theta]\n",
        "#                      [a, alpha, d, theta]\n",
        "#                      [a, alpha, d, theta]]\n",
        "\n",
        "def atransformation(LinkParameters):\n",
        "    a = LinkParameters[0]\n",
        "    d = LinkParameters[2]\n",
        "    alpha = LinkParameters[1]\n",
        "    theta = LinkParameters[3]\n",
        "    alpha=alpha*np.pi/180\n",
        "    theta=theta*np.pi/180\n",
        "    A = np.array([[[np.cos(theta), -np.sin(theta) * np.cos(alpha), np.sin(theta) * np.sin(alpha), a * np.cos(theta)],\n",
        "                   [np.sin(theta), np.cos(theta) * np.cos(alpha), -np.cos(theta) * np.sin(alpha), a * np.sin(theta)],\n",
        "                   [0, np.sin(alpha), np.cos(alpha), d],\n",
        "                   [0, 0, 0, 1]]])\n",
        "    return (A)\n",
        "\n",
        "def forward_kinematics_homogenous_matrix(DH):\n",
        "    A = np.identity(4)\n",
        "    n = np.shape(DH)[0]\n",
        "\n",
        "    for i in range(n):\n",
        "        Anext = atransformation(DH[i])\n",
        "        A = np.matmul(A,Anext)\n",
        "    end_C=np.array([np.around(A[0][0][3],5),np.around(A[0][1][3],5),np.around(A[0][2][3],5)])\n",
        "    return end_C\n",
        "    # print(\"End-effector Coordinates=(\",np.around(A[0][0][3],5),np.around(A[0][1][3],5),np.around(A[0][2][3],5),\")\")"
      ],
      "execution_count": 4,
      "outputs": []
    },
    {
      "cell_type": "markdown",
      "metadata": {
        "id": "V_zmDUmhM7w1"
      },
      "source": [
        "Question 1(a) \n",
        "Cornerpoints- P(0.25,0,0.10), Q(0.25,-0.15,0.10), R(0.45,-0.15,0.10), S(0.45,0,0.10)\n",
        "\n",
        "(Note: put all angles in degree and DH parameters as [a, alpha, d, theta])\n",
        "\n",
        "**1(a) STANFORD RRP**"
      ]
    },
    {
      "cell_type": "code",
      "metadata": {
        "colab": {
          "base_uri": "https://localhost:8080/"
        },
        "id": "xBg-kzp-jQkV",
        "outputId": "8f35893a-feec-4af2-be54-d0d61ee34cbd"
      },
      "source": [
        "def inverse_kinematics_stanford(x1,x2,x3,l1,l2):\n",
        "    endeffector_position=[x1,x2,x3]\n",
        "    lengthsoflinks=[l1,l2]\n",
        "    theta1 = np.arctan(endeffector_position[1]/endeffector_position[0])\n",
        "    r = np.sqrt(endeffector_position[0]**2 + endeffector_position[1]**2)\n",
        "    s = endeffector_position[2] - lengthsoflinks[0]\n",
        "    theta2 = np.arctan(s/r)\n",
        "    d3 = np.sqrt(r**2 + s**2) - lengthsoflinks[1]\n",
        "    theta1=theta1*180/np.pi\n",
        "    theta2=theta2*180/np.pi\n",
        "    angles=[[theta1,theta2,d3],[180+theta1,180-theta2,d3]]\n",
        "    return angles\n",
        "    # print(\"First Solution(Theta1, Theta2, Extension): (\",theta1,\",\",theta2,\",\",d3,\")\")\n",
        "    # print(\"Second Solution(Theta1, Theta2, Extension): (\",180+theta1,\",\",180-theta2,\",\",d3,\")\")\n",
        "\n",
        "print(\"Stanford RRP(Inverse kinematics Solutions):\\n\")\n",
        "print(\"1. For point P:\")\n",
        "L1=inverse_kinematics_stanford(0.25,-0.0,0.1,0.25,0.25)\n",
        "print(\"First Solution(Theta1, Theta2, Extension):\",L1[0])\n",
        "print(\"Second Solution(Theta1, Theta2, Extension):\",L1[1])\n",
        "print(\"\\nVerification of first solution:\")\n",
        "F1=forward_kinematics_homogenous_matrix([[0,90,0.25,0],[0.25,0,0,-30.96375653207352],[0.04154759474226499,0,0,0]])\n",
        "print(\"End-effector Coordinates=\",F1)\n",
        "print(\"\\nVerification of second solution:\")\n",
        "F1n=forward_kinematics_homogenous_matrix([[0,90,0.25,180],[0.25,0,0,210.96375653207352],[0.04154759474226499,0,0,0]])\n",
        "print(\"End-effector Coordinates=\",F1n)\n",
        "\n",
        "print(\"\\n2. For point Q:\")\n",
        "L2=inverse_kinematics_stanford(0.25,-0.15,0.1,0.25,0.25)\n",
        "print(\"First Solution(Theta1, Theta2, Extension):\",L2[0])\n",
        "print(\"Second Solution(Theta1, Theta2, Extension):\",L2[1])\n",
        "print(\"\\nVerification of first solution:\")\n",
        "F2=forward_kinematics_homogenous_matrix([[0,90,0.25,-30.96375653207352],[0.25,0,0,-27.225627998563958],[0.07787192621510003,0,0,0]])\n",
        "print(\"End-effector Coordinates=\",F2)\n",
        "print(\"\\nVerification of second solution:\")\n",
        "F2n=forward_kinematics_homogenous_matrix([[0,90,0.25,149.03624346792648],[0.25,0,0,207.22562799856397],[0.07787192621510003,0,0,0]])\n",
        "print(\"End-effector Coordinates=\",F2n)\n",
        "\n",
        "print(\"\\n3. For point R:\")\n",
        "L3=inverse_kinematics_stanford(0.45,-0.15,0.1,0.25,0.25)\n",
        "print(\"First Solution(Theta1, Theta2, Extension):\",L3[0])\n",
        "print(\"Second Solution(Theta1, Theta2, Extension):\",L3[1])\n",
        "print(\"\\nVerification of first solution:\")\n",
        "F3=forward_kinematics_homogenous_matrix([[0,90,0.25,-18.43494882292201],[0.25,0,0,-17.5484006137923],[0.24749371855330993,0,0,0]])\n",
        "print(\"End-effector Coordinates=\",F3)\n",
        "print(\"\\nVerification of second solution:\")\n",
        "F3n=forward_kinematics_homogenous_matrix([[0,90,0.25,161.56505117707798],[0.25,0,0,197.5484006137923],[0.24749371855330993,0,0,0]])\n",
        "print(\"End-effector Coordinates=\",F3n)\n",
        "\n",
        "print(\"\\n4. For point S:\")\n",
        "L4=inverse_kinematics_stanford(0.45,0,0.1,0.25,0.25)\n",
        "print(\"First Solution(Theta1, Theta2, Extension):\",L4[0])\n",
        "print(\"Second Solution(Theta1, Theta2, Extension):\",L4[1])\n",
        "print(\"\\nVerification of first solution:\")\n",
        "F4=forward_kinematics_homogenous_matrix([[0,90,0.25,0],[0.25,0,0,-18.43494882292201],[0.22434164902525688,0,0,0]])\n",
        "print(\"End-effector Coordinates=\",F4)\n",
        "print(\"\\nVerification of second solution:\")\n",
        "F4n=forward_kinematics_homogenous_matrix([[0,90,0.25,180.0],[0.25,0,0,198.43494882292202],[0.22434164902525688,0,0,0]])\n",
        "print(\"End-effector Coordinates=\",F4n)"
      ],
      "execution_count": 5,
      "outputs": [
        {
          "output_type": "stream",
          "name": "stdout",
          "text": [
            "Stanford RRP(Inverse kinematics Solutions):\n",
            "\n",
            "1. For point P:\n",
            "First Solution(Theta1, Theta2, Extension): [-0.0, -30.96375653207352, 0.04154759474226499]\n",
            "Second Solution(Theta1, Theta2, Extension): [180.0, 210.96375653207352, 0.04154759474226499]\n",
            "\n",
            "Verification of first solution:\n",
            "End-effector Coordinates= [ 0.25 -0.    0.1 ]\n",
            "\n",
            "Verification of second solution:\n",
            "End-effector Coordinates= [ 0.25 -0.    0.1 ]\n",
            "\n",
            "2. For point Q:\n",
            "First Solution(Theta1, Theta2, Extension): [-30.96375653207352, -27.225627998563958, 0.07787192621510003]\n",
            "Second Solution(Theta1, Theta2, Extension): [149.03624346792648, 207.22562799856397, 0.07787192621510003]\n",
            "\n",
            "Verification of first solution:\n",
            "End-effector Coordinates= [ 0.25 -0.15  0.1 ]\n",
            "\n",
            "Verification of second solution:\n",
            "End-effector Coordinates= [ 0.25 -0.15  0.1 ]\n",
            "\n",
            "3. For point R:\n",
            "First Solution(Theta1, Theta2, Extension): [-18.43494882292201, -17.5484006137923, 0.24749371855330993]\n",
            "Second Solution(Theta1, Theta2, Extension): [161.56505117707798, 197.5484006137923, 0.24749371855330993]\n",
            "\n",
            "Verification of first solution:\n",
            "End-effector Coordinates= [ 0.45 -0.15  0.1 ]\n",
            "\n",
            "Verification of second solution:\n",
            "End-effector Coordinates= [ 0.45 -0.15  0.1 ]\n",
            "\n",
            "4. For point S:\n",
            "First Solution(Theta1, Theta2, Extension): [0.0, -18.43494882292201, 0.22434164902525688]\n",
            "Second Solution(Theta1, Theta2, Extension): [180.0, 198.43494882292202, 0.22434164902525688]\n",
            "\n",
            "Verification of first solution:\n",
            "End-effector Coordinates= [ 0.45 -0.    0.1 ]\n",
            "\n",
            "Verification of second solution:\n",
            "End-effector Coordinates= [ 0.45 -0.    0.1 ]\n"
          ]
        }
      ]
    },
    {
      "cell_type": "markdown",
      "metadata": {
        "id": "p6G5OgH8ZFJn"
      },
      "source": [
        "**1(a) SCARA RRP**\n",
        "(Note: the base frame of scara is at (0,0,0.2) relative to original fixed frame) "
      ]
    },
    {
      "cell_type": "code",
      "metadata": {
        "colab": {
          "base_uri": "https://localhost:8080/"
        },
        "id": "nGAn1_FxZPKD",
        "outputId": "07b0091c-88ed-46b1-dfef-918cc65d6a0f"
      },
      "source": [
        "def inverse_kinematics_scara(x,y,z,d1,d2):\n",
        "    # using formulae from the textbook\n",
        "    r = ((x**2+y**2-d1**2-d2**2)/(2*d1*d2))\n",
        "    if (r>0):\n",
        "      theta2 = np.arctan(np.sqrt((1-r**2))/r)\n",
        "      theta1 = np.arctan(y/x) - np.arctan((d2*np.sin(theta2))/(d1+d2*np.cos(theta2)))\n",
        "      d3 = -z\n",
        "    else:\n",
        "      theta2 = np.pi-np.arctan(np.sqrt((1-r**2))/abs(r))\n",
        "      theta1 = np.arctan(y/x) - np.arctan((d2*np.sin(theta2))/(d1+d2*np.cos(theta2)))\n",
        "      d3 = -z     \n",
        "\n",
        "    # converting from radians to degrees\n",
        "    theta1 = theta1*180/np.pi\n",
        "    theta2 = theta2*180/np.pi\n",
        "    angles=[theta1,theta2,d3]\n",
        "    return angles\n",
        "    # print(\"Solution(Theta1, Theta2, Extension): (\",theta1,\",\",theta2,\",\",-d3,\")\")\n",
        "    \n",
        "print(\"Scara RRP(Inverse kinematics Solutions):\\n\")\n",
        "print(\"1. For point P:\")\n",
        "L1=inverse_kinematics_scara(0.25,0,0.1,0.25,0.25)\n",
        "print(\"Solution(Theta1, Theta2, Extension):\",L1)\n",
        "F1=forward_kinematics_homogenous_matrix([[0,0,0.2,0],[0.25,0,0,-60.00000000000001],[0.25,0,0,120.00000000000001],[0,180,-(0.2-0.1),0]])\n",
        "print(\"\\nVerification of solution:\",F1)\n",
        "\n",
        "print(\"\\n2. For point Q:\")\n",
        "L2=inverse_kinematics_scara(0.25,-0.15,0.1,0.25,0.25)\n",
        "print(\"Solution(Theta1, Theta2, Extension):\",L2)\n",
        "F2=forward_kinematics_homogenous_matrix([[0,0,0.2,0],[0.25,0,0,-85.29521897454477],[0.25,0,0,108.66292488494248],[0,180,-(0.2-0.1),0]])\n",
        "print(\"\\nVerification of solution:\",F2)\n",
        "\n",
        "print(\"\\n3. For point R:\")\n",
        "L3=inverse_kinematics_scara(0.45,-0.15,0.1,0.25,0.25)\n",
        "print(\"Solution(Theta1, Theta2, Extension):\",L3)\n",
        "F3=forward_kinematics_homogenous_matrix([[0,0,0.2,0],[0.25,0,0,-36.86989764584401],[0.25,0,0,36.86989764584401],[0,180,-(0.2-0.1),0]])\n",
        "print(\"\\nVerification of solution:\",F3)\n",
        "\n",
        "print(\"\\n4. For point S:\")\n",
        "L4=inverse_kinematics_scara(0.45,0,0.1,0.25,0.25)\n",
        "print(\"Solution(Theta1, Theta2, Extension):\",L4)\n",
        "F4=forward_kinematics_homogenous_matrix([[0,0,0.2,0],[0.25,0,0,-25.841932763167126],[0.25,0,0,51.68386552633425],[0,180,-(0.2-0.1),0]])\n",
        "print(\"\\nVerification of solution:\",F4)"
      ],
      "execution_count": 76,
      "outputs": [
        {
          "output_type": "stream",
          "name": "stdout",
          "text": [
            "Scara RRP(Inverse kinematics Solutions):\n",
            "\n",
            "1. For point P:\n",
            "Solution(Theta1, Theta2, Extension): [-60.00000000000001, 120.00000000000001, -0.1]\n",
            "\n",
            "Verification of solution: [0.25 0.   0.1 ]\n",
            "\n",
            "2. For point Q:\n",
            "Solution(Theta1, Theta2, Extension): [-85.29521897454477, 108.66292488494248, -0.1]\n",
            "\n",
            "Verification of solution: [ 0.25 -0.15  0.1 ]\n",
            "\n",
            "3. For point R:\n",
            "Solution(Theta1, Theta2, Extension): [-36.86989764584401, 36.86989764584401, -0.1]\n",
            "\n",
            "Verification of solution: [ 0.45 -0.15  0.1 ]\n",
            "\n",
            "4. For point S:\n",
            "Solution(Theta1, Theta2, Extension): [-25.841932763167126, 51.68386552633425, -0.1]\n",
            "\n",
            "Verification of solution: [0.45 0.   0.1 ]\n"
          ]
        }
      ]
    },
    {
      "cell_type": "markdown",
      "metadata": {
        "id": "malm3LphErs2"
      },
      "source": [
        "**1(a) RRR PUMA**"
      ]
    },
    {
      "cell_type": "code",
      "metadata": {
        "colab": {
          "base_uri": "https://localhost:8080/"
        },
        "id": "bdqdI7txE1Ye",
        "outputId": "91f8f4e3-a9ee-457f-de2a-f26e8f198b4e"
      },
      "source": [
        "def inverse_kinematics_PUMA(xc,yc,zc,l1,l2,l3):\n",
        "    theta1 = np.rad2deg(math.atan2(yc,xc))\n",
        "    D = (xc*xc+yc*yc+(l1-zc)*(l1-zc)-l2*l2-l3*l3)/(2*l2*l3)\n",
        "    if D>=1 or D<=-1:\n",
        "        print(\"singular configuration\")\n",
        "    if D>1 or D<-1:\n",
        "        print(\"outside workspace\")\n",
        "    theta3 = (math.atan2((-math.sqrt(1-D*D)),D))\n",
        "    theta2 = np.rad2deg(math.atan2(zc-l1,(math.sqrt(xc*xc+yc*yc)))-math.atan2((l3*math.sin(theta3)),(l2+l3*math.cos(theta3))))\n",
        "    theta3 = np.rad2deg(theta3)\n",
        "    angles=np.array([theta1,theta2,theta3])\n",
        "\n",
        "    return angles\n",
        "\n",
        "print(\"RRR PUMA(Inverse kinematics Solutions):\\n\")\n",
        "print(\"1. For point P:\")\n",
        "L1=inverse_kinematics_PUMA(0.25,0,0.1,0.25,0.25,0.25)\n",
        "print(\"Solution(Theta1, Theta2, Theta3):\",L1)\n",
        "F1=forward_kinematics_homogenous_matrix([[0,90,0.25,0],[0.25,0,0,23.36770591039772],[0.25,0,0,-108.66292488494248]])\n",
        "print(\"\\nVerification of solution:\",F1)\n",
        "\n",
        "print(\"\\n2. For point Q:\")\n",
        "L2=inverse_kinematics_PUMA(0.25,-0.15,0.1,0.25,0.25,0.25)\n",
        "print(\"Solution(Theta1, Theta2, Theta3):\",L2)\n",
        "F2=forward_kinematics_homogenous_matrix([[0,90,0.25,-30.96375653207352],[0.25,0,0,21.798295125091805],[0.25,0,0,-98.04784624731153]])\n",
        "print(\"\\nVerification of solution:\",F2)\n",
        "\n",
        "print(\"\\n3. For point R:\")\n",
        "L3=inverse_kinematics_PUMA(0.45,-0.15,0.1,0.25,0.25,0.25)\n",
        "print(\"Solution(Theta1, Theta2, Theta3):\",L3)\n",
        "F3=forward_kinematics_homogenous_matrix([[0,90,0.25,-18.43494882292201],[0.25,0,0,-11.809230136525507],[0.25,0,0,-11.478340954533584]])\n",
        "print(\"\\nVerification of solution:\",F3)\n",
        "\n",
        "print(\"\\n4. For point S:\")\n",
        "L4=inverse_kinematics_PUMA(0.45,0,0.1,0.25,0.25,0.25)\n",
        "print(\"Solution(Theta1, Theta2, Theta3):\",L4)\n",
        "F4=forward_kinematics_homogenous_matrix([[0,90,0.25,0],[0.25,0,0,-3.1805546814635168e-15],[0.25,0,0,-36.86989764584401]])\n",
        "print(\"\\nVerification of solution:\",F4)\n"
      ],
      "execution_count": 67,
      "outputs": [
        {
          "output_type": "stream",
          "name": "stdout",
          "text": [
            "RRR PUMA(Inverse kinematics Solutions):\n",
            "\n",
            "1. For point P:\n",
            "Solution(Theta1, Theta2, Theta3): [   0.           23.36770591 -108.66292488]\n",
            "\n",
            "Verification of solution: [ 0.25 -0.    0.1 ]\n",
            "\n",
            "2. For point Q:\n",
            "Solution(Theta1, Theta2, Theta3): [-30.96375653  21.79829513 -98.04784625]\n",
            "\n",
            "Verification of solution: [ 0.25 -0.15  0.1 ]\n",
            "\n",
            "3. For point R:\n",
            "Solution(Theta1, Theta2, Theta3): [-18.43494882 -11.80923014 -11.47834095]\n",
            "\n",
            "Verification of solution: [ 0.45 -0.15  0.1 ]\n",
            "\n",
            "4. For point S:\n",
            "Solution(Theta1, Theta2, Theta3): [ 0.00000000e+00 -3.18055468e-15 -3.68698976e+01]\n",
            "\n",
            "Verification of solution: [ 0.45 -0.    0.1 ]\n"
          ]
        }
      ]
    },
    {
      "cell_type": "markdown",
      "metadata": {
        "id": "1SdDgdOSLSoX"
      },
      "source": [
        "**Q.1(b)**"
      ]
    },
    {
      "cell_type": "code",
      "metadata": {
        "colab": {
          "base_uri": "https://localhost:8080/"
        },
        "id": "gDMrzX4YLjiS",
        "outputId": "7549a3aa-06ff-40db-c3e9-402813866cdf"
      },
      "source": [
        "def STANFORD(A,B,C,D):\n",
        "  S1=inverse_kinematics_stanford(A[0],A[1],A[2],0.25,0.25)\n",
        "  print(\"Joint variables for A(theta1,thetha2,extension):\",S1)\n",
        "  F1=forward_kinematics_homogenous_matrix([[0,90,0.25,S1[0][0]],[0.25,0,0,S1[0][1]],[S1[0][2],0,0,0]])\n",
        "  F1n=forward_kinematics_homogenous_matrix([[0,90,0.25,S1[1][0]],[0.25,0,0,S1[1][1]],[S1[1][2],0,0,0]])\n",
        "  print(\"Verification of A(Coordinates of both solutions):\",F1,F1n)\n",
        "\n",
        "  S2=inverse_kinematics_stanford(B[0],B[1],B[2],0.25,0.25)\n",
        "  print(\"Joint variables for B(theta1,thetha2,extension):\",S2)\n",
        "  F2=forward_kinematics_homogenous_matrix([[0,90,0.25,S2[0][0]],[0.25,0,0,S2[0][1]],[S2[0][2],0,0,0]])\n",
        "  F2n=forward_kinematics_homogenous_matrix([[0,90,0.25,S2[1][0]],[0.25,0,0,S2[1][1]],[S2[1][2],0,0,0]])\n",
        "  print(\"Verification of B(Coordinates of both solutions):\",F2,F2n)\n",
        "\n",
        "  S3=inverse_kinematics_stanford(C[0],C[1],C[2],0.25,0.25)\n",
        "  print(\"Joint variables for C(theta1,thetha2,extension):\",S3)\n",
        "  F3=forward_kinematics_homogenous_matrix([[0,90,0.25,S3[0][0]],[0.25,0,0,S3[0][1]],[S3[0][2],0,0,0]])\n",
        "  F3n=forward_kinematics_homogenous_matrix([[0,90,0.25,S3[1][0]],[0.25,0,0,S3[1][1]],[S3[1][2],0,0,0]])\n",
        "  print(\"Verification of C(Coordinates of both solutions):\",F3,F3n)\n",
        "\n",
        "  S4=inverse_kinematics_stanford(D[0],D[1],D[2],0.25,0.25)\n",
        "  print(\"Joint variables for D(theta1,thetha2,extension):\",S4)\n",
        "  F4=forward_kinematics_homogenous_matrix([[0,90,0.25,S4[0][0]],[0.25,0,0,S4[0][1]],[S4[0][2],0,0,0]])\n",
        "  F4n=forward_kinematics_homogenous_matrix([[0,90,0.25,S4[1][0]],[0.25,0,0,S4[1][1]],[S4[1][2],0,0,0]])\n",
        "  print(\"Verification of D(Coordinates of both solutions):\",F4,F4n)  \n",
        "\n",
        "def SCARA(A,B,C,D):\n",
        "  S1=inverse_kinematics_scara(A[0],A[1],A[2],0.25,0.25)\n",
        "  print(\"Joint variables for A(theta1,thetha2,extension):\",S1)\n",
        "  F1=forward_kinematics_homogenous_matrix([[0,0,0.2,0],[0.25,0,0,S1[0]],[0.25,0,0,S1[1]],[0,180,-(0.2+S1[2]),0]])\n",
        "  print(\"Verification of A(Coordinates):\",F1)\n",
        "\n",
        "  S2=inverse_kinematics_scara(B[0],B[1],B[2],0.25,0.25)\n",
        "  print(\"Joint variables for B(theta1,thetha2,extension):\",S2)\n",
        "  F2=forward_kinematics_homogenous_matrix([[0,0,0.2,0],[0.25,0,0,S2[0]],[0.25,0,0,S2[1]],[0,180,-(0.2+S2[2]),0]])\n",
        "  print(\"Verification of B(Coordinates):\",F2)\n",
        "\n",
        "  S3=inverse_kinematics_scara(C[0],C[1],C[2],0.25,0.25)\n",
        "  print(\"Joint variables for C(theta1,thetha2,extension):\",S3)\n",
        "  F3=forward_kinematics_homogenous_matrix([[0,0,0.2,0],[0.25,0,0,S3[0]],[0.25,0,0,S3[1]],[0,180,-(0.2+S3[2]),0]])\n",
        "  print(\"Verification of C(Coordinates):\",F3)\n",
        "\n",
        "  S4=inverse_kinematics_scara(D[0],D[1],D[2],0.25,0.25)\n",
        "  print(\"Joint variables for D(theta1,thetha2,extension):\",S4)\n",
        "  F4=forward_kinematics_homogenous_matrix([[0,0,0.2,0],[0.25,0,0,S4[0]],[0.25,0,0,S4[1]],[0,180,-(0.2+S4[2]),0]])\n",
        "  print(\"Verification of D(Coordinates):\",F4)\n",
        "\n",
        "def PUMA(A,B,C,D):\n",
        "  S1=inverse_kinematics_PUMA(A[0],A[1],A[2],0.25,0.25,0.25)\n",
        "  print(\"Joint variables for A(theta1,thetha2,theta3):\",S1)\n",
        "  F1=forward_kinematics_homogenous_matrix([[0,90,0.25,S1[0]],[0.25,0,0,S1[1]],[0.25,0,0,S1[2]]])\n",
        "  print(\"Verification of A(Coordinates):\",F1)\n",
        "\n",
        "  S2=inverse_kinematics_PUMA(B[0],B[1],B[2],0.25,0.25,0.25)\n",
        "  print(\"Joint variables for B(theta1,thetha2,theta3):\",S2)\n",
        "  F2=forward_kinematics_homogenous_matrix([[0,90,0.25,S2[0]],[0.25,0,0,S2[1]],[0.25,0,0,S2[2]]])\n",
        "  print(\"Verification of B(Coordinates):\",F2)\n",
        "\n",
        "  S3=inverse_kinematics_PUMA(C[0],C[1],C[2],0.25,0.25,0.25)\n",
        "  print(\"Joint variables for C(theta1,thetha2,theta3):\",S3)\n",
        "  F3=forward_kinematics_homogenous_matrix([[0,90,0.25,S3[0]],[0.25,0,0,S3[1]],[0.25,0,0,S3[2]]])\n",
        "  print(\"Verification of C(Coordinates):\",F3)\n",
        "\n",
        "  S4=inverse_kinematics_PUMA(D[0],D[1],D[2],0.25,0.25,0.25)\n",
        "  print(\"Joint variables for D(theta1,thetha2,theta3):\",S4)\n",
        "  F4=forward_kinematics_homogenous_matrix([[0,90,0.25,S4[0]],[0.25,0,0,S4[1]],[0.25,0,0,S4[2]]])\n",
        "  print(\"Verification of D(Coordinates):\",F4)\n",
        "\n",
        "#Choice coordinates A,B,C,D\n",
        "A=[0.35,0.02,0.1]\n",
        "B=[0.45,0.05,0.1]\n",
        "C=[0.45,0.07,0.1]\n",
        "D=[0.35,0.03,0.1]\n",
        "\n",
        "print(\"FOR STANFORD\")\n",
        "STANFORD(A,B,C,D)\n",
        "print(\"\\nFOR SCARA\")\n",
        "SCARA(A,B,C,D)\n",
        "print(\"\\nFOR PUMA\")\n",
        "PUMA(A,B,C,D)\n"
      ],
      "execution_count": 80,
      "outputs": [
        {
          "output_type": "stream",
          "name": "stdout",
          "text": [
            "FOR STANFORD\n",
            "Joint variables for A(theta1,thetha2,extension): [[3.2704879231835657, -23.16479527086006, 0.13131351929875235], [183.27048792318357, 203.16479527086005, 0.13131351929875235]]\n",
            "Verification of A(Coordinates of both solutions): [0.35 0.02 0.1 ] [0.35 0.02 0.1 ]\n",
            "Joint variables for B(theta1,thetha2,extension): [[6.34019174590991, -18.329753744074015, 0.22696960070847289], [186.34019174590992, 198.32975374407403, 0.22696960070847289]]\n",
            "Verification of B(Coordinates of both solutions): [0.45 0.05 0.1 ] [0.45 0.05 0.1 ]\n",
            "Joint variables for C(theta1,thetha2,extension): [[8.841814560191672, -18.23044381380357, 0.22947888378947406], [188.84181456019166, 198.23044381380356, 0.22947888378947406]]\n",
            "Verification of C(Coordinates of both solutions): [0.45 0.07 0.1 ] [0.45 0.07 0.1 ]\n",
            "Joint variables for D(theta1,thetha2,extension): [[4.899092453787765, -23.12275871700029, 0.13196858509568554], [184.89909245378777, 203.1227587170003, 0.13196858509568554]]\n",
            "Verification of D(Coordinates of both solutions): [0.35 0.03 0.1 ] [0.35 0.03 0.1 ]\n",
            "\n",
            "FOR SCARA\n",
            "Joint variables for A(theta1,thetha2,extension): [-42.21081926722737, 90.96261438082186, -0.1]\n",
            "Verification of A(Coordinates): [0.35 0.02 0.1 ]\n",
            "Joint variables for B(theta1,thetha2,extension): [-18.76389850431147, 50.208180500442765, -0.1]\n",
            "Verification of B(Coordinates): [0.45 0.05 0.1 ]\n",
            "Joint variables for C(theta1,thetha2,extension): [-15.538741064437104, 48.76111124925756, -0.1]\n",
            "Verification of C(Coordinates): [0.45 0.07 0.1 ]\n",
            "Joint variables for D(theta1,thetha2,extension): [-40.467610548997506, 90.73340600557054, -0.1]\n",
            "Verification of D(Coordinates): [0.35 0.03 0.1 ]\n",
            "\n",
            "FOR PUMA\n",
            "Joint variables for A(theta1,thetha2,theta3): [  3.27048792  17.13886236 -80.60731526]\n",
            "Verification of A(Coordinates): [0.35 0.02 0.1 ]\n",
            "Joint variables for B(theta1,thetha2,theta3): [  6.34019175  -0.87215062 -34.91520625]\n",
            "Verification of B(Coordinates): [0.45 0.05 0.1 ]\n",
            "Joint variables for C(theta1,thetha2,theta3): [  8.84181456  -1.7583127  -32.94426223]\n",
            "Verification of C(Coordinates): [0.45 0.07 0.1 ]\n",
            "Joint variables for D(theta1,thetha2,theta3): [  4.89909245  17.06471085 -80.37493914]\n",
            "Verification of D(Coordinates): [0.35 0.03 0.1 ]\n"
          ]
        }
      ]
    },
    {
      "cell_type": "markdown",
      "metadata": {
        "id": "DIFP4OpVbcg1"
      },
      "source": [
        "Q1c"
      ]
    },
    {
      "cell_type": "code",
      "metadata": {
        "colab": {
          "base_uri": "https://localhost:8080/"
        },
        "id": "XxoQZMQpbe92",
        "outputId": "7b2c0ec8-6f3d-4db2-80cb-f2eaec097e74"
      },
      "source": [
        "A=[0.40,0.06,0.1]\n",
        "B=[0.40,0.01,0.1]\n",
        "C=[0.35,0.01,0.1]\n",
        "D=[0.35,0.06,0.1]\n",
        "print(\"FOR STANFORD\")\n",
        "STANFORD(A,B,C,D)\n",
        "print(\"\\nFOR SCARA\")\n",
        "SCARA(A,B,C,D)\n",
        "print(\"\\nFOR PUMA\")\n",
        "PUMA(A,B,C,D)\n"
      ],
      "execution_count": 81,
      "outputs": [
        {
          "output_type": "stream",
          "name": "stdout",
          "text": [
            "FOR STANFORD\n",
            "Joint variables for A(theta1,thetha2,extension): [[8.530765609948133, -20.347355912916143, 0.18139309220245986], [188.53076560994813, 200.34735591291616, 0.18139309220245986]]\n",
            "Verification of A(Coordinates of both solutions): [0.4  0.06 0.1 ] [0.4  0.06 0.1 ]\n",
            "Joint variables for B(theta1,thetha2,extension): [[1.4320961841646462, -20.55016119820984, 0.17731721238443], [181.43209618416464, 200.55016119820985, 0.17731721238443]]\n",
            "Verification of B(Coordinates of both solutions): [0.4  0.01 0.1 ] [0.4  0.01 0.1 ]\n",
            "Joint variables for C(theta1,thetha2,extension): [[1.6365770416167182, -23.19012780203957, 0.13091993909481814], [181.63657704161673, 203.19012780203957, 0.13091993909481814]]\n",
            "Verification of C(Coordinates of both solutions): [0.35 0.01 0.1 ] [0.35 0.01 0.1 ]\n",
            "Joint variables for D(theta1,thetha2,extension): [[9.727578551401605, -22.899659632930643, 0.13548670534792762], [189.7275785514016, 202.89965963293065, 0.13548670534792762]]\n",
            "Verification of D(Coordinates of both solutions): [0.35 0.06 0.1 ] [0.35 0.06 0.1 ]\n",
            "\n",
            "FOR SCARA\n",
            "Joint variables for A(theta1,thetha2,extension): [-27.475770490137332, 72.01307220017092, -0.1]\n",
            "Verification of A(Coordinates): [0.4  0.06 0.1 ]\n",
            "Joint variables for B(theta1,thetha2,extension): [-35.4139253154836, 73.6920429992965, -0.1]\n",
            "Verification of B(Coordinates): [0.4  0.01 0.1 ]\n",
            "Joint variables for C(theta1,thetha2,extension): [-43.91349624174205, 91.10014656671753, -0.1]\n",
            "Verification of C(Coordinates): [0.35 0.01 0.1 ]\n",
            "Joint variables for D(theta1,thetha2,extension): [-35.02031676483832, 89.49579063247985, -0.1]\n",
            "Verification of D(Coordinates): [0.35 0.06 0.1 ]\n",
            "\n",
            "FOR PUMA\n",
            "Joint variables for A(theta1,thetha2,theta3): [  8.53076561  10.02177432 -60.73826047]\n",
            "Verification of A(Coordinates): [0.4  0.06 0.1 ]\n",
            "Joint variables for B(theta1,thetha2,theta3): [  1.43209618  10.73046775 -62.5612579 ]\n",
            "Verification of B(Coordinates): [0.4  0.01 0.1 ]\n",
            "Joint variables for C(theta1,thetha2,theta3): [  1.63657704  17.18320514 -80.74666588]\n",
            "Verification of C(Coordinates): [0.35 0.01 0.1 ]\n",
            "Joint variables for D(theta1,thetha2,theta3): [  9.72757855  16.65895944 -79.11723814]\n",
            "Verification of D(Coordinates): [0.35 0.06 0.1 ]\n"
          ]
        }
      ]
    },
    {
      "cell_type": "markdown",
      "metadata": {
        "id": "W0zoVANBmPsM"
      },
      "source": [
        "**Q1-e** In this case the z coordinate of the endpoint of the link3 will become z+0.05"
      ]
    },
    {
      "cell_type": "code",
      "metadata": {
        "colab": {
          "base_uri": "https://localhost:8080/"
        },
        "id": "a0PURF_HmUaq",
        "outputId": "475bd901-2764-43be-9730-70626794f550"
      },
      "source": [
        "A=[0.40,0.06,0.1+0.05]\n",
        "B=[0.40,0.01,0.1+0.05]\n",
        "C=[0.35,0.01,0.1+0.05]\n",
        "D=[0.35,0.06,0.1+0.05]\n",
        "print(\"FOR STANFORD\")\n",
        "STANFORD(A,B,C,D)\n",
        "print(\"\\nFOR SCARA\")\n",
        "SCARA(A,B,C,D)\n",
        "print(\"\\nFOR PUMA\")\n",
        "PUMA(A,B,C,D)"
      ],
      "execution_count": 82,
      "outputs": [
        {
          "output_type": "stream",
          "name": "stdout",
          "text": [
            "FOR STANFORD\n",
            "Joint variables for A(theta1,thetha2,extension): [[8.530765609948133, -13.886993664472422, 0.1666533331199932], [188.53076560994813, 193.8869936644724, 0.1666533331199932]]\n",
            "Verification of A(Coordinates of both solutions): [0.4  0.06 0.15] [0.4  0.06 0.15]\n",
            "Joint variables for B(theta1,thetha2,extension): [[1.4320961841646462, -14.032032439378106, 0.16243181254602562], [181.43209618416464, 194.0320324393781, 0.16243181254602562]]\n",
            "Verification of B(Coordinates of both solutions): [0.4  0.01 0.15] [0.4  0.01 0.15]\n",
            "Joint variables for C(theta1,thetha2,extension): [[1.6365770416167182, -15.939222047880499, 0.11414282912066243], [181.63657704161673, 195.9392220478805, 0.11414282912066243]]\n",
            "Verification of C(Coordinates of both solutions): [0.35 0.01 0.15] [0.35 0.01 0.15]\n",
            "Joint variables for D(theta1,thetha2,extension): [[9.727578551401605, -15.727557217917743, 0.11891733491393436], [189.7275785514016, 195.72755721791773, 0.11891733491393436]]\n",
            "Verification of D(Coordinates of both solutions): [0.35 0.06 0.15] [0.35 0.06 0.15]\n",
            "\n",
            "FOR SCARA\n",
            "Joint variables for A(theta1,thetha2,extension): [-27.475770490137332, 72.01307220017092, -0.15000000000000002]\n",
            "Verification of A(Coordinates): [0.4  0.06 0.15]\n",
            "Joint variables for B(theta1,thetha2,extension): [-35.4139253154836, 73.6920429992965, -0.15000000000000002]\n",
            "Verification of B(Coordinates): [0.4  0.01 0.15]\n",
            "Joint variables for C(theta1,thetha2,extension): [-43.91349624174205, 91.10014656671753, -0.15000000000000002]\n",
            "Verification of C(Coordinates): [0.35 0.01 0.15]\n",
            "Joint variables for D(theta1,thetha2,extension): [-35.02031676483832, 89.49579063247985, -0.15000000000000002]\n",
            "Verification of D(Coordinates): [0.35 0.06 0.15]\n",
            "\n",
            "FOR PUMA\n",
            "Joint variables for A(theta1,thetha2,theta3): [  8.53076561  19.67308009 -67.12014752]\n",
            "Verification of A(Coordinates): [0.4  0.06 0.15]\n",
            "Joint variables for B(theta1,thetha2,theta3): [  1.43209618  20.39330012 -68.85066511]\n",
            "Verification of B(Coordinates): [0.4  0.01 0.15]\n",
            "Joint variables for C(theta1,thetha2,theta3): [  1.63657704  27.31791134 -86.51426677]\n",
            "Verification of C(Coordinates): [0.35 0.01 0.15]\n",
            "Joint variables for D(theta1,thetha2,theta3): [  9.72757855  26.72515491 -84.90542426]\n",
            "Verification of D(Coordinates): [0.35 0.06 0.15]\n"
          ]
        }
      ]
    },
    {
      "cell_type": "markdown",
      "metadata": {
        "id": "7bWwtHN_tJ4z"
      },
      "source": [
        "**Q1-f**         \n",
        "**end-effector position relative to wrist-centre (dl_x,dl_y,dl_z)=(0,0,0.05) , wrist centre (px,py,pz)=(0.35,0.06,0.15)**"
      ]
    },
    {
      "cell_type": "code",
      "metadata": {
        "colab": {
          "base_uri": "https://localhost:8080/"
        },
        "id": "9RjejxqqtM7F",
        "outputId": "85a480e0-8bb1-4125-da2e-579e0eac986f"
      },
      "source": [
        "# Link Parameters:    [a, alpha, d, theta]\n",
        "# For Multiple Links: [[a, alpha, d, theta]\n",
        "#                      [a, alpha, d, theta]\n",
        "#                      [a, alpha, d, theta]]\n",
        "\n",
        "def atransformation(LinkParameters):\n",
        "    a = LinkParameters[0]\n",
        "    d = LinkParameters[2]\n",
        "    alpha = LinkParameters[1]\n",
        "    theta = LinkParameters[3]\n",
        "    A = np.array([[[np.cos(theta), -np.sin(theta) * np.cos(alpha), np.sin(theta) * np.sin(alpha), a * np.cos(theta)],\n",
        "                   [np.sin(theta), np.cos(theta) * np.cos(alpha), -np.cos(theta) * np.sin(alpha), a * np.sin(theta)],\n",
        "                   [0, np.sin(alpha), np.cos(alpha), d],\n",
        "                   [0, 0, 0, 1]]])\n",
        "    return (A)\n",
        "\n",
        "def forward_kinematics_homogenous_matrix_n(DH):\n",
        "    A = np.identity(4)\n",
        "    n = np.shape(DH)[0]\n",
        "\n",
        "    for i in range(n):\n",
        "        Anext = atransformation(DH[i])\n",
        "        A = np.matmul(A,Anext)\n",
        "\n",
        "    return A\n",
        "\n",
        "#for scara\n",
        "F1=forward_kinematics_homogenous_matrix_n([[0,0,0.2,0],[0.25,0,0,-60.00000000000001],[0.25,0,0,120.00000000000001],[0,180,-0.1,0]])\n",
        "F2=forward_kinematics_homogenous_matrix_n([[0,0,0.2,0],[0.25,0,0,-60.00000000000001],[0.25,0,0,120.00000000000001],[0,180,-0.1,0],[0,0,-0.05,0]])\n",
        "R_0_3=np.array([[F1[0][0][0],F1[0][0][1],F1[0][0][2]]\n",
        "       ,[F1[0][1][0],F1[0][1][1],F1[0][1][2]]\n",
        "       ,[F1[0][2][0],F1[0][2][1],F1[0][2][2]]])\n",
        "R_0_6=np.array([[F2[0][0][0],F2[0][0][1],F2[0][0][2]]\n",
        "       ,[F2[0][1][0],F2[0][1][1],F2[0][1][2]]\n",
        "       ,[F2[0][2][0],F2[0][2][1],F2[0][2][2]]])\n",
        "R_3_6=np.transpose(R_0_3)*R_0_6\n",
        "\n",
        "\n",
        "def inverse_kinematics(rotation_matrix):\n",
        "    rotation_matrix = np.reshape(rotation_matrix, (3,3))\n",
        "    theta1 = np.arctan2(np.sqrt(abs(1 - rotation_matrix[2,2]**2)), rotation_matrix[2,2])\n",
        "    theta2 = np.arctan2(-np.sqrt(abs(1 - rotation_matrix[2,2]**2)), rotation_matrix[2,2])\n",
        "    phi1 = np.arctan2(rotation_matrix[1,2], rotation_matrix[0,2])\n",
        "    phi2 = np.arctan2(-rotation_matrix[1,2], -rotation_matrix[0,2])\n",
        "    psi1 = np.arctan2(-rotation_matrix[2,0], rotation_matrix[2,1])\n",
        "    psi2 = np.arctan2(rotation_matrix[2,0], -rotation_matrix[2,1])\n",
        "    print(\"First Solution: \\n\", \"theta = \", theta1, \"\\n phi = \", phi1, \"\\n psi = \", psi1)\n",
        "    print(\"Second Solution: \\n\", \"theta = \", theta2, \"\\n phi = \", phi2, \"\\n psi = \", psi2)\n",
        "\n",
        "inverse_kinematics(R_3_6)"
      ],
      "execution_count": 95,
      "outputs": [
        {
          "output_type": "stream",
          "name": "stdout",
          "text": [
            "First Solution: \n",
            " theta =  1.2045058582510877 \n",
            " phi =  1.5707963267948966 \n",
            " psi =  -0.0\n",
            "Second Solution: \n",
            " theta =  -1.2045058582510877 \n",
            " phi =  -1.5707963267948966 \n",
            " psi =  3.141592653589793\n"
          ]
        }
      ]
    },
    {
      "cell_type": "markdown",
      "metadata": {
        "id": "fID2Z14nGWeo"
      },
      "source": [
        "**Q3-b**"
      ]
    },
    {
      "cell_type": "code",
      "metadata": {
        "colab": {
          "resources": {
            "http://localhost:8080/nbextensions/google.colab/files.js": {
              "data": "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",
              "ok": true,
              "headers": [
                [
                  "content-type",
                  "application/javascript"
                ]
              ],
              "status": 200,
              "status_text": ""
            }
          },
          "base_uri": "https://localhost:8080/",
          "height": 74
        },
        "id": "H2AO-nv1OPXZ",
        "outputId": "0b58b53b-373e-4ff4-b81d-e584bd458ffe"
      },
      "source": [
        "\n",
        "from google.colab import files\n",
        "  \n",
        "  \n",
        "uploaded = files.upload()"
      ],
      "execution_count": 52,
      "outputs": [
        {
          "output_type": "display_data",
          "data": {
            "text/html": [
              "\n",
              "     <input type=\"file\" id=\"files-298f6486-1131-4f8e-a45e-977601194dd8\" name=\"files[]\" multiple disabled\n",
              "        style=\"border:none\" />\n",
              "     <output id=\"result-298f6486-1131-4f8e-a45e-977601194dd8\">\n",
              "      Upload widget is only available when the cell has been executed in the\n",
              "      current browser session. Please rerun this cell to enable.\n",
              "      </output>\n",
              "      <script src=\"/nbextensions/google.colab/files.js\"></script> "
            ],
            "text/plain": [
              "<IPython.core.display.HTML object>"
            ]
          },
          "metadata": {}
        },
        {
          "output_type": "stream",
          "name": "stdout",
          "text": [
            "Saving Gait_DATA.xlsx to Gait_DATA (9).xlsx\n"
          ]
        }
      ]
    },
    {
      "cell_type": "code",
      "metadata": {
        "colab": {
          "base_uri": "https://localhost:8080/",
          "height": 296
        },
        "id": "xgsvHQ2qXLft",
        "outputId": "79b6c1ef-7631-4431-cfca-01486189aa76"
      },
      "source": [
        "import pandas as pd\n",
        "import matplotlib.pyplot as plt\n",
        "import io\n",
        "  \n",
        "df = pd.read_excel(io.BytesIO(uploaded['Gait_DATA.xlsx']))\n",
        "\n",
        "plt.plot(df['X (cm)'],df['Y (cm)'])\n",
        "plt.xlabel('GAIT cycle')\n",
        "plt.ylabel('ankle coordinates')\n"
      ],
      "execution_count": 60,
      "outputs": [
        {
          "output_type": "execute_result",
          "data": {
            "text/plain": [
              "Text(0, 0.5, 'ankle coordinates')"
            ]
          },
          "metadata": {},
          "execution_count": 60
        },
        {
          "output_type": "display_data",
          "data": {
            "image/png": "[encoded data removed]",
            "text/plain": [
              "<Figure size 432x288 with 1 Axes>"
            ]
          },
          "metadata": {
            "needs_background": "light"
          }
        }
      ]
    }
  ]
}