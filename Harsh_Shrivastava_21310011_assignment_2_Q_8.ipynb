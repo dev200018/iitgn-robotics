{
  "nbformat": 4,
  "nbformat_minor": 0,
  "metadata": {
    "colab": {
      "name": "Harsh Shrivastava-21310011-assignment_2_Q_8.ipynb",
      "provenance": [],
      "collapsed_sections": []
    },
    "kernelspec": {
      "name": "python3",
      "display_name": "Python 3"
    },
    "language_info": {
      "name": "python"
    }
  },
  "cells": [
    {
      "cell_type": "markdown",
      "metadata": {
        "id": "IGCSKRLo2lWN"
      },
      "source": [
        "##Assignment 2"
      ]
    },
    {
      "cell_type": "code",
      "metadata": {
        "id": "I0fD8APybuvR"
      },
      "source": [
        "# import numpy library for mathematical computation\n",
        "import numpy as np"
      ],
      "execution_count": null,
      "outputs": []
    },
    {
      "cell_type": "code",
      "metadata": {
        "id": "JVAs95U2b-YF"
      },
      "source": [
        "# l1, l2 and l3 are the length of the links (in metres)\n",
        "# theta_1 and theta_2 are the angles (in radians)\n",
        "l1 = 0.6\n",
        "l2 = 0.5\n",
        "l3 = 0.6\n",
        "theta_1 = 45*(np.pi / 180) #convert degree to radian\n",
        "theta_2 = 30*(np.pi / 180)"
      ],
      "execution_count": null,
      "outputs": []
    },
    {
      "cell_type": "code",
      "metadata": {
        "colab": {
          "base_uri": "https://localhost:8080/"
        },
        "id": "j6TvMyrwcdnh",
        "outputId": "d2d20927-2da9-40ae-ecab-20bb41169c8f"
      },
      "source": [
        "# resultant matrix representing the position of the end effector\n",
        "res_mat = np.array([[l2*np.cos(theta_1)*np.cos(theta_2)],\n",
        "                    [l2*np.sin(theta_1)*np.cos(theta_2)],\n",
        "                    [l2*np.sin(theta_2)+l1],\n",
        "                    [1]])\n",
        "print(res_mat)"
      ],
      "execution_count": null,
      "outputs": [
        {
          "output_type": "stream",
          "name": "stdout",
          "text": [
            "[[0.30618622]\n",
            " [0.30618622]\n",
            " [0.85      ]\n",
            " [1.        ]]\n"
          ]
        }
      ]
    },
    {
      "cell_type": "code",
      "metadata": {
        "id": "6IrlZ7WvhC9j"
      },
      "source": [
        ""
      ],
      "execution_count": null,
      "outputs": []
    },
    {
      "cell_type": "code",
      "metadata": {
        "id": "g9Qrzld0wXDH"
      },
      "source": [
        ""
      ],
      "execution_count": null,
      "outputs": []
    }
  ]
}