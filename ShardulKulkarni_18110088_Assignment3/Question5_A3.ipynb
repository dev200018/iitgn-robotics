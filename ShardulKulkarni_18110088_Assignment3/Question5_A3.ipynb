{
  "nbformat": 4,
  "nbformat_minor": 0,
  "metadata": {
    "colab": {
      "name": "Question5_A3.ipynb",
      "provenance": [],
      "collapsed_sections": []
    },
    "kernelspec": {
      "name": "python3",
      "display_name": "Python 3"
    },
    "language_info": {
      "name": "python"
    }
  },
  "cells": [
    {
      "cell_type": "code",
      "metadata": {
        "id": "67QUAxub4jcR"
      },
      "source": [
        "import numpy as np"
      ],
      "execution_count": 4,
      "outputs": []
    },
    {
      "cell_type": "markdown",
      "metadata": {
        "id": "ujevPboarqqb"
      },
      "source": [
        "# Input\n",
        "For this question, DH parameters are\n",
        "\n",
        "\n",
        "\n",
        "> \n",
        "\n",
        "\n",
        "![image.png](data:image/png;base64,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)"
      ]
    },
    {
      "cell_type": "code",
      "metadata": {
        "colab": {
          "base_uri": "https://localhost:8080/"
        },
        "id": "aZOGJroS4wMB",
        "outputId": "edec41f4-b835-4788-8c46-83dbb80aa0ef"
      },
      "source": [
        "matrix=[]\n",
        "\n",
        "n=int(input(\"No. of links: \"))\n",
        "sym=[\"a\",\"alpha\",\"d\",\"theta\"]\n",
        "for i in range(n):\n",
        "  a=[]\n",
        "  for j in range(4):\n",
        "    a.append(float(input(f\"Link-{i+1},{sym[j]} : \")))\n",
        "  matrix.append(a)\n",
        "  print(\"\\n\")\n",
        "\n",
        "matrix"
      ],
      "execution_count": 7,
      "outputs": [
        {
          "output_type": "stream",
          "name": "stdout",
          "text": [
            "No. of links: 3\n",
            "Link-1,a : 0\n",
            "Link-1,alpha : 0\n",
            "Link-1,d : 1\n",
            "Link-1,theta : 0\n",
            "\n",
            "\n",
            "Link-2,a : 1\n",
            "Link-2,alpha : 0\n",
            "Link-2,d : 0\n",
            "Link-2,theta : 0\n",
            "\n",
            "\n",
            "Link-3,a : 1\n",
            "Link-3,alpha : 0\n",
            "Link-3,d : 0\n",
            "Link-3,theta : -1.57079\n",
            "\n",
            "\n"
          ]
        },
        {
          "output_type": "execute_result",
          "data": {
            "text/plain": [
              "[[0.0, 0.0, 1.0, 0.0], [1.0, 0.0, 0.0, 0.0], [1.0, 0.0, 0.0, -1.57079]]"
            ]
          },
          "metadata": {},
          "execution_count": 7
        }
      ]
    },
    {
      "cell_type": "markdown",
      "metadata": {
        "id": "oMgyah8Hrfkc"
      },
      "source": [
        "# D-H Transformation Matrix Function"
      ]
    },
    {
      "cell_type": "code",
      "metadata": {
        "id": "KkE4Dmrv89Dj"
      },
      "source": [
        "def dh(arr):\n",
        "  a=arr[0]\n",
        "  alpha=arr[1]\n",
        "  d=arr[2]\n",
        "  theta = arr[3]\n",
        "\n",
        "  mat = []\n",
        "  b=[np.cos(theta), -np.sin(theta)*np.cos(alpha), np.sin(theta)*np.sin(alpha), a*np.cos(theta)]\n",
        "  mat.append(b)\n",
        "\n",
        "  b=[np.sin(theta), np.cos(theta)*np.cos(alpha), -np.cos(theta)*np.sin(alpha), a*np.sin(theta)]\n",
        "  mat.append(b)\n",
        "\n",
        "  b=[0, np.sin(alpha), np.cos(alpha), d]\n",
        "  mat.append(b)\n",
        "\n",
        "  b=[0,0,0,1]\n",
        "  mat.append(b)\n",
        "\n",
        "  return np.matrix(mat)"
      ],
      "execution_count": 8,
      "outputs": []
    },
    {
      "cell_type": "code",
      "metadata": {
        "colab": {
          "base_uri": "https://localhost:8080/"
        },
        "id": "kTkjnUFk9sHf",
        "outputId": "2cbf3948-d748-4fa9-908e-1dd9cf556296"
      },
      "source": [
        "dh(matrix[1])"
      ],
      "execution_count": 9,
      "outputs": [
        {
          "output_type": "execute_result",
          "data": {
            "text/plain": [
              "matrix([[ 1., -0.,  0.,  1.],\n",
              "        [ 0.,  1., -0.,  0.],\n",
              "        [ 0.,  0.,  1.,  0.],\n",
              "        [ 0.,  0.,  0.,  1.]])"
            ]
          },
          "metadata": {},
          "execution_count": 9
        }
      ]
    },
    {
      "cell_type": "markdown",
      "metadata": {
        "id": "rgs32DmJrYPR"
      },
      "source": [
        "#Transformation Matrix"
      ]
    },
    {
      "cell_type": "code",
      "metadata": {
        "colab": {
          "base_uri": "https://localhost:8080/"
        },
        "id": "Yl7P0j8-BjH6",
        "outputId": "e12bc0c9-de93-4569-9647-5633b9a4bf93"
      },
      "source": [
        "T = np.identity(4)\n",
        "Tmat = []\n",
        "for i in range(n):\n",
        "  T=np.matmul(T,dh(matrix[i]))\n",
        "  Tmat.append(T)\n",
        "print(f\"Transformation Matrix (0-{n}) : \\n\\n{T}\")"
      ],
      "execution_count": 10,
      "outputs": [
        {
          "output_type": "stream",
          "name": "stdout",
          "text": [
            "Transformation Matrix (0-3) : \n",
            "\n",
            "[[ 6.32679490e-06  1.00000000e+00  0.00000000e+00  1.00000633e+00]\n",
            " [-1.00000000e+00  6.32679490e-06  0.00000000e+00 -1.00000000e+00]\n",
            " [ 0.00000000e+00  0.00000000e+00  1.00000000e+00  1.00000000e+00]\n",
            " [ 0.00000000e+00  0.00000000e+00  0.00000000e+00  1.00000000e+00]]\n"
          ]
        }
      ]
    },
    {
      "cell_type": "markdown",
      "metadata": {
        "id": "SCorYqQSrR8O"
      },
      "source": [
        "#End effector Position"
      ]
    },
    {
      "cell_type": "code",
      "metadata": {
        "colab": {
          "base_uri": "https://localhost:8080/"
        },
        "id": "uYlABU57CtgQ",
        "outputId": "4a75265a-9716-464e-df8b-90d97076323a"
      },
      "source": [
        "pos6=np.matrix([0,0,0,1])\n",
        "Pos = np.matmul(Tmat[-1],pos6.T)\n",
        "print(f\"Position (0): \\n\\n{Pos[:3]}\")\n"
      ],
      "execution_count": 11,
      "outputs": [
        {
          "output_type": "stream",
          "name": "stdout",
          "text": [
            "Position (0): \n",
            "\n",
            "[[ 1.00000633]\n",
            " [-1.        ]\n",
            " [ 1.        ]]\n"
          ]
        }
      ]
    }
  ]
}