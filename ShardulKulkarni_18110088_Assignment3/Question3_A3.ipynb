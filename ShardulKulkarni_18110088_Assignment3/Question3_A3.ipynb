{
  "nbformat": 4,
  "nbformat_minor": 0,
  "metadata": {
    "colab": {
      "name": "Question3_A3.ipynb",
      "provenance": [],
      "collapsed_sections": []
    },
    "kernelspec": {
      "name": "python3",
      "display_name": "Python 3"
    },
    "language_info": {
      "name": "python"
    }
  },
  "cells": [
    {
      "cell_type": "code",
      "metadata": {
        "id": "67QUAxub4jcR"
      },
      "source": [
        "import numpy as np"
      ],
      "execution_count": 73,
      "outputs": []
    },
    {
      "cell_type": "markdown",
      "metadata": {
        "id": "ujevPboarqqb"
      },
      "source": [
        "# Input"
      ]
    },
    {
      "cell_type": "code",
      "metadata": {
        "colab": {
          "base_uri": "https://localhost:8080/"
        },
        "id": "aZOGJroS4wMB",
        "outputId": "c1ad6214-40d1-4f44-c5be-bf3ed919a38e"
      },
      "source": [
        "matrix=[]\n",
        "\n",
        "n=int(input(\"No. of links: \"))\n",
        "sym=[\"a\",\"alpha\",\"d\",\"theta\"]\n",
        "for i in range(n):\n",
        "  a=[]\n",
        "  for j in range(4):\n",
        "    a.append(float(input(f\"Link-{i+1},{sym[j]} : \")))\n",
        "  matrix.append(a)\n",
        "  print(\"\\n\")\n",
        "\n",
        "matrix"
      ],
      "execution_count": 81,
      "outputs": [
        {
          "output_type": "stream",
          "name": "stdout",
          "text": [
            "No. of links: 3\n",
            "Link-1,a : 1\n",
            "Link-1,alpha : 0\n",
            "Link-1,d : 0\n",
            "Link-1,theta : 1\n",
            "\n",
            "\n",
            "Link-2,a : 1\n",
            "Link-2,alpha : 0\n",
            "Link-2,d : 0\n",
            "Link-2,theta : 1\n",
            "\n",
            "\n",
            "Link-3,a : 1\n",
            "Link-3,alpha : 0\n",
            "Link-3,d : 0\n",
            "Link-3,theta : 1\n",
            "\n",
            "\n"
          ]
        },
        {
          "output_type": "execute_result",
          "data": {
            "text/plain": [
              "[[1, 0, 0, 1], [1, 0, 0, 1], [1, 0, 0, 1]]"
            ]
          },
          "metadata": {},
          "execution_count": 81
        }
      ]
    },
    {
      "cell_type": "markdown",
      "metadata": {
        "id": "oMgyah8Hrfkc"
      },
      "source": [
        "# D-H Transformation Matrix Function"
      ]
    },
    {
      "cell_type": "code",
      "metadata": {
        "id": "KkE4Dmrv89Dj"
      },
      "source": [
        "def dh(arr):\n",
        "  a=arr[0]\n",
        "  alpha=arr[1]\n",
        "  d=arr[2]\n",
        "  theta = arr[3]\n",
        "\n",
        "  mat = []\n",
        "  b=[np.cos(theta), -np.sin(theta)*np.cos(alpha), np.sin(theta)*np.sin(alpha), a*np.cos(theta)]\n",
        "  mat.append(b)\n",
        "\n",
        "  b=[np.sin(theta), np.cos(theta)*np.cos(alpha), -np.cos(theta)*np.sin(alpha), a*np.sin(theta)]\n",
        "  mat.append(b)\n",
        "\n",
        "  b=[0, np.sin(alpha), np.cos(alpha), d]\n",
        "  mat.append(b)\n",
        "\n",
        "  b=[0,0,0,1]\n",
        "  mat.append(b)\n",
        "\n",
        "  return np.matrix(mat)"
      ],
      "execution_count": 75,
      "outputs": []
    },
    {
      "cell_type": "code",
      "metadata": {
        "colab": {
          "base_uri": "https://localhost:8080/"
        },
        "id": "kTkjnUFk9sHf",
        "outputId": "91f4943b-35e8-4cee-b35e-5d3a0c255664"
      },
      "source": [
        "dh(matrix[1])"
      ],
      "execution_count": 82,
      "outputs": [
        {
          "output_type": "execute_result",
          "data": {
            "text/plain": [
              "matrix([[ 0.54030231, -0.84147098,  0.        ,  0.54030231],\n",
              "        [ 0.84147098,  0.54030231, -0.        ,  0.84147098],\n",
              "        [ 0.        ,  0.        ,  1.        ,  0.        ],\n",
              "        [ 0.        ,  0.        ,  0.        ,  1.        ]])"
            ]
          },
          "metadata": {},
          "execution_count": 82
        }
      ]
    },
    {
      "cell_type": "markdown",
      "metadata": {
        "id": "rgs32DmJrYPR"
      },
      "source": [
        "#Transformation Matrix"
      ]
    },
    {
      "cell_type": "code",
      "metadata": {
        "colab": {
          "base_uri": "https://localhost:8080/"
        },
        "id": "Yl7P0j8-BjH6",
        "outputId": "428ea6d8-7f77-4f6a-f7f1-239be086bc51"
      },
      "source": [
        "T = np.identity(4)\n",
        "Tmat = []\n",
        "for i in range(n):\n",
        "  T=np.matmul(T,dh(matrix[i]))\n",
        "  Tmat.append(T)\n",
        "print(f\"Transformation Matrix (0-{n}) : \\n\\n{T}\")"
      ],
      "execution_count": 83,
      "outputs": [
        {
          "output_type": "stream",
          "name": "stdout",
          "text": [
            "Transformation Matrix (0-3) : \n",
            "\n",
            "[[-0.9899925  -0.14112001  0.         -0.86583703]\n",
            " [ 0.14112001 -0.9899925   0.          1.89188842]\n",
            " [ 0.          0.          1.          0.        ]\n",
            " [ 0.          0.          0.          1.        ]]\n"
          ]
        }
      ]
    },
    {
      "cell_type": "markdown",
      "metadata": {
        "id": "SCorYqQSrR8O"
      },
      "source": [
        "#End effector Position"
      ]
    },
    {
      "cell_type": "code",
      "metadata": {
        "colab": {
          "base_uri": "https://localhost:8080/"
        },
        "id": "uYlABU57CtgQ",
        "outputId": "b806fc93-8304-46e7-e885-1a637dbc7f71"
      },
      "source": [
        "pos6=np.matrix([0,0,0,1])\n",
        "Pos = np.matmul(Tmat[-1],pos6.T)\n",
        "print(f\"Position (0): \\n\\n{Pos[:3]}\")\n"
      ],
      "execution_count": 84,
      "outputs": [
        {
          "output_type": "stream",
          "name": "stdout",
          "text": [
            "Position (0): \n",
            "\n",
            "[[-0.86583703]\n",
            " [ 1.89188842]\n",
            " [ 0.        ]]\n"
          ]
        }
      ]
    },
    {
      "cell_type": "markdown",
      "metadata": {
        "id": "EEQw0tzFq1c6"
      },
      "source": [
        "# Determining Z-axes and origins for each Joint\n"
      ]
    },
    {
      "cell_type": "code",
      "metadata": {
        "colab": {
          "base_uri": "https://localhost:8080/"
        },
        "id": "zg5HQd0nYO-5",
        "outputId": "719206c7-c431-44a9-d9a5-8442631d27f2"
      },
      "source": [
        "z=[]\n",
        "z.append(np.matrix([0,0,1]).T)\n",
        "\n",
        "p=[]\n",
        "p.append(np.matrix([0,0,0]).T)\n",
        "\n",
        "for a in Tmat:\n",
        "  z.append(a[:3,2])\n",
        "  p.append(a[:3,3])\n",
        "p"
      ],
      "execution_count": 85,
      "outputs": [
        {
          "output_type": "execute_result",
          "data": {
            "text/plain": [
              "[matrix([[0],\n",
              "         [0],\n",
              "         [0]]), matrix([[0.54030231],\n",
              "         [0.84147098],\n",
              "         [0.        ]]), matrix([[0.12415547],\n",
              "         [1.75076841],\n",
              "         [0.        ]]), matrix([[-0.86583703],\n",
              "         [ 1.89188842],\n",
              "         [ 0.        ]])]"
            ]
          },
          "metadata": {},
          "execution_count": 85
        }
      ]
    },
    {
      "cell_type": "markdown",
      "metadata": {
        "id": "hxunL-XYrMG0"
      },
      "source": [
        "#Jecobinan Matrix"
      ]
    },
    {
      "cell_type": "code",
      "metadata": {
        "colab": {
          "base_uri": "https://localhost:8080/"
        },
        "id": "vplhnGonlucI",
        "outputId": "186ff980-984a-4399-dc88-28c2d8a1ff5b"
      },
      "source": [
        "J = np.cross(z[0].T,(p[-1]-p[0]).T).T\n",
        "J = np.concatenate((J,z[0]),axis=0)\n",
        "\n",
        "for i in range (1,len(z)-1):\n",
        "  x = np.cross(z[i].T,(p[-1]-p[i]).T).T\n",
        "  x = np.concatenate((x,z[i]),axis=0)\n",
        "  J = np.concatenate((J,x),axis=1)\n",
        "print(f\"Jecobian Matrix :\\n\\n{J}\") "
      ],
      "execution_count": 86,
      "outputs": [
        {
          "output_type": "stream",
          "name": "stdout",
          "text": [
            "Jecobian Matrix :\n",
            "\n",
            "[[-1.89188842 -1.05041743 -0.14112001]\n",
            " [-0.86583703 -1.40613933 -0.9899925 ]\n",
            " [ 0.          0.          0.        ]\n",
            " [ 0.          0.          0.        ]\n",
            " [ 0.          0.          0.        ]\n",
            " [ 1.          1.          1.        ]]\n"
          ]
        }
      ]
    }
  ]
}