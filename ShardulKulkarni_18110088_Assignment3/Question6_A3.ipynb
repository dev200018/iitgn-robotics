{
  "nbformat": 4,
  "nbformat_minor": 0,
  "metadata": {
    "colab": {
      "name": "Question6_A3.ipynb",
      "provenance": [],
      "collapsed_sections": []
    },
    "kernelspec": {
      "name": "python3",
      "display_name": "Python 3"
    },
    "language_info": {
      "name": "python"
    }
  },
  "cells": [
    {
      "cell_type": "code",
      "metadata": {
        "id": "67QUAxub4jcR"
      },
      "source": [
        "import numpy as np"
      ],
      "execution_count": 4,
      "outputs": []
    },
    {
      "cell_type": "markdown",
      "metadata": {
        "id": "ujevPboarqqb"
      },
      "source": [
        "# Input\n",
        "For this question, DH parameters are :-\n",
        "\n",
        "![image.png](data:image/png;base64,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)"
      ]
    },
    {
      "cell_type": "code",
      "metadata": {
        "colab": {
          "base_uri": "https://localhost:8080/"
        },
        "id": "aZOGJroS4wMB",
        "outputId": "30d28570-f175-41d9-cc2f-545c3cddbbe3"
      },
      "source": [
        "matrix=[]\n",
        "\n",
        "n=int(input(\"No. of links: \"))\n",
        "sym=[\"a\",\"alpha\",\"d\",\"theta\"]\n",
        "for i in range(n):\n",
        "  a=[]\n",
        "  for j in range(4):\n",
        "    a.append(float(input(f\"Link-{i+1},{sym[j]} : \")))\n",
        "  matrix.append(a)\n",
        "  print(\"\\n\")\n",
        "\n",
        "matrix"
      ],
      "execution_count": 1,
      "outputs": [
        {
          "output_type": "stream",
          "name": "stdout",
          "text": [
            "No. of links: 5\n",
            "Link-1,a : 0\n",
            "Link-1,alpha : 1.57079\n",
            "Link-1,d : 1\n",
            "Link-1,theta : 1\n",
            "\n",
            "\n",
            "Link-2,a : 1\n",
            "Link-2,alpha : 0\n",
            "Link-2,d : 0\n",
            "Link-2,theta : 1\n",
            "\n",
            "\n",
            "Link-3,a : 1\n",
            "Link-3,alpha : 0\n",
            "Link-3,d : 0\n",
            "Link-3,theta : 1.57079\n",
            "\n",
            "\n",
            "Link-4,a : 1\n",
            "Link-4,alpha : -1.57079\n",
            "Link-4,d : 0\n",
            "Link-4,theta : 0\n",
            "\n",
            "\n",
            "Link-5,a : 1\n",
            "Link-5,alpha : 0\n",
            "Link-5,d : 1\n",
            "Link-5,theta : 0.5\n",
            "\n",
            "\n"
          ]
        },
        {
          "output_type": "execute_result",
          "data": {
            "text/plain": [
              "[[0.0, 1.57079, 1.0, 1.0],\n",
              " [1.0, 0.0, 0.0, 1.0],\n",
              " [1.0, 0.0, 0.0, 1.57079],\n",
              " [1.0, -1.57079, 0.0, 0.0],\n",
              " [1.0, 0.0, 1.0, 0.5]]"
            ]
          },
          "metadata": {},
          "execution_count": 1
        }
      ]
    },
    {
      "cell_type": "markdown",
      "metadata": {
        "id": "oMgyah8Hrfkc"
      },
      "source": [
        "# D-H Transformation Matrix Function"
      ]
    },
    {
      "cell_type": "code",
      "metadata": {
        "id": "KkE4Dmrv89Dj"
      },
      "source": [
        "def dh(arr):\n",
        "  a=arr[0]\n",
        "  alpha=arr[1]\n",
        "  d=arr[2]\n",
        "  theta = arr[3]\n",
        "\n",
        "  mat = []\n",
        "  b=[np.cos(theta), -np.sin(theta)*np.cos(alpha), np.sin(theta)*np.sin(alpha), a*np.cos(theta)]\n",
        "  mat.append(b)\n",
        "\n",
        "  b=[np.sin(theta), np.cos(theta)*np.cos(alpha), -np.cos(theta)*np.sin(alpha), a*np.sin(theta)]\n",
        "  mat.append(b)\n",
        "\n",
        "  b=[0, np.sin(alpha), np.cos(alpha), d]\n",
        "  mat.append(b)\n",
        "\n",
        "  b=[0,0,0,1]\n",
        "  mat.append(b)\n",
        "\n",
        "  return np.matrix(mat)"
      ],
      "execution_count": 5,
      "outputs": []
    },
    {
      "cell_type": "code",
      "metadata": {
        "colab": {
          "base_uri": "https://localhost:8080/"
        },
        "id": "kTkjnUFk9sHf",
        "outputId": "695cd16b-075c-4afc-bbdc-81ea4afbf938"
      },
      "source": [
        "dh(matrix[1])"
      ],
      "execution_count": 6,
      "outputs": [
        {
          "output_type": "execute_result",
          "data": {
            "text/plain": [
              "matrix([[ 0.54030231, -0.84147098,  0.        ,  0.54030231],\n",
              "        [ 0.84147098,  0.54030231, -0.        ,  0.84147098],\n",
              "        [ 0.        ,  0.        ,  1.        ,  0.        ],\n",
              "        [ 0.        ,  0.        ,  0.        ,  1.        ]])"
            ]
          },
          "metadata": {},
          "execution_count": 6
        }
      ]
    },
    {
      "cell_type": "markdown",
      "metadata": {
        "id": "rgs32DmJrYPR"
      },
      "source": [
        "#Transformation Matrix"
      ]
    },
    {
      "cell_type": "code",
      "metadata": {
        "colab": {
          "base_uri": "https://localhost:8080/"
        },
        "id": "Yl7P0j8-BjH6",
        "outputId": "de298174-514f-4776-bd74-af4d991ad2bf"
      },
      "source": [
        "T = np.identity(4)\n",
        "Tmat = []\n",
        "for i in range(n):\n",
        "  T=np.matmul(T,dh(matrix[i]))\n",
        "  Tmat.append(T)\n",
        "print(f\"Transformation Matrix (0-{n}) : \\n\\n{T}\")"
      ],
      "execution_count": 7,
      "outputs": [
        {
          "output_type": "stream",
          "name": "stdout",
          "text": [
            "Transformation Matrix (0-5) : \n",
            "\n",
            "[[-0.80241625 -0.52049119 -0.29191965 -1.71171329]\n",
            " [-0.36235539  0.81362357 -0.45465949 -1.77850068]\n",
            " [ 0.47415897 -0.2590475  -0.84146757  2.55477765]\n",
            " [ 0.          0.          0.          1.        ]]\n"
          ]
        }
      ]
    },
    {
      "cell_type": "markdown",
      "metadata": {
        "id": "SCorYqQSrR8O"
      },
      "source": [
        "#End effector Position"
      ]
    },
    {
      "cell_type": "code",
      "metadata": {
        "colab": {
          "base_uri": "https://localhost:8080/"
        },
        "id": "uYlABU57CtgQ",
        "outputId": "26d0fa4c-8648-4394-fb6a-1941e0383a91"
      },
      "source": [
        "posn=np.matrix([0,0,0,1])\n",
        "Pos = np.matmul(Tmat[-1],posn.T)\n",
        "print(f\"Position (0): \\n\\n{Pos[:3]}\")\n"
      ],
      "execution_count": 9,
      "outputs": [
        {
          "output_type": "stream",
          "name": "stdout",
          "text": [
            "Position (0): \n",
            "\n",
            "[[-1.71171329]\n",
            " [-1.77850068]\n",
            " [ 2.55477765]]\n"
          ]
        }
      ]
    }
  ]
}