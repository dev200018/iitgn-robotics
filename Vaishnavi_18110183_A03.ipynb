{
  "nbformat": 4,
  "nbformat_minor": 0,
  "metadata": {
    "colab": {
      "name": "Vaishnavi_18110183_A03.ipynb",
      "provenance": []
    },
    "kernelspec": {
      "name": "python3",
      "display_name": "Python 3"
    },
    "language_info": {
      "name": "python"
    }
  },
  "cells": [
    {
      "cell_type": "markdown",
      "metadata": {
        "id": "kxn3_WhQfyIO"
      },
      "source": [
        "**Task 3 and Task 4**:\n",
        "\n",
        "Input: number of links (n) and DH parameters in the form DH = [[a1,alpha1,d1,theta1],[a2,alpha2,d2,theta2],...] according to n \n",
        "\n",
        "Also, the nature of links is taken as an input in the form of an array t with 0 corresponding to revolute and 1 corresponding to prismatic joint. By default, all joints are considered revolute.\n",
        "\n",
        "Outputs are the Manipulator Jacobian, end-effector position and end-effector velocity"
      ]
    },
    {
      "cell_type": "code",
      "metadata": {
        "id": "BBDLuhiMidjn",
        "colab": {
          "base_uri": "https://localhost:8080/"
        },
        "outputId": "0979ae31-cc64-463b-f566-50dfa04e306e"
      },
      "source": [
        "import numpy as np\n",
        "\n",
        "n = int(input())\n",
        "def dhpara(n,DH,t=[0]*n):\n",
        "  \n",
        "  a = [0]*(n+1)\n",
        "  alpha = [0]*(n+1)\n",
        "  d = [0]*(n+1)\n",
        "  theta = [0]*(n+1)\n",
        "  for i in range(1,n+1):\n",
        "    a[i] = DH[i-1][0]\n",
        "    alpha[i] = DH[i-1][1]\n",
        "    d[i] = DH[i-1][2]\n",
        "    theta[i] = DH[i-1][3]\n",
        "  \n",
        "  A = [0]*(n+1)\n",
        "  for i in range(1,n+1):\n",
        "    A[i] = [[np.cos(theta[i]),-np.sin(theta[i])*np.cos(alpha[i]),np.sin(theta[i])*np.sin(alpha[i]),a[i]*np.cos(theta[i])],[np.sin(theta[i]),np.cos(theta[i])*np.cos(alpha[i]),-np.cos(theta[i])*np.sin(alpha[i]),a[i]*np.sin(theta[i])],[0,np.sin(alpha[i]),np.cos(alpha[i]),d[i]],[0,0,0,1]]\n",
        "\n",
        "  T = [0]*(n+1)#intermediate transformation matrices\n",
        "\n",
        "  #for the final transformation matrix, we multiply all the matrices\n",
        "  T[1] = A[1]\n",
        "  T_final = np.matmul(A[1],A[2])\n",
        "  T[2] = T_final\n",
        "  for i in range(3,n+1):\n",
        "    T_final = np.matmul(T_final,A[i]) \n",
        "    T[i] = T_final\n",
        "\n",
        "  #the final transformation matrix is stored in T_final\n",
        "  pn = [0,0,d[n],1]\n",
        "  po = np.matmul(T_final,pn)\n",
        "\n",
        "  #end effector position:\n",
        "  po = [po[0],po[1],po[2]]\n",
        "\n",
        "  #to find manipulator jacobian\n",
        "\n",
        "  J = [[0]*n]*6\n",
        "  \n",
        "  o = [0]*(n+1) #joint positions\n",
        "  o[0] = [0,0,0]\n",
        "  o[0] = np.array(o[0])\n",
        "  for i in range(1,n+1):\n",
        "    o[i] = [T[i][0][3],T[i][1][3],T[i][2][3]]\n",
        "    o[i] = np.array(o[i])\n",
        "  #print(o)\n",
        "  \n",
        "  z = [0]*(n+1) #coordinates of z axis\n",
        "  z[0] = [0,0,1]\n",
        "  z[0] = np.array(z[0])\n",
        "  for i in range(1,n+1):\n",
        "    z[i] = [T[i][0][2],T[i][1][2],T[i][2][2]]\n",
        "    z[i] = np.array(z[i])\n",
        "  #print(z)\n",
        "\n",
        "  for i in range(1,n+1):#i defines column number and joint number\n",
        "    if t[i-1]==0:#revolute joint\n",
        "      Jv = np.cross(z[i],(o[n]-o[i]))\n",
        "      J[0][i-1] = Jv[0]\n",
        "      J[1][i-1] = Jv[1]\n",
        "      J[2][i-1] = Jv[2]\n",
        "\n",
        "      J[3][i-1] = z[i-1][0]\n",
        "      J[4][i-1] = z[i-1][1]\n",
        "      J[5][i-1] = z[i-1][2]\n",
        "\n",
        "    if t[i-1]==1: #prismatic joint\n",
        "      J[0][i-1] = z[i-1][0]\n",
        "      J[1][i-1] = z[i-1][1]\n",
        "      J[2][i-1] = z[i-1][2]\n",
        "\n",
        "      J[3][i-1] = 0\n",
        "      J[4][i-1] = 0\n",
        "      J[5][i-1] = 0\n",
        "\n",
        "  J = np.asmatrix(J)\n",
        "  return po, J\n",
        "  #J is the final manipulator Jacobian\n",
        "\n",
        "  #The manipulator Jacobian when multiplied by joint velocities, give the end effector velocity\n",
        "\n",
        "#Stanford Manipulator\n",
        "\n",
        "DH = [[0,-np.pi/2,0,np.pi/8],[0,np.pi/2,5,np.pi/5],[0,0,8,0]]\n",
        "t = [0,0,1]\n",
        "\n",
        "dhpara(n,DH,t)"
      ],
      "execution_count": 8,
      "outputs": [
        {
          "name": "stdout",
          "output_type": "stream",
          "text": [
            "3\n"
          ]
        },
        {
          "output_type": "execute_result",
          "data": {
            "text/plain": [
              "([6.775267063854533, 8.218368508010256, 12.94427190999916],\n",
              " matrix([[1.000000e+00, 6.123234e-17, 0.000000e+00],\n",
              "         [1.000000e+00, 6.123234e-17, 0.000000e+00],\n",
              "         [1.000000e+00, 6.123234e-17, 0.000000e+00],\n",
              "         [1.000000e+00, 6.123234e-17, 0.000000e+00],\n",
              "         [1.000000e+00, 6.123234e-17, 0.000000e+00],\n",
              "         [1.000000e+00, 6.123234e-17, 0.000000e+00]]))"
            ]
          },
          "metadata": {},
          "execution_count": 8
        }
      ]
    },
    {
      "cell_type": "code",
      "metadata": {
        "colab": {
          "base_uri": "https://localhost:8080/"
        },
        "id": "X0SqtZAMHk2n",
        "outputId": "e148b97c-6a4f-4965-ec28-71ffdba63330"
      },
      "source": [
        "import numpy as np\n",
        "\n",
        "n = int(input())\n",
        "\n",
        "#SCARA Manipulator\n",
        "\n",
        "DH = [[5,0,0,np.pi/8],[7,np.pi,0,np.pi/5],[0,0,8,0]]\n",
        "t = [0,0,1]\n",
        "\n",
        "dhpara(n,DH,t)"
      ],
      "execution_count": 7,
      "outputs": [
        {
          "name": "stdout",
          "output_type": "stream",
          "text": [
            "3\n"
          ]
        },
        {
          "output_type": "execute_result",
          "data": {
            "text/plain": [
              "([8.276887615568075, 7.881898312304092, -16.0], matrix([[1., 1., 0.],\n",
              "         [1., 1., 0.],\n",
              "         [1., 1., 0.],\n",
              "         [1., 1., 0.],\n",
              "         [1., 1., 0.],\n",
              "         [1., 1., 0.]]))"
            ]
          },
          "metadata": {},
          "execution_count": 7
        }
      ]
    },
    {
      "cell_type": "markdown",
      "metadata": {
        "id": "Sq5NfFLGuR-b"
      },
      "source": [
        "**Task 5**:"
      ]
    },
    {
      "cell_type": "code",
      "metadata": {
        "colab": {
          "base_uri": "https://localhost:8080/"
        },
        "id": "QQYEM0sktkwV",
        "outputId": "07df4693-52f8-4a95-c685-8dacf25479b2"
      },
      "source": [
        "import numpy as np\n",
        "\n",
        "n = int(input())\n",
        "\n",
        "#Problem 3-7\n",
        "\n",
        "DH = [[0,-np.pi/2,5,0],[0,-np.pi/2,5,-np.pi/2],[0,0,8,0]]\n",
        "t = [1,1,1]\n",
        "\n",
        "dhpara(n,DH,t)"
      ],
      "execution_count": 16,
      "outputs": [
        {
          "name": "stdout",
          "output_type": "stream",
          "text": [
            "3\n"
          ]
        },
        {
          "output_type": "execute_result",
          "data": {
            "text/plain": [
              "([16.0, 5.000000000000002, 4.999999999999998], matrix([[0, 0, 0],\n",
              "         [0, 0, 0],\n",
              "         [0, 0, 0],\n",
              "         [0, 0, 0],\n",
              "         [0, 0, 0],\n",
              "         [0, 0, 0]]))"
            ]
          },
          "metadata": {},
          "execution_count": 16
        }
      ]
    },
    {
      "cell_type": "markdown",
      "metadata": {
        "id": "F5IbD7PwuIV2"
      },
      "source": [
        "**Task 6:**"
      ]
    },
    {
      "cell_type": "code",
      "metadata": {
        "colab": {
          "base_uri": "https://localhost:8080/"
        },
        "id": "NWZa0EFItoI1",
        "outputId": "d2dda753-9669-4c57-bc1d-3a8d36596c33"
      },
      "source": [
        "import numpy as np\n",
        "\n",
        "n = int(input())\n",
        "\n",
        "#Problem 3-8\n",
        "\n",
        "DH = [[0,-np.pi/2,5,np.pi/8],[5,0,0,np.pi/5],[8,0,0,np.pi/15],[0,np.pi/2,7,np.pi/5],[0,-np.pi/2,2,np.pi/7],[5,0,0,np.pi/8]]\n",
        "\n",
        "dhpara(n,DH)"
      ],
      "execution_count": 2,
      "outputs": [
        {
          "name": "stdout",
          "output_type": "stream",
          "text": [
            "6\n"
          ]
        },
        {
          "output_type": "execute_result",
          "data": {
            "text/plain": [
              "([5.718429356073633, 12.114815092392693, -8.014168469599326],\n",
              " matrix([[1.00000000e+00, 6.12323400e-17, 6.12323400e-17, 6.12323400e-17,\n",
              "          1.04528463e-01, 4.31506879e-01],\n",
              "         [1.00000000e+00, 6.12323400e-17, 6.12323400e-17, 6.12323400e-17,\n",
              "          1.04528463e-01, 4.31506879e-01],\n",
              "         [1.00000000e+00, 6.12323400e-17, 6.12323400e-17, 6.12323400e-17,\n",
              "          1.04528463e-01, 4.31506879e-01],\n",
              "         [1.00000000e+00, 6.12323400e-17, 6.12323400e-17, 6.12323400e-17,\n",
              "          1.04528463e-01, 4.31506879e-01],\n",
              "         [1.00000000e+00, 6.12323400e-17, 6.12323400e-17, 6.12323400e-17,\n",
              "          1.04528463e-01, 4.31506879e-01],\n",
              "         [1.00000000e+00, 6.12323400e-17, 6.12323400e-17, 6.12323400e-17,\n",
              "          1.04528463e-01, 4.31506879e-01]]))"
            ]
          },
          "metadata": {},
          "execution_count": 2
        }
      ]
    },
    {
      "cell_type": "markdown",
      "metadata": {
        "id": "6TqHUYURt4yW"
      },
      "source": [
        "**Task 11**:\n",
        "\n",
        "Function that takes in D(n*n matrix) and V where both are functions are q1, q2,...qn. The function returns n equations of motion."
      ]
    },
    {
      "cell_type": "code",
      "metadata": {
        "colab": {
          "base_uri": "https://localhost:8080/"
        },
        "id": "LxD_Nqs7tuwW",
        "outputId": "2b2d5ec9-4ee4-43cd-9a03-e0c38492e0ff"
      },
      "source": [
        "import sympy as sp\n",
        "import numpy as np\n",
        "\n",
        "def dyn(n,D,V):\n",
        "\n",
        "  phi = [0]*n\n",
        "  c = [[[0]*n]*n]*n\n",
        "\n",
        "  #calculating Christoffer symbols\n",
        "  for k in range(n):\n",
        "    for j in range(n):\n",
        "      for i in range(n):\n",
        "        c[i][j][k] = 0.5*(sp.diff(D[k][j],q[i])+sp.diff(D[k][i],q[j])-sp.diff(D[i][j],q[k]))\n",
        "        \n",
        "  tau = [0]*n #torque for each link\n",
        "\n",
        "  d = 0\n",
        "  ct = 0\n",
        "  for k in range(n): #corresponds to each link\n",
        "\n",
        "    phi[k] = sp.diff(V,q[k])\n",
        "\n",
        "    for j in range(n):\n",
        "      d = d + D[k][j] * qddot[j]\n",
        "      \n",
        "      for i in range(n):\n",
        "        ct = ct + c[i][j][k]*qdot[i]*qdot[j]\n",
        "    tau[k] = d + ct + phi[k]\n",
        "\n",
        "  for i in range(n):\n",
        "    print('tau'+str(i+1)+'='+str(tau[i]))\n",
        "  return(tau)\n",
        "\n",
        "#input number of links\n",
        "n = 2\n",
        "q = []\n",
        "qdot = []\n",
        "qddot = []\n",
        "for i in range(n):\n",
        "  q.append(sp.symbols('q'+str(i+1)))\n",
        "  qdot.append(sp.symbols('q\"'+str(i+1)))\n",
        "  qddot.append(sp.symbols('q\"\"'+str(i+1)))\n",
        "\n",
        "#The inputs are given as functions of q1, q2,...qn. Here, qi is written as q[i-1]\n",
        "D = [[5,5*sp.cos(q[2-1]-q[1-1])],[10*sp.cos(q[2-1]-q[1-1]),10]]\n",
        "V = 10*sp.sin(q[1-1]) + 15*(5*sp.sin(q[1-1])+2.5*sp.sin(q[2-1]))\n",
        "\n",
        "dyn(n,D,V)"
      ],
      "execution_count": 6,
      "outputs": [
        {
          "output_type": "stream",
          "name": "stdout",
          "text": [
            "tau1=5*q\"\"1 + 5*q\"\"2*cos(q1 - q2) + 5.0*q\"1**2*sin(q1 - q2) + 10.0*q\"1*q\"2*sin(q1 - q2) + 5.0*q\"2**2*sin(q1 - q2) + 85*cos(q1)\n",
            "tau2=10*q\"\"1*cos(q1 - q2) + 5*q\"\"1 + 5*q\"\"2*cos(q1 - q2) + 10*q\"\"2 + 5.0*q\"1**2*sin(q1 - q2) + 10.0*q\"1*q\"2*sin(q1 - q2) + 5.0*q\"2**2*sin(q1 - q2) + 37.5*cos(q2)\n"
          ]
        },
        {
          "output_type": "execute_result",
          "data": {
            "text/plain": [
              "[5*q\"\"1 + 5*q\"\"2*cos(q1 - q2) + 5.0*q\"1**2*sin(q1 - q2) + 10.0*q\"1*q\"2*sin(q1 - q2) + 5.0*q\"2**2*sin(q1 - q2) + 85*cos(q1),\n",
              " 10*q\"\"1*cos(q1 - q2) + 5*q\"\"1 + 5*q\"\"2*cos(q1 - q2) + 10*q\"\"2 + 5.0*q\"1**2*sin(q1 - q2) + 10.0*q\"1*q\"2*sin(q1 - q2) + 5.0*q\"2**2*sin(q1 - q2) + 37.5*cos(q2)]"
            ]
          },
          "metadata": {},
          "execution_count": 6
        }
      ]
    }
  ]
}