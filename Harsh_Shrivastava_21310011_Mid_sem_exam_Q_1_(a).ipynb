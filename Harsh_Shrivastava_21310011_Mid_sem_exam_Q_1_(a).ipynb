{
  "nbformat": 4,
  "nbformat_minor": 0,
  "metadata": {
    "colab": {
      "name": "Harsh Shrivastava-21310011-Mid sem exam- Q-1 (a)",
      "provenance": [],
      "collapsed_sections": []
    },
    "kernelspec": {
      "name": "python3",
      "display_name": "Python 3"
    },
    "language_info": {
      "name": "python"
    }
  },
  "cells": [
    {
      "cell_type": "code",
      "metadata": {
        "id": "wZ8zOqVvxARm"
      },
      "source": [
        "import numpy as np\n",
        "import math"
      ],
      "execution_count": null,
      "outputs": []
    },
    {
      "cell_type": "code",
      "metadata": {
        "id": "p0tPjrKE0TVK"
      },
      "source": [
        "# scara\n",
        "def scara_invkin(x,y,z,d1,d2):\n",
        "    # using formulae from the textbook\n",
        "    r = abs((x**2+y**2-d1**2-d2**2)/(2*d1*d2))\n",
        "    theta2 = np.arctan(np.sqrt(abs(1-r**2))/r)\n",
        "    theta1 = np.arctan(y/x) - np.arctan((d2*np.sin(theta2))/(d1+d2*np.cos(theta2)))\n",
        "    d3 = -z\n",
        "    # converting from radians to degrees\n",
        "    theta1_deg = theta1*180/np.pi\n",
        "    theta2_deg = theta2*180/np.pi\n",
        "    print(f\"theta1 = {theta1_deg} deg\")\n",
        "    print(f\"theta2 = {theta2_deg} deg\")\n",
        "    return theta1, theta2"
      ],
      "execution_count": null,
      "outputs": []
    },
    {
      "cell_type": "code",
      "metadata": {
        "id": "3-COC2sh0SxB"
      },
      "source": [
        "# standford\n",
        "def inverse_kinematics(endeffector_position,lengthsoflinks):\n",
        "    theta1 = np.arctan(endeffector_position[1]/endeffector_position[0])\n",
        "    r = np.sqrt(endeffector_position[0]**2 + endeffector_position[1]**2)\n",
        "    s = endeffector_position[2] - lengthsoflinks[0]\n",
        "    theta2 = np.arctan(s/r)\n",
        "    d3 = np.sqrt(r**2 + s**2) - lengthsoflinks[1]\n",
        "    print(\"First Solution: \\n\", \"Theta1 = \", theta1, \"\\n Theta2 =\", theta2,\"\\n Extension: \", d3, \"\\n\")\n",
        "    print(\"Second Solution: \\n\", \"Theta1 = \", np.pi + theta1, \"\\n Theta2 =\", np.pi - theta2,\"\\n Extension:\", d3)\n",
        "    return theta1, theta2,d3"
      ],
      "execution_count": null,
      "outputs": []
    },
    {
      "cell_type": "code",
      "metadata": {
        "id": "hFeTXQ2435oQ"
      },
      "source": [
        "# Link Parameters:    [a, alpha, d, theta]\n",
        "# For Multiple Links: [[a, alpha, d, theta]\n",
        "#                      [a, alpha, d, theta]\n",
        "#                      [a, alpha, d, theta]]\n",
        "\n",
        "def atransformation(LinkParameters):\n",
        "    a = LinkParameters[0]\n",
        "    d = LinkParameters[2]\n",
        "    alpha = LinkParameters[1]\n",
        "    theta = LinkParameters[3]\n",
        "    A = np.array([[[np.cos(theta), -np.sin(theta) * np.cos(alpha), np.sin(theta) * np.sin(alpha), a * np.cos(theta)],\n",
        "                   [np.sin(theta), np.cos(theta) * np.cos(alpha), -np.cos(theta) * np.sin(alpha), a * np.sin(theta)],\n",
        "                   [0, np.sin(alpha), np.cos(alpha), d],\n",
        "                   [0, 0, 0, 1]]])\n",
        "    return (A)\n",
        "\n",
        "\n",
        "# Homogenous Matrices Forward Kinematics from DH\n",
        "def forward_kinematics_homogenous_matrix(DH):\n",
        "    A = np.identity(4)\n",
        "    n = np.shape(DH)[0]\n",
        "\n",
        "    for i in range(n):\n",
        "        Anext = atransformation(DH[i])\n",
        "        A = np.matmul(A,Anext)\n",
        "\n",
        "    return A\n"
      ],
      "execution_count": null,
      "outputs": []
    },
    {
      "cell_type": "markdown",
      "metadata": {
        "id": "rreczA6eP45g"
      },
      "source": [
        "##Inverse kinametics and forward kinematics computation for SCARA"
      ]
    },
    {
      "cell_type": "code",
      "metadata": {
        "colab": {
          "base_uri": "https://localhost:8080/"
        },
        "id": "NBv4VF8E0SuE",
        "outputId": "5c074a50-f3dd-4a7a-db39-287a3301c7a0"
      },
      "source": [
        "# joint variables for the block\n",
        "a = (0.45, 0.075, 0.1)\n",
        "b = (0.45, -0.75, 0.1)\n",
        "c = (0.25, -0.075, 0.1)\n",
        "d = (0.25, 0.75, 0.1)\n",
        "\n",
        "# length of the links \n",
        "d1 = 0.25\n",
        "d2 = 0.25\n",
        "\n",
        "# joint angle for point a\n",
        "print(\"joint angles for point A:\")\n",
        "theta1, theta2 = scara_invkin(a[0],a[1],a[2],d1, d2)\n",
        "\n",
        "# DH parameters for joint angles at A\n",
        "# a = 0\n",
        "# d = 0\n",
        "# alpha = 0\n",
        "# theta = np.pi/4\n",
        "# LinkParameters = [a, alpha, d, theta]\n",
        "LinkParameters = [[0.25, np.pi/2, 0, theta1],[0.25, -np.pi/2, 0, theta2]]\n",
        "T = forward_kinematics_homogenous_matrix(LinkParameters)\n",
        "print(\"Final transformation matrix: \")\n",
        "print(T)\n",
        "\n",
        "# joint angle for point b\n",
        "print(\"\\njoint angles for point B:\")\n",
        "theta1, theta2 = scara_invkin(b[0],b[1],b[2],d1, d2)\n",
        "LinkParameters = [[0.25, np.pi/2, 0, theta1],[0.25, -np.pi/2, 0, theta2]]\n",
        "T = forward_kinematics_homogenous_matrix(LinkParameters)\n",
        "print(\"Final transformation matrix: \")\n",
        "print(T)\n",
        "\n",
        "# joint angle for point c\n",
        "print(\"\\njoint angles for point C:\")\n",
        "theta1, theta2 = scara_invkin(c[0],c[1],c[2],d1, d2)\n",
        "LinkParameters = [[0.25, np.pi/2, 0.2, theta1],[0.25, -np.pi/2, 0, theta2]]\n",
        "T = forward_kinematics_homogenous_matrix(LinkParameters)\n",
        "print(\"Final transformation matrix: \")\n",
        "print(T)\n",
        "\n",
        "# joint angle for point d\n",
        "print(\"\\njoint angles for point D:\")\n",
        "theta1, theta2 = scara_invkin(d[0],d[1],d[2],d1, d2)\n",
        "LinkParameters = [[0.25, np.pi/2, 0, theta1],[0.25, -np.pi/2, 0, theta2]]\n",
        "T = forward_kinematics_homogenous_matrix(LinkParameters)\n",
        "print(\"Final transformation matrix: \")\n",
        "print(T)\n",
        "\n"
      ],
      "execution_count": null,
      "outputs": [
        {
          "output_type": "stream",
          "name": "stdout",
          "text": [
            "joint angles for point A:\n",
            "theta1 = -14.696515095304628 deg\n",
            "theta2 = 48.31767460666049 deg\n",
            "Final transformation matrix: \n",
            "[[[ 6.43243318e-01  2.53699112e-01 -7.22409021e-01  4.02631626e-01]\n",
            "  [-1.68709909e-01  9.67283185e-01  1.89473496e-01 -1.05602255e-01]\n",
            "  [ 7.46843357e-01 -2.05128339e-17  6.65000000e-01  1.86710839e-01]\n",
            "  [ 0.00000000e+00  0.00000000e+00  0.00000000e+00  1.00000000e+00]]]\n",
            "\n",
            "joint angles for point B:\n",
            "theta1 = -81.25770600178518 deg\n",
            "theta2 = 44.44292506771737 deg\n",
            "Final transformation matrix: \n",
            "[[[ 1.08513327e-01  9.88381961e-01 -1.06423476e-01  6.51259456e-02]\n",
            "  [-7.05653624e-01  1.51990455e-01  6.92063483e-01 -4.23508896e-01]\n",
            "  [ 7.00198415e-01 -1.75156148e-17  7.13948303e-01  1.75049604e-01]\n",
            "  [ 0.00000000e+00  0.00000000e+00  0.00000000e+00  1.00000000e+00]]]\n",
            "\n",
            "joint angles for point C:\n",
            "theta1 = -48.166777119576935 deg\n",
            "theta2 = 62.93506577116662 deg\n",
            "Final transformation matrix: \n",
            "[[[ 3.03468903e-01  7.45089386e-01 -5.93926284e-01  2.42608381e-01]\n",
            "  [-3.39015671e-01  6.66964621e-01  6.63495719e-01 -2.71026264e-01]\n",
            "  [ 8.90491437e-01 -3.33716253e-17  4.55000000e-01  4.22622859e-01]\n",
            "  [ 0.00000000e+00  0.00000000e+00  0.00000000e+00  1.00000000e+00]]]\n",
            "\n",
            "joint angles for point D:\n",
            "theta1 = 49.52719408838513 deg\n",
            "theta2 = 44.07571417738573 deg\n",
            "Final transformation matrix: \n",
            "[[[ 4.66317914e-01 -7.60714125e-01 -4.51510379e-01  2.78851245e-01]\n",
            "  [ 5.46513161e-01  6.49087066e-01 -5.29159093e-01  3.26806821e-01]\n",
            "  [ 6.95608344e-01 -1.72417283e-17  7.18421208e-01  1.73902086e-01]\n",
            "  [ 0.00000000e+00  0.00000000e+00  0.00000000e+00  1.00000000e+00]]]\n"
          ]
        }
      ]
    },
    {
      "cell_type": "markdown",
      "metadata": {
        "id": "-5Mk1c2jQGse"
      },
      "source": [
        "##Inverse and forward kinematics for Standford"
      ]
    },
    {
      "cell_type": "code",
      "metadata": {
        "colab": {
          "base_uri": "https://localhost:8080/"
        },
        "id": "LAho93mn6AME",
        "outputId": "bf85b792-397a-4243-c45f-d0f73c925b98"
      },
      "source": [
        "# joint variables for the block\n",
        "a = (0.45, 0.075, 0.1)\n",
        "b = (0.45, -0.75, 0.1)\n",
        "c = (0.25, -0.075, 0.1)\n",
        "d = (0.25, 0.75, 0.1)\n",
        "\n",
        "# length of the links \n",
        "length_of_links = (0.25, 0.25)\n",
        "\n",
        "# joint angle for point a\n",
        "print(\"joint angles for point A:\")\n",
        "theta1, theta2, d3 = inverse_kinematics(a,length_of_links)\n",
        "\n",
        "# DH parameters for joint angles at A\n",
        "# a = 0\n",
        "# d = 0\n",
        "# alpha = 0\n",
        "# theta = np.pi/4\n",
        "# LinkParameters = [a, alpha, d, theta]\n",
        "LinkParameters = [[0, -np.pi/2, 0, theta1],[0, -np.pi/2, 0, theta2]]\n",
        "T = forward_kinematics_homogenous_matrix(LinkParameters)\n",
        "print(\"Final transformation matrix: \")\n",
        "print(T)\n",
        "\n",
        "# joint angle for point b\n",
        "print(\"\\njoint angles for point B:\")\n",
        "theta1, theta2, d3 = inverse_kinematics(b,length_of_links)\n",
        "LinkParameters = [[0, np.pi/2, 0.25, theta1],[0, np.pi/2, 0.25, theta2]]\n",
        "T = forward_kinematics_homogenous_matrix(LinkParameters)\n",
        "print(\"Final transformation matrix: \")\n",
        "print(T)\n",
        "\n",
        "# joint angle for point c\n",
        "print(\"\\njoint angles for point C:\")\n",
        "theta1, theta2, d3 = inverse_kinematics(c,length_of_links)\n",
        "LinkParameters = [[0, 0, d3, theta1],[0, 0, d3, theta2]]\n",
        "T = forward_kinematics_homogenous_matrix(LinkParameters)\n",
        "print(\"Final transformation matrix: \")\n",
        "print(T)\n",
        "\n",
        "# joint angle for point d\n",
        "print(\"\\njoint angles for point D:\")\n",
        "theta1, theta2, d3 = inverse_kinematics(d,length_of_links)\n",
        "LinkParameters = [[0, -np.pi/2, 0, theta1],[0, -np.pi/2, 0, theta2]]\n",
        "T = forward_kinematics_homogenous_matrix(LinkParameters)\n",
        "print(\"Final transformation matrix: \")\n",
        "print(T)\n",
        "\n"
      ],
      "execution_count": null,
      "outputs": [
        {
          "output_type": "stream",
          "name": "stdout",
          "text": [
            "joint angles for point A:\n",
            "First Solution: \n",
            " Theta1 =  0.16514867741462683 \n",
            " Theta2 = -0.3176631929822606 \n",
            " Extension:  0.23023431780746362 \n",
            "\n",
            "Second Solution: \n",
            " Theta1 =  3.30674133100442 \n",
            " Theta2 = 3.4592558465720535 \n",
            " Extension: 0.23023431780746362\n",
            "Final transformation matrix: \n",
            "[[[ 9.37042571e-01  1.64398987e-01  3.08097700e-01  0.00000000e+00]\n",
            "  [ 1.56173762e-01 -9.86393924e-01  5.13496166e-02  0.00000000e+00]\n",
            "  [ 3.12347524e-01 -1.19401098e-16 -9.49967907e-01  0.00000000e+00]\n",
            "  [ 0.00000000e+00  0.00000000e+00  0.00000000e+00  1.00000000e+00]]]\n",
            "\n",
            "joint angles for point B:\n",
            "First Solution: \n",
            " Theta1 =  -1.0303768265243125 \n",
            " Theta2 = -0.16984628808367364 \n",
            " Extension:  0.6374119674649424 \n",
            "\n",
            "Second Solution: \n",
            " Theta1 =  2.1112158270654806 \n",
            " Theta2 = 3.3114389416734666 \n",
            " Extension: 0.6374119674649424\n",
            "Final transformation matrix: \n",
            "[[[ 5.07092553e-01 -8.57492926e-01 -8.69656553e-02 -2.14373231e-01]\n",
            "  [-8.45154255e-01 -5.14495755e-01  1.44942759e-01 -1.28623939e-01]\n",
            "  [-1.69030851e-01  1.21583593e-16 -9.85610761e-01  2.50000000e-01]\n",
            "  [ 0.00000000e+00  0.00000000e+00  0.00000000e+00  1.00000000e+00]]]\n",
            "\n",
            "joint angles for point C:\n",
            "First Solution: \n",
            " Theta1 =  -0.2914567944778671 \n",
            " Theta2 = -0.5216056136891403 \n",
            " Extension:  0.051039864469807406 \n",
            "\n",
            "Second Solution: \n",
            " Theta1 =  2.850135859111926 \n",
            " Theta2 = 3.6631982672789336 \n",
            " Extension: 0.051039864469807406\n",
            "Final transformation matrix: \n",
            "[[[ 0.68727714  0.7263953   0.          0.        ]\n",
            "  [-0.7263953   0.68727714  0.          0.        ]\n",
            "  [ 0.          0.          1.          0.10207973]\n",
            "  [ 0.          0.          0.          1.        ]]]\n",
            "\n",
            "joint angles for point D:\n",
            "First Solution: \n",
            " Theta1 =  1.2490457723982544 \n",
            " Theta2 = -0.18750776921226675 \n",
            " Extension:  0.5546738469715541 \n",
            "\n",
            "Second Solution: \n",
            " Theta1 =  4.3906384259880475 \n",
            " Theta2 = 3.32910042280206 \n",
            " Extension: 0.5546738469715541\n",
            "Final transformation matrix: \n",
            "[[[ 3.10684883e-01  9.48683298e-01  5.89483119e-02  0.00000000e+00]\n",
            "  [ 9.32054649e-01 -3.16227766e-01  1.76844936e-01  0.00000000e+00]\n",
            "  [ 1.86410930e-01 -1.21391391e-16 -9.82471865e-01  0.00000000e+00]\n",
            "  [ 0.00000000e+00  0.00000000e+00  0.00000000e+00  1.00000000e+00]]]\n"
          ]
        }
      ]
    },
    {
      "cell_type": "markdown",
      "metadata": {
        "id": "qBukt2hwE5Gx"
      },
      "source": [
        "###Inverse and forward kinematics for PUMA robot"
      ]
    },
    {
      "cell_type": "code",
      "metadata": {
        "id": "s_II00xxE2H_"
      },
      "source": [
        "# inverse kinematics\n",
        "def inverse_kinematics(l1,l2,l3,xc,yc,zc):\n",
        "    theta1 = math.atan2(yc,xc)\n",
        "    D = (xc*xc+yc*yc+(zc-l1)*(zc-l1)-l2*l2-l3*l3)/(2*l2*l3)\n",
        "    if D>=1 or D<=-1:\n",
        "        print(\"singular configuration\")\n",
        "  \n",
        "    if D>1 or D<-1:\n",
        "        print(\"outside workspace\")\n",
        "        \n",
        "    theta3 = (math.atan2((-math.sqrt(1-D*D)),D))\n",
        "    theta2 = math.atan2(zc-l1,(math.sqrt(xc*xc+yc*yc)))-math.atan2((l3*math.sin(theta3)),(l2+l3*math.cos(theta3)))\n",
        "    print(\"Theta1 = \",np.rad2deg(theta1),\"\\nTheta2 = \", np.rad2deg(theta2), \"\\nTheta3 = \", np.rad2deg(theta3))\n",
        "    return theta1,theta2,theta3"
      ],
      "execution_count": null,
      "outputs": []
    },
    {
      "cell_type": "code",
      "metadata": {
        "colab": {
          "base_uri": "https://localhost:8080/"
        },
        "id": "sfyDYaIkQ4Tm",
        "outputId": "b154f0f2-d791-4bbc-db16-da0633aa2636"
      },
      "source": [
        "# joint variables for the block\n",
        "a = (0.45, 0.075, 0.1)\n",
        "b = (0.45, -0.75, 0.1)\n",
        "c = (0.25, -0.075, 0.1)\n",
        "d = (0.25, 0.75, 0.1)\n",
        "\n",
        "l1 = l2 = l3 = 0.25\n",
        "print(\"Inverse Kinematics solution\")\n",
        "print(\"for coordinate A:\")\n",
        "theta1, theta2, theta3 = inverse_kinematics(l1, l2, l3, a[0], a[1], a[2])\n",
        "print(\"\\nforward kinematics solution\")\n",
        "#LinkParameters = [a, alpha, d, theta]\n",
        "LinkParameters = [[0.25, 0, 0, theta1], [0.25, -np.pi/2, 0, theta2], [0, 0, 0, theta3]]\n",
        "T = forward_kinematics_homogenous_matrix(LinkParameters)\n",
        "print(\"Final transformation matrix: \")\n",
        "print(T)\n",
        "\n"
      ],
      "execution_count": null,
      "outputs": [
        {
          "output_type": "stream",
          "name": "stdout",
          "text": [
            "Inverse Kinematics solution\n",
            "for coordinate A:\n",
            "Theta1 =  9.462322208025617 \n",
            "Theta2 =  -2.0367282034521836 \n",
            "Theta3 =  -32.328064122162274\n",
            "\n",
            "forward kinematics solution\n",
            "Final transformation matrix: \n",
            "[[[ 8.37913433e-01  5.30281503e-01 -1.29238563e-01  4.94501864e-01]\n",
            "  [ 1.09206586e-01  6.91124286e-02  9.91613530e-01  7.34093875e-02]\n",
            "  [ 5.34766304e-01 -8.45000000e-01  6.12323400e-17  0.00000000e+00]\n",
            "  [ 0.00000000e+00  0.00000000e+00  0.00000000e+00  1.00000000e+00]]]\n"
          ]
        }
      ]
    },
    {
      "cell_type": "code",
      "metadata": {
        "colab": {
          "base_uri": "https://localhost:8080/",
          "height": 426
        },
        "id": "9ANzevO8HF5C",
        "outputId": "0f64ca12-0a05-4fe9-fb6d-7fe8bf92e26b"
      },
      "source": [
        "print(\"\\nfor coordinate B:\")\n",
        "theta1, theta2, theta3 = inverse_kinematics(l1, l2, l3, b[0], b[1], b[2])\n",
        "print(\"\\nforward kinematics solution\")\n",
        "#LinkParameters = [a, alpha, d, theta]\n",
        "LinkParameters = [[0.25, 0, 0, theta1], [0.25, -np.pi/2, 0, theta2], [0, 0, 0, theta3]]\n",
        "T = forward_kinematics_homogenous_matrix(LinkParameters)\n",
        "print(\"Final transformation matrix: \")\n",
        "print(T)"
      ],
      "execution_count": null,
      "outputs": [
        {
          "output_type": "stream",
          "name": "stdout",
          "text": [
            "\n",
            "for coordinate B:\n",
            "singular configuration\n",
            "outside workspace\n"
          ]
        },
        {
          "output_type": "error",
          "ename": "ValueError",
          "evalue": "ignored",
          "traceback": [
            "\u001b[0;31m---------------------------------------------------------------------------\u001b[0m",
            "\u001b[0;31mValueError\u001b[0m                                Traceback (most recent call last)",
            "\u001b[0;32m<ipython-input-41-9dcb0d9f21d0>\u001b[0m in \u001b[0;36m<module>\u001b[0;34m()\u001b[0m\n\u001b[1;32m      1\u001b[0m \u001b[0mprint\u001b[0m\u001b[0;34m(\u001b[0m\u001b[0;34m\"\\nfor coordinate B:\"\u001b[0m\u001b[0;34m)\u001b[0m\u001b[0;34m\u001b[0m\u001b[0;34m\u001b[0m\u001b[0m\n\u001b[0;32m----> 2\u001b[0;31m \u001b[0mtheta1\u001b[0m\u001b[0;34m,\u001b[0m \u001b[0mtheta2\u001b[0m\u001b[0;34m,\u001b[0m \u001b[0mtheta3\u001b[0m \u001b[0;34m=\u001b[0m \u001b[0minverse_kinematics\u001b[0m\u001b[0;34m(\u001b[0m\u001b[0ml1\u001b[0m\u001b[0;34m,\u001b[0m \u001b[0ml2\u001b[0m\u001b[0;34m,\u001b[0m \u001b[0ml3\u001b[0m\u001b[0;34m,\u001b[0m \u001b[0mb\u001b[0m\u001b[0;34m[\u001b[0m\u001b[0;36m0\u001b[0m\u001b[0;34m]\u001b[0m\u001b[0;34m,\u001b[0m \u001b[0mb\u001b[0m\u001b[0;34m[\u001b[0m\u001b[0;36m1\u001b[0m\u001b[0;34m]\u001b[0m\u001b[0;34m,\u001b[0m \u001b[0mb\u001b[0m\u001b[0;34m[\u001b[0m\u001b[0;36m2\u001b[0m\u001b[0;34m]\u001b[0m\u001b[0;34m)\u001b[0m\u001b[0;34m\u001b[0m\u001b[0;34m\u001b[0m\u001b[0m\n\u001b[0m\u001b[1;32m      3\u001b[0m \u001b[0mprint\u001b[0m\u001b[0;34m(\u001b[0m\u001b[0;34m\"\\nforward kinematics solution\"\u001b[0m\u001b[0;34m)\u001b[0m\u001b[0;34m\u001b[0m\u001b[0;34m\u001b[0m\u001b[0m\n\u001b[1;32m      4\u001b[0m \u001b[0;31m#LinkParameters = [a, alpha, d, theta]\u001b[0m\u001b[0;34m\u001b[0m\u001b[0;34m\u001b[0m\u001b[0;34m\u001b[0m\u001b[0m\n\u001b[1;32m      5\u001b[0m \u001b[0mLinkParameters\u001b[0m \u001b[0;34m=\u001b[0m \u001b[0;34m[\u001b[0m\u001b[0;34m[\u001b[0m\u001b[0;36m0.25\u001b[0m\u001b[0;34m,\u001b[0m \u001b[0;36m0\u001b[0m\u001b[0;34m,\u001b[0m \u001b[0;36m0\u001b[0m\u001b[0;34m,\u001b[0m \u001b[0mtheta1\u001b[0m\u001b[0;34m]\u001b[0m\u001b[0;34m,\u001b[0m \u001b[0;34m[\u001b[0m\u001b[0;36m0.25\u001b[0m\u001b[0;34m,\u001b[0m \u001b[0;34m-\u001b[0m\u001b[0mnp\u001b[0m\u001b[0;34m.\u001b[0m\u001b[0mpi\u001b[0m\u001b[0;34m/\u001b[0m\u001b[0;36m2\u001b[0m\u001b[0;34m,\u001b[0m \u001b[0;36m0\u001b[0m\u001b[0;34m,\u001b[0m \u001b[0mtheta2\u001b[0m\u001b[0;34m]\u001b[0m\u001b[0;34m,\u001b[0m \u001b[0;34m[\u001b[0m\u001b[0;36m0\u001b[0m\u001b[0;34m,\u001b[0m \u001b[0;36m0\u001b[0m\u001b[0;34m,\u001b[0m \u001b[0;36m0\u001b[0m\u001b[0;34m,\u001b[0m \u001b[0mtheta3\u001b[0m\u001b[0;34m]\u001b[0m\u001b[0;34m]\u001b[0m\u001b[0;34m\u001b[0m\u001b[0;34m\u001b[0m\u001b[0m\n",
            "\u001b[0;32m<ipython-input-37-4b2902455fd6>\u001b[0m in \u001b[0;36minverse_kinematics\u001b[0;34m(l1, l2, l3, xc, yc, zc)\u001b[0m\n\u001b[1;32m      9\u001b[0m         \u001b[0mprint\u001b[0m\u001b[0;34m(\u001b[0m\u001b[0;34m\"outside workspace\"\u001b[0m\u001b[0;34m)\u001b[0m\u001b[0;34m\u001b[0m\u001b[0;34m\u001b[0m\u001b[0m\n\u001b[1;32m     10\u001b[0m \u001b[0;34m\u001b[0m\u001b[0m\n\u001b[0;32m---> 11\u001b[0;31m     \u001b[0mtheta3\u001b[0m \u001b[0;34m=\u001b[0m \u001b[0;34m(\u001b[0m\u001b[0mmath\u001b[0m\u001b[0;34m.\u001b[0m\u001b[0matan2\u001b[0m\u001b[0;34m(\u001b[0m\u001b[0;34m(\u001b[0m\u001b[0;34m-\u001b[0m\u001b[0mmath\u001b[0m\u001b[0;34m.\u001b[0m\u001b[0msqrt\u001b[0m\u001b[0;34m(\u001b[0m\u001b[0;36m1\u001b[0m\u001b[0;34m-\u001b[0m\u001b[0mD\u001b[0m\u001b[0;34m*\u001b[0m\u001b[0mD\u001b[0m\u001b[0;34m)\u001b[0m\u001b[0;34m)\u001b[0m\u001b[0;34m,\u001b[0m\u001b[0mD\u001b[0m\u001b[0;34m)\u001b[0m\u001b[0;34m)\u001b[0m\u001b[0;34m\u001b[0m\u001b[0;34m\u001b[0m\u001b[0m\n\u001b[0m\u001b[1;32m     12\u001b[0m     \u001b[0mtheta2\u001b[0m \u001b[0;34m=\u001b[0m \u001b[0mmath\u001b[0m\u001b[0;34m.\u001b[0m\u001b[0matan2\u001b[0m\u001b[0;34m(\u001b[0m\u001b[0mzc\u001b[0m\u001b[0;34m-\u001b[0m\u001b[0ml1\u001b[0m\u001b[0;34m,\u001b[0m\u001b[0;34m(\u001b[0m\u001b[0mmath\u001b[0m\u001b[0;34m.\u001b[0m\u001b[0msqrt\u001b[0m\u001b[0;34m(\u001b[0m\u001b[0mxc\u001b[0m\u001b[0;34m*\u001b[0m\u001b[0mxc\u001b[0m\u001b[0;34m+\u001b[0m\u001b[0myc\u001b[0m\u001b[0;34m*\u001b[0m\u001b[0myc\u001b[0m\u001b[0;34m)\u001b[0m\u001b[0;34m)\u001b[0m\u001b[0;34m)\u001b[0m\u001b[0;34m-\u001b[0m\u001b[0mmath\u001b[0m\u001b[0;34m.\u001b[0m\u001b[0matan2\u001b[0m\u001b[0;34m(\u001b[0m\u001b[0;34m(\u001b[0m\u001b[0ml3\u001b[0m\u001b[0;34m*\u001b[0m\u001b[0mmath\u001b[0m\u001b[0;34m.\u001b[0m\u001b[0msin\u001b[0m\u001b[0;34m(\u001b[0m\u001b[0mtheta3\u001b[0m\u001b[0;34m)\u001b[0m\u001b[0;34m)\u001b[0m\u001b[0;34m,\u001b[0m\u001b[0;34m(\u001b[0m\u001b[0ml2\u001b[0m\u001b[0;34m+\u001b[0m\u001b[0ml3\u001b[0m\u001b[0;34m*\u001b[0m\u001b[0mmath\u001b[0m\u001b[0;34m.\u001b[0m\u001b[0mcos\u001b[0m\u001b[0;34m(\u001b[0m\u001b[0mtheta3\u001b[0m\u001b[0;34m)\u001b[0m\u001b[0;34m)\u001b[0m\u001b[0;34m)\u001b[0m\u001b[0;34m\u001b[0m\u001b[0;34m\u001b[0m\u001b[0m\n\u001b[1;32m     13\u001b[0m     \u001b[0mprint\u001b[0m\u001b[0;34m(\u001b[0m\u001b[0;34m\"Theta1 = \"\u001b[0m\u001b[0;34m,\u001b[0m\u001b[0mnp\u001b[0m\u001b[0;34m.\u001b[0m\u001b[0mrad2deg\u001b[0m\u001b[0;34m(\u001b[0m\u001b[0mtheta1\u001b[0m\u001b[0;34m)\u001b[0m\u001b[0;34m,\u001b[0m\u001b[0;34m\"\\nTheta2 = \"\u001b[0m\u001b[0;34m,\u001b[0m \u001b[0mnp\u001b[0m\u001b[0;34m.\u001b[0m\u001b[0mrad2deg\u001b[0m\u001b[0;34m(\u001b[0m\u001b[0mtheta2\u001b[0m\u001b[0;34m)\u001b[0m\u001b[0;34m,\u001b[0m \u001b[0;34m\"\\nTheta3 = \"\u001b[0m\u001b[0;34m,\u001b[0m \u001b[0mnp\u001b[0m\u001b[0;34m.\u001b[0m\u001b[0mrad2deg\u001b[0m\u001b[0;34m(\u001b[0m\u001b[0mtheta3\u001b[0m\u001b[0;34m)\u001b[0m\u001b[0;34m)\u001b[0m\u001b[0;34m\u001b[0m\u001b[0;34m\u001b[0m\u001b[0m\n",
            "\u001b[0;31mValueError\u001b[0m: math domain error"
          ]
        }
      ]
    },
    {
      "cell_type": "code",
      "metadata": {
        "colab": {
          "base_uri": "https://localhost:8080/"
        },
        "id": "WhTwx9TZNCwk",
        "outputId": "28fffd9f-b0e5-4a8f-ab52-9d656bf17f67"
      },
      "source": [
        "print(\"\\nfor coordinate C:\")\n",
        "theta1, theta2, theta3 = inverse_kinematics(l1, l2, l3, c[0], c[1], c[2])\n",
        "print(\"\\nforward kinematics solution\")\n",
        "#LinkParameters = [a, alpha, d, theta]\n",
        "LinkParameters = [[0.25, 0, 0, theta1], [0.25, -np.pi/2, 0, theta2], [0, 0, 0, theta3]]\n",
        "T = forward_kinematics_homogenous_matrix(LinkParameters)\n",
        "print(\"Final transformation matrix: \")\n",
        "print(T)"
      ],
      "execution_count": null,
      "outputs": [
        {
          "output_type": "stream",
          "name": "stdout",
          "text": [
            "\n",
            "for coordinate C:\n",
            "Theta1 =  -16.69924423399362 \n",
            "Theta2 =  23.09520684670464 \n",
            "Theta3 =  -105.96201416284724\n",
            "\n",
            "forward kinematics solution\n",
            "Final transformation matrix: \n",
            "[[[-2.73288337e-01  9.55459978e-01 -1.11398905e-01  4.87900514e-01]\n",
            "  [-3.06346990e-02  1.07103834e-01  9.93775771e-01 -4.39872450e-02]\n",
            "  [ 9.61444226e-01  2.75000000e-01  6.12323400e-17  0.00000000e+00]\n",
            "  [ 0.00000000e+00  0.00000000e+00  0.00000000e+00  1.00000000e+00]]]\n"
          ]
        }
      ]
    },
    {
      "cell_type": "code",
      "metadata": {
        "colab": {
          "base_uri": "https://localhost:8080/",
          "height": 426
        },
        "id": "aTHdOzF-NKNl",
        "outputId": "c933d4e9-41d1-48d3-ad7c-5f61d507d65a"
      },
      "source": [
        "print(\"\\nfor coordinate D:\")\n",
        "theta1, theta2, theta3 = inverse_kinematics(l1, l2, l3, d[0], d[1], d[2])\n",
        "print(\"\\nforward kinematics solution\")\n",
        "#LinkParameters = [a, alpha, d, theta]\n",
        "LinkParameters = [[0.25, 0, 0, theta1], [0.25, -np.pi/2, 0, theta2], [0, 0, 0, theta3]]\n",
        "T = forward_kinematics_homogenous_matrix(LinkParameters)\n",
        "print(\"Final transformation matrix: \")\n",
        "print(T)\n"
      ],
      "execution_count": null,
      "outputs": [
        {
          "output_type": "stream",
          "name": "stdout",
          "text": [
            "\n",
            "for coordinate D:\n",
            "singular configuration\n",
            "outside workspace\n"
          ]
        },
        {
          "output_type": "error",
          "ename": "ValueError",
          "evalue": "ignored",
          "traceback": [
            "\u001b[0;31m---------------------------------------------------------------------------\u001b[0m",
            "\u001b[0;31mValueError\u001b[0m                                Traceback (most recent call last)",
            "\u001b[0;32m<ipython-input-39-f48c11636a22>\u001b[0m in \u001b[0;36m<module>\u001b[0;34m()\u001b[0m\n\u001b[1;32m      1\u001b[0m \u001b[0mprint\u001b[0m\u001b[0;34m(\u001b[0m\u001b[0;34m\"\\nfor coordinate D:\"\u001b[0m\u001b[0;34m)\u001b[0m\u001b[0;34m\u001b[0m\u001b[0;34m\u001b[0m\u001b[0m\n\u001b[0;32m----> 2\u001b[0;31m \u001b[0mtheta1\u001b[0m\u001b[0;34m,\u001b[0m \u001b[0mtheta2\u001b[0m\u001b[0;34m,\u001b[0m \u001b[0mtheta3\u001b[0m \u001b[0;34m=\u001b[0m \u001b[0minverse_kinematics\u001b[0m\u001b[0;34m(\u001b[0m\u001b[0ml1\u001b[0m\u001b[0;34m,\u001b[0m \u001b[0ml2\u001b[0m\u001b[0;34m,\u001b[0m \u001b[0ml3\u001b[0m\u001b[0;34m,\u001b[0m \u001b[0md\u001b[0m\u001b[0;34m[\u001b[0m\u001b[0;36m0\u001b[0m\u001b[0;34m]\u001b[0m\u001b[0;34m,\u001b[0m \u001b[0md\u001b[0m\u001b[0;34m[\u001b[0m\u001b[0;36m1\u001b[0m\u001b[0;34m]\u001b[0m\u001b[0;34m,\u001b[0m \u001b[0md\u001b[0m\u001b[0;34m[\u001b[0m\u001b[0;36m2\u001b[0m\u001b[0;34m]\u001b[0m\u001b[0;34m)\u001b[0m\u001b[0;34m\u001b[0m\u001b[0;34m\u001b[0m\u001b[0m\n\u001b[0m\u001b[1;32m      3\u001b[0m \u001b[0mprint\u001b[0m\u001b[0;34m(\u001b[0m\u001b[0;34m\"\\nforward kinematics solution\"\u001b[0m\u001b[0;34m)\u001b[0m\u001b[0;34m\u001b[0m\u001b[0;34m\u001b[0m\u001b[0m\n\u001b[1;32m      4\u001b[0m \u001b[0;31m#LinkParameters = [a, alpha, d, theta]\u001b[0m\u001b[0;34m\u001b[0m\u001b[0;34m\u001b[0m\u001b[0;34m\u001b[0m\u001b[0m\n\u001b[1;32m      5\u001b[0m \u001b[0mLinkParameters\u001b[0m \u001b[0;34m=\u001b[0m \u001b[0;34m[\u001b[0m\u001b[0;34m[\u001b[0m\u001b[0;36m0.25\u001b[0m\u001b[0;34m,\u001b[0m \u001b[0;36m0\u001b[0m\u001b[0;34m,\u001b[0m \u001b[0;36m0\u001b[0m\u001b[0;34m,\u001b[0m \u001b[0mtheta1\u001b[0m\u001b[0;34m]\u001b[0m\u001b[0;34m,\u001b[0m \u001b[0;34m[\u001b[0m\u001b[0;36m0.25\u001b[0m\u001b[0;34m,\u001b[0m \u001b[0;34m-\u001b[0m\u001b[0mnp\u001b[0m\u001b[0;34m.\u001b[0m\u001b[0mpi\u001b[0m\u001b[0;34m/\u001b[0m\u001b[0;36m2\u001b[0m\u001b[0;34m,\u001b[0m \u001b[0;36m0\u001b[0m\u001b[0;34m,\u001b[0m \u001b[0mtheta2\u001b[0m\u001b[0;34m]\u001b[0m\u001b[0;34m,\u001b[0m \u001b[0;34m[\u001b[0m\u001b[0;36m0\u001b[0m\u001b[0;34m,\u001b[0m \u001b[0;36m0\u001b[0m\u001b[0;34m,\u001b[0m \u001b[0;36m0\u001b[0m\u001b[0;34m,\u001b[0m \u001b[0mtheta3\u001b[0m\u001b[0;34m]\u001b[0m\u001b[0;34m]\u001b[0m\u001b[0;34m\u001b[0m\u001b[0;34m\u001b[0m\u001b[0m\n",
            "\u001b[0;32m<ipython-input-37-4b2902455fd6>\u001b[0m in \u001b[0;36minverse_kinematics\u001b[0;34m(l1, l2, l3, xc, yc, zc)\u001b[0m\n\u001b[1;32m      9\u001b[0m         \u001b[0mprint\u001b[0m\u001b[0;34m(\u001b[0m\u001b[0;34m\"outside workspace\"\u001b[0m\u001b[0;34m)\u001b[0m\u001b[0;34m\u001b[0m\u001b[0;34m\u001b[0m\u001b[0m\n\u001b[1;32m     10\u001b[0m \u001b[0;34m\u001b[0m\u001b[0m\n\u001b[0;32m---> 11\u001b[0;31m     \u001b[0mtheta3\u001b[0m \u001b[0;34m=\u001b[0m \u001b[0;34m(\u001b[0m\u001b[0mmath\u001b[0m\u001b[0;34m.\u001b[0m\u001b[0matan2\u001b[0m\u001b[0;34m(\u001b[0m\u001b[0;34m(\u001b[0m\u001b[0;34m-\u001b[0m\u001b[0mmath\u001b[0m\u001b[0;34m.\u001b[0m\u001b[0msqrt\u001b[0m\u001b[0;34m(\u001b[0m\u001b[0;36m1\u001b[0m\u001b[0;34m-\u001b[0m\u001b[0mD\u001b[0m\u001b[0;34m*\u001b[0m\u001b[0mD\u001b[0m\u001b[0;34m)\u001b[0m\u001b[0;34m)\u001b[0m\u001b[0;34m,\u001b[0m\u001b[0mD\u001b[0m\u001b[0;34m)\u001b[0m\u001b[0;34m)\u001b[0m\u001b[0;34m\u001b[0m\u001b[0;34m\u001b[0m\u001b[0m\n\u001b[0m\u001b[1;32m     12\u001b[0m     \u001b[0mtheta2\u001b[0m \u001b[0;34m=\u001b[0m \u001b[0mmath\u001b[0m\u001b[0;34m.\u001b[0m\u001b[0matan2\u001b[0m\u001b[0;34m(\u001b[0m\u001b[0mzc\u001b[0m\u001b[0;34m-\u001b[0m\u001b[0ml1\u001b[0m\u001b[0;34m,\u001b[0m\u001b[0;34m(\u001b[0m\u001b[0mmath\u001b[0m\u001b[0;34m.\u001b[0m\u001b[0msqrt\u001b[0m\u001b[0;34m(\u001b[0m\u001b[0mxc\u001b[0m\u001b[0;34m*\u001b[0m\u001b[0mxc\u001b[0m\u001b[0;34m+\u001b[0m\u001b[0myc\u001b[0m\u001b[0;34m*\u001b[0m\u001b[0myc\u001b[0m\u001b[0;34m)\u001b[0m\u001b[0;34m)\u001b[0m\u001b[0;34m)\u001b[0m\u001b[0;34m-\u001b[0m\u001b[0mmath\u001b[0m\u001b[0;34m.\u001b[0m\u001b[0matan2\u001b[0m\u001b[0;34m(\u001b[0m\u001b[0;34m(\u001b[0m\u001b[0ml3\u001b[0m\u001b[0;34m*\u001b[0m\u001b[0mmath\u001b[0m\u001b[0;34m.\u001b[0m\u001b[0msin\u001b[0m\u001b[0;34m(\u001b[0m\u001b[0mtheta3\u001b[0m\u001b[0;34m)\u001b[0m\u001b[0;34m)\u001b[0m\u001b[0;34m,\u001b[0m\u001b[0;34m(\u001b[0m\u001b[0ml2\u001b[0m\u001b[0;34m+\u001b[0m\u001b[0ml3\u001b[0m\u001b[0;34m*\u001b[0m\u001b[0mmath\u001b[0m\u001b[0;34m.\u001b[0m\u001b[0mcos\u001b[0m\u001b[0;34m(\u001b[0m\u001b[0mtheta3\u001b[0m\u001b[0;34m)\u001b[0m\u001b[0;34m)\u001b[0m\u001b[0;34m)\u001b[0m\u001b[0;34m\u001b[0m\u001b[0;34m\u001b[0m\u001b[0m\n\u001b[1;32m     13\u001b[0m     \u001b[0mprint\u001b[0m\u001b[0;34m(\u001b[0m\u001b[0;34m\"Theta1 = \"\u001b[0m\u001b[0;34m,\u001b[0m\u001b[0mnp\u001b[0m\u001b[0;34m.\u001b[0m\u001b[0mrad2deg\u001b[0m\u001b[0;34m(\u001b[0m\u001b[0mtheta1\u001b[0m\u001b[0;34m)\u001b[0m\u001b[0;34m,\u001b[0m\u001b[0;34m\"\\nTheta2 = \"\u001b[0m\u001b[0;34m,\u001b[0m \u001b[0mnp\u001b[0m\u001b[0;34m.\u001b[0m\u001b[0mrad2deg\u001b[0m\u001b[0;34m(\u001b[0m\u001b[0mtheta2\u001b[0m\u001b[0;34m)\u001b[0m\u001b[0;34m,\u001b[0m \u001b[0;34m\"\\nTheta3 = \"\u001b[0m\u001b[0;34m,\u001b[0m \u001b[0mnp\u001b[0m\u001b[0;34m.\u001b[0m\u001b[0mrad2deg\u001b[0m\u001b[0;34m(\u001b[0m\u001b[0mtheta3\u001b[0m\u001b[0;34m)\u001b[0m\u001b[0;34m)\u001b[0m\u001b[0;34m\u001b[0m\u001b[0;34m\u001b[0m\u001b[0m\n",
            "\u001b[0;31mValueError\u001b[0m: math domain error"
          ]
        }
      ]
    },
    {
      "cell_type": "code",
      "metadata": {
        "id": "tRkJa7chNNWO"
      },
      "source": [
        ""
      ],
      "execution_count": null,
      "outputs": []
    }
  ]
}