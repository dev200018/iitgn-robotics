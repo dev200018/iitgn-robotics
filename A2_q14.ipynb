{
 "cells": [
  {
   "cell_type": "code",
   "execution_count": 1,
   "metadata": {},
   "outputs": [],
   "source": [
    "import numpy as np"
   ]
  },
  {
   "cell_type": "markdown",
   "metadata": {},
   "source": [
    "Change the below joint variables to get the entire Jacobian matrix."
   ]
  },
  {
   "cell_type": "code",
   "execution_count": 2,
   "metadata": {},
   "outputs": [],
   "source": [
    "l1=1\n",
    "l2=1\n",
    "l3=1\n",
    "\n",
    "q1=0\n",
    "q2=0\n",
    "q3=0"
   ]
  },
  {
   "cell_type": "markdown",
   "metadata": {},
   "source": [
    "The code below is doing all the calculations!"
   ]
  },
  {
   "cell_type": "code",
   "execution_count": 4,
   "metadata": {},
   "outputs": [
    {
     "name": "stdout",
     "output_type": "stream",
     "text": [
      "[[0. 0. 0.]\n",
      " [3. 2. 1.]\n",
      " [0. 0. 0.]\n",
      " [0. 0. 0.]\n",
      " [0. 0. 0.]\n",
      " [1. 1. 1.]]\n"
     ]
    }
   ],
   "source": [
    "O0=np.array([[0],\n",
    "             [0],\n",
    "             [0]])\n",
    "\n",
    "R01=np.array([[np.cos(q1), -np.sin(q1), 0],\n",
    "              [np.sin(q1), np.cos(q1), 0],\n",
    "              [0, 0, 1]])\n",
    "d01=np.array([[0],\n",
    "             [0],\n",
    "             [0]])\n",
    "R12=np.array([[np.cos(q2), -np.sin(q2), 0],\n",
    "              [np.sin(q2), np.cos(q2), 0],\n",
    "              [0, 0, 1]])\n",
    "d12=np.array([[l1],\n",
    "             [0],\n",
    "             [0]])\n",
    "R23=np.array([[np.cos(q3), -np.sin(q3), 0],\n",
    "              [np.sin(q3), np.cos(q3), 0],\n",
    "              [0, 0, 1]])\n",
    "d23=np.array([[l2],\n",
    "             [0],\n",
    "             [0]])\n",
    "\n",
    "lastrow=np.array([[0,0,0,1]])\n",
    "\n",
    "temp=np.concatenate((R01,d01),axis=1)\n",
    "H01=np.concatenate((temp,lastrow),axis=0)\n",
    "\n",
    "temp=np.concatenate((R12,d12),axis=1)\n",
    "H12=np.concatenate((temp,lastrow),axis=0)\n",
    "\n",
    "temp=np.concatenate((R23,d23),axis=1)\n",
    "H23=np.concatenate((temp,lastrow),axis=0)\n",
    "\n",
    "p1=np.array([[l1],\n",
    "             [0],\n",
    "             [0],\n",
    "             [1]])\n",
    "p2=np.array([[l2],\n",
    "             [0],\n",
    "             [0],\n",
    "             [1]])\n",
    "p3=np.array([[l3],\n",
    "             [0],\n",
    "             [0],\n",
    "             [1]])\n",
    "O1=(H01@p1)[:-1]\n",
    "O2=(H01@H12@p2)[:-1]\n",
    "O3=(H01@H12@H23@p3)[:-1]\n",
    "\n",
    "z0=np.array([[0],\n",
    "             [0],\n",
    "             [1]])\n",
    "z1=R01@z0\n",
    "z2=R12@z1\n",
    "\n",
    "j1=np.cross(z0.T,(O3-O0).T)\n",
    "j2=np.cross(z1.T,(O3-O1).T)\n",
    "j3=np.cross(z2.T,(O3-O2).T)\n",
    "jv=np.concatenate((j1.T,j2.T,j3.T),axis=1)\n",
    "jw=np.concatenate((z0,z1,z2),axis=1)\n",
    "# jw=np.concatenate((np.concatenate((z0,[[0]]),axis=0),np.concatenate((z1,[[0]]),axis=0),np.concatenate((z2,[[0]]),axis=0)),axis=1)\n",
    "j=np.concatenate((jv,jw),axis=0)\n",
    "print(j)"
   ]
  }
 ],
 "metadata": {
  "kernelspec": {
   "display_name": "Python 3",
   "language": "python",
   "name": "python3"
  },
  "language_info": {
   "codemirror_mode": {
    "name": "ipython",
    "version": 3
   },
   "file_extension": ".py",
   "mimetype": "text/x-python",
   "name": "python",
   "nbconvert_exporter": "python",
   "pygments_lexer": "ipython3",
   "version": "3.8.10"
  }
 },
 "nbformat": 4,
 "nbformat_minor": 4
}
